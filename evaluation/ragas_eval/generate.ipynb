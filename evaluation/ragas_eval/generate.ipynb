{
 "cells": [
  {
   "cell_type": "markdown",
   "metadata": {},
   "source": [
    "### Importance of High-Quality Test Dataset for RAG Systems\n",
    "\n",
    "### Purpose\n",
    "Test sets are critical for:\n",
    "- Accurately measuring RAG system performance\n",
    "- Identifying system strengths and weaknesses\n",
    "- Guiding continuous improvement\n",
    "\n",
    "### Key Evaluation Dimensions\n",
    "1. **Retrieval Effectiveness**: Assess how well relevant context is retrieved\n",
    "2. **Generation Quality**: Evaluate the accuracy and coherence of generated responses\n",
    "3. **Contextual Relevance**: Measure how well the system understands and integrates retrieved information\n",
    "\n",
    "### Evaluation Goals\n",
    "- Benchmark system performance\n",
    "- Detect hallucinations\n",
    "- Validate generalization capabilities\n",
    "- Simulate real-world query complexity\n",
    "\n",
    "### Best Practices\n",
    "- Use diverse query types\n",
    "- Cover multiple domains\n",
    "- Include edge cases\n",
    "- Create reproducible test scenarios\n",
    "- Contains enough number of samples to derive statistically significant conclusions"
   ]
  },
  {
   "cell_type": "markdown",
   "metadata": {},
   "source": [
    "### 0. Configuration for generating the goldens\n",
    "\n",
    "Goldens are the samples containing the `reference`, `reference_contexts` and `user_input`. For filling out the rest of the fields: `response` and `retrieved_contexts`, I used 9 different configurations, which are to be found at the root of the project under experiments.csv.\n",
    "\n",
    "The goldens are going to be saved under `./goldens`.\n",
    "\n",
    "\n",
    "Configuration for the generation of each dataset containing $\\underline{goldens}$:\n",
    "\n",
    "```bash\n",
    "# Going to stay the same across all generations\n",
    "MAX_TOKENS=512\n",
    "TEMPERATURE=0.0\n",
    "CHAT_MODEL=llama3.1:8b-instruct-q4_1\n",
    "EMBEDDING_MODEL=mxbai-embed-large\n",
    "\n",
    "# These values will change for each experiment, since we want to simulate how the RAG framework splits the data\n",
    "CHUNK_SIZE=<experiment_id_chunk_size>\n",
    "CHUNK_OVERLAP=<experiment_id_chunk_overlap>\n",
    "```"
   ]
  },
  {
   "cell_type": "markdown",
   "metadata": {},
   "source": [
    "### 1. Retrieve data:\n",
    "* The data can be a dataset from `huggingface` or any other platform.\n",
    "\n",
    "* Alternatively, files available on disk - pdf, md, etc.\n",
    "\n",
    "* One can also use `AsyncHtmlLoader` from `langchain` to scrape from the internet.\n",
    "    - **Careful when performing web scraping to not violate any terms and conditions!**\n",
    "\n",
    "**NOTE**:\n",
    "* Make sure you install the requirements first if you want to test the notebook.\n",
    "    * To do so run the `setup.sh` in the parent folder.\n",
    "* Make sure you select the proper environment as your kernel: `eval`. "
   ]
  },
  {
   "cell_type": "code",
   "execution_count": 1,
   "metadata": {},
   "outputs": [
    {
     "name": "stdout",
     "output_type": "stream",
     "text": [
      "Cloning into 'data'...\n",
      "remote: Enumerating objects: 14, done.\u001b[K\n",
      "remote: Total 14 (delta 0), reused 0 (delta 0), pack-reused 14 (from 1)\u001b[K\n",
      "Unpacking objects: 100% (14/14), 16.16 KiB | 8.08 MiB/s, done.\n"
     ]
    }
   ],
   "source": [
    "# For this notebook I will use a dataset provided by RAGAs.\n",
    "# The dataset contains markdown files about a fictional airline company.\n",
    "! git clone https://huggingface.co/datasets/explodinggradients/ragas-airline-dataset data"
   ]
  },
  {
   "cell_type": "markdown",
   "metadata": {},
   "source": [
    "### 2. Load data into document objects\n",
    "\n",
    "I prefer to use `langchain`, however `llama-index` is also a solution."
   ]
  },
  {
   "cell_type": "code",
   "execution_count": 2,
   "metadata": {},
   "outputs": [],
   "source": [
    "import os\n",
    "from typing import Final\n",
    "from dotenv import load_dotenv\n",
    "from langchain.docstore.document import Document\n",
    "from langchain_community.document_loaders import DirectoryLoader\n",
    "from langchain_text_splitters import RecursiveCharacterTextSplitter\n",
    "\n",
    "load_dotenv(\"../../env/rag.env\")\n",
    "\n",
    "# The path is the folder, where the documents are stored at.\n",
    "# Make sure you select the proper one.\n",
    "DIR_PATH: Final[str] = \"data/\"\n",
    "loader = DirectoryLoader(\n",
    "    DIR_PATH,\n",
    "    glob=\"**/*.md\",\n",
    "    exclude=\"README.md\"\n",
    ")\n",
    "\n",
    "# The R2R framework uses a recrusive character text splitter to split the documents.\n",
    "# For that purpose I use it to try to mimic the same behavior.\n",
    "splitter = RecursiveCharacterTextSplitter(\n",
    "    chunk_size=int(os.getenv(\"CHUNK_SIZE\")),\n",
    "    chunk_overlap=int(os.getenv(\"CHUNK_OVERLAP\")),\n",
    "    length_function=len\n",
    ")\n",
    "\n",
    "docs: list[Document] = loader.load_and_split(splitter)"
   ]
  },
  {
   "cell_type": "markdown",
   "metadata": {},
   "source": [
    "### 3. Construct knowledge graph\n",
    "\n",
    "- A **knowledge graph** is a fundamental concept when it comes to **RAGAs** and using its capabilities for **automatic synthetic data generation**.\n",
    "\n",
    "- A **knowledge graph** consists of **Node** objects at first, which represent **documents** - their content and additional metadata. After enriching the graph it might additionally contain attributes like `entities`, `themes` and so on depending on the pipeline you define.\n",
    "\n",
    "- Thereafter, one can enrich the graph by using various **extractors** and applying various **transformations**. Doing so additional attributes get added to the relevant nodes and **relationships get built**, which express some kind of connection between Node objects. The transformations can be applied only through the use of **Extractor**s, **Splitter**s and or **RelationshipBuilder**s. They serve as a way to gather relevant data from the documents depending on the type of extractor and this way to logically connect 2 or more nodes together.\n",
    "\n",
    "- This graph then is used to generate so called **scenarios** and can also be used to generate **personas**.\n",
    "\n",
    "![Knowledge graph creation workflow RAGAs](../../img/kg_rag.webp \"Knowledge graph RAGAs\")"
   ]
  },
  {
   "cell_type": "code",
   "execution_count": 3,
   "metadata": {},
   "outputs": [],
   "source": [
    "from ragas.testset.graph import (\n",
    "    Node,\n",
    "    NodeType,\n",
    "    KnowledgeGraph,\n",
    ")\n",
    "\n",
    "kg = KnowledgeGraph()\n",
    "\n",
    "for doc in docs:\n",
    "    kg.add(\n",
    "        Node(\n",
    "            type=NodeType.CHUNK, # Since we already split the documents, we can use the chunk type.\n",
    "            properties={\"page_content\": doc.page_content, \"document_metadata\": doc.metadata}\n",
    "        )\n",
    "    )"
   ]
  },
  {
   "cell_type": "markdown",
   "metadata": {},
   "source": [
    "## 4. Instantiate required objects\n",
    "\n",
    "- **RAGAs** would require a **Large-Language-Model** and an **Embedding** one to be able to apply the **transformations** to the **knowledge graph**. For that purpose one must create **wrapper** objects for both of the models. `Langchain` and `llama-index` are both supported. \n",
    "\n",
    "- Additionally, a **configuration** can be used to modify the default behaviour of the framework. For example timeout values can be modified, maximum retries for failed operations and so on can be configured from the **RunConfig**.\n",
    "    - **NOTE**: depending on the LLM model and GPU you may need to modify the `timeout` value, otherwise you will stumble upon `TimeoutException`\n",
    "\n",
    "- Lastly, there's a single implementation in **RAGAs** for caching intermediate steps onto disk. To use it the **DiskCacheBackend** class can come in play."
   ]
  },
  {
   "cell_type": "code",
   "execution_count": 4,
   "metadata": {},
   "outputs": [],
   "source": [
    "from langchain_ollama import ChatOllama, OllamaEmbeddings\n",
    "\n",
    "from ragas import RunConfig, DiskCacheBackend\n",
    "from ragas.llms import LangchainLLMWrapper\n",
    "from ragas.embeddings import LangchainEmbeddingsWrapper\n",
    "\n",
    "run_config = RunConfig(\n",
    "    timeout=86400,    # 24 hours on waiting for a single operation\n",
    "    max_retries=20,   # Max retries before giving up\n",
    "    max_wait=600,     # Max wait between retries\n",
    "    max_workers=4,    # Concurrent requests\n",
    "    log_tenacity=True # Print retry attempts\n",
    ")\n",
    "\n",
    "# This stores data generation and evaluation results locally on disk\n",
    "# When using it for the first time, it will create a .cache folder\n",
    "# When using it again, it will read from that folder and finish almost instantly\n",
    "cacher = DiskCacheBackend(cache_dir=\".cache\")\n",
    "\n",
    "langchain_llm = LangchainLLMWrapper(\n",
    "    langchain_llm=ChatOllama(\n",
    "        model=os.getenv(\"CHAT_MODEL\"),\n",
    "        base_url=\"http://localhost:11434\",\n",
    "        temperature=float(os.getenv(\"TEMPERATURE\")),\n",
    "        num_ctx=int(os.getenv(\"LLM_CONTEXT_WINDOW_TOKENS\")),\n",
    "        format=\"json\"\n",
    "    ),\n",
    "    run_config=run_config,\n",
    "    cache=cacher\n",
    ")\n",
    "\n",
    "langchain_embeddings = LangchainEmbeddingsWrapper(\n",
    "    embeddings=OllamaEmbeddings(\n",
    "        model=os.getenv(\"EMBEDDING_MODEL\"),\n",
    "        base_url=\"http://localhost:11434\"\n",
    "    ),\n",
    "    run_config=run_config,\n",
    "    cache=cacher\n",
    ")"
   ]
  },
  {
   "cell_type": "markdown",
   "metadata": {},
   "source": [
    "### 5. Create the transformation pipeline\n",
    "\n",
    "The sequence of transformations:\n",
    "\n",
    "1. Named Entity Recognition (NER) and Keyphrases extraction \n",
    "    - NERExtractor identifies and extracts named entities (e.g., people, organizations, locations).  \n",
    "    - KeyphrasesExtractor extracts the main keyphrases to be found in the text\n",
    "\n",
    "2. NEROverlapBuilder and KeyphraseOverlapBuilder\n",
    "    - Used to establish a relationship between nodes containing similar:\n",
    "        - entities\n",
    "        - keyphrases\n",
    "\n",
    "3. Parallel Processing for Efficiency\n",
    "    - Certain transformations run in parallel to improve performance\n",
    "\n",
    "- Final Outcome:\n",
    "    - A structured set of document transformations that extract valuable information\n",
    "    - Used to enrich the knowledge graph for further generation of scenarios and finally samples\n",
    "\n",
    "**NOTE:** Some of the extractors *(LLM-based ones)* do receive an optional `prompt`, which one can use to modify the workflow. For instance the `NERExtractor` can receive a custom prompt, which could contain instructions that differ from the original one and extracts entities in a different way."
   ]
  },
  {
   "cell_type": "code",
   "execution_count": 5,
   "metadata": {},
   "outputs": [],
   "source": [
    "from ragas.testset.transforms import (\n",
    "    Parallel,\n",
    "    OverlapScoreBuilder,\n",
    "    KeyphrasesExtractor,\n",
    ")\n",
    "from ragas.testset.transforms.extractors import NERExtractor\n",
    "\n",
    "from prompts.extractors.custom_ner_prompt import MyNERPrompt\n",
    "from prompts.extractors.custom_keyphrases_prompt import MyKeyphrasesExtractorPrompt\n",
    "\n",
    "ner_extractor = NERExtractor(\n",
    "    llm=langchain_llm,\n",
    "    prompt=MyNERPrompt(\n",
    "        name=\"custom_ner_extractor_prompt\"\n",
    "    ),\n",
    "    max_num_entities=15\n",
    ")\n",
    "\n",
    "keyphrases_extractor = KeyphrasesExtractor(\n",
    "    llm=langchain_llm,\n",
    "    prompt=MyKeyphrasesExtractorPrompt(\n",
    "        name=\"custom_keyphrases_extractor_prompt\"\n",
    "    ),\n",
    "    max_num=15\n",
    ")\n",
    "\n",
    "ner_overlap_sim = OverlapScoreBuilder()\n",
    "\n",
    "keyphrases_overlap_sim = OverlapScoreBuilder(\n",
    "    property_name=\"keyphrases\",\n",
    ")\n",
    "\n",
    "transforms = [\n",
    "    Parallel(\n",
    "        ner_extractor,\n",
    "        keyphrases_extractor\n",
    "    ),\n",
    "    Parallel(\n",
    "        ner_overlap_sim,\n",
    "        keyphrases_overlap_sim\n",
    "    )\n",
    "]"
   ]
  },
  {
   "cell_type": "markdown",
   "metadata": {},
   "source": [
    "### 6. Apply the transformations to the knowledge graph\n",
    "\n",
    "In the section below the `apply_transforms` is going to apply all the previously defined transformations enriching the `knowledge graph` in the process. Do note that some transformations can be executed in parallel and for that purpose **RAGAs** provides an abstraction called `Parallel`, which takes on transformations as parameter."
   ]
  },
  {
   "cell_type": "code",
   "execution_count": 6,
   "metadata": {},
   "outputs": [
    {
     "data": {
      "application/vnd.jupyter.widget-view+json": {
       "model_id": "aba97f6a26a149e1bf6c798ae31070bd",
       "version_major": 2,
       "version_minor": 0
      },
      "text/plain": [
       "Applying [NERExtractor, KeyphrasesExtractor]:   0%|          | 0/138 [00:00<?, ?it/s]"
      ]
     },
     "metadata": {},
     "output_type": "display_data"
    },
    {
     "data": {
      "application/vnd.jupyter.widget-view+json": {
       "model_id": "f8e91fa7a6174ce081714b690d7fc9bd",
       "version_major": 2,
       "version_minor": 0
      },
      "text/plain": [
       "Applying [OverlapScoreBuilder, OverlapScoreBuilder]:   0%|          | 0/2 [00:00<?, ?it/s]"
      ]
     },
     "metadata": {},
     "output_type": "display_data"
    }
   ],
   "source": [
    "from ragas.testset.transforms import apply_transforms\n",
    "\n",
    "apply_transforms(\n",
    "    kg,\n",
    "    transforms,\n",
    "    run_config\n",
    ")"
   ]
  },
  {
   "cell_type": "markdown",
   "metadata": {},
   "source": [
    "### 7. Generating personas\n",
    "\n",
    "- A **Persona** is an entity/role which interacts with the system. **Personas** provide context and perspective, ensuring that **generated queries are natural, user-specific, and diverse**.\n",
    "\n",
    "- Example: a Senior DevOps engineer, a Junior Data Scientist, a Marketing Manager in the context of an IT company\n",
    "\n",
    "- **Persona** object consists of a **name** and a **description**.\n",
    "    \n",
    "    - The name is used to identify the persona and the description is used to describe the role of the persona.\n",
    "\n",
    "- Do note that personas can also be generated by a **knowledge graph** if you have one available"
   ]
  },
  {
   "cell_type": "code",
   "execution_count": 10,
   "metadata": {},
   "outputs": [],
   "source": [
    "from ragas.testset.persona import Persona\n",
    "\n",
    "# This example is taken from `RAGAs`:\n",
    "# https://docs.ragas.io/en/latest/howtos/applications/singlehop_testset_gen/#configuring-personas-for-query-generation\n",
    "\n",
    "persona_first_time_flier = Persona(\n",
    "    name=\"First Time Flier\",\n",
    "    role_description=\"Is flying for the first time and may feel anxious. Needs clear guidance on flight procedures, safety protocols, and what to expect throughout the journey.\",\n",
    ")\n",
    "\n",
    "persona_frequent_flier = Persona(\n",
    "    name=\"Frequent Flier\",\n",
    "    role_description=\"Travels regularly and values efficiency and comfort. Interested in loyalty programs, express services, and a seamless travel experience.\",\n",
    ")\n",
    "\n",
    "persona_angry_business_flier = Persona(\n",
    "    name=\"Angry Business Class Flier\",\n",
    "    role_description=\"Demands top-tier service and is easily irritated by any delays or issues. Expects immediate resolutions and is quick to express frustration if standards are not met.\",\n",
    ")\n",
    "\n",
    "personas: list[Persona] = [\n",
    "    persona_first_time_flier,\n",
    "    persona_frequent_flier,\n",
    "    persona_angry_business_flier\n",
    "]"
   ]
  },
  {
   "cell_type": "markdown",
   "metadata": {},
   "source": [
    "## 8. Generate query types \n",
    "\n",
    "- There are two main types of queries in **RAGAs**:\n",
    "    \n",
    "    - **SingleHopQuery** where the **context** relevant for answering a question lies in a **single document/chunk**\n",
    "\n",
    "    - **MultiHopQuery** where the **context** relevant for answering a question lies in **multiple documents/chunks**\n",
    "\n",
    "- Additionally, for each of those queries there's a **Specific** or **Abstract** query variant:\n",
    "    \n",
    "    - **Specific** one which pertains to a **fact**. \n",
    "\n",
    "        - Example: When did WW1 break out? (Can be precisely answered, there's no room for guessing/interpretation)\n",
    "    \n",
    "    - **Abstract** one which is more about testing the **reasoning** capabilities of the LLM. \n",
    "\n",
    "        - Example: Why did WW1 break out? (There's room for interpretation in this case)\n",
    "\n",
    "- **Specific** vs. **Abstract Queries** in a RAG\n",
    "    - Specific Query: Focuses on clear, fact-based retrieval. The goal in RAG is to retrieve highly relevant information from one or more documents that directly address the specific question.\n",
    "\n",
    "    - Abstract Query: Requires a broader, more interpretive response. In RAG, abstract queries challenge the retrieval system to pull from documents that contain higher-level reasoning, explanations, or opinions, rather than simple facts.\n",
    "\n",
    "![Query tpes in RAGAs](../../img/ragas_query_types.png  \"Queries\")\n",
    "\n",
    "**Synthesizers** are responsible for **converting enriched nodes and personas into queries**. They achieve this by **selecting a node property (e.g., \"entities\" or \"keyphrases\"), pairing it with a persona, style, and query length**, and then using a LLM to generate a query-answer pair based on the content of the node.\n",
    "\n",
    "* Query lengths may vary:\n",
    "    - short\n",
    "    - medium\n",
    "    - long\n",
    "\n",
    "* Query style:\n",
    "    - misspelled\n",
    "    - websearch-like\n",
    "    - perfect-grammar\n",
    "    - poor-grammar\n",
    "\n",
    "Note that **synthesizers** can additionally be extended/modified by specifying custom **prompts**.\n"
   ]
  },
  {
   "cell_type": "code",
   "execution_count": 11,
   "metadata": {},
   "outputs": [],
   "source": [
    "from ragas.testset.synthesizers.multi_hop.specific import MultiHopSpecificQuerySynthesizer\n",
    "from ragas.testset.synthesizers.single_hop.specific import SingleHopSpecificQuerySynthesizer\n",
    "\n",
    "from prompts.synthesizers.custom_themes_matching import MyThemesPersonasMatchingPrompt\n",
    "from prompts.synthesizers.custom_multi_hop_qa_generation import MyMultiHopQAGenerationPrompt\n",
    "from prompts.synthesizers.custom_single_hop_qa_generation import MySingleHopQAGenerationPrompt\n",
    "\n",
    "single_hop_specific_entities = SingleHopSpecificQuerySynthesizer(\n",
    "    llm=langchain_llm,\n",
    "    generate_query_reference_prompt=MySingleHopQAGenerationPrompt(),\n",
    "    theme_persona_matching_prompt=MyThemesPersonasMatchingPrompt(),\n",
    "    property_name=\"entities\"\n",
    ")\n",
    "\n",
    "single_hop_specific_keyphrases = SingleHopSpecificQuerySynthesizer(\n",
    "    llm=langchain_llm,\n",
    "    generate_query_reference_prompt=MySingleHopQAGenerationPrompt(),\n",
    "    theme_persona_matching_prompt=MyThemesPersonasMatchingPrompt(),\n",
    "    property_name=\"keyphrases\"\n",
    ")\n",
    "\n",
    "multi_hop_specific_entities = MultiHopSpecificQuerySynthesizer(\n",
    "    llm=langchain_llm,\n",
    "    generate_query_reference_prompt=MyMultiHopQAGenerationPrompt(),\n",
    "    theme_persona_matching_prompt=MyThemesPersonasMatchingPrompt()\n",
    ")\n",
    "\n",
    "multi_hop_specific_keyphrases = MultiHopSpecificQuerySynthesizer(\n",
    "    llm=langchain_llm,\n",
    "    generate_query_reference_prompt=MyMultiHopQAGenerationPrompt(),\n",
    "    relation_type=\"keyphrases_overlap\",\n",
    "    property_name=\"keyphrases\",\n",
    "    theme_persona_matching_prompt=MyThemesPersonasMatchingPrompt()\n",
    ")\n",
    "\n",
    "query_distribution = [\n",
    "    (single_hop_specific_entities, 0.25),\n",
    "    (single_hop_specific_keyphrases, 0.25),\n",
    "    (multi_hop_specific_entities, 0.25),\n",
    "    (multi_hop_specific_keyphrases, 0.25)\n",
    "]"
   ]
  },
  {
   "cell_type": "markdown",
   "metadata": {},
   "source": [
    "### 9. Generate the samples\n",
    "\n",
    "### Definition of evaluation sample\n",
    "\n",
    "An evaluation sample is a single structured data instance that is used to assess and measure the performance of your LLM application in specific scenarios. It represents a single unit of interaction or a specific use case that the AI application is expected to handle. In Ragas, evaluation samples are represented using the `SingleTurnSample` and `MultiTurnSample` classes.\n",
    "\n",
    "### SingleTurnSample\n",
    "\n",
    "`SingleTurnSample` represents a single-turn interaction between a user, LLM, and expected results for evaluation. It is suitable for evaluations that involve a single question and answer pair, possibly with additional context or reference information.\n",
    "\n",
    "This type of sample is ideal for straightforward question-answering scenarios where a user asks a single question and expects a direct response.\n",
    "\n",
    "### MultiTurnSample\n",
    "\n",
    "`MultiTurnSample` represents a multi-turn interaction between Human, AI and optionally a Tool and expected results for evaluation. It is suitable for representing conversational agents in more complex interactions for evaluation.\n",
    "\n",
    "In `MultiTurnSample`, the `user_input` attribute represents a sequence of messages that collectively form a multi-turn conversation between a human user and an AI system. These messages are instances of the classes `HumanMessage`, `AIMessage`, and `ToolMessage`.\n",
    "\n",
    "This type of sample is designed for evaluating more complex conversational flows where multiple turns of dialogue occur, potentially involving tool usage for gathering additional information.\n",
    "\n",
    "![Scenario generation workflow RAGAs](../../img/scenario_rag.webp \"Scenarios RAGAs\")"
   ]
  },
  {
   "cell_type": "code",
   "execution_count": 12,
   "metadata": {},
   "outputs": [
    {
     "data": {
      "application/vnd.jupyter.widget-view+json": {
       "model_id": "3896c35828294f0dbbb4b53ade0690da",
       "version_major": 2,
       "version_minor": 0
      },
      "text/plain": [
       "Generating Scenarios:   0%|          | 0/4 [00:00<?, ?it/s]"
      ]
     },
     "metadata": {},
     "output_type": "display_data"
    },
    {
     "ename": "KeyboardInterrupt",
     "evalue": "",
     "output_type": "error",
     "traceback": [
      "\u001b[31m---------------------------------------------------------------------------\u001b[39m",
      "\u001b[31mKeyboardInterrupt\u001b[39m                         Traceback (most recent call last)",
      "\u001b[36mCell\u001b[39m\u001b[36m \u001b[39m\u001b[32mIn[12]\u001b[39m\u001b[32m, line 10\u001b[39m\n\u001b[32m      1\u001b[39m \u001b[38;5;28;01mfrom\u001b[39;00m\u001b[38;5;250m \u001b[39m\u001b[34;01mragas\u001b[39;00m\u001b[34;01m.\u001b[39;00m\u001b[34;01mtestset\u001b[39;00m\u001b[38;5;250m \u001b[39m\u001b[38;5;28;01mimport\u001b[39;00m TestsetGenerator, Testset\n\u001b[32m      3\u001b[39m generator = TestsetGenerator(\n\u001b[32m      4\u001b[39m     langchain_llm,\n\u001b[32m      5\u001b[39m     langchain_embeddings,\n\u001b[32m      6\u001b[39m     kg,\n\u001b[32m      7\u001b[39m     personas\n\u001b[32m      8\u001b[39m )\n\u001b[32m---> \u001b[39m\u001b[32m10\u001b[39m dataset: Testset = \u001b[43mgenerator\u001b[49m\u001b[43m.\u001b[49m\u001b[43mgenerate\u001b[49m\u001b[43m(\u001b[49m\n\u001b[32m     11\u001b[39m \u001b[43m    \u001b[49m\u001b[43mtestset_size\u001b[49m\u001b[43m=\u001b[49m\u001b[32;43m50\u001b[39;49m\u001b[43m,\u001b[49m\n\u001b[32m     12\u001b[39m \u001b[43m    \u001b[49m\u001b[43mquery_distribution\u001b[49m\u001b[43m=\u001b[49m\u001b[43mquery_distribution\u001b[49m\u001b[43m,\u001b[49m\n\u001b[32m     13\u001b[39m \u001b[43m    \u001b[49m\u001b[43mnum_personas\u001b[49m\u001b[43m=\u001b[49m\u001b[38;5;28;43mlen\u001b[39;49m\u001b[43m(\u001b[49m\u001b[43mpersonas\u001b[49m\u001b[43m)\u001b[49m\u001b[43m,\u001b[49m\n\u001b[32m     14\u001b[39m \u001b[43m    \u001b[49m\u001b[43mrun_config\u001b[49m\u001b[43m=\u001b[49m\u001b[43mrun_config\u001b[49m\u001b[43m,\u001b[49m\n\u001b[32m     15\u001b[39m \u001b[43m    \u001b[49m\u001b[43mwith_debugging_logs\u001b[49m\u001b[43m=\u001b[49m\u001b[38;5;28;43;01mTrue\u001b[39;49;00m\u001b[43m,\u001b[49m\n\u001b[32m     16\u001b[39m \u001b[43m)\u001b[49m\n",
      "\u001b[36mFile \u001b[39m\u001b[32m~/Desktop/Evaluation-Approaches-for-Retrieval-Augmented-Generation-RAG-/evaluation/eval/lib/python3.12/site-packages/ragas/testset/synthesizers/generate.py:410\u001b[39m, in \u001b[36mTestsetGenerator.generate\u001b[39m\u001b[34m(self, testset_size, query_distribution, num_personas, run_config, batch_size, callbacks, token_usage_parser, with_debugging_logs, raise_exceptions)\u001b[39m\n\u001b[32m    401\u001b[39m     exec.submit(\n\u001b[32m    402\u001b[39m         scenario.generate_scenarios,\n\u001b[32m    403\u001b[39m         n=splits[i],\n\u001b[32m   (...)\u001b[39m\u001b[32m    406\u001b[39m         callbacks=scenario_generation_grp,\n\u001b[32m    407\u001b[39m     )\n\u001b[32m    409\u001b[39m \u001b[38;5;28;01mtry\u001b[39;00m:\n\u001b[32m--> \u001b[39m\u001b[32m410\u001b[39m     scenario_sample_list: t.List[t.List[BaseScenario]] = \u001b[43mexec\u001b[49m\u001b[43m.\u001b[49m\u001b[43mresults\u001b[49m\u001b[43m(\u001b[49m\u001b[43m)\u001b[49m\n\u001b[32m    411\u001b[39m \u001b[38;5;28;01mexcept\u001b[39;00m \u001b[38;5;167;01mException\u001b[39;00m \u001b[38;5;28;01mas\u001b[39;00m e:\n\u001b[32m    412\u001b[39m     scenario_generation_rm.on_chain_error(e)\n",
      "\u001b[36mFile \u001b[39m\u001b[32m~/Desktop/Evaluation-Approaches-for-Retrieval-Augmented-Generation-RAG-/evaluation/eval/lib/python3.12/site-packages/ragas/executor.py:213\u001b[39m, in \u001b[36mExecutor.results\u001b[39m\u001b[34m(self)\u001b[39m\n\u001b[32m    210\u001b[39m             nest_asyncio.apply()\n\u001b[32m    211\u001b[39m             \u001b[38;5;28mself\u001b[39m._nest_asyncio_applied = \u001b[38;5;28;01mTrue\u001b[39;00m\n\u001b[32m--> \u001b[39m\u001b[32m213\u001b[39m results = \u001b[43masyncio\u001b[49m\u001b[43m.\u001b[49m\u001b[43mrun\u001b[49m\u001b[43m(\u001b[49m\u001b[38;5;28;43mself\u001b[39;49m\u001b[43m.\u001b[49m\u001b[43m_process_jobs\u001b[49m\u001b[43m(\u001b[49m\u001b[43m)\u001b[49m\u001b[43m)\u001b[49m\n\u001b[32m    214\u001b[39m sorted_results = \u001b[38;5;28msorted\u001b[39m(results, key=\u001b[38;5;28;01mlambda\u001b[39;00m x: x[\u001b[32m0\u001b[39m])\n\u001b[32m    215\u001b[39m \u001b[38;5;28;01mreturn\u001b[39;00m [r[\u001b[32m1\u001b[39m] \u001b[38;5;28;01mfor\u001b[39;00m r \u001b[38;5;129;01min\u001b[39;00m sorted_results]\n",
      "\u001b[36mFile \u001b[39m\u001b[32m~/Desktop/Evaluation-Approaches-for-Retrieval-Augmented-Generation-RAG-/evaluation/eval/lib/python3.12/site-packages/nest_asyncio.py:30\u001b[39m, in \u001b[36m_patch_asyncio.<locals>.run\u001b[39m\u001b[34m(main, debug)\u001b[39m\n\u001b[32m     28\u001b[39m task = asyncio.ensure_future(main)\n\u001b[32m     29\u001b[39m \u001b[38;5;28;01mtry\u001b[39;00m:\n\u001b[32m---> \u001b[39m\u001b[32m30\u001b[39m     \u001b[38;5;28;01mreturn\u001b[39;00m \u001b[43mloop\u001b[49m\u001b[43m.\u001b[49m\u001b[43mrun_until_complete\u001b[49m\u001b[43m(\u001b[49m\u001b[43mtask\u001b[49m\u001b[43m)\u001b[49m\n\u001b[32m     31\u001b[39m \u001b[38;5;28;01mfinally\u001b[39;00m:\n\u001b[32m     32\u001b[39m     \u001b[38;5;28;01mif\u001b[39;00m \u001b[38;5;129;01mnot\u001b[39;00m task.done():\n",
      "\u001b[36mFile \u001b[39m\u001b[32m~/Desktop/Evaluation-Approaches-for-Retrieval-Augmented-Generation-RAG-/evaluation/eval/lib/python3.12/site-packages/nest_asyncio.py:92\u001b[39m, in \u001b[36m_patch_loop.<locals>.run_until_complete\u001b[39m\u001b[34m(self, future)\u001b[39m\n\u001b[32m     90\u001b[39m     f._log_destroy_pending = \u001b[38;5;28;01mFalse\u001b[39;00m\n\u001b[32m     91\u001b[39m \u001b[38;5;28;01mwhile\u001b[39;00m \u001b[38;5;129;01mnot\u001b[39;00m f.done():\n\u001b[32m---> \u001b[39m\u001b[32m92\u001b[39m     \u001b[38;5;28;43mself\u001b[39;49m\u001b[43m.\u001b[49m\u001b[43m_run_once\u001b[49m\u001b[43m(\u001b[49m\u001b[43m)\u001b[49m\n\u001b[32m     93\u001b[39m     \u001b[38;5;28;01mif\u001b[39;00m \u001b[38;5;28mself\u001b[39m._stopping:\n\u001b[32m     94\u001b[39m         \u001b[38;5;28;01mbreak\u001b[39;00m\n",
      "\u001b[36mFile \u001b[39m\u001b[32m~/Desktop/Evaluation-Approaches-for-Retrieval-Augmented-Generation-RAG-/evaluation/eval/lib/python3.12/site-packages/nest_asyncio.py:115\u001b[39m, in \u001b[36m_patch_loop.<locals>._run_once\u001b[39m\u001b[34m(self)\u001b[39m\n\u001b[32m    108\u001b[39m     heappop(scheduled)\n\u001b[32m    110\u001b[39m timeout = (\n\u001b[32m    111\u001b[39m     \u001b[32m0\u001b[39m \u001b[38;5;28;01mif\u001b[39;00m ready \u001b[38;5;129;01mor\u001b[39;00m \u001b[38;5;28mself\u001b[39m._stopping\n\u001b[32m    112\u001b[39m     \u001b[38;5;28;01melse\u001b[39;00m \u001b[38;5;28mmin\u001b[39m(\u001b[38;5;28mmax\u001b[39m(\n\u001b[32m    113\u001b[39m         scheduled[\u001b[32m0\u001b[39m]._when - \u001b[38;5;28mself\u001b[39m.time(), \u001b[32m0\u001b[39m), \u001b[32m86400\u001b[39m) \u001b[38;5;28;01mif\u001b[39;00m scheduled\n\u001b[32m    114\u001b[39m     \u001b[38;5;28;01melse\u001b[39;00m \u001b[38;5;28;01mNone\u001b[39;00m)\n\u001b[32m--> \u001b[39m\u001b[32m115\u001b[39m event_list = \u001b[38;5;28;43mself\u001b[39;49m\u001b[43m.\u001b[49m\u001b[43m_selector\u001b[49m\u001b[43m.\u001b[49m\u001b[43mselect\u001b[49m\u001b[43m(\u001b[49m\u001b[43mtimeout\u001b[49m\u001b[43m)\u001b[49m\n\u001b[32m    116\u001b[39m \u001b[38;5;28mself\u001b[39m._process_events(event_list)\n\u001b[32m    118\u001b[39m end_time = \u001b[38;5;28mself\u001b[39m.time() + \u001b[38;5;28mself\u001b[39m._clock_resolution\n",
      "\u001b[36mFile \u001b[39m\u001b[32m~/miniconda3/lib/python3.12/selectors.py:468\u001b[39m, in \u001b[36mEpollSelector.select\u001b[39m\u001b[34m(self, timeout)\u001b[39m\n\u001b[32m    466\u001b[39m ready = []\n\u001b[32m    467\u001b[39m \u001b[38;5;28;01mtry\u001b[39;00m:\n\u001b[32m--> \u001b[39m\u001b[32m468\u001b[39m     fd_event_list = \u001b[38;5;28;43mself\u001b[39;49m\u001b[43m.\u001b[49m\u001b[43m_selector\u001b[49m\u001b[43m.\u001b[49m\u001b[43mpoll\u001b[49m\u001b[43m(\u001b[49m\u001b[43mtimeout\u001b[49m\u001b[43m,\u001b[49m\u001b[43m \u001b[49m\u001b[43mmax_ev\u001b[49m\u001b[43m)\u001b[49m\n\u001b[32m    469\u001b[39m \u001b[38;5;28;01mexcept\u001b[39;00m \u001b[38;5;167;01mInterruptedError\u001b[39;00m:\n\u001b[32m    470\u001b[39m     \u001b[38;5;28;01mreturn\u001b[39;00m ready\n",
      "\u001b[31mKeyboardInterrupt\u001b[39m: "
     ]
    }
   ],
   "source": [
    "from ragas.testset import TestsetGenerator, Testset\n",
    "\n",
    "generator = TestsetGenerator(\n",
    "    langchain_llm,\n",
    "    langchain_embeddings,\n",
    "    kg,\n",
    "    personas\n",
    ")\n",
    "\n",
    "dataset: Testset = generator.generate(\n",
    "    testset_size=50,\n",
    "    query_distribution=query_distribution,\n",
    "    num_personas=len(personas),\n",
    "    run_config=run_config,\n",
    "    with_debugging_logs=True,\n",
    ")"
   ]
  },
  {
   "cell_type": "markdown",
   "metadata": {},
   "source": [
    "### 10. Save dataset containing goldens (no actual output and retrieval context)"
   ]
  },
  {
   "cell_type": "code",
   "execution_count": 10,
   "metadata": {},
   "outputs": [],
   "source": [
    "dataset.to_jsonl(\"dataset-goldens.jsonl\")"
   ]
  },
  {
   "cell_type": "markdown",
   "metadata": {},
   "source": [
    "### 11. Upload to the cloud (Optional)\n",
    "\n",
    "* To upload the data on **app.ragas.io** make sure you:\n",
    "    * First create an account\n",
    "    * Get an **API key**\n",
    "    * Finally, create a `.env` file in the parent folder like so and export it in your notebook:\n",
    "\n",
    "```bash\n",
    "RAGAS_APP_TOKEN=apt.1234a-......-9dfew\n",
    "```"
   ]
  },
  {
   "cell_type": "code",
   "execution_count": 11,
   "metadata": {},
   "outputs": [
    {
     "name": "stdout",
     "output_type": "stream",
     "text": [
      "Testset uploaded! View at https://app.ragas.io/dashboard/alignment/testset/b2a2d2b2-6b6d-4150-9027-73c7fc310500\n"
     ]
    },
    {
     "data": {
      "text/plain": [
       "'https://app.ragas.io/dashboard/alignment/testset/b2a2d2b2-6b6d-4150-9027-73c7fc310500'"
      ]
     },
     "execution_count": 11,
     "metadata": {},
     "output_type": "execute_result"
    }
   ],
   "source": [
    "from dotenv import load_dotenv\n",
    "\n",
    "# Load the token\n",
    "load_dotenv(\"../.env\") \n",
    "\n",
    "dataset.upload()"
   ]
  },
  {
   "cell_type": "markdown",
   "metadata": {},
   "source": [
    "### 12. Fill out the missing fields in the dataset to complete it.\n",
    "\n",
    "* This script will first create a virtual environment with all required dependencies.\n",
    "* Next the files that are currently ingested will be removed.\n",
    "* The files from the `data` folder will be re-ingested.\n",
    "* Then the dataset will be filled out with `response` and `retrieved contexts`.\n",
    "* Finally, the dataset will be persisted into `/datasets`.\n",
    "\n",
    "This is required since the experiments have varying `chunk_size` and `chunk_overlap` values. Because of that the application needs to be restarted each time and the data ingested newly, so we can carry out the data generation properly.\n",
    "\n",
    "**NOTE**:\n",
    "- Make sure you set the proper values under `/env/rag.env` relative to the experiment id you want to carry out.\n",
    "- Make sure you restart the application each time you do so.\n",
    "    - Run `docker compose down --remove-orphans` to stop the containers\n",
    "    - Run `./run.sh` to start the application. Do note you need `Ollama` and `Docker` up and running.\n",
    "- For each experiment provide an intuitive name to distinguish between the experiments\n",
    "    - In my case I just use the experiment id"
   ]
  },
  {
   "cell_type": "code",
   "execution_count": 1,
   "metadata": {},
   "outputs": [
    {
     "name": "stdout",
     "output_type": "stream",
     "text": [
      "Virtual environment already exists. Skipping creation.\n",
      "Dependencies already installed. Skipping installation.\n",
      "Environment is set and ready to be used\n",
      "================================================================================\n",
      "Generating dataset in /datasets/test_id_9-dataset.jsonl\n",
      "TOP_K=10\n",
      "MAX_TOKENS_TO_SAMPLE=1024\n",
      "CHUNK_SIZE=768\n",
      "CHUNK_OVERLAP=64\n",
      "CHAT_MODEL=deepseek-r1:7b\n",
      "TEMPERATURE=0.0\n",
      "================================================================================\n",
      "\n",
      "DELETION STEP COMPLETED...\n",
      "/tmp/tmpyhkmhxh5/special_assistance.md: Document created and ingested successfully.\n",
      "/tmp/tmpyhkmhxh5/managing_reservations.md: Document created and ingested successfully.\n",
      "/tmp/tmpyhkmhxh5/flight_delays.md: Document created and ingested successfully.\n",
      "/tmp/tmpyhkmhxh5/baggage_policies.md: Document created and ingested successfully.\n",
      "/tmp/tmpyhkmhxh5/inflight_services.md: Document created and ingested successfully.\n",
      "/tmp/tmpyhkmhxh5/schedule_changes.md: Document created and ingested successfully.\n",
      "/tmp/tmpyhkmhxh5/bookings.md: Document created and ingested successfully.\n",
      "/tmp/tmpyhkmhxh5/flight_cancellations.md: Document created and ingested successfully.\n",
      "INGESTION STEP COMPLETED...\n",
      "Added data to sample: 1 out of 51\n",
      "Added data to sample: 2 out of 51\n",
      "Added data to sample: 3 out of 51\n",
      "Added data to sample: 4 out of 51\n",
      "Added data to sample: 5 out of 51\n",
      "Added data to sample: 6 out of 51\n",
      "Added data to sample: 7 out of 51\n",
      "Added data to sample: 8 out of 51\n",
      "Added data to sample: 9 out of 51\n",
      "Added data to sample: 10 out of 51\n",
      "Added data to sample: 11 out of 51\n",
      "Added data to sample: 12 out of 51\n",
      "Added data to sample: 13 out of 51\n",
      "Added data to sample: 14 out of 51\n",
      "Added data to sample: 15 out of 51\n",
      "Added data to sample: 16 out of 51\n",
      "Added data to sample: 17 out of 51\n",
      "Added data to sample: 18 out of 51\n",
      "Added data to sample: 19 out of 51\n",
      "Added data to sample: 20 out of 51\n",
      "Added data to sample: 21 out of 51\n",
      "Added data to sample: 22 out of 51\n",
      "Added data to sample: 23 out of 51\n",
      "Added data to sample: 24 out of 51\n",
      "Added data to sample: 25 out of 51\n",
      "Added data to sample: 26 out of 51\n",
      "Added data to sample: 27 out of 51\n",
      "Added data to sample: 28 out of 51\n",
      "Added data to sample: 29 out of 51\n",
      "Added data to sample: 30 out of 51\n",
      "Added data to sample: 31 out of 51\n",
      "Added data to sample: 32 out of 51\n",
      "Added data to sample: 33 out of 51\n",
      "Added data to sample: 34 out of 51\n",
      "Added data to sample: 35 out of 51\n",
      "Added data to sample: 36 out of 51\n",
      "Added data to sample: 37 out of 51\n",
      "Added data to sample: 38 out of 51\n",
      "Added data to sample: 39 out of 51\n",
      "Added data to sample: 40 out of 51\n",
      "Added data to sample: 41 out of 51\n",
      "Added data to sample: 42 out of 51\n",
      "Added data to sample: 43 out of 51\n",
      "Added data to sample: 44 out of 51\n",
      "Added data to sample: 45 out of 51\n",
      "Added data to sample: 46 out of 51\n",
      "Added data to sample: 47 out of 51\n",
      "Added data to sample: 48 out of 51\n",
      "Added data to sample: 49 out of 51\n",
      "Added data to sample: 50 out of 51\n",
      "Added data to sample: 51 out of 51\n",
      "Full dataset saved...\n"
     ]
    }
   ],
   "source": [
    "# Make the script executable\n",
    "!chmod u+x ./fill_dataset.sh\n",
    "\n",
    "# Run the script with arguments\n",
    "# Make sure that before you run the script you restart the app with the proper environment variables\n",
    "# Also do provide different names for the different configurations\n",
    "!./fill_dataset.sh \"dataset-goldens\" \"test_id_9\""
   ]
  },
  {
   "cell_type": "markdown",
   "metadata": {},
   "source": [
    "### 13. Synthetic Data Generation completed\n",
    "\n",
    "With this you have created your own synthetic goldens, used various configurations to fill out the rest of the missing fields and saved all the data locally. Now you can move on to the next notebook, check out all the relevant (in my opinion) metrics and evaluate your application using the different experiments."
   ]
  }
 ],
 "metadata": {
  "kernelspec": {
   "display_name": "eval",
   "language": "python",
   "name": "python3"
  },
  "language_info": {
   "codemirror_mode": {
    "name": "ipython",
    "version": 3
   },
   "file_extension": ".py",
   "mimetype": "text/x-python",
   "name": "python",
   "nbconvert_exporter": "python",
   "pygments_lexer": "ipython3",
   "version": "3.12.9"
  }
 },
 "nbformat": 4,
 "nbformat_minor": 2
}
