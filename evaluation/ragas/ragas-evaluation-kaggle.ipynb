{
 "cells": [
  {
   "cell_type": "markdown",
   "metadata": {},
   "source": [
    "This notebook has been used on [Kaggle](https://www.kaggle.com/)."
   ]
  },
  {
   "cell_type": "code",
   "execution_count": null,
   "metadata": {},
   "outputs": [],
   "source": [
    "# Clone my repository\n",
    "!git clone https://github.com/danielpetrov18/Evaluation-Approaches-for-Retrieval-Augmented-Generation-RAG-.git"
   ]
  },
  {
   "cell_type": "code",
   "execution_count": 1,
   "metadata": {
    "execution": {
     "iopub.execute_input": "2025-05-13T12:55:40.337578Z",
     "iopub.status.busy": "2025-05-13T12:55:40.337122Z",
     "iopub.status.idle": "2025-05-13T12:55:40.346139Z",
     "shell.execute_reply": "2025-05-13T12:55:40.345464Z",
     "shell.execute_reply.started": "2025-05-13T12:55:40.337552Z"
    },
    "trusted": true
   },
   "outputs": [
    {
     "name": "stdout",
     "output_type": "stream",
     "text": [
      "/kaggle/working/Evaluation-Approaches-for-Retrieval-Augmented-Generation-RAG-/evaluation/ragas\n"
     ]
    }
   ],
   "source": [
    "# Switch into the ragas folder\n",
    "%cd Evaluation-Approaches-for-Retrieval-Augmented-Generation-RAG-/evaluation/ragas"
   ]
  },
  {
   "cell_type": "code",
   "execution_count": null,
   "metadata": {
    "trusted": true
   },
   "outputs": [],
   "source": [
    "# Install dependencies\n",
    "!pip3 install -U ragas==0.2.15 rapidfuzz==3.13.0 langchain-ollama==0.3.2 python-dotenv==1.1.0"
   ]
  },
  {
   "cell_type": "code",
   "execution_count": null,
   "metadata": {
    "trusted": true
   },
   "outputs": [],
   "source": [
    "# Download and install Ollama\n",
    "!curl -fsSL https://ollama.com/install.sh | sh"
   ]
  },
  {
   "cell_type": "code",
   "execution_count": 2,
   "metadata": {
    "execution": {
     "iopub.execute_input": "2025-05-13T12:55:43.934153Z",
     "iopub.status.busy": "2025-05-13T12:55:43.933567Z",
     "iopub.status.idle": "2025-05-13T12:55:43.938515Z",
     "shell.execute_reply": "2025-05-13T12:55:43.937765Z",
     "shell.execute_reply.started": "2025-05-13T12:55:43.934131Z"
    },
    "trusted": true
   },
   "outputs": [
    {
     "name": "stderr",
     "output_type": "stream",
     "text": [
      "2025/05/13 12:55:43 routes.go:1233: INFO server config env=\"map[CUDA_VISIBLE_DEVICES: GPU_DEVICE_ORDINAL: HIP_VISIBLE_DEVICES: HSA_OVERRIDE_GFX_VERSION: HTTPS_PROXY: HTTP_PROXY: NO_PROXY: OLLAMA_CONTEXT_LENGTH:4096 OLLAMA_DEBUG:false OLLAMA_FLASH_ATTENTION:false OLLAMA_GPU_OVERHEAD:0 OLLAMA_HOST:http://127.0.0.1:11434 OLLAMA_INTEL_GPU:false OLLAMA_KEEP_ALIVE:5m0s OLLAMA_KV_CACHE_TYPE: OLLAMA_LLM_LIBRARY: OLLAMA_LOAD_TIMEOUT:5m0s OLLAMA_MAX_LOADED_MODELS:0 OLLAMA_MAX_QUEUE:512 OLLAMA_MODELS:/root/.ollama/models OLLAMA_MULTIUSER_CACHE:false OLLAMA_NEW_ENGINE:false OLLAMA_NOHISTORY:false OLLAMA_NOPRUNE:false OLLAMA_NUM_PARALLEL:0 OLLAMA_ORIGINS:[http://localhost https://localhost http://localhost:* https://localhost:* http://127.0.0.1 https://127.0.0.1 http://127.0.0.1:* https://127.0.0.1:* http://0.0.0.0 https://0.0.0.0 http://0.0.0.0:* https://0.0.0.0:* app://* file://* tauri://* vscode-webview://* vscode-file://*] OLLAMA_SCHED_SPREAD:false ROCR_VISIBLE_DEVICES: http_proxy: https_proxy: no_proxy:]\"\n",
      "time=2025-05-13T12:55:43.960Z level=INFO source=images.go:463 msg=\"total blobs: 9\"\n",
      "time=2025-05-13T12:55:43.960Z level=INFO source=images.go:470 msg=\"total unused blobs removed: 0\"\n",
      "time=2025-05-13T12:55:43.960Z level=INFO source=routes.go:1300 msg=\"Listening on 127.0.0.1:11434 (version 0.6.8)\"\n",
      "time=2025-05-13T12:55:43.960Z level=INFO source=gpu.go:217 msg=\"looking for compatible GPUs\"\n",
      "time=2025-05-13T12:55:44.280Z level=INFO source=types.go:130 msg=\"inference compute\" id=GPU-fdbb1848-7be4-545a-c302-2b7598598957 library=cuda variant=v12 compute=7.5 driver=12.6 name=\"Tesla T4\" total=\"14.7 GiB\" available=\"14.6 GiB\"\n",
      "time=2025-05-13T12:55:44.280Z level=INFO source=types.go:130 msg=\"inference compute\" id=GPU-62e5c8f5-90b8-dd44-f231-6962d8db7ba3 library=cuda variant=v12 compute=7.5 driver=12.6 name=\"Tesla T4\" total=\"14.7 GiB\" available=\"14.6 GiB\"\n"
     ]
    }
   ],
   "source": [
    "import os\n",
    "import subprocess\n",
    "\n",
    "# Start Ollama server in the background\n",
    "ollama_process = subprocess.Popen(\n",
    "    [\"ollama\", \"serve\"], \n",
    ")"
   ]
  },
  {
   "cell_type": "code",
   "execution_count": null,
   "metadata": {
    "trusted": true
   },
   "outputs": [],
   "source": [
    "from dotenv import load_dotenv\n",
    "\n",
    "# Download models\n",
    "!ollama pull mxbai-embed-large && llama3.1:8b-instruct-q4_1\n",
    "\n",
    "# Enhance llama3.1:8b-instruct-q4_1 with greater context window size\n",
    "load_dotenv(\"../../env/rag.env\")\n",
    "\n",
    "! echo -e \"FROM $CHAT_MODEL\\nPARAMETER num_ctx $LLM_CONTEXT_WINDOW_TOKENS\" > Modelfile\n",
    "! ollama create \"$CHAT_MODEL\" -f Modelfile"
   ]
  },
  {
   "cell_type": "code",
   "execution_count": 3,
   "metadata": {
    "execution": {
     "iopub.execute_input": "2025-05-13T12:55:47.028123Z",
     "iopub.status.busy": "2025-05-13T12:55:47.027520Z",
     "iopub.status.idle": "2025-05-13T12:55:47.151030Z",
     "shell.execute_reply": "2025-05-13T12:55:47.150273Z",
     "shell.execute_reply.started": "2025-05-13T12:55:47.028097Z"
    },
    "trusted": true
   },
   "outputs": [],
   "source": [
    "# Retrieve sensitive data\n",
    "from kaggle_secrets import UserSecretsClient\n",
    "\n",
    "user_secrets = UserSecretsClient()\n",
    "\n",
    "ragas_app_token = user_secrets.get_secret(\"RAGAS_APP_TOKEN\")\n",
    "\n",
    "os.environ['RAGAS_APP_TOKEN'] = ragas_app_token "
   ]
  },
  {
   "cell_type": "code",
   "execution_count": 4,
   "metadata": {
    "execution": {
     "iopub.execute_input": "2025-05-13T12:55:49.678394Z",
     "iopub.status.busy": "2025-05-13T12:55:49.677728Z",
     "iopub.status.idle": "2025-05-13T12:55:56.289841Z",
     "shell.execute_reply": "2025-05-13T12:55:56.289231Z",
     "shell.execute_reply.started": "2025-05-13T12:55:49.678362Z"
    },
    "trusted": true
   },
   "outputs": [
    {
     "name": "stdout",
     "output_type": "stream",
     "text": [
      "Please specify which dataset to evaluate (only the file name):  test_id_1-dataset\n"
     ]
    }
   ],
   "source": [
    "import json\n",
    "from typing import List, Dict\n",
    "from ragas import EvaluationDataset, SingleTurnSample\n",
    "\n",
    "# Load the dataset corresponding to the experiment you want to test\n",
    "\n",
    "# The are located under `./datasets`\n",
    "filepath: str = input(\"Please specify which dataset to evaluate (only the file name): \")\n",
    "\n",
    "goldens: List[Dict] = []\n",
    "try:\n",
    "    with open(file=f\"./datasets/{filepath}.jsonl\", mode=\"r\", encoding=\"utf-8\") as file:\n",
    "        for line in file:\n",
    "            if line.strip():  # Skip empty lines\n",
    "                goldens.append(json.loads(line))\n",
    "\n",
    "    samples: List[SingleTurnSample] = []\n",
    "    for golden in goldens:\n",
    "        single_turn_sample = SingleTurnSample(**golden)\n",
    "        samples.append(single_turn_sample)\n",
    "        \n",
    "    evaluation_dataset = EvaluationDataset(samples)\n",
    "except FileNotFoundError:\n",
    "    print(f\"File: `./datasets/{filepath}.jsonl` containing goldens not found!\")\n",
    "except json.JSONDecodeError as e:\n",
    "    print(f\"Error parsing JSONL file: {e}\")"
   ]
  },
  {
   "cell_type": "code",
   "execution_count": 5,
   "metadata": {
    "execution": {
     "iopub.execute_input": "2025-05-13T12:55:59.153911Z",
     "iopub.status.busy": "2025-05-13T12:55:59.153107Z",
     "iopub.status.idle": "2025-05-13T12:55:59.517833Z",
     "shell.execute_reply": "2025-05-13T12:55:59.517262Z",
     "shell.execute_reply.started": "2025-05-13T12:55:59.153885Z"
    },
    "trusted": true
   },
   "outputs": [],
   "source": [
    "import os\n",
    "from dotenv import load_dotenv\n",
    "from langchain_ollama import ChatOllama, OllamaEmbeddings\n",
    "\n",
    "from ragas import RunConfig, DiskCacheBackend\n",
    "from ragas.llms import LangchainLLMWrapper\n",
    "from ragas.embeddings import LangchainEmbeddingsWrapper\n",
    "\n",
    "# Instantiating required objects\n",
    "\n",
    "run_config = RunConfig(\n",
    "    timeout=86400,    # 24 hours on waiting for a single operation\n",
    "    max_retries=20,   # Max retries before giving up\n",
    "    max_wait=600,     # Max wait between retries\n",
    "    max_workers=4,    # Concurrent requests\n",
    "    log_tenacity=True # Print retry attempts\n",
    ")\n",
    "\n",
    "# This stores data generation and evaluation results locally on disk\n",
    "# When using it for the first time, it will create a .cache folder\n",
    "# When using it again, it will read from that folder and finish almost instantly\n",
    "cacher = DiskCacheBackend(cache_dir=f\".cache-{filepath}\")\n",
    "\n",
    "load_dotenv(\"../../env/rag.env\")\n",
    "\n",
    "ragas_llm = LangchainLLMWrapper(\n",
    "    langchain_llm=ChatOllama(\n",
    "        model=os.getenv(\"CHAT_MODEL\"),\n",
    "        base_url=\"http://localhost:11434\",\n",
    "        temperature=float(os.getenv(\"TEMPERATURE\")),\n",
    "        num_ctx=int(os.getenv(\"LLM_CONTEXT_WINDOW_TOKENS\")),\n",
    "        format=\"json\"\n",
    "    ),\n",
    "    run_config=run_config,\n",
    "    cache=cacher\n",
    ")\n",
    "\n",
    "ragas_embeddings = LangchainEmbeddingsWrapper(\n",
    "    embeddings=OllamaEmbeddings(\n",
    "        model=os.getenv(\"EMBEDDING_MODEL\"),\n",
    "        base_url=\"http://localhost:11434\"\n",
    "    ),\n",
    "    run_config=run_config,\n",
    "    cache=cacher\n",
    ")"
   ]
  },
  {
   "cell_type": "code",
   "execution_count": 6,
   "metadata": {
    "execution": {
     "iopub.execute_input": "2025-05-13T12:56:01.796361Z",
     "iopub.status.busy": "2025-05-13T12:56:01.795775Z",
     "iopub.status.idle": "2025-05-13T12:56:01.801574Z",
     "shell.execute_reply": "2025-05-13T12:56:01.800889Z",
     "shell.execute_reply.started": "2025-05-13T12:56:01.796325Z"
    },
    "trusted": true
   },
   "outputs": [],
   "source": [
    "from ragas.metrics import LLMContextPrecisionWithReference\n",
    "from prompts.metrics.custom_context_precision_prompt import MyContextPrecisionPrompt\n",
    "\n",
    "context_precision = LLMContextPrecisionWithReference(\n",
    "    name=\"context_precision\",\n",
    "    context_precision_prompt=MyContextPrecisionPrompt(),\n",
    "    max_retries=20\n",
    ")"
   ]
  },
  {
   "cell_type": "code",
   "execution_count": 7,
   "metadata": {
    "execution": {
     "iopub.execute_input": "2025-05-13T12:56:04.511576Z",
     "iopub.status.busy": "2025-05-13T12:56:04.510915Z",
     "iopub.status.idle": "2025-05-13T12:56:04.516288Z",
     "shell.execute_reply": "2025-05-13T12:56:04.515600Z",
     "shell.execute_reply.started": "2025-05-13T12:56:04.511549Z"
    },
    "trusted": true
   },
   "outputs": [],
   "source": [
    "from ragas.metrics import LLMContextRecall   \n",
    "from prompts.metrics.custom_context_recall_prompt import MyContextRecallPrompt\n",
    "\n",
    "context_recall = LLMContextRecall(\n",
    "    name=\"context_recall\",\n",
    "    context_recall_prompt=MyContextRecallPrompt(),\n",
    "    max_retries=20\n",
    ")"
   ]
  },
  {
   "cell_type": "code",
   "execution_count": 8,
   "metadata": {
    "execution": {
     "iopub.execute_input": "2025-05-13T12:56:06.992768Z",
     "iopub.status.busy": "2025-05-13T12:56:06.991909Z",
     "iopub.status.idle": "2025-05-13T12:56:06.997701Z",
     "shell.execute_reply": "2025-05-13T12:56:06.996984Z",
     "shell.execute_reply.started": "2025-05-13T12:56:06.992734Z"
    },
    "trusted": true
   },
   "outputs": [],
   "source": [
    "from ragas.metrics import ContextEntityRecall\n",
    "from prompts.metrics.custom_context_entities_recall_prompt import MyContextEntitiesRecallPrompt\n",
    "\n",
    "context_entity_recall = ContextEntityRecall(\n",
    "    context_entity_recall_prompt=MyContextEntitiesRecallPrompt(),\n",
    "    max_retries=20\n",
    ")"
   ]
  },
  {
   "cell_type": "code",
   "execution_count": 9,
   "metadata": {
    "execution": {
     "iopub.execute_input": "2025-05-13T12:56:09.519099Z",
     "iopub.status.busy": "2025-05-13T12:56:09.518494Z",
     "iopub.status.idle": "2025-05-13T12:56:09.525142Z",
     "shell.execute_reply": "2025-05-13T12:56:09.524381Z",
     "shell.execute_reply.started": "2025-05-13T12:56:09.519077Z"
    },
    "trusted": true
   },
   "outputs": [],
   "source": [
    "from ragas.metrics import NoiseSensitivity\n",
    "from prompts.metrics.faithfulness.custom_nli_generator_prompt import MyNLIStatementPrompt\n",
    "from prompts.metrics.faithfulness.custom_statement_generator_prompt import MyStatementGeneratorPrompt\n",
    "\n",
    "noise_sensitivity = NoiseSensitivity(\n",
    "    nli_statements_prompt=MyNLIStatementPrompt(),\n",
    "    statement_generator_prompt=MyStatementGeneratorPrompt(),\n",
    "    max_retries=20\n",
    ")"
   ]
  },
  {
   "cell_type": "code",
   "execution_count": 10,
   "metadata": {
    "execution": {
     "iopub.execute_input": "2025-05-13T12:56:11.700789Z",
     "iopub.status.busy": "2025-05-13T12:56:11.700215Z",
     "iopub.status.idle": "2025-05-13T12:56:11.705324Z",
     "shell.execute_reply": "2025-05-13T12:56:11.704551Z",
     "shell.execute_reply.started": "2025-05-13T12:56:11.700766Z"
    },
    "trusted": true
   },
   "outputs": [],
   "source": [
    "from ragas.metrics import ResponseRelevancy\n",
    "from prompts.metrics.custom_response_relevance_prompt import MyResponseRelevancePrompt\n",
    "\n",
    "response_relevancy = ResponseRelevancy(\n",
    "    question_generation=MyResponseRelevancePrompt()\n",
    ")"
   ]
  },
  {
   "cell_type": "code",
   "execution_count": 11,
   "metadata": {
    "execution": {
     "iopub.execute_input": "2025-05-13T12:56:14.011269Z",
     "iopub.status.busy": "2025-05-13T12:56:14.010585Z",
     "iopub.status.idle": "2025-05-13T12:56:14.015216Z",
     "shell.execute_reply": "2025-05-13T12:56:14.014680Z",
     "shell.execute_reply.started": "2025-05-13T12:56:14.011245Z"
    },
    "trusted": true
   },
   "outputs": [],
   "source": [
    "from ragas.metrics import Faithfulness\n",
    "from prompts.metrics.faithfulness.custom_nli_generator_prompt import MyNLIStatementPrompt\n",
    "from prompts.metrics.faithfulness.custom_statement_generator_prompt import MyStatementGeneratorPrompt\n",
    "\n",
    "faithfulness = Faithfulness(\n",
    "    nli_statements_prompt=MyNLIStatementPrompt(),\n",
    "    statement_generator_prompt=MyStatementGeneratorPrompt(),\n",
    "    max_retries=20,\n",
    ")"
   ]
  },
  {
   "cell_type": "code",
   "execution_count": 12,
   "metadata": {
    "execution": {
     "iopub.execute_input": "2025-05-13T12:56:16.181100Z",
     "iopub.status.busy": "2025-05-13T12:56:16.180510Z",
     "iopub.status.idle": "2025-05-13T12:56:16.185787Z",
     "shell.execute_reply": "2025-05-13T12:56:16.185038Z",
     "shell.execute_reply.started": "2025-05-13T12:56:16.181076Z"
    },
    "trusted": true
   },
   "outputs": [],
   "source": [
    "from ragas.metrics import FactualCorrectness\n",
    "from prompts.metrics.faithfulness.custom_nli_generator_prompt import MyNLIStatementPrompt\n",
    "\n",
    "factual_correctness = FactualCorrectness(\n",
    "    nli_prompt=MyNLIStatementPrompt()\n",
    ")"
   ]
  },
  {
   "cell_type": "code",
   "execution_count": 13,
   "metadata": {
    "execution": {
     "iopub.execute_input": "2025-05-13T12:56:18.103876Z",
     "iopub.status.busy": "2025-05-13T12:56:18.103106Z",
     "iopub.status.idle": "2025-05-13T12:56:18.107215Z",
     "shell.execute_reply": "2025-05-13T12:56:18.106678Z",
     "shell.execute_reply.started": "2025-05-13T12:56:18.103847Z"
    },
    "trusted": true
   },
   "outputs": [],
   "source": [
    "from ragas.metrics import SemanticSimilarity\n",
    "\n",
    "semantic_similarity = SemanticSimilarity(\n",
    "    threshold=0.7, # Default is 0.5 = 50%\n",
    ")"
   ]
  },
  {
   "cell_type": "code",
   "execution_count": 14,
   "metadata": {
    "execution": {
     "iopub.execute_input": "2025-05-13T12:56:20.295826Z",
     "iopub.status.busy": "2025-05-13T12:56:20.295085Z",
     "iopub.status.idle": "2025-05-13T15:20:42.345894Z",
     "shell.execute_reply": "2025-05-13T15:20:42.345331Z",
     "shell.execute_reply.started": "2025-05-13T12:56:20.295799Z"
    },
    "trusted": true
   },
   "outputs": [
    {
     "data": {
      "application/vnd.jupyter.widget-view+json": {
       "model_id": "bf632d52fab94bd8bc55049ba6af7012",
       "version_major": 2,
       "version_minor": 0
      },
      "text/plain": [
       "Evaluating:   0%|          | 0/408 [00:00<?, ?it/s]"
      ]
     },
     "metadata": {},
     "output_type": "display_data"
    },
    {
     "name": "stderr",
     "output_type": "stream",
     "text": [
      "time=2025-05-13T12:56:20.553Z level=WARN source=ggml.go:152 msg=\"key not found\" key=general.alignment default=32\n",
      "time=2025-05-13T12:56:20.557Z level=WARN source=ggml.go:152 msg=\"key not found\" key=general.alignment default=32\n",
      "time=2025-05-13T12:56:20.575Z level=WARN source=ggml.go:152 msg=\"key not found\" key=general.alignment default=32\n",
      "time=2025-05-13T12:56:20.577Z level=WARN source=ggml.go:152 msg=\"key not found\" key=general.alignment default=32\n",
      "time=2025-05-13T12:56:20.832Z level=WARN source=ggml.go:152 msg=\"key not found\" key=general.alignment default=32\n",
      "time=2025-05-13T12:56:20.854Z level=WARN source=ggml.go:152 msg=\"key not found\" key=general.alignment default=32\n",
      "time=2025-05-13T12:56:20.855Z level=WARN source=ggml.go:152 msg=\"key not found\" key=llama.vision.block_count default=0\n",
      "time=2025-05-13T12:56:20.855Z level=WARN source=ggml.go:152 msg=\"key not found\" key=llama.attention.key_length default=128\n",
      "time=2025-05-13T12:56:20.855Z level=WARN source=ggml.go:152 msg=\"key not found\" key=llama.attention.value_length default=128\n",
      "time=2025-05-13T12:56:20.856Z level=INFO source=sched.go:754 msg=\"new model will fit in available VRAM in single GPU, loading\" model=/root/.ollama/models/blobs/sha256-5bf327c162140db656bda216d5e5997bb2b9c889373cd45a36732cc5d1276677 gpu=GPU-fdbb1848-7be4-545a-c302-2b7598598957 parallel=2 available=15720382464 required=\"11.1 GiB\"\n",
      "time=2025-05-13T12:56:21.059Z level=INFO source=server.go:106 msg=\"system memory\" total=\"31.4 GiB\" free=\"29.8 GiB\" free_swap=\"0 B\"\n",
      "time=2025-05-13T12:56:21.059Z level=WARN source=ggml.go:152 msg=\"key not found\" key=llama.vision.block_count default=0\n",
      "time=2025-05-13T12:56:21.059Z level=WARN source=ggml.go:152 msg=\"key not found\" key=llama.attention.key_length default=128\n",
      "time=2025-05-13T12:56:21.060Z level=WARN source=ggml.go:152 msg=\"key not found\" key=llama.attention.value_length default=128\n",
      "time=2025-05-13T12:56:21.060Z level=INFO source=server.go:139 msg=offload library=cuda layers.requested=-1 layers.model=33 layers.offload=33 layers.split=\"\" memory.available=\"[14.6 GiB]\" memory.gpu_overhead=\"0 B\" memory.required.full=\"11.1 GiB\" memory.required.partial=\"11.1 GiB\" memory.required.kv=\"3.9 GiB\" memory.required.allocations=\"[11.1 GiB]\" memory.weights.total=\"4.5 GiB\" memory.weights.repeating=\"4.1 GiB\" memory.weights.nonrepeating=\"411.0 MiB\" memory.graph.full=\"2.0 GiB\" memory.graph.partial=\"2.2 GiB\"\n",
      "llama_model_loader: loaded meta data with 29 key-value pairs and 292 tensors from /root/.ollama/models/blobs/sha256-5bf327c162140db656bda216d5e5997bb2b9c889373cd45a36732cc5d1276677 (version GGUF V3 (latest))\n",
      "llama_model_loader: Dumping metadata keys/values. Note: KV overrides do not apply in this output.\n",
      "llama_model_loader: - kv   0:                       general.architecture str              = llama\n",
      "llama_model_loader: - kv   1:                               general.type str              = model\n",
      "llama_model_loader: - kv   2:                               general.name str              = Meta Llama 3.1 8B Instruct\n",
      "llama_model_loader: - kv   3:                           general.finetune str              = Instruct\n",
      "llama_model_loader: - kv   4:                           general.basename str              = Meta-Llama-3.1\n",
      "llama_model_loader: - kv   5:                         general.size_label str              = 8B\n",
      "llama_model_loader: - kv   6:                            general.license str              = llama3.1\n",
      "llama_model_loader: - kv   7:                               general.tags arr[str,6]       = [\"facebook\", \"meta\", \"pytorch\", \"llam...\n",
      "llama_model_loader: - kv   8:                          general.languages arr[str,8]       = [\"en\", \"de\", \"fr\", \"it\", \"pt\", \"hi\", ...\n",
      "llama_model_loader: - kv   9:                          llama.block_count u32              = 32\n",
      "llama_model_loader: - kv  10:                       llama.context_length u32              = 131072\n",
      "llama_model_loader: - kv  11:                     llama.embedding_length u32              = 4096\n",
      "llama_model_loader: - kv  12:                  llama.feed_forward_length u32              = 14336\n",
      "llama_model_loader: - kv  13:                 llama.attention.head_count u32              = 32\n",
      "llama_model_loader: - kv  14:              llama.attention.head_count_kv u32              = 8\n",
      "llama_model_loader: - kv  15:                       llama.rope.freq_base f32              = 500000.000000\n",
      "llama_model_loader: - kv  16:     llama.attention.layer_norm_rms_epsilon f32              = 0.000010\n",
      "llama_model_loader: - kv  17:                          general.file_type u32              = 3\n",
      "llama_model_loader: - kv  18:                           llama.vocab_size u32              = 128256\n",
      "llama_model_loader: - kv  19:                 llama.rope.dimension_count u32              = 128\n",
      "llama_model_loader: - kv  20:                       tokenizer.ggml.model str              = gpt2\n",
      "llama_model_loader: - kv  21:                         tokenizer.ggml.pre str              = llama-bpe\n",
      "llama_model_loader: - kv  22:                      tokenizer.ggml.tokens arr[str,128256]  = [\"!\", \"\\\"\", \"#\", \"$\", \"%\", \"&\", \"'\", ...\n",
      "llama_model_loader: - kv  23:                  tokenizer.ggml.token_type arr[i32,128256]  = [1, 1, 1, 1, 1, 1, 1, 1, 1, 1, 1, 1, ...\n",
      "llama_model_loader: - kv  24:                      tokenizer.ggml.merges arr[str,280147]  = [\"Ġ Ġ\", \"Ġ ĠĠĠ\", \"ĠĠ ĠĠ\", \"...\n",
      "llama_model_loader: - kv  25:                tokenizer.ggml.bos_token_id u32              = 128000\n",
      "llama_model_loader: - kv  26:                tokenizer.ggml.eos_token_id u32              = 128009\n",
      "llama_model_loader: - kv  27:                    tokenizer.chat_template str              = {{- bos_token }}\\n{%- if custom_tools ...\n",
      "llama_model_loader: - kv  28:               general.quantization_version u32              = 2\n",
      "llama_model_loader: - type  f32:   66 tensors\n",
      "llama_model_loader: - type q4_1:  225 tensors\n",
      "llama_model_loader: - type q6_K:    1 tensors\n",
      "print_info: file format = GGUF V3 (latest)\n",
      "print_info: file type   = Q4_1\n",
      "print_info: file size   = 4.77 GiB (5.10 BPW) \n",
      "load: special tokens cache size = 256\n",
      "load: token to piece cache size = 0.7999 MB\n",
      "print_info: arch             = llama\n",
      "print_info: vocab_only       = 1\n",
      "print_info: model type       = ?B\n",
      "print_info: model params     = 8.03 B\n",
      "print_info: general.name     = Meta Llama 3.1 8B Instruct\n",
      "print_info: vocab type       = BPE\n",
      "print_info: n_vocab          = 128256\n",
      "print_info: n_merges         = 280147\n",
      "print_info: BOS token        = 128000 '<|begin_of_text|>'\n",
      "print_info: EOS token        = 128009 '<|eot_id|>'\n",
      "print_info: EOT token        = 128009 '<|eot_id|>'\n",
      "print_info: EOM token        = 128008 '<|eom_id|>'\n",
      "print_info: LF token         = 198 'Ċ'\n",
      "print_info: EOG token        = 128008 '<|eom_id|>'\n",
      "print_info: EOG token        = 128009 '<|eot_id|>'\n",
      "print_info: max token length = 256\n",
      "llama_model_load: vocab only - skipping tensors\n",
      "time=2025-05-13T12:56:21.433Z level=INFO source=server.go:410 msg=\"starting llama server\" cmd=\"/usr/local/bin/ollama runner --model /root/.ollama/models/blobs/sha256-5bf327c162140db656bda216d5e5997bb2b9c889373cd45a36732cc5d1276677 --ctx-size 32000 --batch-size 512 --n-gpu-layers 33 --threads 2 --parallel 2 --port 38999\"\n",
      "time=2025-05-13T12:56:21.434Z level=INFO source=sched.go:452 msg=\"loaded runners\" count=1\n",
      "time=2025-05-13T12:56:21.434Z level=INFO source=server.go:589 msg=\"waiting for llama runner to start responding\"\n",
      "time=2025-05-13T12:56:21.434Z level=INFO source=server.go:623 msg=\"waiting for server to become available\" status=\"llm server not responding\"\n",
      "time=2025-05-13T12:56:21.452Z level=INFO source=runner.go:853 msg=\"starting go runner\"\n",
      "load_backend: loaded CPU backend from /usr/local/lib/ollama/libggml-cpu-skylakex.so\n",
      "ggml_cuda_init: GGML_CUDA_FORCE_MMQ:    no\n",
      "ggml_cuda_init: GGML_CUDA_FORCE_CUBLAS: no\n",
      "ggml_cuda_init: found 1 CUDA devices:\n",
      "  Device 0: Tesla T4, compute capability 7.5, VMM: yes\n",
      "load_backend: loaded CUDA backend from /usr/local/lib/ollama/cuda_v12/libggml-cuda.so\n",
      "time=2025-05-13T12:56:21.554Z level=INFO source=ggml.go:103 msg=system CPU.0.SSE3=1 CPU.0.SSSE3=1 CPU.0.AVX=1 CPU.0.AVX2=1 CPU.0.F16C=1 CPU.0.FMA=1 CPU.0.BMI2=1 CPU.0.AVX512=1 CPU.0.LLAMAFILE=1 CPU.1.LLAMAFILE=1 CUDA.0.ARCHS=500,600,610,700,750,800,860,870,890,900,1200 CUDA.0.USE_GRAPHS=1 CUDA.0.PEER_MAX_BATCH_SIZE=128 compiler=cgo(gcc)\n",
      "time=2025-05-13T12:56:21.558Z level=INFO source=runner.go:913 msg=\"Server listening on 127.0.0.1:38999\"\n",
      "llama_model_load_from_file_impl: using device CUDA0 (Tesla T4) - 14992 MiB free\n",
      "time=2025-05-13T12:56:21.685Z level=INFO source=server.go:623 msg=\"waiting for server to become available\" status=\"llm server loading model\"\n",
      "llama_model_loader: loaded meta data with 29 key-value pairs and 292 tensors from /root/.ollama/models/blobs/sha256-5bf327c162140db656bda216d5e5997bb2b9c889373cd45a36732cc5d1276677 (version GGUF V3 (latest))\n",
      "llama_model_loader: Dumping metadata keys/values. Note: KV overrides do not apply in this output.\n",
      "llama_model_loader: - kv   0:                       general.architecture str              = llama\n",
      "llama_model_loader: - kv   1:                               general.type str              = model\n",
      "llama_model_loader: - kv   2:                               general.name str              = Meta Llama 3.1 8B Instruct\n",
      "llama_model_loader: - kv   3:                           general.finetune str              = Instruct\n",
      "llama_model_loader: - kv   4:                           general.basename str              = Meta-Llama-3.1\n",
      "llama_model_loader: - kv   5:                         general.size_label str              = 8B\n",
      "llama_model_loader: - kv   6:                            general.license str              = llama3.1\n",
      "llama_model_loader: - kv   7:                               general.tags arr[str,6]       = [\"facebook\", \"meta\", \"pytorch\", \"llam...\n",
      "llama_model_loader: - kv   8:                          general.languages arr[str,8]       = [\"en\", \"de\", \"fr\", \"it\", \"pt\", \"hi\", ...\n",
      "llama_model_loader: - kv   9:                          llama.block_count u32              = 32\n",
      "llama_model_loader: - kv  10:                       llama.context_length u32              = 131072\n",
      "llama_model_loader: - kv  11:                     llama.embedding_length u32              = 4096\n",
      "llama_model_loader: - kv  12:                  llama.feed_forward_length u32              = 14336\n",
      "llama_model_loader: - kv  13:                 llama.attention.head_count u32              = 32\n",
      "llama_model_loader: - kv  14:              llama.attention.head_count_kv u32              = 8\n",
      "llama_model_loader: - kv  15:                       llama.rope.freq_base f32              = 500000.000000\n",
      "llama_model_loader: - kv  16:     llama.attention.layer_norm_rms_epsilon f32              = 0.000010\n",
      "llama_model_loader: - kv  17:                          general.file_type u32              = 3\n",
      "llama_model_loader: - kv  18:                           llama.vocab_size u32              = 128256\n",
      "llama_model_loader: - kv  19:                 llama.rope.dimension_count u32              = 128\n",
      "llama_model_loader: - kv  20:                       tokenizer.ggml.model str              = gpt2\n",
      "llama_model_loader: - kv  21:                         tokenizer.ggml.pre str              = llama-bpe\n",
      "llama_model_loader: - kv  22:                      tokenizer.ggml.tokens arr[str,128256]  = [\"!\", \"\\\"\", \"#\", \"$\", \"%\", \"&\", \"'\", ...\n",
      "llama_model_loader: - kv  23:                  tokenizer.ggml.token_type arr[i32,128256]  = [1, 1, 1, 1, 1, 1, 1, 1, 1, 1, 1, 1, ...\n",
      "llama_model_loader: - kv  24:                      tokenizer.ggml.merges arr[str,280147]  = [\"Ġ Ġ\", \"Ġ ĠĠĠ\", \"ĠĠ ĠĠ\", \"...\n",
      "llama_model_loader: - kv  25:                tokenizer.ggml.bos_token_id u32              = 128000\n",
      "llama_model_loader: - kv  26:                tokenizer.ggml.eos_token_id u32              = 128009\n",
      "llama_model_loader: - kv  27:                    tokenizer.chat_template str              = {{- bos_token }}\\n{%- if custom_tools ...\n",
      "llama_model_loader: - kv  28:               general.quantization_version u32              = 2\n",
      "llama_model_loader: - type  f32:   66 tensors\n",
      "llama_model_loader: - type q4_1:  225 tensors\n",
      "llama_model_loader: - type q6_K:    1 tensors\n",
      "print_info: file format = GGUF V3 (latest)\n",
      "print_info: file type   = Q4_1\n",
      "print_info: file size   = 4.77 GiB (5.10 BPW) \n",
      "load: special tokens cache size = 256\n",
      "load: token to piece cache size = 0.7999 MB\n",
      "print_info: arch             = llama\n",
      "print_info: vocab_only       = 0\n",
      "print_info: n_ctx_train      = 131072\n",
      "print_info: n_embd           = 4096\n",
      "print_info: n_layer          = 32\n",
      "print_info: n_head           = 32\n",
      "print_info: n_head_kv        = 8\n",
      "print_info: n_rot            = 128\n",
      "print_info: n_swa            = 0\n",
      "print_info: n_swa_pattern    = 1\n",
      "print_info: n_embd_head_k    = 128\n",
      "print_info: n_embd_head_v    = 128\n",
      "print_info: n_gqa            = 4\n",
      "print_info: n_embd_k_gqa     = 1024\n",
      "print_info: n_embd_v_gqa     = 1024\n",
      "print_info: f_norm_eps       = 0.0e+00\n",
      "print_info: f_norm_rms_eps   = 1.0e-05\n",
      "print_info: f_clamp_kqv      = 0.0e+00\n",
      "print_info: f_max_alibi_bias = 0.0e+00\n",
      "print_info: f_logit_scale    = 0.0e+00\n",
      "print_info: f_attn_scale     = 0.0e+00\n",
      "print_info: n_ff             = 14336\n",
      "print_info: n_expert         = 0\n",
      "print_info: n_expert_used    = 0\n",
      "print_info: causal attn      = 1\n",
      "print_info: pooling type     = 0\n",
      "print_info: rope type        = 0\n",
      "print_info: rope scaling     = linear\n",
      "print_info: freq_base_train  = 500000.0\n",
      "print_info: freq_scale_train = 1\n",
      "print_info: n_ctx_orig_yarn  = 131072\n",
      "print_info: rope_finetuned   = unknown\n",
      "print_info: ssm_d_conv       = 0\n",
      "print_info: ssm_d_inner      = 0\n",
      "print_info: ssm_d_state      = 0\n",
      "print_info: ssm_dt_rank      = 0\n",
      "print_info: ssm_dt_b_c_rms   = 0\n",
      "print_info: model type       = 8B\n",
      "print_info: model params     = 8.03 B\n",
      "print_info: general.name     = Meta Llama 3.1 8B Instruct\n",
      "print_info: vocab type       = BPE\n",
      "print_info: n_vocab          = 128256\n",
      "print_info: n_merges         = 280147\n",
      "print_info: BOS token        = 128000 '<|begin_of_text|>'\n",
      "print_info: EOS token        = 128009 '<|eot_id|>'\n",
      "print_info: EOT token        = 128009 '<|eot_id|>'\n",
      "print_info: EOM token        = 128008 '<|eom_id|>'\n",
      "print_info: LF token         = 198 'Ċ'\n",
      "print_info: EOG token        = 128008 '<|eom_id|>'\n",
      "print_info: EOG token        = 128009 '<|eot_id|>'\n",
      "print_info: max token length = 256\n",
      "load_tensors: loading model tensors, this can take a while... (mmap = true)\n",
      "load_tensors: offloading 32 repeating layers to GPU\n",
      "load_tensors: offloading output layer to GPU\n",
      "load_tensors: offloaded 33/33 layers to GPU\n",
      "load_tensors:        CUDA0 model buffer size =  4571.99 MiB\n",
      "load_tensors:   CPU_Mapped model buffer size =   313.12 MiB\n",
      "llama_context: constructing llama_context\n",
      "llama_context: n_seq_max     = 2\n",
      "llama_context: n_ctx         = 32000\n",
      "llama_context: n_ctx_per_seq = 16000\n",
      "llama_context: n_batch       = 1024\n",
      "llama_context: n_ubatch      = 512\n",
      "llama_context: causal_attn   = 1\n",
      "llama_context: flash_attn    = 0\n",
      "llama_context: freq_base     = 500000.0\n",
      "llama_context: freq_scale    = 1\n",
      "llama_context: n_ctx_per_seq (16000) < n_ctx_train (131072) -- the full capacity of the model will not be utilized\n",
      "llama_context:  CUDA_Host  output buffer size =     1.01 MiB\n",
      "init: kv_size = 32000, offload = 1, type_k = 'f16', type_v = 'f16', n_layer = 32, can_shift = 1\n",
      "init:      CUDA0 KV buffer size =  4000.00 MiB\n",
      "llama_context: KV self size  = 4000.00 MiB, K (f16): 2000.00 MiB, V (f16): 2000.00 MiB\n",
      "llama_context:      CUDA0 compute buffer size =  2094.50 MiB\n",
      "llama_context:  CUDA_Host compute buffer size =    70.51 MiB\n",
      "llama_context: graph nodes  = 1094\n",
      "llama_context: graph splits = 2\n",
      "time=2025-05-13T12:56:23.693Z level=INFO source=server.go:628 msg=\"llama runner started in 2.26 seconds\"\n"
     ]
    },
    {
     "name": "stdout",
     "output_type": "stream",
     "text": [
      "[GIN] 2025/05/13 - 12:56:34 | 200 | 13.913590431s |       127.0.0.1 | POST     \"/api/chat\"\n"
     ]
    },
    {
     "name": "stderr",
     "output_type": "stream",
     "text": [
      "time=2025-05-13T12:56:34.472Z level=WARN source=ggml.go:152 msg=\"key not found\" key=general.alignment default=32\n"
     ]
    },
    {
     "name": "stdout",
     "output_type": "stream",
     "text": [
      "[GIN] 2025/05/13 - 12:56:37 | 200 | 16.589974523s |       127.0.0.1 | POST     \"/api/chat\"\n"
     ]
    },
    {
     "name": "stderr",
     "output_type": "stream",
     "text": [
      "time=2025-05-13T12:56:37.138Z level=WARN source=ggml.go:152 msg=\"key not found\" key=general.alignment default=32\n"
     ]
    },
    {
     "name": "stdout",
     "output_type": "stream",
     "text": [
      "[GIN] 2025/05/13 - 12:56:37 | 200 | 16.897664119s |       127.0.0.1 | POST     \"/api/chat\"\n"
     ]
    },
    {
     "name": "stderr",
     "output_type": "stream",
     "text": [
      "time=2025-05-13T12:56:37.461Z level=WARN source=ggml.go:152 msg=\"key not found\" key=general.alignment default=32\n"
     ]
    },
    {
     "name": "stdout",
     "output_type": "stream",
     "text": [
      "[GIN] 2025/05/13 - 12:56:44 | 200 | 10.215821046s |       127.0.0.1 | POST     \"/api/chat\"\n"
     ]
    },
    {
     "name": "stderr",
     "output_type": "stream",
     "text": [
      "time=2025-05-13T12:56:44.701Z level=WARN source=ggml.go:152 msg=\"key not found\" key=general.alignment default=32\n"
     ]
    },
    {
     "name": "stdout",
     "output_type": "stream",
     "text": [
      "[GIN] 2025/05/13 - 12:56:49 | 200 | 29.339160536s |       127.0.0.1 | POST     \"/api/chat\"\n"
     ]
    },
    {
     "name": "stderr",
     "output_type": "stream",
     "text": [
      "time=2025-05-13T12:56:49.911Z level=WARN source=ggml.go:152 msg=\"key not found\" key=general.alignment default=32\n"
     ]
    },
    {
     "name": "stdout",
     "output_type": "stream",
     "text": [
      "[GIN] 2025/05/13 - 12:56:52 | 200 | 15.071730878s |       127.0.0.1 | POST     \"/api/chat\"\n"
     ]
    },
    {
     "name": "stderr",
     "output_type": "stream",
     "text": [
      "time=2025-05-13T12:56:52.541Z level=WARN source=ggml.go:152 msg=\"key not found\" key=general.alignment default=32\n"
     ]
    },
    {
     "name": "stdout",
     "output_type": "stream",
     "text": [
      "[GIN] 2025/05/13 - 12:56:55 | 200 | 18.820173366s |       127.0.0.1 | POST     \"/api/chat\"\n"
     ]
    },
    {
     "name": "stderr",
     "output_type": "stream",
     "text": [
      "time=2025-05-13T12:56:55.964Z level=WARN source=ggml.go:152 msg=\"key not found\" key=general.alignment default=32\n"
     ]
    },
    {
     "name": "stdout",
     "output_type": "stream",
     "text": [
      "[GIN] 2025/05/13 - 12:56:58 | 200 |  8.752625234s |       127.0.0.1 | POST     \"/api/chat\"\n"
     ]
    },
    {
     "name": "stderr",
     "output_type": "stream",
     "text": [
      "time=2025-05-13T12:56:58.667Z level=WARN source=ggml.go:152 msg=\"key not found\" key=general.alignment default=32\n"
     ]
    },
    {
     "name": "stdout",
     "output_type": "stream",
     "text": [
      "[GIN] 2025/05/13 - 12:57:01 | 200 |  8.801988721s |       127.0.0.1 | POST     \"/api/chat\"\n"
     ]
    },
    {
     "name": "stderr",
     "output_type": "stream",
     "text": [
      "time=2025-05-13T12:57:01.353Z level=WARN source=ggml.go:152 msg=\"key not found\" key=general.alignment default=32\n"
     ]
    },
    {
     "name": "stdout",
     "output_type": "stream",
     "text": [
      "[GIN] 2025/05/13 - 12:57:05 | 200 | 21.240209382s |       127.0.0.1 | POST     \"/api/chat\"\n"
     ]
    },
    {
     "name": "stderr",
     "output_type": "stream",
     "text": [
      "time=2025-05-13T12:57:05.951Z level=WARN source=ggml.go:152 msg=\"key not found\" key=general.alignment default=32\n"
     ]
    },
    {
     "name": "stdout",
     "output_type": "stream",
     "text": [
      "[GIN] 2025/05/13 - 12:57:14 | 200 | 16.325063118s |       127.0.0.1 | POST     \"/api/chat\"\n"
     ]
    },
    {
     "name": "stderr",
     "output_type": "stream",
     "text": [
      "time=2025-05-13T12:57:15.008Z level=WARN source=ggml.go:152 msg=\"key not found\" key=general.alignment default=32\n"
     ]
    },
    {
     "name": "stdout",
     "output_type": "stream",
     "text": [
      "[GIN] 2025/05/13 - 12:57:17 | 200 | 21.130803333s |       127.0.0.1 | POST     \"/api/chat\"\n"
     ]
    },
    {
     "name": "stderr",
     "output_type": "stream",
     "text": [
      "time=2025-05-13T12:57:17.106Z level=WARN source=ggml.go:152 msg=\"key not found\" key=general.alignment default=32\n"
     ]
    },
    {
     "name": "stdout",
     "output_type": "stream",
     "text": [
      "[GIN] 2025/05/13 - 12:57:17 | 200 | 16.604133186s |       127.0.0.1 | POST     \"/api/chat\"\n"
     ]
    },
    {
     "name": "stderr",
     "output_type": "stream",
     "text": [
      "time=2025-05-13T12:57:17.961Z level=WARN source=ggml.go:152 msg=\"key not found\" key=general.alignment default=32\n"
     ]
    },
    {
     "name": "stdout",
     "output_type": "stream",
     "text": [
      "[GIN] 2025/05/13 - 12:57:22 | 200 |  7.658534706s |       127.0.0.1 | POST     \"/api/chat\"\n"
     ]
    },
    {
     "name": "stderr",
     "output_type": "stream",
     "text": [
      "time=2025-05-13T12:57:22.663Z level=WARN source=ggml.go:152 msg=\"key not found\" key=general.alignment default=32\n"
     ]
    },
    {
     "name": "stdout",
     "output_type": "stream",
     "text": [
      "[GIN] 2025/05/13 - 12:57:29 | 200 | 23.622717753s |       127.0.0.1 | POST     \"/api/chat\"\n"
     ]
    },
    {
     "name": "stderr",
     "output_type": "stream",
     "text": [
      "time=2025-05-13T12:57:29.568Z level=WARN source=ggml.go:152 msg=\"key not found\" key=general.alignment default=32\n"
     ]
    },
    {
     "name": "stdout",
     "output_type": "stream",
     "text": [
      "[GIN] 2025/05/13 - 12:57:30 | 200 | 13.051802615s |       127.0.0.1 | POST     \"/api/chat\"\n"
     ]
    },
    {
     "name": "stderr",
     "output_type": "stream",
     "text": [
      "time=2025-05-13T12:57:31.031Z level=WARN source=ggml.go:152 msg=\"key not found\" key=general.alignment default=32\n"
     ]
    },
    {
     "name": "stdout",
     "output_type": "stream",
     "text": [
      "[GIN] 2025/05/13 - 12:57:34 | 200 |  11.68859909s |       127.0.0.1 | POST     \"/api/chat\"\n"
     ]
    },
    {
     "name": "stderr",
     "output_type": "stream",
     "text": [
      "time=2025-05-13T12:57:34.357Z level=WARN source=ggml.go:152 msg=\"key not found\" key=general.alignment default=32\n"
     ]
    },
    {
     "name": "stdout",
     "output_type": "stream",
     "text": [
      "[GIN] 2025/05/13 - 12:57:36 | 200 | 19.523581708s |       127.0.0.1 | POST     \"/api/chat\"\n"
     ]
    },
    {
     "name": "stderr",
     "output_type": "stream",
     "text": [
      "time=2025-05-13T12:57:36.664Z level=WARN source=ggml.go:152 msg=\"key not found\" key=general.alignment default=32\n",
      "time=2025-05-13T12:57:36.665Z level=WARN source=ggml.go:152 msg=\"key not found\" key=general.alignment default=32\n",
      "time=2025-05-13T12:57:36.668Z level=WARN source=ggml.go:152 msg=\"key not found\" key=general.alignment default=32\n"
     ]
    },
    {
     "name": "stdout",
     "output_type": "stream",
     "text": [
      "[GIN] 2025/05/13 - 12:57:41 | 200 | 10.759758387s |       127.0.0.1 | POST     \"/api/chat\"\n"
     ]
    },
    {
     "name": "stderr",
     "output_type": "stream",
     "text": [
      "time=2025-05-13T12:57:41.802Z level=WARN source=ggml.go:152 msg=\"key not found\" key=general.alignment default=32\n"
     ]
    },
    {
     "name": "stdout",
     "output_type": "stream",
     "text": [
      "[GIN] 2025/05/13 - 12:57:46 | 200 |  11.72723136s |       127.0.0.1 | POST     \"/api/chat\"\n"
     ]
    },
    {
     "name": "stderr",
     "output_type": "stream",
     "text": [
      "time=2025-05-13T12:57:46.104Z level=WARN source=ggml.go:152 msg=\"key not found\" key=general.alignment default=32\n"
     ]
    },
    {
     "name": "stdout",
     "output_type": "stream",
     "text": [
      "[GIN] 2025/05/13 - 12:57:47 | 200 |  11.08274193s |       127.0.0.1 | POST     \"/api/chat\"\n",
      "[GIN] 2025/05/13 - 12:57:48 | 200 | 19.047363359s |       127.0.0.1 | POST     \"/api/chat\"\n"
     ]
    },
    {
     "name": "stderr",
     "output_type": "stream",
     "text": [
      "time=2025-05-13T12:57:48.627Z level=WARN source=ggml.go:152 msg=\"key not found\" key=general.alignment default=32\n"
     ]
    },
    {
     "name": "stdout",
     "output_type": "stream",
     "text": [
      "[GIN] 2025/05/13 - 12:57:49 | 200 | 12.612127013s |       127.0.0.1 | POST     \"/api/chat\"\n",
      "[GIN] 2025/05/13 - 12:57:50 | 200 | 13.936548409s |       127.0.0.1 | POST     \"/api/chat\"\n"
     ]
    },
    {
     "name": "stderr",
     "output_type": "stream",
     "text": [
      "time=2025-05-13T12:57:50.593Z level=WARN source=ggml.go:152 msg=\"key not found\" key=general.alignment default=32\n"
     ]
    },
    {
     "name": "stdout",
     "output_type": "stream",
     "text": [
      "[GIN] 2025/05/13 - 12:57:53 | 200 |  12.16839652s |       127.0.0.1 | POST     \"/api/chat\"\n"
     ]
    },
    {
     "name": "stderr",
     "output_type": "stream",
     "text": [
      "time=2025-05-13T12:57:53.969Z level=WARN source=ggml.go:152 msg=\"key not found\" key=general.alignment default=32\n"
     ]
    },
    {
     "name": "stdout",
     "output_type": "stream",
     "text": [
      "[GIN] 2025/05/13 - 12:58:01 | 200 | 12.492981453s |       127.0.0.1 | POST     \"/api/chat\"\n"
     ]
    },
    {
     "name": "stderr",
     "output_type": "stream",
     "text": [
      "time=2025-05-13T12:58:01.120Z level=WARN source=ggml.go:152 msg=\"key not found\" key=general.alignment default=32\n"
     ]
    },
    {
     "name": "stdout",
     "output_type": "stream",
     "text": [
      "[GIN] 2025/05/13 - 12:58:01 | 200 |  15.67473344s |       127.0.0.1 | POST     \"/api/chat\"\n"
     ]
    },
    {
     "name": "stderr",
     "output_type": "stream",
     "text": [
      "time=2025-05-13T12:58:01.771Z level=WARN source=ggml.go:152 msg=\"key not found\" key=general.alignment default=32\n"
     ]
    },
    {
     "name": "stdout",
     "output_type": "stream",
     "text": [
      "[GIN] 2025/05/13 - 12:58:07 | 200 | 16.465294489s |       127.0.0.1 | POST     \"/api/chat\"\n"
     ]
    },
    {
     "name": "stderr",
     "output_type": "stream",
     "text": [
      "time=2025-05-13T12:58:07.061Z level=WARN source=ggml.go:152 msg=\"key not found\" key=general.alignment default=32\n"
     ]
    },
    {
     "name": "stdout",
     "output_type": "stream",
     "text": [
      "[GIN] 2025/05/13 - 12:58:16 | 200 | 22.946035559s |       127.0.0.1 | POST     \"/api/chat\"\n"
     ]
    },
    {
     "name": "stderr",
     "output_type": "stream",
     "text": [
      "time=2025-05-13T12:58:16.918Z level=WARN source=ggml.go:152 msg=\"key not found\" key=general.alignment default=32\n"
     ]
    },
    {
     "name": "stdout",
     "output_type": "stream",
     "text": [
      "[GIN] 2025/05/13 - 12:58:18 | 200 | 17.813170445s |       127.0.0.1 | POST     \"/api/chat\"\n"
     ]
    },
    {
     "name": "stderr",
     "output_type": "stream",
     "text": [
      "time=2025-05-13T12:58:18.938Z level=WARN source=ggml.go:152 msg=\"key not found\" key=general.alignment default=32\n"
     ]
    },
    {
     "name": "stdout",
     "output_type": "stream",
     "text": [
      "[GIN] 2025/05/13 - 12:58:29 | 200 | 27.906174385s |       127.0.0.1 | POST     \"/api/chat\"\n"
     ]
    },
    {
     "name": "stderr",
     "output_type": "stream",
     "text": [
      "time=2025-05-13T12:58:29.697Z level=WARN source=ggml.go:152 msg=\"key not found\" key=general.alignment default=32\n"
     ]
    },
    {
     "name": "stdout",
     "output_type": "stream",
     "text": [
      "[GIN] 2025/05/13 - 12:58:32 | 200 | 15.571588566s |       127.0.0.1 | POST     \"/api/chat\"\n"
     ]
    },
    {
     "name": "stderr",
     "output_type": "stream",
     "text": [
      "time=2025-05-13T12:58:32.497Z level=WARN source=ggml.go:152 msg=\"key not found\" key=general.alignment default=32\n"
     ]
    },
    {
     "name": "stdout",
     "output_type": "stream",
     "text": [
      "[GIN] 2025/05/13 - 12:58:38 | 200 | 31.736779472s |       127.0.0.1 | POST     \"/api/chat\"\n"
     ]
    },
    {
     "name": "stderr",
     "output_type": "stream",
     "text": [
      "time=2025-05-13T12:58:38.805Z level=WARN source=ggml.go:152 msg=\"key not found\" key=general.alignment default=32\n"
     ]
    },
    {
     "name": "stdout",
     "output_type": "stream",
     "text": [
      "[GIN] 2025/05/13 - 12:58:44 | 200 | 25.338537344s |       127.0.0.1 | POST     \"/api/chat\"\n"
     ]
    },
    {
     "name": "stderr",
     "output_type": "stream",
     "text": [
      "time=2025-05-13T12:58:44.283Z level=WARN source=ggml.go:152 msg=\"key not found\" key=general.alignment default=32\n"
     ]
    },
    {
     "name": "stdout",
     "output_type": "stream",
     "text": [
      "[GIN] 2025/05/13 - 12:58:47 | 200 | 15.071397918s |       127.0.0.1 | POST     \"/api/chat\"\n"
     ]
    },
    {
     "name": "stderr",
     "output_type": "stream",
     "text": [
      "time=2025-05-13T12:58:47.573Z level=WARN source=ggml.go:152 msg=\"key not found\" key=general.alignment default=32\n"
     ]
    },
    {
     "name": "stdout",
     "output_type": "stream",
     "text": [
      "[GIN] 2025/05/13 - 12:58:49 | 200 | 10.985933783s |       127.0.0.1 | POST     \"/api/chat\"\n"
     ]
    },
    {
     "name": "stderr",
     "output_type": "stream",
     "text": [
      "time=2025-05-13T12:58:49.798Z level=WARN source=ggml.go:152 msg=\"key not found\" key=general.alignment default=32\n"
     ]
    },
    {
     "name": "stdout",
     "output_type": "stream",
     "text": [
      "[GIN] 2025/05/13 - 12:58:54 | 200 | 24.688404631s |       127.0.0.1 | POST     \"/api/chat\"\n"
     ]
    },
    {
     "name": "stderr",
     "output_type": "stream",
     "text": [
      "time=2025-05-13T12:58:54.381Z level=WARN source=ggml.go:152 msg=\"key not found\" key=general.alignment default=32\n"
     ]
    },
    {
     "name": "stdout",
     "output_type": "stream",
     "text": [
      "[GIN] 2025/05/13 - 12:58:57 | 200 |  9.608025301s |       127.0.0.1 | POST     \"/api/chat\"\n"
     ]
    },
    {
     "name": "stderr",
     "output_type": "stream",
     "text": [
      "time=2025-05-13T12:58:57.194Z level=WARN source=ggml.go:152 msg=\"key not found\" key=general.alignment default=32\n"
     ]
    },
    {
     "name": "stdout",
     "output_type": "stream",
     "text": [
      "[GIN] 2025/05/13 - 12:59:02 | 200 | 18.395822314s |       127.0.0.1 | POST     \"/api/chat\"\n"
     ]
    },
    {
     "name": "stderr",
     "output_type": "stream",
     "text": [
      "time=2025-05-13T12:59:02.684Z level=WARN source=ggml.go:152 msg=\"key not found\" key=general.alignment default=32\n"
     ]
    },
    {
     "name": "stdout",
     "output_type": "stream",
     "text": [
      "[GIN] 2025/05/13 - 12:59:06 | 200 | 16.744475366s |       127.0.0.1 | POST     \"/api/chat\"\n"
     ]
    },
    {
     "name": "stderr",
     "output_type": "stream",
     "text": [
      "time=2025-05-13T12:59:06.559Z level=WARN source=ggml.go:152 msg=\"key not found\" key=general.alignment default=32\n"
     ]
    },
    {
     "name": "stdout",
     "output_type": "stream",
     "text": [
      "[GIN] 2025/05/13 - 12:59:09 | 200 | 12.142820076s |       127.0.0.1 | POST     \"/api/chat\"\n"
     ]
    },
    {
     "name": "stderr",
     "output_type": "stream",
     "text": [
      "time=2025-05-13T12:59:09.336Z level=WARN source=ggml.go:152 msg=\"key not found\" key=general.alignment default=32\n"
     ]
    },
    {
     "name": "stdout",
     "output_type": "stream",
     "text": [
      "[GIN] 2025/05/13 - 12:59:15 | 200 | 21.585287337s |       127.0.0.1 | POST     \"/api/chat\"\n"
     ]
    },
    {
     "name": "stderr",
     "output_type": "stream",
     "text": [
      "time=2025-05-13T12:59:15.990Z level=WARN source=ggml.go:152 msg=\"key not found\" key=general.alignment default=32\n"
     ]
    },
    {
     "name": "stdout",
     "output_type": "stream",
     "text": [
      "[GIN] 2025/05/13 - 12:59:22 | 200 |  16.26653117s |       127.0.0.1 | POST     \"/api/chat\"\n"
     ]
    },
    {
     "name": "stderr",
     "output_type": "stream",
     "text": [
      "time=2025-05-13T12:59:22.826Z level=WARN source=ggml.go:152 msg=\"key not found\" key=general.alignment default=32\n"
     ]
    },
    {
     "name": "stdout",
     "output_type": "stream",
     "text": [
      "[GIN] 2025/05/13 - 12:59:23 | 200 | 21.238350169s |       127.0.0.1 | POST     \"/api/chat\"\n"
     ]
    },
    {
     "name": "stderr",
     "output_type": "stream",
     "text": [
      "time=2025-05-13T12:59:23.934Z level=WARN source=ggml.go:152 msg=\"key not found\" key=general.alignment default=32\n"
     ]
    },
    {
     "name": "stdout",
     "output_type": "stream",
     "text": [
      "[GIN] 2025/05/13 - 12:59:26 | 200 | 17.098067546s |       127.0.0.1 | POST     \"/api/chat\"\n"
     ]
    },
    {
     "name": "stderr",
     "output_type": "stream",
     "text": [
      "time=2025-05-13T12:59:26.464Z level=WARN source=ggml.go:152 msg=\"key not found\" key=general.alignment default=32\n",
      "time=2025-05-13T12:59:26.467Z level=WARN source=ggml.go:152 msg=\"key not found\" key=general.alignment default=32\n",
      "time=2025-05-13T12:59:26.471Z level=WARN source=ggml.go:152 msg=\"key not found\" key=general.alignment default=32\n"
     ]
    },
    {
     "name": "stdout",
     "output_type": "stream",
     "text": [
      "[GIN] 2025/05/13 - 12:59:27 | 200 |  4.983300355s |       127.0.0.1 | POST     \"/api/chat\"\n"
     ]
    },
    {
     "name": "stderr",
     "output_type": "stream",
     "text": [
      "time=2025-05-13T12:59:27.814Z level=WARN source=ggml.go:152 msg=\"key not found\" key=general.alignment default=32\n"
     ]
    },
    {
     "name": "stdout",
     "output_type": "stream",
     "text": [
      "[GIN] 2025/05/13 - 12:59:30 | 200 |  6.628366919s |       127.0.0.1 | POST     \"/api/chat\"\n"
     ]
    },
    {
     "name": "stderr",
     "output_type": "stream",
     "text": [
      "time=2025-05-13T12:59:30.565Z level=WARN source=ggml.go:152 msg=\"key not found\" key=general.alignment default=32\n"
     ]
    },
    {
     "name": "stdout",
     "output_type": "stream",
     "text": [
      "[GIN] 2025/05/13 - 12:59:32 | 200 |   5.73122717s |       127.0.0.1 | POST     \"/api/chat\"\n",
      "[GIN] 2025/05/13 - 12:59:33 | 200 |  6.822265069s |       127.0.0.1 | POST     \"/api/chat\"\n",
      "[GIN] 2025/05/13 - 12:59:34 | 200 |  7.935520512s |       127.0.0.1 | POST     \"/api/chat\"\n"
     ]
    },
    {
     "name": "stderr",
     "output_type": "stream",
     "text": [
      "time=2025-05-13T12:59:34.402Z level=WARN source=ggml.go:152 msg=\"key not found\" key=general.alignment default=32\n"
     ]
    },
    {
     "name": "stdout",
     "output_type": "stream",
     "text": [
      "[GIN] 2025/05/13 - 12:59:38 | 200 |  22.96335879s |       127.0.0.1 | POST     \"/api/chat\"\n"
     ]
    },
    {
     "name": "stderr",
     "output_type": "stream",
     "text": [
      "time=2025-05-13T12:59:38.945Z level=WARN source=ggml.go:152 msg=\"key not found\" key=general.alignment default=32\n"
     ]
    },
    {
     "name": "stdout",
     "output_type": "stream",
     "text": [
      "[GIN] 2025/05/13 - 12:59:39 | 200 | 12.155354177s |       127.0.0.1 | POST     \"/api/chat\"\n"
     ]
    },
    {
     "name": "stderr",
     "output_type": "stream",
     "text": [
      "time=2025-05-13T12:59:39.976Z level=WARN source=ggml.go:152 msg=\"key not found\" key=general.alignment default=32\n"
     ]
    },
    {
     "name": "stdout",
     "output_type": "stream",
     "text": [
      "[GIN] 2025/05/13 - 12:59:43 | 200 | 12.712501299s |       127.0.0.1 | POST     \"/api/chat\"\n"
     ]
    },
    {
     "name": "stderr",
     "output_type": "stream",
     "text": [
      "time=2025-05-13T12:59:43.284Z level=WARN source=ggml.go:152 msg=\"key not found\" key=general.alignment default=32\n"
     ]
    },
    {
     "name": "stdout",
     "output_type": "stream",
     "text": [
      "[GIN] 2025/05/13 - 12:59:44 | 200 | 10.399824187s |       127.0.0.1 | POST     \"/api/chat\"\n"
     ]
    },
    {
     "name": "stderr",
     "output_type": "stream",
     "text": [
      "time=2025-05-13T12:59:44.800Z level=WARN source=ggml.go:152 msg=\"key not found\" key=general.alignment default=32\n"
     ]
    },
    {
     "name": "stdout",
     "output_type": "stream",
     "text": [
      "[GIN] 2025/05/13 - 12:59:47 | 200 |  7.969312733s |       127.0.0.1 | POST     \"/api/chat\"\n"
     ]
    },
    {
     "name": "stderr",
     "output_type": "stream",
     "text": [
      "time=2025-05-13T12:59:47.954Z level=WARN source=ggml.go:152 msg=\"key not found\" key=general.alignment default=32\n"
     ]
    },
    {
     "name": "stdout",
     "output_type": "stream",
     "text": [
      "[GIN] 2025/05/13 - 12:59:57 | 200 | 13.944096874s |       127.0.0.1 | POST     \"/api/chat\"\n"
     ]
    },
    {
     "name": "stderr",
     "output_type": "stream",
     "text": [
      "time=2025-05-13T12:59:57.239Z level=WARN source=ggml.go:152 msg=\"key not found\" key=general.alignment default=32\n"
     ]
    },
    {
     "name": "stdout",
     "output_type": "stream",
     "text": [
      "[GIN] 2025/05/13 - 12:59:59 | 200 |  20.73118197s |       127.0.0.1 | POST     \"/api/chat\"\n"
     ]
    },
    {
     "name": "stderr",
     "output_type": "stream",
     "text": [
      "time=2025-05-13T12:59:59.681Z level=WARN source=ggml.go:152 msg=\"key not found\" key=general.alignment default=32\n"
     ]
    },
    {
     "name": "stdout",
     "output_type": "stream",
     "text": [
      "[GIN] 2025/05/13 - 13:00:08 | 200 |  20.74502682s |       127.0.0.1 | POST     \"/api/chat\"\n"
     ]
    },
    {
     "name": "stderr",
     "output_type": "stream",
     "text": [
      "time=2025-05-13T13:00:08.704Z level=WARN source=ggml.go:152 msg=\"key not found\" key=general.alignment default=32\n"
     ]
    },
    {
     "name": "stdout",
     "output_type": "stream",
     "text": [
      "[GIN] 2025/05/13 - 13:00:14 | 200 | 29.303983804s |       127.0.0.1 | POST     \"/api/chat\"\n"
     ]
    },
    {
     "name": "stderr",
     "output_type": "stream",
     "text": [
      "time=2025-05-13T13:00:14.112Z level=WARN source=ggml.go:152 msg=\"key not found\" key=general.alignment default=32\n"
     ]
    },
    {
     "name": "stdout",
     "output_type": "stream",
     "text": [
      "[GIN] 2025/05/13 - 13:00:20 | 200 | 23.437678032s |       127.0.0.1 | POST     \"/api/chat\"\n"
     ]
    },
    {
     "name": "stderr",
     "output_type": "stream",
     "text": [
      "time=2025-05-13T13:00:20.677Z level=WARN source=ggml.go:152 msg=\"key not found\" key=general.alignment default=32\n"
     ]
    },
    {
     "name": "stdout",
     "output_type": "stream",
     "text": [
      "[GIN] 2025/05/13 - 13:00:23 | 200 |  14.96768701s |       127.0.0.1 | POST     \"/api/chat\"\n"
     ]
    },
    {
     "name": "stderr",
     "output_type": "stream",
     "text": [
      "time=2025-05-13T13:00:23.680Z level=WARN source=ggml.go:152 msg=\"key not found\" key=general.alignment default=32\n"
     ]
    },
    {
     "name": "stdout",
     "output_type": "stream",
     "text": [
      "[GIN] 2025/05/13 - 13:00:27 | 200 | 13.318416666s |       127.0.0.1 | POST     \"/api/chat\"\n"
     ]
    },
    {
     "name": "stderr",
     "output_type": "stream",
     "text": [
      "time=2025-05-13T13:00:27.444Z level=WARN source=ggml.go:152 msg=\"key not found\" key=general.alignment default=32\n"
     ]
    },
    {
     "name": "stdout",
     "output_type": "stream",
     "text": [
      "[GIN] 2025/05/13 - 13:00:28 | 200 | 29.242117328s |       127.0.0.1 | POST     \"/api/chat\"\n"
     ]
    },
    {
     "name": "stderr",
     "output_type": "stream",
     "text": [
      "time=2025-05-13T13:00:28.932Z level=WARN source=ggml.go:152 msg=\"key not found\" key=general.alignment default=32\n"
     ]
    },
    {
     "name": "stdout",
     "output_type": "stream",
     "text": [
      "[GIN] 2025/05/13 - 13:00:38 | 200 | 17.925121003s |       127.0.0.1 | POST     \"/api/chat\"\n"
     ]
    },
    {
     "name": "stderr",
     "output_type": "stream",
     "text": [
      "time=2025-05-13T13:00:38.610Z level=WARN source=ggml.go:152 msg=\"key not found\" key=general.alignment default=32\n"
     ]
    },
    {
     "name": "stdout",
     "output_type": "stream",
     "text": [
      "[GIN] 2025/05/13 - 13:00:40 | 200 | 17.330394138s |       127.0.0.1 | POST     \"/api/chat\"\n"
     ]
    },
    {
     "name": "stderr",
     "output_type": "stream",
     "text": [
      "time=2025-05-13T13:00:41.017Z level=WARN source=ggml.go:152 msg=\"key not found\" key=general.alignment default=32\n"
     ]
    },
    {
     "name": "stdout",
     "output_type": "stream",
     "text": [
      "[GIN] 2025/05/13 - 13:00:41 | 200 | 14.541442938s |       127.0.0.1 | POST     \"/api/chat\"\n"
     ]
    },
    {
     "name": "stderr",
     "output_type": "stream",
     "text": [
      "time=2025-05-13T13:00:41.987Z level=WARN source=ggml.go:152 msg=\"key not found\" key=general.alignment default=32\n"
     ]
    },
    {
     "name": "stdout",
     "output_type": "stream",
     "text": [
      "[GIN] 2025/05/13 - 13:00:55 | 200 | 26.713533851s |       127.0.0.1 | POST     \"/api/chat\"\n"
     ]
    },
    {
     "name": "stderr",
     "output_type": "stream",
     "text": [
      "time=2025-05-13T13:00:55.649Z level=WARN source=ggml.go:152 msg=\"key not found\" key=general.alignment default=32\n"
     ]
    },
    {
     "name": "stdout",
     "output_type": "stream",
     "text": [
      "[GIN] 2025/05/13 - 13:01:00 | 200 | 22.166098215s |       127.0.0.1 | POST     \"/api/chat\"\n"
     ]
    },
    {
     "name": "stderr",
     "output_type": "stream",
     "text": [
      "time=2025-05-13T13:01:00.790Z level=WARN source=ggml.go:152 msg=\"key not found\" key=general.alignment default=32\n"
     ]
    },
    {
     "name": "stdout",
     "output_type": "stream",
     "text": [
      "[GIN] 2025/05/13 - 13:01:04 | 200 | 22.368486232s |       127.0.0.1 | POST     \"/api/chat\"\n"
     ]
    },
    {
     "name": "stderr",
     "output_type": "stream",
     "text": [
      "time=2025-05-13T13:01:04.362Z level=WARN source=ggml.go:152 msg=\"key not found\" key=general.alignment default=32\n"
     ]
    },
    {
     "name": "stdout",
     "output_type": "stream",
     "text": [
      "[GIN] 2025/05/13 - 13:01:05 | 200 | 24.749061413s |       127.0.0.1 | POST     \"/api/chat\"\n"
     ]
    },
    {
     "name": "stderr",
     "output_type": "stream",
     "text": [
      "time=2025-05-13T13:01:05.775Z level=WARN source=ggml.go:152 msg=\"key not found\" key=general.alignment default=32\n"
     ]
    },
    {
     "name": "stdout",
     "output_type": "stream",
     "text": [
      "[GIN] 2025/05/13 - 13:01:15 | 200 | 15.044675176s |       127.0.0.1 | POST     \"/api/chat\"\n"
     ]
    },
    {
     "name": "stderr",
     "output_type": "stream",
     "text": [
      "time=2025-05-13T13:01:15.836Z level=WARN source=ggml.go:152 msg=\"key not found\" key=general.alignment default=32\n"
     ]
    },
    {
     "name": "stdout",
     "output_type": "stream",
     "text": [
      "[GIN] 2025/05/13 - 13:01:19 | 200 | 15.043844342s |       127.0.0.1 | POST     \"/api/chat\"\n"
     ]
    },
    {
     "name": "stderr",
     "output_type": "stream",
     "text": [
      "time=2025-05-13T13:01:19.410Z level=WARN source=ggml.go:152 msg=\"key not found\" key=general.alignment default=32\n"
     ]
    },
    {
     "name": "stdout",
     "output_type": "stream",
     "text": [
      "[GIN] 2025/05/13 - 13:01:20 | 200 | 24.595618632s |       127.0.0.1 | POST     \"/api/chat\"\n"
     ]
    },
    {
     "name": "stderr",
     "output_type": "stream",
     "text": [
      "time=2025-05-13T13:01:20.261Z level=WARN source=ggml.go:152 msg=\"key not found\" key=general.alignment default=32\n"
     ]
    },
    {
     "name": "stdout",
     "output_type": "stream",
     "text": [
      "[GIN] 2025/05/13 - 13:01:21 | 200 | 15.426087206s |       127.0.0.1 | POST     \"/api/chat\"\n"
     ]
    },
    {
     "name": "stderr",
     "output_type": "stream",
     "text": [
      "time=2025-05-13T13:01:21.224Z level=WARN source=ggml.go:152 msg=\"key not found\" key=general.alignment default=32\n"
     ]
    },
    {
     "name": "stdout",
     "output_type": "stream",
     "text": [
      "[GIN] 2025/05/13 - 13:01:24 | 200 |  5.287676537s |       127.0.0.1 | POST     \"/api/chat\"\n"
     ]
    },
    {
     "name": "stderr",
     "output_type": "stream",
     "text": [
      "time=2025-05-13T13:01:24.705Z level=WARN source=ggml.go:152 msg=\"key not found\" key=general.alignment default=32\n"
     ]
    },
    {
     "name": "stdout",
     "output_type": "stream",
     "text": [
      "[GIN] 2025/05/13 - 13:01:35 | 200 | 19.905850532s |       127.0.0.1 | POST     \"/api/chat\"\n"
     ]
    },
    {
     "name": "stderr",
     "output_type": "stream",
     "text": [
      "time=2025-05-13T13:01:35.748Z level=WARN source=ggml.go:152 msg=\"key not found\" key=general.alignment default=32\n"
     ]
    },
    {
     "name": "stdout",
     "output_type": "stream",
     "text": [
      "[GIN] 2025/05/13 - 13:01:41 | 200 | 21.437059791s |       127.0.0.1 | POST     \"/api/chat\"\n"
     ]
    },
    {
     "name": "stderr",
     "output_type": "stream",
     "text": [
      "time=2025-05-13T13:01:41.696Z level=WARN source=ggml.go:152 msg=\"key not found\" key=general.alignment default=32\n"
     ]
    },
    {
     "name": "stdout",
     "output_type": "stream",
     "text": [
      "[GIN] 2025/05/13 - 13:01:42 | 200 | 21.288371003s |       127.0.0.1 | POST     \"/api/chat\"\n"
     ]
    },
    {
     "name": "stderr",
     "output_type": "stream",
     "text": [
      "time=2025-05-13T13:01:42.525Z level=WARN source=ggml.go:152 msg=\"key not found\" key=general.alignment default=32\n",
      "time=2025-05-13T13:01:42.528Z level=WARN source=ggml.go:152 msg=\"key not found\" key=general.alignment default=32\n",
      "time=2025-05-13T13:01:42.535Z level=WARN source=ggml.go:152 msg=\"key not found\" key=general.alignment default=32\n"
     ]
    },
    {
     "name": "stdout",
     "output_type": "stream",
     "text": [
      "[GIN] 2025/05/13 - 13:01:46 | 200 | 21.752185669s |       127.0.0.1 | POST     \"/api/chat\"\n"
     ]
    },
    {
     "name": "stderr",
     "output_type": "stream",
     "text": [
      "time=2025-05-13T13:01:46.463Z level=WARN source=ggml.go:152 msg=\"key not found\" key=general.alignment default=32\n"
     ]
    },
    {
     "name": "stdout",
     "output_type": "stream",
     "text": [
      "[GIN] 2025/05/13 - 13:01:54 | 200 | 19.090232244s |       127.0.0.1 | POST     \"/api/chat\"\n"
     ]
    },
    {
     "name": "stderr",
     "output_type": "stream",
     "text": [
      "time=2025-05-13T13:01:54.855Z level=WARN source=ggml.go:152 msg=\"key not found\" key=general.alignment default=32\n"
     ]
    },
    {
     "name": "stdout",
     "output_type": "stream",
     "text": [
      "[GIN] 2025/05/13 - 13:01:56 | 200 | 14.188308557s |       127.0.0.1 | POST     \"/api/chat\"\n",
      "[GIN] 2025/05/13 - 13:01:57 | 200 | 15.462021689s |       127.0.0.1 | POST     \"/api/chat\"\n",
      "[GIN] 2025/05/13 - 13:01:59 | 200 | 16.736067822s |       127.0.0.1 | POST     \"/api/chat\"\n"
     ]
    },
    {
     "name": "stderr",
     "output_type": "stream",
     "text": [
      "time=2025-05-13T13:01:59.262Z level=WARN source=ggml.go:152 msg=\"key not found\" key=general.alignment default=32\n"
     ]
    },
    {
     "name": "stdout",
     "output_type": "stream",
     "text": [
      "[GIN] 2025/05/13 - 13:02:00 | 200 | 18.490137889s |       127.0.0.1 | POST     \"/api/chat\"\n"
     ]
    },
    {
     "name": "stderr",
     "output_type": "stream",
     "text": [
      "time=2025-05-13T13:02:00.194Z level=WARN source=ggml.go:152 msg=\"key not found\" key=general.alignment default=32\n"
     ]
    },
    {
     "name": "stdout",
     "output_type": "stream",
     "text": [
      "[GIN] 2025/05/13 - 13:02:06 | 200 | 20.368661755s |       127.0.0.1 | POST     \"/api/chat\"\n"
     ]
    },
    {
     "name": "stderr",
     "output_type": "stream",
     "text": [
      "time=2025-05-13T13:02:06.845Z level=WARN source=ggml.go:152 msg=\"key not found\" key=general.alignment default=32\n"
     ]
    },
    {
     "name": "stdout",
     "output_type": "stream",
     "text": [
      "[GIN] 2025/05/13 - 13:02:13 | 200 | 14.191676432s |       127.0.0.1 | POST     \"/api/chat\"\n"
     ]
    },
    {
     "name": "stderr",
     "output_type": "stream",
     "text": [
      "time=2025-05-13T13:02:13.458Z level=WARN source=ggml.go:152 msg=\"key not found\" key=general.alignment default=32\n"
     ]
    },
    {
     "name": "stdout",
     "output_type": "stream",
     "text": [
      "[GIN] 2025/05/13 - 13:02:16 | 200 | 21.315805995s |       127.0.0.1 | POST     \"/api/chat\"\n"
     ]
    },
    {
     "name": "stderr",
     "output_type": "stream",
     "text": [
      "time=2025-05-13T13:02:16.176Z level=WARN source=ggml.go:152 msg=\"key not found\" key=general.alignment default=32\n"
     ]
    },
    {
     "name": "stdout",
     "output_type": "stream",
     "text": [
      "[GIN] 2025/05/13 - 13:02:20 | 200 |  20.35044187s |       127.0.0.1 | POST     \"/api/chat\"\n"
     ]
    },
    {
     "name": "stderr",
     "output_type": "stream",
     "text": [
      "time=2025-05-13T13:02:20.553Z level=WARN source=ggml.go:152 msg=\"key not found\" key=general.alignment default=32\n"
     ]
    },
    {
     "name": "stdout",
     "output_type": "stream",
     "text": [
      "[GIN] 2025/05/13 - 13:02:30 | 200 | 24.164198384s |       127.0.0.1 | POST     \"/api/chat\"\n"
     ]
    },
    {
     "name": "stderr",
     "output_type": "stream",
     "text": [
      "time=2025-05-13T13:02:31.009Z level=WARN source=ggml.go:152 msg=\"key not found\" key=general.alignment default=32\n"
     ]
    },
    {
     "name": "stdout",
     "output_type": "stream",
     "text": [
      "[GIN] 2025/05/13 - 13:02:40 | 200 | 24.561762073s |       127.0.0.1 | POST     \"/api/chat\"\n"
     ]
    },
    {
     "name": "stderr",
     "output_type": "stream",
     "text": [
      "time=2025-05-13T13:02:40.735Z level=WARN source=ggml.go:152 msg=\"key not found\" key=general.alignment default=32\n"
     ]
    },
    {
     "name": "stdout",
     "output_type": "stream",
     "text": [
      "[GIN] 2025/05/13 - 13:02:51 | 200 | 37.986495867s |       127.0.0.1 | POST     \"/api/chat\"\n"
     ]
    },
    {
     "name": "stderr",
     "output_type": "stream",
     "text": [
      "time=2025-05-13T13:02:51.456Z level=WARN source=ggml.go:152 msg=\"key not found\" key=general.alignment default=32\n"
     ]
    },
    {
     "name": "stdout",
     "output_type": "stream",
     "text": [
      "[GIN] 2025/05/13 - 13:03:11 | 200 | 51.128361532s |       127.0.0.1 | POST     \"/api/chat\"\n"
     ]
    },
    {
     "name": "stderr",
     "output_type": "stream",
     "text": [
      "time=2025-05-13T13:03:11.688Z level=WARN source=ggml.go:152 msg=\"key not found\" key=general.alignment default=32\n"
     ]
    },
    {
     "name": "stdout",
     "output_type": "stream",
     "text": [
      "[GIN] 2025/05/13 - 13:03:19 | 200 | 48.321098051s |       127.0.0.1 | POST     \"/api/chat\"\n"
     ]
    },
    {
     "name": "stderr",
     "output_type": "stream",
     "text": [
      "time=2025-05-13T13:03:19.346Z level=WARN source=ggml.go:152 msg=\"key not found\" key=general.alignment default=32\n"
     ]
    },
    {
     "name": "stdout",
     "output_type": "stream",
     "text": [
      "[GIN] 2025/05/13 - 13:03:22 | 200 | 31.347851453s |       127.0.0.1 | POST     \"/api/chat\"\n"
     ]
    },
    {
     "name": "stderr",
     "output_type": "stream",
     "text": [
      "time=2025-05-13T13:03:22.813Z level=WARN source=ggml.go:152 msg=\"key not found\" key=general.alignment default=32\n"
     ]
    },
    {
     "name": "stdout",
     "output_type": "stream",
     "text": [
      "[GIN] 2025/05/13 - 13:03:26 | 200 | 14.471537529s |       127.0.0.1 | POST     \"/api/chat\"\n"
     ]
    },
    {
     "name": "stderr",
     "output_type": "stream",
     "text": [
      "time=2025-05-13T13:03:26.169Z level=WARN source=ggml.go:152 msg=\"key not found\" key=general.alignment default=32\n"
     ]
    },
    {
     "name": "stdout",
     "output_type": "stream",
     "text": [
      "[GIN] 2025/05/13 - 13:03:29 | 200 | 48.837580092s |       127.0.0.1 | POST     \"/api/chat\"\n"
     ]
    },
    {
     "name": "stderr",
     "output_type": "stream",
     "text": [
      "time=2025-05-13T13:03:29.580Z level=WARN source=ggml.go:152 msg=\"key not found\" key=general.alignment default=32\n"
     ]
    },
    {
     "name": "stdout",
     "output_type": "stream",
     "text": [
      "[GIN] 2025/05/13 - 13:03:33 | 200 | 10.377484163s |       127.0.0.1 | POST     \"/api/chat\"\n"
     ]
    },
    {
     "name": "stderr",
     "output_type": "stream",
     "text": [
      "time=2025-05-13T13:03:33.194Z level=WARN source=ggml.go:152 msg=\"key not found\" key=general.alignment default=32\n"
     ]
    },
    {
     "name": "stdout",
     "output_type": "stream",
     "text": [
      "[GIN] 2025/05/13 - 13:03:39 | 200 | 19.836422454s |       127.0.0.1 | POST     \"/api/chat\"\n"
     ]
    },
    {
     "name": "stderr",
     "output_type": "stream",
     "text": [
      "time=2025-05-13T13:03:39.184Z level=WARN source=ggml.go:152 msg=\"key not found\" key=general.alignment default=32\n"
     ]
    },
    {
     "name": "stdout",
     "output_type": "stream",
     "text": [
      "[GIN] 2025/05/13 - 13:03:45 | 200 | 19.364807833s |       127.0.0.1 | POST     \"/api/chat\"\n"
     ]
    },
    {
     "name": "stderr",
     "output_type": "stream",
     "text": [
      "time=2025-05-13T13:03:45.541Z level=WARN source=ggml.go:152 msg=\"key not found\" key=general.alignment default=32\n"
     ]
    },
    {
     "name": "stdout",
     "output_type": "stream",
     "text": [
      "[GIN] 2025/05/13 - 13:03:48 | 200 | 14.942884697s |       127.0.0.1 | POST     \"/api/chat\"\n"
     ]
    },
    {
     "name": "stderr",
     "output_type": "stream",
     "text": [
      "time=2025-05-13T13:03:48.144Z level=WARN source=ggml.go:152 msg=\"key not found\" key=general.alignment default=32\n"
     ]
    },
    {
     "name": "stdout",
     "output_type": "stream",
     "text": [
      "[GIN] 2025/05/13 - 13:03:52 | 200 |  22.86032962s |       127.0.0.1 | POST     \"/api/chat\"\n"
     ]
    },
    {
     "name": "stderr",
     "output_type": "stream",
     "text": [
      "time=2025-05-13T13:03:52.450Z level=WARN source=ggml.go:152 msg=\"key not found\" key=general.alignment default=32\n"
     ]
    },
    {
     "name": "stdout",
     "output_type": "stream",
     "text": [
      "[GIN] 2025/05/13 - 13:03:59 | 200 | 13.492144064s |       127.0.0.1 | POST     \"/api/chat\"\n"
     ]
    },
    {
     "name": "stderr",
     "output_type": "stream",
     "text": [
      "time=2025-05-13T13:03:59.057Z level=WARN source=ggml.go:152 msg=\"key not found\" key=general.alignment default=32\n"
     ]
    },
    {
     "name": "stdout",
     "output_type": "stream",
     "text": [
      "[GIN] 2025/05/13 - 13:04:02 | 200 | 13.900778464s |       127.0.0.1 | POST     \"/api/chat\"\n"
     ]
    },
    {
     "name": "stderr",
     "output_type": "stream",
     "text": [
      "time=2025-05-13T13:04:02.052Z level=WARN source=ggml.go:152 msg=\"key not found\" key=general.alignment default=32\n"
     ]
    },
    {
     "name": "stdout",
     "output_type": "stream",
     "text": [
      "[GIN] 2025/05/13 - 13:04:03 | 200 | 11.312934168s |       127.0.0.1 | POST     \"/api/chat\"\n"
     ]
    },
    {
     "name": "stderr",
     "output_type": "stream",
     "text": [
      "time=2025-05-13T13:04:03.775Z level=WARN source=ggml.go:152 msg=\"key not found\" key=general.alignment default=32\n"
     ]
    },
    {
     "name": "stdout",
     "output_type": "stream",
     "text": [
      "[GIN] 2025/05/13 - 13:04:05 | 200 |  6.923909422s |       127.0.0.1 | POST     \"/api/chat\"\n"
     ]
    },
    {
     "name": "stderr",
     "output_type": "stream",
     "text": [
      "time=2025-05-13T13:04:05.974Z level=WARN source=ggml.go:152 msg=\"key not found\" key=general.alignment default=32\n"
     ]
    },
    {
     "name": "stdout",
     "output_type": "stream",
     "text": [
      "[GIN] 2025/05/13 - 13:04:08 | 200 |  6.752240121s |       127.0.0.1 | POST     \"/api/chat\"\n"
     ]
    },
    {
     "name": "stderr",
     "output_type": "stream",
     "text": [
      "time=2025-05-13T13:04:08.833Z level=WARN source=ggml.go:152 msg=\"key not found\" key=general.alignment default=32\n",
      "time=2025-05-13T13:04:08.837Z level=WARN source=ggml.go:152 msg=\"key not found\" key=general.alignment default=32\n",
      "time=2025-05-13T13:04:08.838Z level=WARN source=ggml.go:152 msg=\"key not found\" key=general.alignment default=32\n"
     ]
    },
    {
     "name": "stdout",
     "output_type": "stream",
     "text": [
      "[GIN] 2025/05/13 - 13:04:16 | 200 | 12.931695138s |       127.0.0.1 | POST     \"/api/chat\"\n"
     ]
    },
    {
     "name": "stderr",
     "output_type": "stream",
     "text": [
      "time=2025-05-13T13:04:16.716Z level=WARN source=ggml.go:152 msg=\"key not found\" key=general.alignment default=32\n"
     ]
    },
    {
     "name": "stdout",
     "output_type": "stream",
     "text": [
      "[GIN] 2025/05/13 - 13:04:18 | 200 | 12.890174091s |       127.0.0.1 | POST     \"/api/chat\"\n"
     ]
    },
    {
     "name": "stderr",
     "output_type": "stream",
     "text": [
      "time=2025-05-13T13:04:18.870Z level=WARN source=ggml.go:152 msg=\"key not found\" key=general.alignment default=32\n"
     ]
    },
    {
     "name": "stdout",
     "output_type": "stream",
     "text": [
      "[GIN] 2025/05/13 - 13:04:20 | 200 | 11.644755476s |       127.0.0.1 | POST     \"/api/chat\"\n",
      "[GIN] 2025/05/13 - 13:04:21 | 200 | 12.811108347s |       127.0.0.1 | POST     \"/api/chat\"\n",
      "[GIN] 2025/05/13 - 13:04:22 | 200 | 13.865663112s |       127.0.0.1 | POST     \"/api/chat\"\n"
     ]
    },
    {
     "name": "stderr",
     "output_type": "stream",
     "text": [
      "time=2025-05-13T13:04:22.705Z level=WARN source=ggml.go:152 msg=\"key not found\" key=general.alignment default=32\n"
     ]
    },
    {
     "name": "stdout",
     "output_type": "stream",
     "text": [
      "[GIN] 2025/05/13 - 13:04:24 | 200 |   7.77896622s |       127.0.0.1 | POST     \"/api/chat\"\n"
     ]
    },
    {
     "name": "stderr",
     "output_type": "stream",
     "text": [
      "time=2025-05-13T13:04:24.501Z level=WARN source=ggml.go:152 msg=\"key not found\" key=general.alignment default=32\n"
     ]
    },
    {
     "name": "stdout",
     "output_type": "stream",
     "text": [
      "[GIN] 2025/05/13 - 13:04:31 | 200 | 12.686469434s |       127.0.0.1 | POST     \"/api/chat\"\n"
     ]
    },
    {
     "name": "stderr",
     "output_type": "stream",
     "text": [
      "time=2025-05-13T13:04:31.565Z level=WARN source=ggml.go:152 msg=\"key not found\" key=general.alignment default=32\n"
     ]
    },
    {
     "name": "stdout",
     "output_type": "stream",
     "text": [
      "[GIN] 2025/05/13 - 13:04:33 | 200 | 10.645146286s |       127.0.0.1 | POST     \"/api/chat\"\n"
     ]
    },
    {
     "name": "stderr",
     "output_type": "stream",
     "text": [
      "time=2025-05-13T13:04:33.353Z level=WARN source=ggml.go:152 msg=\"key not found\" key=general.alignment default=32\n"
     ]
    },
    {
     "name": "stdout",
     "output_type": "stream",
     "text": [
      "[GIN] 2025/05/13 - 13:04:36 | 200 | 57.090514506s |       127.0.0.1 | POST     \"/api/chat\"\n"
     ]
    },
    {
     "name": "stderr",
     "output_type": "stream",
     "text": [
      "time=2025-05-13T13:04:36.279Z level=WARN source=ggml.go:152 msg=\"key not found\" key=general.alignment default=32\n"
     ]
    },
    {
     "name": "stdout",
     "output_type": "stream",
     "text": [
      "[GIN] 2025/05/13 - 13:04:43 | 200 | 19.464515671s |       127.0.0.1 | POST     \"/api/chat\"\n"
     ]
    },
    {
     "name": "stderr",
     "output_type": "stream",
     "text": [
      "time=2025-05-13T13:04:43.970Z level=WARN source=ggml.go:152 msg=\"key not found\" key=general.alignment default=32\n"
     ]
    },
    {
     "name": "stdout",
     "output_type": "stream",
     "text": [
      "[GIN] 2025/05/13 - 13:04:44 | 200 | 12.987920561s |       127.0.0.1 | POST     \"/api/chat\"\n"
     ]
    },
    {
     "name": "stderr",
     "output_type": "stream",
     "text": [
      "time=2025-05-13T13:04:44.561Z level=WARN source=ggml.go:152 msg=\"key not found\" key=general.alignment default=32\n"
     ]
    },
    {
     "name": "stdout",
     "output_type": "stream",
     "text": [
      "[GIN] 2025/05/13 - 13:04:49 | 200 |  16.07330498s |       127.0.0.1 | POST     \"/api/chat\"\n"
     ]
    },
    {
     "name": "stderr",
     "output_type": "stream",
     "text": [
      "time=2025-05-13T13:04:49.437Z level=WARN source=ggml.go:152 msg=\"key not found\" key=general.alignment default=32\n"
     ]
    },
    {
     "name": "stdout",
     "output_type": "stream",
     "text": [
      "[GIN] 2025/05/13 - 13:04:52 | 200 |  8.091961541s |       127.0.0.1 | POST     \"/api/chat\"\n"
     ]
    },
    {
     "name": "stderr",
     "output_type": "stream",
     "text": [
      "time=2025-05-13T13:04:52.069Z level=WARN source=ggml.go:152 msg=\"key not found\" key=general.alignment default=32\n"
     ]
    },
    {
     "name": "stdout",
     "output_type": "stream",
     "text": [
      "[GIN] 2025/05/13 - 13:04:57 | 200 | 20.856945031s |       127.0.0.1 | POST     \"/api/chat\"\n"
     ]
    },
    {
     "name": "stderr",
     "output_type": "stream",
     "text": [
      "time=2025-05-13T13:04:57.141Z level=WARN source=ggml.go:152 msg=\"key not found\" key=general.alignment default=32\n"
     ]
    },
    {
     "name": "stdout",
     "output_type": "stream",
     "text": [
      "[GIN] 2025/05/13 - 13:04:59 | 200 |  9.751115554s |       127.0.0.1 | POST     \"/api/chat\"\n"
     ]
    },
    {
     "name": "stderr",
     "output_type": "stream",
     "text": [
      "time=2025-05-13T13:04:59.181Z level=WARN source=ggml.go:152 msg=\"key not found\" key=general.alignment default=32\n"
     ]
    },
    {
     "name": "stdout",
     "output_type": "stream",
     "text": [
      "[GIN] 2025/05/13 - 13:05:01 | 200 |  16.98137221s |       127.0.0.1 | POST     \"/api/chat\"\n"
     ]
    },
    {
     "name": "stderr",
     "output_type": "stream",
     "text": [
      "time=2025-05-13T13:05:01.558Z level=WARN source=ggml.go:152 msg=\"key not found\" key=general.alignment default=32\n"
     ]
    },
    {
     "name": "stdout",
     "output_type": "stream",
     "text": [
      "[GIN] 2025/05/13 - 13:05:03 | 200 |  11.04878564s |       127.0.0.1 | POST     \"/api/chat\"\n"
     ]
    },
    {
     "name": "stderr",
     "output_type": "stream",
     "text": [
      "time=2025-05-13T13:05:03.122Z level=WARN source=ggml.go:152 msg=\"key not found\" key=general.alignment default=32\n"
     ]
    },
    {
     "name": "stdout",
     "output_type": "stream",
     "text": [
      "[GIN] 2025/05/13 - 13:05:09 | 200 | 10.316139771s |       127.0.0.1 | POST     \"/api/chat\"\n"
     ]
    },
    {
     "name": "stderr",
     "output_type": "stream",
     "text": [
      "time=2025-05-13T13:05:09.509Z level=WARN source=ggml.go:152 msg=\"key not found\" key=general.alignment default=32\n"
     ]
    },
    {
     "name": "stdout",
     "output_type": "stream",
     "text": [
      "[GIN] 2025/05/13 - 13:05:16 | 200 |  14.65880991s |       127.0.0.1 | POST     \"/api/chat\"\n"
     ]
    },
    {
     "name": "stderr",
     "output_type": "stream",
     "text": [
      "time=2025-05-13T13:05:16.209Z level=WARN source=ggml.go:152 msg=\"key not found\" key=general.alignment default=32\n"
     ]
    },
    {
     "name": "stdout",
     "output_type": "stream",
     "text": [
      "[GIN] 2025/05/13 - 13:05:20 | 200 | 17.515716211s |       127.0.0.1 | POST     \"/api/chat\"\n"
     ]
    },
    {
     "name": "stderr",
     "output_type": "stream",
     "text": [
      "time=2025-05-13T13:05:20.644Z level=WARN source=ggml.go:152 msg=\"key not found\" key=general.alignment default=32\n"
     ]
    },
    {
     "name": "stdout",
     "output_type": "stream",
     "text": [
      "[GIN] 2025/05/13 - 13:05:29 | 200 | 19.608666795s |       127.0.0.1 | POST     \"/api/chat\"\n"
     ]
    },
    {
     "name": "stderr",
     "output_type": "stream",
     "text": [
      "time=2025-05-13T13:05:29.127Z level=WARN source=ggml.go:152 msg=\"key not found\" key=general.alignment default=32\n"
     ]
    },
    {
     "name": "stdout",
     "output_type": "stream",
     "text": [
      "[GIN] 2025/05/13 - 13:05:35 | 200 | 19.681793527s |       127.0.0.1 | POST     \"/api/chat\"\n"
     ]
    },
    {
     "name": "stderr",
     "output_type": "stream",
     "text": [
      "time=2025-05-13T13:05:35.903Z level=WARN source=ggml.go:152 msg=\"key not found\" key=general.alignment default=32\n"
     ]
    },
    {
     "name": "stdout",
     "output_type": "stream",
     "text": [
      "[GIN] 2025/05/13 - 13:05:37 | 200 | 40.519712617s |       127.0.0.1 | POST     \"/api/chat\"\n"
     ]
    },
    {
     "name": "stderr",
     "output_type": "stream",
     "text": [
      "time=2025-05-13T13:05:37.671Z level=WARN source=ggml.go:152 msg=\"key not found\" key=general.alignment default=32\n"
     ]
    },
    {
     "name": "stdout",
     "output_type": "stream",
     "text": [
      "[GIN] 2025/05/13 - 13:05:39 | 200 | 10.216759443s |       127.0.0.1 | POST     \"/api/chat\"\n"
     ]
    },
    {
     "name": "stderr",
     "output_type": "stream",
     "text": [
      "time=2025-05-13T13:05:39.348Z level=WARN source=ggml.go:152 msg=\"key not found\" key=general.alignment default=32\n"
     ]
    },
    {
     "name": "stdout",
     "output_type": "stream",
     "text": [
      "[GIN] 2025/05/13 - 13:05:41 | 200 | 20.897712291s |       127.0.0.1 | POST     \"/api/chat\"\n"
     ]
    },
    {
     "name": "stderr",
     "output_type": "stream",
     "text": [
      "time=2025-05-13T13:05:41.552Z level=WARN source=ggml.go:152 msg=\"key not found\" key=general.alignment default=32\n"
     ]
    },
    {
     "name": "stdout",
     "output_type": "stream",
     "text": [
      "[GIN] 2025/05/13 - 13:05:47 | 200 |  11.64769005s |       127.0.0.1 | POST     \"/api/chat\"\n"
     ]
    },
    {
     "name": "stderr",
     "output_type": "stream",
     "text": [
      "time=2025-05-13T13:05:47.554Z level=WARN source=ggml.go:152 msg=\"key not found\" key=general.alignment default=32\n"
     ]
    },
    {
     "name": "stdout",
     "output_type": "stream",
     "text": [
      "[GIN] 2025/05/13 - 13:05:53 | 200 | 14.281084597s |       127.0.0.1 | POST     \"/api/chat\"\n"
     ]
    },
    {
     "name": "stderr",
     "output_type": "stream",
     "text": [
      "time=2025-05-13T13:05:53.638Z level=WARN source=ggml.go:152 msg=\"key not found\" key=general.alignment default=32\n"
     ]
    },
    {
     "name": "stdout",
     "output_type": "stream",
     "text": [
      "[GIN] 2025/05/13 - 13:05:57 | 200 | 16.466389575s |       127.0.0.1 | POST     \"/api/chat\"\n"
     ]
    },
    {
     "name": "stderr",
     "output_type": "stream",
     "text": [
      "time=2025-05-13T13:05:58.040Z level=WARN source=ggml.go:152 msg=\"key not found\" key=general.alignment default=32\n",
      "time=2025-05-13T13:05:58.045Z level=WARN source=ggml.go:152 msg=\"key not found\" key=general.alignment default=32\n",
      "time=2025-05-13T13:05:58.046Z level=WARN source=ggml.go:152 msg=\"key not found\" key=general.alignment default=32\n"
     ]
    },
    {
     "name": "stdout",
     "output_type": "stream",
     "text": [
      "[GIN] 2025/05/13 - 13:05:59 | 200 |  22.02166682s |       127.0.0.1 | POST     \"/api/chat\"\n"
     ]
    },
    {
     "name": "stderr",
     "output_type": "stream",
     "text": [
      "time=2025-05-13T13:05:59.705Z level=WARN source=ggml.go:152 msg=\"key not found\" key=general.alignment default=32\n"
     ]
    },
    {
     "name": "stdout",
     "output_type": "stream",
     "text": [
      "[GIN] 2025/05/13 - 13:06:02 | 200 |  9.063924888s |       127.0.0.1 | POST     \"/api/chat\"\n"
     ]
    },
    {
     "name": "stderr",
     "output_type": "stream",
     "text": [
      "time=2025-05-13T13:06:02.714Z level=WARN source=ggml.go:152 msg=\"key not found\" key=general.alignment default=32\n"
     ]
    },
    {
     "name": "stdout",
     "output_type": "stream",
     "text": [
      "[GIN] 2025/05/13 - 13:06:04 | 200 |   6.39459055s |       127.0.0.1 | POST     \"/api/chat\"\n",
      "[GIN] 2025/05/13 - 13:06:05 | 200 |  7.440084104s |       127.0.0.1 | POST     \"/api/chat\"\n",
      "[GIN] 2025/05/13 - 13:06:06 | 200 | 18.927259431s |       127.0.0.1 | POST     \"/api/chat\"\n",
      "[GIN] 2025/05/13 - 13:06:06 | 200 |  8.534085155s |       127.0.0.1 | POST     \"/api/chat\"\n"
     ]
    },
    {
     "name": "stderr",
     "output_type": "stream",
     "text": [
      "time=2025-05-13T13:06:06.487Z level=WARN source=ggml.go:152 msg=\"key not found\" key=general.alignment default=32\n",
      "time=2025-05-13T13:06:06.581Z level=WARN source=ggml.go:152 msg=\"key not found\" key=general.alignment default=32\n"
     ]
    },
    {
     "name": "stdout",
     "output_type": "stream",
     "text": [
      "[GIN] 2025/05/13 - 13:06:11 | 200 |  8.444811099s |       127.0.0.1 | POST     \"/api/chat\"\n"
     ]
    },
    {
     "name": "stderr",
     "output_type": "stream",
     "text": [
      "time=2025-05-13T13:06:11.161Z level=WARN source=ggml.go:152 msg=\"key not found\" key=general.alignment default=32\n"
     ]
    },
    {
     "name": "stdout",
     "output_type": "stream",
     "text": [
      "[GIN] 2025/05/13 - 13:06:17 | 200 | 11.266406817s |       127.0.0.1 | POST     \"/api/chat\"\n"
     ]
    },
    {
     "name": "stderr",
     "output_type": "stream",
     "text": [
      "time=2025-05-13T13:06:17.766Z level=WARN source=ggml.go:152 msg=\"key not found\" key=general.alignment default=32\n"
     ]
    },
    {
     "name": "stdout",
     "output_type": "stream",
     "text": [
      "[GIN] 2025/05/13 - 13:06:21 | 200 | 15.248362153s |       127.0.0.1 | POST     \"/api/chat\"\n"
     ]
    },
    {
     "name": "stderr",
     "output_type": "stream",
     "text": [
      "time=2025-05-13T13:06:21.830Z level=WARN source=ggml.go:152 msg=\"key not found\" key=general.alignment default=32\n"
     ]
    },
    {
     "name": "stdout",
     "output_type": "stream",
     "text": [
      "[GIN] 2025/05/13 - 13:06:29 | 200 | 18.249679963s |       127.0.0.1 | POST     \"/api/chat\"\n"
     ]
    },
    {
     "name": "stderr",
     "output_type": "stream",
     "text": [
      "time=2025-05-13T13:06:29.416Z level=WARN source=ggml.go:152 msg=\"key not found\" key=general.alignment default=32\n"
     ]
    },
    {
     "name": "stdout",
     "output_type": "stream",
     "text": [
      "[GIN] 2025/05/13 - 13:06:35 | 200 | 17.573397861s |       127.0.0.1 | POST     \"/api/chat\"\n"
     ]
    },
    {
     "name": "stderr",
     "output_type": "stream",
     "text": [
      "time=2025-05-13T13:06:35.353Z level=WARN source=ggml.go:152 msg=\"key not found\" key=general.alignment default=32\n"
     ]
    },
    {
     "name": "stdout",
     "output_type": "stream",
     "text": [
      "[GIN] 2025/05/13 - 13:06:47 | 200 | 47.466097396s |       127.0.0.1 | POST     \"/api/chat\"\n"
     ]
    },
    {
     "name": "stderr",
     "output_type": "stream",
     "text": [
      "time=2025-05-13T13:06:47.178Z level=WARN source=ggml.go:152 msg=\"key not found\" key=general.alignment default=32\n"
     ]
    },
    {
     "name": "stdout",
     "output_type": "stream",
     "text": [
      "[GIN] 2025/05/13 - 13:06:50 | 200 | 28.270108583s |       127.0.0.1 | POST     \"/api/chat\"\n"
     ]
    },
    {
     "name": "stderr",
     "output_type": "stream",
     "text": [
      "time=2025-05-13T13:06:50.131Z level=WARN source=ggml.go:152 msg=\"key not found\" key=general.alignment default=32\n"
     ]
    },
    {
     "name": "stdout",
     "output_type": "stream",
     "text": [
      "[GIN] 2025/05/13 - 13:06:55 | 200 | 20.454472014s |       127.0.0.1 | POST     \"/api/chat\"\n"
     ]
    },
    {
     "name": "stderr",
     "output_type": "stream",
     "text": [
      "time=2025-05-13T13:06:55.808Z level=WARN source=ggml.go:152 msg=\"key not found\" key=general.alignment default=32\n"
     ]
    },
    {
     "name": "stdout",
     "output_type": "stream",
     "text": [
      "[GIN] 2025/05/13 - 13:07:00 | 200 | 31.005332421s |       127.0.0.1 | POST     \"/api/chat\"\n"
     ]
    },
    {
     "name": "stderr",
     "output_type": "stream",
     "text": [
      "time=2025-05-13T13:07:00.427Z level=WARN source=ggml.go:152 msg=\"key not found\" key=general.alignment default=32\n"
     ]
    },
    {
     "name": "stdout",
     "output_type": "stream",
     "text": [
      "[GIN] 2025/05/13 - 13:07:04 | 200 | 14.641047713s |       127.0.0.1 | POST     \"/api/chat\"\n"
     ]
    },
    {
     "name": "stderr",
     "output_type": "stream",
     "text": [
      "time=2025-05-13T13:07:04.771Z level=WARN source=ggml.go:152 msg=\"key not found\" key=general.alignment default=32\n"
     ]
    },
    {
     "name": "stdout",
     "output_type": "stream",
     "text": [
      "[GIN] 2025/05/13 - 13:07:07 | 200 | 20.622208897s |       127.0.0.1 | POST     \"/api/chat\"\n"
     ]
    },
    {
     "name": "stderr",
     "output_type": "stream",
     "text": [
      "time=2025-05-13T13:07:07.805Z level=WARN source=ggml.go:152 msg=\"key not found\" key=general.alignment default=32\n"
     ]
    },
    {
     "name": "stdout",
     "output_type": "stream",
     "text": [
      "[GIN] 2025/05/13 - 13:07:10 | 200 | 14.878483755s |       127.0.0.1 | POST     \"/api/chat\"\n"
     ]
    },
    {
     "name": "stderr",
     "output_type": "stream",
     "text": [
      "time=2025-05-13T13:07:10.691Z level=WARN source=ggml.go:152 msg=\"key not found\" key=general.alignment default=32\n"
     ]
    },
    {
     "name": "stdout",
     "output_type": "stream",
     "text": [
      "[GIN] 2025/05/13 - 13:07:18 | 200 | 18.520332542s |       127.0.0.1 | POST     \"/api/chat\"\n"
     ]
    },
    {
     "name": "stderr",
     "output_type": "stream",
     "text": [
      "time=2025-05-13T13:07:18.958Z level=WARN source=ggml.go:152 msg=\"key not found\" key=general.alignment default=32\n"
     ]
    },
    {
     "name": "stdout",
     "output_type": "stream",
     "text": [
      "[GIN] 2025/05/13 - 13:07:21 | 200 | 16.524928423s |       127.0.0.1 | POST     \"/api/chat\"\n"
     ]
    },
    {
     "name": "stderr",
     "output_type": "stream",
     "text": [
      "time=2025-05-13T13:07:21.305Z level=WARN source=ggml.go:152 msg=\"key not found\" key=general.alignment default=32\n"
     ]
    },
    {
     "name": "stdout",
     "output_type": "stream",
     "text": [
      "[GIN] 2025/05/13 - 13:07:24 | 200 | 14.304456979s |       127.0.0.1 | POST     \"/api/chat\"\n"
     ]
    },
    {
     "name": "stderr",
     "output_type": "stream",
     "text": [
      "time=2025-05-13T13:07:25.014Z level=WARN source=ggml.go:152 msg=\"key not found\" key=general.alignment default=32\n"
     ]
    },
    {
     "name": "stdout",
     "output_type": "stream",
     "text": [
      "[GIN] 2025/05/13 - 13:07:39 | 200 | 20.723502649s |       127.0.0.1 | POST     \"/api/chat\"\n"
     ]
    },
    {
     "name": "stderr",
     "output_type": "stream",
     "text": [
      "time=2025-05-13T13:07:39.691Z level=WARN source=ggml.go:152 msg=\"key not found\" key=general.alignment default=32\n"
     ]
    },
    {
     "name": "stdout",
     "output_type": "stream",
     "text": [
      "[GIN] 2025/05/13 - 13:07:42 | 200 | 21.697311003s |       127.0.0.1 | POST     \"/api/chat\"\n"
     ]
    },
    {
     "name": "stderr",
     "output_type": "stream",
     "text": [
      "time=2025-05-13T13:07:43.009Z level=WARN source=ggml.go:152 msg=\"key not found\" key=general.alignment default=32\n"
     ]
    },
    {
     "name": "stdout",
     "output_type": "stream",
     "text": [
      "[GIN] 2025/05/13 - 13:07:46 | 200 | 21.758998976s |       127.0.0.1 | POST     \"/api/chat\"\n"
     ]
    },
    {
     "name": "stderr",
     "output_type": "stream",
     "text": [
      "time=2025-05-13T13:07:46.771Z level=WARN source=ggml.go:152 msg=\"key not found\" key=general.alignment default=32\n"
     ]
    },
    {
     "name": "stdout",
     "output_type": "stream",
     "text": [
      "[GIN] 2025/05/13 - 13:07:55 | 200 | 47.637194666s |       127.0.0.1 | POST     \"/api/chat\"\n"
     ]
    },
    {
     "name": "stderr",
     "output_type": "stream",
     "text": [
      "time=2025-05-13T13:07:55.451Z level=WARN source=ggml.go:152 msg=\"key not found\" key=general.alignment default=32\n"
     ]
    },
    {
     "name": "stdout",
     "output_type": "stream",
     "text": [
      "[GIN] 2025/05/13 - 13:07:57 | 200 | 17.832323321s |       127.0.0.1 | POST     \"/api/chat\"\n"
     ]
    },
    {
     "name": "stderr",
     "output_type": "stream",
     "text": [
      "time=2025-05-13T13:07:57.530Z level=WARN source=ggml.go:152 msg=\"key not found\" key=general.alignment default=32\n"
     ]
    },
    {
     "name": "stdout",
     "output_type": "stream",
     "text": [
      "[GIN] 2025/05/13 - 13:08:00 | 200 | 13.428298278s |       127.0.0.1 | POST     \"/api/chat\"\n"
     ]
    },
    {
     "name": "stderr",
     "output_type": "stream",
     "text": [
      "time=2025-05-13T13:08:00.203Z level=WARN source=ggml.go:152 msg=\"key not found\" key=general.alignment default=32\n"
     ]
    },
    {
     "name": "stdout",
     "output_type": "stream",
     "text": [
      "[GIN] 2025/05/13 - 13:08:06 | 200 | 23.685201547s |       127.0.0.1 | POST     \"/api/chat\"\n"
     ]
    },
    {
     "name": "stderr",
     "output_type": "stream",
     "text": [
      "time=2025-05-13T13:08:06.699Z level=WARN source=ggml.go:152 msg=\"key not found\" key=general.alignment default=32\n"
     ]
    },
    {
     "name": "stdout",
     "output_type": "stream",
     "text": [
      "[GIN] 2025/05/13 - 13:08:19 | 200 | 22.016759583s |       127.0.0.1 | POST     \"/api/chat\"\n"
     ]
    },
    {
     "name": "stderr",
     "output_type": "stream",
     "text": [
      "time=2025-05-13T13:08:19.546Z level=WARN source=ggml.go:152 msg=\"key not found\" key=general.alignment default=32\n"
     ]
    },
    {
     "name": "stdout",
     "output_type": "stream",
     "text": [
      "[GIN] 2025/05/13 - 13:08:23 | 200 | 23.121063749s |       127.0.0.1 | POST     \"/api/chat\"\n"
     ]
    },
    {
     "name": "stderr",
     "output_type": "stream",
     "text": [
      "time=2025-05-13T13:08:23.336Z level=WARN source=ggml.go:152 msg=\"key not found\" key=general.alignment default=32\n"
     ]
    },
    {
     "name": "stdout",
     "output_type": "stream",
     "text": [
      "[GIN] 2025/05/13 - 13:08:31 | 200 | 25.195730961s |       127.0.0.1 | POST     \"/api/chat\"\n"
     ]
    },
    {
     "name": "stderr",
     "output_type": "stream",
     "text": [
      "time=2025-05-13T13:08:31.912Z level=WARN source=ggml.go:152 msg=\"key not found\" key=general.alignment default=32\n"
     ]
    },
    {
     "name": "stdout",
     "output_type": "stream",
     "text": [
      "[GIN] 2025/05/13 - 13:08:40 | 200 | 45.391570607s |       127.0.0.1 | POST     \"/api/chat\"\n"
     ]
    },
    {
     "name": "stderr",
     "output_type": "stream",
     "text": [
      "time=2025-05-13T13:08:40.869Z level=WARN source=ggml.go:152 msg=\"key not found\" key=general.alignment default=32\n"
     ]
    },
    {
     "name": "stdout",
     "output_type": "stream",
     "text": [
      "[GIN] 2025/05/13 - 13:08:42 | 200 | 23.386429979s |       127.0.0.1 | POST     \"/api/chat\"\n"
     ]
    },
    {
     "name": "stderr",
     "output_type": "stream",
     "text": [
      "time=2025-05-13T13:08:42.937Z level=WARN source=ggml.go:152 msg=\"key not found\" key=general.alignment default=32\n"
     ]
    },
    {
     "name": "stdout",
     "output_type": "stream",
     "text": [
      "[GIN] 2025/05/13 - 13:08:44 | 200 | 21.549957858s |       127.0.0.1 | POST     \"/api/chat\"\n"
     ]
    },
    {
     "name": "stderr",
     "output_type": "stream",
     "text": [
      "time=2025-05-13T13:08:44.912Z level=WARN source=ggml.go:152 msg=\"key not found\" key=general.alignment default=32\n",
      "time=2025-05-13T13:08:44.912Z level=WARN source=ggml.go:152 msg=\"key not found\" key=general.alignment default=32\n",
      "time=2025-05-13T13:08:44.913Z level=WARN source=ggml.go:152 msg=\"key not found\" key=general.alignment default=32\n"
     ]
    },
    {
     "name": "stdout",
     "output_type": "stream",
     "text": [
      "[GIN] 2025/05/13 - 13:08:45 | 200 | 13.757261115s |       127.0.0.1 | POST     \"/api/chat\"\n"
     ]
    },
    {
     "name": "stderr",
     "output_type": "stream",
     "text": [
      "time=2025-05-13T13:08:45.668Z level=WARN source=ggml.go:152 msg=\"key not found\" key=general.alignment default=32\n"
     ]
    },
    {
     "name": "stdout",
     "output_type": "stream",
     "text": [
      "[GIN] 2025/05/13 - 13:08:50 | 200 |  9.501838936s |       127.0.0.1 | POST     \"/api/chat\"\n"
     ]
    },
    {
     "name": "stderr",
     "output_type": "stream",
     "text": [
      "time=2025-05-13T13:08:50.359Z level=WARN source=ggml.go:152 msg=\"key not found\" key=general.alignment default=32\n"
     ]
    },
    {
     "name": "stdout",
     "output_type": "stream",
     "text": [
      "[GIN] 2025/05/13 - 13:08:52 | 200 |  7.219003083s |       127.0.0.1 | POST     \"/api/chat\"\n",
      "[GIN] 2025/05/13 - 13:08:53 | 200 |  8.389401019s |       127.0.0.1 | POST     \"/api/chat\"\n",
      "[GIN] 2025/05/13 - 13:08:54 | 200 |  9.563073412s |       127.0.0.1 | POST     \"/api/chat\"\n"
     ]
    },
    {
     "name": "stderr",
     "output_type": "stream",
     "text": [
      "time=2025-05-13T13:08:54.470Z level=WARN source=ggml.go:152 msg=\"key not found\" key=general.alignment default=32\n"
     ]
    },
    {
     "name": "stdout",
     "output_type": "stream",
     "text": [
      "[GIN] 2025/05/13 - 13:09:02 | 200 | 19.691849635s |       127.0.0.1 | POST     \"/api/chat\"\n"
     ]
    },
    {
     "name": "stderr",
     "output_type": "stream",
     "text": [
      "time=2025-05-13T13:09:02.635Z level=WARN source=ggml.go:152 msg=\"key not found\" key=general.alignment default=32\n"
     ]
    },
    {
     "name": "stdout",
     "output_type": "stream",
     "text": [
      "[GIN] 2025/05/13 - 13:09:07 | 200 | 16.978874151s |       127.0.0.1 | POST     \"/api/chat\"\n"
     ]
    },
    {
     "name": "stderr",
     "output_type": "stream",
     "text": [
      "time=2025-05-13T13:09:07.344Z level=WARN source=ggml.go:152 msg=\"key not found\" key=general.alignment default=32\n"
     ]
    },
    {
     "name": "stdout",
     "output_type": "stream",
     "text": [
      "[GIN] 2025/05/13 - 13:09:08 | 200 | 22.807693839s |       127.0.0.1 | POST     \"/api/chat\"\n"
     ]
    },
    {
     "name": "stderr",
     "output_type": "stream",
     "text": [
      "time=2025-05-13T13:09:08.479Z level=WARN source=ggml.go:152 msg=\"key not found\" key=general.alignment default=32\n"
     ]
    },
    {
     "name": "stdout",
     "output_type": "stream",
     "text": [
      "[GIN] 2025/05/13 - 13:09:12 | 200 | 18.048532579s |       127.0.0.1 | POST     \"/api/chat\"\n"
     ]
    },
    {
     "name": "stderr",
     "output_type": "stream",
     "text": [
      "time=2025-05-13T13:09:12.523Z level=WARN source=ggml.go:152 msg=\"key not found\" key=general.alignment default=32\n"
     ]
    },
    {
     "name": "stdout",
     "output_type": "stream",
     "text": [
      "[GIN] 2025/05/13 - 13:09:20 | 200 | 18.023078298s |       127.0.0.1 | POST     \"/api/chat\"\n"
     ]
    },
    {
     "name": "stderr",
     "output_type": "stream",
     "text": [
      "time=2025-05-13T13:09:20.667Z level=WARN source=ggml.go:152 msg=\"key not found\" key=general.alignment default=32\n"
     ]
    },
    {
     "name": "stdout",
     "output_type": "stream",
     "text": [
      "[GIN] 2025/05/13 - 13:09:24 | 200 |  16.52478576s |       127.0.0.1 | POST     \"/api/chat\"\n"
     ]
    },
    {
     "name": "stderr",
     "output_type": "stream",
     "text": [
      "time=2025-05-13T13:09:25.026Z level=WARN source=ggml.go:152 msg=\"key not found\" key=general.alignment default=32\n"
     ]
    },
    {
     "name": "stdout",
     "output_type": "stream",
     "text": [
      "[GIN] 2025/05/13 - 13:09:28 | 200 |   20.9773317s |       127.0.0.1 | POST     \"/api/chat\"\n"
     ]
    },
    {
     "name": "stderr",
     "output_type": "stream",
     "text": [
      "time=2025-05-13T13:09:28.329Z level=WARN source=ggml.go:152 msg=\"key not found\" key=general.alignment default=32\n"
     ]
    },
    {
     "name": "stdout",
     "output_type": "stream",
     "text": [
      "[GIN] 2025/05/13 - 13:09:40 | 200 | 27.894483578s |       127.0.0.1 | POST     \"/api/chat\"\n"
     ]
    },
    {
     "name": "stderr",
     "output_type": "stream",
     "text": [
      "time=2025-05-13T13:09:40.430Z level=WARN source=ggml.go:152 msg=\"key not found\" key=general.alignment default=32\n"
     ]
    },
    {
     "name": "stdout",
     "output_type": "stream",
     "text": [
      "[GIN] 2025/05/13 - 13:09:42 | 200 | 21.891221425s |       127.0.0.1 | POST     \"/api/chat\"\n"
     ]
    },
    {
     "name": "stderr",
     "output_type": "stream",
     "text": [
      "time=2025-05-13T13:09:42.563Z level=WARN source=ggml.go:152 msg=\"key not found\" key=general.alignment default=32\n"
     ]
    },
    {
     "name": "stdout",
     "output_type": "stream",
     "text": [
      "[GIN] 2025/05/13 - 13:09:51 | 200 | 26.639515646s |       127.0.0.1 | POST     \"/api/chat\"\n"
     ]
    },
    {
     "name": "stderr",
     "output_type": "stream",
     "text": [
      "time=2025-05-13T13:09:51.671Z level=WARN source=ggml.go:152 msg=\"key not found\" key=general.alignment default=32\n"
     ]
    },
    {
     "name": "stdout",
     "output_type": "stream",
     "text": [
      "[GIN] 2025/05/13 - 13:09:55 | 200 | 14.857423955s |       127.0.0.1 | POST     \"/api/chat\"\n"
     ]
    },
    {
     "name": "stderr",
     "output_type": "stream",
     "text": [
      "time=2025-05-13T13:09:55.291Z level=WARN source=ggml.go:152 msg=\"key not found\" key=general.alignment default=32\n"
     ]
    },
    {
     "name": "stdout",
     "output_type": "stream",
     "text": [
      "[GIN] 2025/05/13 - 13:09:56 | 200 | 28.430426196s |       127.0.0.1 | POST     \"/api/chat\"\n"
     ]
    },
    {
     "name": "stderr",
     "output_type": "stream",
     "text": [
      "time=2025-05-13T13:09:56.767Z level=WARN source=ggml.go:152 msg=\"key not found\" key=general.alignment default=32\n"
     ]
    },
    {
     "name": "stdout",
     "output_type": "stream",
     "text": [
      "[GIN] 2025/05/13 - 13:10:00 | 200 |  8.379272941s |       127.0.0.1 | POST     \"/api/chat\"\n"
     ]
    },
    {
     "name": "stderr",
     "output_type": "stream",
     "text": [
      "time=2025-05-13T13:10:00.045Z level=WARN source=ggml.go:152 msg=\"key not found\" key=general.alignment default=32\n"
     ]
    },
    {
     "name": "stdout",
     "output_type": "stream",
     "text": [
      "[GIN] 2025/05/13 - 13:10:02 | 200 |  7.668967235s |       127.0.0.1 | POST     \"/api/chat\"\n"
     ]
    },
    {
     "name": "stderr",
     "output_type": "stream",
     "text": [
      "time=2025-05-13T13:10:02.967Z level=WARN source=ggml.go:152 msg=\"key not found\" key=general.alignment default=32\n"
     ]
    },
    {
     "name": "stdout",
     "output_type": "stream",
     "text": [
      "[GIN] 2025/05/13 - 13:10:07 | 200 | 25.104737142s |       127.0.0.1 | POST     \"/api/chat\"\n"
     ]
    },
    {
     "name": "stderr",
     "output_type": "stream",
     "text": [
      "time=2025-05-13T13:10:07.677Z level=WARN source=ggml.go:152 msg=\"key not found\" key=general.alignment default=32\n"
     ]
    },
    {
     "name": "stdout",
     "output_type": "stream",
     "text": [
      "[GIN] 2025/05/13 - 13:10:16 | 200 |  19.89798624s |       127.0.0.1 | POST     \"/api/chat\"\n"
     ]
    },
    {
     "name": "stderr",
     "output_type": "stream",
     "text": [
      "time=2025-05-13T13:10:16.672Z level=WARN source=ggml.go:152 msg=\"key not found\" key=general.alignment default=32\n"
     ]
    },
    {
     "name": "stdout",
     "output_type": "stream",
     "text": [
      "[GIN] 2025/05/13 - 13:10:18 | 200 | 18.433589047s |       127.0.0.1 | POST     \"/api/chat\"\n"
     ]
    },
    {
     "name": "stderr",
     "output_type": "stream",
     "text": [
      "time=2025-05-13T13:10:18.499Z level=WARN source=ggml.go:152 msg=\"key not found\" key=general.alignment default=32\n"
     ]
    },
    {
     "name": "stdout",
     "output_type": "stream",
     "text": [
      "[GIN] 2025/05/13 - 13:10:21 | 200 | 19.003578662s |       127.0.0.1 | POST     \"/api/chat\"\n"
     ]
    },
    {
     "name": "stderr",
     "output_type": "stream",
     "text": [
      "time=2025-05-13T13:10:21.977Z level=WARN source=ggml.go:152 msg=\"key not found\" key=general.alignment default=32\n"
     ]
    },
    {
     "name": "stdout",
     "output_type": "stream",
     "text": [
      "[GIN] 2025/05/13 - 13:10:29 | 200 | 22.059924524s |       127.0.0.1 | POST     \"/api/chat\"\n"
     ]
    },
    {
     "name": "stderr",
     "output_type": "stream",
     "text": [
      "time=2025-05-13T13:10:29.743Z level=WARN source=ggml.go:152 msg=\"key not found\" key=general.alignment default=32\n"
     ]
    },
    {
     "name": "stdout",
     "output_type": "stream",
     "text": [
      "[GIN] 2025/05/13 - 13:10:31 | 200 | 12.826907263s |       127.0.0.1 | POST     \"/api/chat\"\n"
     ]
    },
    {
     "name": "stderr",
     "output_type": "stream",
     "text": [
      "time=2025-05-13T13:10:31.321Z level=WARN source=ggml.go:152 msg=\"key not found\" key=general.alignment default=32\n"
     ]
    },
    {
     "name": "stdout",
     "output_type": "stream",
     "text": [
      "[GIN] 2025/05/13 - 13:10:34 | 200 | 12.647088774s |       127.0.0.1 | POST     \"/api/chat\"\n"
     ]
    },
    {
     "name": "stderr",
     "output_type": "stream",
     "text": [
      "time=2025-05-13T13:10:34.629Z level=WARN source=ggml.go:152 msg=\"key not found\" key=general.alignment default=32\n"
     ]
    },
    {
     "name": "stdout",
     "output_type": "stream",
     "text": [
      "[GIN] 2025/05/13 - 13:10:38 | 200 | 21.374039206s |       127.0.0.1 | POST     \"/api/chat\"\n"
     ]
    },
    {
     "name": "stderr",
     "output_type": "stream",
     "text": [
      "time=2025-05-13T13:10:38.052Z level=WARN source=ggml.go:152 msg=\"key not found\" key=general.alignment default=32\n"
     ]
    },
    {
     "name": "stdout",
     "output_type": "stream",
     "text": [
      "[GIN] 2025/05/13 - 13:10:40 | 200 | 10.434710012s |       127.0.0.1 | POST     \"/api/chat\"\n"
     ]
    },
    {
     "name": "stderr",
     "output_type": "stream",
     "text": [
      "time=2025-05-13T13:10:40.184Z level=WARN source=ggml.go:152 msg=\"key not found\" key=general.alignment default=32\n"
     ]
    },
    {
     "name": "stdout",
     "output_type": "stream",
     "text": [
      "[GIN] 2025/05/13 - 13:10:43 | 200 |  8.480906131s |       127.0.0.1 | POST     \"/api/chat\"\n"
     ]
    },
    {
     "name": "stderr",
     "output_type": "stream",
     "text": [
      "time=2025-05-13T13:10:43.141Z level=WARN source=ggml.go:152 msg=\"key not found\" key=general.alignment default=32\n",
      "time=2025-05-13T13:10:43.143Z level=WARN source=ggml.go:152 msg=\"key not found\" key=general.alignment default=32\n",
      "time=2025-05-13T13:10:43.146Z level=WARN source=ggml.go:152 msg=\"key not found\" key=general.alignment default=32\n"
     ]
    },
    {
     "name": "stdout",
     "output_type": "stream",
     "text": [
      "[GIN] 2025/05/13 - 13:10:47 | 200 | 16.426714422s |       127.0.0.1 | POST     \"/api/chat\"\n"
     ]
    },
    {
     "name": "stderr",
     "output_type": "stream",
     "text": [
      "time=2025-05-13T13:10:47.754Z level=WARN source=ggml.go:152 msg=\"key not found\" key=general.alignment default=32\n"
     ]
    },
    {
     "name": "stdout",
     "output_type": "stream",
     "text": [
      "[GIN] 2025/05/13 - 13:10:50 | 200 | 10.475882588s |       127.0.0.1 | POST     \"/api/chat\"\n"
     ]
    },
    {
     "name": "stderr",
     "output_type": "stream",
     "text": [
      "time=2025-05-13T13:10:50.673Z level=WARN source=ggml.go:152 msg=\"key not found\" key=general.alignment default=32\n"
     ]
    },
    {
     "name": "stdout",
     "output_type": "stream",
     "text": [
      "[GIN] 2025/05/13 - 13:10:52 | 200 |  9.175449989s |       127.0.0.1 | POST     \"/api/chat\"\n",
      "[GIN] 2025/05/13 - 13:10:53 | 200 | 10.327740302s |       127.0.0.1 | POST     \"/api/chat\"\n",
      "[GIN] 2025/05/13 - 13:10:54 | 200 | 11.478669046s |       127.0.0.1 | POST     \"/api/chat\"\n"
     ]
    },
    {
     "name": "stderr",
     "output_type": "stream",
     "text": [
      "time=2025-05-13T13:10:54.619Z level=WARN source=ggml.go:152 msg=\"key not found\" key=general.alignment default=32\n"
     ]
    },
    {
     "name": "stdout",
     "output_type": "stream",
     "text": [
      "[GIN] 2025/05/13 - 13:10:57 | 200 |  9.766524292s |       127.0.0.1 | POST     \"/api/chat\"\n"
     ]
    },
    {
     "name": "stderr",
     "output_type": "stream",
     "text": [
      "time=2025-05-13T13:10:57.535Z level=WARN source=ggml.go:152 msg=\"key not found\" key=general.alignment default=32\n"
     ]
    },
    {
     "name": "stdout",
     "output_type": "stream",
     "text": [
      "[GIN] 2025/05/13 - 13:11:00 | 200 |  22.78409863s |       127.0.0.1 | POST     \"/api/chat\"\n"
     ]
    },
    {
     "name": "stderr",
     "output_type": "stream",
     "text": [
      "time=2025-05-13T13:11:00.839Z level=WARN source=ggml.go:152 msg=\"key not found\" key=general.alignment default=32\n"
     ]
    },
    {
     "name": "stdout",
     "output_type": "stream",
     "text": [
      "[GIN] 2025/05/13 - 13:11:03 | 200 |  8.744614153s |       127.0.0.1 | POST     \"/api/chat\"\n"
     ]
    },
    {
     "name": "stderr",
     "output_type": "stream",
     "text": [
      "time=2025-05-13T13:11:03.371Z level=WARN source=ggml.go:152 msg=\"key not found\" key=general.alignment default=32\n"
     ]
    },
    {
     "name": "stdout",
     "output_type": "stream",
     "text": [
      "[GIN] 2025/05/13 - 13:11:12 | 200 |  21.44106771s |       127.0.0.1 | POST     \"/api/chat\"\n"
     ]
    },
    {
     "name": "stderr",
     "output_type": "stream",
     "text": [
      "time=2025-05-13T13:11:12.113Z level=WARN source=ggml.go:152 msg=\"key not found\" key=general.alignment default=32\n"
     ]
    },
    {
     "name": "stdout",
     "output_type": "stream",
     "text": [
      "[GIN] 2025/05/13 - 13:11:13 | 200 | 16.277669856s |       127.0.0.1 | POST     \"/api/chat\"\n"
     ]
    },
    {
     "name": "stderr",
     "output_type": "stream",
     "text": [
      "time=2025-05-13T13:11:13.822Z level=WARN source=ggml.go:152 msg=\"key not found\" key=general.alignment default=32\n"
     ]
    },
    {
     "name": "stdout",
     "output_type": "stream",
     "text": [
      "[GIN] 2025/05/13 - 13:11:21 | 200 | 18.543237759s |       127.0.0.1 | POST     \"/api/chat\"\n"
     ]
    },
    {
     "name": "stderr",
     "output_type": "stream",
     "text": [
      "time=2025-05-13T13:11:21.919Z level=WARN source=ggml.go:152 msg=\"key not found\" key=general.alignment default=32\n"
     ]
    },
    {
     "name": "stdout",
     "output_type": "stream",
     "text": [
      "[GIN] 2025/05/13 - 13:11:27 | 200 | 26.961501644s |       127.0.0.1 | POST     \"/api/chat\"\n"
     ]
    },
    {
     "name": "stderr",
     "output_type": "stream",
     "text": [
      "time=2025-05-13T13:11:27.815Z level=WARN source=ggml.go:152 msg=\"key not found\" key=general.alignment default=32\n"
     ]
    },
    {
     "name": "stdout",
     "output_type": "stream",
     "text": [
      "[GIN] 2025/05/13 - 13:11:30 | 200 | 18.452746981s |       127.0.0.1 | POST     \"/api/chat\"\n"
     ]
    },
    {
     "name": "stderr",
     "output_type": "stream",
     "text": [
      "time=2025-05-13T13:11:30.581Z level=WARN source=ggml.go:152 msg=\"key not found\" key=general.alignment default=32\n"
     ]
    },
    {
     "name": "stdout",
     "output_type": "stream",
     "text": [
      "[GIN] 2025/05/13 - 13:11:31 | 200 |   18.0012661s |       127.0.0.1 | POST     \"/api/chat\"\n"
     ]
    },
    {
     "name": "stderr",
     "output_type": "stream",
     "text": [
      "time=2025-05-13T13:11:31.822Z level=WARN source=ggml.go:152 msg=\"key not found\" key=general.alignment default=32\n"
     ]
    },
    {
     "name": "stdout",
     "output_type": "stream",
     "text": [
      "[GIN] 2025/05/13 - 13:11:35 | 200 |  13.16728352s |       127.0.0.1 | POST     \"/api/chat\"\n"
     ]
    },
    {
     "name": "stderr",
     "output_type": "stream",
     "text": [
      "time=2025-05-13T13:11:35.101Z level=WARN source=ggml.go:152 msg=\"key not found\" key=general.alignment default=32\n"
     ]
    },
    {
     "name": "stdout",
     "output_type": "stream",
     "text": [
      "[GIN] 2025/05/13 - 13:11:48 | 200 | 20.952587067s |       127.0.0.1 | POST     \"/api/chat\"\n"
     ]
    },
    {
     "name": "stderr",
     "output_type": "stream",
     "text": [
      "time=2025-05-13T13:11:48.774Z level=WARN source=ggml.go:152 msg=\"key not found\" key=general.alignment default=32\n"
     ]
    },
    {
     "name": "stdout",
     "output_type": "stream",
     "text": [
      "[GIN] 2025/05/13 - 13:11:49 | 200 | 19.358796397s |       127.0.0.1 | POST     \"/api/chat\"\n"
     ]
    },
    {
     "name": "stderr",
     "output_type": "stream",
     "text": [
      "time=2025-05-13T13:11:49.951Z level=WARN source=ggml.go:152 msg=\"key not found\" key=general.alignment default=32\n"
     ]
    },
    {
     "name": "stdout",
     "output_type": "stream",
     "text": [
      "[GIN] 2025/05/13 - 13:11:52 | 200 | 20.378770513s |       127.0.0.1 | POST     \"/api/chat\"\n"
     ]
    },
    {
     "name": "stderr",
     "output_type": "stream",
     "text": [
      "time=2025-05-13T13:11:52.210Z level=WARN source=ggml.go:152 msg=\"key not found\" key=general.alignment default=32\n"
     ]
    },
    {
     "name": "stdout",
     "output_type": "stream",
     "text": [
      "[GIN] 2025/05/13 - 13:12:01 | 200 |  26.59610926s |       127.0.0.1 | POST     \"/api/chat\"\n"
     ]
    },
    {
     "name": "stderr",
     "output_type": "stream",
     "text": [
      "time=2025-05-13T13:12:01.703Z level=WARN source=ggml.go:152 msg=\"key not found\" key=general.alignment default=32\n"
     ]
    },
    {
     "name": "stdout",
     "output_type": "stream",
     "text": [
      "[GIN] 2025/05/13 - 13:12:04 | 200 | 15.786454315s |       127.0.0.1 | POST     \"/api/chat\"\n"
     ]
    },
    {
     "name": "stderr",
     "output_type": "stream",
     "text": [
      "time=2025-05-13T13:12:04.559Z level=WARN source=ggml.go:152 msg=\"key not found\" key=general.alignment default=32\n"
     ]
    },
    {
     "name": "stdout",
     "output_type": "stream",
     "text": [
      "[GIN] 2025/05/13 - 13:12:07 | 200 | 15.555363306s |       127.0.0.1 | POST     \"/api/chat\"\n"
     ]
    },
    {
     "name": "stderr",
     "output_type": "stream",
     "text": [
      "time=2025-05-13T13:12:07.778Z level=WARN source=ggml.go:152 msg=\"key not found\" key=general.alignment default=32\n"
     ]
    },
    {
     "name": "stdout",
     "output_type": "stream",
     "text": [
      "[GIN] 2025/05/13 - 13:12:15 | 200 | 25.441352052s |       127.0.0.1 | POST     \"/api/chat\"\n"
     ]
    },
    {
     "name": "stderr",
     "output_type": "stream",
     "text": [
      "time=2025-05-13T13:12:15.387Z level=WARN source=ggml.go:152 msg=\"key not found\" key=general.alignment default=32\n"
     ]
    },
    {
     "name": "stdout",
     "output_type": "stream",
     "text": [
      "[GIN] 2025/05/13 - 13:12:16 | 200 | 14.956384661s |       127.0.0.1 | POST     \"/api/chat\"\n"
     ]
    },
    {
     "name": "stderr",
     "output_type": "stream",
     "text": [
      "time=2025-05-13T13:12:16.659Z level=WARN source=ggml.go:152 msg=\"key not found\" key=general.alignment default=32\n"
     ]
    },
    {
     "name": "stdout",
     "output_type": "stream",
     "text": [
      "[GIN] 2025/05/13 - 13:12:20 | 200 | 12.252116393s |       127.0.0.1 | POST     \"/api/chat\"\n"
     ]
    },
    {
     "name": "stderr",
     "output_type": "stream",
     "text": [
      "time=2025-05-13T13:12:20.027Z level=WARN source=ggml.go:152 msg=\"key not found\" key=general.alignment default=32\n"
     ]
    },
    {
     "name": "stdout",
     "output_type": "stream",
     "text": [
      "[GIN] 2025/05/13 - 13:12:31 | 200 | 27.322828847s |       127.0.0.1 | POST     \"/api/chat\"\n"
     ]
    },
    {
     "name": "stderr",
     "output_type": "stream",
     "text": [
      "time=2025-05-13T13:12:31.895Z level=WARN source=ggml.go:152 msg=\"key not found\" key=general.alignment default=32\n"
     ]
    },
    {
     "name": "stdout",
     "output_type": "stream",
     "text": [
      "[GIN] 2025/05/13 - 13:12:33 | 200 | 17.769340911s |       127.0.0.1 | POST     \"/api/chat\"\n"
     ]
    },
    {
     "name": "stderr",
     "output_type": "stream",
     "text": [
      "time=2025-05-13T13:12:33.161Z level=WARN source=ggml.go:152 msg=\"key not found\" key=general.alignment default=32\n"
     ]
    },
    {
     "name": "stdout",
     "output_type": "stream",
     "text": [
      "[GIN] 2025/05/13 - 13:12:34 | 200 | 17.741071678s |       127.0.0.1 | POST     \"/api/chat\"\n"
     ]
    },
    {
     "name": "stderr",
     "output_type": "stream",
     "text": [
      "time=2025-05-13T13:12:34.410Z level=WARN source=ggml.go:152 msg=\"key not found\" key=general.alignment default=32\n"
     ]
    },
    {
     "name": "stdout",
     "output_type": "stream",
     "text": [
      "[GIN] 2025/05/13 - 13:12:37 | 200 | 17.262859122s |       127.0.0.1 | POST     \"/api/chat\"\n"
     ]
    },
    {
     "name": "stderr",
     "output_type": "stream",
     "text": [
      "time=2025-05-13T13:12:37.301Z level=WARN source=ggml.go:152 msg=\"key not found\" key=general.alignment default=32\n"
     ]
    },
    {
     "name": "stdout",
     "output_type": "stream",
     "text": [
      "[GIN] 2025/05/13 - 13:12:47 | 200 | 14.395401401s |       127.0.0.1 | POST     \"/api/chat\"\n"
     ]
    },
    {
     "name": "stderr",
     "output_type": "stream",
     "text": [
      "time=2025-05-13T13:12:47.565Z level=WARN source=ggml.go:152 msg=\"key not found\" key=general.alignment default=32\n"
     ]
    },
    {
     "name": "stdout",
     "output_type": "stream",
     "text": [
      "[GIN] 2025/05/13 - 13:12:49 | 200 | 17.932935826s |       127.0.0.1 | POST     \"/api/chat\"\n"
     ]
    },
    {
     "name": "stderr",
     "output_type": "stream",
     "text": [
      "time=2025-05-13T13:12:49.827Z level=WARN source=ggml.go:152 msg=\"key not found\" key=general.alignment default=32\n"
     ]
    },
    {
     "name": "stdout",
     "output_type": "stream",
     "text": [
      "[GIN] 2025/05/13 - 13:12:53 | 200 | 16.141313262s |       127.0.0.1 | POST     \"/api/chat\"\n"
     ]
    },
    {
     "name": "stderr",
     "output_type": "stream",
     "text": [
      "time=2025-05-13T13:12:53.447Z level=WARN source=ggml.go:152 msg=\"key not found\" key=general.alignment default=32\n"
     ]
    },
    {
     "name": "stdout",
     "output_type": "stream",
     "text": [
      "[GIN] 2025/05/13 - 13:12:55 | 200 | 20.799314596s |       127.0.0.1 | POST     \"/api/chat\"\n"
     ]
    },
    {
     "name": "stderr",
     "output_type": "stream",
     "text": [
      "time=2025-05-13T13:12:55.235Z level=WARN source=ggml.go:152 msg=\"key not found\" key=general.alignment default=32\n",
      "time=2025-05-13T13:12:55.239Z level=WARN source=ggml.go:152 msg=\"key not found\" key=general.alignment default=32\n",
      "time=2025-05-13T13:12:55.241Z level=WARN source=ggml.go:152 msg=\"key not found\" key=general.alignment default=32\n"
     ]
    },
    {
     "name": "stdout",
     "output_type": "stream",
     "text": [
      "[GIN] 2025/05/13 - 13:13:08 | 200 | 19.168140865s |       127.0.0.1 | POST     \"/api/chat\"\n"
     ]
    },
    {
     "name": "stderr",
     "output_type": "stream",
     "text": [
      "time=2025-05-13T13:13:09.006Z level=WARN source=ggml.go:152 msg=\"key not found\" key=general.alignment default=32\n"
     ]
    },
    {
     "name": "stdout",
     "output_type": "stream",
     "text": [
      "[GIN] 2025/05/13 - 13:13:11 | 200 | 23.838224665s |       127.0.0.1 | POST     \"/api/chat\"\n"
     ]
    },
    {
     "name": "stderr",
     "output_type": "stream",
     "text": [
      "time=2025-05-13T13:13:11.417Z level=WARN source=ggml.go:152 msg=\"key not found\" key=general.alignment default=32\n"
     ]
    },
    {
     "name": "stdout",
     "output_type": "stream",
     "text": [
      "[GIN] 2025/05/13 - 13:13:13 | 200 |  17.98914262s |       127.0.0.1 | POST     \"/api/chat\"\n",
      "[GIN] 2025/05/13 - 13:13:14 | 200 | 19.047148507s |       127.0.0.1 | POST     \"/api/chat\"\n",
      "[GIN] 2025/05/13 - 13:13:15 | 200 | 20.134780649s |       127.0.0.1 | POST     \"/api/chat\"\n"
     ]
    },
    {
     "name": "stderr",
     "output_type": "stream",
     "text": [
      "time=2025-05-13T13:13:15.369Z level=WARN source=ggml.go:152 msg=\"key not found\" key=general.alignment default=32\n"
     ]
    },
    {
     "name": "stdout",
     "output_type": "stream",
     "text": [
      "[GIN] 2025/05/13 - 13:13:17 | 200 | 23.972274087s |       127.0.0.1 | POST     \"/api/chat\"\n"
     ]
    },
    {
     "name": "stderr",
     "output_type": "stream",
     "text": [
      "time=2025-05-13T13:13:17.431Z level=WARN source=ggml.go:152 msg=\"key not found\" key=general.alignment default=32\n"
     ]
    },
    {
     "name": "stdout",
     "output_type": "stream",
     "text": [
      "[GIN] 2025/05/13 - 13:13:22 | 200 | 14.016140051s |       127.0.0.1 | POST     \"/api/chat\"\n"
     ]
    },
    {
     "name": "stderr",
     "output_type": "stream",
     "text": [
      "time=2025-05-13T13:13:23.027Z level=WARN source=ggml.go:152 msg=\"key not found\" key=general.alignment default=32\n"
     ]
    },
    {
     "name": "stdout",
     "output_type": "stream",
     "text": [
      "[GIN] 2025/05/13 - 13:13:28 | 200 | 16.637329567s |       127.0.0.1 | POST     \"/api/chat\"\n"
     ]
    },
    {
     "name": "stderr",
     "output_type": "stream",
     "text": [
      "time=2025-05-13T13:13:28.053Z level=WARN source=ggml.go:152 msg=\"key not found\" key=general.alignment default=32\n"
     ]
    },
    {
     "name": "stdout",
     "output_type": "stream",
     "text": [
      "[GIN] 2025/05/13 - 13:13:31 | 200 | 15.936421868s |       127.0.0.1 | POST     \"/api/chat\"\n"
     ]
    },
    {
     "name": "stderr",
     "output_type": "stream",
     "text": [
      "time=2025-05-13T13:13:31.310Z level=WARN source=ggml.go:152 msg=\"key not found\" key=general.alignment default=32\n"
     ]
    },
    {
     "name": "stdout",
     "output_type": "stream",
     "text": [
      "[GIN] 2025/05/13 - 13:13:44 | 200 | 26.755945363s |       127.0.0.1 | POST     \"/api/chat\"\n"
     ]
    },
    {
     "name": "stderr",
     "output_type": "stream",
     "text": [
      "time=2025-05-13T13:13:44.193Z level=WARN source=ggml.go:152 msg=\"key not found\" key=general.alignment default=32\n"
     ]
    },
    {
     "name": "stdout",
     "output_type": "stream",
     "text": [
      "[GIN] 2025/05/13 - 13:13:54 | 200 |  31.76950448s |       127.0.0.1 | POST     \"/api/chat\"\n"
     ]
    },
    {
     "name": "stderr",
     "output_type": "stream",
     "text": [
      "time=2025-05-13T13:13:54.815Z level=WARN source=ggml.go:152 msg=\"key not found\" key=general.alignment default=32\n"
     ]
    },
    {
     "name": "stdout",
     "output_type": "stream",
     "text": [
      "[GIN] 2025/05/13 - 13:13:56 | 200 | 28.423663958s |       127.0.0.1 | POST     \"/api/chat\"\n"
     ]
    },
    {
     "name": "stderr",
     "output_type": "stream",
     "text": [
      "time=2025-05-13T13:13:56.491Z level=WARN source=ggml.go:152 msg=\"key not found\" key=general.alignment default=32\n"
     ]
    },
    {
     "name": "stdout",
     "output_type": "stream",
     "text": [
      "[GIN] 2025/05/13 - 13:14:16 | 200 | 32.158593003s |       127.0.0.1 | POST     \"/api/chat\"\n"
     ]
    },
    {
     "name": "stderr",
     "output_type": "stream",
     "text": [
      "time=2025-05-13T13:14:16.359Z level=WARN source=ggml.go:152 msg=\"key not found\" key=general.alignment default=32\n"
     ]
    },
    {
     "name": "stdout",
     "output_type": "stream",
     "text": [
      "[GIN] 2025/05/13 - 13:14:19 | 200 | 24.917636141s |       127.0.0.1 | POST     \"/api/chat\"\n"
     ]
    },
    {
     "name": "stderr",
     "output_type": "stream",
     "text": [
      "time=2025-05-13T13:14:19.730Z level=WARN source=ggml.go:152 msg=\"key not found\" key=general.alignment default=32\n"
     ]
    },
    {
     "name": "stdout",
     "output_type": "stream",
     "text": [
      "[GIN] 2025/05/13 - 13:14:26 | 200 | 55.675237534s |       127.0.0.1 | POST     \"/api/chat\"\n"
     ]
    },
    {
     "name": "stderr",
     "output_type": "stream",
     "text": [
      "time=2025-05-13T13:14:27.005Z level=WARN source=ggml.go:152 msg=\"key not found\" key=general.alignment default=32\n"
     ]
    },
    {
     "name": "stdout",
     "output_type": "stream",
     "text": [
      "[GIN] 2025/05/13 - 13:14:30 | 200 | 34.102634441s |       127.0.0.1 | POST     \"/api/chat\"\n"
     ]
    },
    {
     "name": "stderr",
     "output_type": "stream",
     "text": [
      "time=2025-05-13T13:14:30.596Z level=WARN source=ggml.go:152 msg=\"key not found\" key=general.alignment default=32\n"
     ]
    },
    {
     "name": "stdout",
     "output_type": "stream",
     "text": [
      "[GIN] 2025/05/13 - 13:14:33 | 200 | 13.982436821s |       127.0.0.1 | POST     \"/api/chat\"\n"
     ]
    },
    {
     "name": "stderr",
     "output_type": "stream",
     "text": [
      "time=2025-05-13T13:14:33.719Z level=WARN source=ggml.go:152 msg=\"key not found\" key=general.alignment default=32\n"
     ]
    },
    {
     "name": "stdout",
     "output_type": "stream",
     "text": [
      "[GIN] 2025/05/13 - 13:14:37 | 200 | 10.097352345s |       127.0.0.1 | POST     \"/api/chat\"\n"
     ]
    },
    {
     "name": "stderr",
     "output_type": "stream",
     "text": [
      "time=2025-05-13T13:14:37.097Z level=WARN source=ggml.go:152 msg=\"key not found\" key=general.alignment default=32\n"
     ]
    },
    {
     "name": "stdout",
     "output_type": "stream",
     "text": [
      "[GIN] 2025/05/13 - 13:14:43 | 200 | 27.067456822s |       127.0.0.1 | POST     \"/api/chat\"\n"
     ]
    },
    {
     "name": "stderr",
     "output_type": "stream",
     "text": [
      "time=2025-05-13T13:14:43.428Z level=WARN source=ggml.go:152 msg=\"key not found\" key=general.alignment default=32\n"
     ]
    },
    {
     "name": "stdout",
     "output_type": "stream",
     "text": [
      "[GIN] 2025/05/13 - 13:14:46 | 200 | 12.771037147s |       127.0.0.1 | POST     \"/api/chat\"\n"
     ]
    },
    {
     "name": "stderr",
     "output_type": "stream",
     "text": [
      "time=2025-05-13T13:14:46.497Z level=WARN source=ggml.go:152 msg=\"key not found\" key=general.alignment default=32\n"
     ]
    },
    {
     "name": "stdout",
     "output_type": "stream",
     "text": [
      "[GIN] 2025/05/13 - 13:14:48 | 200 | 18.282133749s |       127.0.0.1 | POST     \"/api/chat\"\n"
     ]
    },
    {
     "name": "stderr",
     "output_type": "stream",
     "text": [
      "time=2025-05-13T13:14:48.887Z level=WARN source=ggml.go:152 msg=\"key not found\" key=general.alignment default=32\n"
     ]
    },
    {
     "name": "stdout",
     "output_type": "stream",
     "text": [
      "[GIN] 2025/05/13 - 13:15:04 | 200 | 27.213666436s |       127.0.0.1 | POST     \"/api/chat\"\n"
     ]
    },
    {
     "name": "stderr",
     "output_type": "stream",
     "text": [
      "time=2025-05-13T13:15:04.322Z level=WARN source=ggml.go:152 msg=\"key not found\" key=general.alignment default=32\n"
     ]
    },
    {
     "name": "stdout",
     "output_type": "stream",
     "text": [
      "[GIN] 2025/05/13 - 13:15:07 | 200 | 20.644928175s |       127.0.0.1 | POST     \"/api/chat\"\n"
     ]
    },
    {
     "name": "stderr",
     "output_type": "stream",
     "text": [
      "time=2025-05-13T13:15:07.154Z level=WARN source=ggml.go:152 msg=\"key not found\" key=general.alignment default=32\n"
     ]
    },
    {
     "name": "stdout",
     "output_type": "stream",
     "text": [
      "[GIN] 2025/05/13 - 13:15:12 | 200 | 23.621346847s |       127.0.0.1 | POST     \"/api/chat\"\n"
     ]
    },
    {
     "name": "stderr",
     "output_type": "stream",
     "text": [
      "time=2025-05-13T13:15:12.515Z level=WARN source=ggml.go:152 msg=\"key not found\" key=general.alignment default=32\n"
     ]
    },
    {
     "name": "stdout",
     "output_type": "stream",
     "text": [
      "[GIN] 2025/05/13 - 13:15:13 | 200 | 29.943392609s |       127.0.0.1 | POST     \"/api/chat\"\n"
     ]
    },
    {
     "name": "stderr",
     "output_type": "stream",
     "text": [
      "time=2025-05-13T13:15:13.377Z level=WARN source=ggml.go:152 msg=\"key not found\" key=general.alignment default=32\n"
     ]
    },
    {
     "name": "stdout",
     "output_type": "stream",
     "text": [
      "[GIN] 2025/05/13 - 13:15:14 | 200 | 10.679090154s |       127.0.0.1 | POST     \"/api/chat\"\n"
     ]
    },
    {
     "name": "stderr",
     "output_type": "stream",
     "text": [
      "time=2025-05-13T13:15:15.020Z level=WARN source=ggml.go:152 msg=\"key not found\" key=general.alignment default=32\n"
     ]
    },
    {
     "name": "stdout",
     "output_type": "stream",
     "text": [
      "[GIN] 2025/05/13 - 13:15:16 | 200 |  9.772825071s |       127.0.0.1 | POST     \"/api/chat\"\n"
     ]
    },
    {
     "name": "stderr",
     "output_type": "stream",
     "text": [
      "time=2025-05-13T13:15:16.950Z level=WARN source=ggml.go:152 msg=\"key not found\" key=general.alignment default=32\n",
      "time=2025-05-13T13:15:16.951Z level=WARN source=ggml.go:152 msg=\"key not found\" key=general.alignment default=32\n",
      "time=2025-05-13T13:15:16.953Z level=WARN source=ggml.go:152 msg=\"key not found\" key=general.alignment default=32\n"
     ]
    },
    {
     "name": "stdout",
     "output_type": "stream",
     "text": [
      "[GIN] 2025/05/13 - 13:15:19 | 200 |  6.788506687s |       127.0.0.1 | POST     \"/api/chat\"\n"
     ]
    },
    {
     "name": "stderr",
     "output_type": "stream",
     "text": [
      "time=2025-05-13T13:15:19.313Z level=WARN source=ggml.go:152 msg=\"key not found\" key=general.alignment default=32\n"
     ]
    },
    {
     "name": "stdout",
     "output_type": "stream",
     "text": [
      "[GIN] 2025/05/13 - 13:15:26 | 200 | 11.952003491s |       127.0.0.1 | POST     \"/api/chat\"\n"
     ]
    },
    {
     "name": "stderr",
     "output_type": "stream",
     "text": [
      "time=2025-05-13T13:15:26.962Z level=WARN source=ggml.go:152 msg=\"key not found\" key=general.alignment default=32\n"
     ]
    },
    {
     "name": "stdout",
     "output_type": "stream",
     "text": [
      "[GIN] 2025/05/13 - 13:15:28 | 200 | 11.855640579s |       127.0.0.1 | POST     \"/api/chat\"\n",
      "[GIN] 2025/05/13 - 13:15:30 | 200 | 13.215527077s |       127.0.0.1 | POST     \"/api/chat\"\n",
      "[GIN] 2025/05/13 - 13:15:31 | 200 | 14.567985587s |       127.0.0.1 | POST     \"/api/chat\"\n"
     ]
    },
    {
     "name": "stderr",
     "output_type": "stream",
     "text": [
      "time=2025-05-13T13:15:31.514Z level=WARN source=ggml.go:152 msg=\"key not found\" key=general.alignment default=32\n"
     ]
    },
    {
     "name": "stdout",
     "output_type": "stream",
     "text": [
      "[GIN] 2025/05/13 - 13:15:32 | 200 | 19.438617091s |       127.0.0.1 | POST     \"/api/chat\"\n"
     ]
    },
    {
     "name": "stderr",
     "output_type": "stream",
     "text": [
      "time=2025-05-13T13:15:32.824Z level=WARN source=ggml.go:152 msg=\"key not found\" key=general.alignment default=32\n"
     ]
    },
    {
     "name": "stdout",
     "output_type": "stream",
     "text": [
      "[GIN] 2025/05/13 - 13:15:35 | 200 | 16.478810321s |       127.0.0.1 | POST     \"/api/chat\"\n"
     ]
    },
    {
     "name": "stderr",
     "output_type": "stream",
     "text": [
      "time=2025-05-13T13:15:35.792Z level=WARN source=ggml.go:152 msg=\"key not found\" key=general.alignment default=32\n"
     ]
    },
    {
     "name": "stdout",
     "output_type": "stream",
     "text": [
      "[GIN] 2025/05/13 - 13:15:36 | 200 |  9.974872071s |       127.0.0.1 | POST     \"/api/chat\"\n"
     ]
    },
    {
     "name": "stderr",
     "output_type": "stream",
     "text": [
      "time=2025-05-13T13:15:36.948Z level=WARN source=ggml.go:152 msg=\"key not found\" key=general.alignment default=32\n"
     ]
    },
    {
     "name": "stdout",
     "output_type": "stream",
     "text": [
      "[GIN] 2025/05/13 - 13:15:39 | 200 |  8.291808982s |       127.0.0.1 | POST     \"/api/chat\"\n"
     ]
    },
    {
     "name": "stderr",
     "output_type": "stream",
     "text": [
      "time=2025-05-13T13:15:39.815Z level=WARN source=ggml.go:152 msg=\"key not found\" key=general.alignment default=32\n"
     ]
    },
    {
     "name": "stdout",
     "output_type": "stream",
     "text": [
      "[GIN] 2025/05/13 - 13:15:51 | 200 | 15.884802974s |       127.0.0.1 | POST     \"/api/chat\"\n"
     ]
    },
    {
     "name": "stderr",
     "output_type": "stream",
     "text": [
      "time=2025-05-13T13:15:51.689Z level=WARN source=ggml.go:152 msg=\"key not found\" key=general.alignment default=32\n"
     ]
    },
    {
     "name": "stdout",
     "output_type": "stream",
     "text": [
      "[GIN] 2025/05/13 - 13:16:00 | 200 |  27.37295315s |       127.0.0.1 | POST     \"/api/chat\"\n"
     ]
    },
    {
     "name": "stderr",
     "output_type": "stream",
     "text": [
      "time=2025-05-13T13:16:00.201Z level=WARN source=ggml.go:152 msg=\"key not found\" key=general.alignment default=32\n"
     ]
    },
    {
     "name": "stdout",
     "output_type": "stream",
     "text": [
      "[GIN] 2025/05/13 - 13:16:07 | 200 | 30.749000973s |       127.0.0.1 | POST     \"/api/chat\"\n"
     ]
    },
    {
     "name": "stderr",
     "output_type": "stream",
     "text": [
      "time=2025-05-13T13:16:07.711Z level=WARN source=ggml.go:152 msg=\"key not found\" key=general.alignment default=32\n"
     ]
    },
    {
     "name": "stdout",
     "output_type": "stream",
     "text": [
      "[GIN] 2025/05/13 - 13:16:09 | 200 | 29.844099019s |       127.0.0.1 | POST     \"/api/chat\"\n"
     ]
    },
    {
     "name": "stderr",
     "output_type": "stream",
     "text": [
      "time=2025-05-13T13:16:09.673Z level=WARN source=ggml.go:152 msg=\"key not found\" key=general.alignment default=32\n"
     ]
    },
    {
     "name": "stdout",
     "output_type": "stream",
     "text": [
      "[GIN] 2025/05/13 - 13:16:21 | 200 | 29.347678008s |       127.0.0.1 | POST     \"/api/chat\"\n"
     ]
    },
    {
     "name": "stderr",
     "output_type": "stream",
     "text": [
      "time=2025-05-13T13:16:21.051Z level=WARN source=ggml.go:152 msg=\"key not found\" key=general.alignment default=32\n"
     ]
    },
    {
     "name": "stdout",
     "output_type": "stream",
     "text": [
      "[GIN] 2025/05/13 - 13:16:22 | 200 | 22.626236508s |       127.0.0.1 | POST     \"/api/chat\"\n"
     ]
    },
    {
     "name": "stderr",
     "output_type": "stream",
     "text": [
      "time=2025-05-13T13:16:22.840Z level=WARN source=ggml.go:152 msg=\"key not found\" key=general.alignment default=32\n"
     ]
    },
    {
     "name": "stdout",
     "output_type": "stream",
     "text": [
      "[GIN] 2025/05/13 - 13:16:24 | 200 | 15.174510126s |       127.0.0.1 | POST     \"/api/chat\"\n",
      "[GIN] 2025/05/13 - 13:16:24 | 200 | 17.166978841s |       127.0.0.1 | POST     \"/api/chat\"\n"
     ]
    },
    {
     "name": "stderr",
     "output_type": "stream",
     "text": [
      "time=2025-05-13T13:16:24.848Z level=WARN source=ggml.go:152 msg=\"key not found\" key=general.alignment default=32\n",
      "time=2025-05-13T13:16:24.879Z level=WARN source=ggml.go:152 msg=\"key not found\" key=general.alignment default=32\n"
     ]
    },
    {
     "name": "stdout",
     "output_type": "stream",
     "text": [
      "[GIN] 2025/05/13 - 13:16:36 | 200 | 15.125240617s |       127.0.0.1 | POST     \"/api/chat\"\n"
     ]
    },
    {
     "name": "stderr",
     "output_type": "stream",
     "text": [
      "time=2025-05-13T13:16:36.171Z level=WARN source=ggml.go:152 msg=\"key not found\" key=general.alignment default=32\n"
     ]
    },
    {
     "name": "stdout",
     "output_type": "stream",
     "text": [
      "[GIN] 2025/05/13 - 13:16:41 | 200 | 16.393440567s |       127.0.0.1 | POST     \"/api/chat\"\n"
     ]
    },
    {
     "name": "stderr",
     "output_type": "stream",
     "text": [
      "time=2025-05-13T13:16:41.253Z level=WARN source=ggml.go:152 msg=\"key not found\" key=general.alignment default=32\n"
     ]
    },
    {
     "name": "stdout",
     "output_type": "stream",
     "text": [
      "[GIN] 2025/05/13 - 13:16:44 | 200 | 19.185376485s |       127.0.0.1 | POST     \"/api/chat\"\n"
     ]
    },
    {
     "name": "stderr",
     "output_type": "stream",
     "text": [
      "time=2025-05-13T13:16:44.076Z level=WARN source=ggml.go:152 msg=\"key not found\" key=general.alignment default=32\n"
     ]
    },
    {
     "name": "stdout",
     "output_type": "stream",
     "text": [
      "[GIN] 2025/05/13 - 13:16:54 | 200 | 31.504677173s |       127.0.0.1 | POST     \"/api/chat\"\n"
     ]
    },
    {
     "name": "stderr",
     "output_type": "stream",
     "text": [
      "time=2025-05-13T13:16:54.345Z level=WARN source=ggml.go:152 msg=\"key not found\" key=general.alignment default=32\n"
     ]
    },
    {
     "name": "stdout",
     "output_type": "stream",
     "text": [
      "[GIN] 2025/05/13 - 13:17:01 | 200 | 25.441551293s |       127.0.0.1 | POST     \"/api/chat\"\n"
     ]
    },
    {
     "name": "stderr",
     "output_type": "stream",
     "text": [
      "time=2025-05-13T13:17:01.619Z level=WARN source=ggml.go:152 msg=\"key not found\" key=general.alignment default=32\n"
     ]
    },
    {
     "name": "stdout",
     "output_type": "stream",
     "text": [
      "[GIN] 2025/05/13 - 13:17:04 | 200 | 23.354433317s |       127.0.0.1 | POST     \"/api/chat\"\n"
     ]
    },
    {
     "name": "stderr",
     "output_type": "stream",
     "text": [
      "time=2025-05-13T13:17:04.626Z level=WARN source=ggml.go:152 msg=\"key not found\" key=general.alignment default=32\n"
     ]
    },
    {
     "name": "stdout",
     "output_type": "stream",
     "text": [
      "[GIN] 2025/05/13 - 13:17:05 | 200 | 21.715064195s |       127.0.0.1 | POST     \"/api/chat\"\n"
     ]
    },
    {
     "name": "stderr",
     "output_type": "stream",
     "text": [
      "time=2025-05-13T13:17:05.797Z level=WARN source=ggml.go:152 msg=\"key not found\" key=general.alignment default=32\n"
     ]
    },
    {
     "name": "stdout",
     "output_type": "stream",
     "text": [
      "[GIN] 2025/05/13 - 13:17:16 | 200 | 14.494582853s |       127.0.0.1 | POST     \"/api/chat\"\n"
     ]
    },
    {
     "name": "stderr",
     "output_type": "stream",
     "text": [
      "time=2025-05-13T13:17:16.124Z level=WARN source=ggml.go:152 msg=\"key not found\" key=general.alignment default=32\n"
     ]
    },
    {
     "name": "stdout",
     "output_type": "stream",
     "text": [
      "[GIN] 2025/05/13 - 13:17:17 | 200 | 13.378986995s |       127.0.0.1 | POST     \"/api/chat\"\n"
     ]
    },
    {
     "name": "stderr",
     "output_type": "stream",
     "text": [
      "time=2025-05-13T13:17:18.002Z level=WARN source=ggml.go:152 msg=\"key not found\" key=general.alignment default=32\n"
     ]
    },
    {
     "name": "stdout",
     "output_type": "stream",
     "text": [
      "[GIN] 2025/05/13 - 13:17:20 | 200 | 15.211464168s |       127.0.0.1 | POST     \"/api/chat\"\n"
     ]
    },
    {
     "name": "stderr",
     "output_type": "stream",
     "text": [
      "time=2025-05-13T13:17:21.017Z level=WARN source=ggml.go:152 msg=\"key not found\" key=general.alignment default=32\n"
     ]
    },
    {
     "name": "stdout",
     "output_type": "stream",
     "text": [
      "[GIN] 2025/05/13 - 13:17:22 | 200 | 27.868217324s |       127.0.0.1 | POST     \"/api/chat\"\n"
     ]
    },
    {
     "name": "stderr",
     "output_type": "stream",
     "text": [
      "time=2025-05-13T13:17:22.219Z level=WARN source=ggml.go:152 msg=\"key not found\" key=general.alignment default=32\n"
     ]
    },
    {
     "name": "stdout",
     "output_type": "stream",
     "text": [
      "[GIN] 2025/05/13 - 13:17:27 | 200 |  9.029273918s |       127.0.0.1 | POST     \"/api/chat\"\n"
     ]
    },
    {
     "name": "stderr",
     "output_type": "stream",
     "text": [
      "time=2025-05-13T13:17:27.039Z level=WARN source=ggml.go:152 msg=\"key not found\" key=general.alignment default=32\n"
     ]
    },
    {
     "name": "stdout",
     "output_type": "stream",
     "text": [
      "[GIN] 2025/05/13 - 13:17:30 | 200 |  9.433846196s |       127.0.0.1 | POST     \"/api/chat\"\n"
     ]
    },
    {
     "name": "stderr",
     "output_type": "stream",
     "text": [
      "time=2025-05-13T13:17:30.465Z level=WARN source=ggml.go:152 msg=\"key not found\" key=general.alignment default=32\n",
      "time=2025-05-13T13:17:30.589Z level=WARN source=ggml.go:152 msg=\"key not found\" key=general.alignment default=32\n",
      "time=2025-05-13T13:17:30.597Z level=WARN source=ggml.go:152 msg=\"key not found\" key=general.alignment default=32\n"
     ]
    },
    {
     "name": "stdout",
     "output_type": "stream",
     "text": [
      "[GIN] 2025/05/13 - 13:17:40 | 200 | 24.425561619s |       127.0.0.1 | POST     \"/api/chat\"\n"
     ]
    },
    {
     "name": "stderr",
     "output_type": "stream",
     "text": [
      "time=2025-05-13T13:17:40.560Z level=WARN source=ggml.go:152 msg=\"key not found\" key=general.alignment default=32\n"
     ]
    },
    {
     "name": "stdout",
     "output_type": "stream",
     "text": [
      "[GIN] 2025/05/13 - 13:17:44 | 200 | 17.451765012s |       127.0.0.1 | POST     \"/api/chat\"\n"
     ]
    },
    {
     "name": "stderr",
     "output_type": "stream",
     "text": [
      "time=2025-05-13T13:17:44.503Z level=WARN source=ggml.go:152 msg=\"key not found\" key=general.alignment default=32\n"
     ]
    },
    {
     "name": "stdout",
     "output_type": "stream",
     "text": [
      "[GIN] 2025/05/13 - 13:17:46 | 200 | 15.685246815s |       127.0.0.1 | POST     \"/api/chat\"\n",
      "[GIN] 2025/05/13 - 13:17:47 | 200 | 16.568488077s |       127.0.0.1 | POST     \"/api/chat\"\n",
      "[GIN] 2025/05/13 - 13:17:48 | 200 | 17.722833201s |       127.0.0.1 | POST     \"/api/chat\"\n"
     ]
    },
    {
     "name": "stderr",
     "output_type": "stream",
     "text": [
      "time=2025-05-13T13:17:48.319Z level=WARN source=ggml.go:152 msg=\"key not found\" key=general.alignment default=32\n"
     ]
    },
    {
     "name": "stdout",
     "output_type": "stream",
     "text": [
      "[GIN] 2025/05/13 - 13:17:53 | 200 | 31.447098419s |       127.0.0.1 | POST     \"/api/chat\"\n"
     ]
    },
    {
     "name": "stderr",
     "output_type": "stream",
     "text": [
      "time=2025-05-13T13:17:53.672Z level=WARN source=ggml.go:152 msg=\"key not found\" key=general.alignment default=32\n"
     ]
    },
    {
     "name": "stdout",
     "output_type": "stream",
     "text": [
      "[GIN] 2025/05/13 - 13:17:58 | 200 | 13.817070177s |       127.0.0.1 | POST     \"/api/chat\"\n"
     ]
    },
    {
     "name": "stderr",
     "output_type": "stream",
     "text": [
      "time=2025-05-13T13:17:58.323Z level=WARN source=ggml.go:152 msg=\"key not found\" key=general.alignment default=32\n"
     ]
    },
    {
     "name": "stdout",
     "output_type": "stream",
     "text": [
      "[GIN] 2025/05/13 - 13:17:59 | 200 |  18.91783942s |       127.0.0.1 | POST     \"/api/chat\"\n"
     ]
    },
    {
     "name": "stderr",
     "output_type": "stream",
     "text": [
      "time=2025-05-13T13:17:59.484Z level=WARN source=ggml.go:152 msg=\"key not found\" key=general.alignment default=32\n"
     ]
    },
    {
     "name": "stdout",
     "output_type": "stream",
     "text": [
      "[GIN] 2025/05/13 - 13:18:02 | 200 | 14.271801454s |       127.0.0.1 | POST     \"/api/chat\"\n"
     ]
    },
    {
     "name": "stderr",
     "output_type": "stream",
     "text": [
      "time=2025-05-13T13:18:02.594Z level=WARN source=ggml.go:152 msg=\"key not found\" key=general.alignment default=32\n"
     ]
    },
    {
     "name": "stdout",
     "output_type": "stream",
     "text": [
      "[GIN] 2025/05/13 - 13:18:17 | 200 | 19.288205986s |       127.0.0.1 | POST     \"/api/chat\"\n"
     ]
    },
    {
     "name": "stderr",
     "output_type": "stream",
     "text": [
      "time=2025-05-13T13:18:17.624Z level=WARN source=ggml.go:152 msg=\"key not found\" key=general.alignment default=32\n"
     ]
    },
    {
     "name": "stdout",
     "output_type": "stream",
     "text": [
      "[GIN] 2025/05/13 - 13:18:19 | 200 | 25.494103765s |       127.0.0.1 | POST     \"/api/chat\"\n"
     ]
    },
    {
     "name": "stderr",
     "output_type": "stream",
     "text": [
      "time=2025-05-13T13:18:19.178Z level=WARN source=ggml.go:152 msg=\"key not found\" key=general.alignment default=32\n"
     ]
    },
    {
     "name": "stdout",
     "output_type": "stream",
     "text": [
      "[GIN] 2025/05/13 - 13:18:32 | 200 | 32.597779258s |       127.0.0.1 | POST     \"/api/chat\"\n"
     ]
    },
    {
     "name": "stderr",
     "output_type": "stream",
     "text": [
      "time=2025-05-13T13:18:32.083Z level=WARN source=ggml.go:152 msg=\"key not found\" key=general.alignment default=32\n"
     ]
    },
    {
     "name": "stdout",
     "output_type": "stream",
     "text": [
      "[GIN] 2025/05/13 - 13:18:37 | 200 | 34.563296863s |       127.0.0.1 | POST     \"/api/chat\"\n"
     ]
    },
    {
     "name": "stderr",
     "output_type": "stream",
     "text": [
      "time=2025-05-13T13:18:37.173Z level=WARN source=ggml.go:152 msg=\"key not found\" key=general.alignment default=32\n"
     ]
    },
    {
     "name": "stdout",
     "output_type": "stream",
     "text": [
      "[GIN] 2025/05/13 - 13:18:41 | 200 | 22.560619483s |       127.0.0.1 | POST     \"/api/chat\"\n"
     ]
    },
    {
     "name": "stderr",
     "output_type": "stream",
     "text": [
      "time=2025-05-13T13:18:41.748Z level=WARN source=ggml.go:152 msg=\"key not found\" key=general.alignment default=32\n"
     ]
    },
    {
     "name": "stdout",
     "output_type": "stream",
     "text": [
      "[GIN] 2025/05/13 - 13:18:49 | 200 | 31.975194759s |       127.0.0.1 | POST     \"/api/chat\"\n"
     ]
    },
    {
     "name": "stderr",
     "output_type": "stream",
     "text": [
      "time=2025-05-13T13:18:49.599Z level=WARN source=ggml.go:152 msg=\"key not found\" key=general.alignment default=32\n"
     ]
    },
    {
     "name": "stdout",
     "output_type": "stream",
     "text": [
      "[GIN] 2025/05/13 - 13:18:53 | 200 | 16.054897647s |       127.0.0.1 | POST     \"/api/chat\"\n"
     ]
    },
    {
     "name": "stderr",
     "output_type": "stream",
     "text": [
      "time=2025-05-13T13:18:53.229Z level=WARN source=ggml.go:152 msg=\"key not found\" key=general.alignment default=32\n"
     ]
    },
    {
     "name": "stdout",
     "output_type": "stream",
     "text": [
      "[GIN] 2025/05/13 - 13:18:54 | 200 | 22.753804116s |       127.0.0.1 | POST     \"/api/chat\"\n"
     ]
    },
    {
     "name": "stderr",
     "output_type": "stream",
     "text": [
      "time=2025-05-13T13:18:54.845Z level=WARN source=ggml.go:152 msg=\"key not found\" key=general.alignment default=32\n"
     ]
    },
    {
     "name": "stdout",
     "output_type": "stream",
     "text": [
      "[GIN] 2025/05/13 - 13:19:08 | 200 | 27.031697864s |       127.0.0.1 | POST     \"/api/chat\"\n"
     ]
    },
    {
     "name": "stderr",
     "output_type": "stream",
     "text": [
      "time=2025-05-13T13:19:08.782Z level=WARN source=ggml.go:152 msg=\"key not found\" key=general.alignment default=32\n"
     ]
    },
    {
     "name": "stdout",
     "output_type": "stream",
     "text": [
      "[GIN] 2025/05/13 - 13:19:11 | 200 | 22.224768335s |       127.0.0.1 | POST     \"/api/chat\"\n"
     ]
    },
    {
     "name": "stderr",
     "output_type": "stream",
     "text": [
      "time=2025-05-13T13:19:11.830Z level=WARN source=ggml.go:152 msg=\"key not found\" key=general.alignment default=32\n"
     ]
    },
    {
     "name": "stdout",
     "output_type": "stream",
     "text": [
      "[GIN] 2025/05/13 - 13:19:13 | 200 | 19.828731661s |       127.0.0.1 | POST     \"/api/chat\"\n"
     ]
    },
    {
     "name": "stderr",
     "output_type": "stream",
     "text": [
      "time=2025-05-13T13:19:13.064Z level=WARN source=ggml.go:152 msg=\"key not found\" key=general.alignment default=32\n"
     ]
    },
    {
     "name": "stdout",
     "output_type": "stream",
     "text": [
      "[GIN] 2025/05/13 - 13:19:16 | 200 |  7.590896163s |       127.0.0.1 | POST     \"/api/chat\"\n"
     ]
    },
    {
     "name": "stderr",
     "output_type": "stream",
     "text": [
      "time=2025-05-13T13:19:16.382Z level=WARN source=ggml.go:152 msg=\"key not found\" key=general.alignment default=32\n"
     ]
    },
    {
     "name": "stdout",
     "output_type": "stream",
     "text": [
      "[GIN] 2025/05/13 - 13:19:29 | 200 | 34.416754245s |       127.0.0.1 | POST     \"/api/chat\"\n"
     ]
    },
    {
     "name": "stderr",
     "output_type": "stream",
     "text": [
      "time=2025-05-13T13:19:29.282Z level=WARN source=ggml.go:152 msg=\"key not found\" key=general.alignment default=32\n"
     ]
    },
    {
     "name": "stdout",
     "output_type": "stream",
     "text": [
      "[GIN] 2025/05/13 - 13:19:32 | 200 | 20.503277732s |       127.0.0.1 | POST     \"/api/chat\"\n"
     ]
    },
    {
     "name": "stderr",
     "output_type": "stream",
     "text": [
      "time=2025-05-13T13:19:32.347Z level=WARN source=ggml.go:152 msg=\"key not found\" key=general.alignment default=32\n"
     ]
    },
    {
     "name": "stdout",
     "output_type": "stream",
     "text": [
      "[GIN] 2025/05/13 - 13:19:32 | 200 | 19.813616497s |       127.0.0.1 | POST     \"/api/chat\"\n"
     ]
    },
    {
     "name": "stderr",
     "output_type": "stream",
     "text": [
      "time=2025-05-13T13:19:32.892Z level=WARN source=ggml.go:152 msg=\"key not found\" key=general.alignment default=32\n"
     ]
    },
    {
     "name": "stdout",
     "output_type": "stream",
     "text": [
      "[GIN] 2025/05/13 - 13:19:42 | 200 | 25.772369734s |       127.0.0.1 | POST     \"/api/chat\"\n"
     ]
    },
    {
     "name": "stderr",
     "output_type": "stream",
     "text": [
      "time=2025-05-13T13:19:42.159Z level=WARN source=ggml.go:152 msg=\"key not found\" key=general.alignment default=32\n"
     ]
    },
    {
     "name": "stdout",
     "output_type": "stream",
     "text": [
      "[GIN] 2025/05/13 - 13:19:44 | 200 | 14.775674215s |       127.0.0.1 | POST     \"/api/chat\"\n"
     ]
    },
    {
     "name": "stderr",
     "output_type": "stream",
     "text": [
      "time=2025-05-13T13:19:44.055Z level=WARN source=ggml.go:152 msg=\"key not found\" key=general.alignment default=32\n"
     ]
    },
    {
     "name": "stdout",
     "output_type": "stream",
     "text": [
      "[GIN] 2025/05/13 - 13:19:47 | 200 | 14.841955084s |       127.0.0.1 | POST     \"/api/chat\"\n"
     ]
    },
    {
     "name": "stderr",
     "output_type": "stream",
     "text": [
      "time=2025-05-13T13:19:47.734Z level=WARN source=ggml.go:152 msg=\"key not found\" key=general.alignment default=32\n"
     ]
    },
    {
     "name": "stdout",
     "output_type": "stream",
     "text": [
      "[GIN] 2025/05/13 - 13:19:55 | 200 | 13.741225818s |       127.0.0.1 | POST     \"/api/chat\"\n"
     ]
    },
    {
     "name": "stderr",
     "output_type": "stream",
     "text": [
      "time=2025-05-13T13:19:55.912Z level=WARN source=ggml.go:152 msg=\"key not found\" key=general.alignment default=32\n"
     ]
    },
    {
     "name": "stdout",
     "output_type": "stream",
     "text": [
      "[GIN] 2025/05/13 - 13:19:57 | 200 |   13.8831665s |       127.0.0.1 | POST     \"/api/chat\"\n"
     ]
    },
    {
     "name": "stderr",
     "output_type": "stream",
     "text": [
      "time=2025-05-13T13:19:57.948Z level=WARN source=ggml.go:152 msg=\"key not found\" key=general.alignment default=32\n"
     ]
    },
    {
     "name": "stdout",
     "output_type": "stream",
     "text": [
      "[GIN] 2025/05/13 - 13:20:01 | 200 | 14.147526926s |       127.0.0.1 | POST     \"/api/chat\"\n"
     ]
    },
    {
     "name": "stderr",
     "output_type": "stream",
     "text": [
      "time=2025-05-13T13:20:01.911Z level=WARN source=ggml.go:152 msg=\"key not found\" key=general.alignment default=32\n",
      "time=2025-05-13T13:20:01.914Z level=WARN source=ggml.go:152 msg=\"key not found\" key=general.alignment default=32\n",
      "time=2025-05-13T13:20:01.916Z level=WARN source=ggml.go:152 msg=\"key not found\" key=general.alignment default=32\n"
     ]
    },
    {
     "name": "stdout",
     "output_type": "stream",
     "text": [
      "[GIN] 2025/05/13 - 13:20:03 | 200 | 30.693919879s |       127.0.0.1 | POST     \"/api/chat\"\n"
     ]
    },
    {
     "name": "stderr",
     "output_type": "stream",
     "text": [
      "time=2025-05-13T13:20:03.039Z level=WARN source=ggml.go:152 msg=\"key not found\" key=general.alignment default=32\n"
     ]
    },
    {
     "name": "stdout",
     "output_type": "stream",
     "text": [
      "[GIN] 2025/05/13 - 13:20:07 | 200 | 11.338812245s |       127.0.0.1 | POST     \"/api/chat\"\n"
     ]
    },
    {
     "name": "stderr",
     "output_type": "stream",
     "text": [
      "time=2025-05-13T13:20:07.261Z level=WARN source=ggml.go:152 msg=\"key not found\" key=general.alignment default=32\n"
     ]
    },
    {
     "name": "stdout",
     "output_type": "stream",
     "text": [
      "[GIN] 2025/05/13 - 13:20:08 | 200 |   6.97205023s |       127.0.0.1 | POST     \"/api/chat\"\n",
      "[GIN] 2025/05/13 - 13:20:09 | 200 |  8.082210537s |       127.0.0.1 | POST     \"/api/chat\"\n",
      "[GIN] 2025/05/13 - 13:20:11 | 200 |  9.214999548s |       127.0.0.1 | POST     \"/api/chat\"\n"
     ]
    },
    {
     "name": "stderr",
     "output_type": "stream",
     "text": [
      "time=2025-05-13T13:20:11.136Z level=WARN source=ggml.go:152 msg=\"key not found\" key=general.alignment default=32\n"
     ]
    },
    {
     "name": "stdout",
     "output_type": "stream",
     "text": [
      "[GIN] 2025/05/13 - 13:20:16 | 200 | 18.529558985s |       127.0.0.1 | POST     \"/api/chat\"\n"
     ]
    },
    {
     "name": "stderr",
     "output_type": "stream",
     "text": [
      "time=2025-05-13T13:20:16.487Z level=WARN source=ggml.go:152 msg=\"key not found\" key=general.alignment default=32\n"
     ]
    },
    {
     "name": "stdout",
     "output_type": "stream",
     "text": [
      "[GIN] 2025/05/13 - 13:20:18 | 200 | 11.517438989s |       127.0.0.1 | POST     \"/api/chat\"\n"
     ]
    },
    {
     "name": "stderr",
     "output_type": "stream",
     "text": [
      "time=2025-05-13T13:20:18.782Z level=WARN source=ggml.go:152 msg=\"key not found\" key=general.alignment default=32\n"
     ]
    },
    {
     "name": "stdout",
     "output_type": "stream",
     "text": [
      "[GIN] 2025/05/13 - 13:20:20 | 200 |  9.371511227s |       127.0.0.1 | POST     \"/api/chat\"\n"
     ]
    },
    {
     "name": "stderr",
     "output_type": "stream",
     "text": [
      "time=2025-05-13T13:20:20.505Z level=WARN source=ggml.go:152 msg=\"key not found\" key=general.alignment default=32\n"
     ]
    },
    {
     "name": "stdout",
     "output_type": "stream",
     "text": [
      "[GIN] 2025/05/13 - 13:20:22 | 200 |  5.855382002s |       127.0.0.1 | POST     \"/api/chat\"\n"
     ]
    },
    {
     "name": "stderr",
     "output_type": "stream",
     "text": [
      "time=2025-05-13T13:20:22.340Z level=WARN source=ggml.go:152 msg=\"key not found\" key=general.alignment default=32\n"
     ]
    },
    {
     "name": "stdout",
     "output_type": "stream",
     "text": [
      "[GIN] 2025/05/13 - 13:20:29 | 200 | 26.086290061s |       127.0.0.1 | POST     \"/api/chat\"\n"
     ]
    },
    {
     "name": "stderr",
     "output_type": "stream",
     "text": [
      "time=2025-05-13T13:20:29.134Z level=WARN source=ggml.go:152 msg=\"key not found\" key=general.alignment default=32\n"
     ]
    },
    {
     "name": "stdout",
     "output_type": "stream",
     "text": [
      "[GIN] 2025/05/13 - 13:20:37 | 200 | 17.296857054s |       127.0.0.1 | POST     \"/api/chat\"\n"
     ]
    },
    {
     "name": "stderr",
     "output_type": "stream",
     "text": [
      "time=2025-05-13T13:20:37.809Z level=WARN source=ggml.go:152 msg=\"key not found\" key=general.alignment default=32\n"
     ]
    },
    {
     "name": "stdout",
     "output_type": "stream",
     "text": [
      "[GIN] 2025/05/13 - 13:20:38 | 200 | 20.089869575s |       127.0.0.1 | POST     \"/api/chat\"\n"
     ]
    },
    {
     "name": "stderr",
     "output_type": "stream",
     "text": [
      "time=2025-05-13T13:20:38.876Z level=WARN source=ggml.go:152 msg=\"key not found\" key=general.alignment default=32\n"
     ]
    },
    {
     "name": "stdout",
     "output_type": "stream",
     "text": [
      "[GIN] 2025/05/13 - 13:20:46 | 200 | 23.751834642s |       127.0.0.1 | POST     \"/api/chat\"\n"
     ]
    },
    {
     "name": "stderr",
     "output_type": "stream",
     "text": [
      "time=2025-05-13T13:20:46.099Z level=WARN source=ggml.go:152 msg=\"key not found\" key=general.alignment default=32\n"
     ]
    },
    {
     "name": "stdout",
     "output_type": "stream",
     "text": [
      "[GIN] 2025/05/13 - 13:20:50 | 200 | 12.273180322s |       127.0.0.1 | POST     \"/api/chat\"\n"
     ]
    },
    {
     "name": "stderr",
     "output_type": "stream",
     "text": [
      "time=2025-05-13T13:20:50.088Z level=WARN source=ggml.go:152 msg=\"key not found\" key=general.alignment default=32\n"
     ]
    },
    {
     "name": "stdout",
     "output_type": "stream",
     "text": [
      "[GIN] 2025/05/13 - 13:20:57 | 200 | 28.848604231s |       127.0.0.1 | POST     \"/api/chat\"\n"
     ]
    },
    {
     "name": "stderr",
     "output_type": "stream",
     "text": [
      "time=2025-05-13T13:20:57.988Z level=WARN source=ggml.go:152 msg=\"key not found\" key=general.alignment default=32\n"
     ]
    },
    {
     "name": "stdout",
     "output_type": "stream",
     "text": [
      "[GIN] 2025/05/13 - 13:20:59 | 200 | 20.703296281s |       127.0.0.1 | POST     \"/api/chat\"\n"
     ]
    },
    {
     "name": "stderr",
     "output_type": "stream",
     "text": [
      "time=2025-05-13T13:20:59.595Z level=WARN source=ggml.go:152 msg=\"key not found\" key=general.alignment default=32\n"
     ]
    },
    {
     "name": "stdout",
     "output_type": "stream",
     "text": [
      "[GIN] 2025/05/13 - 13:21:02 | 200 | 12.419809208s |       127.0.0.1 | POST     \"/api/chat\"\n"
     ]
    },
    {
     "name": "stderr",
     "output_type": "stream",
     "text": [
      "time=2025-05-13T13:21:02.524Z level=WARN source=ggml.go:152 msg=\"key not found\" key=general.alignment default=32\n"
     ]
    },
    {
     "name": "stdout",
     "output_type": "stream",
     "text": [
      "[GIN] 2025/05/13 - 13:21:03 | 200 | 17.839424121s |       127.0.0.1 | POST     \"/api/chat\"\n"
     ]
    },
    {
     "name": "stderr",
     "output_type": "stream",
     "text": [
      "time=2025-05-13T13:21:03.945Z level=WARN source=ggml.go:152 msg=\"key not found\" key=general.alignment default=32\n"
     ]
    },
    {
     "name": "stdout",
     "output_type": "stream",
     "text": [
      "[GIN] 2025/05/13 - 13:21:18 | 200 | 20.480241183s |       127.0.0.1 | POST     \"/api/chat\"\n"
     ]
    },
    {
     "name": "stderr",
     "output_type": "stream",
     "text": [
      "time=2025-05-13T13:21:18.474Z level=WARN source=ggml.go:152 msg=\"key not found\" key=general.alignment default=32\n"
     ]
    },
    {
     "name": "stdout",
     "output_type": "stream",
     "text": [
      "[GIN] 2025/05/13 - 13:21:21 | 200 | 18.861788663s |       127.0.0.1 | POST     \"/api/chat\"\n"
     ]
    },
    {
     "name": "stderr",
     "output_type": "stream",
     "text": [
      "time=2025-05-13T13:21:21.389Z level=WARN source=ggml.go:152 msg=\"key not found\" key=general.alignment default=32\n"
     ]
    },
    {
     "name": "stdout",
     "output_type": "stream",
     "text": [
      "[GIN] 2025/05/13 - 13:21:22 | 200 | 23.027472787s |       127.0.0.1 | POST     \"/api/chat\"\n"
     ]
    },
    {
     "name": "stderr",
     "output_type": "stream",
     "text": [
      "time=2025-05-13T13:21:22.621Z level=WARN source=ggml.go:152 msg=\"key not found\" key=general.alignment default=32\n"
     ]
    },
    {
     "name": "stdout",
     "output_type": "stream",
     "text": [
      "[GIN] 2025/05/13 - 13:21:36 | 200 | 32.801847203s |       127.0.0.1 | POST     \"/api/chat\"\n"
     ]
    },
    {
     "name": "stderr",
     "output_type": "stream",
     "text": [
      "time=2025-05-13T13:21:36.766Z level=WARN source=ggml.go:152 msg=\"key not found\" key=general.alignment default=32\n"
     ]
    },
    {
     "name": "stdout",
     "output_type": "stream",
     "text": [
      "[GIN] 2025/05/13 - 13:21:38 | 200 | 20.313623513s |       127.0.0.1 | POST     \"/api/chat\"\n"
     ]
    },
    {
     "name": "stderr",
     "output_type": "stream",
     "text": [
      "time=2025-05-13T13:21:38.799Z level=WARN source=ggml.go:152 msg=\"key not found\" key=general.alignment default=32\n"
     ]
    },
    {
     "name": "stdout",
     "output_type": "stream",
     "text": [
      "[GIN] 2025/05/13 - 13:21:40 | 200 | 18.798661235s |       127.0.0.1 | POST     \"/api/chat\"\n"
     ]
    },
    {
     "name": "stderr",
     "output_type": "stream",
     "text": [
      "time=2025-05-13T13:21:40.199Z level=WARN source=ggml.go:152 msg=\"key not found\" key=general.alignment default=32\n"
     ]
    },
    {
     "name": "stdout",
     "output_type": "stream",
     "text": [
      "[GIN] 2025/05/13 - 13:21:49 | 200 | 26.722632001s |       127.0.0.1 | POST     \"/api/chat\"\n"
     ]
    },
    {
     "name": "stderr",
     "output_type": "stream",
     "text": [
      "time=2025-05-13T13:21:49.363Z level=WARN source=ggml.go:152 msg=\"key not found\" key=general.alignment default=32\n"
     ]
    },
    {
     "name": "stdout",
     "output_type": "stream",
     "text": [
      "[GIN] 2025/05/13 - 13:21:59 | 200 | 22.367955793s |       127.0.0.1 | POST     \"/api/chat\"\n"
     ]
    },
    {
     "name": "stderr",
     "output_type": "stream",
     "text": [
      "time=2025-05-13T13:21:59.133Z level=WARN source=ggml.go:152 msg=\"key not found\" key=general.alignment default=32\n"
     ]
    },
    {
     "name": "stdout",
     "output_type": "stream",
     "text": [
      "[GIN] 2025/05/13 - 13:22:02 | 200 | 22.035485037s |       127.0.0.1 | POST     \"/api/chat\"\n"
     ]
    },
    {
     "name": "stderr",
     "output_type": "stream",
     "text": [
      "time=2025-05-13T13:22:02.233Z level=WARN source=ggml.go:152 msg=\"key not found\" key=general.alignment default=32\n"
     ]
    },
    {
     "name": "stdout",
     "output_type": "stream",
     "text": [
      "[GIN] 2025/05/13 - 13:22:06 | 200 |  27.35604893s |       127.0.0.1 | POST     \"/api/chat\"\n"
     ]
    },
    {
     "name": "stderr",
     "output_type": "stream",
     "text": [
      "time=2025-05-13T13:22:06.159Z level=WARN source=ggml.go:152 msg=\"key not found\" key=general.alignment default=32\n"
     ]
    },
    {
     "name": "stdout",
     "output_type": "stream",
     "text": [
      "[GIN] 2025/05/13 - 13:22:09 | 200 | 10.858550154s |       127.0.0.1 | POST     \"/api/chat\"\n"
     ]
    },
    {
     "name": "stderr",
     "output_type": "stream",
     "text": [
      "time=2025-05-13T13:22:09.997Z level=WARN source=ggml.go:152 msg=\"key not found\" key=general.alignment default=32\n"
     ]
    },
    {
     "name": "stdout",
     "output_type": "stream",
     "text": [
      "[GIN] 2025/05/13 - 13:22:16 | 200 | 26.828702503s |       127.0.0.1 | POST     \"/api/chat\"\n"
     ]
    },
    {
     "name": "stderr",
     "output_type": "stream",
     "text": [
      "time=2025-05-13T13:22:16.188Z level=WARN source=ggml.go:152 msg=\"key not found\" key=general.alignment default=32\n"
     ]
    },
    {
     "name": "stdout",
     "output_type": "stream",
     "text": [
      "[GIN] 2025/05/13 - 13:22:17 | 200 | 15.527138363s |       127.0.0.1 | POST     \"/api/chat\"\n"
     ]
    },
    {
     "name": "stderr",
     "output_type": "stream",
     "text": [
      "time=2025-05-13T13:22:17.763Z level=WARN source=ggml.go:152 msg=\"key not found\" key=general.alignment default=32\n"
     ]
    },
    {
     "name": "stdout",
     "output_type": "stream",
     "text": [
      "[GIN] 2025/05/13 - 13:22:26 | 200 | 16.047976758s |       127.0.0.1 | POST     \"/api/chat\"\n"
     ]
    },
    {
     "name": "stderr",
     "output_type": "stream",
     "text": [
      "time=2025-05-13T13:22:26.075Z level=WARN source=ggml.go:152 msg=\"key not found\" key=general.alignment default=32\n",
      "time=2025-05-13T13:22:26.075Z level=WARN source=ggml.go:152 msg=\"key not found\" key=general.alignment default=32\n",
      "time=2025-05-13T13:22:26.080Z level=WARN source=ggml.go:152 msg=\"key not found\" key=general.alignment default=32\n"
     ]
    },
    {
     "name": "stdout",
     "output_type": "stream",
     "text": [
      "[GIN] 2025/05/13 - 13:22:33 | 200 | 27.350895246s |       127.0.0.1 | POST     \"/api/chat\"\n"
     ]
    },
    {
     "name": "stderr",
     "output_type": "stream",
     "text": [
      "time=2025-05-13T13:22:33.517Z level=WARN source=ggml.go:152 msg=\"key not found\" key=general.alignment default=32\n"
     ]
    },
    {
     "name": "stdout",
     "output_type": "stream",
     "text": [
      "[GIN] 2025/05/13 - 13:22:37 | 200 | 21.101973292s |       127.0.0.1 | POST     \"/api/chat\"\n"
     ]
    },
    {
     "name": "stderr",
     "output_type": "stream",
     "text": [
      "time=2025-05-13T13:22:37.297Z level=WARN source=ggml.go:152 msg=\"key not found\" key=general.alignment default=32\n"
     ]
    },
    {
     "name": "stdout",
     "output_type": "stream",
     "text": [
      "[GIN] 2025/05/13 - 13:22:39 | 200 |  13.28738372s |       127.0.0.1 | POST     \"/api/chat\"\n",
      "[GIN] 2025/05/13 - 13:22:40 | 200 | 14.565918568s |       127.0.0.1 | POST     \"/api/chat\"\n",
      "[GIN] 2025/05/13 - 13:22:41 | 200 | 23.307335382s |       127.0.0.1 | POST     \"/api/chat\"\n"
     ]
    },
    {
     "name": "stderr",
     "output_type": "stream",
     "text": [
      "time=2025-05-13T13:22:41.079Z level=WARN source=ggml.go:152 msg=\"key not found\" key=general.alignment default=32\n"
     ]
    },
    {
     "name": "stdout",
     "output_type": "stream",
     "text": [
      "[GIN] 2025/05/13 - 13:22:41 | 200 | 15.795173839s |       127.0.0.1 | POST     \"/api/chat\"\n"
     ]
    },
    {
     "name": "stderr",
     "output_type": "stream",
     "text": [
      "time=2025-05-13T13:22:41.870Z level=WARN source=ggml.go:152 msg=\"key not found\" key=general.alignment default=32\n"
     ]
    },
    {
     "name": "stdout",
     "output_type": "stream",
     "text": [
      "[GIN] 2025/05/13 - 13:22:47 | 200 | 14.030582875s |       127.0.0.1 | POST     \"/api/chat\"\n"
     ]
    },
    {
     "name": "stderr",
     "output_type": "stream",
     "text": [
      "time=2025-05-13T13:22:47.567Z level=WARN source=ggml.go:152 msg=\"key not found\" key=general.alignment default=32\n"
     ]
    },
    {
     "name": "stdout",
     "output_type": "stream",
     "text": [
      "[GIN] 2025/05/13 - 13:22:56 | 200 | 18.825547324s |       127.0.0.1 | POST     \"/api/chat\"\n"
     ]
    },
    {
     "name": "stderr",
     "output_type": "stream",
     "text": [
      "time=2025-05-13T13:22:56.130Z level=WARN source=ggml.go:152 msg=\"key not found\" key=general.alignment default=32\n"
     ]
    },
    {
     "name": "stdout",
     "output_type": "stream",
     "text": [
      "[GIN] 2025/05/13 - 13:23:01 | 200 | 19.837354742s |       127.0.0.1 | POST     \"/api/chat\"\n"
     ]
    },
    {
     "name": "stderr",
     "output_type": "stream",
     "text": [
      "time=2025-05-13T13:23:01.718Z level=WARN source=ggml.go:152 msg=\"key not found\" key=general.alignment default=32\n"
     ]
    },
    {
     "name": "stdout",
     "output_type": "stream",
     "text": [
      "[GIN] 2025/05/13 - 13:23:16 | 200 | 35.925380181s |       127.0.0.1 | POST     \"/api/chat\"\n"
     ]
    },
    {
     "name": "stderr",
     "output_type": "stream",
     "text": [
      "time=2025-05-13T13:23:17.019Z level=WARN source=ggml.go:152 msg=\"key not found\" key=general.alignment default=32\n"
     ]
    },
    {
     "name": "stdout",
     "output_type": "stream",
     "text": [
      "[GIN] 2025/05/13 - 13:23:26 | 200 | 30.730627797s |       127.0.0.1 | POST     \"/api/chat\"\n"
     ]
    },
    {
     "name": "stderr",
     "output_type": "stream",
     "text": [
      "time=2025-05-13T13:23:26.871Z level=WARN source=ggml.go:152 msg=\"key not found\" key=general.alignment default=32\n"
     ]
    },
    {
     "name": "stdout",
     "output_type": "stream",
     "text": [
      "[GIN] 2025/05/13 - 13:23:29 | 200 | 41.528432461s |       127.0.0.1 | POST     \"/api/chat\"\n"
     ]
    },
    {
     "name": "stderr",
     "output_type": "stream",
     "text": [
      "time=2025-05-13T13:23:29.092Z level=WARN source=ggml.go:152 msg=\"key not found\" key=general.alignment default=32\n"
     ]
    },
    {
     "name": "stdout",
     "output_type": "stream",
     "text": [
      "[GIN] 2025/05/13 - 13:23:46 | 200 | 44.365372406s |       127.0.0.1 | POST     \"/api/chat\"\n"
     ]
    },
    {
     "name": "stderr",
     "output_type": "stream",
     "text": [
      "time=2025-05-13T13:23:46.083Z level=WARN source=ggml.go:152 msg=\"key not found\" key=general.alignment default=32\n"
     ]
    },
    {
     "name": "stdout",
     "output_type": "stream",
     "text": [
      "[GIN] 2025/05/13 - 13:23:49 | 200 | 32.532307184s |       127.0.0.1 | POST     \"/api/chat\"\n"
     ]
    },
    {
     "name": "stderr",
     "output_type": "stream",
     "text": [
      "time=2025-05-13T13:23:49.557Z level=WARN source=ggml.go:152 msg=\"key not found\" key=general.alignment default=32\n"
     ]
    },
    {
     "name": "stdout",
     "output_type": "stream",
     "text": [
      "[GIN] 2025/05/13 - 13:23:53 | 200 | 24.128015408s |       127.0.0.1 | POST     \"/api/chat\"\n"
     ]
    },
    {
     "name": "stderr",
     "output_type": "stream",
     "text": [
      "time=2025-05-13T13:23:53.246Z level=WARN source=ggml.go:152 msg=\"key not found\" key=general.alignment default=32\n"
     ]
    },
    {
     "name": "stdout",
     "output_type": "stream",
     "text": [
      "[GIN] 2025/05/13 - 13:24:00 | 200 |  34.09820505s |       127.0.0.1 | POST     \"/api/chat\"\n"
     ]
    },
    {
     "name": "stderr",
     "output_type": "stream",
     "text": [
      "time=2025-05-13T13:24:00.972Z level=WARN source=ggml.go:152 msg=\"key not found\" key=general.alignment default=32\n"
     ]
    },
    {
     "name": "stdout",
     "output_type": "stream",
     "text": [
      "[GIN] 2025/05/13 - 13:24:03 | 200 | 17.246187102s |       127.0.0.1 | POST     \"/api/chat\"\n"
     ]
    },
    {
     "name": "stderr",
     "output_type": "stream",
     "text": [
      "time=2025-05-13T13:24:03.337Z level=WARN source=ggml.go:152 msg=\"key not found\" key=general.alignment default=32\n"
     ]
    },
    {
     "name": "stdout",
     "output_type": "stream",
     "text": [
      "[GIN] 2025/05/13 - 13:24:06 | 200 | 13.455313441s |       127.0.0.1 | POST     \"/api/chat\"\n"
     ]
    },
    {
     "name": "stderr",
     "output_type": "stream",
     "text": [
      "time=2025-05-13T13:24:06.687Z level=WARN source=ggml.go:152 msg=\"key not found\" key=general.alignment default=32\n"
     ]
    },
    {
     "name": "stdout",
     "output_type": "stream",
     "text": [
      "[GIN] 2025/05/13 - 13:24:17 | 200 | 16.765437485s |       127.0.0.1 | POST     \"/api/chat\"\n"
     ]
    },
    {
     "name": "stderr",
     "output_type": "stream",
     "text": [
      "time=2025-05-13T13:24:17.741Z level=WARN source=ggml.go:152 msg=\"key not found\" key=general.alignment default=32\n"
     ]
    },
    {
     "name": "stdout",
     "output_type": "stream",
     "text": [
      "[GIN] 2025/05/13 - 13:24:31 | 200 |  41.77192996s |       127.0.0.1 | POST     \"/api/chat\"\n"
     ]
    },
    {
     "name": "stderr",
     "output_type": "stream",
     "text": [
      "time=2025-05-13T13:24:31.328Z level=WARN source=ggml.go:152 msg=\"key not found\" key=general.alignment default=32\n"
     ]
    },
    {
     "name": "stdout",
     "output_type": "stream",
     "text": [
      "[GIN] 2025/05/13 - 13:24:34 | 200 | 27.947496929s |       127.0.0.1 | POST     \"/api/chat\"\n"
     ]
    },
    {
     "name": "stderr",
     "output_type": "stream",
     "text": [
      "time=2025-05-13T13:24:34.642Z level=WARN source=ggml.go:152 msg=\"key not found\" key=general.alignment default=32\n"
     ]
    },
    {
     "name": "stdout",
     "output_type": "stream",
     "text": [
      "[GIN] 2025/05/13 - 13:24:42 | 200 | 24.462814901s |       127.0.0.1 | POST     \"/api/chat\"\n"
     ]
    },
    {
     "name": "stderr",
     "output_type": "stream",
     "text": [
      "time=2025-05-13T13:24:42.219Z level=WARN source=ggml.go:152 msg=\"key not found\" key=general.alignment default=32\n"
     ]
    },
    {
     "name": "stdout",
     "output_type": "stream",
     "text": [
      "[GIN] 2025/05/13 - 13:24:52 | 200 | 49.576877756s |       127.0.0.1 | POST     \"/api/chat\"\n"
     ]
    },
    {
     "name": "stderr",
     "output_type": "stream",
     "text": [
      "time=2025-05-13T13:24:52.929Z level=WARN source=ggml.go:152 msg=\"key not found\" key=general.alignment default=32\n"
     ]
    },
    {
     "name": "stdout",
     "output_type": "stream",
     "text": [
      "[GIN] 2025/05/13 - 13:24:56 | 200 | 21.380184165s |       127.0.0.1 | POST     \"/api/chat\"\n"
     ]
    },
    {
     "name": "stderr",
     "output_type": "stream",
     "text": [
      "time=2025-05-13T13:24:56.041Z level=WARN source=ggml.go:152 msg=\"key not found\" key=general.alignment default=32\n"
     ]
    },
    {
     "name": "stdout",
     "output_type": "stream",
     "text": [
      "[GIN] 2025/05/13 - 13:25:06 | 200 | 24.779913588s |       127.0.0.1 | POST     \"/api/chat\"\n"
     ]
    },
    {
     "name": "stderr",
     "output_type": "stream",
     "text": [
      "time=2025-05-13T13:25:07.009Z level=WARN source=ggml.go:152 msg=\"key not found\" key=general.alignment default=32\n"
     ]
    },
    {
     "name": "stdout",
     "output_type": "stream",
     "text": [
      "[GIN] 2025/05/13 - 13:25:08 | 200 | 15.933287061s |       127.0.0.1 | POST     \"/api/chat\"\n"
     ]
    },
    {
     "name": "stderr",
     "output_type": "stream",
     "text": [
      "time=2025-05-13T13:25:08.860Z level=WARN source=ggml.go:152 msg=\"key not found\" key=general.alignment default=32\n"
     ]
    },
    {
     "name": "stdout",
     "output_type": "stream",
     "text": [
      "[GIN] 2025/05/13 - 13:25:10 | 200 | 39.381039501s |       127.0.0.1 | POST     \"/api/chat\"\n"
     ]
    },
    {
     "name": "stderr",
     "output_type": "stream",
     "text": [
      "time=2025-05-13T13:25:10.722Z level=WARN source=ggml.go:152 msg=\"key not found\" key=general.alignment default=32\n"
     ]
    },
    {
     "name": "stdout",
     "output_type": "stream",
     "text": [
      "[GIN] 2025/05/13 - 13:25:12 | 200 | 16.491606192s |       127.0.0.1 | POST     \"/api/chat\"\n"
     ]
    },
    {
     "name": "stderr",
     "output_type": "stream",
     "text": [
      "time=2025-05-13T13:25:12.552Z level=WARN source=ggml.go:152 msg=\"key not found\" key=general.alignment default=32\n",
      "time=2025-05-13T13:25:12.554Z level=WARN source=ggml.go:152 msg=\"key not found\" key=general.alignment default=32\n",
      "time=2025-05-13T13:25:12.554Z level=WARN source=ggml.go:152 msg=\"key not found\" key=general.alignment default=32\n"
     ]
    },
    {
     "name": "stdout",
     "output_type": "stream",
     "text": [
      "[GIN] 2025/05/13 - 13:25:15 | 200 |  8.805139561s |       127.0.0.1 | POST     \"/api/chat\"\n"
     ]
    },
    {
     "name": "stderr",
     "output_type": "stream",
     "text": [
      "time=2025-05-13T13:25:15.815Z level=WARN source=ggml.go:152 msg=\"key not found\" key=general.alignment default=32\n"
     ]
    },
    {
     "name": "stdout",
     "output_type": "stream",
     "text": [
      "[GIN] 2025/05/13 - 13:25:25 | 200 | 16.571906011s |       127.0.0.1 | POST     \"/api/chat\"\n"
     ]
    },
    {
     "name": "stderr",
     "output_type": "stream",
     "text": [
      "time=2025-05-13T13:25:25.441Z level=WARN source=ggml.go:152 msg=\"key not found\" key=general.alignment default=32\n"
     ]
    },
    {
     "name": "stdout",
     "output_type": "stream",
     "text": [
      "[GIN] 2025/05/13 - 13:25:27 | 200 | 14.532845681s |       127.0.0.1 | POST     \"/api/chat\"\n",
      "[GIN] 2025/05/13 - 13:25:28 | 200 | 15.612336392s |       127.0.0.1 | POST     \"/api/chat\"\n",
      "[GIN] 2025/05/13 - 13:25:29 | 200 | 16.686263346s |       127.0.0.1 | POST     \"/api/chat\"\n"
     ]
    },
    {
     "name": "stderr",
     "output_type": "stream",
     "text": [
      "time=2025-05-13T13:25:29.229Z level=WARN source=ggml.go:152 msg=\"key not found\" key=general.alignment default=32\n"
     ]
    },
    {
     "name": "stdout",
     "output_type": "stream",
     "text": [
      "[GIN] 2025/05/13 - 13:25:33 | 200 | 17.475109693s |       127.0.0.1 | POST     \"/api/chat\"\n"
     ]
    },
    {
     "name": "stderr",
     "output_type": "stream",
     "text": [
      "time=2025-05-13T13:25:33.302Z level=WARN source=ggml.go:152 msg=\"key not found\" key=general.alignment default=32\n"
     ]
    },
    {
     "name": "stdout",
     "output_type": "stream",
     "text": [
      "[GIN] 2025/05/13 - 13:25:36 | 200 | 10.866369781s |       127.0.0.1 | POST     \"/api/chat\"\n"
     ]
    },
    {
     "name": "stderr",
     "output_type": "stream",
     "text": [
      "time=2025-05-13T13:25:36.312Z level=WARN source=ggml.go:152 msg=\"key not found\" key=general.alignment default=32\n"
     ]
    },
    {
     "name": "stdout",
     "output_type": "stream",
     "text": [
      "[GIN] 2025/05/13 - 13:25:40 | 200 | 11.502454664s |       127.0.0.1 | POST     \"/api/chat\"\n"
     ]
    },
    {
     "name": "stderr",
     "output_type": "stream",
     "text": [
      "time=2025-05-13T13:25:40.739Z level=WARN source=ggml.go:152 msg=\"key not found\" key=general.alignment default=32\n"
     ]
    },
    {
     "name": "stdout",
     "output_type": "stream",
     "text": [
      "[GIN] 2025/05/13 - 13:25:50 | 200 | 39.443990182s |       127.0.0.1 | POST     \"/api/chat\"\n"
     ]
    },
    {
     "name": "stderr",
     "output_type": "stream",
     "text": [
      "time=2025-05-13T13:25:50.174Z level=WARN source=ggml.go:152 msg=\"key not found\" key=general.alignment default=32\n"
     ]
    },
    {
     "name": "stdout",
     "output_type": "stream",
     "text": [
      "[GIN] 2025/05/13 - 13:25:52 | 200 | 19.493146317s |       127.0.0.1 | POST     \"/api/chat\"\n"
     ]
    },
    {
     "name": "stderr",
     "output_type": "stream",
     "text": [
      "time=2025-05-13T13:25:52.800Z level=WARN source=ggml.go:152 msg=\"key not found\" key=general.alignment default=32\n"
     ]
    },
    {
     "name": "stdout",
     "output_type": "stream",
     "text": [
      "[GIN] 2025/05/13 - 13:26:04 | 200 | 28.614110951s |       127.0.0.1 | POST     \"/api/chat\"\n"
     ]
    },
    {
     "name": "stderr",
     "output_type": "stream",
     "text": [
      "time=2025-05-13T13:26:04.934Z level=WARN source=ggml.go:152 msg=\"key not found\" key=general.alignment default=32\n"
     ]
    },
    {
     "name": "stdout",
     "output_type": "stream",
     "text": [
      "[GIN] 2025/05/13 - 13:26:06 | 200 |   26.1990041s |       127.0.0.1 | POST     \"/api/chat\"\n"
     ]
    },
    {
     "name": "stderr",
     "output_type": "stream",
     "text": [
      "time=2025-05-13T13:26:06.953Z level=WARN source=ggml.go:152 msg=\"key not found\" key=general.alignment default=32\n"
     ]
    },
    {
     "name": "stdout",
     "output_type": "stream",
     "text": [
      "[GIN] 2025/05/13 - 13:26:18 | 200 | 25.580277267s |       127.0.0.1 | POST     \"/api/chat\"\n"
     ]
    },
    {
     "name": "stderr",
     "output_type": "stream",
     "text": [
      "time=2025-05-13T13:26:18.379Z level=WARN source=ggml.go:152 msg=\"key not found\" key=general.alignment default=32\n"
     ]
    },
    {
     "name": "stdout",
     "output_type": "stream",
     "text": [
      "[GIN] 2025/05/13 - 13:26:21 | 200 |  16.59199941s |       127.0.0.1 | POST     \"/api/chat\"\n"
     ]
    },
    {
     "name": "stderr",
     "output_type": "stream",
     "text": [
      "time=2025-05-13T13:26:21.543Z level=WARN source=ggml.go:152 msg=\"key not found\" key=general.alignment default=32\n"
     ]
    },
    {
     "name": "stdout",
     "output_type": "stream",
     "text": [
      "[GIN] 2025/05/13 - 13:26:24 | 200 | 17.561069919s |       127.0.0.1 | POST     \"/api/chat\"\n"
     ]
    },
    {
     "name": "stderr",
     "output_type": "stream",
     "text": [
      "time=2025-05-13T13:26:24.509Z level=WARN source=ggml.go:152 msg=\"key not found\" key=general.alignment default=32\n"
     ]
    },
    {
     "name": "stdout",
     "output_type": "stream",
     "text": [
      "[GIN] 2025/05/13 - 13:26:30 | 200 | 40.774865675s |       127.0.0.1 | POST     \"/api/chat\"\n"
     ]
    },
    {
     "name": "stderr",
     "output_type": "stream",
     "text": [
      "time=2025-05-13T13:26:30.961Z level=WARN source=ggml.go:152 msg=\"key not found\" key=general.alignment default=32\n"
     ]
    },
    {
     "name": "stdout",
     "output_type": "stream",
     "text": [
      "[GIN] 2025/05/13 - 13:26:34 | 200 | 13.169622185s |       127.0.0.1 | POST     \"/api/chat\"\n"
     ]
    },
    {
     "name": "stderr",
     "output_type": "stream",
     "text": [
      "time=2025-05-13T13:26:34.721Z level=WARN source=ggml.go:152 msg=\"key not found\" key=general.alignment default=32\n"
     ]
    },
    {
     "name": "stdout",
     "output_type": "stream",
     "text": [
      "[GIN] 2025/05/13 - 13:26:39 | 200 | 21.265110416s |       127.0.0.1 | POST     \"/api/chat\"\n"
     ]
    },
    {
     "name": "stderr",
     "output_type": "stream",
     "text": [
      "time=2025-05-13T13:26:39.652Z level=WARN source=ggml.go:152 msg=\"key not found\" key=general.alignment default=32\n"
     ]
    },
    {
     "name": "stdout",
     "output_type": "stream",
     "text": [
      "[GIN] 2025/05/13 - 13:26:43 | 200 | 19.403780846s |       127.0.0.1 | POST     \"/api/chat\"\n"
     ]
    },
    {
     "name": "stderr",
     "output_type": "stream",
     "text": [
      "time=2025-05-13T13:26:43.924Z level=WARN source=ggml.go:152 msg=\"key not found\" key=general.alignment default=32\n"
     ]
    },
    {
     "name": "stdout",
     "output_type": "stream",
     "text": [
      "[GIN] 2025/05/13 - 13:26:47 | 200 | 12.922278488s |       127.0.0.1 | POST     \"/api/chat\"\n"
     ]
    },
    {
     "name": "stderr",
     "output_type": "stream",
     "text": [
      "time=2025-05-13T13:26:47.652Z level=WARN source=ggml.go:152 msg=\"key not found\" key=general.alignment default=32\n"
     ]
    },
    {
     "name": "stdout",
     "output_type": "stream",
     "text": [
      "[GIN] 2025/05/13 - 13:27:00 | 200 |  21.27618057s |       127.0.0.1 | POST     \"/api/chat\"\n"
     ]
    },
    {
     "name": "stderr",
     "output_type": "stream",
     "text": [
      "time=2025-05-13T13:27:00.935Z level=WARN source=ggml.go:152 msg=\"key not found\" key=general.alignment default=32\n"
     ]
    },
    {
     "name": "stdout",
     "output_type": "stream",
     "text": [
      "[GIN] 2025/05/13 - 13:27:11 | 200 | 40.244821024s |       127.0.0.1 | POST     \"/api/chat\"\n"
     ]
    },
    {
     "name": "stderr",
     "output_type": "stream",
     "text": [
      "time=2025-05-13T13:27:11.204Z level=WARN source=ggml.go:152 msg=\"key not found\" key=general.alignment default=32\n"
     ]
    },
    {
     "name": "stdout",
     "output_type": "stream",
     "text": [
      "[GIN] 2025/05/13 - 13:27:14 | 200 | 30.161634413s |       127.0.0.1 | POST     \"/api/chat\"\n"
     ]
    },
    {
     "name": "stderr",
     "output_type": "stream",
     "text": [
      "time=2025-05-13T13:27:14.100Z level=WARN source=ggml.go:152 msg=\"key not found\" key=general.alignment default=32\n"
     ]
    },
    {
     "name": "stdout",
     "output_type": "stream",
     "text": [
      "[GIN] 2025/05/13 - 13:27:16 | 200 | 28.532369033s |       127.0.0.1 | POST     \"/api/chat\"\n"
     ]
    },
    {
     "name": "stderr",
     "output_type": "stream",
     "text": [
      "time=2025-05-13T13:27:16.179Z level=WARN source=ggml.go:152 msg=\"key not found\" key=general.alignment default=32\n"
     ]
    },
    {
     "name": "stdout",
     "output_type": "stream",
     "text": [
      "[GIN] 2025/05/13 - 13:27:28 | 200 |  27.26892555s |       127.0.0.1 | POST     \"/api/chat\"\n"
     ]
    },
    {
     "name": "stderr",
     "output_type": "stream",
     "text": [
      "time=2025-05-13T13:27:28.212Z level=WARN source=ggml.go:152 msg=\"key not found\" key=general.alignment default=32\n"
     ]
    },
    {
     "name": "stdout",
     "output_type": "stream",
     "text": [
      "[GIN] 2025/05/13 - 13:27:29 | 200 | 15.706147051s |       127.0.0.1 | POST     \"/api/chat\"\n"
     ]
    },
    {
     "name": "stderr",
     "output_type": "stream",
     "text": [
      "time=2025-05-13T13:27:29.811Z level=WARN source=ggml.go:152 msg=\"key not found\" key=general.alignment default=32\n"
     ]
    },
    {
     "name": "stdout",
     "output_type": "stream",
     "text": [
      "[GIN] 2025/05/13 - 13:27:32 | 200 | 16.820822285s |       127.0.0.1 | POST     \"/api/chat\"\n"
     ]
    },
    {
     "name": "stderr",
     "output_type": "stream",
     "text": [
      "time=2025-05-13T13:27:33.027Z level=WARN source=ggml.go:152 msg=\"key not found\" key=general.alignment default=32\n"
     ]
    },
    {
     "name": "stdout",
     "output_type": "stream",
     "text": [
      "[GIN] 2025/05/13 - 13:27:39 | 200 |  28.48933791s |       127.0.0.1 | POST     \"/api/chat\"\n"
     ]
    },
    {
     "name": "stderr",
     "output_type": "stream",
     "text": [
      "time=2025-05-13T13:27:39.696Z level=WARN source=ggml.go:152 msg=\"key not found\" key=general.alignment default=32\n"
     ]
    },
    {
     "name": "stdout",
     "output_type": "stream",
     "text": [
      "[GIN] 2025/05/13 - 13:27:45 | 200 | 15.492590371s |       127.0.0.1 | POST     \"/api/chat\"\n"
     ]
    },
    {
     "name": "stderr",
     "output_type": "stream",
     "text": [
      "time=2025-05-13T13:27:45.326Z level=WARN source=ggml.go:152 msg=\"key not found\" key=general.alignment default=32\n",
      "time=2025-05-13T13:27:45.329Z level=WARN source=ggml.go:152 msg=\"key not found\" key=general.alignment default=32\n",
      "time=2025-05-13T13:27:45.333Z level=WARN source=ggml.go:152 msg=\"key not found\" key=general.alignment default=32\n"
     ]
    },
    {
     "name": "stdout",
     "output_type": "stream",
     "text": [
      "[GIN] 2025/05/13 - 13:27:48 | 200 |  15.86423797s |       127.0.0.1 | POST     \"/api/chat\"\n"
     ]
    },
    {
     "name": "stderr",
     "output_type": "stream",
     "text": [
      "time=2025-05-13T13:27:48.884Z level=WARN source=ggml.go:152 msg=\"key not found\" key=general.alignment default=32\n"
     ]
    },
    {
     "name": "stdout",
     "output_type": "stream",
     "text": [
      "[GIN] 2025/05/13 - 13:27:51 | 200 |  22.90749209s |       127.0.0.1 | POST     \"/api/chat\"\n"
     ]
    },
    {
     "name": "stderr",
     "output_type": "stream",
     "text": [
      "time=2025-05-13T13:27:51.125Z level=WARN source=ggml.go:152 msg=\"key not found\" key=general.alignment default=32\n"
     ]
    },
    {
     "name": "stdout",
     "output_type": "stream",
     "text": [
      "[GIN] 2025/05/13 - 13:27:53 | 200 |  7.768235354s |       127.0.0.1 | POST     \"/api/chat\"\n",
      "[GIN] 2025/05/13 - 13:27:54 | 200 |  9.099665158s |       127.0.0.1 | POST     \"/api/chat\"\n",
      "[GIN] 2025/05/13 - 13:27:55 | 200 | 10.435252683s |       127.0.0.1 | POST     \"/api/chat\"\n"
     ]
    },
    {
     "name": "stderr",
     "output_type": "stream",
     "text": [
      "time=2025-05-13T13:27:55.762Z level=WARN source=ggml.go:152 msg=\"key not found\" key=general.alignment default=32\n"
     ]
    },
    {
     "name": "stdout",
     "output_type": "stream",
     "text": [
      "[GIN] 2025/05/13 - 13:27:59 | 200 | 10.947213131s |       127.0.0.1 | POST     \"/api/chat\"\n"
     ]
    },
    {
     "name": "stderr",
     "output_type": "stream",
     "text": [
      "time=2025-05-13T13:27:59.840Z level=WARN source=ggml.go:152 msg=\"key not found\" key=general.alignment default=32\n"
     ]
    },
    {
     "name": "stdout",
     "output_type": "stream",
     "text": [
      "[GIN] 2025/05/13 - 13:28:11 | 200 | 20.814042735s |       127.0.0.1 | POST     \"/api/chat\"\n"
     ]
    },
    {
     "name": "stderr",
     "output_type": "stream",
     "text": [
      "time=2025-05-13T13:28:11.948Z level=WARN source=ggml.go:152 msg=\"key not found\" key=general.alignment default=32\n"
     ]
    },
    {
     "name": "stdout",
     "output_type": "stream",
     "text": [
      "[GIN] 2025/05/13 - 13:28:16 | 200 | 20.830439449s |       127.0.0.1 | POST     \"/api/chat\"\n"
     ]
    },
    {
     "name": "stderr",
     "output_type": "stream",
     "text": [
      "time=2025-05-13T13:28:16.596Z level=WARN source=ggml.go:152 msg=\"key not found\" key=general.alignment default=32\n"
     ]
    },
    {
     "name": "stdout",
     "output_type": "stream",
     "text": [
      "[GIN] 2025/05/13 - 13:28:26 | 200 | 46.911888918s |       127.0.0.1 | POST     \"/api/chat\"\n"
     ]
    },
    {
     "name": "stderr",
     "output_type": "stream",
     "text": [
      "time=2025-05-13T13:28:26.620Z level=WARN source=ggml.go:152 msg=\"key not found\" key=general.alignment default=32\n"
     ]
    },
    {
     "name": "stdout",
     "output_type": "stream",
     "text": [
      "[GIN] 2025/05/13 - 13:28:29 | 200 | 29.518315352s |       127.0.0.1 | POST     \"/api/chat\"\n"
     ]
    },
    {
     "name": "stderr",
     "output_type": "stream",
     "text": [
      "time=2025-05-13T13:28:29.360Z level=WARN source=ggml.go:152 msg=\"key not found\" key=general.alignment default=32\n"
     ]
    },
    {
     "name": "stdout",
     "output_type": "stream",
     "text": [
      "[GIN] 2025/05/13 - 13:28:41 | 200 | 29.178881112s |       127.0.0.1 | POST     \"/api/chat\"\n"
     ]
    },
    {
     "name": "stderr",
     "output_type": "stream",
     "text": [
      "time=2025-05-13T13:28:41.132Z level=WARN source=ggml.go:152 msg=\"key not found\" key=general.alignment default=32\n"
     ]
    },
    {
     "name": "stdout",
     "output_type": "stream",
     "text": [
      "[GIN] 2025/05/13 - 13:28:47 | 200 | 30.503894324s |       127.0.0.1 | POST     \"/api/chat\"\n"
     ]
    },
    {
     "name": "stderr",
     "output_type": "stream",
     "text": [
      "time=2025-05-13T13:28:47.108Z level=WARN source=ggml.go:152 msg=\"key not found\" key=general.alignment default=32\n"
     ]
    },
    {
     "name": "stdout",
     "output_type": "stream",
     "text": [
      "[GIN] 2025/05/13 - 13:29:02 | 200 | 33.116723642s |       127.0.0.1 | POST     \"/api/chat\"\n"
     ]
    },
    {
     "name": "stderr",
     "output_type": "stream",
     "text": [
      "time=2025-05-13T13:29:02.483Z level=WARN source=ggml.go:152 msg=\"key not found\" key=general.alignment default=32\n"
     ]
    },
    {
     "name": "stdout",
     "output_type": "stream",
     "text": [
      "[GIN] 2025/05/13 - 13:29:04 | 200 | 37.632272466s |       127.0.0.1 | POST     \"/api/chat\"\n"
     ]
    },
    {
     "name": "stderr",
     "output_type": "stream",
     "text": [
      "time=2025-05-13T13:29:04.256Z level=WARN source=ggml.go:152 msg=\"key not found\" key=general.alignment default=32\n"
     ]
    },
    {
     "name": "stdout",
     "output_type": "stream",
     "text": [
      "[GIN] 2025/05/13 - 13:29:07 | 200 | 20.857953713s |       127.0.0.1 | POST     \"/api/chat\"\n"
     ]
    },
    {
     "name": "stderr",
     "output_type": "stream",
     "text": [
      "time=2025-05-13T13:29:07.969Z level=WARN source=ggml.go:152 msg=\"key not found\" key=general.alignment default=32\n"
     ]
    },
    {
     "name": "stdout",
     "output_type": "stream",
     "text": [
      "[GIN] 2025/05/13 - 13:29:17 | 200 |  36.03027554s |       127.0.0.1 | POST     \"/api/chat\"\n"
     ]
    },
    {
     "name": "stderr",
     "output_type": "stream",
     "text": [
      "time=2025-05-13T13:29:17.170Z level=WARN source=ggml.go:152 msg=\"key not found\" key=general.alignment default=32\n"
     ]
    },
    {
     "name": "stdout",
     "output_type": "stream",
     "text": [
      "[GIN] 2025/05/13 - 13:29:23 | 200 | 20.927215513s |       127.0.0.1 | POST     \"/api/chat\"\n"
     ]
    },
    {
     "name": "stderr",
     "output_type": "stream",
     "text": [
      "time=2025-05-13T13:29:23.427Z level=WARN source=ggml.go:152 msg=\"key not found\" key=general.alignment default=32\n"
     ]
    },
    {
     "name": "stdout",
     "output_type": "stream",
     "text": [
      "[GIN] 2025/05/13 - 13:29:38 | 200 | 30.122945874s |       127.0.0.1 | POST     \"/api/chat\"\n"
     ]
    },
    {
     "name": "stderr",
     "output_type": "stream",
     "text": [
      "time=2025-05-13T13:29:38.115Z level=WARN source=ggml.go:152 msg=\"key not found\" key=general.alignment default=32\n"
     ]
    },
    {
     "name": "stdout",
     "output_type": "stream",
     "text": [
      "[GIN] 2025/05/13 - 13:29:43 | 200 | 38.934618223s |       127.0.0.1 | POST     \"/api/chat\"\n"
     ]
    },
    {
     "name": "stderr",
     "output_type": "stream",
     "text": [
      "time=2025-05-13T13:29:43.203Z level=WARN source=ggml.go:152 msg=\"key not found\" key=general.alignment default=32\n"
     ]
    },
    {
     "name": "stdout",
     "output_type": "stream",
     "text": [
      "[GIN] 2025/05/13 - 13:29:50 | 200 | 33.652539518s |       127.0.0.1 | POST     \"/api/chat\"\n"
     ]
    },
    {
     "name": "stderr",
     "output_type": "stream",
     "text": [
      "time=2025-05-13T13:29:50.833Z level=WARN source=ggml.go:152 msg=\"key not found\" key=general.alignment default=32\n"
     ]
    },
    {
     "name": "stdout",
     "output_type": "stream",
     "text": [
      "[GIN] 2025/05/13 - 13:29:54 | 200 | 16.004539708s |       127.0.0.1 | POST     \"/api/chat\"\n"
     ]
    },
    {
     "name": "stderr",
     "output_type": "stream",
     "text": [
      "time=2025-05-13T13:29:54.123Z level=WARN source=ggml.go:152 msg=\"key not found\" key=general.alignment default=32\n"
     ]
    },
    {
     "name": "stdout",
     "output_type": "stream",
     "text": [
      "[GIN] 2025/05/13 - 13:29:57 | 200 | 14.129028241s |       127.0.0.1 | POST     \"/api/chat\"\n"
     ]
    },
    {
     "name": "stderr",
     "output_type": "stream",
     "text": [
      "time=2025-05-13T13:29:57.337Z level=WARN source=ggml.go:152 msg=\"key not found\" key=general.alignment default=32\n"
     ]
    },
    {
     "name": "stdout",
     "output_type": "stream",
     "text": [
      "[GIN] 2025/05/13 - 13:30:00 | 200 | 37.072773861s |       127.0.0.1 | POST     \"/api/chat\"\n"
     ]
    },
    {
     "name": "stderr",
     "output_type": "stream",
     "text": [
      "time=2025-05-13T13:30:00.497Z level=WARN source=ggml.go:152 msg=\"key not found\" key=general.alignment default=32\n"
     ]
    },
    {
     "name": "stdout",
     "output_type": "stream",
     "text": [
      "[GIN] 2025/05/13 - 13:30:08 | 200 | 18.121612168s |       127.0.0.1 | POST     \"/api/chat\"\n"
     ]
    },
    {
     "name": "stderr",
     "output_type": "stream",
     "text": [
      "time=2025-05-13T13:30:08.964Z level=WARN source=ggml.go:152 msg=\"key not found\" key=general.alignment default=32\n"
     ]
    },
    {
     "name": "stdout",
     "output_type": "stream",
     "text": [
      "[GIN] 2025/05/13 - 13:30:12 | 200 | 15.180950705s |       127.0.0.1 | POST     \"/api/chat\"\n"
     ]
    },
    {
     "name": "stderr",
     "output_type": "stream",
     "text": [
      "time=2025-05-13T13:30:12.525Z level=WARN source=ggml.go:152 msg=\"key not found\" key=general.alignment default=32\n"
     ]
    },
    {
     "name": "stdout",
     "output_type": "stream",
     "text": [
      "[GIN] 2025/05/13 - 13:30:14 | 200 | 20.847349295s |       127.0.0.1 | POST     \"/api/chat\"\n"
     ]
    },
    {
     "name": "stderr",
     "output_type": "stream",
     "text": [
      "time=2025-05-13T13:30:14.969Z level=WARN source=ggml.go:152 msg=\"key not found\" key=general.alignment default=32\n"
     ]
    },
    {
     "name": "stdout",
     "output_type": "stream",
     "text": [
      "[GIN] 2025/05/13 - 13:30:22 | 200 | 13.339582547s |       127.0.0.1 | POST     \"/api/chat\"\n"
     ]
    },
    {
     "name": "stderr",
     "output_type": "stream",
     "text": [
      "time=2025-05-13T13:30:22.311Z level=WARN source=ggml.go:152 msg=\"key not found\" key=general.alignment default=32\n"
     ]
    },
    {
     "name": "stdout",
     "output_type": "stream",
     "text": [
      "[GIN] 2025/05/13 - 13:30:24 | 200 | 12.385792917s |       127.0.0.1 | POST     \"/api/chat\"\n"
     ]
    },
    {
     "name": "stderr",
     "output_type": "stream",
     "text": [
      "time=2025-05-13T13:30:24.916Z level=WARN source=ggml.go:152 msg=\"key not found\" key=general.alignment default=32\n"
     ]
    },
    {
     "name": "stdout",
     "output_type": "stream",
     "text": [
      "[GIN] 2025/05/13 - 13:30:27 | 200 | 12.609953783s |       127.0.0.1 | POST     \"/api/chat\"\n"
     ]
    },
    {
     "name": "stderr",
     "output_type": "stream",
     "text": [
      "time=2025-05-13T13:30:27.583Z level=WARN source=ggml.go:152 msg=\"key not found\" key=general.alignment default=32\n"
     ]
    },
    {
     "name": "stdout",
     "output_type": "stream",
     "text": [
      "[GIN] 2025/05/13 - 13:30:30 | 200 | 30.114051489s |       127.0.0.1 | POST     \"/api/chat\"\n"
     ]
    },
    {
     "name": "stderr",
     "output_type": "stream",
     "text": [
      "time=2025-05-13T13:30:30.614Z level=WARN source=ggml.go:152 msg=\"key not found\" key=general.alignment default=32\n"
     ]
    },
    {
     "name": "stdout",
     "output_type": "stream",
     "text": [
      "[GIN] 2025/05/13 - 13:30:32 | 200 | 10.530363948s |       127.0.0.1 | POST     \"/api/chat\"\n"
     ]
    },
    {
     "name": "stderr",
     "output_type": "stream",
     "text": [
      "time=2025-05-13T13:30:32.849Z level=WARN source=ggml.go:152 msg=\"key not found\" key=general.alignment default=32\n"
     ]
    },
    {
     "name": "stdout",
     "output_type": "stream",
     "text": [
      "[GIN] 2025/05/13 - 13:30:35 | 200 | 10.792658849s |       127.0.0.1 | POST     \"/api/chat\"\n"
     ]
    },
    {
     "name": "stderr",
     "output_type": "stream",
     "text": [
      "time=2025-05-13T13:30:35.716Z level=WARN source=ggml.go:152 msg=\"key not found\" key=general.alignment default=32\n"
     ]
    },
    {
     "name": "stdout",
     "output_type": "stream",
     "text": [
      "[GIN] 2025/05/13 - 13:30:43 | 200 | 16.070912329s |       127.0.0.1 | POST     \"/api/chat\"\n"
     ]
    },
    {
     "name": "stderr",
     "output_type": "stream",
     "text": [
      "time=2025-05-13T13:30:43.682Z level=WARN source=ggml.go:152 msg=\"key not found\" key=general.alignment default=32\n",
      "time=2025-05-13T13:30:43.687Z level=WARN source=ggml.go:152 msg=\"key not found\" key=general.alignment default=32\n",
      "time=2025-05-13T13:30:43.690Z level=WARN source=ggml.go:152 msg=\"key not found\" key=general.alignment default=32\n"
     ]
    },
    {
     "name": "stdout",
     "output_type": "stream",
     "text": [
      "[GIN] 2025/05/13 - 13:30:46 | 200 | 13.656343509s |       127.0.0.1 | POST     \"/api/chat\"\n"
     ]
    },
    {
     "name": "stderr",
     "output_type": "stream",
     "text": [
      "time=2025-05-13T13:30:46.511Z level=WARN source=ggml.go:152 msg=\"key not found\" key=general.alignment default=32\n"
     ]
    },
    {
     "name": "stdout",
     "output_type": "stream",
     "text": [
      "[GIN] 2025/05/13 - 13:30:49 | 200 | 13.437352604s |       127.0.0.1 | POST     \"/api/chat\"\n"
     ]
    },
    {
     "name": "stderr",
     "output_type": "stream",
     "text": [
      "time=2025-05-13T13:30:49.168Z level=WARN source=ggml.go:152 msg=\"key not found\" key=general.alignment default=32\n"
     ]
    },
    {
     "name": "stdout",
     "output_type": "stream",
     "text": [
      "[GIN] 2025/05/13 - 13:30:50 | 200 |  6.979833126s |       127.0.0.1 | POST     \"/api/chat\"\n",
      "[GIN] 2025/05/13 - 13:30:51 | 200 |  8.091100665s |       127.0.0.1 | POST     \"/api/chat\"\n",
      "[GIN] 2025/05/13 - 13:30:52 | 200 | 21.754634519s |       127.0.0.1 | POST     \"/api/chat\"\n"
     ]
    },
    {
     "name": "stderr",
     "output_type": "stream",
     "text": [
      "time=2025-05-13T13:30:52.386Z level=WARN source=ggml.go:152 msg=\"key not found\" key=general.alignment default=32\n"
     ]
    },
    {
     "name": "stdout",
     "output_type": "stream",
     "text": [
      "[GIN] 2025/05/13 - 13:30:53 | 200 |  9.548179534s |       127.0.0.1 | POST     \"/api/chat\"\n"
     ]
    },
    {
     "name": "stderr",
     "output_type": "stream",
     "text": [
      "time=2025-05-13T13:30:53.232Z level=WARN source=ggml.go:152 msg=\"key not found\" key=general.alignment default=32\n"
     ]
    },
    {
     "name": "stdout",
     "output_type": "stream",
     "text": [
      "[GIN] 2025/05/13 - 13:31:03 | 200 | 14.580955441s |       127.0.0.1 | POST     \"/api/chat\"\n"
     ]
    },
    {
     "name": "stderr",
     "output_type": "stream",
     "text": [
      "time=2025-05-13T13:31:03.760Z level=WARN source=ggml.go:152 msg=\"key not found\" key=general.alignment default=32\n"
     ]
    },
    {
     "name": "stdout",
     "output_type": "stream",
     "text": [
      "[GIN] 2025/05/13 - 13:31:10 | 200 | 24.280343143s |       127.0.0.1 | POST     \"/api/chat\"\n"
     ]
    },
    {
     "name": "stderr",
     "output_type": "stream",
     "text": [
      "time=2025-05-13T13:31:10.797Z level=WARN source=ggml.go:152 msg=\"key not found\" key=general.alignment default=32\n"
     ]
    },
    {
     "name": "stdout",
     "output_type": "stream",
     "text": [
      "[GIN] 2025/05/13 - 13:31:13 | 200 | 19.826407144s |       127.0.0.1 | POST     \"/api/chat\"\n"
     ]
    },
    {
     "name": "stderr",
     "output_type": "stream",
     "text": [
      "time=2025-05-13T13:31:13.075Z level=WARN source=ggml.go:152 msg=\"key not found\" key=general.alignment default=32\n"
     ]
    },
    {
     "name": "stdout",
     "output_type": "stream",
     "text": [
      "[GIN] 2025/05/13 - 13:31:15 | 200 | 11.927760178s |       127.0.0.1 | POST     \"/api/chat\"\n"
     ]
    },
    {
     "name": "stderr",
     "output_type": "stream",
     "text": [
      "time=2025-05-13T13:31:15.686Z level=WARN source=ggml.go:152 msg=\"key not found\" key=general.alignment default=32\n"
     ]
    },
    {
     "name": "stdout",
     "output_type": "stream",
     "text": [
      "[GIN] 2025/05/13 - 13:31:18 | 200 | 25.889127906s |       127.0.0.1 | POST     \"/api/chat\"\n"
     ]
    },
    {
     "name": "stderr",
     "output_type": "stream",
     "text": [
      "time=2025-05-13T13:31:18.281Z level=WARN source=ggml.go:152 msg=\"key not found\" key=general.alignment default=32\n"
     ]
    },
    {
     "name": "stdout",
     "output_type": "stream",
     "text": [
      "[GIN] 2025/05/13 - 13:31:25 | 200 | 12.021691253s |       127.0.0.1 | POST     \"/api/chat\"\n"
     ]
    },
    {
     "name": "stderr",
     "output_type": "stream",
     "text": [
      "time=2025-05-13T13:31:25.104Z level=WARN source=ggml.go:152 msg=\"key not found\" key=general.alignment default=32\n"
     ]
    },
    {
     "name": "stdout",
     "output_type": "stream",
     "text": [
      "[GIN] 2025/05/13 - 13:31:28 | 200 | 12.510033684s |       127.0.0.1 | POST     \"/api/chat\"\n"
     ]
    },
    {
     "name": "stderr",
     "output_type": "stream",
     "text": [
      "time=2025-05-13T13:31:28.205Z level=WARN source=ggml.go:152 msg=\"key not found\" key=general.alignment default=32\n"
     ]
    },
    {
     "name": "stdout",
     "output_type": "stream",
     "text": [
      "[GIN] 2025/05/13 - 13:31:30 | 200 | 19.642696798s |       127.0.0.1 | POST     \"/api/chat\"\n"
     ]
    },
    {
     "name": "stderr",
     "output_type": "stream",
     "text": [
      "time=2025-05-13T13:31:30.457Z level=WARN source=ggml.go:152 msg=\"key not found\" key=general.alignment default=32\n"
     ]
    },
    {
     "name": "stdout",
     "output_type": "stream",
     "text": [
      "[GIN] 2025/05/13 - 13:31:34 | 200 |  9.734721827s |       127.0.0.1 | POST     \"/api/chat\"\n"
     ]
    },
    {
     "name": "stderr",
     "output_type": "stream",
     "text": [
      "time=2025-05-13T13:31:34.840Z level=WARN source=ggml.go:152 msg=\"key not found\" key=general.alignment default=32\n"
     ]
    },
    {
     "name": "stdout",
     "output_type": "stream",
     "text": [
      "[GIN] 2025/05/13 - 13:31:38 | 200 | 10.135921836s |       127.0.0.1 | POST     \"/api/chat\"\n"
     ]
    },
    {
     "name": "stderr",
     "output_type": "stream",
     "text": [
      "time=2025-05-13T13:31:38.346Z level=WARN source=ggml.go:152 msg=\"key not found\" key=general.alignment default=32\n"
     ]
    },
    {
     "name": "stdout",
     "output_type": "stream",
     "text": [
      "[GIN] 2025/05/13 - 13:31:46 | 200 | 28.097719058s |       127.0.0.1 | POST     \"/api/chat\"\n"
     ]
    },
    {
     "name": "stderr",
     "output_type": "stream",
     "text": [
      "time=2025-05-13T13:31:46.376Z level=WARN source=ggml.go:152 msg=\"key not found\" key=general.alignment default=32\n"
     ]
    },
    {
     "name": "stdout",
     "output_type": "stream",
     "text": [
      "[GIN] 2025/05/13 - 13:32:02 | 200 | 31.857888092s |       127.0.0.1 | POST     \"/api/chat\"\n"
     ]
    },
    {
     "name": "stderr",
     "output_type": "stream",
     "text": [
      "time=2025-05-13T13:32:02.324Z level=WARN source=ggml.go:152 msg=\"key not found\" key=general.alignment default=32\n"
     ]
    },
    {
     "name": "stdout",
     "output_type": "stream",
     "text": [
      "[GIN] 2025/05/13 - 13:32:04 | 200 | 29.872530675s |       127.0.0.1 | POST     \"/api/chat\"\n"
     ]
    },
    {
     "name": "stderr",
     "output_type": "stream",
     "text": [
      "time=2025-05-13T13:32:04.716Z level=WARN source=ggml.go:152 msg=\"key not found\" key=general.alignment default=32\n"
     ]
    },
    {
     "name": "stdout",
     "output_type": "stream",
     "text": [
      "[GIN] 2025/05/13 - 13:32:05 | 200 | 27.172515083s |       127.0.0.1 | POST     \"/api/chat\"\n"
     ]
    },
    {
     "name": "stderr",
     "output_type": "stream",
     "text": [
      "time=2025-05-13T13:32:05.534Z level=WARN source=ggml.go:152 msg=\"key not found\" key=general.alignment default=32\n"
     ]
    },
    {
     "name": "stdout",
     "output_type": "stream",
     "text": [
      "[GIN] 2025/05/13 - 13:32:17 | 200 | 31.157035878s |       127.0.0.1 | POST     \"/api/chat\"\n"
     ]
    },
    {
     "name": "stderr",
     "output_type": "stream",
     "text": [
      "time=2025-05-13T13:32:17.539Z level=WARN source=ggml.go:152 msg=\"key not found\" key=general.alignment default=32\n"
     ]
    },
    {
     "name": "stdout",
     "output_type": "stream",
     "text": [
      "[GIN] 2025/05/13 - 13:32:18 | 200 | 16.021183937s |       127.0.0.1 | POST     \"/api/chat\"\n"
     ]
    },
    {
     "name": "stderr",
     "output_type": "stream",
     "text": [
      "time=2025-05-13T13:32:18.344Z level=WARN source=ggml.go:152 msg=\"key not found\" key=general.alignment default=32\n"
     ]
    },
    {
     "name": "stdout",
     "output_type": "stream",
     "text": [
      "[GIN] 2025/05/13 - 13:32:22 | 200 | 16.979028496s |       127.0.0.1 | POST     \"/api/chat\"\n"
     ]
    },
    {
     "name": "stderr",
     "output_type": "stream",
     "text": [
      "time=2025-05-13T13:32:22.510Z level=WARN source=ggml.go:152 msg=\"key not found\" key=general.alignment default=32\n"
     ]
    },
    {
     "name": "stdout",
     "output_type": "stream",
     "text": [
      "[GIN] 2025/05/13 - 13:32:28 | 200 |  23.80481505s |       127.0.0.1 | POST     \"/api/chat\"\n"
     ]
    },
    {
     "name": "stderr",
     "output_type": "stream",
     "text": [
      "time=2025-05-13T13:32:28.529Z level=WARN source=ggml.go:152 msg=\"key not found\" key=general.alignment default=32\n"
     ]
    },
    {
     "name": "stdout",
     "output_type": "stream",
     "text": [
      "[GIN] 2025/05/13 - 13:32:39 | 200 | 21.833079547s |       127.0.0.1 | POST     \"/api/chat\"\n"
     ]
    },
    {
     "name": "stderr",
     "output_type": "stream",
     "text": [
      "time=2025-05-13T13:32:39.379Z level=WARN source=ggml.go:152 msg=\"key not found\" key=general.alignment default=32\n"
     ]
    },
    {
     "name": "stdout",
     "output_type": "stream",
     "text": [
      "[GIN] 2025/05/13 - 13:32:40 | 200 | 18.457290362s |       127.0.0.1 | POST     \"/api/chat\"\n"
     ]
    },
    {
     "name": "stderr",
     "output_type": "stream",
     "text": [
      "time=2025-05-13T13:32:40.982Z level=WARN source=ggml.go:152 msg=\"key not found\" key=general.alignment default=32\n"
     ]
    },
    {
     "name": "stdout",
     "output_type": "stream",
     "text": [
      "[GIN] 2025/05/13 - 13:32:43 | 200 | 15.266629636s |       127.0.0.1 | POST     \"/api/chat\"\n"
     ]
    },
    {
     "name": "stderr",
     "output_type": "stream",
     "text": [
      "time=2025-05-13T13:32:43.802Z level=WARN source=ggml.go:152 msg=\"key not found\" key=general.alignment default=32\n"
     ]
    },
    {
     "name": "stdout",
     "output_type": "stream",
     "text": [
      "[GIN] 2025/05/13 - 13:32:50 | 200 | 32.679723163s |       127.0.0.1 | POST     \"/api/chat\"\n"
     ]
    },
    {
     "name": "stderr",
     "output_type": "stream",
     "text": [
      "time=2025-05-13T13:32:51.033Z level=WARN source=ggml.go:152 msg=\"key not found\" key=general.alignment default=32\n"
     ]
    },
    {
     "name": "stdout",
     "output_type": "stream",
     "text": [
      "[GIN] 2025/05/13 - 13:33:02 | 200 | 23.047041915s |       127.0.0.1 | POST     \"/api/chat\"\n"
     ]
    },
    {
     "name": "stderr",
     "output_type": "stream",
     "text": [
      "time=2025-05-13T13:33:02.457Z level=WARN source=ggml.go:152 msg=\"key not found\" key=general.alignment default=32\n",
      "time=2025-05-13T13:33:02.461Z level=WARN source=ggml.go:152 msg=\"key not found\" key=general.alignment default=32\n",
      "time=2025-05-13T13:33:02.463Z level=WARN source=ggml.go:152 msg=\"key not found\" key=general.alignment default=32\n"
     ]
    },
    {
     "name": "stdout",
     "output_type": "stream",
     "text": [
      "[GIN] 2025/05/13 - 13:33:03 | 200 |  22.84124004s |       127.0.0.1 | POST     \"/api/chat\"\n"
     ]
    },
    {
     "name": "stderr",
     "output_type": "stream",
     "text": [
      "time=2025-05-13T13:33:03.826Z level=WARN source=ggml.go:152 msg=\"key not found\" key=general.alignment default=32\n"
     ]
    },
    {
     "name": "stdout",
     "output_type": "stream",
     "text": [
      "[GIN] 2025/05/13 - 13:33:06 | 200 | 22.519866824s |       127.0.0.1 | POST     \"/api/chat\"\n"
     ]
    },
    {
     "name": "stderr",
     "output_type": "stream",
     "text": [
      "time=2025-05-13T13:33:06.329Z level=WARN source=ggml.go:152 msg=\"key not found\" key=general.alignment default=32\n"
     ]
    },
    {
     "name": "stdout",
     "output_type": "stream",
     "text": [
      "[GIN] 2025/05/13 - 13:33:07 | 200 |  5.579449838s |       127.0.0.1 | POST     \"/api/chat\"\n",
      "[GIN] 2025/05/13 - 13:33:09 | 200 |  6.740592772s |       127.0.0.1 | POST     \"/api/chat\"\n",
      "[GIN] 2025/05/13 - 13:33:10 | 200 |  8.008042924s |       127.0.0.1 | POST     \"/api/chat\"\n"
     ]
    },
    {
     "name": "stderr",
     "output_type": "stream",
     "text": [
      "time=2025-05-13T13:33:10.461Z level=WARN source=ggml.go:152 msg=\"key not found\" key=general.alignment default=32\n"
     ]
    },
    {
     "name": "stdout",
     "output_type": "stream",
     "text": [
      "[GIN] 2025/05/13 - 13:33:13 | 200 | 10.101319643s |       127.0.0.1 | POST     \"/api/chat\"\n"
     ]
    },
    {
     "name": "stderr",
     "output_type": "stream",
     "text": [
      "time=2025-05-13T13:33:13.933Z level=WARN source=ggml.go:152 msg=\"key not found\" key=general.alignment default=32\n"
     ]
    },
    {
     "name": "stdout",
     "output_type": "stream",
     "text": [
      "[GIN] 2025/05/13 - 13:33:18 | 200 | 27.511892228s |       127.0.0.1 | POST     \"/api/chat\"\n"
     ]
    },
    {
     "name": "stderr",
     "output_type": "stream",
     "text": [
      "time=2025-05-13T13:33:18.545Z level=WARN source=ggml.go:152 msg=\"key not found\" key=general.alignment default=32\n"
     ]
    },
    {
     "name": "stdout",
     "output_type": "stream",
     "text": [
      "[GIN] 2025/05/13 - 13:33:22 | 200 | 11.722857494s |       127.0.0.1 | POST     \"/api/chat\"\n"
     ]
    },
    {
     "name": "stderr",
     "output_type": "stream",
     "text": [
      "time=2025-05-13T13:33:22.188Z level=WARN source=ggml.go:152 msg=\"key not found\" key=general.alignment default=32\n"
     ]
    },
    {
     "name": "stdout",
     "output_type": "stream",
     "text": [
      "[GIN] 2025/05/13 - 13:33:27 | 200 | 20.923043114s |       127.0.0.1 | POST     \"/api/chat\"\n"
     ]
    },
    {
     "name": "stderr",
     "output_type": "stream",
     "text": [
      "time=2025-05-13T13:33:27.257Z level=WARN source=ggml.go:152 msg=\"key not found\" key=general.alignment default=32\n"
     ]
    },
    {
     "name": "stdout",
     "output_type": "stream",
     "text": [
      "[GIN] 2025/05/13 - 13:33:38 | 200 | 24.318705683s |       127.0.0.1 | POST     \"/api/chat\"\n"
     ]
    },
    {
     "name": "stderr",
     "output_type": "stream",
     "text": [
      "time=2025-05-13T13:33:38.265Z level=WARN source=ggml.go:152 msg=\"key not found\" key=general.alignment default=32\n"
     ]
    },
    {
     "name": "stdout",
     "output_type": "stream",
     "text": [
      "[GIN] 2025/05/13 - 13:33:47 | 200 |  24.91765664s |       127.0.0.1 | POST     \"/api/chat\"\n"
     ]
    },
    {
     "name": "stderr",
     "output_type": "stream",
     "text": [
      "time=2025-05-13T13:33:47.112Z level=WARN source=ggml.go:152 msg=\"key not found\" key=general.alignment default=32\n"
     ]
    },
    {
     "name": "stdout",
     "output_type": "stream",
     "text": [
      "[GIN] 2025/05/13 - 13:33:48 | 200 | 29.834352634s |       127.0.0.1 | POST     \"/api/chat\"\n"
     ]
    },
    {
     "name": "stderr",
     "output_type": "stream",
     "text": [
      "time=2025-05-13T13:33:48.385Z level=WARN source=ggml.go:152 msg=\"key not found\" key=general.alignment default=32\n"
     ]
    },
    {
     "name": "stdout",
     "output_type": "stream",
     "text": [
      "[GIN] 2025/05/13 - 13:33:51 | 200 | 12.907497093s |       127.0.0.1 | POST     \"/api/chat\"\n"
     ]
    },
    {
     "name": "stderr",
     "output_type": "stream",
     "text": [
      "time=2025-05-13T13:33:51.189Z level=WARN source=ggml.go:152 msg=\"key not found\" key=general.alignment default=32\n"
     ]
    },
    {
     "name": "stdout",
     "output_type": "stream",
     "text": [
      "[GIN] 2025/05/13 - 13:33:54 | 200 |   7.03132635s |       127.0.0.1 | POST     \"/api/chat\"\n"
     ]
    },
    {
     "name": "stderr",
     "output_type": "stream",
     "text": [
      "time=2025-05-13T13:33:54.148Z level=WARN source=ggml.go:152 msg=\"key not found\" key=general.alignment default=32\n"
     ]
    },
    {
     "name": "stdout",
     "output_type": "stream",
     "text": [
      "[GIN] 2025/05/13 - 13:33:58 | 200 | 31.530516812s |       127.0.0.1 | POST     \"/api/chat\"\n"
     ]
    },
    {
     "name": "stderr",
     "output_type": "stream",
     "text": [
      "time=2025-05-13T13:33:58.794Z level=WARN source=ggml.go:152 msg=\"key not found\" key=general.alignment default=32\n"
     ]
    },
    {
     "name": "stdout",
     "output_type": "stream",
     "text": [
      "[GIN] 2025/05/13 - 13:34:01 | 200 | 10.437834767s |       127.0.0.1 | POST     \"/api/chat\"\n"
     ]
    },
    {
     "name": "stderr",
     "output_type": "stream",
     "text": [
      "time=2025-05-13T13:34:01.620Z level=WARN source=ggml.go:152 msg=\"key not found\" key=general.alignment default=32\n"
     ]
    },
    {
     "name": "stdout",
     "output_type": "stream",
     "text": [
      "[GIN] 2025/05/13 - 13:34:09 | 200 | 20.770406123s |       127.0.0.1 | POST     \"/api/chat\"\n"
     ]
    },
    {
     "name": "stderr",
     "output_type": "stream",
     "text": [
      "time=2025-05-13T13:34:09.161Z level=WARN source=ggml.go:152 msg=\"key not found\" key=general.alignment default=32\n"
     ]
    },
    {
     "name": "stdout",
     "output_type": "stream",
     "text": [
      "[GIN] 2025/05/13 - 13:34:11 | 200 | 17.230993529s |       127.0.0.1 | POST     \"/api/chat\"\n"
     ]
    },
    {
     "name": "stderr",
     "output_type": "stream",
     "text": [
      "time=2025-05-13T13:34:11.391Z level=WARN source=ggml.go:152 msg=\"key not found\" key=general.alignment default=32\n"
     ]
    },
    {
     "name": "stdout",
     "output_type": "stream",
     "text": [
      "[GIN] 2025/05/13 - 13:34:14 | 200 | 12.748803497s |       127.0.0.1 | POST     \"/api/chat\"\n"
     ]
    },
    {
     "name": "stderr",
     "output_type": "stream",
     "text": [
      "time=2025-05-13T13:34:14.380Z level=WARN source=ggml.go:152 msg=\"key not found\" key=general.alignment default=32\n"
     ]
    },
    {
     "name": "stdout",
     "output_type": "stream",
     "text": [
      "[GIN] 2025/05/13 - 13:34:19 | 200 | 21.060972393s |       127.0.0.1 | POST     \"/api/chat\"\n"
     ]
    },
    {
     "name": "stderr",
     "output_type": "stream",
     "text": [
      "time=2025-05-13T13:34:19.861Z level=WARN source=ggml.go:152 msg=\"key not found\" key=general.alignment default=32\n"
     ]
    },
    {
     "name": "stdout",
     "output_type": "stream",
     "text": [
      "[GIN] 2025/05/13 - 13:34:29 | 200 |  17.64480518s |       127.0.0.1 | POST     \"/api/chat\"\n"
     ]
    },
    {
     "name": "stderr",
     "output_type": "stream",
     "text": [
      "time=2025-05-13T13:34:29.042Z level=WARN source=ggml.go:152 msg=\"key not found\" key=general.alignment default=32\n"
     ]
    },
    {
     "name": "stdout",
     "output_type": "stream",
     "text": [
      "[GIN] 2025/05/13 - 13:34:32 | 200 | 17.981256023s |       127.0.0.1 | POST     \"/api/chat\"\n"
     ]
    },
    {
     "name": "stderr",
     "output_type": "stream",
     "text": [
      "time=2025-05-13T13:34:32.362Z level=WARN source=ggml.go:152 msg=\"key not found\" key=general.alignment default=32\n"
     ]
    },
    {
     "name": "stdout",
     "output_type": "stream",
     "text": [
      "[GIN] 2025/05/13 - 13:34:40 | 200 | 31.846607515s |       127.0.0.1 | POST     \"/api/chat\"\n"
     ]
    },
    {
     "name": "stderr",
     "output_type": "stream",
     "text": [
      "time=2025-05-13T13:34:41.016Z level=WARN source=ggml.go:152 msg=\"key not found\" key=general.alignment default=32\n"
     ]
    },
    {
     "name": "stdout",
     "output_type": "stream",
     "text": [
      "[GIN] 2025/05/13 - 13:34:42 | 200 | 22.452515351s |       127.0.0.1 | POST     \"/api/chat\"\n"
     ]
    },
    {
     "name": "stderr",
     "output_type": "stream",
     "text": [
      "time=2025-05-13T13:34:42.320Z level=WARN source=ggml.go:152 msg=\"key not found\" key=general.alignment default=32\n"
     ]
    },
    {
     "name": "stdout",
     "output_type": "stream",
     "text": [
      "[GIN] 2025/05/13 - 13:34:43 | 200 | 14.274837858s |       127.0.0.1 | POST     \"/api/chat\"\n"
     ]
    },
    {
     "name": "stderr",
     "output_type": "stream",
     "text": [
      "time=2025-05-13T13:34:43.325Z level=WARN source=ggml.go:152 msg=\"key not found\" key=general.alignment default=32\n"
     ]
    },
    {
     "name": "stdout",
     "output_type": "stream",
     "text": [
      "[GIN] 2025/05/13 - 13:34:46 | 200 | 14.161554651s |       127.0.0.1 | POST     \"/api/chat\"\n"
     ]
    },
    {
     "name": "stderr",
     "output_type": "stream",
     "text": [
      "time=2025-05-13T13:34:46.542Z level=WARN source=ggml.go:152 msg=\"key not found\" key=general.alignment default=32\n"
     ]
    },
    {
     "name": "stdout",
     "output_type": "stream",
     "text": [
      "[GIN] 2025/05/13 - 13:34:56 | 200 | 14.328014665s |       127.0.0.1 | POST     \"/api/chat\"\n"
     ]
    },
    {
     "name": "stderr",
     "output_type": "stream",
     "text": [
      "time=2025-05-13T13:34:56.661Z level=WARN source=ggml.go:152 msg=\"key not found\" key=general.alignment default=32\n"
     ]
    },
    {
     "name": "stdout",
     "output_type": "stream",
     "text": [
      "[GIN] 2025/05/13 - 13:35:01 | 200 | 20.033554803s |       127.0.0.1 | POST     \"/api/chat\"\n"
     ]
    },
    {
     "name": "stderr",
     "output_type": "stream",
     "text": [
      "time=2025-05-13T13:35:01.056Z level=WARN source=ggml.go:152 msg=\"key not found\" key=general.alignment default=32\n"
     ]
    },
    {
     "name": "stdout",
     "output_type": "stream",
     "text": [
      "[GIN] 2025/05/13 - 13:35:02 | 200 | 19.282611416s |       127.0.0.1 | POST     \"/api/chat\"\n"
     ]
    },
    {
     "name": "stderr",
     "output_type": "stream",
     "text": [
      "time=2025-05-13T13:35:02.634Z level=WARN source=ggml.go:152 msg=\"key not found\" key=general.alignment default=32\n",
      "time=2025-05-13T13:35:02.635Z level=WARN source=ggml.go:152 msg=\"key not found\" key=general.alignment default=32\n",
      "time=2025-05-13T13:35:02.638Z level=WARN source=ggml.go:152 msg=\"key not found\" key=general.alignment default=32\n"
     ]
    },
    {
     "name": "stdout",
     "output_type": "stream",
     "text": [
      "[GIN] 2025/05/13 - 13:35:05 | 200 | 18.676140472s |       127.0.0.1 | POST     \"/api/chat\"\n"
     ]
    },
    {
     "name": "stderr",
     "output_type": "stream",
     "text": [
      "time=2025-05-13T13:35:05.215Z level=WARN source=ggml.go:152 msg=\"key not found\" key=general.alignment default=32\n"
     ]
    },
    {
     "name": "stdout",
     "output_type": "stream",
     "text": [
      "[GIN] 2025/05/13 - 13:35:13 | 200 | 16.764419653s |       127.0.0.1 | POST     \"/api/chat\"\n"
     ]
    },
    {
     "name": "stderr",
     "output_type": "stream",
     "text": [
      "time=2025-05-13T13:35:13.427Z level=WARN source=ggml.go:152 msg=\"key not found\" key=general.alignment default=32\n"
     ]
    },
    {
     "name": "stdout",
     "output_type": "stream",
     "text": [
      "[GIN] 2025/05/13 - 13:35:15 | 200 | 14.037307073s |       127.0.0.1 | POST     \"/api/chat\"\n",
      "[GIN] 2025/05/13 - 13:35:15 | 200 | 12.516493599s |       127.0.0.1 | POST     \"/api/chat\"\n"
     ]
    },
    {
     "name": "stderr",
     "output_type": "stream",
     "text": [
      "time=2025-05-13T13:35:15.103Z level=WARN source=ggml.go:152 msg=\"key not found\" key=general.alignment default=32\n"
     ]
    },
    {
     "name": "stdout",
     "output_type": "stream",
     "text": [
      "[GIN] 2025/05/13 - 13:35:16 | 200 | 14.152794653s |       127.0.0.1 | POST     \"/api/chat\"\n",
      "[GIN] 2025/05/13 - 13:35:17 | 200 |  14.96981918s |       127.0.0.1 | POST     \"/api/chat\"\n"
     ]
    },
    {
     "name": "stderr",
     "output_type": "stream",
     "text": [
      "time=2025-05-13T13:35:17.602Z level=WARN source=ggml.go:152 msg=\"key not found\" key=general.alignment default=32\n"
     ]
    },
    {
     "name": "stdout",
     "output_type": "stream",
     "text": [
      "[GIN] 2025/05/13 - 13:35:21 | 200 | 16.465428329s |       127.0.0.1 | POST     \"/api/chat\"\n"
     ]
    },
    {
     "name": "stderr",
     "output_type": "stream",
     "text": [
      "time=2025-05-13T13:35:21.686Z level=WARN source=ggml.go:152 msg=\"key not found\" key=general.alignment default=32\n"
     ]
    },
    {
     "name": "stdout",
     "output_type": "stream",
     "text": [
      "[GIN] 2025/05/13 - 13:35:24 | 200 |  9.907181222s |       127.0.0.1 | POST     \"/api/chat\"\n"
     ]
    },
    {
     "name": "stderr",
     "output_type": "stream",
     "text": [
      "time=2025-05-13T13:35:25.056Z level=WARN source=ggml.go:152 msg=\"key not found\" key=general.alignment default=32\n"
     ]
    },
    {
     "name": "stdout",
     "output_type": "stream",
     "text": [
      "[GIN] 2025/05/13 - 13:35:27 | 200 | 14.047730459s |       127.0.0.1 | POST     \"/api/chat\"\n"
     ]
    },
    {
     "name": "stderr",
     "output_type": "stream",
     "text": [
      "time=2025-05-13T13:35:27.487Z level=WARN source=ggml.go:152 msg=\"key not found\" key=general.alignment default=32\n"
     ]
    },
    {
     "name": "stdout",
     "output_type": "stream",
     "text": [
      "[GIN] 2025/05/13 - 13:35:29 | 200 |  11.59615158s |       127.0.0.1 | POST     \"/api/chat\"\n"
     ]
    },
    {
     "name": "stderr",
     "output_type": "stream",
     "text": [
      "time=2025-05-13T13:35:29.202Z level=WARN source=ggml.go:152 msg=\"key not found\" key=general.alignment default=32\n"
     ]
    },
    {
     "name": "stdout",
     "output_type": "stream",
     "text": [
      "[GIN] 2025/05/13 - 13:35:38 | 200 | 17.181625848s |       127.0.0.1 | POST     \"/api/chat\"\n"
     ]
    },
    {
     "name": "stderr",
     "output_type": "stream",
     "text": [
      "time=2025-05-13T13:35:38.871Z level=WARN source=ggml.go:152 msg=\"key not found\" key=general.alignment default=32\n"
     ]
    },
    {
     "name": "stdout",
     "output_type": "stream",
     "text": [
      "[GIN] 2025/05/13 - 13:35:44 | 200 | 19.366954123s |       127.0.0.1 | POST     \"/api/chat\"\n"
     ]
    },
    {
     "name": "stderr",
     "output_type": "stream",
     "text": [
      "time=2025-05-13T13:35:44.408Z level=WARN source=ggml.go:152 msg=\"key not found\" key=general.alignment default=32\n"
     ]
    },
    {
     "name": "stdout",
     "output_type": "stream",
     "text": [
      "[GIN] 2025/05/13 - 13:35:47 | 200 |  20.10213511s |       127.0.0.1 | POST     \"/api/chat\"\n"
     ]
    },
    {
     "name": "stderr",
     "output_type": "stream",
     "text": [
      "time=2025-05-13T13:35:47.594Z level=WARN source=ggml.go:152 msg=\"key not found\" key=general.alignment default=32\n"
     ]
    },
    {
     "name": "stdout",
     "output_type": "stream",
     "text": [
      "[GIN] 2025/05/13 - 13:35:58 | 200 | 28.875927624s |       127.0.0.1 | POST     \"/api/chat\"\n"
     ]
    },
    {
     "name": "stderr",
     "output_type": "stream",
     "text": [
      "time=2025-05-13T13:35:58.093Z level=WARN source=ggml.go:152 msg=\"key not found\" key=general.alignment default=32\n"
     ]
    },
    {
     "name": "stdout",
     "output_type": "stream",
     "text": [
      "[GIN] 2025/05/13 - 13:35:59 | 200 | 20.416207229s |       127.0.0.1 | POST     \"/api/chat\"\n"
     ]
    },
    {
     "name": "stderr",
     "output_type": "stream",
     "text": [
      "time=2025-05-13T13:35:59.303Z level=WARN source=ggml.go:152 msg=\"key not found\" key=general.alignment default=32\n"
     ]
    },
    {
     "name": "stdout",
     "output_type": "stream",
     "text": [
      "[GIN] 2025/05/13 - 13:36:02 | 200 |  17.75838856s |       127.0.0.1 | POST     \"/api/chat\"\n"
     ]
    },
    {
     "name": "stderr",
     "output_type": "stream",
     "text": [
      "time=2025-05-13T13:36:02.167Z level=WARN source=ggml.go:152 msg=\"key not found\" key=general.alignment default=32\n"
     ]
    },
    {
     "name": "stdout",
     "output_type": "stream",
     "text": [
      "[GIN] 2025/05/13 - 13:36:05 | 200 |  6.967217389s |       127.0.0.1 | POST     \"/api/chat\"\n"
     ]
    },
    {
     "name": "stderr",
     "output_type": "stream",
     "text": [
      "time=2025-05-13T13:36:05.076Z level=WARN source=ggml.go:152 msg=\"key not found\" key=general.alignment default=32\n"
     ]
    },
    {
     "name": "stdout",
     "output_type": "stream",
     "text": [
      "[GIN] 2025/05/13 - 13:36:10 | 200 | 23.327651453s |       127.0.0.1 | POST     \"/api/chat\"\n"
     ]
    },
    {
     "name": "stderr",
     "output_type": "stream",
     "text": [
      "time=2025-05-13T13:36:10.926Z level=WARN source=ggml.go:152 msg=\"key not found\" key=general.alignment default=32\n"
     ]
    },
    {
     "name": "stdout",
     "output_type": "stream",
     "text": [
      "[GIN] 2025/05/13 - 13:36:14 | 200 | 12.707802192s |       127.0.0.1 | POST     \"/api/chat\"\n"
     ]
    },
    {
     "name": "stderr",
     "output_type": "stream",
     "text": [
      "time=2025-05-13T13:36:14.881Z level=WARN source=ggml.go:152 msg=\"key not found\" key=general.alignment default=32\n"
     ]
    },
    {
     "name": "stdout",
     "output_type": "stream",
     "text": [
      "[GIN] 2025/05/13 - 13:36:18 | 200 | 19.090991219s |       127.0.0.1 | POST     \"/api/chat\"\n"
     ]
    },
    {
     "name": "stderr",
     "output_type": "stream",
     "text": [
      "time=2025-05-13T13:36:18.400Z level=WARN source=ggml.go:152 msg=\"key not found\" key=general.alignment default=32\n"
     ]
    },
    {
     "name": "stdout",
     "output_type": "stream",
     "text": [
      "[GIN] 2025/05/13 - 13:36:25 | 200 | 20.462453875s |       127.0.0.1 | POST     \"/api/chat\"\n"
     ]
    },
    {
     "name": "stderr",
     "output_type": "stream",
     "text": [
      "time=2025-05-13T13:36:25.534Z level=WARN source=ggml.go:152 msg=\"key not found\" key=general.alignment default=32\n"
     ]
    },
    {
     "name": "stdout",
     "output_type": "stream",
     "text": [
      "[GIN] 2025/05/13 - 13:36:28 | 200 | 17.143512923s |       127.0.0.1 | POST     \"/api/chat\"\n"
     ]
    },
    {
     "name": "stderr",
     "output_type": "stream",
     "text": [
      "time=2025-05-13T13:36:28.089Z level=WARN source=ggml.go:152 msg=\"key not found\" key=general.alignment default=32\n"
     ]
    },
    {
     "name": "stdout",
     "output_type": "stream",
     "text": [
      "[GIN] 2025/05/13 - 13:36:29 | 200 |  14.48075528s |       127.0.0.1 | POST     \"/api/chat\"\n"
     ]
    },
    {
     "name": "stderr",
     "output_type": "stream",
     "text": [
      "time=2025-05-13T13:36:29.377Z level=WARN source=ggml.go:152 msg=\"key not found\" key=general.alignment default=32\n"
     ]
    },
    {
     "name": "stdout",
     "output_type": "stream",
     "text": [
      "[GIN] 2025/05/13 - 13:36:39 | 200 |  14.26113674s |       127.0.0.1 | POST     \"/api/chat\"\n"
     ]
    },
    {
     "name": "stderr",
     "output_type": "stream",
     "text": [
      "time=2025-05-13T13:36:39.801Z level=WARN source=ggml.go:152 msg=\"key not found\" key=general.alignment default=32\n"
     ]
    },
    {
     "name": "stdout",
     "output_type": "stream",
     "text": [
      "[GIN] 2025/05/13 - 13:36:45 | 200 | 26.699115735s |       127.0.0.1 | POST     \"/api/chat\"\n"
     ]
    },
    {
     "name": "stderr",
     "output_type": "stream",
     "text": [
      "time=2025-05-13T13:36:45.102Z level=WARN source=ggml.go:152 msg=\"key not found\" key=general.alignment default=32\n"
     ]
    },
    {
     "name": "stdout",
     "output_type": "stream",
     "text": [
      "[GIN] 2025/05/13 - 13:36:48 | 200 | 19.180894337s |       127.0.0.1 | POST     \"/api/chat\"\n"
     ]
    },
    {
     "name": "stderr",
     "output_type": "stream",
     "text": [
      "time=2025-05-13T13:36:48.553Z level=WARN source=ggml.go:152 msg=\"key not found\" key=general.alignment default=32\n"
     ]
    },
    {
     "name": "stdout",
     "output_type": "stream",
     "text": [
      "[GIN] 2025/05/13 - 13:36:50 | 200 | 22.090902702s |       127.0.0.1 | POST     \"/api/chat\"\n"
     ]
    },
    {
     "name": "stderr",
     "output_type": "stream",
     "text": [
      "time=2025-05-13T13:36:50.183Z level=WARN source=ggml.go:152 msg=\"key not found\" key=general.alignment default=32\n"
     ]
    },
    {
     "name": "stdout",
     "output_type": "stream",
     "text": [
      "[GIN] 2025/05/13 - 13:36:51 | 200 | 11.453641582s |       127.0.0.1 | POST     \"/api/chat\"\n"
     ]
    },
    {
     "name": "stderr",
     "output_type": "stream",
     "text": [
      "time=2025-05-13T13:36:51.263Z level=WARN source=ggml.go:152 msg=\"key not found\" key=general.alignment default=32\n"
     ]
    },
    {
     "name": "stdout",
     "output_type": "stream",
     "text": [
      "[GIN] 2025/05/13 - 13:36:54 | 200 |  5.727476181s |       127.0.0.1 | POST     \"/api/chat\"\n"
     ]
    },
    {
     "name": "stderr",
     "output_type": "stream",
     "text": [
      "time=2025-05-13T13:36:54.306Z level=WARN source=ggml.go:152 msg=\"key not found\" key=general.alignment default=32\n",
      "time=2025-05-13T13:36:54.312Z level=WARN source=ggml.go:152 msg=\"key not found\" key=general.alignment default=32\n",
      "time=2025-05-13T13:36:54.318Z level=WARN source=ggml.go:152 msg=\"key not found\" key=general.alignment default=32\n"
     ]
    },
    {
     "name": "stdout",
     "output_type": "stream",
     "text": [
      "[GIN] 2025/05/13 - 13:36:59 | 200 |  8.879643509s |       127.0.0.1 | POST     \"/api/chat\"\n"
     ]
    },
    {
     "name": "stderr",
     "output_type": "stream",
     "text": [
      "time=2025-05-13T13:36:59.071Z level=WARN source=ggml.go:152 msg=\"key not found\" key=general.alignment default=32\n"
     ]
    },
    {
     "name": "stdout",
     "output_type": "stream",
     "text": [
      "[GIN] 2025/05/13 - 13:37:04 | 200 | 18.971749645s |       127.0.0.1 | POST     \"/api/chat\"\n"
     ]
    },
    {
     "name": "stderr",
     "output_type": "stream",
     "text": [
      "time=2025-05-13T13:37:04.079Z level=WARN source=ggml.go:152 msg=\"key not found\" key=general.alignment default=32\n"
     ]
    },
    {
     "name": "stdout",
     "output_type": "stream",
     "text": [
      "[GIN] 2025/05/13 - 13:37:05 | 200 | 14.562917833s |       127.0.0.1 | POST     \"/api/chat\"\n"
     ]
    },
    {
     "name": "stderr",
     "output_type": "stream",
     "text": [
      "time=2025-05-13T13:37:05.832Z level=WARN source=ggml.go:152 msg=\"key not found\" key=general.alignment default=32\n"
     ]
    },
    {
     "name": "stdout",
     "output_type": "stream",
     "text": [
      "[GIN] 2025/05/13 - 13:37:06 | 200 | 12.551240627s |       127.0.0.1 | POST     \"/api/chat\"\n",
      "[GIN] 2025/05/13 - 13:37:07 | 200 | 13.517060166s |       127.0.0.1 | POST     \"/api/chat\"\n",
      "[GIN] 2025/05/13 - 13:37:08 | 200 | 14.318720377s |       127.0.0.1 | POST     \"/api/chat\"\n"
     ]
    },
    {
     "name": "stderr",
     "output_type": "stream",
     "text": [
      "time=2025-05-13T13:37:08.627Z level=WARN source=ggml.go:152 msg=\"key not found\" key=general.alignment default=32\n"
     ]
    },
    {
     "name": "stdout",
     "output_type": "stream",
     "text": [
      "[GIN] 2025/05/13 - 13:37:16 | 200 | 17.240891118s |       127.0.0.1 | POST     \"/api/chat\"\n"
     ]
    },
    {
     "name": "stderr",
     "output_type": "stream",
     "text": [
      "time=2025-05-13T13:37:16.306Z level=WARN source=ggml.go:152 msg=\"key not found\" key=general.alignment default=32\n"
     ]
    },
    {
     "name": "stdout",
     "output_type": "stream",
     "text": [
      "[GIN] 2025/05/13 - 13:37:21 | 200 | 17.670939823s |       127.0.0.1 | POST     \"/api/chat\"\n"
     ]
    },
    {
     "name": "stderr",
     "output_type": "stream",
     "text": [
      "time=2025-05-13T13:37:21.761Z level=WARN source=ggml.go:152 msg=\"key not found\" key=general.alignment default=32\n"
     ]
    },
    {
     "name": "stdout",
     "output_type": "stream",
     "text": [
      "[GIN] 2025/05/13 - 13:37:23 | 200 | 17.626911584s |       127.0.0.1 | POST     \"/api/chat\"\n"
     ]
    },
    {
     "name": "stderr",
     "output_type": "stream",
     "text": [
      "time=2025-05-13T13:37:23.465Z level=WARN source=ggml.go:152 msg=\"key not found\" key=general.alignment default=32\n"
     ]
    },
    {
     "name": "stdout",
     "output_type": "stream",
     "text": [
      "[GIN] 2025/05/13 - 13:37:29 | 200 | 20.916948023s |       127.0.0.1 | POST     \"/api/chat\"\n"
     ]
    },
    {
     "name": "stderr",
     "output_type": "stream",
     "text": [
      "time=2025-05-13T13:37:29.549Z level=WARN source=ggml.go:152 msg=\"key not found\" key=general.alignment default=32\n"
     ]
    },
    {
     "name": "stdout",
     "output_type": "stream",
     "text": [
      "[GIN] 2025/05/13 - 13:37:39 | 200 |  23.33124167s |       127.0.0.1 | POST     \"/api/chat\"\n"
     ]
    },
    {
     "name": "stderr",
     "output_type": "stream",
     "text": [
      "time=2025-05-13T13:37:39.656Z level=WARN source=ggml.go:152 msg=\"key not found\" key=general.alignment default=32\n"
     ]
    },
    {
     "name": "stdout",
     "output_type": "stream",
     "text": [
      "[GIN] 2025/05/13 - 13:37:41 | 200 | 19.643775615s |       127.0.0.1 | POST     \"/api/chat\"\n"
     ]
    },
    {
     "name": "stderr",
     "output_type": "stream",
     "text": [
      "time=2025-05-13T13:37:41.415Z level=WARN source=ggml.go:152 msg=\"key not found\" key=general.alignment default=32\n"
     ]
    },
    {
     "name": "stdout",
     "output_type": "stream",
     "text": [
      "[GIN] 2025/05/13 - 13:38:03 | 200 | 33.745215407s |       127.0.0.1 | POST     \"/api/chat\"\n"
     ]
    },
    {
     "name": "stderr",
     "output_type": "stream",
     "text": [
      "time=2025-05-13T13:38:03.299Z level=WARN source=ggml.go:152 msg=\"key not found\" key=general.alignment default=32\n"
     ]
    },
    {
     "name": "stdout",
     "output_type": "stream",
     "text": [
      "[GIN] 2025/05/13 - 13:38:03 | 200 | 40.413322611s |       127.0.0.1 | POST     \"/api/chat\"\n"
     ]
    },
    {
     "name": "stderr",
     "output_type": "stream",
     "text": [
      "time=2025-05-13T13:38:03.896Z level=WARN source=ggml.go:152 msg=\"key not found\" key=general.alignment default=32\n"
     ]
    },
    {
     "name": "stdout",
     "output_type": "stream",
     "text": [
      "[GIN] 2025/05/13 - 13:38:16 | 200 | 35.465270228s |       127.0.0.1 | POST     \"/api/chat\"\n"
     ]
    },
    {
     "name": "stderr",
     "output_type": "stream",
     "text": [
      "time=2025-05-13T13:38:16.885Z level=WARN source=ggml.go:152 msg=\"key not found\" key=general.alignment default=32\n"
     ]
    },
    {
     "name": "stdout",
     "output_type": "stream",
     "text": [
      "[GIN] 2025/05/13 - 13:38:20 | 200 | 17.532672652s |       127.0.0.1 | POST     \"/api/chat\"\n"
     ]
    },
    {
     "name": "stderr",
     "output_type": "stream",
     "text": [
      "time=2025-05-13T13:38:20.840Z level=WARN source=ggml.go:152 msg=\"key not found\" key=general.alignment default=32\n"
     ]
    },
    {
     "name": "stdout",
     "output_type": "stream",
     "text": [
      "[GIN] 2025/05/13 - 13:38:24 | 200 |   20.6372445s |       127.0.0.1 | POST     \"/api/chat\"\n"
     ]
    },
    {
     "name": "stderr",
     "output_type": "stream",
     "text": [
      "time=2025-05-13T13:38:24.541Z level=WARN source=ggml.go:152 msg=\"key not found\" key=general.alignment default=32\n"
     ]
    },
    {
     "name": "stdout",
     "output_type": "stream",
     "text": [
      "[GIN] 2025/05/13 - 13:38:28 | 200 | 48.803320432s |       127.0.0.1 | POST     \"/api/chat\"\n"
     ]
    },
    {
     "name": "stderr",
     "output_type": "stream",
     "text": [
      "time=2025-05-13T13:38:28.455Z level=WARN source=ggml.go:152 msg=\"key not found\" key=general.alignment default=32\n"
     ]
    },
    {
     "name": "stdout",
     "output_type": "stream",
     "text": [
      "[GIN] 2025/05/13 - 13:38:35 | 200 | 18.230596253s |       127.0.0.1 | POST     \"/api/chat\"\n"
     ]
    },
    {
     "name": "stderr",
     "output_type": "stream",
     "text": [
      "time=2025-05-13T13:38:35.114Z level=WARN source=ggml.go:152 msg=\"key not found\" key=general.alignment default=32\n"
     ]
    },
    {
     "name": "stdout",
     "output_type": "stream",
     "text": [
      "[GIN] 2025/05/13 - 13:38:38 | 200 | 13.968462843s |       127.0.0.1 | POST     \"/api/chat\"\n"
     ]
    },
    {
     "name": "stderr",
     "output_type": "stream",
     "text": [
      "time=2025-05-13T13:38:38.517Z level=WARN source=ggml.go:152 msg=\"key not found\" key=general.alignment default=32\n"
     ]
    },
    {
     "name": "stdout",
     "output_type": "stream",
     "text": [
      "[GIN] 2025/05/13 - 13:38:43 | 200 | 22.252788062s |       127.0.0.1 | POST     \"/api/chat\"\n"
     ]
    },
    {
     "name": "stderr",
     "output_type": "stream",
     "text": [
      "time=2025-05-13T13:38:43.109Z level=WARN source=ggml.go:152 msg=\"key not found\" key=general.alignment default=32\n"
     ]
    },
    {
     "name": "stdout",
     "output_type": "stream",
     "text": [
      "[GIN] 2025/05/13 - 13:38:55 | 200 | 26.734976045s |       127.0.0.1 | POST     \"/api/chat\"\n"
     ]
    },
    {
     "name": "stderr",
     "output_type": "stream",
     "text": [
      "time=2025-05-13T13:38:55.197Z level=WARN source=ggml.go:152 msg=\"key not found\" key=general.alignment default=32\n"
     ]
    },
    {
     "name": "stdout",
     "output_type": "stream",
     "text": [
      "[GIN] 2025/05/13 - 13:38:57 | 200 | 21.931370056s |       127.0.0.1 | POST     \"/api/chat\"\n"
     ]
    },
    {
     "name": "stderr",
     "output_type": "stream",
     "text": [
      "time=2025-05-13T13:38:57.060Z level=WARN source=ggml.go:152 msg=\"key not found\" key=general.alignment default=32\n"
     ]
    },
    {
     "name": "stdout",
     "output_type": "stream",
     "text": [
      "[GIN] 2025/05/13 - 13:39:00 | 200 | 22.395780622s |       127.0.0.1 | POST     \"/api/chat\"\n"
     ]
    },
    {
     "name": "stderr",
     "output_type": "stream",
     "text": [
      "time=2025-05-13T13:39:00.911Z level=WARN source=ggml.go:152 msg=\"key not found\" key=general.alignment default=32\n"
     ]
    },
    {
     "name": "stdout",
     "output_type": "stream",
     "text": [
      "[GIN] 2025/05/13 - 13:39:06 | 200 | 23.747941814s |       127.0.0.1 | POST     \"/api/chat\"\n"
     ]
    },
    {
     "name": "stderr",
     "output_type": "stream",
     "text": [
      "time=2025-05-13T13:39:06.857Z level=WARN source=ggml.go:152 msg=\"key not found\" key=general.alignment default=32\n"
     ]
    },
    {
     "name": "stdout",
     "output_type": "stream",
     "text": [
      "[GIN] 2025/05/13 - 13:39:08 | 200 | 11.853971681s |       127.0.0.1 | POST     \"/api/chat\"\n"
     ]
    },
    {
     "name": "stderr",
     "output_type": "stream",
     "text": [
      "time=2025-05-13T13:39:08.913Z level=WARN source=ggml.go:152 msg=\"key not found\" key=general.alignment default=32\n"
     ]
    },
    {
     "name": "stdout",
     "output_type": "stream",
     "text": [
      "[GIN] 2025/05/13 - 13:39:12 | 200 | 11.694107088s |       127.0.0.1 | POST     \"/api/chat\"\n"
     ]
    },
    {
     "name": "stderr",
     "output_type": "stream",
     "text": [
      "time=2025-05-13T13:39:12.614Z level=WARN source=ggml.go:152 msg=\"key not found\" key=general.alignment default=32\n"
     ]
    },
    {
     "name": "stdout",
     "output_type": "stream",
     "text": [
      "[GIN] 2025/05/13 - 13:39:17 | 200 | 10.316203759s |       127.0.0.1 | POST     \"/api/chat\"\n"
     ]
    },
    {
     "name": "stderr",
     "output_type": "stream",
     "text": [
      "time=2025-05-13T13:39:17.182Z level=WARN source=ggml.go:152 msg=\"key not found\" key=general.alignment default=32\n"
     ]
    },
    {
     "name": "stdout",
     "output_type": "stream",
     "text": [
      "[GIN] 2025/05/13 - 13:39:21 | 200 | 12.317553897s |       127.0.0.1 | POST     \"/api/chat\"\n"
     ]
    },
    {
     "name": "stderr",
     "output_type": "stream",
     "text": [
      "time=2025-05-13T13:39:21.262Z level=WARN source=ggml.go:152 msg=\"key not found\" key=general.alignment default=32\n",
      "time=2025-05-13T13:39:21.263Z level=WARN source=ggml.go:152 msg=\"key not found\" key=general.alignment default=32\n",
      "time=2025-05-13T13:39:21.266Z level=WARN source=ggml.go:152 msg=\"key not found\" key=general.alignment default=32\n"
     ]
    },
    {
     "name": "stdout",
     "output_type": "stream",
     "text": [
      "[GIN] 2025/05/13 - 13:39:25 | 200 | 12.482891378s |       127.0.0.1 | POST     \"/api/chat\"\n"
     ]
    },
    {
     "name": "stderr",
     "output_type": "stream",
     "text": [
      "time=2025-05-13T13:39:25.104Z level=WARN source=ggml.go:152 msg=\"key not found\" key=general.alignment default=32\n"
     ]
    },
    {
     "name": "stdout",
     "output_type": "stream",
     "text": [
      "[GIN] 2025/05/13 - 13:39:29 | 200 | 12.664037761s |       127.0.0.1 | POST     \"/api/chat\"\n"
     ]
    },
    {
     "name": "stderr",
     "output_type": "stream",
     "text": [
      "time=2025-05-13T13:39:29.848Z level=WARN source=ggml.go:152 msg=\"key not found\" key=general.alignment default=32\n"
     ]
    },
    {
     "name": "stdout",
     "output_type": "stream",
     "text": [
      "[GIN] 2025/05/13 - 13:39:31 | 200 | 35.956357971s |       127.0.0.1 | POST     \"/api/chat\"\n"
     ]
    },
    {
     "name": "stderr",
     "output_type": "stream",
     "text": [
      "time=2025-05-13T13:39:31.165Z level=WARN source=ggml.go:152 msg=\"key not found\" key=general.alignment default=32\n"
     ]
    },
    {
     "name": "stdout",
     "output_type": "stream",
     "text": [
      "[GIN] 2025/05/13 - 13:39:32 | 200 | 11.209539176s |       127.0.0.1 | POST     \"/api/chat\"\n",
      "[GIN] 2025/05/13 - 13:39:33 | 200 | 11.878803537s |       127.0.0.1 | POST     \"/api/chat\"\n",
      "[GIN] 2025/05/13 - 13:39:34 | 200 | 13.252360784s |       127.0.0.1 | POST     \"/api/chat\"\n"
     ]
    },
    {
     "name": "stderr",
     "output_type": "stream",
     "text": [
      "time=2025-05-13T13:39:34.516Z level=WARN source=ggml.go:152 msg=\"key not found\" key=general.alignment default=32\n"
     ]
    },
    {
     "name": "stdout",
     "output_type": "stream",
     "text": [
      "[GIN] 2025/05/13 - 13:39:38 | 200 | 13.687386374s |       127.0.0.1 | POST     \"/api/chat\"\n"
     ]
    },
    {
     "name": "stderr",
     "output_type": "stream",
     "text": [
      "time=2025-05-13T13:39:38.805Z level=WARN source=ggml.go:152 msg=\"key not found\" key=general.alignment default=32\n"
     ]
    },
    {
     "name": "stdout",
     "output_type": "stream",
     "text": [
      "[GIN] 2025/05/13 - 13:39:48 | 200 | 19.106058125s |       127.0.0.1 | POST     \"/api/chat\"\n"
     ]
    },
    {
     "name": "stderr",
     "output_type": "stream",
     "text": [
      "time=2025-05-13T13:39:48.968Z level=WARN source=ggml.go:152 msg=\"key not found\" key=general.alignment default=32\n"
     ]
    },
    {
     "name": "stdout",
     "output_type": "stream",
     "text": [
      "[GIN] 2025/05/13 - 13:39:53 | 200 | 18.818788103s |       127.0.0.1 | POST     \"/api/chat\"\n"
     ]
    },
    {
     "name": "stderr",
     "output_type": "stream",
     "text": [
      "time=2025-05-13T13:39:53.345Z level=WARN source=ggml.go:152 msg=\"key not found\" key=general.alignment default=32\n"
     ]
    },
    {
     "name": "stdout",
     "output_type": "stream",
     "text": [
      "[GIN] 2025/05/13 - 13:40:01 | 200 |  30.61072771s |       127.0.0.1 | POST     \"/api/chat\"\n"
     ]
    },
    {
     "name": "stderr",
     "output_type": "stream",
     "text": [
      "time=2025-05-13T13:40:01.774Z level=WARN source=ggml.go:152 msg=\"key not found\" key=general.alignment default=32\n"
     ]
    },
    {
     "name": "stdout",
     "output_type": "stream",
     "text": [
      "[GIN] 2025/05/13 - 13:40:07 | 200 | 28.987998522s |       127.0.0.1 | POST     \"/api/chat\"\n"
     ]
    },
    {
     "name": "stderr",
     "output_type": "stream",
     "text": [
      "time=2025-05-13T13:40:07.826Z level=WARN source=ggml.go:152 msg=\"key not found\" key=general.alignment default=32\n"
     ]
    },
    {
     "name": "stdout",
     "output_type": "stream",
     "text": [
      "[GIN] 2025/05/13 - 13:40:14 | 200 | 25.148268042s |       127.0.0.1 | POST     \"/api/chat\"\n"
     ]
    },
    {
     "name": "stderr",
     "output_type": "stream",
     "text": [
      "time=2025-05-13T13:40:14.122Z level=WARN source=ggml.go:152 msg=\"key not found\" key=general.alignment default=32\n"
     ]
    },
    {
     "name": "stdout",
     "output_type": "stream",
     "text": [
      "[GIN] 2025/05/13 - 13:40:21 | 200 | 27.917730216s |       127.0.0.1 | POST     \"/api/chat\"\n"
     ]
    },
    {
     "name": "stderr",
     "output_type": "stream",
     "text": [
      "time=2025-05-13T13:40:21.258Z level=WARN source=ggml.go:152 msg=\"key not found\" key=general.alignment default=32\n"
     ]
    },
    {
     "name": "stdout",
     "output_type": "stream",
     "text": [
      "[GIN] 2025/05/13 - 13:40:23 | 200 | 16.048298083s |       127.0.0.1 | POST     \"/api/chat\"\n"
     ]
    },
    {
     "name": "stderr",
     "output_type": "stream",
     "text": [
      "time=2025-05-13T13:40:23.865Z level=WARN source=ggml.go:152 msg=\"key not found\" key=general.alignment default=32\n"
     ]
    },
    {
     "name": "stdout",
     "output_type": "stream",
     "text": [
      "[GIN] 2025/05/13 - 13:40:38 | 200 | 24.059595268s |       127.0.0.1 | POST     \"/api/chat\"\n"
     ]
    },
    {
     "name": "stderr",
     "output_type": "stream",
     "text": [
      "time=2025-05-13T13:40:38.182Z level=WARN source=ggml.go:152 msg=\"key not found\" key=general.alignment default=32\n"
     ]
    },
    {
     "name": "stdout",
     "output_type": "stream",
     "text": [
      "[GIN] 2025/05/13 - 13:40:39 | 200 | 37.836893032s |       127.0.0.1 | POST     \"/api/chat\"\n"
     ]
    },
    {
     "name": "stderr",
     "output_type": "stream",
     "text": [
      "time=2025-05-13T13:40:39.635Z level=WARN source=ggml.go:152 msg=\"key not found\" key=general.alignment default=32\n"
     ]
    },
    {
     "name": "stdout",
     "output_type": "stream",
     "text": [
      "[GIN] 2025/05/13 - 13:40:42 | 200 | 21.005102381s |       127.0.0.1 | POST     \"/api/chat\"\n"
     ]
    },
    {
     "name": "stderr",
     "output_type": "stream",
     "text": [
      "time=2025-05-13T13:40:42.275Z level=WARN source=ggml.go:152 msg=\"key not found\" key=general.alignment default=32\n"
     ]
    },
    {
     "name": "stdout",
     "output_type": "stream",
     "text": [
      "[GIN] 2025/05/13 - 13:40:44 | 200 | 20.197968631s |       127.0.0.1 | POST     \"/api/chat\"\n"
     ]
    },
    {
     "name": "stderr",
     "output_type": "stream",
     "text": [
      "time=2025-05-13T13:40:44.068Z level=WARN source=ggml.go:152 msg=\"key not found\" key=general.alignment default=32\n"
     ]
    },
    {
     "name": "stdout",
     "output_type": "stream",
     "text": [
      "[GIN] 2025/05/13 - 13:40:58 | 200 | 20.285283992s |       127.0.0.1 | POST     \"/api/chat\"\n"
     ]
    },
    {
     "name": "stderr",
     "output_type": "stream",
     "text": [
      "time=2025-05-13T13:40:58.473Z level=WARN source=ggml.go:152 msg=\"key not found\" key=general.alignment default=32\n"
     ]
    },
    {
     "name": "stdout",
     "output_type": "stream",
     "text": [
      "[GIN] 2025/05/13 - 13:41:03 | 200 | 23.726766468s |       127.0.0.1 | POST     \"/api/chat\"\n"
     ]
    },
    {
     "name": "stderr",
     "output_type": "stream",
     "text": [
      "time=2025-05-13T13:41:03.358Z level=WARN source=ggml.go:152 msg=\"key not found\" key=general.alignment default=32\n"
     ]
    },
    {
     "name": "stdout",
     "output_type": "stream",
     "text": [
      "[GIN] 2025/05/13 - 13:41:06 | 200 | 22.068249261s |       127.0.0.1 | POST     \"/api/chat\"\n"
     ]
    },
    {
     "name": "stderr",
     "output_type": "stream",
     "text": [
      "time=2025-05-13T13:41:06.143Z level=WARN source=ggml.go:152 msg=\"key not found\" key=general.alignment default=32\n"
     ]
    },
    {
     "name": "stdout",
     "output_type": "stream",
     "text": [
      "[GIN] 2025/05/13 - 13:41:09 | 200 | 26.921445997s |       127.0.0.1 | POST     \"/api/chat\"\n"
     ]
    },
    {
     "name": "stderr",
     "output_type": "stream",
     "text": [
      "time=2025-05-13T13:41:09.207Z level=WARN source=ggml.go:152 msg=\"key not found\" key=general.alignment default=32\n"
     ]
    },
    {
     "name": "stdout",
     "output_type": "stream",
     "text": [
      "[GIN] 2025/05/13 - 13:41:21 | 200 |  23.12884027s |       127.0.0.1 | POST     \"/api/chat\"\n"
     ]
    },
    {
     "name": "stderr",
     "output_type": "stream",
     "text": [
      "time=2025-05-13T13:41:21.611Z level=WARN source=ggml.go:152 msg=\"key not found\" key=general.alignment default=32\n"
     ]
    },
    {
     "name": "stdout",
     "output_type": "stream",
     "text": [
      "[GIN] 2025/05/13 - 13:41:24 | 200 | 18.286794772s |       127.0.0.1 | POST     \"/api/chat\"\n"
     ]
    },
    {
     "name": "stderr",
     "output_type": "stream",
     "text": [
      "time=2025-05-13T13:41:24.443Z level=WARN source=ggml.go:152 msg=\"key not found\" key=general.alignment default=32\n"
     ]
    },
    {
     "name": "stdout",
     "output_type": "stream",
     "text": [
      "[GIN] 2025/05/13 - 13:41:32 | 200 | 23.276251433s |       127.0.0.1 | POST     \"/api/chat\"\n"
     ]
    },
    {
     "name": "stderr",
     "output_type": "stream",
     "text": [
      "time=2025-05-13T13:41:32.486Z level=WARN source=ggml.go:152 msg=\"key not found\" key=general.alignment default=32\n"
     ]
    },
    {
     "name": "stdout",
     "output_type": "stream",
     "text": [
      "[GIN] 2025/05/13 - 13:41:35 | 200 | 31.963909155s |       127.0.0.1 | POST     \"/api/chat\"\n"
     ]
    },
    {
     "name": "stderr",
     "output_type": "stream",
     "text": [
      "time=2025-05-13T13:41:35.322Z level=WARN source=ggml.go:152 msg=\"key not found\" key=general.alignment default=32\n"
     ]
    },
    {
     "name": "stdout",
     "output_type": "stream",
     "text": [
      "[GIN] 2025/05/13 - 13:41:38 | 200 | 14.111814259s |       127.0.0.1 | POST     \"/api/chat\"\n"
     ]
    },
    {
     "name": "stderr",
     "output_type": "stream",
     "text": [
      "time=2025-05-13T13:41:38.557Z level=WARN source=ggml.go:152 msg=\"key not found\" key=general.alignment default=32\n"
     ]
    },
    {
     "name": "stdout",
     "output_type": "stream",
     "text": [
      "[GIN] 2025/05/13 - 13:41:39 | 200 |  7.378622501s |       127.0.0.1 | POST     \"/api/chat\"\n"
     ]
    },
    {
     "name": "stderr",
     "output_type": "stream",
     "text": [
      "time=2025-05-13T13:41:39.872Z level=WARN source=ggml.go:152 msg=\"key not found\" key=general.alignment default=32\n"
     ]
    },
    {
     "name": "stdout",
     "output_type": "stream",
     "text": [
      "[GIN] 2025/05/13 - 13:41:50 | 200 | 28.424508538s |       127.0.0.1 | POST     \"/api/chat\"\n"
     ]
    },
    {
     "name": "stderr",
     "output_type": "stream",
     "text": [
      "time=2025-05-13T13:41:50.049Z level=WARN source=ggml.go:152 msg=\"key not found\" key=general.alignment default=32\n"
     ]
    },
    {
     "name": "stdout",
     "output_type": "stream",
     "text": [
      "[GIN] 2025/05/13 - 13:41:54 | 200 | 16.049692012s |       127.0.0.1 | POST     \"/api/chat\"\n"
     ]
    },
    {
     "name": "stderr",
     "output_type": "stream",
     "text": [
      "time=2025-05-13T13:41:54.616Z level=WARN source=ggml.go:152 msg=\"key not found\" key=general.alignment default=32\n"
     ]
    },
    {
     "name": "stdout",
     "output_type": "stream",
     "text": [
      "[GIN] 2025/05/13 - 13:41:59 | 200 | 24.202217303s |       127.0.0.1 | POST     \"/api/chat\"\n"
     ]
    },
    {
     "name": "stderr",
     "output_type": "stream",
     "text": [
      "time=2025-05-13T13:41:59.530Z level=WARN source=ggml.go:152 msg=\"key not found\" key=general.alignment default=32\n"
     ]
    },
    {
     "name": "stdout",
     "output_type": "stream",
     "text": [
      "[GIN] 2025/05/13 - 13:42:02 | 200 | 22.812235775s |       127.0.0.1 | POST     \"/api/chat\"\n"
     ]
    },
    {
     "name": "stderr",
     "output_type": "stream",
     "text": [
      "time=2025-05-13T13:42:02.710Z level=WARN source=ggml.go:152 msg=\"key not found\" key=general.alignment default=32\n",
      "time=2025-05-13T13:42:02.712Z level=WARN source=ggml.go:152 msg=\"key not found\" key=general.alignment default=32\n",
      "time=2025-05-13T13:42:02.713Z level=WARN source=ggml.go:152 msg=\"key not found\" key=general.alignment default=32\n"
     ]
    },
    {
     "name": "stdout",
     "output_type": "stream",
     "text": [
      "[GIN] 2025/05/13 - 13:42:07 | 200 | 12.423426528s |       127.0.0.1 | POST     \"/api/chat\"\n"
     ]
    },
    {
     "name": "stderr",
     "output_type": "stream",
     "text": [
      "time=2025-05-13T13:42:07.045Z level=WARN source=ggml.go:152 msg=\"key not found\" key=general.alignment default=32\n"
     ]
    },
    {
     "name": "stdout",
     "output_type": "stream",
     "text": [
      "[GIN] 2025/05/13 - 13:42:13 | 200 | 23.819554607s |       127.0.0.1 | POST     \"/api/chat\"\n"
     ]
    },
    {
     "name": "stderr",
     "output_type": "stream",
     "text": [
      "time=2025-05-13T13:42:13.880Z level=WARN source=ggml.go:152 msg=\"key not found\" key=general.alignment default=32\n"
     ]
    },
    {
     "name": "stdout",
     "output_type": "stream",
     "text": [
      "[GIN] 2025/05/13 - 13:42:15 | 200 | 12.822197414s |       127.0.0.1 | POST     \"/api/chat\"\n",
      "[GIN] 2025/05/13 - 13:42:16 | 200 | 13.995603693s |       127.0.0.1 | POST     \"/api/chat\"\n",
      "[GIN] 2025/05/13 - 13:42:17 | 200 | 15.261193291s |       127.0.0.1 | POST     \"/api/chat\"\n"
     ]
    },
    {
     "name": "stderr",
     "output_type": "stream",
     "text": [
      "time=2025-05-13T13:42:17.977Z level=WARN source=ggml.go:152 msg=\"key not found\" key=general.alignment default=32\n"
     ]
    },
    {
     "name": "stdout",
     "output_type": "stream",
     "text": [
      "[GIN] 2025/05/13 - 13:42:32 | 200 | 25.778868845s |       127.0.0.1 | POST     \"/api/chat\"\n"
     ]
    },
    {
     "name": "stderr",
     "output_type": "stream",
     "text": [
      "time=2025-05-13T13:42:32.837Z level=WARN source=ggml.go:152 msg=\"key not found\" key=general.alignment default=32\n"
     ]
    },
    {
     "name": "stdout",
     "output_type": "stream",
     "text": [
      "[GIN] 2025/05/13 - 13:42:33 | 200 | 34.136085467s |       127.0.0.1 | POST     \"/api/chat\"\n"
     ]
    },
    {
     "name": "stderr",
     "output_type": "stream",
     "text": [
      "time=2025-05-13T13:42:33.675Z level=WARN source=ggml.go:152 msg=\"key not found\" key=general.alignment default=32\n"
     ]
    },
    {
     "name": "stdout",
     "output_type": "stream",
     "text": [
      "[GIN] 2025/05/13 - 13:42:47 | 200 | 33.659034851s |       127.0.0.1 | POST     \"/api/chat\"\n"
     ]
    },
    {
     "name": "stderr",
     "output_type": "stream",
     "text": [
      "time=2025-05-13T13:42:47.538Z level=WARN source=ggml.go:152 msg=\"key not found\" key=general.alignment default=32\n"
     ]
    },
    {
     "name": "stdout",
     "output_type": "stream",
     "text": [
      "[GIN] 2025/05/13 - 13:42:52 | 200 | 34.190176222s |       127.0.0.1 | POST     \"/api/chat\"\n"
     ]
    },
    {
     "name": "stderr",
     "output_type": "stream",
     "text": [
      "time=2025-05-13T13:42:52.167Z level=WARN source=ggml.go:152 msg=\"key not found\" key=general.alignment default=32\n"
     ]
    },
    {
     "name": "stdout",
     "output_type": "stream",
     "text": [
      "[GIN] 2025/05/13 - 13:43:01 | 200 | 28.758038701s |       127.0.0.1 | POST     \"/api/chat\"\n"
     ]
    },
    {
     "name": "stderr",
     "output_type": "stream",
     "text": [
      "time=2025-05-13T13:43:01.599Z level=WARN source=ggml.go:152 msg=\"key not found\" key=general.alignment default=32\n"
     ]
    },
    {
     "name": "stdout",
     "output_type": "stream",
     "text": [
      "[GIN] 2025/05/13 - 13:43:15 | 200 | 41.365737393s |       127.0.0.1 | POST     \"/api/chat\"\n"
     ]
    },
    {
     "name": "stderr",
     "output_type": "stream",
     "text": [
      "time=2025-05-13T13:43:15.070Z level=WARN source=ggml.go:152 msg=\"key not found\" key=general.alignment default=32\n"
     ]
    },
    {
     "name": "stdout",
     "output_type": "stream",
     "text": [
      "[GIN] 2025/05/13 - 13:43:16 | 200 |  28.58019193s |       127.0.0.1 | POST     \"/api/chat\"\n"
     ]
    },
    {
     "name": "stderr",
     "output_type": "stream",
     "text": [
      "time=2025-05-13T13:43:16.134Z level=WARN source=ggml.go:152 msg=\"key not found\" key=general.alignment default=32\n"
     ]
    },
    {
     "name": "stdout",
     "output_type": "stream",
     "text": [
      "[GIN] 2025/05/13 - 13:43:19 | 200 | 27.430339374s |       127.0.0.1 | POST     \"/api/chat\"\n"
     ]
    },
    {
     "name": "stderr",
     "output_type": "stream",
     "text": [
      "time=2025-05-13T13:43:19.612Z level=WARN source=ggml.go:152 msg=\"key not found\" key=general.alignment default=32\n"
     ]
    },
    {
     "name": "stdout",
     "output_type": "stream",
     "text": [
      "[GIN] 2025/05/13 - 13:43:22 | 200 |  7.596103466s |       127.0.0.1 | POST     \"/api/chat\"\n"
     ]
    },
    {
     "name": "stderr",
     "output_type": "stream",
     "text": [
      "time=2025-05-13T13:43:22.667Z level=WARN source=ggml.go:152 msg=\"key not found\" key=general.alignment default=32\n"
     ]
    },
    {
     "name": "stdout",
     "output_type": "stream",
     "text": [
      "[GIN] 2025/05/13 - 13:43:37 | 200 | 20.928480705s |       127.0.0.1 | POST     \"/api/chat\"\n"
     ]
    },
    {
     "name": "stderr",
     "output_type": "stream",
     "text": [
      "time=2025-05-13T13:43:37.062Z level=WARN source=ggml.go:152 msg=\"key not found\" key=general.alignment default=32\n"
     ]
    },
    {
     "name": "stdout",
     "output_type": "stream",
     "text": [
      "[GIN] 2025/05/13 - 13:43:37 | 200 |  35.77338105s |       127.0.0.1 | POST     \"/api/chat\"\n"
     ]
    },
    {
     "name": "stderr",
     "output_type": "stream",
     "text": [
      "time=2025-05-13T13:43:37.372Z level=WARN source=ggml.go:152 msg=\"key not found\" key=general.alignment default=32\n"
     ]
    },
    {
     "name": "stdout",
     "output_type": "stream",
     "text": [
      "[GIN] 2025/05/13 - 13:43:40 | 200 | 18.307620081s |       127.0.0.1 | POST     \"/api/chat\"\n"
     ]
    },
    {
     "name": "stderr",
     "output_type": "stream",
     "text": [
      "time=2025-05-13T13:43:40.969Z level=WARN source=ggml.go:152 msg=\"key not found\" key=general.alignment default=32\n"
     ]
    },
    {
     "name": "stdout",
     "output_type": "stream",
     "text": [
      "[GIN] 2025/05/13 - 13:43:53 | 200 |  33.54785479s |       127.0.0.1 | POST     \"/api/chat\"\n"
     ]
    },
    {
     "name": "stderr",
     "output_type": "stream",
     "text": [
      "time=2025-05-13T13:43:53.156Z level=WARN source=ggml.go:152 msg=\"key not found\" key=general.alignment default=32\n"
     ]
    },
    {
     "name": "stdout",
     "output_type": "stream",
     "text": [
      "[GIN] 2025/05/13 - 13:43:54 | 200 | 17.086125487s |       127.0.0.1 | POST     \"/api/chat\"\n"
     ]
    },
    {
     "name": "stderr",
     "output_type": "stream",
     "text": [
      "time=2025-05-13T13:43:54.150Z level=WARN source=ggml.go:152 msg=\"key not found\" key=general.alignment default=32\n"
     ]
    },
    {
     "name": "stdout",
     "output_type": "stream",
     "text": [
      "[GIN] 2025/05/13 - 13:43:57 | 200 | 16.584180864s |       127.0.0.1 | POST     \"/api/chat\"\n"
     ]
    },
    {
     "name": "stderr",
     "output_type": "stream",
     "text": [
      "time=2025-05-13T13:43:57.559Z level=WARN source=ggml.go:152 msg=\"key not found\" key=general.alignment default=32\n"
     ]
    },
    {
     "name": "stdout",
     "output_type": "stream",
     "text": [
      "[GIN] 2025/05/13 - 13:44:02 | 200 |   9.07222402s |       127.0.0.1 | POST     \"/api/chat\"\n"
     ]
    },
    {
     "name": "stderr",
     "output_type": "stream",
     "text": [
      "time=2025-05-13T13:44:02.240Z level=WARN source=ggml.go:152 msg=\"key not found\" key=general.alignment default=32\n"
     ]
    },
    {
     "name": "stdout",
     "output_type": "stream",
     "text": [
      "[GIN] 2025/05/13 - 13:44:09 | 200 | 15.341133819s |       127.0.0.1 | POST     \"/api/chat\"\n"
     ]
    },
    {
     "name": "stderr",
     "output_type": "stream",
     "text": [
      "time=2025-05-13T13:44:09.498Z level=WARN source=ggml.go:152 msg=\"key not found\" key=general.alignment default=32\n"
     ]
    },
    {
     "name": "stdout",
     "output_type": "stream",
     "text": [
      "[GIN] 2025/05/13 - 13:44:12 | 200 | 15.330488018s |       127.0.0.1 | POST     \"/api/chat\"\n"
     ]
    },
    {
     "name": "stderr",
     "output_type": "stream",
     "text": [
      "time=2025-05-13T13:44:12.904Z level=WARN source=ggml.go:152 msg=\"key not found\" key=general.alignment default=32\n"
     ]
    },
    {
     "name": "stdout",
     "output_type": "stream",
     "text": [
      "[GIN] 2025/05/13 - 13:44:16 | 200 | 38.693146757s |       127.0.0.1 | POST     \"/api/chat\"\n"
     ]
    },
    {
     "name": "stderr",
     "output_type": "stream",
     "text": [
      "time=2025-05-13T13:44:16.073Z level=WARN source=ggml.go:152 msg=\"key not found\" key=general.alignment default=32\n"
     ]
    },
    {
     "name": "stdout",
     "output_type": "stream",
     "text": [
      "[GIN] 2025/05/13 - 13:44:21 | 200 | 11.705850106s |       127.0.0.1 | POST     \"/api/chat\"\n"
     ]
    },
    {
     "name": "stderr",
     "output_type": "stream",
     "text": [
      "time=2025-05-13T13:44:21.214Z level=WARN source=ggml.go:152 msg=\"key not found\" key=general.alignment default=32\n"
     ]
    },
    {
     "name": "stdout",
     "output_type": "stream",
     "text": [
      "[GIN] 2025/05/13 - 13:44:23 | 200 | 10.971000484s |       127.0.0.1 | POST     \"/api/chat\"\n"
     ]
    },
    {
     "name": "stderr",
     "output_type": "stream",
     "text": [
      "time=2025-05-13T13:44:23.894Z level=WARN source=ggml.go:152 msg=\"key not found\" key=general.alignment default=32\n",
      "time=2025-05-13T13:44:23.895Z level=WARN source=ggml.go:152 msg=\"key not found\" key=general.alignment default=32\n",
      "time=2025-05-13T13:44:23.900Z level=WARN source=ggml.go:152 msg=\"key not found\" key=general.alignment default=32\n"
     ]
    },
    {
     "name": "stdout",
     "output_type": "stream",
     "text": [
      "[GIN] 2025/05/13 - 13:44:37 | 200 | 34.798809334s |       127.0.0.1 | POST     \"/api/chat\"\n"
     ]
    },
    {
     "name": "stderr",
     "output_type": "stream",
     "text": [
      "time=2025-05-13T13:44:37.049Z level=WARN source=ggml.go:152 msg=\"key not found\" key=general.alignment default=32\n"
     ]
    },
    {
     "name": "stdout",
     "output_type": "stream",
     "text": [
      "[GIN] 2025/05/13 - 13:44:40 | 200 | 19.327668438s |       127.0.0.1 | POST     \"/api/chat\"\n"
     ]
    },
    {
     "name": "stderr",
     "output_type": "stream",
     "text": [
      "time=2025-05-13T13:44:40.547Z level=WARN source=ggml.go:152 msg=\"key not found\" key=general.alignment default=32\n"
     ]
    },
    {
     "name": "stdout",
     "output_type": "stream",
     "text": [
      "[GIN] 2025/05/13 - 13:44:41 | 200 | 25.798911228s |       127.0.0.1 | POST     \"/api/chat\"\n"
     ]
    },
    {
     "name": "stderr",
     "output_type": "stream",
     "text": [
      "time=2025-05-13T13:44:41.882Z level=WARN source=ggml.go:152 msg=\"key not found\" key=general.alignment default=32\n"
     ]
    },
    {
     "name": "stdout",
     "output_type": "stream",
     "text": [
      "[GIN] 2025/05/13 - 13:44:42 | 200 |  18.88327983s |       127.0.0.1 | POST     \"/api/chat\"\n",
      "[GIN] 2025/05/13 - 13:44:43 | 200 | 19.708900374s |       127.0.0.1 | POST     \"/api/chat\"\n",
      "[GIN] 2025/05/13 - 13:44:44 | 200 | 20.679945798s |       127.0.0.1 | POST     \"/api/chat\"\n"
     ]
    },
    {
     "name": "stderr",
     "output_type": "stream",
     "text": [
      "time=2025-05-13T13:44:44.576Z level=WARN source=ggml.go:152 msg=\"key not found\" key=general.alignment default=32\n"
     ]
    },
    {
     "name": "stdout",
     "output_type": "stream",
     "text": [
      "[GIN] 2025/05/13 - 13:44:47 | 200 | 10.850627724s |       127.0.0.1 | POST     \"/api/chat\"\n"
     ]
    },
    {
     "name": "stderr",
     "output_type": "stream",
     "text": [
      "time=2025-05-13T13:44:47.908Z level=WARN source=ggml.go:152 msg=\"key not found\" key=general.alignment default=32\n"
     ]
    },
    {
     "name": "stdout",
     "output_type": "stream",
     "text": [
      "[GIN] 2025/05/13 - 13:44:49 | 200 |    8.7167584s |       127.0.0.1 | POST     \"/api/chat\"\n"
     ]
    },
    {
     "name": "stderr",
     "output_type": "stream",
     "text": [
      "time=2025-05-13T13:44:49.284Z level=WARN source=ggml.go:152 msg=\"key not found\" key=general.alignment default=32\n"
     ]
    },
    {
     "name": "stdout",
     "output_type": "stream",
     "text": [
      "[GIN] 2025/05/13 - 13:44:52 | 200 |  8.029951512s |       127.0.0.1 | POST     \"/api/chat\"\n"
     ]
    },
    {
     "name": "stderr",
     "output_type": "stream",
     "text": [
      "time=2025-05-13T13:44:52.620Z level=WARN source=ggml.go:152 msg=\"key not found\" key=general.alignment default=32\n"
     ]
    },
    {
     "name": "stdout",
     "output_type": "stream",
     "text": [
      "[GIN] 2025/05/13 - 13:45:05 | 200 | 17.461439163s |       127.0.0.1 | POST     \"/api/chat\"\n"
     ]
    },
    {
     "name": "stderr",
     "output_type": "stream",
     "text": [
      "time=2025-05-13T13:45:05.375Z level=WARN source=ggml.go:152 msg=\"key not found\" key=general.alignment default=32\n"
     ]
    },
    {
     "name": "stdout",
     "output_type": "stream",
     "text": [
      "[GIN] 2025/05/13 - 13:45:06 | 200 | 25.057305736s |       127.0.0.1 | POST     \"/api/chat\"\n"
     ]
    },
    {
     "name": "stderr",
     "output_type": "stream",
     "text": [
      "time=2025-05-13T13:45:06.942Z level=WARN source=ggml.go:152 msg=\"key not found\" key=general.alignment default=32\n"
     ]
    },
    {
     "name": "stdout",
     "output_type": "stream",
     "text": [
      "[GIN] 2025/05/13 - 13:45:15 | 200 | 26.158613497s |       127.0.0.1 | POST     \"/api/chat\"\n"
     ]
    },
    {
     "name": "stderr",
     "output_type": "stream",
     "text": [
      "time=2025-05-13T13:45:15.442Z level=WARN source=ggml.go:152 msg=\"key not found\" key=general.alignment default=32\n"
     ]
    },
    {
     "name": "stdout",
     "output_type": "stream",
     "text": [
      "[GIN] 2025/05/13 - 13:45:18 | 200 | 12.718929321s |       127.0.0.1 | POST     \"/api/chat\"\n"
     ]
    },
    {
     "name": "stderr",
     "output_type": "stream",
     "text": [
      "time=2025-05-13T13:45:18.098Z level=WARN source=ggml.go:152 msg=\"key not found\" key=general.alignment default=32\n"
     ]
    },
    {
     "name": "stdout",
     "output_type": "stream",
     "text": [
      "[GIN] 2025/05/13 - 13:45:22 | 200 | 29.863015051s |       127.0.0.1 | POST     \"/api/chat\"\n"
     ]
    },
    {
     "name": "stderr",
     "output_type": "stream",
     "text": [
      "time=2025-05-13T13:45:22.485Z level=WARN source=ggml.go:152 msg=\"key not found\" key=general.alignment default=32\n"
     ]
    },
    {
     "name": "stdout",
     "output_type": "stream",
     "text": [
      "[GIN] 2025/05/13 - 13:45:33 | 200 | 17.944634588s |       127.0.0.1 | POST     \"/api/chat\"\n"
     ]
    },
    {
     "name": "stderr",
     "output_type": "stream",
     "text": [
      "time=2025-05-13T13:45:33.386Z level=WARN source=ggml.go:152 msg=\"key not found\" key=general.alignment default=32\n"
     ]
    },
    {
     "name": "stdout",
     "output_type": "stream",
     "text": [
      "[GIN] 2025/05/13 - 13:45:36 | 200 | 18.421704353s |       127.0.0.1 | POST     \"/api/chat\"\n"
     ]
    },
    {
     "name": "stderr",
     "output_type": "stream",
     "text": [
      "time=2025-05-13T13:45:36.522Z level=WARN source=ggml.go:152 msg=\"key not found\" key=general.alignment default=32\n"
     ]
    },
    {
     "name": "stdout",
     "output_type": "stream",
     "text": [
      "[GIN] 2025/05/13 - 13:45:39 | 200 | 32.874691285s |       127.0.0.1 | POST     \"/api/chat\"\n"
     ]
    },
    {
     "name": "stderr",
     "output_type": "stream",
     "text": [
      "time=2025-05-13T13:45:39.832Z level=WARN source=ggml.go:152 msg=\"key not found\" key=general.alignment default=32\n"
     ]
    },
    {
     "name": "stdout",
     "output_type": "stream",
     "text": [
      "[GIN] 2025/05/13 - 13:45:50 | 200 | 28.348197509s |       127.0.0.1 | POST     \"/api/chat\"\n"
     ]
    },
    {
     "name": "stderr",
     "output_type": "stream",
     "text": [
      "time=2025-05-13T13:45:50.836Z level=WARN source=ggml.go:152 msg=\"key not found\" key=general.alignment default=32\n"
     ]
    },
    {
     "name": "stdout",
     "output_type": "stream",
     "text": [
      "[GIN] 2025/05/13 - 13:45:54 | 200 | 17.737004882s |       127.0.0.1 | POST     \"/api/chat\"\n"
     ]
    },
    {
     "name": "stderr",
     "output_type": "stream",
     "text": [
      "time=2025-05-13T13:45:54.287Z level=WARN source=ggml.go:152 msg=\"key not found\" key=general.alignment default=32\n"
     ]
    },
    {
     "name": "stdout",
     "output_type": "stream",
     "text": [
      "[GIN] 2025/05/13 - 13:45:55 | 200 | 22.423597318s |       127.0.0.1 | POST     \"/api/chat\"\n"
     ]
    },
    {
     "name": "stderr",
     "output_type": "stream",
     "text": [
      "time=2025-05-13T13:45:55.824Z level=WARN source=ggml.go:152 msg=\"key not found\" key=general.alignment default=32\n"
     ]
    },
    {
     "name": "stdout",
     "output_type": "stream",
     "text": [
      "[GIN] 2025/05/13 - 13:46:01 | 200 |  10.47319632s |       127.0.0.1 | POST     \"/api/chat\"\n"
     ]
    },
    {
     "name": "stderr",
     "output_type": "stream",
     "text": [
      "time=2025-05-13T13:46:01.316Z level=WARN source=ggml.go:152 msg=\"key not found\" key=general.alignment default=32\n"
     ]
    },
    {
     "name": "stdout",
     "output_type": "stream",
     "text": [
      "[GIN] 2025/05/13 - 13:46:04 | 200 |  9.927776505s |       127.0.0.1 | POST     \"/api/chat\"\n"
     ]
    },
    {
     "name": "stderr",
     "output_type": "stream",
     "text": [
      "time=2025-05-13T13:46:04.201Z level=WARN source=ggml.go:152 msg=\"key not found\" key=general.alignment default=32\n"
     ]
    },
    {
     "name": "stdout",
     "output_type": "stream",
     "text": [
      "[GIN] 2025/05/13 - 13:46:14 | 200 | 34.318544245s |       127.0.0.1 | POST     \"/api/chat\"\n"
     ]
    },
    {
     "name": "stderr",
     "output_type": "stream",
     "text": [
      "time=2025-05-13T13:46:14.148Z level=WARN source=ggml.go:152 msg=\"key not found\" key=general.alignment default=32\n"
     ]
    },
    {
     "name": "stdout",
     "output_type": "stream",
     "text": [
      "[GIN] 2025/05/13 - 13:46:15 | 200 | 14.301515144s |       127.0.0.1 | POST     \"/api/chat\"\n"
     ]
    },
    {
     "name": "stderr",
     "output_type": "stream",
     "text": [
      "time=2025-05-13T13:46:15.625Z level=WARN source=ggml.go:152 msg=\"key not found\" key=general.alignment default=32\n"
     ]
    },
    {
     "name": "stdout",
     "output_type": "stream",
     "text": [
      "[GIN] 2025/05/13 - 13:46:18 | 200 | 22.778860386s |       127.0.0.1 | POST     \"/api/chat\"\n"
     ]
    },
    {
     "name": "stderr",
     "output_type": "stream",
     "text": [
      "time=2025-05-13T13:46:18.601Z level=WARN source=ggml.go:152 msg=\"key not found\" key=general.alignment default=32\n"
     ]
    },
    {
     "name": "stdout",
     "output_type": "stream",
     "text": [
      "[GIN] 2025/05/13 - 13:46:19 | 200 | 15.005269242s |       127.0.0.1 | POST     \"/api/chat\"\n"
     ]
    },
    {
     "name": "stderr",
     "output_type": "stream",
     "text": [
      "time=2025-05-13T13:46:19.213Z level=WARN source=ggml.go:152 msg=\"key not found\" key=general.alignment default=32\n"
     ]
    },
    {
     "name": "stdout",
     "output_type": "stream",
     "text": [
      "[GIN] 2025/05/13 - 13:46:23 | 200 |  8.156522057s |       127.0.0.1 | POST     \"/api/chat\"\n"
     ]
    },
    {
     "name": "stderr",
     "output_type": "stream",
     "text": [
      "time=2025-05-13T13:46:23.813Z level=WARN source=ggml.go:152 msg=\"key not found\" key=general.alignment default=32\n",
      "time=2025-05-13T13:46:23.815Z level=WARN source=ggml.go:152 msg=\"key not found\" key=general.alignment default=32\n",
      "time=2025-05-13T13:46:23.817Z level=WARN source=ggml.go:152 msg=\"key not found\" key=general.alignment default=32\n"
     ]
    },
    {
     "name": "stdout",
     "output_type": "stream",
     "text": [
      "[GIN] 2025/05/13 - 13:46:37 | 200 | 19.120544334s |       127.0.0.1 | POST     \"/api/chat\"\n"
     ]
    },
    {
     "name": "stderr",
     "output_type": "stream",
     "text": [
      "time=2025-05-13T13:46:37.739Z level=WARN source=ggml.go:152 msg=\"key not found\" key=general.alignment default=32\n"
     ]
    },
    {
     "name": "stdout",
     "output_type": "stream",
     "text": [
      "[GIN] 2025/05/13 - 13:46:39 | 200 | 24.968065225s |       127.0.0.1 | POST     \"/api/chat\"\n"
     ]
    },
    {
     "name": "stderr",
     "output_type": "stream",
     "text": [
      "time=2025-05-13T13:46:39.126Z level=WARN source=ggml.go:152 msg=\"key not found\" key=general.alignment default=32\n"
     ]
    },
    {
     "name": "stdout",
     "output_type": "stream",
     "text": [
      "[GIN] 2025/05/13 - 13:46:40 | 200 | 16.970184919s |       127.0.0.1 | POST     \"/api/chat\"\n",
      "[GIN] 2025/05/13 - 13:46:41 | 200 | 22.062105449s |       127.0.0.1 | POST     \"/api/chat\"\n"
     ]
    },
    {
     "name": "stderr",
     "output_type": "stream",
     "text": [
      "time=2025-05-13T13:46:41.287Z level=WARN source=ggml.go:152 msg=\"key not found\" key=general.alignment default=32\n"
     ]
    },
    {
     "name": "stdout",
     "output_type": "stream",
     "text": [
      "[GIN] 2025/05/13 - 13:46:42 | 200 | 18.583707173s |       127.0.0.1 | POST     \"/api/chat\"\n",
      "[GIN] 2025/05/13 - 13:46:43 | 200 | 20.081589666s |       127.0.0.1 | POST     \"/api/chat\"\n"
     ]
    },
    {
     "name": "stderr",
     "output_type": "stream",
     "text": [
      "time=2025-05-13T13:46:43.889Z level=WARN source=ggml.go:152 msg=\"key not found\" key=general.alignment default=32\n"
     ]
    },
    {
     "name": "stdout",
     "output_type": "stream",
     "text": [
      "[GIN] 2025/05/13 - 13:46:59 | 200 | 21.738081244s |       127.0.0.1 | POST     \"/api/chat\"\n"
     ]
    },
    {
     "name": "stderr",
     "output_type": "stream",
     "text": [
      "time=2025-05-13T13:46:59.472Z level=WARN source=ggml.go:152 msg=\"key not found\" key=general.alignment default=32\n"
     ]
    },
    {
     "name": "stdout",
     "output_type": "stream",
     "text": [
      "[GIN] 2025/05/13 - 13:47:00 | 200 | 21.775599745s |       127.0.0.1 | POST     \"/api/chat\"\n"
     ]
    },
    {
     "name": "stderr",
     "output_type": "stream",
     "text": [
      "time=2025-05-13T13:47:00.905Z level=WARN source=ggml.go:152 msg=\"key not found\" key=general.alignment default=32\n"
     ]
    },
    {
     "name": "stdout",
     "output_type": "stream",
     "text": [
      "[GIN] 2025/05/13 - 13:47:03 | 200 | 22.001014296s |       127.0.0.1 | POST     \"/api/chat\"\n"
     ]
    },
    {
     "name": "stderr",
     "output_type": "stream",
     "text": [
      "time=2025-05-13T13:47:03.287Z level=WARN source=ggml.go:152 msg=\"key not found\" key=general.alignment default=32\n"
     ]
    },
    {
     "name": "stdout",
     "output_type": "stream",
     "text": [
      "[GIN] 2025/05/13 - 13:47:05 | 200 | 21.166734564s |       127.0.0.1 | POST     \"/api/chat\"\n"
     ]
    },
    {
     "name": "stderr",
     "output_type": "stream",
     "text": [
      "time=2025-05-13T13:47:05.082Z level=WARN source=ggml.go:152 msg=\"key not found\" key=general.alignment default=32\n"
     ]
    },
    {
     "name": "stdout",
     "output_type": "stream",
     "text": [
      "[GIN] 2025/05/13 - 13:47:17 | 200 | 17.797416192s |       127.0.0.1 | POST     \"/api/chat\"\n"
     ]
    },
    {
     "name": "stderr",
     "output_type": "stream",
     "text": [
      "time=2025-05-13T13:47:17.273Z level=WARN source=ggml.go:152 msg=\"key not found\" key=general.alignment default=32\n"
     ]
    },
    {
     "name": "stdout",
     "output_type": "stream",
     "text": [
      "[GIN] 2025/05/13 - 13:47:19 | 200 | 18.829103148s |       127.0.0.1 | POST     \"/api/chat\"\n"
     ]
    },
    {
     "name": "stderr",
     "output_type": "stream",
     "text": [
      "time=2025-05-13T13:47:19.743Z level=WARN source=ggml.go:152 msg=\"key not found\" key=general.alignment default=32\n"
     ]
    },
    {
     "name": "stdout",
     "output_type": "stream",
     "text": [
      "[GIN] 2025/05/13 - 13:47:29 | 200 | 26.392892076s |       127.0.0.1 | POST     \"/api/chat\"\n"
     ]
    },
    {
     "name": "stderr",
     "output_type": "stream",
     "text": [
      "time=2025-05-13T13:47:29.703Z level=WARN source=ggml.go:152 msg=\"key not found\" key=general.alignment default=32\n"
     ]
    },
    {
     "name": "stdout",
     "output_type": "stream",
     "text": [
      "[GIN] 2025/05/13 - 13:47:31 | 200 | 26.126875411s |       127.0.0.1 | POST     \"/api/chat\"\n"
     ]
    },
    {
     "name": "stderr",
     "output_type": "stream",
     "text": [
      "time=2025-05-13T13:47:31.201Z level=WARN source=ggml.go:152 msg=\"key not found\" key=general.alignment default=32\n"
     ]
    },
    {
     "name": "stdout",
     "output_type": "stream",
     "text": [
      "[GIN] 2025/05/13 - 13:47:34 | 200 | 14.663935596s |       127.0.0.1 | POST     \"/api/chat\"\n"
     ]
    },
    {
     "name": "stderr",
     "output_type": "stream",
     "text": [
      "time=2025-05-13T13:47:34.414Z level=WARN source=ggml.go:152 msg=\"key not found\" key=general.alignment default=32\n"
     ]
    },
    {
     "name": "stdout",
     "output_type": "stream",
     "text": [
      "[GIN] 2025/05/13 - 13:47:43 | 200 | 14.322893402s |       127.0.0.1 | POST     \"/api/chat\"\n"
     ]
    },
    {
     "name": "stderr",
     "output_type": "stream",
     "text": [
      "time=2025-05-13T13:47:44.018Z level=WARN source=ggml.go:152 msg=\"key not found\" key=general.alignment default=32\n"
     ]
    },
    {
     "name": "stdout",
     "output_type": "stream",
     "text": [
      "[GIN] 2025/05/13 - 13:47:46 | 200 | 29.223456817s |       127.0.0.1 | POST     \"/api/chat\"\n"
     ]
    },
    {
     "name": "stderr",
     "output_type": "stream",
     "text": [
      "time=2025-05-13T13:47:46.502Z level=WARN source=ggml.go:152 msg=\"key not found\" key=general.alignment default=32\n"
     ]
    },
    {
     "name": "stdout",
     "output_type": "stream",
     "text": [
      "[GIN] 2025/05/13 - 13:47:47 | 200 | 16.162206706s |       127.0.0.1 | POST     \"/api/chat\"\n"
     ]
    },
    {
     "name": "stderr",
     "output_type": "stream",
     "text": [
      "time=2025-05-13T13:47:47.371Z level=WARN source=ggml.go:152 msg=\"key not found\" key=general.alignment default=32\n"
     ]
    },
    {
     "name": "stdout",
     "output_type": "stream",
     "text": [
      "[GIN] 2025/05/13 - 13:47:56 | 200 | 22.207092597s |       127.0.0.1 | POST     \"/api/chat\"\n"
     ]
    },
    {
     "name": "stderr",
     "output_type": "stream",
     "text": [
      "time=2025-05-13T13:47:56.627Z level=WARN source=ggml.go:152 msg=\"key not found\" key=general.alignment default=32\n"
     ]
    },
    {
     "name": "stdout",
     "output_type": "stream",
     "text": [
      "[GIN] 2025/05/13 - 13:47:59 | 200 | 15.254147981s |       127.0.0.1 | POST     \"/api/chat\"\n"
     ]
    },
    {
     "name": "stderr",
     "output_type": "stream",
     "text": [
      "time=2025-05-13T13:47:59.280Z level=WARN source=ggml.go:152 msg=\"key not found\" key=general.alignment default=32\n"
     ]
    },
    {
     "name": "stdout",
     "output_type": "stream",
     "text": [
      "[GIN] 2025/05/13 - 13:48:03 | 200 | 16.250119652s |       127.0.0.1 | POST     \"/api/chat\"\n"
     ]
    },
    {
     "name": "stderr",
     "output_type": "stream",
     "text": [
      "time=2025-05-13T13:48:03.628Z level=WARN source=ggml.go:152 msg=\"key not found\" key=general.alignment default=32\n"
     ]
    },
    {
     "name": "stdout",
     "output_type": "stream",
     "text": [
      "[GIN] 2025/05/13 - 13:48:05 | 200 |  9.359664602s |       127.0.0.1 | POST     \"/api/chat\"\n"
     ]
    },
    {
     "name": "stderr",
     "output_type": "stream",
     "text": [
      "time=2025-05-13T13:48:05.994Z level=WARN source=ggml.go:152 msg=\"key not found\" key=general.alignment default=32\n"
     ]
    },
    {
     "name": "stdout",
     "output_type": "stream",
     "text": [
      "[GIN] 2025/05/13 - 13:48:13 | 200 | 27.269207497s |       127.0.0.1 | POST     \"/api/chat\"\n"
     ]
    },
    {
     "name": "stderr",
     "output_type": "stream",
     "text": [
      "time=2025-05-13T13:48:13.779Z level=WARN source=ggml.go:152 msg=\"key not found\" key=general.alignment default=32\n"
     ]
    },
    {
     "name": "stdout",
     "output_type": "stream",
     "text": [
      "[GIN] 2025/05/13 - 13:48:18 | 200 | 14.748897608s |       127.0.0.1 | POST     \"/api/chat\"\n"
     ]
    },
    {
     "name": "stderr",
     "output_type": "stream",
     "text": [
      "time=2025-05-13T13:48:18.382Z level=WARN source=ggml.go:152 msg=\"key not found\" key=general.alignment default=32\n"
     ]
    },
    {
     "name": "stdout",
     "output_type": "stream",
     "text": [
      "[GIN] 2025/05/13 - 13:48:19 | 200 | 20.628637385s |       127.0.0.1 | POST     \"/api/chat\"\n"
     ]
    },
    {
     "name": "stderr",
     "output_type": "stream",
     "text": [
      "time=2025-05-13T13:48:19.915Z level=WARN source=ggml.go:152 msg=\"key not found\" key=general.alignment default=32\n"
     ]
    },
    {
     "name": "stdout",
     "output_type": "stream",
     "text": [
      "[GIN] 2025/05/13 - 13:48:27 | 200 | 21.580987548s |       127.0.0.1 | POST     \"/api/chat\"\n"
     ]
    },
    {
     "name": "stderr",
     "output_type": "stream",
     "text": [
      "time=2025-05-13T13:48:27.582Z level=WARN source=ggml.go:152 msg=\"key not found\" key=general.alignment default=32\n"
     ]
    },
    {
     "name": "stdout",
     "output_type": "stream",
     "text": [
      "[GIN] 2025/05/13 - 13:48:31 | 200 | 18.016830054s |       127.0.0.1 | POST     \"/api/chat\"\n",
      "[GIN] 2025/05/13 - 13:48:31 | 200 | 13.457069152s |       127.0.0.1 | POST     \"/api/chat\"\n"
     ]
    },
    {
     "name": "stderr",
     "output_type": "stream",
     "text": [
      "time=2025-05-13T13:48:31.825Z level=WARN source=ggml.go:152 msg=\"key not found\" key=general.alignment default=32\n",
      "time=2025-05-13T13:48:31.864Z level=WARN source=ggml.go:152 msg=\"key not found\" key=general.alignment default=32\n"
     ]
    },
    {
     "name": "stdout",
     "output_type": "stream",
     "text": [
      "[GIN] 2025/05/13 - 13:48:46 | 200 | 26.605691514s |       127.0.0.1 | POST     \"/api/chat\"\n"
     ]
    },
    {
     "name": "stderr",
     "output_type": "stream",
     "text": [
      "time=2025-05-13T13:48:46.532Z level=WARN source=ggml.go:152 msg=\"key not found\" key=general.alignment default=32\n"
     ]
    },
    {
     "name": "stdout",
     "output_type": "stream",
     "text": [
      "[GIN] 2025/05/13 - 13:48:50 | 200 | 18.515811619s |       127.0.0.1 | POST     \"/api/chat\"\n"
     ]
    },
    {
     "name": "stderr",
     "output_type": "stream",
     "text": [
      "time=2025-05-13T13:48:50.335Z level=WARN source=ggml.go:152 msg=\"key not found\" key=general.alignment default=32\n"
     ]
    },
    {
     "name": "stdout",
     "output_type": "stream",
     "text": [
      "[GIN] 2025/05/13 - 13:48:55 | 200 | 23.315014861s |       127.0.0.1 | POST     \"/api/chat\"\n"
     ]
    },
    {
     "name": "stderr",
     "output_type": "stream",
     "text": [
      "time=2025-05-13T13:48:55.168Z level=WARN source=ggml.go:152 msg=\"key not found\" key=general.alignment default=32\n"
     ]
    },
    {
     "name": "stdout",
     "output_type": "stream",
     "text": [
      "[GIN] 2025/05/13 - 13:49:02 | 200 | 34.593784522s |       127.0.0.1 | POST     \"/api/chat\"\n"
     ]
    },
    {
     "name": "stderr",
     "output_type": "stream",
     "text": [
      "time=2025-05-13T13:49:02.204Z level=WARN source=ggml.go:152 msg=\"key not found\" key=general.alignment default=32\n",
      "time=2025-05-13T13:49:02.208Z level=WARN source=ggml.go:152 msg=\"key not found\" key=general.alignment default=32\n",
      "time=2025-05-13T13:49:02.212Z level=WARN source=ggml.go:152 msg=\"key not found\" key=general.alignment default=32\n"
     ]
    },
    {
     "name": "stdout",
     "output_type": "stream",
     "text": [
      "[GIN] 2025/05/13 - 13:49:08 | 200 | 17.790816248s |       127.0.0.1 | POST     \"/api/chat\"\n"
     ]
    },
    {
     "name": "stderr",
     "output_type": "stream",
     "text": [
      "time=2025-05-13T13:49:08.128Z level=WARN source=ggml.go:152 msg=\"key not found\" key=general.alignment default=32\n"
     ]
    },
    {
     "name": "stdout",
     "output_type": "stream",
     "text": [
      "[GIN] 2025/05/13 - 13:49:10 | 200 | 23.693581577s |       127.0.0.1 | POST     \"/api/chat\"\n"
     ]
    },
    {
     "name": "stderr",
     "output_type": "stream",
     "text": [
      "time=2025-05-13T13:49:10.226Z level=WARN source=ggml.go:152 msg=\"key not found\" key=general.alignment default=32\n"
     ]
    },
    {
     "name": "stdout",
     "output_type": "stream",
     "text": [
      "[GIN] 2025/05/13 - 13:49:12 | 200 |  9.957879269s |       127.0.0.1 | POST     \"/api/chat\"\n",
      "[GIN] 2025/05/13 - 13:49:13 | 200 | 11.268004364s |       127.0.0.1 | POST     \"/api/chat\"\n",
      "[GIN] 2025/05/13 - 13:49:14 | 200 | 12.542952187s |       127.0.0.1 | POST     \"/api/chat\"\n"
     ]
    },
    {
     "name": "stderr",
     "output_type": "stream",
     "text": [
      "time=2025-05-13T13:49:14.744Z level=WARN source=ggml.go:152 msg=\"key not found\" key=general.alignment default=32\n"
     ]
    },
    {
     "name": "stdout",
     "output_type": "stream",
     "text": [
      "[GIN] 2025/05/13 - 13:49:18 | 200 | 10.693694993s |       127.0.0.1 | POST     \"/api/chat\"\n"
     ]
    },
    {
     "name": "stderr",
     "output_type": "stream",
     "text": [
      "time=2025-05-13T13:49:18.828Z level=WARN source=ggml.go:152 msg=\"key not found\" key=general.alignment default=32\n"
     ]
    },
    {
     "name": "stdout",
     "output_type": "stream",
     "text": [
      "[GIN] 2025/05/13 - 13:49:20 | 200 | 25.351362712s |       127.0.0.1 | POST     \"/api/chat\"\n"
     ]
    },
    {
     "name": "stderr",
     "output_type": "stream",
     "text": [
      "time=2025-05-13T13:49:20.532Z level=WARN source=ggml.go:152 msg=\"key not found\" key=general.alignment default=32\n"
     ]
    },
    {
     "name": "stdout",
     "output_type": "stream",
     "text": [
      "[GIN] 2025/05/13 - 13:49:24 | 200 |  9.718994201s |       127.0.0.1 | POST     \"/api/chat\"\n"
     ]
    },
    {
     "name": "stderr",
     "output_type": "stream",
     "text": [
      "time=2025-05-13T13:49:24.477Z level=WARN source=ggml.go:152 msg=\"key not found\" key=general.alignment default=32\n"
     ]
    },
    {
     "name": "stdout",
     "output_type": "stream",
     "text": [
      "[GIN] 2025/05/13 - 13:49:35 | 200 | 24.968339847s |       127.0.0.1 | POST     \"/api/chat\"\n"
     ]
    },
    {
     "name": "stderr",
     "output_type": "stream",
     "text": [
      "time=2025-05-13T13:49:35.214Z level=WARN source=ggml.go:152 msg=\"key not found\" key=general.alignment default=32\n"
     ]
    },
    {
     "name": "stdout",
     "output_type": "stream",
     "text": [
      "[GIN] 2025/05/13 - 13:49:38 | 200 | 20.134672151s |       127.0.0.1 | POST     \"/api/chat\"\n"
     ]
    },
    {
     "name": "stderr",
     "output_type": "stream",
     "text": [
      "time=2025-05-13T13:49:38.971Z level=WARN source=ggml.go:152 msg=\"key not found\" key=general.alignment default=32\n"
     ]
    },
    {
     "name": "stdout",
     "output_type": "stream",
     "text": [
      "[GIN] 2025/05/13 - 13:49:52 | 200 | 27.799905235s |       127.0.0.1 | POST     \"/api/chat\"\n"
     ]
    },
    {
     "name": "stderr",
     "output_type": "stream",
     "text": [
      "time=2025-05-13T13:49:52.274Z level=WARN source=ggml.go:152 msg=\"key not found\" key=general.alignment default=32\n"
     ]
    },
    {
     "name": "stdout",
     "output_type": "stream",
     "text": [
      "[GIN] 2025/05/13 - 13:49:59 | 200 |  39.14588516s |       127.0.0.1 | POST     \"/api/chat\"\n"
     ]
    },
    {
     "name": "stderr",
     "output_type": "stream",
     "text": [
      "time=2025-05-13T13:49:59.678Z level=WARN source=ggml.go:152 msg=\"key not found\" key=general.alignment default=32\n"
     ]
    },
    {
     "name": "stdout",
     "output_type": "stream",
     "text": [
      "[GIN] 2025/05/13 - 13:50:03 | 200 | 28.003281965s |       127.0.0.1 | POST     \"/api/chat\"\n"
     ]
    },
    {
     "name": "stderr",
     "output_type": "stream",
     "text": [
      "time=2025-05-13T13:50:03.211Z level=WARN source=ggml.go:152 msg=\"key not found\" key=general.alignment default=32\n"
     ]
    },
    {
     "name": "stdout",
     "output_type": "stream",
     "text": [
      "[GIN] 2025/05/13 - 13:50:04 | 200 | 25.093326508s |       127.0.0.1 | POST     \"/api/chat\"\n"
     ]
    },
    {
     "name": "stderr",
     "output_type": "stream",
     "text": [
      "time=2025-05-13T13:50:04.071Z level=WARN source=ggml.go:152 msg=\"key not found\" key=general.alignment default=32\n"
     ]
    },
    {
     "name": "stdout",
     "output_type": "stream",
     "text": [
      "[GIN] 2025/05/13 - 13:50:14 | 200 | 22.085728295s |       127.0.0.1 | POST     \"/api/chat\"\n"
     ]
    },
    {
     "name": "stderr",
     "output_type": "stream",
     "text": [
      "time=2025-05-13T13:50:14.367Z level=WARN source=ggml.go:152 msg=\"key not found\" key=general.alignment default=32\n"
     ]
    },
    {
     "name": "stdout",
     "output_type": "stream",
     "text": [
      "[GIN] 2025/05/13 - 13:50:18 | 200 | 19.170632764s |       127.0.0.1 | POST     \"/api/chat\"\n"
     ]
    },
    {
     "name": "stderr",
     "output_type": "stream",
     "text": [
      "time=2025-05-13T13:50:18.856Z level=WARN source=ggml.go:152 msg=\"key not found\" key=general.alignment default=32\n"
     ]
    },
    {
     "name": "stdout",
     "output_type": "stream",
     "text": [
      "[GIN] 2025/05/13 - 13:50:23 | 200 |  19.59019683s |       127.0.0.1 | POST     \"/api/chat\"\n"
     ]
    },
    {
     "name": "stderr",
     "output_type": "stream",
     "text": [
      "time=2025-05-13T13:50:23.669Z level=WARN source=ggml.go:152 msg=\"key not found\" key=general.alignment default=32\n"
     ]
    },
    {
     "name": "stdout",
     "output_type": "stream",
     "text": [
      "[GIN] 2025/05/13 - 13:50:28 | 200 | 25.462663855s |       127.0.0.1 | POST     \"/api/chat\"\n"
     ]
    },
    {
     "name": "stderr",
     "output_type": "stream",
     "text": [
      "time=2025-05-13T13:50:28.685Z level=WARN source=ggml.go:152 msg=\"key not found\" key=general.alignment default=32\n"
     ]
    },
    {
     "name": "stdout",
     "output_type": "stream",
     "text": [
      "[GIN] 2025/05/13 - 13:50:55 | 200 | 41.563584652s |       127.0.0.1 | POST     \"/api/chat\"\n"
     ]
    },
    {
     "name": "stderr",
     "output_type": "stream",
     "text": [
      "time=2025-05-13T13:50:55.947Z level=WARN source=ggml.go:152 msg=\"key not found\" key=general.alignment default=32\n"
     ]
    },
    {
     "name": "stdout",
     "output_type": "stream",
     "text": [
      "[GIN] 2025/05/13 - 13:50:59 | 200 | 40.814098096s |       127.0.0.1 | POST     \"/api/chat\"\n"
     ]
    },
    {
     "name": "stderr",
     "output_type": "stream",
     "text": [
      "time=2025-05-13T13:50:59.677Z level=WARN source=ggml.go:152 msg=\"key not found\" key=general.alignment default=32\n"
     ]
    },
    {
     "name": "stdout",
     "output_type": "stream",
     "text": [
      "[GIN] 2025/05/13 - 13:51:00 | 200 | 37.127759621s |       127.0.0.1 | POST     \"/api/chat\"\n"
     ]
    },
    {
     "name": "stderr",
     "output_type": "stream",
     "text": [
      "time=2025-05-13T13:51:00.803Z level=WARN source=ggml.go:152 msg=\"key not found\" key=general.alignment default=32\n"
     ]
    },
    {
     "name": "stdout",
     "output_type": "stream",
     "text": [
      "[GIN] 2025/05/13 - 13:51:12 | 200 | 43.367017088s |       127.0.0.1 | POST     \"/api/chat\"\n"
     ]
    },
    {
     "name": "stderr",
     "output_type": "stream",
     "text": [
      "time=2025-05-13T13:51:12.056Z level=WARN source=ggml.go:152 msg=\"key not found\" key=general.alignment default=32\n"
     ]
    },
    {
     "name": "stdout",
     "output_type": "stream",
     "text": [
      "[GIN] 2025/05/13 - 13:51:24 | 200 | 25.202033998s |       127.0.0.1 | POST     \"/api/chat\"\n"
     ]
    },
    {
     "name": "stderr",
     "output_type": "stream",
     "text": [
      "time=2025-05-13T13:51:24.882Z level=WARN source=ggml.go:152 msg=\"key not found\" key=general.alignment default=32\n"
     ]
    },
    {
     "name": "stdout",
     "output_type": "stream",
     "text": [
      "[GIN] 2025/05/13 - 13:51:28 | 200 | 27.896904502s |       127.0.0.1 | POST     \"/api/chat\"\n"
     ]
    },
    {
     "name": "stderr",
     "output_type": "stream",
     "text": [
      "time=2025-05-13T13:51:28.704Z level=WARN source=ggml.go:152 msg=\"key not found\" key=general.alignment default=32\n"
     ]
    },
    {
     "name": "stdout",
     "output_type": "stream",
     "text": [
      "[GIN] 2025/05/13 - 13:51:34 | 200 | 39.044652253s |       127.0.0.1 | POST     \"/api/chat\"\n"
     ]
    },
    {
     "name": "stderr",
     "output_type": "stream",
     "text": [
      "time=2025-05-13T13:51:35.002Z level=WARN source=ggml.go:152 msg=\"key not found\" key=general.alignment default=32\n"
     ]
    },
    {
     "name": "stdout",
     "output_type": "stream",
     "text": [
      "[GIN] 2025/05/13 - 13:51:41 | 200 | 29.031441137s |       127.0.0.1 | POST     \"/api/chat\"\n"
     ]
    },
    {
     "name": "stderr",
     "output_type": "stream",
     "text": [
      "time=2025-05-13T13:51:41.099Z level=WARN source=ggml.go:152 msg=\"key not found\" key=general.alignment default=32\n"
     ]
    },
    {
     "name": "stdout",
     "output_type": "stream",
     "text": [
      "[GIN] 2025/05/13 - 13:51:45 | 200 | 16.652657621s |       127.0.0.1 | POST     \"/api/chat\"\n"
     ]
    },
    {
     "name": "stderr",
     "output_type": "stream",
     "text": [
      "time=2025-05-13T13:51:45.385Z level=WARN source=ggml.go:152 msg=\"key not found\" key=general.alignment default=32\n",
      "time=2025-05-13T13:51:45.387Z level=WARN source=ggml.go:152 msg=\"key not found\" key=general.alignment default=32\n",
      "time=2025-05-13T13:51:45.389Z level=WARN source=ggml.go:152 msg=\"key not found\" key=general.alignment default=32\n"
     ]
    },
    {
     "name": "stdout",
     "output_type": "stream",
     "text": [
      "[GIN] 2025/05/13 - 13:51:48 | 200 | 13.314157346s |       127.0.0.1 | POST     \"/api/chat\"\n"
     ]
    },
    {
     "name": "stderr",
     "output_type": "stream",
     "text": [
      "time=2025-05-13T13:51:48.335Z level=WARN source=ggml.go:152 msg=\"key not found\" key=general.alignment default=32\n"
     ]
    },
    {
     "name": "stdout",
     "output_type": "stream",
     "text": [
      "[GIN] 2025/05/13 - 13:51:54 | 200 | 13.747011773s |       127.0.0.1 | POST     \"/api/chat\"\n"
     ]
    },
    {
     "name": "stderr",
     "output_type": "stream",
     "text": [
      "time=2025-05-13T13:51:54.856Z level=WARN source=ggml.go:152 msg=\"key not found\" key=general.alignment default=32\n"
     ]
    },
    {
     "name": "stdout",
     "output_type": "stream",
     "text": [
      "[GIN] 2025/05/13 - 13:51:56 | 200 | 11.349787997s |       127.0.0.1 | POST     \"/api/chat\"\n",
      "[GIN] 2025/05/13 - 13:51:57 | 200 | 12.619502441s |       127.0.0.1 | POST     \"/api/chat\"\n",
      "[GIN] 2025/05/13 - 13:51:59 | 200 | 13.894942507s |       127.0.0.1 | POST     \"/api/chat\"\n"
     ]
    },
    {
     "name": "stderr",
     "output_type": "stream",
     "text": [
      "time=2025-05-13T13:51:59.276Z level=WARN source=ggml.go:152 msg=\"key not found\" key=general.alignment default=32\n"
     ]
    },
    {
     "name": "stdout",
     "output_type": "stream",
     "text": [
      "[GIN] 2025/05/13 - 13:52:06 | 200 | 18.064338465s |       127.0.0.1 | POST     \"/api/chat\"\n"
     ]
    },
    {
     "name": "stderr",
     "output_type": "stream",
     "text": [
      "time=2025-05-13T13:52:06.394Z level=WARN source=ggml.go:152 msg=\"key not found\" key=general.alignment default=32\n"
     ]
    },
    {
     "name": "stdout",
     "output_type": "stream",
     "text": [
      "[GIN] 2025/05/13 - 13:52:12 | 200 | 17.661782865s |       127.0.0.1 | POST     \"/api/chat\"\n"
     ]
    },
    {
     "name": "stderr",
     "output_type": "stream",
     "text": [
      "time=2025-05-13T13:52:12.515Z level=WARN source=ggml.go:152 msg=\"key not found\" key=general.alignment default=32\n"
     ]
    },
    {
     "name": "stdout",
     "output_type": "stream",
     "text": [
      "[GIN] 2025/05/13 - 13:52:13 | 200 | 48.512454263s |       127.0.0.1 | POST     \"/api/chat\"\n"
     ]
    },
    {
     "name": "stderr",
     "output_type": "stream",
     "text": [
      "time=2025-05-13T13:52:13.414Z level=WARN source=ggml.go:152 msg=\"key not found\" key=general.alignment default=32\n"
     ]
    },
    {
     "name": "stdout",
     "output_type": "stream",
     "text": [
      "[GIN] 2025/05/13 - 13:52:18 | 200 |  19.04378843s |       127.0.0.1 | POST     \"/api/chat\"\n"
     ]
    },
    {
     "name": "stderr",
     "output_type": "stream",
     "text": [
      "time=2025-05-13T13:52:18.325Z level=WARN source=ggml.go:152 msg=\"key not found\" key=general.alignment default=32\n"
     ]
    },
    {
     "name": "stdout",
     "output_type": "stream",
     "text": [
      "[GIN] 2025/05/13 - 13:52:19 | 200 | 13.450953113s |       127.0.0.1 | POST     \"/api/chat\"\n"
     ]
    },
    {
     "name": "stderr",
     "output_type": "stream",
     "text": [
      "time=2025-05-13T13:52:19.853Z level=WARN source=ggml.go:152 msg=\"key not found\" key=general.alignment default=32\n"
     ]
    },
    {
     "name": "stdout",
     "output_type": "stream",
     "text": [
      "[GIN] 2025/05/13 - 13:52:35 | 200 | 21.711898023s |       127.0.0.1 | POST     \"/api/chat\"\n"
     ]
    },
    {
     "name": "stderr",
     "output_type": "stream",
     "text": [
      "time=2025-05-13T13:52:35.123Z level=WARN source=ggml.go:152 msg=\"key not found\" key=general.alignment default=32\n"
     ]
    },
    {
     "name": "stdout",
     "output_type": "stream",
     "text": [
      "[GIN] 2025/05/13 - 13:52:44 | 200 | 32.471125522s |       127.0.0.1 | POST     \"/api/chat\"\n"
     ]
    },
    {
     "name": "stderr",
     "output_type": "stream",
     "text": [
      "time=2025-05-13T13:52:45.007Z level=WARN source=ggml.go:152 msg=\"key not found\" key=general.alignment default=32\n"
     ]
    },
    {
     "name": "stdout",
     "output_type": "stream",
     "text": [
      "[GIN] 2025/05/13 - 13:52:53 | 200 | 35.437310058s |       127.0.0.1 | POST     \"/api/chat\"\n"
     ]
    },
    {
     "name": "stderr",
     "output_type": "stream",
     "text": [
      "time=2025-05-13T13:52:53.782Z level=WARN source=ggml.go:152 msg=\"key not found\" key=general.alignment default=32\n"
     ]
    },
    {
     "name": "stdout",
     "output_type": "stream",
     "text": [
      "[GIN] 2025/05/13 - 13:53:02 | 200 | 42.738309829s |       127.0.0.1 | POST     \"/api/chat\"\n"
     ]
    },
    {
     "name": "stderr",
     "output_type": "stream",
     "text": [
      "time=2025-05-13T13:53:02.595Z level=WARN source=ggml.go:152 msg=\"key not found\" key=general.alignment default=32\n"
     ]
    },
    {
     "name": "stdout",
     "output_type": "stream",
     "text": [
      "[GIN] 2025/05/13 - 13:53:19 | 200 | 34.034969023s |       127.0.0.1 | POST     \"/api/chat\"\n"
     ]
    },
    {
     "name": "stderr",
     "output_type": "stream",
     "text": [
      "time=2025-05-13T13:53:19.034Z level=WARN source=ggml.go:152 msg=\"key not found\" key=general.alignment default=32\n"
     ]
    },
    {
     "name": "stdout",
     "output_type": "stream",
     "text": [
      "[GIN] 2025/05/13 - 13:53:22 | 200 | 29.159441928s |       127.0.0.1 | POST     \"/api/chat\"\n"
     ]
    },
    {
     "name": "stderr",
     "output_type": "stream",
     "text": [
      "time=2025-05-13T13:53:22.938Z level=WARN source=ggml.go:152 msg=\"key not found\" key=general.alignment default=32\n"
     ]
    },
    {
     "name": "stdout",
     "output_type": "stream",
     "text": [
      "[GIN] 2025/05/13 - 13:53:24 | 200 | 49.425017174s |       127.0.0.1 | POST     \"/api/chat\"\n"
     ]
    },
    {
     "name": "stderr",
     "output_type": "stream",
     "text": [
      "time=2025-05-13T13:53:24.562Z level=WARN source=ggml.go:152 msg=\"key not found\" key=general.alignment default=32\n"
     ]
    },
    {
     "name": "stdout",
     "output_type": "stream",
     "text": [
      "[GIN] 2025/05/13 - 13:53:32 | 200 | 29.854722999s |       127.0.0.1 | POST     \"/api/chat\"\n"
     ]
    },
    {
     "name": "stderr",
     "output_type": "stream",
     "text": [
      "time=2025-05-13T13:53:32.458Z level=WARN source=ggml.go:152 msg=\"key not found\" key=general.alignment default=32\n"
     ]
    },
    {
     "name": "stdout",
     "output_type": "stream",
     "text": [
      "[GIN] 2025/05/13 - 13:53:36 | 200 |  13.09480002s |       127.0.0.1 | POST     \"/api/chat\"\n"
     ]
    },
    {
     "name": "stderr",
     "output_type": "stream",
     "text": [
      "time=2025-05-13T13:53:36.039Z level=WARN source=ggml.go:152 msg=\"key not found\" key=general.alignment default=32\n"
     ]
    },
    {
     "name": "stdout",
     "output_type": "stream",
     "text": [
      "[GIN] 2025/05/13 - 13:53:46 | 200 | 27.351840095s |       127.0.0.1 | POST     \"/api/chat\"\n"
     ]
    },
    {
     "name": "stderr",
     "output_type": "stream",
     "text": [
      "time=2025-05-13T13:53:46.407Z level=WARN source=ggml.go:152 msg=\"key not found\" key=general.alignment default=32\n"
     ]
    },
    {
     "name": "stdout",
     "output_type": "stream",
     "text": [
      "[GIN] 2025/05/13 - 13:53:49 | 200 |  25.21059742s |       127.0.0.1 | POST     \"/api/chat\"\n"
     ]
    },
    {
     "name": "stderr",
     "output_type": "stream",
     "text": [
      "time=2025-05-13T13:53:49.769Z level=WARN source=ggml.go:152 msg=\"key not found\" key=general.alignment default=32\n"
     ]
    },
    {
     "name": "stdout",
     "output_type": "stream",
     "text": [
      "[GIN] 2025/05/13 - 13:53:53 | 200 | 17.342614867s |       127.0.0.1 | POST     \"/api/chat\"\n"
     ]
    },
    {
     "name": "stderr",
     "output_type": "stream",
     "text": [
      "time=2025-05-13T13:53:53.386Z level=WARN source=ggml.go:152 msg=\"key not found\" key=general.alignment default=32\n"
     ]
    },
    {
     "name": "stdout",
     "output_type": "stream",
     "text": [
      "[GIN] 2025/05/13 - 13:54:14 | 200 | 27.823007454s |       127.0.0.1 | POST     \"/api/chat\"\n"
     ]
    },
    {
     "name": "stderr",
     "output_type": "stream",
     "text": [
      "time=2025-05-13T13:54:14.224Z level=WARN source=ggml.go:152 msg=\"key not found\" key=general.alignment default=32\n"
     ]
    },
    {
     "name": "stdout",
     "output_type": "stream",
     "text": [
      "[GIN] 2025/05/13 - 13:54:24 | 200 | 52.342817011s |       127.0.0.1 | POST     \"/api/chat\"\n"
     ]
    },
    {
     "name": "stderr",
     "output_type": "stream",
     "text": [
      "time=2025-05-13T13:54:24.823Z level=WARN source=ggml.go:152 msg=\"key not found\" key=general.alignment default=32\n"
     ]
    },
    {
     "name": "stdout",
     "output_type": "stream",
     "text": [
      "[GIN] 2025/05/13 - 13:54:28 | 200 | 34.991211835s |       127.0.0.1 | POST     \"/api/chat\"\n"
     ]
    },
    {
     "name": "stderr",
     "output_type": "stream",
     "text": [
      "time=2025-05-13T13:54:28.386Z level=WARN source=ggml.go:152 msg=\"key not found\" key=general.alignment default=32\n"
     ]
    },
    {
     "name": "stdout",
     "output_type": "stream",
     "text": [
      "[GIN] 2025/05/13 - 13:54:45 | 200 | 55.305655138s |       127.0.0.1 | POST     \"/api/chat\"\n"
     ]
    },
    {
     "name": "stderr",
     "output_type": "stream",
     "text": [
      "time=2025-05-13T13:54:45.086Z level=WARN source=ggml.go:152 msg=\"key not found\" key=general.alignment default=32\n"
     ]
    },
    {
     "name": "stdout",
     "output_type": "stream",
     "text": [
      "[GIN] 2025/05/13 - 13:54:50 | 200 | 36.649764166s |       127.0.0.1 | POST     \"/api/chat\"\n"
     ]
    },
    {
     "name": "stderr",
     "output_type": "stream",
     "text": [
      "time=2025-05-13T13:54:50.879Z level=WARN source=ggml.go:152 msg=\"key not found\" key=general.alignment default=32\n"
     ]
    },
    {
     "name": "stdout",
     "output_type": "stream",
     "text": [
      "[GIN] 2025/05/13 - 13:54:54 | 200 | 26.271259995s |       127.0.0.1 | POST     \"/api/chat\"\n"
     ]
    },
    {
     "name": "stderr",
     "output_type": "stream",
     "text": [
      "time=2025-05-13T13:54:54.665Z level=WARN source=ggml.go:152 msg=\"key not found\" key=general.alignment default=32\n"
     ]
    },
    {
     "name": "stdout",
     "output_type": "stream",
     "text": [
      "[GIN] 2025/05/13 - 13:55:03 | 200 | 38.262724472s |       127.0.0.1 | POST     \"/api/chat\"\n"
     ]
    },
    {
     "name": "stderr",
     "output_type": "stream",
     "text": [
      "time=2025-05-13T13:55:03.082Z level=WARN source=ggml.go:152 msg=\"key not found\" key=general.alignment default=32\n"
     ]
    },
    {
     "name": "stdout",
     "output_type": "stream",
     "text": [
      "[GIN] 2025/05/13 - 13:55:11 | 200 | 26.209779622s |       127.0.0.1 | POST     \"/api/chat\"\n"
     ]
    },
    {
     "name": "stderr",
     "output_type": "stream",
     "text": [
      "time=2025-05-13T13:55:11.301Z level=WARN source=ggml.go:152 msg=\"key not found\" key=general.alignment default=32\n"
     ]
    },
    {
     "name": "stdout",
     "output_type": "stream",
     "text": [
      "[GIN] 2025/05/13 - 13:55:13 | 200 | 18.738767278s |       127.0.0.1 | POST     \"/api/chat\"\n"
     ]
    },
    {
     "name": "stderr",
     "output_type": "stream",
     "text": [
      "time=2025-05-13T13:55:13.421Z level=WARN source=ggml.go:152 msg=\"key not found\" key=general.alignment default=32\n"
     ]
    },
    {
     "name": "stdout",
     "output_type": "stream",
     "text": [
      "[GIN] 2025/05/13 - 13:55:19 | 200 | 16.149109908s |       127.0.0.1 | POST     \"/api/chat\"\n"
     ]
    },
    {
     "name": "stderr",
     "output_type": "stream",
     "text": [
      "time=2025-05-13T13:55:19.237Z level=WARN source=ggml.go:152 msg=\"key not found\" key=general.alignment default=32\n"
     ]
    },
    {
     "name": "stdout",
     "output_type": "stream",
     "text": [
      "[GIN] 2025/05/13 - 13:55:25 | 200 | 34.436883334s |       127.0.0.1 | POST     \"/api/chat\"\n"
     ]
    },
    {
     "name": "stderr",
     "output_type": "stream",
     "text": [
      "time=2025-05-13T13:55:25.321Z level=WARN source=ggml.go:152 msg=\"key not found\" key=general.alignment default=32\n"
     ]
    },
    {
     "name": "stdout",
     "output_type": "stream",
     "text": [
      "[GIN] 2025/05/13 - 13:55:30 | 200 | 17.526267976s |       127.0.0.1 | POST     \"/api/chat\"\n"
     ]
    },
    {
     "name": "stderr",
     "output_type": "stream",
     "text": [
      "time=2025-05-13T13:55:30.962Z level=WARN source=ggml.go:152 msg=\"key not found\" key=general.alignment default=32\n",
      "time=2025-05-13T13:55:30.964Z level=WARN source=ggml.go:152 msg=\"key not found\" key=general.alignment default=32\n",
      "time=2025-05-13T13:55:30.968Z level=WARN source=ggml.go:152 msg=\"key not found\" key=general.alignment default=32\n"
     ]
    },
    {
     "name": "stdout",
     "output_type": "stream",
     "text": [
      "[GIN] 2025/05/13 - 13:55:36 | 200 | 25.452624546s |       127.0.0.1 | POST     \"/api/chat\"\n"
     ]
    },
    {
     "name": "stderr",
     "output_type": "stream",
     "text": [
      "time=2025-05-13T13:55:36.764Z level=WARN source=ggml.go:152 msg=\"key not found\" key=general.alignment default=32\n"
     ]
    },
    {
     "name": "stdout",
     "output_type": "stream",
     "text": [
      "[GIN] 2025/05/13 - 13:55:39 | 200 | 19.888384054s |       127.0.0.1 | POST     \"/api/chat\"\n"
     ]
    },
    {
     "name": "stderr",
     "output_type": "stream",
     "text": [
      "time=2025-05-13T13:55:39.138Z level=WARN source=ggml.go:152 msg=\"key not found\" key=general.alignment default=32\n"
     ]
    },
    {
     "name": "stdout",
     "output_type": "stream",
     "text": [
      "[GIN] 2025/05/13 - 13:55:41 | 200 | 10.439834514s |       127.0.0.1 | POST     \"/api/chat\"\n",
      "[GIN] 2025/05/13 - 13:55:42 | 200 | 11.895142915s |       127.0.0.1 | POST     \"/api/chat\"\n",
      "[GIN] 2025/05/13 - 13:55:44 | 200 | 13.353463559s |       127.0.0.1 | POST     \"/api/chat\"\n"
     ]
    },
    {
     "name": "stderr",
     "output_type": "stream",
     "text": [
      "time=2025-05-13T13:55:44.313Z level=WARN source=ggml.go:152 msg=\"key not found\" key=general.alignment default=32\n"
     ]
    },
    {
     "name": "stdout",
     "output_type": "stream",
     "text": [
      "[GIN] 2025/05/13 - 13:55:51 | 200 | 14.642740579s |       127.0.0.1 | POST     \"/api/chat\"\n"
     ]
    },
    {
     "name": "stderr",
     "output_type": "stream",
     "text": [
      "time=2025-05-13T13:55:51.423Z level=WARN source=ggml.go:152 msg=\"key not found\" key=general.alignment default=32\n"
     ]
    },
    {
     "name": "stdout",
     "output_type": "stream",
     "text": [
      "[GIN] 2025/05/13 - 13:56:01 | 200 |  36.48957329s |       127.0.0.1 | POST     \"/api/chat\"\n"
     ]
    },
    {
     "name": "stderr",
     "output_type": "stream",
     "text": [
      "time=2025-05-13T13:56:01.824Z level=WARN source=ggml.go:152 msg=\"key not found\" key=general.alignment default=32\n"
     ]
    },
    {
     "name": "stdout",
     "output_type": "stream",
     "text": [
      "[GIN] 2025/05/13 - 13:56:09 | 200 | 29.942737267s |       127.0.0.1 | POST     \"/api/chat\"\n"
     ]
    },
    {
     "name": "stderr",
     "output_type": "stream",
     "text": [
      "time=2025-05-13T13:56:09.083Z level=WARN source=ggml.go:152 msg=\"key not found\" key=general.alignment default=32\n"
     ]
    },
    {
     "name": "stdout",
     "output_type": "stream",
     "text": [
      "[GIN] 2025/05/13 - 13:56:11 | 200 | 26.917839147s |       127.0.0.1 | POST     \"/api/chat\"\n"
     ]
    },
    {
     "name": "stderr",
     "output_type": "stream",
     "text": [
      "time=2025-05-13T13:56:11.236Z level=WARN source=ggml.go:152 msg=\"key not found\" key=general.alignment default=32\n"
     ]
    },
    {
     "name": "stdout",
     "output_type": "stream",
     "text": [
      "[GIN] 2025/05/13 - 13:56:31 | 200 |  29.31117186s |       127.0.0.1 | POST     \"/api/chat\"\n"
     ]
    },
    {
     "name": "stderr",
     "output_type": "stream",
     "text": [
      "time=2025-05-13T13:56:31.136Z level=WARN source=ggml.go:152 msg=\"key not found\" key=general.alignment default=32\n"
     ]
    },
    {
     "name": "stdout",
     "output_type": "stream",
     "text": [
      "[GIN] 2025/05/13 - 13:56:32 | 200 | 40.914533738s |       127.0.0.1 | POST     \"/api/chat\"\n"
     ]
    },
    {
     "name": "stderr",
     "output_type": "stream",
     "text": [
      "time=2025-05-13T13:56:32.340Z level=WARN source=ggml.go:152 msg=\"key not found\" key=general.alignment default=32\n"
     ]
    },
    {
     "name": "stdout",
     "output_type": "stream",
     "text": [
      "[GIN] 2025/05/13 - 13:56:52 | 200 | 43.845727074s |       127.0.0.1 | POST     \"/api/chat\"\n"
     ]
    },
    {
     "name": "stderr",
     "output_type": "stream",
     "text": [
      "time=2025-05-13T13:56:52.938Z level=WARN source=ggml.go:152 msg=\"key not found\" key=general.alignment default=32\n"
     ]
    },
    {
     "name": "stdout",
     "output_type": "stream",
     "text": [
      "[GIN] 2025/05/13 - 13:56:53 | 200 | 42.473975951s |       127.0.0.1 | POST     \"/api/chat\"\n"
     ]
    },
    {
     "name": "stderr",
     "output_type": "stream",
     "text": [
      "time=2025-05-13T13:56:53.715Z level=WARN source=ggml.go:152 msg=\"key not found\" key=general.alignment default=32\n"
     ]
    },
    {
     "name": "stdout",
     "output_type": "stream",
     "text": [
      "[GIN] 2025/05/13 - 13:56:57 | 200 | 24.986457002s |       127.0.0.1 | POST     \"/api/chat\"\n"
     ]
    },
    {
     "name": "stderr",
     "output_type": "stream",
     "text": [
      "time=2025-05-13T13:56:57.331Z level=WARN source=ggml.go:152 msg=\"key not found\" key=general.alignment default=32\n"
     ]
    },
    {
     "name": "stdout",
     "output_type": "stream",
     "text": [
      "[GIN] 2025/05/13 - 13:57:13 | 200 | 42.514837211s |       127.0.0.1 | POST     \"/api/chat\"\n"
     ]
    },
    {
     "name": "stderr",
     "output_type": "stream",
     "text": [
      "time=2025-05-13T13:57:13.658Z level=WARN source=ggml.go:152 msg=\"key not found\" key=general.alignment default=32\n"
     ]
    },
    {
     "name": "stdout",
     "output_type": "stream",
     "text": [
      "[GIN] 2025/05/13 - 13:57:16 | 200 | 23.326819997s |       127.0.0.1 | POST     \"/api/chat\"\n"
     ]
    },
    {
     "name": "stderr",
     "output_type": "stream",
     "text": [
      "time=2025-05-13T13:57:16.270Z level=WARN source=ggml.go:152 msg=\"key not found\" key=general.alignment default=32\n"
     ]
    },
    {
     "name": "stdout",
     "output_type": "stream",
     "text": [
      "[GIN] 2025/05/13 - 13:57:19 | 200 |  22.15801227s |       127.0.0.1 | POST     \"/api/chat\"\n"
     ]
    },
    {
     "name": "stderr",
     "output_type": "stream",
     "text": [
      "time=2025-05-13T13:57:19.502Z level=WARN source=ggml.go:152 msg=\"key not found\" key=general.alignment default=32\n"
     ]
    },
    {
     "name": "stdout",
     "output_type": "stream",
     "text": [
      "[GIN] 2025/05/13 - 13:57:21 | 200 | 27.474512759s |       127.0.0.1 | POST     \"/api/chat\"\n"
     ]
    },
    {
     "name": "stderr",
     "output_type": "stream",
     "text": [
      "time=2025-05-13T13:57:21.199Z level=WARN source=ggml.go:152 msg=\"key not found\" key=general.alignment default=32\n"
     ]
    },
    {
     "name": "stdout",
     "output_type": "stream",
     "text": [
      "[GIN] 2025/05/13 - 13:57:41 | 200 | 27.388833162s |       127.0.0.1 | POST     \"/api/chat\"\n"
     ]
    },
    {
     "name": "stderr",
     "output_type": "stream",
     "text": [
      "time=2025-05-13T13:57:41.052Z level=WARN source=ggml.go:152 msg=\"key not found\" key=general.alignment default=32\n"
     ]
    },
    {
     "name": "stdout",
     "output_type": "stream",
     "text": [
      "[GIN] 2025/05/13 - 13:57:44 | 200 |  25.35383051s |       127.0.0.1 | POST     \"/api/chat\"\n"
     ]
    },
    {
     "name": "stderr",
     "output_type": "stream",
     "text": [
      "time=2025-05-13T13:57:44.851Z level=WARN source=ggml.go:152 msg=\"key not found\" key=general.alignment default=32\n"
     ]
    },
    {
     "name": "stdout",
     "output_type": "stream",
     "text": [
      "[GIN] 2025/05/13 - 13:57:46 | 200 | 30.400238636s |       127.0.0.1 | POST     \"/api/chat\"\n"
     ]
    },
    {
     "name": "stderr",
     "output_type": "stream",
     "text": [
      "time=2025-05-13T13:57:46.677Z level=WARN source=ggml.go:152 msg=\"key not found\" key=general.alignment default=32\n"
     ]
    },
    {
     "name": "stdout",
     "output_type": "stream",
     "text": [
      "[GIN] 2025/05/13 - 13:57:59 | 200 | 38.791085268s |       127.0.0.1 | POST     \"/api/chat\"\n"
     ]
    },
    {
     "name": "stderr",
     "output_type": "stream",
     "text": [
      "time=2025-05-13T13:58:00.006Z level=WARN source=ggml.go:152 msg=\"key not found\" key=general.alignment default=32\n"
     ]
    },
    {
     "name": "stdout",
     "output_type": "stream",
     "text": [
      "[GIN] 2025/05/13 - 13:58:03 | 200 | 18.248903346s |       127.0.0.1 | POST     \"/api/chat\"\n"
     ]
    },
    {
     "name": "stderr",
     "output_type": "stream",
     "text": [
      "time=2025-05-13T13:58:03.107Z level=WARN source=ggml.go:152 msg=\"key not found\" key=general.alignment default=32\n"
     ]
    },
    {
     "name": "stdout",
     "output_type": "stream",
     "text": [
      "[GIN] 2025/05/13 - 13:58:08 | 200 | 27.894745884s |       127.0.0.1 | POST     \"/api/chat\"\n"
     ]
    },
    {
     "name": "stderr",
     "output_type": "stream",
     "text": [
      "time=2025-05-13T13:58:08.959Z level=WARN source=ggml.go:152 msg=\"key not found\" key=general.alignment default=32\n"
     ]
    },
    {
     "name": "stdout",
     "output_type": "stream",
     "text": [
      "[GIN] 2025/05/13 - 13:58:21 | 200 | 34.875876027s |       127.0.0.1 | POST     \"/api/chat\"\n"
     ]
    },
    {
     "name": "stderr",
     "output_type": "stream",
     "text": [
      "time=2025-05-13T13:58:21.552Z level=WARN source=ggml.go:152 msg=\"key not found\" key=general.alignment default=32\n"
     ]
    },
    {
     "name": "stdout",
     "output_type": "stream",
     "text": [
      "[GIN] 2025/05/13 - 13:58:24 | 200 | 24.401803731s |       127.0.0.1 | POST     \"/api/chat\"\n"
     ]
    },
    {
     "name": "stderr",
     "output_type": "stream",
     "text": [
      "time=2025-05-13T13:58:24.415Z level=WARN source=ggml.go:152 msg=\"key not found\" key=general.alignment default=32\n"
     ]
    },
    {
     "name": "stdout",
     "output_type": "stream",
     "text": [
      "[GIN] 2025/05/13 - 13:58:25 | 200 | 22.809027686s |       127.0.0.1 | POST     \"/api/chat\"\n"
     ]
    },
    {
     "name": "stderr",
     "output_type": "stream",
     "text": [
      "time=2025-05-13T13:58:25.941Z level=WARN source=ggml.go:152 msg=\"key not found\" key=general.alignment default=32\n",
      "time=2025-05-13T13:58:25.950Z level=WARN source=ggml.go:152 msg=\"key not found\" key=general.alignment default=32\n",
      "time=2025-05-13T13:58:25.951Z level=WARN source=ggml.go:152 msg=\"key not found\" key=general.alignment default=32\n"
     ]
    },
    {
     "name": "stdout",
     "output_type": "stream",
     "text": [
      "[GIN] 2025/05/13 - 13:58:29 | 200 | 20.096630032s |       127.0.0.1 | POST     \"/api/chat\"\n"
     ]
    },
    {
     "name": "stderr",
     "output_type": "stream",
     "text": [
      "time=2025-05-13T13:58:29.078Z level=WARN source=ggml.go:152 msg=\"key not found\" key=general.alignment default=32\n"
     ]
    },
    {
     "name": "stdout",
     "output_type": "stream",
     "text": [
      "[GIN] 2025/05/13 - 13:58:35 | 200 | 10.883102445s |       127.0.0.1 | POST     \"/api/chat\"\n"
     ]
    },
    {
     "name": "stderr",
     "output_type": "stream",
     "text": [
      "time=2025-05-13T13:58:35.296Z level=WARN source=ggml.go:152 msg=\"key not found\" key=general.alignment default=32\n"
     ]
    },
    {
     "name": "stdout",
     "output_type": "stream",
     "text": [
      "[GIN] 2025/05/13 - 13:58:36 | 200 | 10.969246395s |       127.0.0.1 | POST     \"/api/chat\"\n",
      "[GIN] 2025/05/13 - 13:58:38 | 200 | 12.118241916s |       127.0.0.1 | POST     \"/api/chat\"\n",
      "[GIN] 2025/05/13 - 13:58:39 | 200 | 13.208457296s |       127.0.0.1 | POST     \"/api/chat\"\n"
     ]
    },
    {
     "name": "stderr",
     "output_type": "stream",
     "text": [
      "time=2025-05-13T13:58:39.159Z level=WARN source=ggml.go:152 msg=\"key not found\" key=general.alignment default=32\n"
     ]
    },
    {
     "name": "stdout",
     "output_type": "stream",
     "text": [
      "[GIN] 2025/05/13 - 13:58:51 | 200 |   29.6591358s |       127.0.0.1 | POST     \"/api/chat\"\n"
     ]
    },
    {
     "name": "stderr",
     "output_type": "stream",
     "text": [
      "time=2025-05-13T13:58:51.224Z level=WARN source=ggml.go:152 msg=\"key not found\" key=general.alignment default=32\n"
     ]
    },
    {
     "name": "stdout",
     "output_type": "stream",
     "text": [
      "[GIN] 2025/05/13 - 13:58:52 | 200 | 23.298846073s |       127.0.0.1 | POST     \"/api/chat\"\n"
     ]
    },
    {
     "name": "stderr",
     "output_type": "stream",
     "text": [
      "time=2025-05-13T13:58:52.372Z level=WARN source=ggml.go:152 msg=\"key not found\" key=general.alignment default=32\n"
     ]
    },
    {
     "name": "stdout",
     "output_type": "stream",
     "text": [
      "[GIN] 2025/05/13 - 13:58:54 | 200 | 19.156516645s |       127.0.0.1 | POST     \"/api/chat\"\n"
     ]
    },
    {
     "name": "stderr",
     "output_type": "stream",
     "text": [
      "time=2025-05-13T13:58:54.458Z level=WARN source=ggml.go:152 msg=\"key not found\" key=general.alignment default=32\n"
     ]
    },
    {
     "name": "stdout",
     "output_type": "stream",
     "text": [
      "[GIN] 2025/05/13 - 13:58:56 | 200 | 16.954017313s |       127.0.0.1 | POST     \"/api/chat\"\n"
     ]
    },
    {
     "name": "stderr",
     "output_type": "stream",
     "text": [
      "time=2025-05-13T13:58:56.121Z level=WARN source=ggml.go:152 msg=\"key not found\" key=general.alignment default=32\n"
     ]
    },
    {
     "name": "stdout",
     "output_type": "stream",
     "text": [
      "[GIN] 2025/05/13 - 13:58:58 | 200 |  6.099792442s |       127.0.0.1 | POST     \"/api/chat\"\n"
     ]
    },
    {
     "name": "stderr",
     "output_type": "stream",
     "text": [
      "time=2025-05-13T13:58:58.476Z level=WARN source=ggml.go:152 msg=\"key not found\" key=general.alignment default=32\n"
     ]
    },
    {
     "name": "stdout",
     "output_type": "stream",
     "text": [
      "[GIN] 2025/05/13 - 13:59:13 | 200 | 21.986994484s |       127.0.0.1 | POST     \"/api/chat\"\n"
     ]
    },
    {
     "name": "stderr",
     "output_type": "stream",
     "text": [
      "time=2025-05-13T13:59:13.212Z level=WARN source=ggml.go:152 msg=\"key not found\" key=general.alignment default=32\n"
     ]
    },
    {
     "name": "stdout",
     "output_type": "stream",
     "text": [
      "[GIN] 2025/05/13 - 13:59:19 | 200 | 24.840350303s |       127.0.0.1 | POST     \"/api/chat\"\n"
     ]
    },
    {
     "name": "stderr",
     "output_type": "stream",
     "text": [
      "time=2025-05-13T13:59:19.304Z level=WARN source=ggml.go:152 msg=\"key not found\" key=general.alignment default=32\n"
     ]
    },
    {
     "name": "stdout",
     "output_type": "stream",
     "text": [
      "[GIN] 2025/05/13 - 13:59:23 | 200 | 26.990518231s |       127.0.0.1 | POST     \"/api/chat\"\n"
     ]
    },
    {
     "name": "stderr",
     "output_type": "stream",
     "text": [
      "time=2025-05-13T13:59:23.112Z level=WARN source=ggml.go:152 msg=\"key not found\" key=general.alignment default=32\n"
     ]
    },
    {
     "name": "stdout",
     "output_type": "stream",
     "text": [
      "[GIN] 2025/05/13 - 13:59:26 | 200 | 28.475222638s |       127.0.0.1 | POST     \"/api/chat\"\n"
     ]
    },
    {
     "name": "stderr",
     "output_type": "stream",
     "text": [
      "time=2025-05-13T13:59:26.959Z level=WARN source=ggml.go:152 msg=\"key not found\" key=general.alignment default=32\n"
     ]
    },
    {
     "name": "stdout",
     "output_type": "stream",
     "text": [
      "[GIN] 2025/05/13 - 13:59:33 | 200 | 14.623146682s |       127.0.0.1 | POST     \"/api/chat\"\n"
     ]
    },
    {
     "name": "stderr",
     "output_type": "stream",
     "text": [
      "time=2025-05-13T13:59:33.934Z level=WARN source=ggml.go:152 msg=\"key not found\" key=general.alignment default=32\n"
     ]
    },
    {
     "name": "stdout",
     "output_type": "stream",
     "text": [
      "[GIN] 2025/05/13 - 13:59:37 | 200 |  14.35038273s |       127.0.0.1 | POST     \"/api/chat\"\n"
     ]
    },
    {
     "name": "stderr",
     "output_type": "stream",
     "text": [
      "time=2025-05-13T13:59:37.469Z level=WARN source=ggml.go:152 msg=\"key not found\" key=general.alignment default=32\n"
     ]
    },
    {
     "name": "stdout",
     "output_type": "stream",
     "text": [
      "[GIN] 2025/05/13 - 13:59:43 | 200 | 16.973950201s |       127.0.0.1 | POST     \"/api/chat\"\n"
     ]
    },
    {
     "name": "stderr",
     "output_type": "stream",
     "text": [
      "time=2025-05-13T13:59:43.946Z level=WARN source=ggml.go:152 msg=\"key not found\" key=general.alignment default=32\n"
     ]
    },
    {
     "name": "stdout",
     "output_type": "stream",
     "text": [
      "[GIN] 2025/05/13 - 13:59:47 | 200 | 34.081839163s |       127.0.0.1 | POST     \"/api/chat\"\n"
     ]
    },
    {
     "name": "stderr",
     "output_type": "stream",
     "text": [
      "time=2025-05-13T13:59:47.298Z level=WARN source=ggml.go:152 msg=\"key not found\" key=general.alignment default=32\n"
     ]
    },
    {
     "name": "stdout",
     "output_type": "stream",
     "text": [
      "[GIN] 2025/05/13 - 13:59:50 | 200 | 12.997035293s |       127.0.0.1 | POST     \"/api/chat\"\n"
     ]
    },
    {
     "name": "stderr",
     "output_type": "stream",
     "text": [
      "time=2025-05-13T13:59:50.472Z level=WARN source=ggml.go:152 msg=\"key not found\" key=general.alignment default=32\n"
     ]
    },
    {
     "name": "stdout",
     "output_type": "stream",
     "text": [
      "[GIN] 2025/05/13 - 14:00:06 | 200 | 32.229733354s |       127.0.0.1 | POST     \"/api/chat\"\n"
     ]
    },
    {
     "name": "stderr",
     "output_type": "stream",
     "text": [
      "time=2025-05-13T14:00:06.171Z level=WARN source=ggml.go:152 msg=\"key not found\" key=general.alignment default=32\n"
     ]
    },
    {
     "name": "stdout",
     "output_type": "stream",
     "text": [
      "[GIN] 2025/05/13 - 14:00:08 | 200 | 24.170799292s |       127.0.0.1 | POST     \"/api/chat\"\n"
     ]
    },
    {
     "name": "stderr",
     "output_type": "stream",
     "text": [
      "time=2025-05-13T14:00:08.118Z level=WARN source=ggml.go:152 msg=\"key not found\" key=general.alignment default=32\n"
     ]
    },
    {
     "name": "stdout",
     "output_type": "stream",
     "text": [
      "[GIN] 2025/05/13 - 14:00:11 | 200 | 21.134190993s |       127.0.0.1 | POST     \"/api/chat\"\n"
     ]
    },
    {
     "name": "stderr",
     "output_type": "stream",
     "text": [
      "time=2025-05-13T14:00:11.619Z level=WARN source=ggml.go:152 msg=\"key not found\" key=general.alignment default=32\n"
     ]
    },
    {
     "name": "stdout",
     "output_type": "stream",
     "text": [
      "[GIN] 2025/05/13 - 14:00:20 | 200 | 13.854168674s |       127.0.0.1 | POST     \"/api/chat\"\n"
     ]
    },
    {
     "name": "stderr",
     "output_type": "stream",
     "text": [
      "time=2025-05-13T14:00:20.030Z level=WARN source=ggml.go:152 msg=\"key not found\" key=general.alignment default=32\n"
     ]
    },
    {
     "name": "stdout",
     "output_type": "stream",
     "text": [
      "[GIN] 2025/05/13 - 14:00:28 | 200 |  41.34539981s |       127.0.0.1 | POST     \"/api/chat\"\n"
     ]
    },
    {
     "name": "stderr",
     "output_type": "stream",
     "text": [
      "time=2025-05-13T14:00:28.652Z level=WARN source=ggml.go:152 msg=\"key not found\" key=general.alignment default=32\n"
     ]
    },
    {
     "name": "stdout",
     "output_type": "stream",
     "text": [
      "[GIN] 2025/05/13 - 14:00:33 | 200 | 21.431908899s |       127.0.0.1 | POST     \"/api/chat\"\n"
     ]
    },
    {
     "name": "stderr",
     "output_type": "stream",
     "text": [
      "time=2025-05-13T14:00:33.051Z level=WARN source=ggml.go:152 msg=\"key not found\" key=general.alignment default=32\n"
     ]
    },
    {
     "name": "stdout",
     "output_type": "stream",
     "text": [
      "[GIN] 2025/05/13 - 14:00:46 | 200 | 38.812945934s |       127.0.0.1 | POST     \"/api/chat\"\n"
     ]
    },
    {
     "name": "stderr",
     "output_type": "stream",
     "text": [
      "time=2025-05-13T14:00:46.937Z level=WARN source=ggml.go:152 msg=\"key not found\" key=general.alignment default=32\n"
     ]
    },
    {
     "name": "stdout",
     "output_type": "stream",
     "text": [
      "[GIN] 2025/05/13 - 14:00:56 | 200 | 36.333286857s |       127.0.0.1 | POST     \"/api/chat\"\n"
     ]
    },
    {
     "name": "stderr",
     "output_type": "stream",
     "text": [
      "time=2025-05-13T14:00:56.373Z level=WARN source=ggml.go:152 msg=\"key not found\" key=general.alignment default=32\n"
     ]
    },
    {
     "name": "stdout",
     "output_type": "stream",
     "text": [
      "[GIN] 2025/05/13 - 14:00:59 | 200 | 26.698938454s |       127.0.0.1 | POST     \"/api/chat\"\n"
     ]
    },
    {
     "name": "stderr",
     "output_type": "stream",
     "text": [
      "time=2025-05-13T14:00:59.758Z level=WARN source=ggml.go:152 msg=\"key not found\" key=general.alignment default=32\n"
     ]
    },
    {
     "name": "stdout",
     "output_type": "stream",
     "text": [
      "[GIN] 2025/05/13 - 14:01:04 | 200 | 17.124494003s |       127.0.0.1 | POST     \"/api/chat\"\n"
     ]
    },
    {
     "name": "stderr",
     "output_type": "stream",
     "text": [
      "time=2025-05-13T14:01:04.069Z level=WARN source=ggml.go:152 msg=\"key not found\" key=general.alignment default=32\n"
     ]
    },
    {
     "name": "stdout",
     "output_type": "stream",
     "text": [
      "[GIN] 2025/05/13 - 14:01:11 | 200 | 43.357779053s |       127.0.0.1 | POST     \"/api/chat\"\n"
     ]
    },
    {
     "name": "stderr",
     "output_type": "stream",
     "text": [
      "time=2025-05-13T14:01:12.021Z level=WARN source=ggml.go:152 msg=\"key not found\" key=general.alignment default=32\n"
     ]
    },
    {
     "name": "stdout",
     "output_type": "stream",
     "text": [
      "[GIN] 2025/05/13 - 14:01:13 | 200 |  17.63440086s |       127.0.0.1 | POST     \"/api/chat\"\n"
     ]
    },
    {
     "name": "stderr",
     "output_type": "stream",
     "text": [
      "time=2025-05-13T14:01:14.019Z level=WARN source=ggml.go:152 msg=\"key not found\" key=general.alignment default=32\n"
     ]
    },
    {
     "name": "stdout",
     "output_type": "stream",
     "text": [
      "[GIN] 2025/05/13 - 14:01:19 | 200 | 15.069075505s |       127.0.0.1 | POST     \"/api/chat\"\n"
     ]
    },
    {
     "name": "stderr",
     "output_type": "stream",
     "text": [
      "time=2025-05-13T14:01:19.166Z level=WARN source=ggml.go:152 msg=\"key not found\" key=general.alignment default=32\n",
      "time=2025-05-13T14:01:19.168Z level=WARN source=ggml.go:152 msg=\"key not found\" key=general.alignment default=32\n",
      "time=2025-05-13T14:01:19.171Z level=WARN source=ggml.go:152 msg=\"key not found\" key=general.alignment default=32\n"
     ]
    },
    {
     "name": "stdout",
     "output_type": "stream",
     "text": [
      "[GIN] 2025/05/13 - 14:01:23 | 200 | 23.303662524s |       127.0.0.1 | POST     \"/api/chat\"\n"
     ]
    },
    {
     "name": "stderr",
     "output_type": "stream",
     "text": [
      "time=2025-05-13T14:01:23.072Z level=WARN source=ggml.go:152 msg=\"key not found\" key=general.alignment default=32\n"
     ]
    },
    {
     "name": "stdout",
     "output_type": "stream",
     "text": [
      "[GIN] 2025/05/13 - 14:01:42 | 200 | 28.359004684s |       127.0.0.1 | POST     \"/api/chat\"\n"
     ]
    },
    {
     "name": "stderr",
     "output_type": "stream",
     "text": [
      "time=2025-05-13T14:01:42.378Z level=WARN source=ggml.go:152 msg=\"key not found\" key=general.alignment default=32\n"
     ]
    },
    {
     "name": "stdout",
     "output_type": "stream",
     "text": [
      "[GIN] 2025/05/13 - 14:01:43 | 200 | 31.487207726s |       127.0.0.1 | POST     \"/api/chat\"\n"
     ]
    },
    {
     "name": "stderr",
     "output_type": "stream",
     "text": [
      "time=2025-05-13T14:01:43.515Z level=WARN source=ggml.go:152 msg=\"key not found\" key=general.alignment default=32\n"
     ]
    },
    {
     "name": "stdout",
     "output_type": "stream",
     "text": [
      "[GIN] 2025/05/13 - 14:01:45 | 200 | 26.135392009s |       127.0.0.1 | POST     \"/api/chat\"\n",
      "[GIN] 2025/05/13 - 14:01:45 | 200 |  26.45287524s |       127.0.0.1 | POST     \"/api/chat\"\n",
      "[GIN] 2025/05/13 - 14:01:47 | 200 | 28.270871744s |       127.0.0.1 | POST     \"/api/chat\"\n"
     ]
    },
    {
     "name": "stderr",
     "output_type": "stream",
     "text": [
      "time=2025-05-13T14:01:47.441Z level=WARN source=ggml.go:152 msg=\"key not found\" key=general.alignment default=32\n"
     ]
    },
    {
     "name": "stdout",
     "output_type": "stream",
     "text": [
      "[GIN] 2025/05/13 - 14:01:55 | 200 | 32.841100974s |       127.0.0.1 | POST     \"/api/chat\"\n",
      "[GIN] 2025/05/13 - 14:01:55 | 200 | 13.532536417s |       127.0.0.1 | POST     \"/api/chat\"\n"
     ]
    },
    {
     "name": "stderr",
     "output_type": "stream",
     "text": [
      "time=2025-05-13T14:01:55.921Z level=WARN source=ggml.go:152 msg=\"key not found\" key=general.alignment default=32\n",
      "time=2025-05-13T14:01:55.934Z level=WARN source=ggml.go:152 msg=\"key not found\" key=general.alignment default=32\n"
     ]
    },
    {
     "name": "stdout",
     "output_type": "stream",
     "text": [
      "[GIN] 2025/05/13 - 14:02:04 | 200 | 21.300228348s |       127.0.0.1 | POST     \"/api/chat\"\n"
     ]
    },
    {
     "name": "stderr",
     "output_type": "stream",
     "text": [
      "time=2025-05-13T14:02:04.846Z level=WARN source=ggml.go:152 msg=\"key not found\" key=general.alignment default=32\n"
     ]
    },
    {
     "name": "stdout",
     "output_type": "stream",
     "text": [
      "[GIN] 2025/05/13 - 14:02:06 | 200 | 18.973850377s |       127.0.0.1 | POST     \"/api/chat\"\n"
     ]
    },
    {
     "name": "stderr",
     "output_type": "stream",
     "text": [
      "time=2025-05-13T14:02:06.415Z level=WARN source=ggml.go:152 msg=\"key not found\" key=general.alignment default=32\n"
     ]
    },
    {
     "name": "stdout",
     "output_type": "stream",
     "text": [
      "[GIN] 2025/05/13 - 14:02:26 | 200 |  30.17854039s |       127.0.0.1 | POST     \"/api/chat\"\n"
     ]
    },
    {
     "name": "stderr",
     "output_type": "stream",
     "text": [
      "time=2025-05-13T14:02:26.105Z level=WARN source=ggml.go:152 msg=\"key not found\" key=general.alignment default=32\n"
     ]
    },
    {
     "name": "stdout",
     "output_type": "stream",
     "text": [
      "[GIN] 2025/05/13 - 14:02:28 | 200 | 32.184912659s |       127.0.0.1 | POST     \"/api/chat\"\n"
     ]
    },
    {
     "name": "stderr",
     "output_type": "stream",
     "text": [
      "time=2025-05-13T14:02:28.113Z level=WARN source=ggml.go:152 msg=\"key not found\" key=general.alignment default=32\n"
     ]
    },
    {
     "name": "stdout",
     "output_type": "stream",
     "text": [
      "[GIN] 2025/05/13 - 14:03:00 | 200 | 55.204877633s |       127.0.0.1 | POST     \"/api/chat\"\n"
     ]
    },
    {
     "name": "stderr",
     "output_type": "stream",
     "text": [
      "time=2025-05-13T14:03:00.037Z level=WARN source=ggml.go:152 msg=\"key not found\" key=general.alignment default=32\n"
     ]
    },
    {
     "name": "stdout",
     "output_type": "stream",
     "text": [
      "[GIN] 2025/05/13 - 14:03:05 | 200 | 58.956476616s |       127.0.0.1 | POST     \"/api/chat\"\n"
     ]
    },
    {
     "name": "stderr",
     "output_type": "stream",
     "text": [
      "time=2025-05-13T14:03:05.378Z level=WARN source=ggml.go:152 msg=\"key not found\" key=general.alignment default=32\n"
     ]
    },
    {
     "name": "stdout",
     "output_type": "stream",
     "text": [
      "[GIN] 2025/05/13 - 14:03:14 | 200 | 46.230245278s |       127.0.0.1 | POST     \"/api/chat\"\n"
     ]
    },
    {
     "name": "stderr",
     "output_type": "stream",
     "text": [
      "time=2025-05-13T14:03:14.347Z level=WARN source=ggml.go:152 msg=\"key not found\" key=general.alignment default=32\n"
     ]
    },
    {
     "name": "stdout",
     "output_type": "stream",
     "text": [
      "[GIN] 2025/05/13 - 14:03:18 | 200 | 18.021411648s |       127.0.0.1 | POST     \"/api/chat\"\n"
     ]
    },
    {
     "name": "stderr",
     "output_type": "stream",
     "text": [
      "time=2025-05-13T14:03:18.064Z level=WARN source=ggml.go:152 msg=\"key not found\" key=general.alignment default=32\n"
     ]
    },
    {
     "name": "stdout",
     "output_type": "stream",
     "text": [
      "[GIN] 2025/05/13 - 14:03:25 | 200 | 19.960858224s |       127.0.0.1 | POST     \"/api/chat\"\n"
     ]
    },
    {
     "name": "stderr",
     "output_type": "stream",
     "text": [
      "time=2025-05-13T14:03:25.343Z level=WARN source=ggml.go:152 msg=\"key not found\" key=general.alignment default=32\n"
     ]
    },
    {
     "name": "stdout",
     "output_type": "stream",
     "text": [
      "[GIN] 2025/05/13 - 14:03:31 | 200 |          1m5s |       127.0.0.1 | POST     \"/api/chat\"\n"
     ]
    },
    {
     "name": "stderr",
     "output_type": "stream",
     "text": [
      "time=2025-05-13T14:03:31.929Z level=WARN source=ggml.go:152 msg=\"key not found\" key=general.alignment default=32\n"
     ]
    },
    {
     "name": "stdout",
     "output_type": "stream",
     "text": [
      "[GIN] 2025/05/13 - 14:03:35 | 200 | 20.678705816s |       127.0.0.1 | POST     \"/api/chat\"\n"
     ]
    },
    {
     "name": "stderr",
     "output_type": "stream",
     "text": [
      "time=2025-05-13T14:03:35.055Z level=WARN source=ggml.go:152 msg=\"key not found\" key=general.alignment default=32\n"
     ]
    },
    {
     "name": "stdout",
     "output_type": "stream",
     "text": [
      "[GIN] 2025/05/13 - 14:03:36 | 200 | 17.969601837s |       127.0.0.1 | POST     \"/api/chat\"\n"
     ]
    },
    {
     "name": "stderr",
     "output_type": "stream",
     "text": [
      "time=2025-05-13T14:03:36.039Z level=WARN source=ggml.go:152 msg=\"key not found\" key=general.alignment default=32\n"
     ]
    },
    {
     "name": "stdout",
     "output_type": "stream",
     "text": [
      "[GIN] 2025/05/13 - 14:03:56 | 200 | 31.151037484s |       127.0.0.1 | POST     \"/api/chat\"\n"
     ]
    },
    {
     "name": "stderr",
     "output_type": "stream",
     "text": [
      "time=2025-05-13T14:03:56.509Z level=WARN source=ggml.go:152 msg=\"key not found\" key=general.alignment default=32\n"
     ]
    },
    {
     "name": "stdout",
     "output_type": "stream",
     "text": [
      "[GIN] 2025/05/13 - 14:04:06 | 200 | 34.860911028s |       127.0.0.1 | POST     \"/api/chat\"\n"
     ]
    },
    {
     "name": "stderr",
     "output_type": "stream",
     "text": [
      "time=2025-05-13T14:04:06.797Z level=WARN source=ggml.go:152 msg=\"key not found\" key=general.alignment default=32\n"
     ]
    },
    {
     "name": "stdout",
     "output_type": "stream",
     "text": [
      "[GIN] 2025/05/13 - 14:04:10 | 200 | 34.365272423s |       127.0.0.1 | POST     \"/api/chat\"\n"
     ]
    },
    {
     "name": "stderr",
     "output_type": "stream",
     "text": [
      "time=2025-05-13T14:04:10.413Z level=WARN source=ggml.go:152 msg=\"key not found\" key=general.alignment default=32\n"
     ]
    },
    {
     "name": "stdout",
     "output_type": "stream",
     "text": [
      "[GIN] 2025/05/13 - 14:04:12 | 200 | 15.827716991s |       127.0.0.1 | POST     \"/api/chat\"\n"
     ]
    },
    {
     "name": "stderr",
     "output_type": "stream",
     "text": [
      "time=2025-05-13T14:04:12.339Z level=WARN source=ggml.go:152 msg=\"key not found\" key=general.alignment default=32\n"
     ]
    },
    {
     "name": "stdout",
     "output_type": "stream",
     "text": [
      "[GIN] 2025/05/13 - 14:04:14 | 200 | 39.201945837s |       127.0.0.1 | POST     \"/api/chat\"\n"
     ]
    },
    {
     "name": "stderr",
     "output_type": "stream",
     "text": [
      "time=2025-05-13T14:04:14.260Z level=WARN source=ggml.go:152 msg=\"key not found\" key=general.alignment default=32\n"
     ]
    },
    {
     "name": "stdout",
     "output_type": "stream",
     "text": [
      "[GIN] 2025/05/13 - 14:04:17 | 200 |  7.248746062s |       127.0.0.1 | POST     \"/api/chat\"\n"
     ]
    },
    {
     "name": "stderr",
     "output_type": "stream",
     "text": [
      "time=2025-05-13T14:04:17.667Z level=WARN source=ggml.go:152 msg=\"key not found\" key=general.alignment default=32\n"
     ]
    },
    {
     "name": "stdout",
     "output_type": "stream",
     "text": [
      "[GIN] 2025/05/13 - 14:04:23 | 200 | 11.575638991s |       127.0.0.1 | POST     \"/api/chat\"\n"
     ]
    },
    {
     "name": "stderr",
     "output_type": "stream",
     "text": [
      "time=2025-05-13T14:04:23.945Z level=WARN source=ggml.go:152 msg=\"key not found\" key=general.alignment default=32\n",
      "time=2025-05-13T14:04:23.946Z level=WARN source=ggml.go:152 msg=\"key not found\" key=general.alignment default=32\n",
      "time=2025-05-13T14:04:23.947Z level=WARN source=ggml.go:152 msg=\"key not found\" key=general.alignment default=32\n"
     ]
    },
    {
     "name": "stdout",
     "output_type": "stream",
     "text": [
      "[GIN] 2025/05/13 - 14:04:29 | 200 |  15.48288967s |       127.0.0.1 | POST     \"/api/chat\"\n"
     ]
    },
    {
     "name": "stderr",
     "output_type": "stream",
     "text": [
      "time=2025-05-13T14:04:29.747Z level=WARN source=ggml.go:152 msg=\"key not found\" key=general.alignment default=32\n"
     ]
    },
    {
     "name": "stdout",
     "output_type": "stream",
     "text": [
      "[GIN] 2025/05/13 - 14:04:33 | 200 | 15.559979927s |       127.0.0.1 | POST     \"/api/chat\"\n"
     ]
    },
    {
     "name": "stderr",
     "output_type": "stream",
     "text": [
      "time=2025-05-13T14:04:33.234Z level=WARN source=ggml.go:152 msg=\"key not found\" key=general.alignment default=32\n"
     ]
    },
    {
     "name": "stdout",
     "output_type": "stream",
     "text": [
      "[GIN] 2025/05/13 - 14:04:35 | 200 | 11.160432245s |       127.0.0.1 | POST     \"/api/chat\"\n",
      "[GIN] 2025/05/13 - 14:04:36 | 200 | 12.454061522s |       127.0.0.1 | POST     \"/api/chat\"\n",
      "[GIN] 2025/05/13 - 14:04:37 | 200 | 13.754052611s |       127.0.0.1 | POST     \"/api/chat\"\n"
     ]
    },
    {
     "name": "stderr",
     "output_type": "stream",
     "text": [
      "time=2025-05-13T14:04:37.690Z level=WARN source=ggml.go:152 msg=\"key not found\" key=general.alignment default=32\n"
     ]
    },
    {
     "name": "stdout",
     "output_type": "stream",
     "text": [
      "[GIN] 2025/05/13 - 14:04:41 | 200 | 11.549391543s |       127.0.0.1 | POST     \"/api/chat\"\n"
     ]
    },
    {
     "name": "stderr",
     "output_type": "stream",
     "text": [
      "time=2025-05-13T14:04:41.300Z level=WARN source=ggml.go:152 msg=\"key not found\" key=general.alignment default=32\n"
     ]
    },
    {
     "name": "stdout",
     "output_type": "stream",
     "text": [
      "[GIN] 2025/05/13 - 14:04:44 | 200 | 11.010297791s |       127.0.0.1 | POST     \"/api/chat\"\n"
     ]
    },
    {
     "name": "stderr",
     "output_type": "stream",
     "text": [
      "time=2025-05-13T14:04:44.250Z level=WARN source=ggml.go:152 msg=\"key not found\" key=general.alignment default=32\n"
     ]
    },
    {
     "name": "stdout",
     "output_type": "stream",
     "text": [
      "[GIN] 2025/05/13 - 14:04:47 | 200 |  9.531049308s |       127.0.0.1 | POST     \"/api/chat\"\n"
     ]
    },
    {
     "name": "stderr",
     "output_type": "stream",
     "text": [
      "time=2025-05-13T14:04:47.228Z level=WARN source=ggml.go:152 msg=\"key not found\" key=general.alignment default=32\n"
     ]
    },
    {
     "name": "stdout",
     "output_type": "stream",
     "text": [
      "[GIN] 2025/05/13 - 14:04:56 | 200 | 49.625472473s |       127.0.0.1 | POST     \"/api/chat\"\n"
     ]
    },
    {
     "name": "stderr",
     "output_type": "stream",
     "text": [
      "time=2025-05-13T14:04:56.423Z level=WARN source=ggml.go:152 msg=\"key not found\" key=general.alignment default=32\n"
     ]
    },
    {
     "name": "stdout",
     "output_type": "stream",
     "text": [
      "[GIN] 2025/05/13 - 14:05:08 | 200 | 23.999617806s |       127.0.0.1 | POST     \"/api/chat\"\n"
     ]
    },
    {
     "name": "stderr",
     "output_type": "stream",
     "text": [
      "time=2025-05-13T14:05:08.258Z level=WARN source=ggml.go:152 msg=\"key not found\" key=general.alignment default=32\n"
     ]
    },
    {
     "name": "stdout",
     "output_type": "stream",
     "text": [
      "[GIN] 2025/05/13 - 14:05:09 | 200 | 28.476857739s |       127.0.0.1 | POST     \"/api/chat\"\n"
     ]
    },
    {
     "name": "stderr",
     "output_type": "stream",
     "text": [
      "time=2025-05-13T14:05:09.774Z level=WARN source=ggml.go:152 msg=\"key not found\" key=general.alignment default=32\n"
     ]
    },
    {
     "name": "stdout",
     "output_type": "stream",
     "text": [
      "[GIN] 2025/05/13 - 14:05:19 | 200 |  31.93926104s |       127.0.0.1 | POST     \"/api/chat\"\n"
     ]
    },
    {
     "name": "stderr",
     "output_type": "stream",
     "text": [
      "time=2025-05-13T14:05:19.171Z level=WARN source=ggml.go:152 msg=\"key not found\" key=general.alignment default=32\n"
     ]
    },
    {
     "name": "stdout",
     "output_type": "stream",
     "text": [
      "[GIN] 2025/05/13 - 14:05:23 | 200 | 15.694305659s |       127.0.0.1 | POST     \"/api/chat\"\n"
     ]
    },
    {
     "name": "stderr",
     "output_type": "stream",
     "text": [
      "time=2025-05-13T14:05:23.969Z level=WARN source=ggml.go:152 msg=\"key not found\" key=general.alignment default=32\n"
     ]
    },
    {
     "name": "stdout",
     "output_type": "stream",
     "text": [
      "[GIN] 2025/05/13 - 14:05:35 | 200 | 38.956476077s |       127.0.0.1 | POST     \"/api/chat\"\n"
     ]
    },
    {
     "name": "stderr",
     "output_type": "stream",
     "text": [
      "time=2025-05-13T14:05:35.384Z level=WARN source=ggml.go:152 msg=\"key not found\" key=general.alignment default=32\n"
     ]
    },
    {
     "name": "stdout",
     "output_type": "stream",
     "text": [
      "[GIN] 2025/05/13 - 14:05:36 | 200 | 26.786801597s |       127.0.0.1 | POST     \"/api/chat\"\n"
     ]
    },
    {
     "name": "stderr",
     "output_type": "stream",
     "text": [
      "time=2025-05-13T14:05:36.567Z level=WARN source=ggml.go:152 msg=\"key not found\" key=general.alignment default=32\n"
     ]
    },
    {
     "name": "stdout",
     "output_type": "stream",
     "text": [
      "[GIN] 2025/05/13 - 14:05:40 | 200 | 16.596572218s |       127.0.0.1 | POST     \"/api/chat\"\n"
     ]
    },
    {
     "name": "stderr",
     "output_type": "stream",
     "text": [
      "time=2025-05-13T14:05:40.566Z level=WARN source=ggml.go:152 msg=\"key not found\" key=general.alignment default=32\n"
     ]
    },
    {
     "name": "stdout",
     "output_type": "stream",
     "text": [
      "[GIN] 2025/05/13 - 14:05:42 | 200 | 23.179791008s |       127.0.0.1 | POST     \"/api/chat\"\n"
     ]
    },
    {
     "name": "stderr",
     "output_type": "stream",
     "text": [
      "time=2025-05-13T14:05:42.368Z level=WARN source=ggml.go:152 msg=\"key not found\" key=general.alignment default=32\n"
     ]
    },
    {
     "name": "stdout",
     "output_type": "stream",
     "text": [
      "[GIN] 2025/05/13 - 14:06:01 | 200 | 24.621021304s |       127.0.0.1 | POST     \"/api/chat\"\n"
     ]
    },
    {
     "name": "stderr",
     "output_type": "stream",
     "text": [
      "time=2025-05-13T14:06:01.194Z level=WARN source=ggml.go:152 msg=\"key not found\" key=general.alignment default=32\n"
     ]
    },
    {
     "name": "stdout",
     "output_type": "stream",
     "text": [
      "[GIN] 2025/05/13 - 14:06:05 | 200 | 25.196756816s |       127.0.0.1 | POST     \"/api/chat\"\n"
     ]
    },
    {
     "name": "stderr",
     "output_type": "stream",
     "text": [
      "time=2025-05-13T14:06:05.765Z level=WARN source=ggml.go:152 msg=\"key not found\" key=general.alignment default=32\n"
     ]
    },
    {
     "name": "stdout",
     "output_type": "stream",
     "text": [
      "[GIN] 2025/05/13 - 14:06:18 | 200 | 43.049519383s |       127.0.0.1 | POST     \"/api/chat\"\n"
     ]
    },
    {
     "name": "stderr",
     "output_type": "stream",
     "text": [
      "time=2025-05-13T14:06:18.441Z level=WARN source=ggml.go:152 msg=\"key not found\" key=general.alignment default=32\n"
     ]
    },
    {
     "name": "stdout",
     "output_type": "stream",
     "text": [
      "[GIN] 2025/05/13 - 14:06:19 | 200 | 37.476358927s |       127.0.0.1 | POST     \"/api/chat\"\n"
     ]
    },
    {
     "name": "stderr",
     "output_type": "stream",
     "text": [
      "time=2025-05-13T14:06:19.866Z level=WARN source=ggml.go:152 msg=\"key not found\" key=general.alignment default=32\n"
     ]
    },
    {
     "name": "stdout",
     "output_type": "stream",
     "text": [
      "[GIN] 2025/05/13 - 14:06:24 | 200 | 18.589719041s |       127.0.0.1 | POST     \"/api/chat\"\n"
     ]
    },
    {
     "name": "stderr",
     "output_type": "stream",
     "text": [
      "time=2025-05-13T14:06:24.374Z level=WARN source=ggml.go:152 msg=\"key not found\" key=general.alignment default=32\n"
     ]
    },
    {
     "name": "stdout",
     "output_type": "stream",
     "text": [
      "[GIN] 2025/05/13 - 14:06:33 | 200 | 31.913056258s |       127.0.0.1 | POST     \"/api/chat\"\n"
     ]
    },
    {
     "name": "stderr",
     "output_type": "stream",
     "text": [
      "time=2025-05-13T14:06:33.117Z level=WARN source=ggml.go:152 msg=\"key not found\" key=general.alignment default=32\n"
     ]
    },
    {
     "name": "stdout",
     "output_type": "stream",
     "text": [
      "[GIN] 2025/05/13 - 14:06:52 | 200 | 33.606754663s |       127.0.0.1 | POST     \"/api/chat\"\n"
     ]
    },
    {
     "name": "stderr",
     "output_type": "stream",
     "text": [
      "time=2025-05-13T14:06:52.058Z level=WARN source=ggml.go:152 msg=\"key not found\" key=general.alignment default=32\n"
     ]
    },
    {
     "name": "stdout",
     "output_type": "stream",
     "text": [
      "[GIN] 2025/05/13 - 14:06:56 | 200 | 32.273216797s |       127.0.0.1 | POST     \"/api/chat\"\n"
     ]
    },
    {
     "name": "stderr",
     "output_type": "stream",
     "text": [
      "time=2025-05-13T14:06:56.645Z level=WARN source=ggml.go:152 msg=\"key not found\" key=general.alignment default=32\n"
     ]
    },
    {
     "name": "stdout",
     "output_type": "stream",
     "text": [
      "[GIN] 2025/05/13 - 14:07:11 | 200 | 51.252765424s |       127.0.0.1 | POST     \"/api/chat\"\n"
     ]
    },
    {
     "name": "stderr",
     "output_type": "stream",
     "text": [
      "time=2025-05-13T14:07:11.123Z level=WARN source=ggml.go:152 msg=\"key not found\" key=general.alignment default=32\n"
     ]
    },
    {
     "name": "stdout",
     "output_type": "stream",
     "text": [
      "[GIN] 2025/05/13 - 14:07:17 | 200 | 44.267640183s |       127.0.0.1 | POST     \"/api/chat\"\n"
     ]
    },
    {
     "name": "stderr",
     "output_type": "stream",
     "text": [
      "time=2025-05-13T14:07:17.391Z level=WARN source=ggml.go:152 msg=\"key not found\" key=general.alignment default=32\n"
     ]
    },
    {
     "name": "stdout",
     "output_type": "stream",
     "text": [
      "[GIN] 2025/05/13 - 14:07:22 | 200 | 25.641432906s |       127.0.0.1 | POST     \"/api/chat\"\n"
     ]
    },
    {
     "name": "stderr",
     "output_type": "stream",
     "text": [
      "time=2025-05-13T14:07:22.299Z level=WARN source=ggml.go:152 msg=\"key not found\" key=general.alignment default=32\n"
     ]
    },
    {
     "name": "stdout",
     "output_type": "stream",
     "text": [
      "[GIN] 2025/05/13 - 14:07:36 | 200 | 25.594146908s |       127.0.0.1 | POST     \"/api/chat\"\n"
     ]
    },
    {
     "name": "stderr",
     "output_type": "stream",
     "text": [
      "time=2025-05-13T14:07:36.715Z level=WARN source=ggml.go:152 msg=\"key not found\" key=general.alignment default=32\n"
     ]
    },
    {
     "name": "stdout",
     "output_type": "stream",
     "text": [
      "[GIN] 2025/05/13 - 14:07:46 | 200 | 54.147428553s |       127.0.0.1 | POST     \"/api/chat\"\n"
     ]
    },
    {
     "name": "stderr",
     "output_type": "stream",
     "text": [
      "time=2025-05-13T14:07:46.211Z level=WARN source=ggml.go:152 msg=\"key not found\" key=general.alignment default=32\n"
     ]
    },
    {
     "name": "stdout",
     "output_type": "stream",
     "text": [
      "[GIN] 2025/05/13 - 14:07:49 | 200 | 32.510293702s |       127.0.0.1 | POST     \"/api/chat\"\n"
     ]
    },
    {
     "name": "stderr",
     "output_type": "stream",
     "text": [
      "time=2025-05-13T14:07:49.907Z level=WARN source=ggml.go:152 msg=\"key not found\" key=general.alignment default=32\n"
     ]
    },
    {
     "name": "stdout",
     "output_type": "stream",
     "text": [
      "[GIN] 2025/05/13 - 14:07:51 | 200 | 29.221446477s |       127.0.0.1 | POST     \"/api/chat\"\n"
     ]
    },
    {
     "name": "stderr",
     "output_type": "stream",
     "text": [
      "time=2025-05-13T14:07:51.540Z level=WARN source=ggml.go:152 msg=\"key not found\" key=general.alignment default=32\n",
      "time=2025-05-13T14:07:51.545Z level=WARN source=ggml.go:152 msg=\"key not found\" key=general.alignment default=32\n",
      "time=2025-05-13T14:07:51.546Z level=WARN source=ggml.go:152 msg=\"key not found\" key=general.alignment default=32\n"
     ]
    },
    {
     "name": "stdout",
     "output_type": "stream",
     "text": [
      "[GIN] 2025/05/13 - 14:08:02 | 200 | 25.439275912s |       127.0.0.1 | POST     \"/api/chat\"\n"
     ]
    },
    {
     "name": "stderr",
     "output_type": "stream",
     "text": [
      "time=2025-05-13T14:08:02.159Z level=WARN source=ggml.go:152 msg=\"key not found\" key=general.alignment default=32\n"
     ]
    },
    {
     "name": "stdout",
     "output_type": "stream",
     "text": [
      "[GIN] 2025/05/13 - 14:08:14 | 200 |  28.01093605s |       127.0.0.1 | POST     \"/api/chat\"\n"
     ]
    },
    {
     "name": "stderr",
     "output_type": "stream",
     "text": [
      "time=2025-05-13T14:08:14.229Z level=WARN source=ggml.go:152 msg=\"key not found\" key=general.alignment default=32\n"
     ]
    },
    {
     "name": "stdout",
     "output_type": "stream",
     "text": [
      "[GIN] 2025/05/13 - 14:08:16 | 200 | 24.802503926s |       127.0.0.1 | POST     \"/api/chat\"\n",
      "[GIN] 2025/05/13 - 14:08:17 | 200 | 26.113923741s |       127.0.0.1 | POST     \"/api/chat\"\n",
      "[GIN] 2025/05/13 - 14:08:18 | 200 |  27.42769574s |       127.0.0.1 | POST     \"/api/chat\"\n",
      "[GIN] 2025/05/13 - 14:08:18 | 200 | 29.051957545s |       127.0.0.1 | POST     \"/api/chat\"\n"
     ]
    },
    {
     "name": "stderr",
     "output_type": "stream",
     "text": [
      "time=2025-05-13T14:08:18.992Z level=WARN source=ggml.go:152 msg=\"key not found\" key=general.alignment default=32\n",
      "time=2025-05-13T14:08:18.994Z level=WARN source=ggml.go:152 msg=\"key not found\" key=general.alignment default=32\n"
     ]
    },
    {
     "name": "stdout",
     "output_type": "stream",
     "text": [
      "[GIN] 2025/05/13 - 14:08:51 | 200 | 37.408198027s |       127.0.0.1 | POST     \"/api/chat\"\n"
     ]
    },
    {
     "name": "stderr",
     "output_type": "stream",
     "text": [
      "time=2025-05-13T14:08:51.642Z level=WARN source=ggml.go:152 msg=\"key not found\" key=general.alignment default=32\n"
     ]
    },
    {
     "name": "stdout",
     "output_type": "stream",
     "text": [
      "[GIN] 2025/05/13 - 14:08:56 | 200 | 53.949462494s |       127.0.0.1 | POST     \"/api/chat\"\n"
     ]
    },
    {
     "name": "stderr",
     "output_type": "stream",
     "text": [
      "time=2025-05-13T14:08:56.118Z level=WARN source=ggml.go:152 msg=\"key not found\" key=general.alignment default=32\n"
     ]
    },
    {
     "name": "stdout",
     "output_type": "stream",
     "text": [
      "[GIN] 2025/05/13 - 14:09:08 | 200 | 49.089862203s |       127.0.0.1 | POST     \"/api/chat\"\n"
     ]
    },
    {
     "name": "stderr",
     "output_type": "stream",
     "text": [
      "time=2025-05-13T14:09:08.070Z level=WARN source=ggml.go:152 msg=\"key not found\" key=general.alignment default=32\n"
     ]
    },
    {
     "name": "stdout",
     "output_type": "stream",
     "text": [
      "[GIN] 2025/05/13 - 14:09:32 | 200 |         1m13s |       127.0.0.1 | POST     \"/api/chat\"\n"
     ]
    },
    {
     "name": "stderr",
     "output_type": "stream",
     "text": [
      "time=2025-05-13T14:09:32.193Z level=WARN source=ggml.go:152 msg=\"key not found\" key=general.alignment default=32\n"
     ]
    },
    {
     "name": "stdout",
     "output_type": "stream",
     "text": [
      "[GIN] 2025/05/13 - 14:09:40 | 200 | 49.000885808s |       127.0.0.1 | POST     \"/api/chat\"\n"
     ]
    },
    {
     "name": "stderr",
     "output_type": "stream",
     "text": [
      "time=2025-05-13T14:09:40.655Z level=WARN source=ggml.go:152 msg=\"key not found\" key=general.alignment default=32\n"
     ]
    },
    {
     "name": "stdout",
     "output_type": "stream",
     "text": [
      "[GIN] 2025/05/13 - 14:09:56 | 200 | 48.372240262s |       127.0.0.1 | POST     \"/api/chat\"\n"
     ]
    },
    {
     "name": "stderr",
     "output_type": "stream",
     "text": [
      "time=2025-05-13T14:09:56.451Z level=WARN source=ggml.go:152 msg=\"key not found\" key=general.alignment default=32\n"
     ]
    },
    {
     "name": "stdout",
     "output_type": "stream",
     "text": [
      "[GIN] 2025/05/13 - 14:10:05 | 200 | 33.690780315s |       127.0.0.1 | POST     \"/api/chat\"\n"
     ]
    },
    {
     "name": "stderr",
     "output_type": "stream",
     "text": [
      "time=2025-05-13T14:10:05.898Z level=WARN source=ggml.go:152 msg=\"key not found\" key=general.alignment default=32\n"
     ]
    },
    {
     "name": "stdout",
     "output_type": "stream",
     "text": [
      "[GIN] 2025/05/13 - 14:10:09 | 200 | 28.603895498s |       127.0.0.1 | POST     \"/api/chat\"\n"
     ]
    },
    {
     "name": "stderr",
     "output_type": "stream",
     "text": [
      "time=2025-05-13T14:10:09.264Z level=WARN source=ggml.go:152 msg=\"key not found\" key=general.alignment default=32\n"
     ]
    },
    {
     "name": "stdout",
     "output_type": "stream",
     "text": [
      "[GIN] 2025/05/13 - 14:10:12 | 200 |         1m16s |       127.0.0.1 | POST     \"/api/chat\"\n"
     ]
    },
    {
     "name": "stderr",
     "output_type": "stream",
     "text": [
      "time=2025-05-13T14:10:12.131Z level=WARN source=ggml.go:152 msg=\"key not found\" key=general.alignment default=32\n"
     ]
    },
    {
     "name": "stdout",
     "output_type": "stream",
     "text": [
      "[GIN] 2025/05/13 - 14:10:24 | 200 | 27.932108483s |       127.0.0.1 | POST     \"/api/chat\"\n"
     ]
    },
    {
     "name": "stderr",
     "output_type": "stream",
     "text": [
      "time=2025-05-13T14:10:24.387Z level=WARN source=ggml.go:152 msg=\"key not found\" key=general.alignment default=32\n"
     ]
    },
    {
     "name": "stdout",
     "output_type": "stream",
     "text": [
      "[GIN] 2025/05/13 - 14:10:28 | 200 | 18.995570444s |       127.0.0.1 | POST     \"/api/chat\"\n"
     ]
    },
    {
     "name": "stderr",
     "output_type": "stream",
     "text": [
      "time=2025-05-13T14:10:28.268Z level=WARN source=ggml.go:152 msg=\"key not found\" key=general.alignment default=32\n"
     ]
    },
    {
     "name": "stdout",
     "output_type": "stream",
     "text": [
      "[GIN] 2025/05/13 - 14:10:41 | 200 | 35.296251561s |       127.0.0.1 | POST     \"/api/chat\"\n"
     ]
    },
    {
     "name": "stderr",
     "output_type": "stream",
     "text": [
      "time=2025-05-13T14:10:41.191Z level=WARN source=ggml.go:152 msg=\"key not found\" key=general.alignment default=32\n"
     ]
    },
    {
     "name": "stdout",
     "output_type": "stream",
     "text": [
      "[GIN] 2025/05/13 - 14:10:52 | 200 | 28.120873531s |       127.0.0.1 | POST     \"/api/chat\"\n"
     ]
    },
    {
     "name": "stderr",
     "output_type": "stream",
     "text": [
      "time=2025-05-13T14:10:52.524Z level=WARN source=ggml.go:152 msg=\"key not found\" key=general.alignment default=32\n"
     ]
    },
    {
     "name": "stdout",
     "output_type": "stream",
     "text": [
      "[GIN] 2025/05/13 - 14:10:56 | 200 | 28.372206255s |       127.0.0.1 | POST     \"/api/chat\"\n"
     ]
    },
    {
     "name": "stderr",
     "output_type": "stream",
     "text": [
      "time=2025-05-13T14:10:56.647Z level=WARN source=ggml.go:152 msg=\"key not found\" key=general.alignment default=32\n"
     ]
    },
    {
     "name": "stdout",
     "output_type": "stream",
     "text": [
      "[GIN] 2025/05/13 - 14:11:09 | 200 |  28.09934787s |       127.0.0.1 | POST     \"/api/chat\"\n"
     ]
    },
    {
     "name": "stderr",
     "output_type": "stream",
     "text": [
      "time=2025-05-13T14:11:09.305Z level=WARN source=ggml.go:152 msg=\"key not found\" key=general.alignment default=32\n"
     ]
    },
    {
     "name": "stdout",
     "output_type": "stream",
     "text": [
      "[GIN] 2025/05/13 - 14:11:13 | 200 |          1m1s |       127.0.0.1 | POST     \"/api/chat\"\n"
     ]
    },
    {
     "name": "stderr",
     "output_type": "stream",
     "text": [
      "time=2025-05-13T14:11:13.196Z level=WARN source=ggml.go:152 msg=\"key not found\" key=general.alignment default=32\n"
     ]
    },
    {
     "name": "stdout",
     "output_type": "stream",
     "text": [
      "[GIN] 2025/05/13 - 14:11:16 | 200 | 20.053655219s |       127.0.0.1 | POST     \"/api/chat\"\n"
     ]
    },
    {
     "name": "stderr",
     "output_type": "stream",
     "text": [
      "time=2025-05-13T14:11:16.708Z level=WARN source=ggml.go:152 msg=\"key not found\" key=general.alignment default=32\n"
     ]
    },
    {
     "name": "stdout",
     "output_type": "stream",
     "text": [
      "[GIN] 2025/05/13 - 14:11:28 | 200 | 36.311441153s |       127.0.0.1 | POST     \"/api/chat\"\n"
     ]
    },
    {
     "name": "stderr",
     "output_type": "stream",
     "text": [
      "time=2025-05-13T14:11:28.840Z level=WARN source=ggml.go:152 msg=\"key not found\" key=general.alignment default=32\n"
     ]
    },
    {
     "name": "stdout",
     "output_type": "stream",
     "text": [
      "[GIN] 2025/05/13 - 14:11:54 | 200 | 45.650228824s |       127.0.0.1 | POST     \"/api/chat\"\n"
     ]
    },
    {
     "name": "stderr",
     "output_type": "stream",
     "text": [
      "time=2025-05-13T14:11:54.960Z level=WARN source=ggml.go:152 msg=\"key not found\" key=general.alignment default=32\n"
     ]
    },
    {
     "name": "stdout",
     "output_type": "stream",
     "text": [
      "[GIN] 2025/05/13 - 14:11:58 | 200 | 41.836903223s |       127.0.0.1 | POST     \"/api/chat\"\n"
     ]
    },
    {
     "name": "stderr",
     "output_type": "stream",
     "text": [
      "time=2025-05-13T14:11:58.570Z level=WARN source=ggml.go:152 msg=\"key not found\" key=general.alignment default=32\n",
      "time=2025-05-13T14:11:58.575Z level=WARN source=ggml.go:152 msg=\"key not found\" key=general.alignment default=32\n",
      "time=2025-05-13T14:11:58.578Z level=WARN source=ggml.go:152 msg=\"key not found\" key=general.alignment default=32\n"
     ]
    },
    {
     "name": "stdout",
     "output_type": "stream",
     "text": [
      "[GIN] 2025/05/13 - 14:12:00 | 200 | 31.529207823s |       127.0.0.1 | POST     \"/api/chat\"\n"
     ]
    },
    {
     "name": "stderr",
     "output_type": "stream",
     "text": [
      "time=2025-05-13T14:12:00.372Z level=WARN source=ggml.go:152 msg=\"key not found\" key=general.alignment default=32\n"
     ]
    },
    {
     "name": "stdout",
     "output_type": "stream",
     "text": [
      "[GIN] 2025/05/13 - 14:12:07 | 200 | 12.621788568s |       127.0.0.1 | POST     \"/api/chat\"\n"
     ]
    },
    {
     "name": "stderr",
     "output_type": "stream",
     "text": [
      "time=2025-05-13T14:12:07.585Z level=WARN source=ggml.go:152 msg=\"key not found\" key=general.alignment default=32\n"
     ]
    },
    {
     "name": "stdout",
     "output_type": "stream",
     "text": [
      "[GIN] 2025/05/13 - 14:12:09 | 200 | 55.977525651s |       127.0.0.1 | POST     \"/api/chat\"\n"
     ]
    },
    {
     "name": "stderr",
     "output_type": "stream",
     "text": [
      "time=2025-05-13T14:12:09.183Z level=WARN source=ggml.go:152 msg=\"key not found\" key=general.alignment default=32\n"
     ]
    },
    {
     "name": "stdout",
     "output_type": "stream",
     "text": [
      "[GIN] 2025/05/13 - 14:12:10 | 200 | 11.559260559s |       127.0.0.1 | POST     \"/api/chat\"\n",
      "[GIN] 2025/05/13 - 14:12:11 | 200 | 12.532191647s |       127.0.0.1 | POST     \"/api/chat\"\n",
      "[GIN] 2025/05/13 - 14:12:13 | 200 | 14.581318066s |       127.0.0.1 | POST     \"/api/chat\"\n"
     ]
    },
    {
     "name": "stderr",
     "output_type": "stream",
     "text": [
      "time=2025-05-13T14:12:13.158Z level=WARN source=ggml.go:152 msg=\"key not found\" key=general.alignment default=32\n"
     ]
    },
    {
     "name": "stdout",
     "output_type": "stream",
     "text": [
      "[GIN] 2025/05/13 - 14:12:16 | 200 | 16.329382676s |       127.0.0.1 | POST     \"/api/chat\"\n"
     ]
    },
    {
     "name": "stderr",
     "output_type": "stream",
     "text": [
      "time=2025-05-13T14:12:16.708Z level=WARN source=ggml.go:152 msg=\"key not found\" key=general.alignment default=32\n"
     ]
    },
    {
     "name": "stdout",
     "output_type": "stream",
     "text": [
      "[GIN] 2025/05/13 - 14:12:18 | 200 | 10.860574349s |       127.0.0.1 | POST     \"/api/chat\"\n"
     ]
    },
    {
     "name": "stderr",
     "output_type": "stream",
     "text": [
      "time=2025-05-13T14:12:18.457Z level=WARN source=ggml.go:152 msg=\"key not found\" key=general.alignment default=32\n"
     ]
    },
    {
     "name": "stdout",
     "output_type": "stream",
     "text": [
      "[GIN] 2025/05/13 - 14:12:21 | 200 |  8.375955821s |       127.0.0.1 | POST     \"/api/chat\"\n"
     ]
    },
    {
     "name": "stderr",
     "output_type": "stream",
     "text": [
      "time=2025-05-13T14:12:21.531Z level=WARN source=ggml.go:152 msg=\"key not found\" key=general.alignment default=32\n"
     ]
    },
    {
     "name": "stdout",
     "output_type": "stream",
     "text": [
      "[GIN] 2025/05/13 - 14:12:24 | 200 |    8.0865912s |       127.0.0.1 | POST     \"/api/chat\"\n"
     ]
    },
    {
     "name": "stderr",
     "output_type": "stream",
     "text": [
      "time=2025-05-13T14:12:24.800Z level=WARN source=ggml.go:152 msg=\"key not found\" key=general.alignment default=32\n"
     ]
    },
    {
     "name": "stdout",
     "output_type": "stream",
     "text": [
      "[GIN] 2025/05/13 - 14:12:50 | 200 | 32.069475901s |       127.0.0.1 | POST     \"/api/chat\"\n"
     ]
    },
    {
     "name": "stderr",
     "output_type": "stream",
     "text": [
      "time=2025-05-13T14:12:50.541Z level=WARN source=ggml.go:152 msg=\"key not found\" key=general.alignment default=32\n"
     ]
    },
    {
     "name": "stdout",
     "output_type": "stream",
     "text": [
      "[GIN] 2025/05/13 - 14:12:57 | 200 | 47.935574347s |       127.0.0.1 | POST     \"/api/chat\"\n"
     ]
    },
    {
     "name": "stderr",
     "output_type": "stream",
     "text": [
      "time=2025-05-13T14:12:57.122Z level=WARN source=ggml.go:152 msg=\"key not found\" key=general.alignment default=32\n"
     ]
    },
    {
     "name": "stdout",
     "output_type": "stream",
     "text": [
      "[GIN] 2025/05/13 - 14:13:01 | 200 | 40.394696093s |       127.0.0.1 | POST     \"/api/chat\"\n"
     ]
    },
    {
     "name": "stderr",
     "output_type": "stream",
     "text": [
      "time=2025-05-13T14:13:01.937Z level=WARN source=ggml.go:152 msg=\"key not found\" key=general.alignment default=32\n"
     ]
    },
    {
     "name": "stdout",
     "output_type": "stream",
     "text": [
      "[GIN] 2025/05/13 - 14:13:06 | 200 | 42.195029715s |       127.0.0.1 | POST     \"/api/chat\"\n"
     ]
    },
    {
     "name": "stderr",
     "output_type": "stream",
     "text": [
      "time=2025-05-13T14:13:07.004Z level=WARN source=ggml.go:152 msg=\"key not found\" key=general.alignment default=32\n"
     ]
    },
    {
     "name": "stdout",
     "output_type": "stream",
     "text": [
      "[GIN] 2025/05/13 - 14:13:12 | 200 | 22.102577493s |       127.0.0.1 | POST     \"/api/chat\"\n"
     ]
    },
    {
     "name": "stderr",
     "output_type": "stream",
     "text": [
      "time=2025-05-13T14:13:12.646Z level=WARN source=ggml.go:152 msg=\"key not found\" key=general.alignment default=32\n"
     ]
    },
    {
     "name": "stdout",
     "output_type": "stream",
     "text": [
      "[GIN] 2025/05/13 - 14:13:16 | 200 | 14.621317332s |       127.0.0.1 | POST     \"/api/chat\"\n"
     ]
    },
    {
     "name": "stderr",
     "output_type": "stream",
     "text": [
      "time=2025-05-13T14:13:16.567Z level=WARN source=ggml.go:152 msg=\"key not found\" key=general.alignment default=32\n"
     ]
    },
    {
     "name": "stdout",
     "output_type": "stream",
     "text": [
      "[GIN] 2025/05/13 - 14:13:21 | 200 |  14.81387665s |       127.0.0.1 | POST     \"/api/chat\"\n"
     ]
    },
    {
     "name": "stderr",
     "output_type": "stream",
     "text": [
      "time=2025-05-13T14:13:21.823Z level=WARN source=ggml.go:152 msg=\"key not found\" key=general.alignment default=32\n"
     ]
    },
    {
     "name": "stdout",
     "output_type": "stream",
     "text": [
      "[GIN] 2025/05/13 - 14:13:45 | 200 | 48.126361794s |       127.0.0.1 | POST     \"/api/chat\"\n"
     ]
    },
    {
     "name": "stderr",
     "output_type": "stream",
     "text": [
      "time=2025-05-13T14:13:45.261Z level=WARN source=ggml.go:152 msg=\"key not found\" key=general.alignment default=32\n"
     ]
    },
    {
     "name": "stdout",
     "output_type": "stream",
     "text": [
      "[GIN] 2025/05/13 - 14:13:46 | 200 | 34.297255342s |       127.0.0.1 | POST     \"/api/chat\"\n"
     ]
    },
    {
     "name": "stderr",
     "output_type": "stream",
     "text": [
      "time=2025-05-13T14:13:46.957Z level=WARN source=ggml.go:152 msg=\"key not found\" key=general.alignment default=32\n"
     ]
    },
    {
     "name": "stdout",
     "output_type": "stream",
     "text": [
      "[GIN] 2025/05/13 - 14:13:49 | 200 | 32.706629581s |       127.0.0.1 | POST     \"/api/chat\"\n"
     ]
    },
    {
     "name": "stderr",
     "output_type": "stream",
     "text": [
      "time=2025-05-13T14:13:49.273Z level=WARN source=ggml.go:152 msg=\"key not found\" key=general.alignment default=32\n"
     ]
    },
    {
     "name": "stdout",
     "output_type": "stream",
     "text": [
      "[GIN] 2025/05/13 - 14:14:04 | 200 | 42.684977036s |       127.0.0.1 | POST     \"/api/chat\"\n"
     ]
    },
    {
     "name": "stderr",
     "output_type": "stream",
     "text": [
      "time=2025-05-13T14:14:04.518Z level=WARN source=ggml.go:152 msg=\"key not found\" key=general.alignment default=32\n"
     ]
    },
    {
     "name": "stdout",
     "output_type": "stream",
     "text": [
      "[GIN] 2025/05/13 - 14:14:14 | 200 | 27.595895043s |       127.0.0.1 | POST     \"/api/chat\"\n"
     ]
    },
    {
     "name": "stderr",
     "output_type": "stream",
     "text": [
      "time=2025-05-13T14:14:14.558Z level=WARN source=ggml.go:152 msg=\"key not found\" key=general.alignment default=32\n"
     ]
    },
    {
     "name": "stdout",
     "output_type": "stream",
     "text": [
      "[GIN] 2025/05/13 - 14:14:17 | 200 |  28.32013153s |       127.0.0.1 | POST     \"/api/chat\"\n"
     ]
    },
    {
     "name": "stderr",
     "output_type": "stream",
     "text": [
      "time=2025-05-13T14:14:17.608Z level=WARN source=ggml.go:152 msg=\"key not found\" key=general.alignment default=32\n"
     ]
    },
    {
     "name": "stdout",
     "output_type": "stream",
     "text": [
      "[GIN] 2025/05/13 - 14:14:29 | 200 | 43.879684427s |       127.0.0.1 | POST     \"/api/chat\"\n"
     ]
    },
    {
     "name": "stderr",
     "output_type": "stream",
     "text": [
      "time=2025-05-13T14:14:29.151Z level=WARN source=ggml.go:152 msg=\"key not found\" key=general.alignment default=32\n"
     ]
    },
    {
     "name": "stdout",
     "output_type": "stream",
     "text": [
      "[GIN] 2025/05/13 - 14:14:35 | 200 |  30.70900395s |       127.0.0.1 | POST     \"/api/chat\"\n"
     ]
    },
    {
     "name": "stderr",
     "output_type": "stream",
     "text": [
      "time=2025-05-13T14:14:35.236Z level=WARN source=ggml.go:152 msg=\"key not found\" key=general.alignment default=32\n"
     ]
    },
    {
     "name": "stdout",
     "output_type": "stream",
     "text": [
      "[GIN] 2025/05/13 - 14:14:38 | 200 | 21.166592453s |       127.0.0.1 | POST     \"/api/chat\"\n"
     ]
    },
    {
     "name": "stderr",
     "output_type": "stream",
     "text": [
      "time=2025-05-13T14:14:38.781Z level=WARN source=ggml.go:152 msg=\"key not found\" key=general.alignment default=32\n"
     ]
    },
    {
     "name": "stdout",
     "output_type": "stream",
     "text": [
      "[GIN] 2025/05/13 - 14:14:56 | 200 | 42.436629446s |       127.0.0.1 | POST     \"/api/chat\"\n"
     ]
    },
    {
     "name": "stderr",
     "output_type": "stream",
     "text": [
      "time=2025-05-13T14:14:57.000Z level=WARN source=ggml.go:152 msg=\"key not found\" key=general.alignment default=32\n"
     ]
    },
    {
     "name": "stdout",
     "output_type": "stream",
     "text": [
      "[GIN] 2025/05/13 - 14:14:58 | 200 |  23.45249341s |       127.0.0.1 | POST     \"/api/chat\"\n"
     ]
    },
    {
     "name": "stderr",
     "output_type": "stream",
     "text": [
      "time=2025-05-13T14:14:58.693Z level=WARN source=ggml.go:152 msg=\"key not found\" key=general.alignment default=32\n"
     ]
    },
    {
     "name": "stdout",
     "output_type": "stream",
     "text": [
      "[GIN] 2025/05/13 - 14:15:01 | 200 | 22.665046621s |       127.0.0.1 | POST     \"/api/chat\"\n"
     ]
    },
    {
     "name": "stderr",
     "output_type": "stream",
     "text": [
      "time=2025-05-13T14:15:01.448Z level=WARN source=ggml.go:152 msg=\"key not found\" key=general.alignment default=32\n"
     ]
    },
    {
     "name": "stdout",
     "output_type": "stream",
     "text": [
      "[GIN] 2025/05/13 - 14:15:11 | 200 | 14.597892705s |       127.0.0.1 | POST     \"/api/chat\"\n"
     ]
    },
    {
     "name": "stderr",
     "output_type": "stream",
     "text": [
      "time=2025-05-13T14:15:11.598Z level=WARN source=ggml.go:152 msg=\"key not found\" key=general.alignment default=32\n"
     ]
    },
    {
     "name": "stdout",
     "output_type": "stream",
     "text": [
      "[GIN] 2025/05/13 - 14:15:21 | 200 | 23.153000354s |       127.0.0.1 | POST     \"/api/chat\"\n"
     ]
    },
    {
     "name": "stderr",
     "output_type": "stream",
     "text": [
      "time=2025-05-13T14:15:21.874Z level=WARN source=ggml.go:152 msg=\"key not found\" key=general.alignment default=32\n",
      "time=2025-05-13T14:15:21.877Z level=WARN source=ggml.go:152 msg=\"key not found\" key=general.alignment default=32\n",
      "time=2025-05-13T14:15:21.882Z level=WARN source=ggml.go:152 msg=\"key not found\" key=general.alignment default=32\n"
     ]
    },
    {
     "name": "stdout",
     "output_type": "stream",
     "text": [
      "[GIN] 2025/05/13 - 14:15:25 | 200 | 56.253691964s |       127.0.0.1 | POST     \"/api/chat\"\n"
     ]
    },
    {
     "name": "stderr",
     "output_type": "stream",
     "text": [
      "time=2025-05-13T14:15:25.403Z level=WARN source=ggml.go:152 msg=\"key not found\" key=general.alignment default=32\n"
     ]
    },
    {
     "name": "stdout",
     "output_type": "stream",
     "text": [
      "[GIN] 2025/05/13 - 14:15:29 | 200 | 27.650932603s |       127.0.0.1 | POST     \"/api/chat\"\n"
     ]
    },
    {
     "name": "stderr",
     "output_type": "stream",
     "text": [
      "time=2025-05-13T14:15:29.104Z level=WARN source=ggml.go:152 msg=\"key not found\" key=general.alignment default=32\n"
     ]
    },
    {
     "name": "stdout",
     "output_type": "stream",
     "text": [
      "[GIN] 2025/05/13 - 14:15:30 | 200 |  8.807508274s |       127.0.0.1 | POST     \"/api/chat\"\n",
      "[GIN] 2025/05/13 - 14:15:31 | 200 |  9.874805347s |       127.0.0.1 | POST     \"/api/chat\"\n",
      "[GIN] 2025/05/13 - 14:15:32 | 200 |  10.96916464s |       127.0.0.1 | POST     \"/api/chat\"\n"
     ]
    },
    {
     "name": "stderr",
     "output_type": "stream",
     "text": [
      "time=2025-05-13T14:15:32.844Z level=WARN source=ggml.go:152 msg=\"key not found\" key=general.alignment default=32\n"
     ]
    },
    {
     "name": "stdout",
     "output_type": "stream",
     "text": [
      "[GIN] 2025/05/13 - 14:15:47 | 200 |  35.47183525s |       127.0.0.1 | POST     \"/api/chat\"\n"
     ]
    },
    {
     "name": "stderr",
     "output_type": "stream",
     "text": [
      "time=2025-05-13T14:15:47.083Z level=WARN source=ggml.go:152 msg=\"key not found\" key=general.alignment default=32\n"
     ]
    },
    {
     "name": "stdout",
     "output_type": "stream",
     "text": [
      "[GIN] 2025/05/13 - 14:15:49 | 200 | 20.513537472s |       127.0.0.1 | POST     \"/api/chat\"\n"
     ]
    },
    {
     "name": "stderr",
     "output_type": "stream",
     "text": [
      "time=2025-05-13T14:15:49.630Z level=WARN source=ggml.go:152 msg=\"key not found\" key=general.alignment default=32\n"
     ]
    },
    {
     "name": "stdout",
     "output_type": "stream",
     "text": [
      "[GIN] 2025/05/13 - 14:15:51 | 200 |  18.76574562s |       127.0.0.1 | POST     \"/api/chat\"\n"
     ]
    },
    {
     "name": "stderr",
     "output_type": "stream",
     "text": [
      "time=2025-05-13T14:15:51.612Z level=WARN source=ggml.go:152 msg=\"key not found\" key=general.alignment default=32\n"
     ]
    },
    {
     "name": "stdout",
     "output_type": "stream",
     "text": [
      "[GIN] 2025/05/13 - 14:16:01 | 200 | 14.940283902s |       127.0.0.1 | POST     \"/api/chat\"\n"
     ]
    },
    {
     "name": "stderr",
     "output_type": "stream",
     "text": [
      "time=2025-05-13T14:16:02.023Z level=WARN source=ggml.go:152 msg=\"key not found\" key=general.alignment default=32\n"
     ]
    },
    {
     "name": "stdout",
     "output_type": "stream",
     "text": [
      "[GIN] 2025/05/13 - 14:16:19 | 200 | 53.700906993s |       127.0.0.1 | POST     \"/api/chat\"\n"
     ]
    },
    {
     "name": "stderr",
     "output_type": "stream",
     "text": [
      "time=2025-05-13T14:16:19.109Z level=WARN source=ggml.go:152 msg=\"key not found\" key=general.alignment default=32\n"
     ]
    },
    {
     "name": "stdout",
     "output_type": "stream",
     "text": [
      "[GIN] 2025/05/13 - 14:16:27 | 200 | 37.770930697s |       127.0.0.1 | POST     \"/api/chat\"\n"
     ]
    },
    {
     "name": "stderr",
     "output_type": "stream",
     "text": [
      "time=2025-05-13T14:16:27.407Z level=WARN source=ggml.go:152 msg=\"key not found\" key=general.alignment default=32\n"
     ]
    },
    {
     "name": "stdout",
     "output_type": "stream",
     "text": [
      "[GIN] 2025/05/13 - 14:16:30 | 200 |  38.99136094s |       127.0.0.1 | POST     \"/api/chat\"\n"
     ]
    },
    {
     "name": "stderr",
     "output_type": "stream",
     "text": [
      "time=2025-05-13T14:16:30.608Z level=WARN source=ggml.go:152 msg=\"key not found\" key=general.alignment default=32\n"
     ]
    },
    {
     "name": "stdout",
     "output_type": "stream",
     "text": [
      "[GIN] 2025/05/13 - 14:16:50 | 200 | 48.942658381s |       127.0.0.1 | POST     \"/api/chat\"\n"
     ]
    },
    {
     "name": "stderr",
     "output_type": "stream",
     "text": [
      "time=2025-05-13T14:16:50.980Z level=WARN source=ggml.go:152 msg=\"key not found\" key=general.alignment default=32\n"
     ]
    },
    {
     "name": "stdout",
     "output_type": "stream",
     "text": [
      "[GIN] 2025/05/13 - 14:16:58 | 200 | 31.415471381s |       127.0.0.1 | POST     \"/api/chat\"\n"
     ]
    },
    {
     "name": "stderr",
     "output_type": "stream",
     "text": [
      "time=2025-05-13T14:16:58.822Z level=WARN source=ggml.go:152 msg=\"key not found\" key=general.alignment default=32\n"
     ]
    },
    {
     "name": "stdout",
     "output_type": "stream",
     "text": [
      "[GIN] 2025/05/13 - 14:17:01 | 200 | 30.635620241s |       127.0.0.1 | POST     \"/api/chat\"\n"
     ]
    },
    {
     "name": "stderr",
     "output_type": "stream",
     "text": [
      "time=2025-05-13T14:17:01.255Z level=WARN source=ggml.go:152 msg=\"key not found\" key=general.alignment default=32\n"
     ]
    },
    {
     "name": "stdout",
     "output_type": "stream",
     "text": [
      "[GIN] 2025/05/13 - 14:17:12 | 200 | 21.869734889s |       127.0.0.1 | POST     \"/api/chat\"\n"
     ]
    },
    {
     "name": "stderr",
     "output_type": "stream",
     "text": [
      "time=2025-05-13T14:17:12.850Z level=WARN source=ggml.go:152 msg=\"key not found\" key=general.alignment default=32\n"
     ]
    },
    {
     "name": "stdout",
     "output_type": "stream",
     "text": [
      "[GIN] 2025/05/13 - 14:17:13 | 200 | 54.362307296s |       127.0.0.1 | POST     \"/api/chat\"\n"
     ]
    },
    {
     "name": "stderr",
     "output_type": "stream",
     "text": [
      "time=2025-05-13T14:17:13.479Z level=WARN source=ggml.go:152 msg=\"key not found\" key=general.alignment default=32\n"
     ]
    },
    {
     "name": "stdout",
     "output_type": "stream",
     "text": [
      "[GIN] 2025/05/13 - 14:17:22 | 200 | 20.801128105s |       127.0.0.1 | POST     \"/api/chat\"\n"
     ]
    },
    {
     "name": "stderr",
     "output_type": "stream",
     "text": [
      "time=2025-05-13T14:17:22.061Z level=WARN source=ggml.go:152 msg=\"key not found\" key=general.alignment default=32\n"
     ]
    },
    {
     "name": "stdout",
     "output_type": "stream",
     "text": [
      "[GIN] 2025/05/13 - 14:17:31 | 200 | 19.107431091s |       127.0.0.1 | POST     \"/api/chat\"\n"
     ]
    },
    {
     "name": "stderr",
     "output_type": "stream",
     "text": [
      "time=2025-05-13T14:17:31.977Z level=WARN source=ggml.go:152 msg=\"key not found\" key=general.alignment default=32\n"
     ]
    },
    {
     "name": "stdout",
     "output_type": "stream",
     "text": [
      "[GIN] 2025/05/13 - 14:17:37 | 200 | 38.247083719s |       127.0.0.1 | POST     \"/api/chat\"\n"
     ]
    },
    {
     "name": "stderr",
     "output_type": "stream",
     "text": [
      "time=2025-05-13T14:17:37.087Z level=WARN source=ggml.go:152 msg=\"key not found\" key=general.alignment default=32\n"
     ]
    },
    {
     "name": "stdout",
     "output_type": "stream",
     "text": [
      "[GIN] 2025/05/13 - 14:17:43 | 200 | 21.350596009s |       127.0.0.1 | POST     \"/api/chat\"\n"
     ]
    },
    {
     "name": "stderr",
     "output_type": "stream",
     "text": [
      "time=2025-05-13T14:17:43.416Z level=WARN source=ggml.go:152 msg=\"key not found\" key=general.alignment default=32\n"
     ]
    },
    {
     "name": "stdout",
     "output_type": "stream",
     "text": [
      "[GIN] 2025/05/13 - 14:17:47 | 200 |  15.20545846s |       127.0.0.1 | POST     \"/api/chat\"\n"
     ]
    },
    {
     "name": "stderr",
     "output_type": "stream",
     "text": [
      "time=2025-05-13T14:17:47.179Z level=WARN source=ggml.go:152 msg=\"key not found\" key=general.alignment default=32\n"
     ]
    },
    {
     "name": "stdout",
     "output_type": "stream",
     "text": [
      "[GIN] 2025/05/13 - 14:17:57 | 200 | 20.492550451s |       127.0.0.1 | POST     \"/api/chat\"\n"
     ]
    },
    {
     "name": "stderr",
     "output_type": "stream",
     "text": [
      "time=2025-05-13T14:17:57.576Z level=WARN source=ggml.go:152 msg=\"key not found\" key=general.alignment default=32\n"
     ]
    },
    {
     "name": "stdout",
     "output_type": "stream",
     "text": [
      "[GIN] 2025/05/13 - 14:18:11 | 200 | 57.963428785s |       127.0.0.1 | POST     \"/api/chat\"\n"
     ]
    },
    {
     "name": "stderr",
     "output_type": "stream",
     "text": [
      "time=2025-05-13T14:18:11.455Z level=WARN source=ggml.go:152 msg=\"key not found\" key=general.alignment default=32\n"
     ]
    },
    {
     "name": "stdout",
     "output_type": "stream",
     "text": [
      "[GIN] 2025/05/13 - 14:18:15 | 200 | 28.774996993s |       127.0.0.1 | POST     \"/api/chat\"\n"
     ]
    },
    {
     "name": "stderr",
     "output_type": "stream",
     "text": [
      "time=2025-05-13T14:18:15.966Z level=WARN source=ggml.go:152 msg=\"key not found\" key=general.alignment default=32\n"
     ]
    },
    {
     "name": "stdout",
     "output_type": "stream",
     "text": [
      "[GIN] 2025/05/13 - 14:18:18 | 200 | 35.507868911s |       127.0.0.1 | POST     \"/api/chat\"\n"
     ]
    },
    {
     "name": "stderr",
     "output_type": "stream",
     "text": [
      "time=2025-05-13T14:18:18.935Z level=WARN source=ggml.go:152 msg=\"key not found\" key=general.alignment default=32\n"
     ]
    },
    {
     "name": "stdout",
     "output_type": "stream",
     "text": [
      "[GIN] 2025/05/13 - 14:18:42 | 200 | 44.833688951s |       127.0.0.1 | POST     \"/api/chat\"\n"
     ]
    },
    {
     "name": "stderr",
     "output_type": "stream",
     "text": [
      "time=2025-05-13T14:18:42.414Z level=WARN source=ggml.go:152 msg=\"key not found\" key=general.alignment default=32\n"
     ]
    },
    {
     "name": "stdout",
     "output_type": "stream",
     "text": [
      "[GIN] 2025/05/13 - 14:18:46 | 200 | 30.536075408s |       127.0.0.1 | POST     \"/api/chat\"\n"
     ]
    },
    {
     "name": "stderr",
     "output_type": "stream",
     "text": [
      "time=2025-05-13T14:18:46.501Z level=WARN source=ggml.go:152 msg=\"key not found\" key=general.alignment default=32\n"
     ]
    },
    {
     "name": "stdout",
     "output_type": "stream",
     "text": [
      "[GIN] 2025/05/13 - 14:18:47 | 200 | 36.545982122s |       127.0.0.1 | POST     \"/api/chat\"\n"
     ]
    },
    {
     "name": "stderr",
     "output_type": "stream",
     "text": [
      "time=2025-05-13T14:18:48.008Z level=WARN source=ggml.go:152 msg=\"key not found\" key=general.alignment default=32\n"
     ]
    },
    {
     "name": "stdout",
     "output_type": "stream",
     "text": [
      "[GIN] 2025/05/13 - 14:18:51 | 200 | 32.906935699s |       127.0.0.1 | POST     \"/api/chat\"\n"
     ]
    },
    {
     "name": "stderr",
     "output_type": "stream",
     "text": [
      "time=2025-05-13T14:18:51.846Z level=WARN source=ggml.go:152 msg=\"key not found\" key=general.alignment default=32\n"
     ]
    },
    {
     "name": "stdout",
     "output_type": "stream",
     "text": [
      "[GIN] 2025/05/13 - 14:18:56 | 200 | 10.119172568s |       127.0.0.1 | POST     \"/api/chat\"\n"
     ]
    },
    {
     "name": "stderr",
     "output_type": "stream",
     "text": [
      "time=2025-05-13T14:18:56.628Z level=WARN source=ggml.go:152 msg=\"key not found\" key=general.alignment default=32\n"
     ]
    },
    {
     "name": "stdout",
     "output_type": "stream",
     "text": [
      "[GIN] 2025/05/13 - 14:18:59 | 200 | 17.476266008s |       127.0.0.1 | POST     \"/api/chat\"\n"
     ]
    },
    {
     "name": "stderr",
     "output_type": "stream",
     "text": [
      "time=2025-05-13T14:18:59.899Z level=WARN source=ggml.go:152 msg=\"key not found\" key=general.alignment default=32\n"
     ]
    },
    {
     "name": "stdout",
     "output_type": "stream",
     "text": [
      "[GIN] 2025/05/13 - 14:19:09 | 200 | 21.833314035s |       127.0.0.1 | POST     \"/api/chat\"\n"
     ]
    },
    {
     "name": "stderr",
     "output_type": "stream",
     "text": [
      "time=2025-05-13T14:19:09.846Z level=WARN source=ggml.go:152 msg=\"key not found\" key=general.alignment default=32\n"
     ]
    },
    {
     "name": "stdout",
     "output_type": "stream",
     "text": [
      "[GIN] 2025/05/13 - 14:19:11 | 200 | 19.587106255s |       127.0.0.1 | POST     \"/api/chat\"\n"
     ]
    },
    {
     "name": "stderr",
     "output_type": "stream",
     "text": [
      "time=2025-05-13T14:19:11.461Z level=WARN source=ggml.go:152 msg=\"key not found\" key=general.alignment default=32\n",
      "time=2025-05-13T14:19:11.464Z level=WARN source=ggml.go:152 msg=\"key not found\" key=general.alignment default=32\n",
      "time=2025-05-13T14:19:11.465Z level=WARN source=ggml.go:152 msg=\"key not found\" key=general.alignment default=32\n"
     ]
    },
    {
     "name": "stdout",
     "output_type": "stream",
     "text": [
      "[GIN] 2025/05/13 - 14:19:15 | 200 | 18.590540007s |       127.0.0.1 | POST     \"/api/chat\"\n"
     ]
    },
    {
     "name": "stderr",
     "output_type": "stream",
     "text": [
      "time=2025-05-13T14:19:15.224Z level=WARN source=ggml.go:152 msg=\"key not found\" key=general.alignment default=32\n"
     ]
    },
    {
     "name": "stdout",
     "output_type": "stream",
     "text": [
      "[GIN] 2025/05/13 - 14:19:24 | 200 |  15.15374049s |       127.0.0.1 | POST     \"/api/chat\"\n"
     ]
    },
    {
     "name": "stderr",
     "output_type": "stream",
     "text": [
      "time=2025-05-13T14:19:25.019Z level=WARN source=ggml.go:152 msg=\"key not found\" key=general.alignment default=32\n"
     ]
    },
    {
     "name": "stdout",
     "output_type": "stream",
     "text": [
      "[GIN] 2025/05/13 - 14:19:27 | 200 | 15.741687402s |       127.0.0.1 | POST     \"/api/chat\"\n",
      "[GIN] 2025/05/13 - 14:19:28 | 200 | 17.095499037s |       127.0.0.1 | POST     \"/api/chat\"\n",
      "[GIN] 2025/05/13 - 14:19:29 | 200 | 18.451236936s |       127.0.0.1 | POST     \"/api/chat\"\n"
     ]
    },
    {
     "name": "stderr",
     "output_type": "stream",
     "text": [
      "time=2025-05-13T14:19:29.919Z level=WARN source=ggml.go:152 msg=\"key not found\" key=general.alignment default=32\n"
     ]
    },
    {
     "name": "stdout",
     "output_type": "stream",
     "text": [
      "[GIN] 2025/05/13 - 14:19:39 | 200 | 24.439717521s |       127.0.0.1 | POST     \"/api/chat\"\n"
     ]
    },
    {
     "name": "stderr",
     "output_type": "stream",
     "text": [
      "time=2025-05-13T14:19:39.673Z level=WARN source=ggml.go:152 msg=\"key not found\" key=general.alignment default=32\n"
     ]
    },
    {
     "name": "stdout",
     "output_type": "stream",
     "text": [
      "[GIN] 2025/05/13 - 14:19:41 | 200 | 41.884004724s |       127.0.0.1 | POST     \"/api/chat\"\n"
     ]
    },
    {
     "name": "stderr",
     "output_type": "stream",
     "text": [
      "time=2025-05-13T14:19:41.795Z level=WARN source=ggml.go:152 msg=\"key not found\" key=general.alignment default=32\n"
     ]
    },
    {
     "name": "stdout",
     "output_type": "stream",
     "text": [
      "[GIN] 2025/05/13 - 14:19:51 | 200 | 21.560861388s |       127.0.0.1 | POST     \"/api/chat\"\n"
     ]
    },
    {
     "name": "stderr",
     "output_type": "stream",
     "text": [
      "time=2025-05-13T14:19:51.483Z level=WARN source=ggml.go:152 msg=\"key not found\" key=general.alignment default=32\n"
     ]
    },
    {
     "name": "stdout",
     "output_type": "stream",
     "text": [
      "[GIN] 2025/05/13 - 14:20:22 | 200 | 57.201070877s |       127.0.0.1 | POST     \"/api/chat\"\n"
     ]
    },
    {
     "name": "stderr",
     "output_type": "stream",
     "text": [
      "time=2025-05-13T14:20:22.220Z level=WARN source=ggml.go:152 msg=\"key not found\" key=general.alignment default=32\n"
     ]
    },
    {
     "name": "stdout",
     "output_type": "stream",
     "text": [
      "[GIN] 2025/05/13 - 14:20:24 | 200 | 45.100749201s |       127.0.0.1 | POST     \"/api/chat\"\n"
     ]
    },
    {
     "name": "stderr",
     "output_type": "stream",
     "text": [
      "time=2025-05-13T14:20:24.793Z level=WARN source=ggml.go:152 msg=\"key not found\" key=general.alignment default=32\n"
     ]
    },
    {
     "name": "stdout",
     "output_type": "stream",
     "text": [
      "[GIN] 2025/05/13 - 14:20:32 | 200 | 50.427093782s |       127.0.0.1 | POST     \"/api/chat\"\n"
     ]
    },
    {
     "name": "stderr",
     "output_type": "stream",
     "text": [
      "time=2025-05-13T14:20:32.222Z level=WARN source=ggml.go:152 msg=\"key not found\" key=general.alignment default=32\n"
     ]
    },
    {
     "name": "stdout",
     "output_type": "stream",
     "text": [
      "[GIN] 2025/05/13 - 14:21:01 | 200 | 39.756291101s |       127.0.0.1 | POST     \"/api/chat\"\n"
     ]
    },
    {
     "name": "stderr",
     "output_type": "stream",
     "text": [
      "time=2025-05-13T14:21:01.983Z level=WARN source=ggml.go:152 msg=\"key not found\" key=general.alignment default=32\n"
     ]
    },
    {
     "name": "stdout",
     "output_type": "stream",
     "text": [
      "[GIN] 2025/05/13 - 14:21:06 | 200 | 41.327970751s |       127.0.0.1 | POST     \"/api/chat\"\n"
     ]
    },
    {
     "name": "stderr",
     "output_type": "stream",
     "text": [
      "time=2025-05-13T14:21:06.126Z level=WARN source=ggml.go:152 msg=\"key not found\" key=general.alignment default=32\n"
     ]
    },
    {
     "name": "stdout",
     "output_type": "stream",
     "text": [
      "[GIN] 2025/05/13 - 14:21:11 | 200 |         1m20s |       127.0.0.1 | POST     \"/api/chat\"\n"
     ]
    },
    {
     "name": "stderr",
     "output_type": "stream",
     "text": [
      "time=2025-05-13T14:21:11.676Z level=WARN source=ggml.go:152 msg=\"key not found\" key=general.alignment default=32\n"
     ]
    },
    {
     "name": "stdout",
     "output_type": "stream",
     "text": [
      "[GIN] 2025/05/13 - 14:21:30 | 200 | 58.316169069s |       127.0.0.1 | POST     \"/api/chat\"\n"
     ]
    },
    {
     "name": "stderr",
     "output_type": "stream",
     "text": [
      "time=2025-05-13T14:21:30.545Z level=WARN source=ggml.go:152 msg=\"key not found\" key=general.alignment default=32\n"
     ]
    },
    {
     "name": "stdout",
     "output_type": "stream",
     "text": [
      "[GIN] 2025/05/13 - 14:21:34 | 200 | 28.827024244s |       127.0.0.1 | POST     \"/api/chat\"\n"
     ]
    },
    {
     "name": "stderr",
     "output_type": "stream",
     "text": [
      "time=2025-05-13T14:21:34.952Z level=WARN source=ggml.go:152 msg=\"key not found\" key=general.alignment default=32\n"
     ]
    },
    {
     "name": "stdout",
     "output_type": "stream",
     "text": [
      "[GIN] 2025/05/13 - 14:21:47 | 200 | 35.842965977s |       127.0.0.1 | POST     \"/api/chat\"\n"
     ]
    },
    {
     "name": "stderr",
     "output_type": "stream",
     "text": [
      "time=2025-05-13T14:21:47.524Z level=WARN source=ggml.go:152 msg=\"key not found\" key=general.alignment default=32\n"
     ]
    },
    {
     "name": "stdout",
     "output_type": "stream",
     "text": [
      "[GIN] 2025/05/13 - 14:21:58 | 200 | 27.622547679s |       127.0.0.1 | POST     \"/api/chat\"\n"
     ]
    },
    {
     "name": "stderr",
     "output_type": "stream",
     "text": [
      "time=2025-05-13T14:21:58.172Z level=WARN source=ggml.go:152 msg=\"key not found\" key=general.alignment default=32\n"
     ]
    },
    {
     "name": "stdout",
     "output_type": "stream",
     "text": [
      "[GIN] 2025/05/13 - 14:22:01 | 200 | 26.952372624s |       127.0.0.1 | POST     \"/api/chat\"\n"
     ]
    },
    {
     "name": "stderr",
     "output_type": "stream",
     "text": [
      "time=2025-05-13T14:22:01.909Z level=WARN source=ggml.go:152 msg=\"key not found\" key=general.alignment default=32\n"
     ]
    },
    {
     "name": "stdout",
     "output_type": "stream",
     "text": [
      "[GIN] 2025/05/13 - 14:22:06 | 200 |          1m5s |       127.0.0.1 | POST     \"/api/chat\"\n"
     ]
    },
    {
     "name": "stderr",
     "output_type": "stream",
     "text": [
      "time=2025-05-13T14:22:07.004Z level=WARN source=ggml.go:152 msg=\"key not found\" key=general.alignment default=32\n"
     ]
    },
    {
     "name": "stdout",
     "output_type": "stream",
     "text": [
      "[GIN] 2025/05/13 - 14:22:15 | 200 | 17.348675184s |       127.0.0.1 | POST     \"/api/chat\"\n"
     ]
    },
    {
     "name": "stderr",
     "output_type": "stream",
     "text": [
      "time=2025-05-13T14:22:15.531Z level=WARN source=ggml.go:152 msg=\"key not found\" key=general.alignment default=32\n"
     ]
    },
    {
     "name": "stdout",
     "output_type": "stream",
     "text": [
      "[GIN] 2025/05/13 - 14:22:19 | 200 | 17.916703286s |       127.0.0.1 | POST     \"/api/chat\"\n"
     ]
    },
    {
     "name": "stderr",
     "output_type": "stream",
     "text": [
      "time=2025-05-13T14:22:19.833Z level=WARN source=ggml.go:152 msg=\"key not found\" key=general.alignment default=32\n"
     ]
    },
    {
     "name": "stdout",
     "output_type": "stream",
     "text": [
      "[GIN] 2025/05/13 - 14:22:55 | 200 | 48.018646328s |       127.0.0.1 | POST     \"/api/chat\"\n"
     ]
    },
    {
     "name": "stderr",
     "output_type": "stream",
     "text": [
      "time=2025-05-13T14:22:55.046Z level=WARN source=ggml.go:152 msg=\"key not found\" key=general.alignment default=32\n"
     ]
    },
    {
     "name": "stdout",
     "output_type": "stream",
     "text": [
      "[GIN] 2025/05/13 - 14:23:03 | 200 |         1m16s |       127.0.0.1 | POST     \"/api/chat\"\n"
     ]
    },
    {
     "name": "stderr",
     "output_type": "stream",
     "text": [
      "time=2025-05-13T14:23:03.692Z level=WARN source=ggml.go:152 msg=\"key not found\" key=general.alignment default=32\n"
     ]
    },
    {
     "name": "stdout",
     "output_type": "stream",
     "text": [
      "[GIN] 2025/05/13 - 14:23:08 | 200 | 48.363563877s |       127.0.0.1 | POST     \"/api/chat\"\n"
     ]
    },
    {
     "name": "stderr",
     "output_type": "stream",
     "text": [
      "time=2025-05-13T14:23:08.208Z level=WARN source=ggml.go:152 msg=\"key not found\" key=general.alignment default=32\n"
     ]
    },
    {
     "name": "stdout",
     "output_type": "stream",
     "text": [
      "[GIN] 2025/05/13 - 14:23:17 | 200 |          1m2s |       127.0.0.1 | POST     \"/api/chat\"\n"
     ]
    },
    {
     "name": "stderr",
     "output_type": "stream",
     "text": [
      "time=2025-05-13T14:23:17.985Z level=WARN source=ggml.go:152 msg=\"key not found\" key=general.alignment default=32\n",
      "time=2025-05-13T14:23:17.986Z level=WARN source=ggml.go:152 msg=\"key not found\" key=general.alignment default=32\n",
      "time=2025-05-13T14:23:17.990Z level=WARN source=ggml.go:152 msg=\"key not found\" key=general.alignment default=32\n"
     ]
    },
    {
     "name": "stdout",
     "output_type": "stream",
     "text": [
      "[GIN] 2025/05/13 - 14:23:20 | 200 | 17.174961966s |       127.0.0.1 | POST     \"/api/chat\"\n"
     ]
    },
    {
     "name": "stderr",
     "output_type": "stream",
     "text": [
      "time=2025-05-13T14:23:20.885Z level=WARN source=ggml.go:152 msg=\"key not found\" key=general.alignment default=32\n"
     ]
    },
    {
     "name": "stdout",
     "output_type": "stream",
     "text": [
      "[GIN] 2025/05/13 - 14:23:28 | 200 | 20.170487917s |       127.0.0.1 | POST     \"/api/chat\"\n"
     ]
    },
    {
     "name": "stderr",
     "output_type": "stream",
     "text": [
      "time=2025-05-13T14:23:28.387Z level=WARN source=ggml.go:152 msg=\"key not found\" key=general.alignment default=32\n"
     ]
    },
    {
     "name": "stdout",
     "output_type": "stream",
     "text": [
      "[GIN] 2025/05/13 - 14:23:30 | 200 | 12.428572834s |       127.0.0.1 | POST     \"/api/chat\"\n",
      "[GIN] 2025/05/13 - 14:23:31 | 200 | 13.880740821s |       127.0.0.1 | POST     \"/api/chat\"\n",
      "[GIN] 2025/05/13 - 14:23:33 | 200 | 15.173660558s |       127.0.0.1 | POST     \"/api/chat\"\n"
     ]
    },
    {
     "name": "stderr",
     "output_type": "stream",
     "text": [
      "time=2025-05-13T14:23:33.166Z level=WARN source=ggml.go:152 msg=\"key not found\" key=general.alignment default=32\n"
     ]
    },
    {
     "name": "stdout",
     "output_type": "stream",
     "text": [
      "[GIN] 2025/05/13 - 14:23:40 | 200 | 19.759990143s |       127.0.0.1 | POST     \"/api/chat\"\n"
     ]
    },
    {
     "name": "stderr",
     "output_type": "stream",
     "text": [
      "time=2025-05-13T14:23:40.660Z level=WARN source=ggml.go:152 msg=\"key not found\" key=general.alignment default=32\n"
     ]
    },
    {
     "name": "stdout",
     "output_type": "stream",
     "text": [
      "[GIN] 2025/05/13 - 14:23:48 | 200 |   19.6925368s |       127.0.0.1 | POST     \"/api/chat\"\n"
     ]
    },
    {
     "name": "stderr",
     "output_type": "stream",
     "text": [
      "time=2025-05-13T14:23:48.089Z level=WARN source=ggml.go:152 msg=\"key not found\" key=general.alignment default=32\n"
     ]
    },
    {
     "name": "stdout",
     "output_type": "stream",
     "text": [
      "[GIN] 2025/05/13 - 14:23:54 | 200 | 21.460031616s |       127.0.0.1 | POST     \"/api/chat\"\n"
     ]
    },
    {
     "name": "stderr",
     "output_type": "stream",
     "text": [
      "time=2025-05-13T14:23:54.621Z level=WARN source=ggml.go:152 msg=\"key not found\" key=general.alignment default=32\n"
     ]
    },
    {
     "name": "stdout",
     "output_type": "stream",
     "text": [
      "[GIN] 2025/05/13 - 14:24:01 | 200 | 20.700134019s |       127.0.0.1 | POST     \"/api/chat\"\n"
     ]
    },
    {
     "name": "stderr",
     "output_type": "stream",
     "text": [
      "time=2025-05-13T14:24:01.368Z level=WARN source=ggml.go:152 msg=\"key not found\" key=general.alignment default=32\n"
     ]
    },
    {
     "name": "stdout",
     "output_type": "stream",
     "text": [
      "[GIN] 2025/05/13 - 14:24:03 | 200 |          1m8s |       127.0.0.1 | POST     \"/api/chat\"\n"
     ]
    },
    {
     "name": "stderr",
     "output_type": "stream",
     "text": [
      "time=2025-05-13T14:24:03.699Z level=WARN source=ggml.go:152 msg=\"key not found\" key=general.alignment default=32\n"
     ]
    },
    {
     "name": "stdout",
     "output_type": "stream",
     "text": [
      "[GIN] 2025/05/13 - 14:24:27 | 200 | 39.933778365s |       127.0.0.1 | POST     \"/api/chat\"\n"
     ]
    },
    {
     "name": "stderr",
     "output_type": "stream",
     "text": [
      "time=2025-05-13T14:24:28.023Z level=WARN source=ggml.go:152 msg=\"key not found\" key=general.alignment default=32\n"
     ]
    },
    {
     "name": "stdout",
     "output_type": "stream",
     "text": [
      "[GIN] 2025/05/13 - 14:24:30 | 200 |  35.71718024s |       127.0.0.1 | POST     \"/api/chat\"\n"
     ]
    },
    {
     "name": "stderr",
     "output_type": "stream",
     "text": [
      "time=2025-05-13T14:24:30.352Z level=WARN source=ggml.go:152 msg=\"key not found\" key=general.alignment default=32\n"
     ]
    },
    {
     "name": "stdout",
     "output_type": "stream",
     "text": [
      "[GIN] 2025/05/13 - 14:24:51 | 200 | 49.856896489s |       127.0.0.1 | POST     \"/api/chat\"\n"
     ]
    },
    {
     "name": "stderr",
     "output_type": "stream",
     "text": [
      "time=2025-05-13T14:24:51.234Z level=WARN source=ggml.go:152 msg=\"key not found\" key=general.alignment default=32\n"
     ]
    },
    {
     "name": "stdout",
     "output_type": "stream",
     "text": [
      "[GIN] 2025/05/13 - 14:25:00 | 200 | 56.833852427s |       127.0.0.1 | POST     \"/api/chat\"\n"
     ]
    },
    {
     "name": "stderr",
     "output_type": "stream",
     "text": [
      "time=2025-05-13T14:25:00.540Z level=WARN source=ggml.go:152 msg=\"key not found\" key=general.alignment default=32\n"
     ]
    },
    {
     "name": "stdout",
     "output_type": "stream",
     "text": [
      "[GIN] 2025/05/13 - 14:25:03 | 200 |  33.02878639s |       127.0.0.1 | POST     \"/api/chat\"\n"
     ]
    },
    {
     "name": "stderr",
     "output_type": "stream",
     "text": [
      "time=2025-05-13T14:25:03.392Z level=WARN source=ggml.go:152 msg=\"key not found\" key=general.alignment default=32\n"
     ]
    },
    {
     "name": "stdout",
     "output_type": "stream",
     "text": [
      "[GIN] 2025/05/13 - 14:25:10 | 200 | 19.230908529s |       127.0.0.1 | POST     \"/api/chat\"\n"
     ]
    },
    {
     "name": "stderr",
     "output_type": "stream",
     "text": [
      "time=2025-05-13T14:25:10.475Z level=WARN source=ggml.go:152 msg=\"key not found\" key=general.alignment default=32\n"
     ]
    },
    {
     "name": "stdout",
     "output_type": "stream",
     "text": [
      "[GIN] 2025/05/13 - 14:25:18 | 200 |  50.98174238s |       127.0.0.1 | POST     \"/api/chat\"\n"
     ]
    },
    {
     "name": "stderr",
     "output_type": "stream",
     "text": [
      "time=2025-05-13T14:25:19.011Z level=WARN source=ggml.go:152 msg=\"key not found\" key=general.alignment default=32\n"
     ]
    },
    {
     "name": "stdout",
     "output_type": "stream",
     "text": [
      "[GIN] 2025/05/13 - 14:25:22 | 200 | 19.185359796s |       127.0.0.1 | POST     \"/api/chat\"\n"
     ]
    },
    {
     "name": "stderr",
     "output_type": "stream",
     "text": [
      "time=2025-05-13T14:25:22.575Z level=WARN source=ggml.go:152 msg=\"key not found\" key=general.alignment default=32\n"
     ]
    },
    {
     "name": "stdout",
     "output_type": "stream",
     "text": [
      "[GIN] 2025/05/13 - 14:25:50 | 200 |   40.0572364s |       127.0.0.1 | POST     \"/api/chat\"\n"
     ]
    },
    {
     "name": "stderr",
     "output_type": "stream",
     "text": [
      "time=2025-05-13T14:25:50.534Z level=WARN source=ggml.go:152 msg=\"key not found\" key=general.alignment default=32\n"
     ]
    },
    {
     "name": "stdout",
     "output_type": "stream",
     "text": [
      "[GIN] 2025/05/13 - 14:26:08 | 200 |          1m8s |       127.0.0.1 | POST     \"/api/chat\"\n"
     ]
    },
    {
     "name": "stderr",
     "output_type": "stream",
     "text": [
      "time=2025-05-13T14:26:08.706Z level=WARN source=ggml.go:152 msg=\"key not found\" key=general.alignment default=32\n"
     ]
    },
    {
     "name": "stdout",
     "output_type": "stream",
     "text": [
      "[GIN] 2025/05/13 - 14:26:12 | 200 | 49.516170871s |       127.0.0.1 | POST     \"/api/chat\"\n"
     ]
    },
    {
     "name": "stderr",
     "output_type": "stream",
     "text": [
      "time=2025-05-13T14:26:12.096Z level=WARN source=ggml.go:152 msg=\"key not found\" key=general.alignment default=32\n"
     ]
    },
    {
     "name": "stdout",
     "output_type": "stream",
     "text": [
      "[GIN] 2025/05/13 - 14:26:21 | 200 |          1m2s |       127.0.0.1 | POST     \"/api/chat\"\n"
     ]
    },
    {
     "name": "stderr",
     "output_type": "stream",
     "text": [
      "time=2025-05-13T14:26:21.554Z level=WARN source=ggml.go:152 msg=\"key not found\" key=general.alignment default=32\n"
     ]
    },
    {
     "name": "stdout",
     "output_type": "stream",
     "text": [
      "[GIN] 2025/05/13 - 14:26:36 | 200 | 45.836454295s |       127.0.0.1 | POST     \"/api/chat\"\n"
     ]
    },
    {
     "name": "stderr",
     "output_type": "stream",
     "text": [
      "time=2025-05-13T14:26:36.371Z level=WARN source=ggml.go:152 msg=\"key not found\" key=general.alignment default=32\n"
     ]
    },
    {
     "name": "stdout",
     "output_type": "stream",
     "text": [
      "[GIN] 2025/05/13 - 14:26:39 | 200 | 27.089486105s |       127.0.0.1 | POST     \"/api/chat\"\n"
     ]
    },
    {
     "name": "stderr",
     "output_type": "stream",
     "text": [
      "time=2025-05-13T14:26:39.195Z level=WARN source=ggml.go:152 msg=\"key not found\" key=general.alignment default=32\n"
     ]
    },
    {
     "name": "stdout",
     "output_type": "stream",
     "text": [
      "[GIN] 2025/05/13 - 14:26:53 | 200 | 45.124733885s |       127.0.0.1 | POST     \"/api/chat\"\n"
     ]
    },
    {
     "name": "stderr",
     "output_type": "stream",
     "text": [
      "time=2025-05-13T14:26:53.843Z level=WARN source=ggml.go:152 msg=\"key not found\" key=general.alignment default=32\n"
     ]
    },
    {
     "name": "stdout",
     "output_type": "stream",
     "text": [
      "[GIN] 2025/05/13 - 14:26:57 | 200 | 21.181530031s |       127.0.0.1 | POST     \"/api/chat\"\n"
     ]
    },
    {
     "name": "stderr",
     "output_type": "stream",
     "text": [
      "time=2025-05-13T14:26:57.560Z level=WARN source=ggml.go:152 msg=\"key not found\" key=general.alignment default=32\n"
     ]
    },
    {
     "name": "stdout",
     "output_type": "stream",
     "text": [
      "[GIN] 2025/05/13 - 14:27:00 | 200 | 21.452101643s |       127.0.0.1 | POST     \"/api/chat\"\n"
     ]
    },
    {
     "name": "stderr",
     "output_type": "stream",
     "text": [
      "time=2025-05-13T14:27:00.656Z level=WARN source=ggml.go:152 msg=\"key not found\" key=general.alignment default=32\n"
     ]
    },
    {
     "name": "stdout",
     "output_type": "stream",
     "text": [
      "[GIN] 2025/05/13 - 14:27:07 | 200 |  45.52657093s |       127.0.0.1 | POST     \"/api/chat\"\n"
     ]
    },
    {
     "name": "stderr",
     "output_type": "stream",
     "text": [
      "time=2025-05-13T14:27:07.086Z level=WARN source=ggml.go:152 msg=\"key not found\" key=general.alignment default=32\n"
     ]
    },
    {
     "name": "stdout",
     "output_type": "stream",
     "text": [
      "[GIN] 2025/05/13 - 14:27:19 | 200 | 22.203980449s |       127.0.0.1 | POST     \"/api/chat\"\n"
     ]
    },
    {
     "name": "stderr",
     "output_type": "stream",
     "text": [
      "time=2025-05-13T14:27:19.792Z level=WARN source=ggml.go:152 msg=\"key not found\" key=general.alignment default=32\n",
      "time=2025-05-13T14:27:19.798Z level=WARN source=ggml.go:152 msg=\"key not found\" key=general.alignment default=32\n",
      "time=2025-05-13T14:27:19.799Z level=WARN source=ggml.go:152 msg=\"key not found\" key=general.alignment default=32\n"
     ]
    },
    {
     "name": "stdout",
     "output_type": "stream",
     "text": [
      "[GIN] 2025/05/13 - 14:27:29 | 200 | 29.218846869s |       127.0.0.1 | POST     \"/api/chat\"\n"
     ]
    },
    {
     "name": "stderr",
     "output_type": "stream",
     "text": [
      "time=2025-05-13T14:27:29.879Z level=WARN source=ggml.go:152 msg=\"key not found\" key=general.alignment default=32\n"
     ]
    },
    {
     "name": "stdout",
     "output_type": "stream",
     "text": [
      "[GIN] 2025/05/13 - 14:27:56 | 200 | 48.972333547s |       127.0.0.1 | POST     \"/api/chat\"\n"
     ]
    },
    {
     "name": "stderr",
     "output_type": "stream",
     "text": [
      "time=2025-05-13T14:27:56.064Z level=WARN source=ggml.go:152 msg=\"key not found\" key=general.alignment default=32\n"
     ]
    },
    {
     "name": "stdout",
     "output_type": "stream",
     "text": [
      "[GIN] 2025/05/13 - 14:27:57 | 200 | 38.050318708s |       127.0.0.1 | POST     \"/api/chat\"\n",
      "[GIN] 2025/05/13 - 14:27:58 | 200 |          1m4s |       127.0.0.1 | POST     \"/api/chat\"\n"
     ]
    },
    {
     "name": "stderr",
     "output_type": "stream",
     "text": [
      "time=2025-05-13T14:27:58.043Z level=WARN source=ggml.go:152 msg=\"key not found\" key=general.alignment default=32\n"
     ]
    },
    {
     "name": "stdout",
     "output_type": "stream",
     "text": [
      "[GIN] 2025/05/13 - 14:27:59 | 200 | 39.730388656s |       127.0.0.1 | POST     \"/api/chat\"\n",
      "[GIN] 2025/05/13 - 14:28:00 | 200 | 40.617570645s |       127.0.0.1 | POST     \"/api/chat\"\n"
     ]
    },
    {
     "name": "stderr",
     "output_type": "stream",
     "text": [
      "time=2025-05-13T14:28:00.406Z level=WARN source=ggml.go:152 msg=\"key not found\" key=general.alignment default=32\n"
     ]
    },
    {
     "name": "stdout",
     "output_type": "stream",
     "text": [
      "[GIN] 2025/05/13 - 14:28:03 | 200 | 34.049117135s |       127.0.0.1 | POST     \"/api/chat\"\n"
     ]
    },
    {
     "name": "stderr",
     "output_type": "stream",
     "text": [
      "time=2025-05-13T14:28:03.935Z level=WARN source=ggml.go:152 msg=\"key not found\" key=general.alignment default=32\n"
     ]
    },
    {
     "name": "stdout",
     "output_type": "stream",
     "text": [
      "[GIN] 2025/05/13 - 14:28:27 | 200 | 31.720733846s |       127.0.0.1 | POST     \"/api/chat\"\n"
     ]
    },
    {
     "name": "stderr",
     "output_type": "stream",
     "text": [
      "time=2025-05-13T14:28:27.792Z level=WARN source=ggml.go:152 msg=\"key not found\" key=general.alignment default=32\n"
     ]
    },
    {
     "name": "stdout",
     "output_type": "stream",
     "text": [
      "[GIN] 2025/05/13 - 14:28:30 | 200 | 30.534673526s |       127.0.0.1 | POST     \"/api/chat\"\n"
     ]
    },
    {
     "name": "stderr",
     "output_type": "stream",
     "text": [
      "time=2025-05-13T14:28:30.955Z level=WARN source=ggml.go:152 msg=\"key not found\" key=general.alignment default=32\n"
     ]
    },
    {
     "name": "stdout",
     "output_type": "stream",
     "text": [
      "[GIN] 2025/05/13 - 14:28:34 | 200 | 36.838775148s |       127.0.0.1 | POST     \"/api/chat\"\n"
     ]
    },
    {
     "name": "stderr",
     "output_type": "stream",
     "text": [
      "time=2025-05-13T14:28:34.895Z level=WARN source=ggml.go:152 msg=\"key not found\" key=general.alignment default=32\n"
     ]
    },
    {
     "name": "stdout",
     "output_type": "stream",
     "text": [
      "[GIN] 2025/05/13 - 14:28:58 | 200 | 31.215074562s |       127.0.0.1 | POST     \"/api/chat\"\n"
     ]
    },
    {
     "name": "stderr",
     "output_type": "stream",
     "text": [
      "time=2025-05-13T14:28:59.016Z level=WARN source=ggml.go:152 msg=\"key not found\" key=general.alignment default=32\n"
     ]
    },
    {
     "name": "stdout",
     "output_type": "stream",
     "text": [
      "[GIN] 2025/05/13 - 14:29:09 | 200 |          1m5s |       127.0.0.1 | POST     \"/api/chat\"\n"
     ]
    },
    {
     "name": "stderr",
     "output_type": "stream",
     "text": [
      "time=2025-05-13T14:29:09.212Z level=WARN source=ggml.go:152 msg=\"key not found\" key=general.alignment default=32\n"
     ]
    },
    {
     "name": "stdout",
     "output_type": "stream",
     "text": [
      "[GIN] 2025/05/13 - 14:29:10 | 200 | 39.731490463s |       127.0.0.1 | POST     \"/api/chat\"\n"
     ]
    },
    {
     "name": "stderr",
     "output_type": "stream",
     "text": [
      "time=2025-05-13T14:29:10.686Z level=WARN source=ggml.go:152 msg=\"key not found\" key=general.alignment default=32\n"
     ]
    },
    {
     "name": "stdout",
     "output_type": "stream",
     "text": [
      "[GIN] 2025/05/13 - 14:29:32 | 200 | 33.020921233s |       127.0.0.1 | POST     \"/api/chat\"\n"
     ]
    },
    {
     "name": "stderr",
     "output_type": "stream",
     "text": [
      "time=2025-05-13T14:29:32.040Z level=WARN source=ggml.go:152 msg=\"key not found\" key=general.alignment default=32\n"
     ]
    },
    {
     "name": "stdout",
     "output_type": "stream",
     "text": [
      "[GIN] 2025/05/13 - 14:29:40 | 200 |   31.7325427s |       127.0.0.1 | POST     \"/api/chat\"\n"
     ]
    },
    {
     "name": "stderr",
     "output_type": "stream",
     "text": [
      "time=2025-05-13T14:29:40.954Z level=WARN source=ggml.go:152 msg=\"key not found\" key=general.alignment default=32\n"
     ]
    },
    {
     "name": "stdout",
     "output_type": "stream",
     "text": [
      "[GIN] 2025/05/13 - 14:29:44 | 200 | 33.570508197s |       127.0.0.1 | POST     \"/api/chat\"\n"
     ]
    },
    {
     "name": "stderr",
     "output_type": "stream",
     "text": [
      "time=2025-05-13T14:29:44.262Z level=WARN source=ggml.go:152 msg=\"key not found\" key=general.alignment default=32\n"
     ]
    },
    {
     "name": "stdout",
     "output_type": "stream",
     "text": [
      "[GIN] 2025/05/13 - 14:29:53 | 200 |         1m18s |       127.0.0.1 | POST     \"/api/chat\"\n"
     ]
    },
    {
     "name": "stderr",
     "output_type": "stream",
     "text": [
      "time=2025-05-13T14:29:53.849Z level=WARN source=ggml.go:152 msg=\"key not found\" key=general.alignment default=32\n"
     ]
    },
    {
     "name": "stdout",
     "output_type": "stream",
     "text": [
      "[GIN] 2025/05/13 - 14:30:12 | 200 | 40.589549115s |       127.0.0.1 | POST     \"/api/chat\"\n"
     ]
    },
    {
     "name": "stderr",
     "output_type": "stream",
     "text": [
      "time=2025-05-13T14:30:12.643Z level=WARN source=ggml.go:152 msg=\"key not found\" key=general.alignment default=32\n"
     ]
    },
    {
     "name": "stdout",
     "output_type": "stream",
     "text": [
      "[GIN] 2025/05/13 - 14:30:22 | 200 | 37.986105121s |       127.0.0.1 | POST     \"/api/chat\"\n"
     ]
    },
    {
     "name": "stderr",
     "output_type": "stream",
     "text": [
      "time=2025-05-13T14:30:22.255Z level=WARN source=ggml.go:152 msg=\"key not found\" key=general.alignment default=32\n"
     ]
    },
    {
     "name": "stdout",
     "output_type": "stream",
     "text": [
      "[GIN] 2025/05/13 - 14:30:25 | 200 | 31.646558591s |       127.0.0.1 | POST     \"/api/chat\"\n"
     ]
    },
    {
     "name": "stderr",
     "output_type": "stream",
     "text": [
      "time=2025-05-13T14:30:25.504Z level=WARN source=ggml.go:152 msg=\"key not found\" key=general.alignment default=32\n"
     ]
    },
    {
     "name": "stdout",
     "output_type": "stream",
     "text": [
      "[GIN] 2025/05/13 - 14:30:31 | 200 | 50.708990962s |       127.0.0.1 | POST     \"/api/chat\"\n"
     ]
    },
    {
     "name": "stderr",
     "output_type": "stream",
     "text": [
      "time=2025-05-13T14:30:31.665Z level=WARN source=ggml.go:152 msg=\"key not found\" key=general.alignment default=32\n"
     ]
    },
    {
     "name": "stdout",
     "output_type": "stream",
     "text": [
      "[GIN] 2025/05/13 - 14:30:41 | 200 |  19.16021566s |       127.0.0.1 | POST     \"/api/chat\"\n"
     ]
    },
    {
     "name": "stderr",
     "output_type": "stream",
     "text": [
      "time=2025-05-13T14:30:41.423Z level=WARN source=ggml.go:152 msg=\"key not found\" key=general.alignment default=32\n"
     ]
    },
    {
     "name": "stdout",
     "output_type": "stream",
     "text": [
      "[GIN] 2025/05/13 - 14:30:45 | 200 | 20.339476255s |       127.0.0.1 | POST     \"/api/chat\"\n"
     ]
    },
    {
     "name": "stderr",
     "output_type": "stream",
     "text": [
      "time=2025-05-13T14:30:45.853Z level=WARN source=ggml.go:152 msg=\"key not found\" key=general.alignment default=32\n"
     ]
    },
    {
     "name": "stdout",
     "output_type": "stream",
     "text": [
      "[GIN] 2025/05/13 - 14:30:53 | 200 | 40.980950148s |       127.0.0.1 | POST     \"/api/chat\"\n"
     ]
    },
    {
     "name": "stderr",
     "output_type": "stream",
     "text": [
      "time=2025-05-13T14:30:53.628Z level=WARN source=ggml.go:152 msg=\"key not found\" key=general.alignment default=32\n"
     ]
    },
    {
     "name": "stdout",
     "output_type": "stream",
     "text": [
      "[GIN] 2025/05/13 - 14:30:57 | 200 | 25.573580864s |       127.0.0.1 | POST     \"/api/chat\"\n"
     ]
    },
    {
     "name": "stderr",
     "output_type": "stream",
     "text": [
      "time=2025-05-13T14:30:57.248Z level=WARN source=ggml.go:152 msg=\"key not found\" key=general.alignment default=32\n"
     ]
    },
    {
     "name": "stdout",
     "output_type": "stream",
     "text": [
      "[GIN] 2025/05/13 - 14:31:01 | 200 | 15.214096124s |       127.0.0.1 | POST     \"/api/chat\"\n"
     ]
    },
    {
     "name": "stderr",
     "output_type": "stream",
     "text": [
      "time=2025-05-13T14:31:01.072Z level=WARN source=ggml.go:152 msg=\"key not found\" key=general.alignment default=32\n"
     ]
    },
    {
     "name": "stdout",
     "output_type": "stream",
     "text": [
      "[GIN] 2025/05/13 - 14:31:26 | 200 | 33.359835341s |       127.0.0.1 | POST     \"/api/chat\"\n"
     ]
    },
    {
     "name": "stderr",
     "output_type": "stream",
     "text": [
      "time=2025-05-13T14:31:26.996Z level=WARN source=ggml.go:152 msg=\"key not found\" key=general.alignment default=32\n"
     ]
    },
    {
     "name": "stdout",
     "output_type": "stream",
     "text": [
      "[GIN] 2025/05/13 - 14:31:37 | 200 | 55.870511715s |       127.0.0.1 | POST     \"/api/chat\"\n"
     ]
    },
    {
     "name": "stderr",
     "output_type": "stream",
     "text": [
      "time=2025-05-13T14:31:37.301Z level=WARN source=ggml.go:152 msg=\"key not found\" key=general.alignment default=32\n"
     ]
    },
    {
     "name": "stdout",
     "output_type": "stream",
     "text": [
      "[GIN] 2025/05/13 - 14:31:41 | 200 | 40.651688246s |       127.0.0.1 | POST     \"/api/chat\"\n"
     ]
    },
    {
     "name": "stderr",
     "output_type": "stream",
     "text": [
      "time=2025-05-13T14:31:41.725Z level=WARN source=ggml.go:152 msg=\"key not found\" key=general.alignment default=32\n"
     ]
    },
    {
     "name": "stdout",
     "output_type": "stream",
     "text": [
      "[GIN] 2025/05/13 - 14:31:55 | 200 | 28.256802581s |       127.0.0.1 | POST     \"/api/chat\"\n"
     ]
    },
    {
     "name": "stderr",
     "output_type": "stream",
     "text": [
      "time=2025-05-13T14:31:55.258Z level=WARN source=ggml.go:152 msg=\"key not found\" key=general.alignment default=32\n"
     ]
    },
    {
     "name": "stdout",
     "output_type": "stream",
     "text": [
      "[GIN] 2025/05/13 - 14:31:57 | 200 | 20.310240312s |       127.0.0.1 | POST     \"/api/chat\"\n"
     ]
    },
    {
     "name": "stderr",
     "output_type": "stream",
     "text": [
      "time=2025-05-13T14:31:57.624Z level=WARN source=ggml.go:152 msg=\"key not found\" key=general.alignment default=32\n"
     ]
    },
    {
     "name": "stdout",
     "output_type": "stream",
     "text": [
      "[GIN] 2025/05/13 - 14:32:01 | 200 | 19.535962127s |       127.0.0.1 | POST     \"/api/chat\"\n"
     ]
    },
    {
     "name": "stderr",
     "output_type": "stream",
     "text": [
      "time=2025-05-13T14:32:01.302Z level=WARN source=ggml.go:152 msg=\"key not found\" key=general.alignment default=32\n",
      "time=2025-05-13T14:32:01.310Z level=WARN source=ggml.go:152 msg=\"key not found\" key=general.alignment default=32\n",
      "time=2025-05-13T14:32:01.315Z level=WARN source=ggml.go:152 msg=\"key not found\" key=general.alignment default=32\n"
     ]
    },
    {
     "name": "stdout",
     "output_type": "stream",
     "text": [
      "[GIN] 2025/05/13 - 14:32:08 | 200 | 13.210283775s |       127.0.0.1 | POST     \"/api/chat\"\n"
     ]
    },
    {
     "name": "stderr",
     "output_type": "stream",
     "text": [
      "time=2025-05-13T14:32:08.474Z level=WARN source=ggml.go:152 msg=\"key not found\" key=general.alignment default=32\n"
     ]
    },
    {
     "name": "stdout",
     "output_type": "stream",
     "text": [
      "[GIN] 2025/05/13 - 14:32:11 | 200 |         1m14s |       127.0.0.1 | POST     \"/api/chat\"\n"
     ]
    },
    {
     "name": "stderr",
     "output_type": "stream",
     "text": [
      "time=2025-05-13T14:32:11.575Z level=WARN source=ggml.go:152 msg=\"key not found\" key=general.alignment default=32\n"
     ]
    },
    {
     "name": "stdout",
     "output_type": "stream",
     "text": [
      "[GIN] 2025/05/13 - 14:32:13 | 200 | 12.475745619s |       127.0.0.1 | POST     \"/api/chat\"\n",
      "[GIN] 2025/05/13 - 14:32:14 | 200 | 17.095821451s |       127.0.0.1 | POST     \"/api/chat\"\n"
     ]
    },
    {
     "name": "stderr",
     "output_type": "stream",
     "text": [
      "time=2025-05-13T14:32:14.726Z level=WARN source=ggml.go:152 msg=\"key not found\" key=general.alignment default=32\n"
     ]
    },
    {
     "name": "stdout",
     "output_type": "stream",
     "text": [
      "[GIN] 2025/05/13 - 14:32:15 | 200 | 14.548135542s |       127.0.0.1 | POST     \"/api/chat\"\n",
      "[GIN] 2025/05/13 - 14:32:17 | 200 | 16.210752728s |       127.0.0.1 | POST     \"/api/chat\"\n"
     ]
    },
    {
     "name": "stderr",
     "output_type": "stream",
     "text": [
      "time=2025-05-13T14:32:17.505Z level=WARN source=ggml.go:152 msg=\"key not found\" key=general.alignment default=32\n"
     ]
    },
    {
     "name": "stdout",
     "output_type": "stream",
     "text": [
      "[GIN] 2025/05/13 - 14:32:23 | 200 | 14.569270204s |       127.0.0.1 | POST     \"/api/chat\"\n"
     ]
    },
    {
     "name": "stderr",
     "output_type": "stream",
     "text": [
      "time=2025-05-13T14:32:23.057Z level=WARN source=ggml.go:152 msg=\"key not found\" key=general.alignment default=32\n"
     ]
    },
    {
     "name": "stdout",
     "output_type": "stream",
     "text": [
      "[GIN] 2025/05/13 - 14:32:28 | 200 | 16.692698148s |       127.0.0.1 | POST     \"/api/chat\"\n"
     ]
    },
    {
     "name": "stderr",
     "output_type": "stream",
     "text": [
      "time=2025-05-13T14:32:28.267Z level=WARN source=ggml.go:152 msg=\"key not found\" key=general.alignment default=32\n"
     ]
    },
    {
     "name": "stdout",
     "output_type": "stream",
     "text": [
      "[GIN] 2025/05/13 - 14:32:28 | 200 |  14.19287453s |       127.0.0.1 | POST     \"/api/chat\"\n"
     ]
    },
    {
     "name": "stderr",
     "output_type": "stream",
     "text": [
      "time=2025-05-13T14:32:28.918Z level=WARN source=ggml.go:152 msg=\"key not found\" key=general.alignment default=32\n"
     ]
    },
    {
     "name": "stdout",
     "output_type": "stream",
     "text": [
      "[GIN] 2025/05/13 - 14:32:34 | 200 | 17.416703948s |       127.0.0.1 | POST     \"/api/chat\"\n"
     ]
    },
    {
     "name": "stderr",
     "output_type": "stream",
     "text": [
      "time=2025-05-13T14:32:34.924Z level=WARN source=ggml.go:152 msg=\"key not found\" key=general.alignment default=32\n"
     ]
    },
    {
     "name": "stdout",
     "output_type": "stream",
     "text": [
      "[GIN] 2025/05/13 - 14:32:53 | 200 |  30.27810145s |       127.0.0.1 | POST     \"/api/chat\"\n"
     ]
    },
    {
     "name": "stderr",
     "output_type": "stream",
     "text": [
      "time=2025-05-13T14:32:53.337Z level=WARN source=ggml.go:152 msg=\"key not found\" key=general.alignment default=32\n"
     ]
    },
    {
     "name": "stdout",
     "output_type": "stream",
     "text": [
      "[GIN] 2025/05/13 - 14:33:08 | 200 | 40.591347867s |       127.0.0.1 | POST     \"/api/chat\"\n"
     ]
    },
    {
     "name": "stderr",
     "output_type": "stream",
     "text": [
      "time=2025-05-13T14:33:08.864Z level=WARN source=ggml.go:152 msg=\"key not found\" key=general.alignment default=32\n"
     ]
    },
    {
     "name": "stdout",
     "output_type": "stream",
     "text": [
      "[GIN] 2025/05/13 - 14:33:13 | 200 | 45.006896934s |       127.0.0.1 | POST     \"/api/chat\"\n"
     ]
    },
    {
     "name": "stderr",
     "output_type": "stream",
     "text": [
      "time=2025-05-13T14:33:13.944Z level=WARN source=ggml.go:152 msg=\"key not found\" key=general.alignment default=32\n"
     ]
    },
    {
     "name": "stdout",
     "output_type": "stream",
     "text": [
      "[GIN] 2025/05/13 - 14:33:28 | 200 | 53.785951733s |       127.0.0.1 | POST     \"/api/chat\"\n"
     ]
    },
    {
     "name": "stderr",
     "output_type": "stream",
     "text": [
      "time=2025-05-13T14:33:28.725Z level=WARN source=ggml.go:152 msg=\"key not found\" key=general.alignment default=32\n"
     ]
    },
    {
     "name": "stdout",
     "output_type": "stream",
     "text": [
      "[GIN] 2025/05/13 - 14:33:32 | 200 | 39.536805754s |       127.0.0.1 | POST     \"/api/chat\"\n"
     ]
    },
    {
     "name": "stderr",
     "output_type": "stream",
     "text": [
      "time=2025-05-13T14:33:32.886Z level=WARN source=ggml.go:152 msg=\"key not found\" key=general.alignment default=32\n"
     ]
    },
    {
     "name": "stdout",
     "output_type": "stream",
     "text": [
      "[GIN] 2025/05/13 - 14:33:36 | 200 | 22.977129687s |       127.0.0.1 | POST     \"/api/chat\"\n"
     ]
    },
    {
     "name": "stderr",
     "output_type": "stream",
     "text": [
      "time=2025-05-13T14:33:36.919Z level=WARN source=ggml.go:152 msg=\"key not found\" key=general.alignment default=32\n"
     ]
    },
    {
     "name": "stdout",
     "output_type": "stream",
     "text": [
      "[GIN] 2025/05/13 - 14:33:41 | 200 | 32.501819104s |       127.0.0.1 | POST     \"/api/chat\"\n"
     ]
    },
    {
     "name": "stderr",
     "output_type": "stream",
     "text": [
      "time=2025-05-13T14:33:41.374Z level=WARN source=ggml.go:152 msg=\"key not found\" key=general.alignment default=32\n"
     ]
    },
    {
     "name": "stdout",
     "output_type": "stream",
     "text": [
      "[GIN] 2025/05/13 - 14:33:44 | 200 | 15.379465981s |       127.0.0.1 | POST     \"/api/chat\"\n"
     ]
    },
    {
     "name": "stderr",
     "output_type": "stream",
     "text": [
      "time=2025-05-13T14:33:44.098Z level=WARN source=ggml.go:152 msg=\"key not found\" key=general.alignment default=32\n"
     ]
    },
    {
     "name": "stdout",
     "output_type": "stream",
     "text": [
      "[GIN] 2025/05/13 - 14:33:47 | 200 | 10.974530228s |       127.0.0.1 | POST     \"/api/chat\"\n"
     ]
    },
    {
     "name": "stderr",
     "output_type": "stream",
     "text": [
      "time=2025-05-13T14:33:47.899Z level=WARN source=ggml.go:152 msg=\"key not found\" key=general.alignment default=32\n"
     ]
    },
    {
     "name": "stdout",
     "output_type": "stream",
     "text": [
      "[GIN] 2025/05/13 - 14:34:05 | 200 | 32.517899651s |       127.0.0.1 | POST     \"/api/chat\"\n"
     ]
    },
    {
     "name": "stderr",
     "output_type": "stream",
     "text": [
      "time=2025-05-13T14:34:05.404Z level=WARN source=ggml.go:152 msg=\"key not found\" key=general.alignment default=32\n"
     ]
    },
    {
     "name": "stdout",
     "output_type": "stream",
     "text": [
      "[GIN] 2025/05/13 - 14:34:22 | 200 | 41.088542602s |       127.0.0.1 | POST     \"/api/chat\"\n"
     ]
    },
    {
     "name": "stderr",
     "output_type": "stream",
     "text": [
      "time=2025-05-13T14:34:22.472Z level=WARN source=ggml.go:152 msg=\"key not found\" key=general.alignment default=32\n"
     ]
    },
    {
     "name": "stdout",
     "output_type": "stream",
     "text": [
      "[GIN] 2025/05/13 - 14:34:26 | 200 | 38.381754609s |       127.0.0.1 | POST     \"/api/chat\"\n"
     ]
    },
    {
     "name": "stderr",
     "output_type": "stream",
     "text": [
      "time=2025-05-13T14:34:26.288Z level=WARN source=ggml.go:152 msg=\"key not found\" key=general.alignment default=32\n"
     ]
    },
    {
     "name": "stdout",
     "output_type": "stream",
     "text": [
      "[GIN] 2025/05/13 - 14:34:33 | 200 | 49.821016542s |       127.0.0.1 | POST     \"/api/chat\"\n"
     ]
    },
    {
     "name": "stderr",
     "output_type": "stream",
     "text": [
      "time=2025-05-13T14:34:33.927Z level=WARN source=ggml.go:152 msg=\"key not found\" key=general.alignment default=32\n"
     ]
    },
    {
     "name": "stdout",
     "output_type": "stream",
     "text": [
      "[GIN] 2025/05/13 - 14:34:42 | 200 | 19.599409139s |       127.0.0.1 | POST     \"/api/chat\"\n"
     ]
    },
    {
     "name": "stderr",
     "output_type": "stream",
     "text": [
      "time=2025-05-13T14:34:42.073Z level=WARN source=ggml.go:152 msg=\"key not found\" key=general.alignment default=32\n"
     ]
    },
    {
     "name": "stdout",
     "output_type": "stream",
     "text": [
      "[GIN] 2025/05/13 - 14:34:45 | 200 | 19.597533973s |       127.0.0.1 | POST     \"/api/chat\"\n"
     ]
    },
    {
     "name": "stderr",
     "output_type": "stream",
     "text": [
      "time=2025-05-13T14:34:45.899Z level=WARN source=ggml.go:152 msg=\"key not found\" key=general.alignment default=32\n"
     ]
    },
    {
     "name": "stdout",
     "output_type": "stream",
     "text": [
      "[GIN] 2025/05/13 - 14:34:50 | 200 | 44.627012495s |       127.0.0.1 | POST     \"/api/chat\"\n"
     ]
    },
    {
     "name": "stderr",
     "output_type": "stream",
     "text": [
      "time=2025-05-13T14:34:50.047Z level=WARN source=ggml.go:152 msg=\"key not found\" key=general.alignment default=32\n"
     ]
    },
    {
     "name": "stdout",
     "output_type": "stream",
     "text": [
      "[GIN] 2025/05/13 - 14:34:58 | 200 | 16.134238133s |       127.0.0.1 | POST     \"/api/chat\"\n"
     ]
    },
    {
     "name": "stderr",
     "output_type": "stream",
     "text": [
      "time=2025-05-13T14:34:58.223Z level=WARN source=ggml.go:152 msg=\"key not found\" key=general.alignment default=32\n"
     ]
    },
    {
     "name": "stdout",
     "output_type": "stream",
     "text": [
      "[GIN] 2025/05/13 - 14:35:01 | 200 | 27.843804849s |       127.0.0.1 | POST     \"/api/chat\"\n"
     ]
    },
    {
     "name": "stderr",
     "output_type": "stream",
     "text": [
      "time=2025-05-13T14:35:01.778Z level=WARN source=ggml.go:152 msg=\"key not found\" key=general.alignment default=32\n"
     ]
    },
    {
     "name": "stdout",
     "output_type": "stream",
     "text": [
      "[GIN] 2025/05/13 - 14:35:03 | 200 | 17.247103736s |       127.0.0.1 | POST     \"/api/chat\"\n"
     ]
    },
    {
     "name": "stderr",
     "output_type": "stream",
     "text": [
      "time=2025-05-13T14:35:03.164Z level=WARN source=ggml.go:152 msg=\"key not found\" key=general.alignment default=32\n",
      "time=2025-05-13T14:35:03.170Z level=WARN source=ggml.go:152 msg=\"key not found\" key=general.alignment default=32\n",
      "time=2025-05-13T14:35:03.173Z level=WARN source=ggml.go:152 msg=\"key not found\" key=general.alignment default=32\n"
     ]
    },
    {
     "name": "stdout",
     "output_type": "stream",
     "text": [
      "[GIN] 2025/05/13 - 14:35:05 | 200 |  7.062889999s |       127.0.0.1 | POST     \"/api/chat\"\n"
     ]
    },
    {
     "name": "stderr",
     "output_type": "stream",
     "text": [
      "time=2025-05-13T14:35:05.287Z level=WARN source=ggml.go:152 msg=\"key not found\" key=general.alignment default=32\n"
     ]
    },
    {
     "name": "stdout",
     "output_type": "stream",
     "text": [
      "[GIN] 2025/05/13 - 14:35:10 | 200 |  8.821129855s |       127.0.0.1 | POST     \"/api/chat\"\n"
     ]
    },
    {
     "name": "stderr",
     "output_type": "stream",
     "text": [
      "time=2025-05-13T14:35:10.620Z level=WARN source=ggml.go:152 msg=\"key not found\" key=general.alignment default=32\n"
     ]
    },
    {
     "name": "stdout",
     "output_type": "stream",
     "text": [
      "[GIN] 2025/05/13 - 14:35:12 | 200 |  9.292278054s |       127.0.0.1 | POST     \"/api/chat\"\n",
      "[GIN] 2025/05/13 - 14:35:13 | 200 | 10.564346256s |       127.0.0.1 | POST     \"/api/chat\"\n",
      "[GIN] 2025/05/13 - 14:35:14 | 200 | 11.842208868s |       127.0.0.1 | POST     \"/api/chat\"\n"
     ]
    },
    {
     "name": "stderr",
     "output_type": "stream",
     "text": [
      "time=2025-05-13T14:35:15.029Z level=WARN source=ggml.go:152 msg=\"key not found\" key=general.alignment default=32\n"
     ]
    },
    {
     "name": "stdout",
     "output_type": "stream",
     "text": [
      "[GIN] 2025/05/13 - 14:35:29 | 200 | 39.466337616s |       127.0.0.1 | POST     \"/api/chat\"\n"
     ]
    },
    {
     "name": "stderr",
     "output_type": "stream",
     "text": [
      "time=2025-05-13T14:35:29.513Z level=WARN source=ggml.go:152 msg=\"key not found\" key=general.alignment default=32\n"
     ]
    },
    {
     "name": "stdout",
     "output_type": "stream",
     "text": [
      "[GIN] 2025/05/13 - 14:35:30 | 200 | 25.648159268s |       127.0.0.1 | POST     \"/api/chat\"\n"
     ]
    },
    {
     "name": "stderr",
     "output_type": "stream",
     "text": [
      "time=2025-05-13T14:35:30.939Z level=WARN source=ggml.go:152 msg=\"key not found\" key=general.alignment default=32\n"
     ]
    },
    {
     "name": "stdout",
     "output_type": "stream",
     "text": [
      "[GIN] 2025/05/13 - 14:35:34 | 200 | 23.610261351s |       127.0.0.1 | POST     \"/api/chat\"\n"
     ]
    },
    {
     "name": "stderr",
     "output_type": "stream",
     "text": [
      "time=2025-05-13T14:35:34.224Z level=WARN source=ggml.go:152 msg=\"key not found\" key=general.alignment default=32\n"
     ]
    },
    {
     "name": "stdout",
     "output_type": "stream",
     "text": [
      "[GIN] 2025/05/13 - 14:35:36 | 200 | 21.205470047s |       127.0.0.1 | POST     \"/api/chat\"\n"
     ]
    },
    {
     "name": "stderr",
     "output_type": "stream",
     "text": [
      "time=2025-05-13T14:35:36.221Z level=WARN source=ggml.go:152 msg=\"key not found\" key=general.alignment default=32\n"
     ]
    },
    {
     "name": "stdout",
     "output_type": "stream",
     "text": [
      "[GIN] 2025/05/13 - 14:35:40 | 200 |  9.093998328s |       127.0.0.1 | POST     \"/api/chat\"\n"
     ]
    },
    {
     "name": "stderr",
     "output_type": "stream",
     "text": [
      "time=2025-05-13T14:35:40.039Z level=WARN source=ggml.go:152 msg=\"key not found\" key=general.alignment default=32\n"
     ]
    },
    {
     "name": "stdout",
     "output_type": "stream",
     "text": [
      "[GIN] 2025/05/13 - 14:35:57 | 200 | 23.371433849s |       127.0.0.1 | POST     \"/api/chat\"\n"
     ]
    },
    {
     "name": "stderr",
     "output_type": "stream",
     "text": [
      "time=2025-05-13T14:35:57.603Z level=WARN source=ggml.go:152 msg=\"key not found\" key=general.alignment default=32\n"
     ]
    },
    {
     "name": "stdout",
     "output_type": "stream",
     "text": [
      "[GIN] 2025/05/13 - 14:35:59 | 200 | 30.256590836s |       127.0.0.1 | POST     \"/api/chat\"\n"
     ]
    },
    {
     "name": "stderr",
     "output_type": "stream",
     "text": [
      "time=2025-05-13T14:35:59.775Z level=WARN source=ggml.go:152 msg=\"key not found\" key=general.alignment default=32\n"
     ]
    },
    {
     "name": "stdout",
     "output_type": "stream",
     "text": [
      "[GIN] 2025/05/13 - 14:36:11 | 200 | 35.391764348s |       127.0.0.1 | POST     \"/api/chat\"\n"
     ]
    },
    {
     "name": "stderr",
     "output_type": "stream",
     "text": [
      "time=2025-05-13T14:36:11.623Z level=WARN source=ggml.go:152 msg=\"key not found\" key=general.alignment default=32\n"
     ]
    },
    {
     "name": "stdout",
     "output_type": "stream",
     "text": [
      "[GIN] 2025/05/13 - 14:36:12 | 200 | 32.151164757s |       127.0.0.1 | POST     \"/api/chat\"\n"
     ]
    },
    {
     "name": "stderr",
     "output_type": "stream",
     "text": [
      "time=2025-05-13T14:36:12.200Z level=WARN source=ggml.go:152 msg=\"key not found\" key=general.alignment default=32\n"
     ]
    },
    {
     "name": "stdout",
     "output_type": "stream",
     "text": [
      "[GIN] 2025/05/13 - 14:36:24 | 200 | 26.622089805s |       127.0.0.1 | POST     \"/api/chat\"\n"
     ]
    },
    {
     "name": "stderr",
     "output_type": "stream",
     "text": [
      "time=2025-05-13T14:36:24.231Z level=WARN source=ggml.go:152 msg=\"key not found\" key=general.alignment default=32\n"
     ]
    },
    {
     "name": "stdout",
     "output_type": "stream",
     "text": [
      "[GIN] 2025/05/13 - 14:36:28 | 200 | 17.342478591s |       127.0.0.1 | POST     \"/api/chat\"\n"
     ]
    },
    {
     "name": "stderr",
     "output_type": "stream",
     "text": [
      "time=2025-05-13T14:36:28.970Z level=WARN source=ggml.go:152 msg=\"key not found\" key=general.alignment default=32\n"
     ]
    },
    {
     "name": "stdout",
     "output_type": "stream",
     "text": [
      "[GIN] 2025/05/13 - 14:36:34 | 200 | 22.531400223s |       127.0.0.1 | POST     \"/api/chat\"\n"
     ]
    },
    {
     "name": "stderr",
     "output_type": "stream",
     "text": [
      "time=2025-05-13T14:36:34.737Z level=WARN source=ggml.go:152 msg=\"key not found\" key=general.alignment default=32\n"
     ]
    },
    {
     "name": "stdout",
     "output_type": "stream",
     "text": [
      "[GIN] 2025/05/13 - 14:36:37 | 200 | 37.707269423s |       127.0.0.1 | POST     \"/api/chat\"\n"
     ]
    },
    {
     "name": "stderr",
     "output_type": "stream",
     "text": [
      "time=2025-05-13T14:36:37.489Z level=WARN source=ggml.go:152 msg=\"key not found\" key=general.alignment default=32\n"
     ]
    },
    {
     "name": "stdout",
     "output_type": "stream",
     "text": [
      "[GIN] 2025/05/13 - 14:36:41 | 200 | 12.688194702s |       127.0.0.1 | POST     \"/api/chat\"\n"
     ]
    },
    {
     "name": "stderr",
     "output_type": "stream",
     "text": [
      "time=2025-05-13T14:36:41.666Z level=WARN source=ggml.go:152 msg=\"key not found\" key=general.alignment default=32\n"
     ]
    },
    {
     "name": "stdout",
     "output_type": "stream",
     "text": [
      "[GIN] 2025/05/13 - 14:36:53 | 200 | 29.118917498s |       127.0.0.1 | POST     \"/api/chat\"\n"
     ]
    },
    {
     "name": "stderr",
     "output_type": "stream",
     "text": [
      "time=2025-05-13T14:36:53.361Z level=WARN source=ggml.go:152 msg=\"key not found\" key=general.alignment default=32\n"
     ]
    },
    {
     "name": "stdout",
     "output_type": "stream",
     "text": [
      "[GIN] 2025/05/13 - 14:37:05 | 200 | 30.634976285s |       127.0.0.1 | POST     \"/api/chat\"\n"
     ]
    },
    {
     "name": "stderr",
     "output_type": "stream",
     "text": [
      "time=2025-05-13T14:37:05.386Z level=WARN source=ggml.go:152 msg=\"key not found\" key=general.alignment default=32\n"
     ]
    },
    {
     "name": "stdout",
     "output_type": "stream",
     "text": [
      "[GIN] 2025/05/13 - 14:37:09 | 200 | 28.051946447s |       127.0.0.1 | POST     \"/api/chat\"\n"
     ]
    },
    {
     "name": "stderr",
     "output_type": "stream",
     "text": [
      "time=2025-05-13T14:37:09.726Z level=WARN source=ggml.go:152 msg=\"key not found\" key=general.alignment default=32\n"
     ]
    },
    {
     "name": "stdout",
     "output_type": "stream",
     "text": [
      "[GIN] 2025/05/13 - 14:37:14 | 200 | 37.146474988s |       127.0.0.1 | POST     \"/api/chat\"\n"
     ]
    },
    {
     "name": "stderr",
     "output_type": "stream",
     "text": [
      "time=2025-05-13T14:37:14.647Z level=WARN source=ggml.go:152 msg=\"key not found\" key=general.alignment default=32\n"
     ]
    },
    {
     "name": "stdout",
     "output_type": "stream",
     "text": [
      "[GIN] 2025/05/13 - 14:37:24 | 200 | 30.982868346s |       127.0.0.1 | POST     \"/api/chat\"\n"
     ]
    },
    {
     "name": "stderr",
     "output_type": "stream",
     "text": [
      "time=2025-05-13T14:37:24.344Z level=WARN source=ggml.go:152 msg=\"key not found\" key=general.alignment default=32\n"
     ]
    },
    {
     "name": "stdout",
     "output_type": "stream",
     "text": [
      "[GIN] 2025/05/13 - 14:37:28 | 200 | 19.180117544s |       127.0.0.1 | POST     \"/api/chat\"\n"
     ]
    },
    {
     "name": "stderr",
     "output_type": "stream",
     "text": [
      "time=2025-05-13T14:37:28.910Z level=WARN source=ggml.go:152 msg=\"key not found\" key=general.alignment default=32\n"
     ]
    },
    {
     "name": "stdout",
     "output_type": "stream",
     "text": [
      "[GIN] 2025/05/13 - 14:37:46 | 200 | 40.680745136s |       127.0.0.1 | POST     \"/api/chat\"\n"
     ]
    },
    {
     "name": "stderr",
     "output_type": "stream",
     "text": [
      "time=2025-05-13T14:37:46.068Z level=WARN source=ggml.go:152 msg=\"key not found\" key=general.alignment default=32\n"
     ]
    },
    {
     "name": "stdout",
     "output_type": "stream",
     "text": [
      "[GIN] 2025/05/13 - 14:37:53 | 200 | 38.817813606s |       127.0.0.1 | POST     \"/api/chat\"\n"
     ]
    },
    {
     "name": "stderr",
     "output_type": "stream",
     "text": [
      "time=2025-05-13T14:37:53.467Z level=WARN source=ggml.go:152 msg=\"key not found\" key=general.alignment default=32\n"
     ]
    },
    {
     "name": "stdout",
     "output_type": "stream",
     "text": [
      "[GIN] 2025/05/13 - 14:37:57 | 200 | 28.839381307s |       127.0.0.1 | POST     \"/api/chat\"\n"
     ]
    },
    {
     "name": "stderr",
     "output_type": "stream",
     "text": [
      "time=2025-05-13T14:37:57.764Z level=WARN source=ggml.go:152 msg=\"key not found\" key=general.alignment default=32\n"
     ]
    },
    {
     "name": "stdout",
     "output_type": "stream",
     "text": [
      "[GIN] 2025/05/13 - 14:38:02 | 200 | 16.608079808s |       127.0.0.1 | POST     \"/api/chat\"\n"
     ]
    },
    {
     "name": "stderr",
     "output_type": "stream",
     "text": [
      "time=2025-05-13T14:38:02.690Z level=WARN source=ggml.go:152 msg=\"key not found\" key=general.alignment default=32\n"
     ]
    },
    {
     "name": "stdout",
     "output_type": "stream",
     "text": [
      "[GIN] 2025/05/13 - 14:38:07 | 200 | 42.880425216s |       127.0.0.1 | POST     \"/api/chat\"\n"
     ]
    },
    {
     "name": "stderr",
     "output_type": "stream",
     "text": [
      "time=2025-05-13T14:38:07.239Z level=WARN source=ggml.go:152 msg=\"key not found\" key=general.alignment default=32\n"
     ]
    },
    {
     "name": "stdout",
     "output_type": "stream",
     "text": [
      "[GIN] 2025/05/13 - 14:38:22 | 200 | 28.930098866s |       127.0.0.1 | POST     \"/api/chat\"\n"
     ]
    },
    {
     "name": "stderr",
     "output_type": "stream",
     "text": [
      "time=2025-05-13T14:38:22.395Z level=WARN source=ggml.go:152 msg=\"key not found\" key=general.alignment default=32\n"
     ]
    },
    {
     "name": "stdout",
     "output_type": "stream",
     "text": [
      "[GIN] 2025/05/13 - 14:38:26 | 200 | 28.693232357s |       127.0.0.1 | POST     \"/api/chat\"\n"
     ]
    },
    {
     "name": "stderr",
     "output_type": "stream",
     "text": [
      "time=2025-05-13T14:38:26.468Z level=WARN source=ggml.go:152 msg=\"key not found\" key=general.alignment default=32\n"
     ]
    },
    {
     "name": "stdout",
     "output_type": "stream",
     "text": [
      "[GIN] 2025/05/13 - 14:38:28 | 200 | 26.233112022s |       127.0.0.1 | POST     \"/api/chat\"\n"
     ]
    },
    {
     "name": "stderr",
     "output_type": "stream",
     "text": [
      "time=2025-05-13T14:38:28.945Z level=WARN source=ggml.go:152 msg=\"key not found\" key=general.alignment default=32\n",
      "time=2025-05-13T14:38:28.949Z level=WARN source=ggml.go:152 msg=\"key not found\" key=general.alignment default=32\n",
      "time=2025-05-13T14:38:28.952Z level=WARN source=ggml.go:152 msg=\"key not found\" key=general.alignment default=32\n"
     ]
    },
    {
     "name": "stdout",
     "output_type": "stream",
     "text": [
      "[GIN] 2025/05/13 - 14:38:40 | 200 | 33.215948082s |       127.0.0.1 | POST     \"/api/chat\"\n"
     ]
    },
    {
     "name": "stderr",
     "output_type": "stream",
     "text": [
      "time=2025-05-13T14:38:40.462Z level=WARN source=ggml.go:152 msg=\"key not found\" key=general.alignment default=32\n"
     ]
    },
    {
     "name": "stdout",
     "output_type": "stream",
     "text": [
      "[GIN] 2025/05/13 - 14:38:47 | 200 | 21.473421492s |       127.0.0.1 | POST     \"/api/chat\"\n"
     ]
    },
    {
     "name": "stderr",
     "output_type": "stream",
     "text": [
      "time=2025-05-13T14:38:47.941Z level=WARN source=ggml.go:152 msg=\"key not found\" key=general.alignment default=32\n"
     ]
    },
    {
     "name": "stdout",
     "output_type": "stream",
     "text": [
      "[GIN] 2025/05/13 - 14:38:49 | 200 | 21.083406129s |       127.0.0.1 | POST     \"/api/chat\"\n",
      "[GIN] 2025/05/13 - 14:38:51 | 200 | 28.873144644s |       127.0.0.1 | POST     \"/api/chat\"\n",
      "[GIN] 2025/05/13 - 14:38:51 | 200 | 22.402778529s |       127.0.0.1 | POST     \"/api/chat\"\n"
     ]
    },
    {
     "name": "stderr",
     "output_type": "stream",
     "text": [
      "time=2025-05-13T14:38:51.279Z level=WARN source=ggml.go:152 msg=\"key not found\" key=general.alignment default=32\n"
     ]
    },
    {
     "name": "stdout",
     "output_type": "stream",
     "text": [
      "[GIN] 2025/05/13 - 14:38:52 | 200 | 24.070288737s |       127.0.0.1 | POST     \"/api/chat\"\n"
     ]
    },
    {
     "name": "stderr",
     "output_type": "stream",
     "text": [
      "time=2025-05-13T14:38:53.014Z level=WARN source=ggml.go:152 msg=\"key not found\" key=general.alignment default=32\n"
     ]
    },
    {
     "name": "stdout",
     "output_type": "stream",
     "text": [
      "[GIN] 2025/05/13 - 14:39:08 | 200 | 28.481583904s |       127.0.0.1 | POST     \"/api/chat\"\n"
     ]
    },
    {
     "name": "stderr",
     "output_type": "stream",
     "text": [
      "time=2025-05-13T14:39:08.940Z level=WARN source=ggml.go:152 msg=\"key not found\" key=general.alignment default=32\n"
     ]
    },
    {
     "name": "stdout",
     "output_type": "stream",
     "text": [
      "[GIN] 2025/05/13 - 14:39:29 | 200 | 38.200935332s |       127.0.0.1 | POST     \"/api/chat\"\n"
     ]
    },
    {
     "name": "stderr",
     "output_type": "stream",
     "text": [
      "time=2025-05-13T14:39:29.496Z level=WARN source=ggml.go:152 msg=\"key not found\" key=general.alignment default=32\n"
     ]
    },
    {
     "name": "stdout",
     "output_type": "stream",
     "text": [
      "[GIN] 2025/05/13 - 14:39:38 | 200 |  45.34175231s |       127.0.0.1 | POST     \"/api/chat\"\n"
     ]
    },
    {
     "name": "stderr",
     "output_type": "stream",
     "text": [
      "time=2025-05-13T14:39:38.365Z level=WARN source=ggml.go:152 msg=\"key not found\" key=general.alignment default=32\n"
     ]
    },
    {
     "name": "stdout",
     "output_type": "stream",
     "text": [
      "[GIN] 2025/05/13 - 14:39:52 | 200 | 43.905864068s |       127.0.0.1 | POST     \"/api/chat\"\n"
     ]
    },
    {
     "name": "stderr",
     "output_type": "stream",
     "text": [
      "time=2025-05-13T14:39:52.870Z level=WARN source=ggml.go:152 msg=\"key not found\" key=general.alignment default=32\n"
     ]
    },
    {
     "name": "stdout",
     "output_type": "stream",
     "text": [
      "[GIN] 2025/05/13 - 14:39:56 | 200 |  27.02497341s |       127.0.0.1 | POST     \"/api/chat\"\n"
     ]
    },
    {
     "name": "stderr",
     "output_type": "stream",
     "text": [
      "time=2025-05-13T14:39:56.540Z level=WARN source=ggml.go:152 msg=\"key not found\" key=general.alignment default=32\n"
     ]
    },
    {
     "name": "stdout",
     "output_type": "stream",
     "text": [
      "[GIN] 2025/05/13 - 14:40:04 | 200 |         1m16s |       127.0.0.1 | POST     \"/api/chat\"\n"
     ]
    },
    {
     "name": "stderr",
     "output_type": "stream",
     "text": [
      "time=2025-05-13T14:40:04.301Z level=WARN source=ggml.go:152 msg=\"key not found\" key=general.alignment default=32\n"
     ]
    },
    {
     "name": "stdout",
     "output_type": "stream",
     "text": [
      "[GIN] 2025/05/13 - 14:40:22 | 200 | 29.705211979s |       127.0.0.1 | POST     \"/api/chat\"\n"
     ]
    },
    {
     "name": "stderr",
     "output_type": "stream",
     "text": [
      "time=2025-05-13T14:40:22.565Z level=WARN source=ggml.go:152 msg=\"key not found\" key=general.alignment default=32\n"
     ]
    },
    {
     "name": "stdout",
     "output_type": "stream",
     "text": [
      "[GIN] 2025/05/13 - 14:40:27 | 200 | 30.660015796s |       127.0.0.1 | POST     \"/api/chat\"\n"
     ]
    },
    {
     "name": "stderr",
     "output_type": "stream",
     "text": [
      "time=2025-05-13T14:40:27.207Z level=WARN source=ggml.go:152 msg=\"key not found\" key=general.alignment default=32\n"
     ]
    },
    {
     "name": "stdout",
     "output_type": "stream",
     "text": [
      "[GIN] 2025/05/13 - 14:40:33 | 200 | 55.417071128s |       127.0.0.1 | POST     \"/api/chat\"\n"
     ]
    },
    {
     "name": "stderr",
     "output_type": "stream",
     "text": [
      "time=2025-05-13T14:40:33.784Z level=WARN source=ggml.go:152 msg=\"key not found\" key=general.alignment default=32\n"
     ]
    },
    {
     "name": "stdout",
     "output_type": "stream",
     "text": [
      "[GIN] 2025/05/13 - 14:40:45 | 200 | 23.103144001s |       127.0.0.1 | POST     \"/api/chat\"\n"
     ]
    },
    {
     "name": "stderr",
     "output_type": "stream",
     "text": [
      "time=2025-05-13T14:40:45.675Z level=WARN source=ggml.go:152 msg=\"key not found\" key=general.alignment default=32\n"
     ]
    },
    {
     "name": "stdout",
     "output_type": "stream",
     "text": [
      "[GIN] 2025/05/13 - 14:40:49 | 200 | 21.892445243s |       127.0.0.1 | POST     \"/api/chat\"\n"
     ]
    },
    {
     "name": "stderr",
     "output_type": "stream",
     "text": [
      "time=2025-05-13T14:40:49.105Z level=WARN source=ggml.go:152 msg=\"key not found\" key=general.alignment default=32\n"
     ]
    },
    {
     "name": "stdout",
     "output_type": "stream",
     "text": [
      "[GIN] 2025/05/13 - 14:40:52 | 200 | 48.065273621s |       127.0.0.1 | POST     \"/api/chat\"\n"
     ]
    },
    {
     "name": "stderr",
     "output_type": "stream",
     "text": [
      "time=2025-05-13T14:40:52.370Z level=WARN source=ggml.go:152 msg=\"key not found\" key=general.alignment default=32\n"
     ]
    },
    {
     "name": "stdout",
     "output_type": "stream",
     "text": [
      "[GIN] 2025/05/13 - 14:41:04 | 200 | 18.926073903s |       127.0.0.1 | POST     \"/api/chat\"\n"
     ]
    },
    {
     "name": "stderr",
     "output_type": "stream",
     "text": [
      "time=2025-05-13T14:41:04.621Z level=WARN source=ggml.go:152 msg=\"key not found\" key=general.alignment default=32\n"
     ]
    },
    {
     "name": "stdout",
     "output_type": "stream",
     "text": [
      "[GIN] 2025/05/13 - 14:41:08 | 200 | 19.479314295s |       127.0.0.1 | POST     \"/api/chat\"\n"
     ]
    },
    {
     "name": "stderr",
     "output_type": "stream",
     "text": [
      "time=2025-05-13T14:41:08.591Z level=WARN source=ggml.go:152 msg=\"key not found\" key=general.alignment default=32\n"
     ]
    },
    {
     "name": "stdout",
     "output_type": "stream",
     "text": [
      "[GIN] 2025/05/13 - 14:41:14 | 200 | 40.672213361s |       127.0.0.1 | POST     \"/api/chat\"\n"
     ]
    },
    {
     "name": "stderr",
     "output_type": "stream",
     "text": [
      "time=2025-05-13T14:41:14.464Z level=WARN source=ggml.go:152 msg=\"key not found\" key=general.alignment default=32\n"
     ]
    },
    {
     "name": "stdout",
     "output_type": "stream",
     "text": [
      "[GIN] 2025/05/13 - 14:41:35 | 200 | 30.760128216s |       127.0.0.1 | POST     \"/api/chat\"\n"
     ]
    },
    {
     "name": "stderr",
     "output_type": "stream",
     "text": [
      "time=2025-05-13T14:41:35.380Z level=WARN source=ggml.go:152 msg=\"key not found\" key=general.alignment default=32\n"
     ]
    },
    {
     "name": "stdout",
     "output_type": "stream",
     "text": [
      "[GIN] 2025/05/13 - 14:41:39 | 200 | 30.859003392s |       127.0.0.1 | POST     \"/api/chat\"\n"
     ]
    },
    {
     "name": "stderr",
     "output_type": "stream",
     "text": [
      "time=2025-05-13T14:41:39.461Z level=WARN source=ggml.go:152 msg=\"key not found\" key=general.alignment default=32\n"
     ]
    },
    {
     "name": "stdout",
     "output_type": "stream",
     "text": [
      "[GIN] 2025/05/13 - 14:42:27 | 200 |         1m35s |       127.0.0.1 | POST     \"/api/chat\"\n"
     ]
    },
    {
     "name": "stderr",
     "output_type": "stream",
     "text": [
      "time=2025-05-13T14:42:27.455Z level=WARN source=ggml.go:152 msg=\"key not found\" key=general.alignment default=32\n"
     ]
    },
    {
     "name": "stdout",
     "output_type": "stream",
     "text": [
      "[GIN] 2025/05/13 - 14:42:31 | 200 | 56.303599367s |       127.0.0.1 | POST     \"/api/chat\"\n"
     ]
    },
    {
     "name": "stderr",
     "output_type": "stream",
     "text": [
      "time=2025-05-13T14:42:31.690Z level=WARN source=ggml.go:152 msg=\"key not found\" key=general.alignment default=32\n"
     ]
    },
    {
     "name": "stdout",
     "output_type": "stream",
     "text": [
      "[GIN] 2025/05/13 - 14:42:40 | 200 |          1m1s |       127.0.0.1 | POST     \"/api/chat\"\n"
     ]
    },
    {
     "name": "stderr",
     "output_type": "stream",
     "text": [
      "time=2025-05-13T14:42:40.984Z level=WARN source=ggml.go:152 msg=\"key not found\" key=general.alignment default=32\n"
     ]
    },
    {
     "name": "stdout",
     "output_type": "stream",
     "text": [
      "[GIN] 2025/05/13 - 14:43:03 | 200 |         1m48s |       127.0.0.1 | POST     \"/api/chat\"\n"
     ]
    },
    {
     "name": "stderr",
     "output_type": "stream",
     "text": [
      "time=2025-05-13T14:43:03.196Z level=WARN source=ggml.go:152 msg=\"key not found\" key=general.alignment default=32\n",
      "time=2025-05-13T14:43:03.203Z level=WARN source=ggml.go:152 msg=\"key not found\" key=general.alignment default=32\n",
      "time=2025-05-13T14:43:03.206Z level=WARN source=ggml.go:152 msg=\"key not found\" key=general.alignment default=32\n"
     ]
    },
    {
     "name": "stdout",
     "output_type": "stream",
     "text": [
      "[GIN] 2025/05/13 - 14:43:09 | 200 | 37.947394063s |       127.0.0.1 | POST     \"/api/chat\"\n"
     ]
    },
    {
     "name": "stderr",
     "output_type": "stream",
     "text": [
      "time=2025-05-13T14:43:09.651Z level=WARN source=ggml.go:152 msg=\"key not found\" key=general.alignment default=32\n"
     ]
    },
    {
     "name": "stdout",
     "output_type": "stream",
     "text": [
      "[GIN] 2025/05/13 - 14:43:10 | 200 | 43.153908326s |       127.0.0.1 | POST     \"/api/chat\"\n"
     ]
    },
    {
     "name": "stderr",
     "output_type": "stream",
     "text": [
      "time=2025-05-13T14:43:10.628Z level=WARN source=ggml.go:152 msg=\"key not found\" key=general.alignment default=32\n"
     ]
    },
    {
     "name": "stdout",
     "output_type": "stream",
     "text": [
      "[GIN] 2025/05/13 - 14:43:12 | 200 |  9.439802662s |       127.0.0.1 | POST     \"/api/chat\"\n",
      "[GIN] 2025/05/13 - 14:43:13 | 200 | 32.795511437s |       127.0.0.1 | POST     \"/api/chat\"\n"
     ]
    },
    {
     "name": "stderr",
     "output_type": "stream",
     "text": [
      "time=2025-05-13T14:43:13.785Z level=WARN source=ggml.go:152 msg=\"key not found\" key=general.alignment default=32\n"
     ]
    },
    {
     "name": "stdout",
     "output_type": "stream",
     "text": [
      "[GIN] 2025/05/13 - 14:43:14 | 200 | 11.619891923s |       127.0.0.1 | POST     \"/api/chat\"\n",
      "[GIN] 2025/05/13 - 14:43:16 | 200 | 13.197844854s |       127.0.0.1 | POST     \"/api/chat\"\n"
     ]
    },
    {
     "name": "stderr",
     "output_type": "stream",
     "text": [
      "time=2025-05-13T14:43:16.394Z level=WARN source=ggml.go:152 msg=\"key not found\" key=general.alignment default=32\n"
     ]
    },
    {
     "name": "stdout",
     "output_type": "stream",
     "text": [
      "[GIN] 2025/05/13 - 14:43:19 | 200 |  9.926962168s |       127.0.0.1 | POST     \"/api/chat\"\n"
     ]
    },
    {
     "name": "stderr",
     "output_type": "stream",
     "text": [
      "time=2025-05-13T14:43:19.580Z level=WARN source=ggml.go:152 msg=\"key not found\" key=general.alignment default=32\n"
     ]
    },
    {
     "name": "stdout",
     "output_type": "stream",
     "text": [
      "[GIN] 2025/05/13 - 14:43:46 | 200 | 32.354176385s |       127.0.0.1 | POST     \"/api/chat\"\n"
     ]
    },
    {
     "name": "stderr",
     "output_type": "stream",
     "text": [
      "time=2025-05-13T14:43:46.147Z level=WARN source=ggml.go:152 msg=\"key not found\" key=general.alignment default=32\n"
     ]
    },
    {
     "name": "stdout",
     "output_type": "stream",
     "text": [
      "[GIN] 2025/05/13 - 14:43:49 | 200 | 32.778950361s |       127.0.0.1 | POST     \"/api/chat\"\n"
     ]
    },
    {
     "name": "stderr",
     "output_type": "stream",
     "text": [
      "time=2025-05-13T14:43:49.177Z level=WARN source=ggml.go:152 msg=\"key not found\" key=general.alignment default=32\n"
     ]
    },
    {
     "name": "stdout",
     "output_type": "stream",
     "text": [
      "[GIN] 2025/05/13 - 14:44:04 | 200 | 44.599435809s |       127.0.0.1 | POST     \"/api/chat\"\n"
     ]
    },
    {
     "name": "stderr",
     "output_type": "stream",
     "text": [
      "time=2025-05-13T14:44:04.205Z level=WARN source=ggml.go:152 msg=\"key not found\" key=general.alignment default=32\n"
     ]
    },
    {
     "name": "stdout",
     "output_type": "stream",
     "text": [
      "[GIN] 2025/05/13 - 14:44:15 | 200 | 29.040805069s |       127.0.0.1 | POST     \"/api/chat\"\n"
     ]
    },
    {
     "name": "stderr",
     "output_type": "stream",
     "text": [
      "time=2025-05-13T14:44:15.198Z level=WARN source=ggml.go:152 msg=\"key not found\" key=general.alignment default=32\n"
     ]
    },
    {
     "name": "stdout",
     "output_type": "stream",
     "text": [
      "[GIN] 2025/05/13 - 14:44:19 | 200 |          1m8s |       127.0.0.1 | POST     \"/api/chat\"\n"
     ]
    },
    {
     "name": "stderr",
     "output_type": "stream",
     "text": [
      "time=2025-05-13T14:44:19.420Z level=WARN source=ggml.go:152 msg=\"key not found\" key=general.alignment default=32\n"
     ]
    },
    {
     "name": "stdout",
     "output_type": "stream",
     "text": [
      "[GIN] 2025/05/13 - 14:44:22 | 200 | 18.434942155s |       127.0.0.1 | POST     \"/api/chat\"\n"
     ]
    },
    {
     "name": "stderr",
     "output_type": "stream",
     "text": [
      "time=2025-05-13T14:44:22.630Z level=WARN source=ggml.go:152 msg=\"key not found\" key=general.alignment default=32\n"
     ]
    },
    {
     "name": "stdout",
     "output_type": "stream",
     "text": [
      "[GIN] 2025/05/13 - 14:44:29 | 200 | 39.970836817s |       127.0.0.1 | POST     \"/api/chat\"\n"
     ]
    },
    {
     "name": "stderr",
     "output_type": "stream",
     "text": [
      "time=2025-05-13T14:44:29.156Z level=WARN source=ggml.go:152 msg=\"key not found\" key=general.alignment default=32\n"
     ]
    },
    {
     "name": "stdout",
     "output_type": "stream",
     "text": [
      "[GIN] 2025/05/13 - 14:44:47 | 200 | 31.963888636s |       127.0.0.1 | POST     \"/api/chat\"\n"
     ]
    },
    {
     "name": "stderr",
     "output_type": "stream",
     "text": [
      "time=2025-05-13T14:44:47.164Z level=WARN source=ggml.go:152 msg=\"key not found\" key=general.alignment default=32\n"
     ]
    },
    {
     "name": "stdout",
     "output_type": "stream",
     "text": [
      "[GIN] 2025/05/13 - 14:44:51 | 200 | 28.812161171s |       127.0.0.1 | POST     \"/api/chat\"\n"
     ]
    },
    {
     "name": "stderr",
     "output_type": "stream",
     "text": [
      "time=2025-05-13T14:44:51.449Z level=WARN source=ggml.go:152 msg=\"key not found\" key=general.alignment default=32\n"
     ]
    },
    {
     "name": "stdout",
     "output_type": "stream",
     "text": [
      "[GIN] 2025/05/13 - 14:44:52 | 200 | 32.792820009s |       127.0.0.1 | POST     \"/api/chat\"\n"
     ]
    },
    {
     "name": "stderr",
     "output_type": "stream",
     "text": [
      "time=2025-05-13T14:44:52.227Z level=WARN source=ggml.go:152 msg=\"key not found\" key=general.alignment default=32\n"
     ]
    },
    {
     "name": "stdout",
     "output_type": "stream",
     "text": [
      "[GIN] 2025/05/13 - 14:44:58 | 200 | 29.599447635s |       127.0.0.1 | POST     \"/api/chat\"\n"
     ]
    },
    {
     "name": "stderr",
     "output_type": "stream",
     "text": [
      "time=2025-05-13T14:44:58.760Z level=WARN source=ggml.go:152 msg=\"key not found\" key=general.alignment default=32\n"
     ]
    },
    {
     "name": "stdout",
     "output_type": "stream",
     "text": [
      "[GIN] 2025/05/13 - 14:45:02 | 200 | 10.868959003s |       127.0.0.1 | POST     \"/api/chat\"\n"
     ]
    },
    {
     "name": "stderr",
     "output_type": "stream",
     "text": [
      "time=2025-05-13T14:45:02.330Z level=WARN source=ggml.go:152 msg=\"key not found\" key=general.alignment default=32\n"
     ]
    },
    {
     "name": "stdout",
     "output_type": "stream",
     "text": [
      "[GIN] 2025/05/13 - 14:45:09 | 200 | 22.051782516s |       127.0.0.1 | POST     \"/api/chat\"\n"
     ]
    },
    {
     "name": "stderr",
     "output_type": "stream",
     "text": [
      "time=2025-05-13T14:45:09.222Z level=WARN source=ggml.go:152 msg=\"key not found\" key=general.alignment default=32\n"
     ]
    },
    {
     "name": "stdout",
     "output_type": "stream",
     "text": [
      "[GIN] 2025/05/13 - 14:45:31 | 200 | 32.864862586s |       127.0.0.1 | POST     \"/api/chat\"\n"
     ]
    },
    {
     "name": "stderr",
     "output_type": "stream",
     "text": [
      "time=2025-05-13T14:45:31.637Z level=WARN source=ggml.go:152 msg=\"key not found\" key=general.alignment default=32\n"
     ]
    },
    {
     "name": "stdout",
     "output_type": "stream",
     "text": [
      "[GIN] 2025/05/13 - 14:45:36 | 200 |   33.7096873s |       127.0.0.1 | POST     \"/api/chat\"\n"
     ]
    },
    {
     "name": "stderr",
     "output_type": "stream",
     "text": [
      "time=2025-05-13T14:45:36.041Z level=WARN source=ggml.go:152 msg=\"key not found\" key=general.alignment default=32\n"
     ]
    },
    {
     "name": "stdout",
     "output_type": "stream",
     "text": [
      "[GIN] 2025/05/13 - 14:46:03 | 200 | 54.225528339s |       127.0.0.1 | POST     \"/api/chat\"\n",
      "[GIN] 2025/05/13 - 14:46:03 | 200 |         1m11s |       127.0.0.1 | POST     \"/api/chat\"\n"
     ]
    },
    {
     "name": "stderr",
     "output_type": "stream",
     "text": [
      "time=2025-05-13T14:46:03.456Z level=WARN source=ggml.go:152 msg=\"key not found\" key=general.alignment default=32\n",
      "time=2025-05-13T14:46:03.556Z level=WARN source=ggml.go:152 msg=\"key not found\" key=general.alignment default=32\n"
     ]
    },
    {
     "name": "stdout",
     "output_type": "stream",
     "text": [
      "[GIN] 2025/05/13 - 14:46:10 | 200 | 34.311072864s |       127.0.0.1 | POST     \"/api/chat\"\n"
     ]
    },
    {
     "name": "stderr",
     "output_type": "stream",
     "text": [
      "time=2025-05-13T14:46:10.373Z level=WARN source=ggml.go:152 msg=\"key not found\" key=general.alignment default=32\n"
     ]
    },
    {
     "name": "stdout",
     "output_type": "stream",
     "text": [
      "[GIN] 2025/05/13 - 14:46:24 | 200 | 21.214031687s |       127.0.0.1 | POST     \"/api/chat\"\n"
     ]
    },
    {
     "name": "stderr",
     "output_type": "stream",
     "text": [
      "time=2025-05-13T14:46:24.681Z level=WARN source=ggml.go:152 msg=\"key not found\" key=general.alignment default=32\n"
     ]
    },
    {
     "name": "stdout",
     "output_type": "stream",
     "text": [
      "[GIN] 2025/05/13 - 14:46:26 | 200 | 54.829457151s |       127.0.0.1 | POST     \"/api/chat\"\n"
     ]
    },
    {
     "name": "stderr",
     "output_type": "stream",
     "text": [
      "time=2025-05-13T14:46:26.475Z level=WARN source=ggml.go:152 msg=\"key not found\" key=general.alignment default=32\n"
     ]
    },
    {
     "name": "stdout",
     "output_type": "stream",
     "text": [
      "[GIN] 2025/05/13 - 14:46:28 | 200 | 18.466031888s |       127.0.0.1 | POST     \"/api/chat\"\n"
     ]
    },
    {
     "name": "stderr",
     "output_type": "stream",
     "text": [
      "time=2025-05-13T14:46:28.832Z level=WARN source=ggml.go:152 msg=\"key not found\" key=general.alignment default=32\n"
     ]
    },
    {
     "name": "stdout",
     "output_type": "stream",
     "text": [
      "[GIN] 2025/05/13 - 14:46:45 | 200 | 42.087991561s |       127.0.0.1 | POST     \"/api/chat\"\n"
     ]
    },
    {
     "name": "stderr",
     "output_type": "stream",
     "text": [
      "time=2025-05-13T14:46:45.640Z level=WARN source=ggml.go:152 msg=\"key not found\" key=general.alignment default=32\n"
     ]
    },
    {
     "name": "stdout",
     "output_type": "stream",
     "text": [
      "[GIN] 2025/05/13 - 14:46:53 | 200 | 26.775152604s |       127.0.0.1 | POST     \"/api/chat\"\n"
     ]
    },
    {
     "name": "stderr",
     "output_type": "stream",
     "text": [
      "time=2025-05-13T14:46:53.257Z level=WARN source=ggml.go:152 msg=\"key not found\" key=general.alignment default=32\n"
     ]
    },
    {
     "name": "stdout",
     "output_type": "stream",
     "text": [
      "[GIN] 2025/05/13 - 14:46:56 | 200 | 31.626211575s |       127.0.0.1 | POST     \"/api/chat\"\n"
     ]
    },
    {
     "name": "stderr",
     "output_type": "stream",
     "text": [
      "time=2025-05-13T14:46:56.308Z level=WARN source=ggml.go:152 msg=\"key not found\" key=general.alignment default=32\n"
     ]
    },
    {
     "name": "stdout",
     "output_type": "stream",
     "text": [
      "[GIN] 2025/05/13 - 14:47:02 | 200 | 33.657982741s |       127.0.0.1 | POST     \"/api/chat\"\n"
     ]
    },
    {
     "name": "stderr",
     "output_type": "stream",
     "text": [
      "time=2025-05-13T14:47:02.515Z level=WARN source=ggml.go:152 msg=\"key not found\" key=general.alignment default=32\n",
      "time=2025-05-13T14:47:02.521Z level=WARN source=ggml.go:152 msg=\"key not found\" key=general.alignment default=32\n",
      "time=2025-05-13T14:47:02.523Z level=WARN source=ggml.go:152 msg=\"key not found\" key=general.alignment default=32\n"
     ]
    },
    {
     "name": "stdout",
     "output_type": "stream",
     "text": [
      "[GIN] 2025/05/13 - 14:47:06 | 200 | 13.147111085s |       127.0.0.1 | POST     \"/api/chat\"\n"
     ]
    },
    {
     "name": "stderr",
     "output_type": "stream",
     "text": [
      "time=2025-05-13T14:47:06.411Z level=WARN source=ggml.go:152 msg=\"key not found\" key=general.alignment default=32\n"
     ]
    },
    {
     "name": "stdout",
     "output_type": "stream",
     "text": [
      "[GIN] 2025/05/13 - 14:47:21 | 200 | 24.908729917s |       127.0.0.1 | POST     \"/api/chat\"\n"
     ]
    },
    {
     "name": "stderr",
     "output_type": "stream",
     "text": [
      "time=2025-05-13T14:47:21.228Z level=WARN source=ggml.go:152 msg=\"key not found\" key=general.alignment default=32\n"
     ]
    },
    {
     "name": "stdout",
     "output_type": "stream",
     "text": [
      "[GIN] 2025/05/13 - 14:47:22 | 200 |  20.49765108s |       127.0.0.1 | POST     \"/api/chat\"\n",
      "[GIN] 2025/05/13 - 14:47:24 | 200 | 21.749972368s |       127.0.0.1 | POST     \"/api/chat\"\n",
      "[GIN] 2025/05/13 - 14:47:25 | 200 | 23.005880715s |       127.0.0.1 | POST     \"/api/chat\"\n"
     ]
    },
    {
     "name": "stderr",
     "output_type": "stream",
     "text": [
      "time=2025-05-13T14:47:25.520Z level=WARN source=ggml.go:152 msg=\"key not found\" key=general.alignment default=32\n"
     ]
    },
    {
     "name": "stdout",
     "output_type": "stream",
     "text": [
      "[GIN] 2025/05/13 - 14:47:49 | 200 | 43.435999147s |       127.0.0.1 | POST     \"/api/chat\"\n"
     ]
    },
    {
     "name": "stderr",
     "output_type": "stream",
     "text": [
      "time=2025-05-13T14:47:49.855Z level=WARN source=ggml.go:152 msg=\"key not found\" key=general.alignment default=32\n"
     ]
    },
    {
     "name": "stdout",
     "output_type": "stream",
     "text": [
      "[GIN] 2025/05/13 - 14:47:54 | 200 |          1m8s |       127.0.0.1 | POST     \"/api/chat\"\n"
     ]
    },
    {
     "name": "stderr",
     "output_type": "stream",
     "text": [
      "time=2025-05-13T14:47:54.113Z level=WARN source=ggml.go:152 msg=\"key not found\" key=general.alignment default=32\n"
     ]
    },
    {
     "name": "stdout",
     "output_type": "stream",
     "text": [
      "[GIN] 2025/05/13 - 14:48:08 | 200 | 43.478875541s |       127.0.0.1 | POST     \"/api/chat\"\n"
     ]
    },
    {
     "name": "stderr",
     "output_type": "stream",
     "text": [
      "time=2025-05-13T14:48:09.012Z level=WARN source=ggml.go:152 msg=\"key not found\" key=general.alignment default=32\n"
     ]
    },
    {
     "name": "stdout",
     "output_type": "stream",
     "text": [
      "[GIN] 2025/05/13 - 14:48:17 | 200 | 56.555279319s |       127.0.0.1 | POST     \"/api/chat\"\n"
     ]
    },
    {
     "name": "stderr",
     "output_type": "stream",
     "text": [
      "time=2025-05-13T14:48:17.791Z level=WARN source=ggml.go:152 msg=\"key not found\" key=general.alignment default=32\n"
     ]
    },
    {
     "name": "stdout",
     "output_type": "stream",
     "text": [
      "[GIN] 2025/05/13 - 14:48:25 | 200 | 35.782396409s |       127.0.0.1 | POST     \"/api/chat\"\n"
     ]
    },
    {
     "name": "stderr",
     "output_type": "stream",
     "text": [
      "time=2025-05-13T14:48:25.645Z level=WARN source=ggml.go:152 msg=\"key not found\" key=general.alignment default=32\n"
     ]
    },
    {
     "name": "stdout",
     "output_type": "stream",
     "text": [
      "[GIN] 2025/05/13 - 14:48:29 | 200 | 20.639591806s |       127.0.0.1 | POST     \"/api/chat\"\n"
     ]
    },
    {
     "name": "stderr",
     "output_type": "stream",
     "text": [
      "time=2025-05-13T14:48:29.652Z level=WARN source=ggml.go:152 msg=\"key not found\" key=general.alignment default=32\n"
     ]
    },
    {
     "name": "stdout",
     "output_type": "stream",
     "text": [
      "[GIN] 2025/05/13 - 14:48:41 | 200 | 47.210515856s |       127.0.0.1 | POST     \"/api/chat\"\n"
     ]
    },
    {
     "name": "stderr",
     "output_type": "stream",
     "text": [
      "time=2025-05-13T14:48:41.322Z level=WARN source=ggml.go:152 msg=\"key not found\" key=general.alignment default=32\n"
     ]
    },
    {
     "name": "stdout",
     "output_type": "stream",
     "text": [
      "[GIN] 2025/05/13 - 14:48:44 | 200 | 27.045041343s |       127.0.0.1 | POST     \"/api/chat\"\n"
     ]
    },
    {
     "name": "stderr",
     "output_type": "stream",
     "text": [
      "time=2025-05-13T14:48:44.846Z level=WARN source=ggml.go:152 msg=\"key not found\" key=general.alignment default=32\n"
     ]
    },
    {
     "name": "stdout",
     "output_type": "stream",
     "text": [
      "[GIN] 2025/05/13 - 14:48:56 | 200 |  27.36852657s |       127.0.0.1 | POST     \"/api/chat\"\n"
     ]
    },
    {
     "name": "stderr",
     "output_type": "stream",
     "text": [
      "time=2025-05-13T14:48:57.030Z level=WARN source=ggml.go:152 msg=\"key not found\" key=general.alignment default=32\n"
     ]
    },
    {
     "name": "stdout",
     "output_type": "stream",
     "text": [
      "[GIN] 2025/05/13 - 14:49:11 | 200 | 45.414526712s |       127.0.0.1 | POST     \"/api/chat\"\n"
     ]
    },
    {
     "name": "stderr",
     "output_type": "stream",
     "text": [
      "time=2025-05-13T14:49:11.069Z level=WARN source=ggml.go:152 msg=\"key not found\" key=general.alignment default=32\n"
     ]
    },
    {
     "name": "stdout",
     "output_type": "stream",
     "text": [
      "[GIN] 2025/05/13 - 14:49:18 | 200 | 36.828283941s |       127.0.0.1 | POST     \"/api/chat\"\n"
     ]
    },
    {
     "name": "stderr",
     "output_type": "stream",
     "text": [
      "time=2025-05-13T14:49:18.185Z level=WARN source=ggml.go:152 msg=\"key not found\" key=general.alignment default=32\n"
     ]
    },
    {
     "name": "stdout",
     "output_type": "stream",
     "text": [
      "[GIN] 2025/05/13 - 14:49:23 | 200 |  38.39205772s |       127.0.0.1 | POST     \"/api/chat\"\n"
     ]
    },
    {
     "name": "stderr",
     "output_type": "stream",
     "text": [
      "time=2025-05-13T14:49:23.245Z level=WARN source=ggml.go:152 msg=\"key not found\" key=general.alignment default=32\n"
     ]
    },
    {
     "name": "stdout",
     "output_type": "stream",
     "text": [
      "[GIN] 2025/05/13 - 14:49:27 | 200 | 30.790110598s |       127.0.0.1 | POST     \"/api/chat\"\n"
     ]
    },
    {
     "name": "stderr",
     "output_type": "stream",
     "text": [
      "time=2025-05-13T14:49:27.825Z level=WARN source=ggml.go:152 msg=\"key not found\" key=general.alignment default=32\n"
     ]
    },
    {
     "name": "stdout",
     "output_type": "stream",
     "text": [
      "[GIN] 2025/05/13 - 14:49:32 | 200 | 14.226046468s |       127.0.0.1 | POST     \"/api/chat\"\n"
     ]
    },
    {
     "name": "stderr",
     "output_type": "stream",
     "text": [
      "time=2025-05-13T14:49:32.404Z level=WARN source=ggml.go:152 msg=\"key not found\" key=general.alignment default=32\n"
     ]
    },
    {
     "name": "stdout",
     "output_type": "stream",
     "text": [
      "[GIN] 2025/05/13 - 14:49:44 | 200 | 33.736964677s |       127.0.0.1 | POST     \"/api/chat\"\n"
     ]
    },
    {
     "name": "stderr",
     "output_type": "stream",
     "text": [
      "time=2025-05-13T14:49:44.807Z level=WARN source=ggml.go:152 msg=\"key not found\" key=general.alignment default=32\n"
     ]
    },
    {
     "name": "stdout",
     "output_type": "stream",
     "text": [
      "[GIN] 2025/05/13 - 14:49:50 | 200 | 27.453448593s |       127.0.0.1 | POST     \"/api/chat\"\n"
     ]
    },
    {
     "name": "stderr",
     "output_type": "stream",
     "text": [
      "time=2025-05-13T14:49:50.701Z level=WARN source=ggml.go:152 msg=\"key not found\" key=general.alignment default=32\n"
     ]
    },
    {
     "name": "stdout",
     "output_type": "stream",
     "text": [
      "[GIN] 2025/05/13 - 14:49:54 | 200 |  22.26378734s |       127.0.0.1 | POST     \"/api/chat\"\n"
     ]
    },
    {
     "name": "stderr",
     "output_type": "stream",
     "text": [
      "time=2025-05-13T14:49:54.667Z level=WARN source=ggml.go:152 msg=\"key not found\" key=general.alignment default=32\n"
     ]
    },
    {
     "name": "stdout",
     "output_type": "stream",
     "text": [
      "[GIN] 2025/05/13 - 14:50:21 | 200 | 37.031148862s |       127.0.0.1 | POST     \"/api/chat\"\n"
     ]
    },
    {
     "name": "stderr",
     "output_type": "stream",
     "text": [
      "time=2025-05-13T14:50:21.865Z level=WARN source=ggml.go:152 msg=\"key not found\" key=general.alignment default=32\n"
     ]
    },
    {
     "name": "stdout",
     "output_type": "stream",
     "text": [
      "[GIN] 2025/05/13 - 14:50:24 | 200 |  33.96109301s |       127.0.0.1 | POST     \"/api/chat\"\n"
     ]
    },
    {
     "name": "stderr",
     "output_type": "stream",
     "text": [
      "time=2025-05-13T14:50:24.677Z level=WARN source=ggml.go:152 msg=\"key not found\" key=general.alignment default=32\n"
     ]
    },
    {
     "name": "stdout",
     "output_type": "stream",
     "text": [
      "[GIN] 2025/05/13 - 14:50:28 | 200 | 34.252356888s |       127.0.0.1 | POST     \"/api/chat\"\n"
     ]
    },
    {
     "name": "stderr",
     "output_type": "stream",
     "text": [
      "time=2025-05-13T14:50:28.927Z level=WARN source=ggml.go:152 msg=\"key not found\" key=general.alignment default=32\n"
     ]
    },
    {
     "name": "stdout",
     "output_type": "stream",
     "text": [
      "[GIN] 2025/05/13 - 14:50:30 | 200 |          1m3s |       127.0.0.1 | POST     \"/api/chat\"\n"
     ]
    },
    {
     "name": "stderr",
     "output_type": "stream",
     "text": [
      "time=2025-05-13T14:50:31.026Z level=WARN source=ggml.go:152 msg=\"key not found\" key=general.alignment default=32\n"
     ]
    },
    {
     "name": "stdout",
     "output_type": "stream",
     "text": [
      "[GIN] 2025/05/13 - 14:50:39 | 200 | 14.459147552s |       127.0.0.1 | POST     \"/api/chat\"\n"
     ]
    },
    {
     "name": "stderr",
     "output_type": "stream",
     "text": [
      "time=2025-05-13T14:50:39.154Z level=WARN source=ggml.go:152 msg=\"key not found\" key=general.alignment default=32\n",
      "time=2025-05-13T14:50:39.158Z level=WARN source=ggml.go:152 msg=\"key not found\" key=general.alignment default=32\n",
      "time=2025-05-13T14:50:39.159Z level=WARN source=ggml.go:152 msg=\"key not found\" key=general.alignment default=32\n"
     ]
    },
    {
     "name": "stdout",
     "output_type": "stream",
     "text": [
      "[GIN] 2025/05/13 - 14:50:42 | 200 | 13.959822749s |       127.0.0.1 | POST     \"/api/chat\"\n"
     ]
    },
    {
     "name": "stderr",
     "output_type": "stream",
     "text": [
      "time=2025-05-13T14:50:42.900Z level=WARN source=ggml.go:152 msg=\"key not found\" key=general.alignment default=32\n"
     ]
    },
    {
     "name": "stdout",
     "output_type": "stream",
     "text": [
      "[GIN] 2025/05/13 - 14:50:51 | 200 | 29.549759239s |       127.0.0.1 | POST     \"/api/chat\"\n"
     ]
    },
    {
     "name": "stderr",
     "output_type": "stream",
     "text": [
      "time=2025-05-13T14:50:51.409Z level=WARN source=ggml.go:152 msg=\"key not found\" key=general.alignment default=32\n"
     ]
    },
    {
     "name": "stdout",
     "output_type": "stream",
     "text": [
      "[GIN] 2025/05/13 - 14:50:53 | 200 | 14.022162378s |       127.0.0.1 | POST     \"/api/chat\"\n",
      "[GIN] 2025/05/13 - 14:50:54 | 200 | 15.273215169s |       127.0.0.1 | POST     \"/api/chat\"\n",
      "[GIN] 2025/05/13 - 14:50:55 | 200 | 16.550693781s |       127.0.0.1 | POST     \"/api/chat\"\n"
     ]
    },
    {
     "name": "stderr",
     "output_type": "stream",
     "text": [
      "time=2025-05-13T14:50:55.713Z level=WARN source=ggml.go:152 msg=\"key not found\" key=general.alignment default=32\n"
     ]
    },
    {
     "name": "stdout",
     "output_type": "stream",
     "text": [
      "[GIN] 2025/05/13 - 14:50:59 | 200 | 16.703668674s |       127.0.0.1 | POST     \"/api/chat\"\n"
     ]
    },
    {
     "name": "stderr",
     "output_type": "stream",
     "text": [
      "time=2025-05-13T14:50:59.604Z level=WARN source=ggml.go:152 msg=\"key not found\" key=general.alignment default=32\n"
     ]
    },
    {
     "name": "stdout",
     "output_type": "stream",
     "text": [
      "[GIN] 2025/05/13 - 14:51:02 | 200 | 31.547029809s |       127.0.0.1 | POST     \"/api/chat\"\n"
     ]
    },
    {
     "name": "stderr",
     "output_type": "stream",
     "text": [
      "time=2025-05-13T14:51:02.569Z level=WARN source=ggml.go:152 msg=\"key not found\" key=general.alignment default=32\n"
     ]
    },
    {
     "name": "stdout",
     "output_type": "stream",
     "text": [
      "[GIN] 2025/05/13 - 14:51:07 | 200 | 11.432685965s |       127.0.0.1 | POST     \"/api/chat\"\n"
     ]
    },
    {
     "name": "stderr",
     "output_type": "stream",
     "text": [
      "time=2025-05-13T14:51:07.152Z level=WARN source=ggml.go:152 msg=\"key not found\" key=general.alignment default=32\n"
     ]
    },
    {
     "name": "stdout",
     "output_type": "stream",
     "text": [
      "[GIN] 2025/05/13 - 14:51:11 | 200 | 12.181298896s |       127.0.0.1 | POST     \"/api/chat\"\n"
     ]
    },
    {
     "name": "stderr",
     "output_type": "stream",
     "text": [
      "time=2025-05-13T14:51:11.792Z level=WARN source=ggml.go:152 msg=\"key not found\" key=general.alignment default=32\n"
     ]
    },
    {
     "name": "stdout",
     "output_type": "stream",
     "text": [
      "[GIN] 2025/05/13 - 14:51:17 | 200 | 14.876886765s |       127.0.0.1 | POST     \"/api/chat\"\n"
     ]
    },
    {
     "name": "stderr",
     "output_type": "stream",
     "text": [
      "time=2025-05-13T14:51:17.450Z level=WARN source=ggml.go:152 msg=\"key not found\" key=general.alignment default=32\n"
     ]
    },
    {
     "name": "stdout",
     "output_type": "stream",
     "text": [
      "[GIN] 2025/05/13 - 14:51:34 | 200 | 42.889497912s |       127.0.0.1 | POST     \"/api/chat\"\n"
     ]
    },
    {
     "name": "stderr",
     "output_type": "stream",
     "text": [
      "time=2025-05-13T14:51:34.298Z level=WARN source=ggml.go:152 msg=\"key not found\" key=general.alignment default=32\n"
     ]
    },
    {
     "name": "stdout",
     "output_type": "stream",
     "text": [
      "[GIN] 2025/05/13 - 14:51:35 | 200 | 28.101459788s |       127.0.0.1 | POST     \"/api/chat\"\n"
     ]
    },
    {
     "name": "stderr",
     "output_type": "stream",
     "text": [
      "time=2025-05-13T14:51:35.254Z level=WARN source=ggml.go:152 msg=\"key not found\" key=general.alignment default=32\n"
     ]
    },
    {
     "name": "stdout",
     "output_type": "stream",
     "text": [
      "[GIN] 2025/05/13 - 14:51:51 | 200 |  39.94047029s |       127.0.0.1 | POST     \"/api/chat\"\n"
     ]
    },
    {
     "name": "stderr",
     "output_type": "stream",
     "text": [
      "time=2025-05-13T14:51:51.742Z level=WARN source=ggml.go:152 msg=\"key not found\" key=general.alignment default=32\n"
     ]
    },
    {
     "name": "stdout",
     "output_type": "stream",
     "text": [
      "[GIN] 2025/05/13 - 14:52:03 | 200 | 28.897218184s |       127.0.0.1 | POST     \"/api/chat\"\n"
     ]
    },
    {
     "name": "stderr",
     "output_type": "stream",
     "text": [
      "time=2025-05-13T14:52:03.202Z level=WARN source=ggml.go:152 msg=\"key not found\" key=general.alignment default=32\n"
     ]
    },
    {
     "name": "stdout",
     "output_type": "stream",
     "text": [
      "[GIN] 2025/05/13 - 14:52:07 | 200 |   32.1928225s |       127.0.0.1 | POST     \"/api/chat\"\n"
     ]
    },
    {
     "name": "stderr",
     "output_type": "stream",
     "text": [
      "time=2025-05-13T14:52:07.459Z level=WARN source=ggml.go:152 msg=\"key not found\" key=general.alignment default=32\n"
     ]
    },
    {
     "name": "stdout",
     "output_type": "stream",
     "text": [
      "[GIN] 2025/05/13 - 14:52:23 | 200 | 31.956677547s |       127.0.0.1 | POST     \"/api/chat\"\n"
     ]
    },
    {
     "name": "stderr",
     "output_type": "stream",
     "text": [
      "time=2025-05-13T14:52:23.711Z level=WARN source=ggml.go:152 msg=\"key not found\" key=general.alignment default=32\n"
     ]
    },
    {
     "name": "stdout",
     "output_type": "stream",
     "text": [
      "[GIN] 2025/05/13 - 14:52:36 | 200 |         1m19s |       127.0.0.1 | POST     \"/api/chat\"\n"
     ]
    },
    {
     "name": "stderr",
     "output_type": "stream",
     "text": [
      "time=2025-05-13T14:52:37.007Z level=WARN source=ggml.go:152 msg=\"key not found\" key=general.alignment default=32\n"
     ]
    },
    {
     "name": "stdout",
     "output_type": "stream",
     "text": [
      "[GIN] 2025/05/13 - 14:52:42 | 200 | 34.718475411s |       127.0.0.1 | POST     \"/api/chat\"\n"
     ]
    },
    {
     "name": "stderr",
     "output_type": "stream",
     "text": [
      "time=2025-05-13T14:52:42.179Z level=WARN source=ggml.go:152 msg=\"key not found\" key=general.alignment default=32\n"
     ]
    },
    {
     "name": "stdout",
     "output_type": "stream",
     "text": [
      "[GIN] 2025/05/13 - 14:52:50 | 200 | 47.186620892s |       127.0.0.1 | POST     \"/api/chat\"\n"
     ]
    },
    {
     "name": "stderr",
     "output_type": "stream",
     "text": [
      "time=2025-05-13T14:52:50.396Z level=WARN source=ggml.go:152 msg=\"key not found\" key=general.alignment default=32\n"
     ]
    },
    {
     "name": "stdout",
     "output_type": "stream",
     "text": [
      "[GIN] 2025/05/13 - 14:53:13 | 200 | 36.225468409s |       127.0.0.1 | POST     \"/api/chat\"\n"
     ]
    },
    {
     "name": "stderr",
     "output_type": "stream",
     "text": [
      "time=2025-05-13T14:53:13.245Z level=WARN source=ggml.go:152 msg=\"key not found\" key=general.alignment default=32\n"
     ]
    },
    {
     "name": "stdout",
     "output_type": "stream",
     "text": [
      "[GIN] 2025/05/13 - 14:53:16 | 200 | 34.387236333s |       127.0.0.1 | POST     \"/api/chat\"\n"
     ]
    },
    {
     "name": "stderr",
     "output_type": "stream",
     "text": [
      "time=2025-05-13T14:53:16.577Z level=WARN source=ggml.go:152 msg=\"key not found\" key=general.alignment default=32\n"
     ]
    },
    {
     "name": "stdout",
     "output_type": "stream",
     "text": [
      "[GIN] 2025/05/13 - 14:53:32 | 200 | 41.747161293s |       127.0.0.1 | POST     \"/api/chat\"\n"
     ]
    },
    {
     "name": "stderr",
     "output_type": "stream",
     "text": [
      "time=2025-05-13T14:53:32.149Z level=WARN source=ggml.go:152 msg=\"key not found\" key=general.alignment default=32\n"
     ]
    },
    {
     "name": "stdout",
     "output_type": "stream",
     "text": [
      "[GIN] 2025/05/13 - 14:53:53 | 200 |         1m29s |       127.0.0.1 | POST     \"/api/chat\"\n"
     ]
    },
    {
     "name": "stderr",
     "output_type": "stream",
     "text": [
      "time=2025-05-13T14:53:53.345Z level=WARN source=ggml.go:152 msg=\"key not found\" key=general.alignment default=32\n"
     ]
    },
    {
     "name": "stdout",
     "output_type": "stream",
     "text": [
      "[GIN] 2025/05/13 - 14:53:57 | 200 | 40.755607286s |       127.0.0.1 | POST     \"/api/chat\"\n"
     ]
    },
    {
     "name": "stderr",
     "output_type": "stream",
     "text": [
      "time=2025-05-13T14:53:57.336Z level=WARN source=ggml.go:152 msg=\"key not found\" key=general.alignment default=32\n"
     ]
    },
    {
     "name": "stdout",
     "output_type": "stream",
     "text": [
      "[GIN] 2025/05/13 - 14:54:14 | 200 | 42.615179625s |       127.0.0.1 | POST     \"/api/chat\"\n"
     ]
    },
    {
     "name": "stderr",
     "output_type": "stream",
     "text": [
      "time=2025-05-13T14:54:14.775Z level=WARN source=ggml.go:152 msg=\"key not found\" key=general.alignment default=32\n"
     ]
    },
    {
     "name": "stdout",
     "output_type": "stream",
     "text": [
      "[GIN] 2025/05/13 - 14:54:35 | 200 | 42.633646865s |       127.0.0.1 | POST     \"/api/chat\"\n"
     ]
    },
    {
     "name": "stderr",
     "output_type": "stream",
     "text": [
      "time=2025-05-13T14:54:35.985Z level=WARN source=ggml.go:152 msg=\"key not found\" key=general.alignment default=32\n"
     ]
    },
    {
     "name": "stdout",
     "output_type": "stream",
     "text": [
      "[GIN] 2025/05/13 - 14:54:39 | 200 |         1m26s |       127.0.0.1 | POST     \"/api/chat\"\n"
     ]
    },
    {
     "name": "stderr",
     "output_type": "stream",
     "text": [
      "time=2025-05-13T14:54:39.449Z level=WARN source=ggml.go:152 msg=\"key not found\" key=general.alignment default=32\n"
     ]
    },
    {
     "name": "stdout",
     "output_type": "stream",
     "text": [
      "[GIN] 2025/05/13 - 14:54:40 | 200 | 43.522035942s |       127.0.0.1 | POST     \"/api/chat\"\n"
     ]
    },
    {
     "name": "stderr",
     "output_type": "stream",
     "text": [
      "time=2025-05-13T14:54:40.885Z level=WARN source=ggml.go:152 msg=\"key not found\" key=general.alignment default=32\n",
      "time=2025-05-13T14:54:40.888Z level=WARN source=ggml.go:152 msg=\"key not found\" key=general.alignment default=32\n",
      "time=2025-05-13T14:54:40.889Z level=WARN source=ggml.go:152 msg=\"key not found\" key=general.alignment default=32\n"
     ]
    },
    {
     "name": "stdout",
     "output_type": "stream",
     "text": [
      "[GIN] 2025/05/13 - 14:54:42 | 200 |  28.07639345s |       127.0.0.1 | POST     \"/api/chat\"\n"
     ]
    },
    {
     "name": "stderr",
     "output_type": "stream",
     "text": [
      "time=2025-05-13T14:54:42.867Z level=WARN source=ggml.go:152 msg=\"key not found\" key=general.alignment default=32\n"
     ]
    },
    {
     "name": "stdout",
     "output_type": "stream",
     "text": [
      "[GIN] 2025/05/13 - 14:54:47 | 200 | 11.924300001s |       127.0.0.1 | POST     \"/api/chat\"\n"
     ]
    },
    {
     "name": "stderr",
     "output_type": "stream",
     "text": [
      "time=2025-05-13T14:54:47.920Z level=WARN source=ggml.go:152 msg=\"key not found\" key=general.alignment default=32\n"
     ]
    },
    {
     "name": "stdout",
     "output_type": "stream",
     "text": [
      "[GIN] 2025/05/13 - 14:54:49 | 200 |  8.855380955s |       127.0.0.1 | POST     \"/api/chat\"\n",
      "[GIN] 2025/05/13 - 14:54:50 | 200 | 10.020728923s |       127.0.0.1 | POST     \"/api/chat\"\n",
      "[GIN] 2025/05/13 - 14:54:52 | 200 | 11.194412173s |       127.0.0.1 | POST     \"/api/chat\"\n"
     ]
    },
    {
     "name": "stderr",
     "output_type": "stream",
     "text": [
      "time=2025-05-13T14:54:52.084Z level=WARN source=ggml.go:152 msg=\"key not found\" key=general.alignment default=32\n"
     ]
    },
    {
     "name": "stdout",
     "output_type": "stream",
     "text": [
      "[GIN] 2025/05/13 - 14:54:59 | 200 | 16.820436126s |       127.0.0.1 | POST     \"/api/chat\"\n"
     ]
    },
    {
     "name": "stderr",
     "output_type": "stream",
     "text": [
      "time=2025-05-13T14:54:59.685Z level=WARN source=ggml.go:152 msg=\"key not found\" key=general.alignment default=32\n"
     ]
    },
    {
     "name": "stdout",
     "output_type": "stream",
     "text": [
      "[GIN] 2025/05/13 - 14:55:03 | 200 |  15.19213704s |       127.0.0.1 | POST     \"/api/chat\"\n"
     ]
    },
    {
     "name": "stderr",
     "output_type": "stream",
     "text": [
      "time=2025-05-13T14:55:03.114Z level=WARN source=ggml.go:152 msg=\"key not found\" key=general.alignment default=32\n"
     ]
    },
    {
     "name": "stdout",
     "output_type": "stream",
     "text": [
      "[GIN] 2025/05/13 - 14:55:05 | 200 | 13.766014955s |       127.0.0.1 | POST     \"/api/chat\"\n"
     ]
    },
    {
     "name": "stderr",
     "output_type": "stream",
     "text": [
      "time=2025-05-13T14:55:05.862Z level=WARN source=ggml.go:152 msg=\"key not found\" key=general.alignment default=32\n"
     ]
    },
    {
     "name": "stdout",
     "output_type": "stream",
     "text": [
      "[GIN] 2025/05/13 - 14:55:09 | 200 |   9.77542176s |       127.0.0.1 | POST     \"/api/chat\"\n"
     ]
    },
    {
     "name": "stderr",
     "output_type": "stream",
     "text": [
      "time=2025-05-13T14:55:09.463Z level=WARN source=ggml.go:152 msg=\"key not found\" key=general.alignment default=32\n"
     ]
    },
    {
     "name": "stdout",
     "output_type": "stream",
     "text": [
      "[GIN] 2025/05/13 - 14:55:13 | 200 | 33.767204076s |       127.0.0.1 | POST     \"/api/chat\"\n"
     ]
    },
    {
     "name": "stderr",
     "output_type": "stream",
     "text": [
      "time=2025-05-13T14:55:13.225Z level=WARN source=ggml.go:152 msg=\"key not found\" key=general.alignment default=32\n"
     ]
    },
    {
     "name": "stdout",
     "output_type": "stream",
     "text": [
      "[GIN] 2025/05/13 - 14:55:24 | 200 | 18.180293144s |       127.0.0.1 | POST     \"/api/chat\"\n"
     ]
    },
    {
     "name": "stderr",
     "output_type": "stream",
     "text": [
      "time=2025-05-13T14:55:24.039Z level=WARN source=ggml.go:152 msg=\"key not found\" key=general.alignment default=32\n"
     ]
    },
    {
     "name": "stdout",
     "output_type": "stream",
     "text": [
      "[GIN] 2025/05/13 - 14:55:30 | 200 | 26.928554357s |       127.0.0.1 | POST     \"/api/chat\"\n"
     ]
    },
    {
     "name": "stderr",
     "output_type": "stream",
     "text": [
      "time=2025-05-13T14:55:30.047Z level=WARN source=ggml.go:152 msg=\"key not found\" key=general.alignment default=32\n"
     ]
    },
    {
     "name": "stdout",
     "output_type": "stream",
     "text": [
      "[GIN] 2025/05/13 - 14:55:41 | 200 | 32.527202705s |       127.0.0.1 | POST     \"/api/chat\"\n"
     ]
    },
    {
     "name": "stderr",
     "output_type": "stream",
     "text": [
      "time=2025-05-13T14:55:42.000Z level=WARN source=ggml.go:152 msg=\"key not found\" key=general.alignment default=32\n"
     ]
    },
    {
     "name": "stdout",
     "output_type": "stream",
     "text": [
      "[GIN] 2025/05/13 - 14:55:46 | 200 | 22.091247903s |       127.0.0.1 | POST     \"/api/chat\"\n"
     ]
    },
    {
     "name": "stderr",
     "output_type": "stream",
     "text": [
      "time=2025-05-13T14:55:46.145Z level=WARN source=ggml.go:152 msg=\"key not found\" key=general.alignment default=32\n"
     ]
    },
    {
     "name": "stdout",
     "output_type": "stream",
     "text": [
      "[GIN] 2025/05/13 - 14:55:56 | 200 | 26.772198174s |       127.0.0.1 | POST     \"/api/chat\"\n"
     ]
    },
    {
     "name": "stderr",
     "output_type": "stream",
     "text": [
      "time=2025-05-13T14:55:56.827Z level=WARN source=ggml.go:152 msg=\"key not found\" key=general.alignment default=32\n"
     ]
    },
    {
     "name": "stdout",
     "output_type": "stream",
     "text": [
      "[GIN] 2025/05/13 - 14:56:01 | 200 | 19.893685479s |       127.0.0.1 | POST     \"/api/chat\"\n"
     ]
    },
    {
     "name": "stderr",
     "output_type": "stream",
     "text": [
      "time=2025-05-13T14:56:01.903Z level=WARN source=ggml.go:152 msg=\"key not found\" key=general.alignment default=32\n"
     ]
    },
    {
     "name": "stdout",
     "output_type": "stream",
     "text": [
      "[GIN] 2025/05/13 - 14:56:05 | 200 |  19.27733164s |       127.0.0.1 | POST     \"/api/chat\"\n"
     ]
    },
    {
     "name": "stderr",
     "output_type": "stream",
     "text": [
      "time=2025-05-13T14:56:05.427Z level=WARN source=ggml.go:152 msg=\"key not found\" key=general.alignment default=32\n"
     ]
    },
    {
     "name": "stdout",
     "output_type": "stream",
     "text": [
      "[GIN] 2025/05/13 - 14:56:25 | 200 | 28.815517675s |       127.0.0.1 | POST     \"/api/chat\"\n"
     ]
    },
    {
     "name": "stderr",
     "output_type": "stream",
     "text": [
      "time=2025-05-13T14:56:25.648Z level=WARN source=ggml.go:152 msg=\"key not found\" key=general.alignment default=32\n"
     ]
    },
    {
     "name": "stdout",
     "output_type": "stream",
     "text": [
      "[GIN] 2025/05/13 - 14:56:41 | 200 |         1m28s |       127.0.0.1 | POST     \"/api/chat\"\n"
     ]
    },
    {
     "name": "stderr",
     "output_type": "stream",
     "text": [
      "time=2025-05-13T14:56:41.859Z level=WARN source=ggml.go:152 msg=\"key not found\" key=general.alignment default=32\n"
     ]
    },
    {
     "name": "stdout",
     "output_type": "stream",
     "text": [
      "[GIN] 2025/05/13 - 14:56:46 | 200 |   40.6829491s |       127.0.0.1 | POST     \"/api/chat\"\n"
     ]
    },
    {
     "name": "stderr",
     "output_type": "stream",
     "text": [
      "time=2025-05-13T14:56:46.109Z level=WARN source=ggml.go:152 msg=\"key not found\" key=general.alignment default=32\n"
     ]
    },
    {
     "name": "stdout",
     "output_type": "stream",
     "text": [
      "[GIN] 2025/05/13 - 14:56:48 | 200 | 46.391159711s |       127.0.0.1 | POST     \"/api/chat\"\n"
     ]
    },
    {
     "name": "stderr",
     "output_type": "stream",
     "text": [
      "time=2025-05-13T14:56:48.307Z level=WARN source=ggml.go:152 msg=\"key not found\" key=general.alignment default=32\n"
     ]
    },
    {
     "name": "stdout",
     "output_type": "stream",
     "text": [
      "[GIN] 2025/05/13 - 14:56:58 | 200 | 33.224453132s |       127.0.0.1 | POST     \"/api/chat\"\n"
     ]
    },
    {
     "name": "stderr",
     "output_type": "stream",
     "text": [
      "time=2025-05-13T14:56:58.879Z level=WARN source=ggml.go:152 msg=\"key not found\" key=general.alignment default=32\n"
     ]
    },
    {
     "name": "stdout",
     "output_type": "stream",
     "text": [
      "[GIN] 2025/05/13 - 14:57:03 | 200 | 16.997369076s |       127.0.0.1 | POST     \"/api/chat\"\n"
     ]
    },
    {
     "name": "stderr",
     "output_type": "stream",
     "text": [
      "time=2025-05-13T14:57:03.118Z level=WARN source=ggml.go:152 msg=\"key not found\" key=general.alignment default=32\n"
     ]
    },
    {
     "name": "stdout",
     "output_type": "stream",
     "text": [
      "[GIN] 2025/05/13 - 14:57:11 | 200 | 29.888491156s |       127.0.0.1 | POST     \"/api/chat\"\n"
     ]
    },
    {
     "name": "stderr",
     "output_type": "stream",
     "text": [
      "time=2025-05-13T14:57:11.749Z level=WARN source=ggml.go:152 msg=\"key not found\" key=general.alignment default=32\n"
     ]
    },
    {
     "name": "stdout",
     "output_type": "stream",
     "text": [
      "[GIN] 2025/05/13 - 14:57:18 | 200 | 30.292181714s |       127.0.0.1 | POST     \"/api/chat\"\n"
     ]
    },
    {
     "name": "stderr",
     "output_type": "stream",
     "text": [
      "time=2025-05-13T14:57:18.604Z level=WARN source=ggml.go:152 msg=\"key not found\" key=general.alignment default=32\n"
     ]
    },
    {
     "name": "stdout",
     "output_type": "stream",
     "text": [
      "[GIN] 2025/05/13 - 14:57:22 | 200 | 19.613290578s |       127.0.0.1 | POST     \"/api/chat\"\n"
     ]
    },
    {
     "name": "stderr",
     "output_type": "stream",
     "text": [
      "time=2025-05-13T14:57:22.740Z level=WARN source=ggml.go:152 msg=\"key not found\" key=general.alignment default=32\n"
     ]
    },
    {
     "name": "stdout",
     "output_type": "stream",
     "text": [
      "[GIN] 2025/05/13 - 14:57:32 | 200 | 33.741429852s |       127.0.0.1 | POST     \"/api/chat\"\n"
     ]
    },
    {
     "name": "stderr",
     "output_type": "stream",
     "text": [
      "time=2025-05-13T14:57:32.628Z level=WARN source=ggml.go:152 msg=\"key not found\" key=general.alignment default=32\n"
     ]
    },
    {
     "name": "stdout",
     "output_type": "stream",
     "text": [
      "[GIN] 2025/05/13 - 14:57:35 | 200 | 17.019916233s |       127.0.0.1 | POST     \"/api/chat\"\n"
     ]
    },
    {
     "name": "stderr",
     "output_type": "stream",
     "text": [
      "time=2025-05-13T14:57:35.647Z level=WARN source=ggml.go:152 msg=\"key not found\" key=general.alignment default=32\n"
     ]
    },
    {
     "name": "stdout",
     "output_type": "stream",
     "text": [
      "[GIN] 2025/05/13 - 14:57:43 | 200 | 21.170930923s |       127.0.0.1 | POST     \"/api/chat\"\n"
     ]
    },
    {
     "name": "stderr",
     "output_type": "stream",
     "text": [
      "time=2025-05-13T14:57:43.912Z level=WARN source=ggml.go:152 msg=\"key not found\" key=general.alignment default=32\n"
     ]
    },
    {
     "name": "stdout",
     "output_type": "stream",
     "text": [
      "[GIN] 2025/05/13 - 14:57:54 | 200 | 22.012614637s |       127.0.0.1 | POST     \"/api/chat\"\n"
     ]
    },
    {
     "name": "stderr",
     "output_type": "stream",
     "text": [
      "time=2025-05-13T14:57:54.648Z level=WARN source=ggml.go:152 msg=\"key not found\" key=general.alignment default=32\n"
     ]
    },
    {
     "name": "stdout",
     "output_type": "stream",
     "text": [
      "[GIN] 2025/05/13 - 14:57:59 | 200 | 24.358236374s |       127.0.0.1 | POST     \"/api/chat\"\n"
     ]
    },
    {
     "name": "stderr",
     "output_type": "stream",
     "text": [
      "time=2025-05-13T14:58:00.023Z level=WARN source=ggml.go:152 msg=\"key not found\" key=general.alignment default=32\n",
      "time=2025-05-13T14:58:00.026Z level=WARN source=ggml.go:152 msg=\"key not found\" key=general.alignment default=32\n",
      "time=2025-05-13T14:58:00.027Z level=WARN source=ggml.go:152 msg=\"key not found\" key=general.alignment default=32\n"
     ]
    },
    {
     "name": "stdout",
     "output_type": "stream",
     "text": [
      "[GIN] 2025/05/13 - 14:58:03 | 200 | 19.937378861s |       127.0.0.1 | POST     \"/api/chat\"\n"
     ]
    },
    {
     "name": "stderr",
     "output_type": "stream",
     "text": [
      "time=2025-05-13T14:58:03.868Z level=WARN source=ggml.go:152 msg=\"key not found\" key=general.alignment default=32\n"
     ]
    },
    {
     "name": "stdout",
     "output_type": "stream",
     "text": [
      "[GIN] 2025/05/13 - 14:58:26 | 200 | 31.805195751s |       127.0.0.1 | POST     \"/api/chat\"\n"
     ]
    },
    {
     "name": "stderr",
     "output_type": "stream",
     "text": [
      "time=2025-05-13T14:58:26.459Z level=WARN source=ggml.go:152 msg=\"key not found\" key=general.alignment default=32\n"
     ]
    },
    {
     "name": "stdout",
     "output_type": "stream",
     "text": [
      "[GIN] 2025/05/13 - 14:58:28 | 200 | 28.488774128s |       127.0.0.1 | POST     \"/api/chat\"\n",
      "[GIN] 2025/05/13 - 14:58:29 | 200 | 29.823871415s |       127.0.0.1 | POST     \"/api/chat\"\n",
      "[GIN] 2025/05/13 - 14:58:31 | 200 | 31.157109179s |       127.0.0.1 | POST     \"/api/chat\"\n"
     ]
    },
    {
     "name": "stderr",
     "output_type": "stream",
     "text": [
      "time=2025-05-13T14:58:31.180Z level=WARN source=ggml.go:152 msg=\"key not found\" key=general.alignment default=32\n"
     ]
    },
    {
     "name": "stdout",
     "output_type": "stream",
     "text": [
      "[GIN] 2025/05/13 - 14:58:47 | 200 |         1m36s |       127.0.0.1 | POST     \"/api/chat\"\n"
     ]
    },
    {
     "name": "stderr",
     "output_type": "stream",
     "text": [
      "time=2025-05-13T14:58:47.887Z level=WARN source=ggml.go:152 msg=\"key not found\" key=general.alignment default=32\n"
     ]
    },
    {
     "name": "stdout",
     "output_type": "stream",
     "text": [
      "[GIN] 2025/05/13 - 14:58:58 | 200 | 32.357439844s |       127.0.0.1 | POST     \"/api/chat\"\n"
     ]
    },
    {
     "name": "stderr",
     "output_type": "stream",
     "text": [
      "time=2025-05-13T14:58:58.822Z level=WARN source=ggml.go:152 msg=\"key not found\" key=general.alignment default=32\n"
     ]
    },
    {
     "name": "stdout",
     "output_type": "stream",
     "text": [
      "[GIN] 2025/05/13 - 14:59:05 | 200 |          1m1s |       127.0.0.1 | POST     \"/api/chat\"\n"
     ]
    },
    {
     "name": "stderr",
     "output_type": "stream",
     "text": [
      "time=2025-05-13T14:59:05.222Z level=WARN source=ggml.go:152 msg=\"key not found\" key=general.alignment default=32\n"
     ]
    },
    {
     "name": "stdout",
     "output_type": "stream",
     "text": [
      "[GIN] 2025/05/13 - 14:59:13 | 200 | 42.388957183s |       127.0.0.1 | POST     \"/api/chat\"\n"
     ]
    },
    {
     "name": "stderr",
     "output_type": "stream",
     "text": [
      "time=2025-05-13T14:59:13.576Z level=WARN source=ggml.go:152 msg=\"key not found\" key=general.alignment default=32\n"
     ]
    },
    {
     "name": "stdout",
     "output_type": "stream",
     "text": [
      "[GIN] 2025/05/13 - 14:59:28 | 200 | 40.866085566s |       127.0.0.1 | POST     \"/api/chat\"\n"
     ]
    },
    {
     "name": "stderr",
     "output_type": "stream",
     "text": [
      "time=2025-05-13T14:59:28.765Z level=WARN source=ggml.go:152 msg=\"key not found\" key=general.alignment default=32\n"
     ]
    },
    {
     "name": "stdout",
     "output_type": "stream",
     "text": [
      "[GIN] 2025/05/13 - 14:59:36 | 200 | 38.014342608s |       127.0.0.1 | POST     \"/api/chat\"\n"
     ]
    },
    {
     "name": "stderr",
     "output_type": "stream",
     "text": [
      "time=2025-05-13T14:59:36.841Z level=WARN source=ggml.go:152 msg=\"key not found\" key=general.alignment default=32\n"
     ]
    },
    {
     "name": "stdout",
     "output_type": "stream",
     "text": [
      "[GIN] 2025/05/13 - 14:59:40 | 200 | 27.373182093s |       127.0.0.1 | POST     \"/api/chat\"\n"
     ]
    },
    {
     "name": "stderr",
     "output_type": "stream",
     "text": [
      "time=2025-05-13T14:59:40.961Z level=WARN source=ggml.go:152 msg=\"key not found\" key=general.alignment default=32\n"
     ]
    },
    {
     "name": "stdout",
     "output_type": "stream",
     "text": [
      "[GIN] 2025/05/13 - 14:59:46 | 200 | 41.454952259s |       127.0.0.1 | POST     \"/api/chat\"\n"
     ]
    },
    {
     "name": "stderr",
     "output_type": "stream",
     "text": [
      "time=2025-05-13T14:59:46.670Z level=WARN source=ggml.go:152 msg=\"key not found\" key=general.alignment default=32\n"
     ]
    },
    {
     "name": "stdout",
     "output_type": "stream",
     "text": [
      "[GIN] 2025/05/13 - 14:59:56 | 200 | 20.003921142s |       127.0.0.1 | POST     \"/api/chat\"\n"
     ]
    },
    {
     "name": "stderr",
     "output_type": "stream",
     "text": [
      "time=2025-05-13T14:59:56.852Z level=WARN source=ggml.go:152 msg=\"key not found\" key=general.alignment default=32\n"
     ]
    },
    {
     "name": "stdout",
     "output_type": "stream",
     "text": [
      "[GIN] 2025/05/13 - 15:00:08 | 200 | 27.722624841s |       127.0.0.1 | POST     \"/api/chat\"\n"
     ]
    },
    {
     "name": "stderr",
     "output_type": "stream",
     "text": [
      "time=2025-05-13T15:00:08.685Z level=WARN source=ggml.go:152 msg=\"key not found\" key=general.alignment default=32\n"
     ]
    },
    {
     "name": "stdout",
     "output_type": "stream",
     "text": [
      "[GIN] 2025/05/13 - 15:00:38 | 200 | 51.640780309s |       127.0.0.1 | POST     \"/api/chat\"\n"
     ]
    },
    {
     "name": "stderr",
     "output_type": "stream",
     "text": [
      "time=2025-05-13T15:00:38.319Z level=WARN source=ggml.go:152 msg=\"key not found\" key=general.alignment default=32\n"
     ]
    },
    {
     "name": "stdout",
     "output_type": "stream",
     "text": [
      "[GIN] 2025/05/13 - 15:00:51 | 200 | 54.798058294s |       127.0.0.1 | POST     \"/api/chat\"\n"
     ]
    },
    {
     "name": "stderr",
     "output_type": "stream",
     "text": [
      "time=2025-05-13T15:00:51.662Z level=WARN source=ggml.go:152 msg=\"key not found\" key=general.alignment default=32\n"
     ]
    },
    {
     "name": "stdout",
     "output_type": "stream",
     "text": [
      "[GIN] 2025/05/13 - 15:00:59 | 200 | 50.394653423s |       127.0.0.1 | POST     \"/api/chat\"\n"
     ]
    },
    {
     "name": "stderr",
     "output_type": "stream",
     "text": [
      "time=2025-05-13T15:00:59.094Z level=WARN source=ggml.go:152 msg=\"key not found\" key=general.alignment default=32\n"
     ]
    },
    {
     "name": "stdout",
     "output_type": "stream",
     "text": [
      "[GIN] 2025/05/13 - 15:01:01 | 200 |         1m32s |       127.0.0.1 | POST     \"/api/chat\"\n"
     ]
    },
    {
     "name": "stderr",
     "output_type": "stream",
     "text": [
      "time=2025-05-13T15:01:01.430Z level=WARN source=ggml.go:152 msg=\"key not found\" key=general.alignment default=32\n"
     ]
    },
    {
     "name": "stdout",
     "output_type": "stream",
     "text": [
      "[GIN] 2025/05/13 - 15:01:05 | 200 | 13.996964065s |       127.0.0.1 | POST     \"/api/chat\"\n"
     ]
    },
    {
     "name": "stderr",
     "output_type": "stream",
     "text": [
      "time=2025-05-13T15:01:05.663Z level=WARN source=ggml.go:152 msg=\"key not found\" key=general.alignment default=32\n"
     ]
    },
    {
     "name": "stdout",
     "output_type": "stream",
     "text": [
      "[GIN] 2025/05/13 - 15:01:15 | 200 | 36.935545534s |       127.0.0.1 | POST     \"/api/chat\"\n"
     ]
    },
    {
     "name": "stderr",
     "output_type": "stream",
     "text": [
      "time=2025-05-13T15:01:15.261Z level=WARN source=ggml.go:152 msg=\"key not found\" key=general.alignment default=32\n"
     ]
    },
    {
     "name": "stdout",
     "output_type": "stream",
     "text": [
      "[GIN] 2025/05/13 - 15:01:32 | 200 | 33.371178898s |       127.0.0.1 | POST     \"/api/chat\"\n"
     ]
    },
    {
     "name": "stderr",
     "output_type": "stream",
     "text": [
      "time=2025-05-13T15:01:32.466Z level=WARN source=ggml.go:152 msg=\"key not found\" key=general.alignment default=32\n"
     ]
    },
    {
     "name": "stdout",
     "output_type": "stream",
     "text": [
      "[GIN] 2025/05/13 - 15:01:36 | 200 | 30.835557313s |       127.0.0.1 | POST     \"/api/chat\"\n"
     ]
    },
    {
     "name": "stderr",
     "output_type": "stream",
     "text": [
      "time=2025-05-13T15:01:36.511Z level=WARN source=ggml.go:152 msg=\"key not found\" key=general.alignment default=32\n"
     ]
    },
    {
     "name": "stdout",
     "output_type": "stream",
     "text": [
      "[GIN] 2025/05/13 - 15:01:40 | 200 | 38.702616564s |       127.0.0.1 | POST     \"/api/chat\"\n"
     ]
    },
    {
     "name": "stderr",
     "output_type": "stream",
     "text": [
      "time=2025-05-13T15:01:40.140Z level=WARN source=ggml.go:152 msg=\"key not found\" key=general.alignment default=32\n"
     ]
    },
    {
     "name": "stdout",
     "output_type": "stream",
     "text": [
      "[GIN] 2025/05/13 - 15:01:53 | 200 | 20.976239671s |       127.0.0.1 | POST     \"/api/chat\"\n"
     ]
    },
    {
     "name": "stderr",
     "output_type": "stream",
     "text": [
      "time=2025-05-13T15:01:53.463Z level=WARN source=ggml.go:152 msg=\"key not found\" key=general.alignment default=32\n"
     ]
    },
    {
     "name": "stdout",
     "output_type": "stream",
     "text": [
      "[GIN] 2025/05/13 - 15:01:57 | 200 | 21.066664051s |       127.0.0.1 | POST     \"/api/chat\"\n"
     ]
    },
    {
     "name": "stderr",
     "output_type": "stream",
     "text": [
      "time=2025-05-13T15:01:57.579Z level=WARN source=ggml.go:152 msg=\"key not found\" key=general.alignment default=32\n"
     ]
    },
    {
     "name": "stdout",
     "output_type": "stream",
     "text": [
      "[GIN] 2025/05/13 - 15:02:13 | 200 | 58.707479413s |       127.0.0.1 | POST     \"/api/chat\"\n"
     ]
    },
    {
     "name": "stderr",
     "output_type": "stream",
     "text": [
      "time=2025-05-13T15:02:13.981Z level=WARN source=ggml.go:152 msg=\"key not found\" key=general.alignment default=32\n"
     ]
    },
    {
     "name": "stdout",
     "output_type": "stream",
     "text": [
      "[GIN] 2025/05/13 - 15:02:16 | 200 | 23.414026417s |       127.0.0.1 | POST     \"/api/chat\"\n"
     ]
    },
    {
     "name": "stderr",
     "output_type": "stream",
     "text": [
      "time=2025-05-13T15:02:16.868Z level=WARN source=ggml.go:152 msg=\"key not found\" key=general.alignment default=32\n"
     ]
    },
    {
     "name": "stdout",
     "output_type": "stream",
     "text": [
      "[GIN] 2025/05/13 - 15:02:20 | 200 | 23.235383719s |       127.0.0.1 | POST     \"/api/chat\"\n"
     ]
    },
    {
     "name": "stderr",
     "output_type": "stream",
     "text": [
      "time=2025-05-13T15:02:20.818Z level=WARN source=ggml.go:152 msg=\"key not found\" key=general.alignment default=32\n"
     ]
    },
    {
     "name": "stdout",
     "output_type": "stream",
     "text": [
      "[GIN] 2025/05/13 - 15:02:23 | 200 | 43.299031527s |       127.0.0.1 | POST     \"/api/chat\"\n"
     ]
    },
    {
     "name": "stderr",
     "output_type": "stream",
     "text": [
      "time=2025-05-13T15:02:23.452Z level=WARN source=ggml.go:152 msg=\"key not found\" key=general.alignment default=32\n"
     ]
    },
    {
     "name": "stdout",
     "output_type": "stream",
     "text": [
      "[GIN] 2025/05/13 - 15:02:35 | 200 | 21.104091065s |       127.0.0.1 | POST     \"/api/chat\"\n"
     ]
    },
    {
     "name": "stderr",
     "output_type": "stream",
     "text": [
      "time=2025-05-13T15:02:35.087Z level=WARN source=ggml.go:152 msg=\"key not found\" key=general.alignment default=32\n"
     ]
    },
    {
     "name": "stdout",
     "output_type": "stream",
     "text": [
      "[GIN] 2025/05/13 - 15:02:38 | 200 | 17.799931903s |       127.0.0.1 | POST     \"/api/chat\"\n"
     ]
    },
    {
     "name": "stderr",
     "output_type": "stream",
     "text": [
      "time=2025-05-13T15:02:38.650Z level=WARN source=ggml.go:152 msg=\"key not found\" key=general.alignment default=32\n",
      "time=2025-05-13T15:02:38.652Z level=WARN source=ggml.go:152 msg=\"key not found\" key=general.alignment default=32\n",
      "time=2025-05-13T15:02:38.652Z level=WARN source=ggml.go:152 msg=\"key not found\" key=general.alignment default=32\n"
     ]
    },
    {
     "name": "stdout",
     "output_type": "stream",
     "text": [
      "[GIN] 2025/05/13 - 15:02:40 | 200 | 23.373768265s |       127.0.0.1 | POST     \"/api/chat\"\n"
     ]
    },
    {
     "name": "stderr",
     "output_type": "stream",
     "text": [
      "time=2025-05-13T15:02:40.262Z level=WARN source=ggml.go:152 msg=\"key not found\" key=general.alignment default=32\n"
     ]
    },
    {
     "name": "stdout",
     "output_type": "stream",
     "text": [
      "[GIN] 2025/05/13 - 15:02:46 | 200 |  23.14213957s |       127.0.0.1 | POST     \"/api/chat\"\n"
     ]
    },
    {
     "name": "stderr",
     "output_type": "stream",
     "text": [
      "time=2025-05-13T15:02:46.597Z level=WARN source=ggml.go:152 msg=\"key not found\" key=general.alignment default=32\n"
     ]
    },
    {
     "name": "stdout",
     "output_type": "stream",
     "text": [
      "[GIN] 2025/05/13 - 15:02:48 | 200 |   9.81649449s |       127.0.0.1 | POST     \"/api/chat\"\n",
      "[GIN] 2025/05/13 - 15:02:49 | 200 | 11.087932906s |       127.0.0.1 | POST     \"/api/chat\"\n",
      "[GIN] 2025/05/13 - 15:02:50 | 200 | 12.361670903s |       127.0.0.1 | POST     \"/api/chat\"\n"
     ]
    },
    {
     "name": "stderr",
     "output_type": "stream",
     "text": [
      "time=2025-05-13T15:02:51.007Z level=WARN source=ggml.go:152 msg=\"key not found\" key=general.alignment default=32\n"
     ]
    },
    {
     "name": "stdout",
     "output_type": "stream",
     "text": [
      "[GIN] 2025/05/13 - 15:02:53 | 200 | 12.984673368s |       127.0.0.1 | POST     \"/api/chat\"\n"
     ]
    },
    {
     "name": "stderr",
     "output_type": "stream",
     "text": [
      "time=2025-05-13T15:02:53.243Z level=WARN source=ggml.go:152 msg=\"key not found\" key=general.alignment default=32\n"
     ]
    },
    {
     "name": "stdout",
     "output_type": "stream",
     "text": [
      "[GIN] 2025/05/13 - 15:02:54 | 200 |  8.180501852s |       127.0.0.1 | POST     \"/api/chat\"\n"
     ]
    },
    {
     "name": "stderr",
     "output_type": "stream",
     "text": [
      "time=2025-05-13T15:02:54.782Z level=WARN source=ggml.go:152 msg=\"key not found\" key=general.alignment default=32\n"
     ]
    },
    {
     "name": "stdout",
     "output_type": "stream",
     "text": [
      "[GIN] 2025/05/13 - 15:02:56 | 200 |    5.7160533s |       127.0.0.1 | POST     \"/api/chat\"\n"
     ]
    },
    {
     "name": "stderr",
     "output_type": "stream",
     "text": [
      "time=2025-05-13T15:02:56.743Z level=WARN source=ggml.go:152 msg=\"key not found\" key=general.alignment default=32\n"
     ]
    },
    {
     "name": "stdout",
     "output_type": "stream",
     "text": [
      "[GIN] 2025/05/13 - 15:03:05 | 200 | 12.216880269s |       127.0.0.1 | POST     \"/api/chat\"\n"
     ]
    },
    {
     "name": "stderr",
     "output_type": "stream",
     "text": [
      "time=2025-05-13T15:03:05.479Z level=WARN source=ggml.go:152 msg=\"key not found\" key=general.alignment default=32\n"
     ]
    },
    {
     "name": "stdout",
     "output_type": "stream",
     "text": [
      "[GIN] 2025/05/13 - 15:03:12 | 200 | 37.106700358s |       127.0.0.1 | POST     \"/api/chat\"\n"
     ]
    },
    {
     "name": "stderr",
     "output_type": "stream",
     "text": [
      "time=2025-05-13T15:03:12.202Z level=WARN source=ggml.go:152 msg=\"key not found\" key=general.alignment default=32\n"
     ]
    },
    {
     "name": "stdout",
     "output_type": "stream",
     "text": [
      "[GIN] 2025/05/13 - 15:03:17 | 200 | 20.394371485s |       127.0.0.1 | POST     \"/api/chat\"\n"
     ]
    },
    {
     "name": "stderr",
     "output_type": "stream",
     "text": [
      "time=2025-05-13T15:03:17.135Z level=WARN source=ggml.go:152 msg=\"key not found\" key=general.alignment default=32\n"
     ]
    },
    {
     "name": "stdout",
     "output_type": "stream",
     "text": [
      "[GIN] 2025/05/13 - 15:03:21 | 200 | 16.527828047s |       127.0.0.1 | POST     \"/api/chat\"\n"
     ]
    },
    {
     "name": "stderr",
     "output_type": "stream",
     "text": [
      "time=2025-05-13T15:03:22.005Z level=WARN source=ggml.go:152 msg=\"key not found\" key=general.alignment default=32\n"
     ]
    },
    {
     "name": "stdout",
     "output_type": "stream",
     "text": [
      "[GIN] 2025/05/13 - 15:03:26 | 200 |  31.37346501s |       127.0.0.1 | POST     \"/api/chat\"\n"
     ]
    },
    {
     "name": "stderr",
     "output_type": "stream",
     "text": [
      "time=2025-05-13T15:03:26.162Z level=WARN source=ggml.go:152 msg=\"key not found\" key=general.alignment default=32\n"
     ]
    },
    {
     "name": "stdout",
     "output_type": "stream",
     "text": [
      "[GIN] 2025/05/13 - 15:03:35 | 200 | 18.183319699s |       127.0.0.1 | POST     \"/api/chat\"\n"
     ]
    },
    {
     "name": "stderr",
     "output_type": "stream",
     "text": [
      "time=2025-05-13T15:03:35.320Z level=WARN source=ggml.go:152 msg=\"key not found\" key=general.alignment default=32\n"
     ]
    },
    {
     "name": "stdout",
     "output_type": "stream",
     "text": [
      "[GIN] 2025/05/13 - 15:03:38 | 200 | 26.288458151s |       127.0.0.1 | POST     \"/api/chat\"\n"
     ]
    },
    {
     "name": "stderr",
     "output_type": "stream",
     "text": [
      "time=2025-05-13T15:03:38.502Z level=WARN source=ggml.go:152 msg=\"key not found\" key=general.alignment default=32\n"
     ]
    },
    {
     "name": "stdout",
     "output_type": "stream",
     "text": [
      "[GIN] 2025/05/13 - 15:03:38 | 200 | 16.711890374s |       127.0.0.1 | POST     \"/api/chat\"\n"
     ]
    },
    {
     "name": "stderr",
     "output_type": "stream",
     "text": [
      "time=2025-05-13T15:03:38.721Z level=WARN source=ggml.go:152 msg=\"key not found\" key=general.alignment default=32\n"
     ]
    },
    {
     "name": "stdout",
     "output_type": "stream",
     "text": [
      "[GIN] 2025/05/13 - 15:03:45 | 200 | 19.266942517s |       127.0.0.1 | POST     \"/api/chat\"\n"
     ]
    },
    {
     "name": "stderr",
     "output_type": "stream",
     "text": [
      "time=2025-05-13T15:03:45.438Z level=WARN source=ggml.go:152 msg=\"key not found\" key=general.alignment default=32\n"
     ]
    },
    {
     "name": "stdout",
     "output_type": "stream",
     "text": [
      "[GIN] 2025/05/13 - 15:04:01 | 200 | 26.580289015s |       127.0.0.1 | POST     \"/api/chat\"\n"
     ]
    },
    {
     "name": "stderr",
     "output_type": "stream",
     "text": [
      "time=2025-05-13T15:04:01.913Z level=WARN source=ggml.go:152 msg=\"key not found\" key=general.alignment default=32\n"
     ]
    },
    {
     "name": "stdout",
     "output_type": "stream",
     "text": [
      "[GIN] 2025/05/13 - 15:04:06 | 200 | 27.726941789s |       127.0.0.1 | POST     \"/api/chat\"\n"
     ]
    },
    {
     "name": "stderr",
     "output_type": "stream",
     "text": [
      "time=2025-05-13T15:04:06.453Z level=WARN source=ggml.go:152 msg=\"key not found\" key=general.alignment default=32\n"
     ]
    },
    {
     "name": "stdout",
     "output_type": "stream",
     "text": [
      "[GIN] 2025/05/13 - 15:04:18 | 200 | 40.280733468s |       127.0.0.1 | POST     \"/api/chat\"\n"
     ]
    },
    {
     "name": "stderr",
     "output_type": "stream",
     "text": [
      "time=2025-05-13T15:04:18.784Z level=WARN source=ggml.go:152 msg=\"key not found\" key=general.alignment default=32\n"
     ]
    },
    {
     "name": "stdout",
     "output_type": "stream",
     "text": [
      "[GIN] 2025/05/13 - 15:04:26 | 200 | 40.838492001s |       127.0.0.1 | POST     \"/api/chat\"\n"
     ]
    },
    {
     "name": "stderr",
     "output_type": "stream",
     "text": [
      "time=2025-05-13T15:04:26.292Z level=WARN source=ggml.go:152 msg=\"key not found\" key=general.alignment default=32\n"
     ]
    },
    {
     "name": "stdout",
     "output_type": "stream",
     "text": [
      "[GIN] 2025/05/13 - 15:04:30 | 200 | 24.003334402s |       127.0.0.1 | POST     \"/api/chat\"\n"
     ]
    },
    {
     "name": "stderr",
     "output_type": "stream",
     "text": [
      "time=2025-05-13T15:04:30.479Z level=WARN source=ggml.go:152 msg=\"key not found\" key=general.alignment default=32\n"
     ]
    },
    {
     "name": "stdout",
     "output_type": "stream",
     "text": [
      "[GIN] 2025/05/13 - 15:04:44 | 200 | 42.907121356s |       127.0.0.1 | POST     \"/api/chat\"\n"
     ]
    },
    {
     "name": "stderr",
     "output_type": "stream",
     "text": [
      "time=2025-05-13T15:04:44.838Z level=WARN source=ggml.go:152 msg=\"key not found\" key=general.alignment default=32\n"
     ]
    },
    {
     "name": "stdout",
     "output_type": "stream",
     "text": [
      "[GIN] 2025/05/13 - 15:04:47 | 200 | 28.338641424s |       127.0.0.1 | POST     \"/api/chat\"\n"
     ]
    },
    {
     "name": "stderr",
     "output_type": "stream",
     "text": [
      "time=2025-05-13T15:04:47.126Z level=WARN source=ggml.go:152 msg=\"key not found\" key=general.alignment default=32\n"
     ]
    },
    {
     "name": "stdout",
     "output_type": "stream",
     "text": [
      "[GIN] 2025/05/13 - 15:04:51 | 200 | 21.159395304s |       127.0.0.1 | POST     \"/api/chat\"\n"
     ]
    },
    {
     "name": "stderr",
     "output_type": "stream",
     "text": [
      "time=2025-05-13T15:04:51.631Z level=WARN source=ggml.go:152 msg=\"key not found\" key=general.alignment default=32\n"
     ]
    },
    {
     "name": "stdout",
     "output_type": "stream",
     "text": [
      "[GIN] 2025/05/13 - 15:04:54 | 200 | 10.102723811s |       127.0.0.1 | POST     \"/api/chat\"\n"
     ]
    },
    {
     "name": "stderr",
     "output_type": "stream",
     "text": [
      "time=2025-05-13T15:04:54.959Z level=WARN source=ggml.go:152 msg=\"key not found\" key=general.alignment default=32\n",
      "time=2025-05-13T15:04:54.962Z level=WARN source=ggml.go:152 msg=\"key not found\" key=general.alignment default=32\n",
      "time=2025-05-13T15:04:54.964Z level=WARN source=ggml.go:152 msg=\"key not found\" key=general.alignment default=32\n"
     ]
    },
    {
     "name": "stdout",
     "output_type": "stream",
     "text": [
      "[GIN] 2025/05/13 - 15:04:56 | 200 | 30.378304246s |       127.0.0.1 | POST     \"/api/chat\"\n"
     ]
    },
    {
     "name": "stderr",
     "output_type": "stream",
     "text": [
      "time=2025-05-13T15:04:56.666Z level=WARN source=ggml.go:152 msg=\"key not found\" key=general.alignment default=32\n"
     ]
    },
    {
     "name": "stdout",
     "output_type": "stream",
     "text": [
      "[GIN] 2025/05/13 - 15:05:05 | 200 | 13.857818731s |       127.0.0.1 | POST     \"/api/chat\"\n"
     ]
    },
    {
     "name": "stderr",
     "output_type": "stream",
     "text": [
      "time=2025-05-13T15:05:05.505Z level=WARN source=ggml.go:152 msg=\"key not found\" key=general.alignment default=32\n"
     ]
    },
    {
     "name": "stdout",
     "output_type": "stream",
     "text": [
      "[GIN] 2025/05/13 - 15:05:07 | 200 | 12.923781738s |       127.0.0.1 | POST     \"/api/chat\"\n",
      "[GIN] 2025/05/13 - 15:05:09 | 200 | 14.279464973s |       127.0.0.1 | POST     \"/api/chat\"\n",
      "[GIN] 2025/05/13 - 15:05:09 | 200 | 22.729156661s |       127.0.0.1 | POST     \"/api/chat\"\n"
     ]
    },
    {
     "name": "stderr",
     "output_type": "stream",
     "text": [
      "time=2025-05-13T15:05:09.869Z level=WARN source=ggml.go:152 msg=\"key not found\" key=general.alignment default=32\n"
     ]
    },
    {
     "name": "stdout",
     "output_type": "stream",
     "text": [
      "[GIN] 2025/05/13 - 15:05:11 | 200 | 16.139362611s |       127.0.0.1 | POST     \"/api/chat\"\n"
     ]
    },
    {
     "name": "stderr",
     "output_type": "stream",
     "text": [
      "time=2025-05-13T15:05:11.096Z level=WARN source=ggml.go:152 msg=\"key not found\" key=general.alignment default=32\n"
     ]
    },
    {
     "name": "stdout",
     "output_type": "stream",
     "text": [
      "[GIN] 2025/05/13 - 15:05:20 | 200 | 14.927471032s |       127.0.0.1 | POST     \"/api/chat\"\n"
     ]
    },
    {
     "name": "stderr",
     "output_type": "stream",
     "text": [
      "time=2025-05-13T15:05:20.430Z level=WARN source=ggml.go:152 msg=\"key not found\" key=general.alignment default=32\n"
     ]
    },
    {
     "name": "stdout",
     "output_type": "stream",
     "text": [
      "[GIN] 2025/05/13 - 15:05:25 | 200 |   29.2220496s |       127.0.0.1 | POST     \"/api/chat\"\n"
     ]
    },
    {
     "name": "stderr",
     "output_type": "stream",
     "text": [
      "time=2025-05-13T15:05:25.892Z level=WARN source=ggml.go:152 msg=\"key not found\" key=general.alignment default=32\n"
     ]
    },
    {
     "name": "stdout",
     "output_type": "stream",
     "text": [
      "[GIN] 2025/05/13 - 15:05:29 | 200 |   19.8019238s |       127.0.0.1 | POST     \"/api/chat\"\n"
     ]
    },
    {
     "name": "stderr",
     "output_type": "stream",
     "text": [
      "time=2025-05-13T15:05:29.679Z level=WARN source=ggml.go:152 msg=\"key not found\" key=general.alignment default=32\n"
     ]
    },
    {
     "name": "stdout",
     "output_type": "stream",
     "text": [
      "[GIN] 2025/05/13 - 15:05:34 | 200 | 23.771539058s |       127.0.0.1 | POST     \"/api/chat\"\n"
     ]
    },
    {
     "name": "stderr",
     "output_type": "stream",
     "text": [
      "time=2025-05-13T15:05:34.874Z level=WARN source=ggml.go:152 msg=\"key not found\" key=general.alignment default=32\n"
     ]
    },
    {
     "name": "stdout",
     "output_type": "stream",
     "text": [
      "[GIN] 2025/05/13 - 15:05:43 | 200 | 18.056634118s |       127.0.0.1 | POST     \"/api/chat\"\n"
     ]
    },
    {
     "name": "stderr",
     "output_type": "stream",
     "text": [
      "time=2025-05-13T15:05:43.958Z level=WARN source=ggml.go:152 msg=\"key not found\" key=general.alignment default=32\n"
     ]
    },
    {
     "name": "stdout",
     "output_type": "stream",
     "text": [
      "[GIN] 2025/05/13 - 15:06:05 | 200 | 44.956968554s |       127.0.0.1 | POST     \"/api/chat\"\n"
     ]
    },
    {
     "name": "stderr",
     "output_type": "stream",
     "text": [
      "time=2025-05-13T15:06:05.407Z level=WARN source=ggml.go:152 msg=\"key not found\" key=general.alignment default=32\n"
     ]
    },
    {
     "name": "stdout",
     "output_type": "stream",
     "text": [
      "[GIN] 2025/05/13 - 15:06:13 | 200 | 43.420498207s |       127.0.0.1 | POST     \"/api/chat\"\n"
     ]
    },
    {
     "name": "stderr",
     "output_type": "stream",
     "text": [
      "time=2025-05-13T15:06:13.110Z level=WARN source=ggml.go:152 msg=\"key not found\" key=general.alignment default=32\n"
     ]
    },
    {
     "name": "stdout",
     "output_type": "stream",
     "text": [
      "[GIN] 2025/05/13 - 15:06:30 | 200 | 46.263011363s |       127.0.0.1 | POST     \"/api/chat\"\n"
     ]
    },
    {
     "name": "stderr",
     "output_type": "stream",
     "text": [
      "time=2025-05-13T15:06:30.224Z level=WARN source=ggml.go:152 msg=\"key not found\" key=general.alignment default=32\n"
     ]
    },
    {
     "name": "stdout",
     "output_type": "stream",
     "text": [
      "[GIN] 2025/05/13 - 15:06:35 | 200 |          1m0s |       127.0.0.1 | POST     \"/api/chat\"\n"
     ]
    },
    {
     "name": "stderr",
     "output_type": "stream",
     "text": [
      "time=2025-05-13T15:06:35.741Z level=WARN source=ggml.go:152 msg=\"key not found\" key=general.alignment default=32\n"
     ]
    },
    {
     "name": "stdout",
     "output_type": "stream",
     "text": [
      "[GIN] 2025/05/13 - 15:06:39 | 200 | 26.712218308s |       127.0.0.1 | POST     \"/api/chat\"\n"
     ]
    },
    {
     "name": "stderr",
     "output_type": "stream",
     "text": [
      "time=2025-05-13T15:06:39.829Z level=WARN source=ggml.go:152 msg=\"key not found\" key=general.alignment default=32\n"
     ]
    },
    {
     "name": "stdout",
     "output_type": "stream",
     "text": [
      "[GIN] 2025/05/13 - 15:06:48 | 200 | 18.138284895s |       127.0.0.1 | POST     \"/api/chat\"\n"
     ]
    },
    {
     "name": "stderr",
     "output_type": "stream",
     "text": [
      "time=2025-05-13T15:06:48.369Z level=WARN source=ggml.go:152 msg=\"key not found\" key=general.alignment default=32\n"
     ]
    },
    {
     "name": "stdout",
     "output_type": "stream",
     "text": [
      "[GIN] 2025/05/13 - 15:06:56 | 200 | 21.182693196s |       127.0.0.1 | POST     \"/api/chat\"\n"
     ]
    },
    {
     "name": "stderr",
     "output_type": "stream",
     "text": [
      "time=2025-05-13T15:06:56.914Z level=WARN source=ggml.go:152 msg=\"key not found\" key=general.alignment default=32\n"
     ]
    },
    {
     "name": "stdout",
     "output_type": "stream",
     "text": [
      "[GIN] 2025/05/13 - 15:06:59 | 200 | 54.525051109s |       127.0.0.1 | POST     \"/api/chat\"\n"
     ]
    },
    {
     "name": "stderr",
     "output_type": "stream",
     "text": [
      "time=2025-05-13T15:06:59.932Z level=WARN source=ggml.go:152 msg=\"key not found\" key=general.alignment default=32\n"
     ]
    },
    {
     "name": "stdout",
     "output_type": "stream",
     "text": [
      "[GIN] 2025/05/13 - 15:07:01 | 200 | 21.265650666s |       127.0.0.1 | POST     \"/api/chat\"\n"
     ]
    },
    {
     "name": "stderr",
     "output_type": "stream",
     "text": [
      "time=2025-05-13T15:07:01.094Z level=WARN source=ggml.go:152 msg=\"key not found\" key=general.alignment default=32\n"
     ]
    },
    {
     "name": "stdout",
     "output_type": "stream",
     "text": [
      "[GIN] 2025/05/13 - 15:07:14 | 200 | 25.969633405s |       127.0.0.1 | POST     \"/api/chat\"\n"
     ]
    },
    {
     "name": "stderr",
     "output_type": "stream",
     "text": [
      "time=2025-05-13T15:07:14.355Z level=WARN source=ggml.go:152 msg=\"key not found\" key=general.alignment default=32\n"
     ]
    },
    {
     "name": "stdout",
     "output_type": "stream",
     "text": [
      "[GIN] 2025/05/13 - 15:07:41 | 200 | 45.009748013s |       127.0.0.1 | POST     \"/api/chat\"\n"
     ]
    },
    {
     "name": "stderr",
     "output_type": "stream",
     "text": [
      "time=2025-05-13T15:07:41.943Z level=WARN source=ggml.go:152 msg=\"key not found\" key=general.alignment default=32\n"
     ]
    },
    {
     "name": "stdout",
     "output_type": "stream",
     "text": [
      "[GIN] 2025/05/13 - 15:07:45 | 200 | 46.022897955s |       127.0.0.1 | POST     \"/api/chat\"\n",
      "[GIN] 2025/05/13 - 15:07:45 | 200 | 44.898362524s |       127.0.0.1 | POST     \"/api/chat\"\n"
     ]
    },
    {
     "name": "stderr",
     "output_type": "stream",
     "text": [
      "time=2025-05-13T15:07:45.955Z level=WARN source=ggml.go:152 msg=\"key not found\" key=general.alignment default=32\n",
      "time=2025-05-13T15:07:45.998Z level=WARN source=ggml.go:152 msg=\"key not found\" key=general.alignment default=32\n"
     ]
    },
    {
     "name": "stdout",
     "output_type": "stream",
     "text": [
      "[GIN] 2025/05/13 - 15:07:54 | 200 | 39.835752378s |       127.0.0.1 | POST     \"/api/chat\"\n"
     ]
    },
    {
     "name": "stderr",
     "output_type": "stream",
     "text": [
      "time=2025-05-13T15:07:54.193Z level=WARN source=ggml.go:152 msg=\"key not found\" key=general.alignment default=32\n"
     ]
    },
    {
     "name": "stdout",
     "output_type": "stream",
     "text": [
      "[GIN] 2025/05/13 - 15:07:58 | 200 | 16.376166884s |       127.0.0.1 | POST     \"/api/chat\"\n"
     ]
    },
    {
     "name": "stderr",
     "output_type": "stream",
     "text": [
      "time=2025-05-13T15:07:58.314Z level=WARN source=ggml.go:152 msg=\"key not found\" key=general.alignment default=32\n"
     ]
    },
    {
     "name": "stdout",
     "output_type": "stream",
     "text": [
      "[GIN] 2025/05/13 - 15:08:01 | 200 | 15.744598596s |       127.0.0.1 | POST     \"/api/chat\"\n"
     ]
    },
    {
     "name": "stderr",
     "output_type": "stream",
     "text": [
      "time=2025-05-13T15:08:01.754Z level=WARN source=ggml.go:152 msg=\"key not found\" key=general.alignment default=32\n"
     ]
    },
    {
     "name": "stdout",
     "output_type": "stream",
     "text": [
      "[GIN] 2025/05/13 - 15:08:07 | 200 | 12.976980115s |       127.0.0.1 | POST     \"/api/chat\"\n"
     ]
    },
    {
     "name": "stderr",
     "output_type": "stream",
     "text": [
      "time=2025-05-13T15:08:07.172Z level=WARN source=ggml.go:152 msg=\"key not found\" key=general.alignment default=32\n"
     ]
    },
    {
     "name": "stdout",
     "output_type": "stream",
     "text": [
      "[GIN] 2025/05/13 - 15:08:09 | 200 | 10.948820824s |       127.0.0.1 | POST     \"/api/chat\"\n"
     ]
    },
    {
     "name": "stderr",
     "output_type": "stream",
     "text": [
      "time=2025-05-13T15:08:09.270Z level=WARN source=ggml.go:152 msg=\"key not found\" key=general.alignment default=32\n"
     ]
    },
    {
     "name": "stdout",
     "output_type": "stream",
     "text": [
      "[GIN] 2025/05/13 - 15:08:12 | 200 | 10.957929138s |       127.0.0.1 | POST     \"/api/chat\"\n"
     ]
    },
    {
     "name": "stderr",
     "output_type": "stream",
     "text": [
      "time=2025-05-13T15:08:12.732Z level=WARN source=ggml.go:152 msg=\"key not found\" key=general.alignment default=32\n",
      "time=2025-05-13T15:08:12.735Z level=WARN source=ggml.go:152 msg=\"key not found\" key=general.alignment default=32\n",
      "time=2025-05-13T15:08:12.738Z level=WARN source=ggml.go:152 msg=\"key not found\" key=general.alignment default=32\n"
     ]
    },
    {
     "name": "stdout",
     "output_type": "stream",
     "text": [
      "[GIN] 2025/05/13 - 15:08:18 | 200 | 11.819494208s |       127.0.0.1 | POST     \"/api/chat\"\n"
     ]
    },
    {
     "name": "stderr",
     "output_type": "stream",
     "text": [
      "time=2025-05-13T15:08:19.001Z level=WARN source=ggml.go:152 msg=\"key not found\" key=general.alignment default=32\n"
     ]
    },
    {
     "name": "stdout",
     "output_type": "stream",
     "text": [
      "[GIN] 2025/05/13 - 15:08:25 | 200 | 16.274112779s |       127.0.0.1 | POST     \"/api/chat\"\n"
     ]
    },
    {
     "name": "stderr",
     "output_type": "stream",
     "text": [
      "time=2025-05-13T15:08:25.554Z level=WARN source=ggml.go:152 msg=\"key not found\" key=general.alignment default=32\n"
     ]
    },
    {
     "name": "stdout",
     "output_type": "stream",
     "text": [
      "[GIN] 2025/05/13 - 15:08:26 | 200 | 40.567020327s |       127.0.0.1 | POST     \"/api/chat\"\n"
     ]
    },
    {
     "name": "stderr",
     "output_type": "stream",
     "text": [
      "time=2025-05-13T15:08:26.530Z level=WARN source=ggml.go:152 msg=\"key not found\" key=general.alignment default=32\n"
     ]
    },
    {
     "name": "stdout",
     "output_type": "stream",
     "text": [
      "[GIN] 2025/05/13 - 15:08:28 | 200 |  15.42676378s |       127.0.0.1 | POST     \"/api/chat\"\n",
      "[GIN] 2025/05/13 - 15:08:28 | 200 |  15.78345789s |       127.0.0.1 | POST     \"/api/chat\"\n",
      "[GIN] 2025/05/13 - 15:08:30 | 200 | 17.480766749s |       127.0.0.1 | POST     \"/api/chat\"\n"
     ]
    },
    {
     "name": "stderr",
     "output_type": "stream",
     "text": [
      "time=2025-05-13T15:08:30.212Z level=WARN source=ggml.go:152 msg=\"key not found\" key=general.alignment default=32\n"
     ]
    },
    {
     "name": "stdout",
     "output_type": "stream",
     "text": [
      "[GIN] 2025/05/13 - 15:08:33 | 200 | 14.486883707s |       127.0.0.1 | POST     \"/api/chat\"\n"
     ]
    },
    {
     "name": "stderr",
     "output_type": "stream",
     "text": [
      "time=2025-05-13T15:08:33.494Z level=WARN source=ggml.go:152 msg=\"key not found\" key=general.alignment default=32\n"
     ]
    },
    {
     "name": "stdout",
     "output_type": "stream",
     "text": [
      "[GIN] 2025/05/13 - 15:08:35 | 200 | 10.089892677s |       127.0.0.1 | POST     \"/api/chat\"\n"
     ]
    },
    {
     "name": "stderr",
     "output_type": "stream",
     "text": [
      "time=2025-05-13T15:08:35.654Z level=WARN source=ggml.go:152 msg=\"key not found\" key=general.alignment default=32\n"
     ]
    },
    {
     "name": "stdout",
     "output_type": "stream",
     "text": [
      "[GIN] 2025/05/13 - 15:08:39 | 200 |   8.87342074s |       127.0.0.1 | POST     \"/api/chat\"\n"
     ]
    },
    {
     "name": "stderr",
     "output_type": "stream",
     "text": [
      "time=2025-05-13T15:08:39.089Z level=WARN source=ggml.go:152 msg=\"key not found\" key=general.alignment default=32\n"
     ]
    },
    {
     "name": "stdout",
     "output_type": "stream",
     "text": [
      "[GIN] 2025/05/13 - 15:09:00 | 200 |   34.1902142s |       127.0.0.1 | POST     \"/api/chat\"\n"
     ]
    },
    {
     "name": "stderr",
     "output_type": "stream",
     "text": [
      "time=2025-05-13T15:09:00.734Z level=WARN source=ggml.go:152 msg=\"key not found\" key=general.alignment default=32\n"
     ]
    },
    {
     "name": "stdout",
     "output_type": "stream",
     "text": [
      "[GIN] 2025/05/13 - 15:09:02 | 200 | 29.033928361s |       127.0.0.1 | POST     \"/api/chat\"\n"
     ]
    },
    {
     "name": "stderr",
     "output_type": "stream",
     "text": [
      "time=2025-05-13T15:09:02.529Z level=WARN source=ggml.go:152 msg=\"key not found\" key=general.alignment default=32\n"
     ]
    },
    {
     "name": "stdout",
     "output_type": "stream",
     "text": [
      "[GIN] 2025/05/13 - 15:09:11 | 200 | 32.499841218s |       127.0.0.1 | POST     \"/api/chat\"\n"
     ]
    },
    {
     "name": "stderr",
     "output_type": "stream",
     "text": [
      "time=2025-05-13T15:09:11.595Z level=WARN source=ggml.go:152 msg=\"key not found\" key=general.alignment default=32\n"
     ]
    },
    {
     "name": "stdout",
     "output_type": "stream",
     "text": [
      "[GIN] 2025/05/13 - 15:09:15 | 200 | 40.274850236s |       127.0.0.1 | POST     \"/api/chat\"\n"
     ]
    },
    {
     "name": "stderr",
     "output_type": "stream",
     "text": [
      "time=2025-05-13T15:09:15.934Z level=WARN source=ggml.go:152 msg=\"key not found\" key=general.alignment default=32\n"
     ]
    },
    {
     "name": "stdout",
     "output_type": "stream",
     "text": [
      "[GIN] 2025/05/13 - 15:09:27 | 200 | 24.723122027s |       127.0.0.1 | POST     \"/api/chat\"\n"
     ]
    },
    {
     "name": "stderr",
     "output_type": "stream",
     "text": [
      "time=2025-05-13T15:09:27.263Z level=WARN source=ggml.go:152 msg=\"key not found\" key=general.alignment default=32\n"
     ]
    },
    {
     "name": "stdout",
     "output_type": "stream",
     "text": [
      "[GIN] 2025/05/13 - 15:09:32 | 200 |  21.36076503s |       127.0.0.1 | POST     \"/api/chat\"\n"
     ]
    },
    {
     "name": "stderr",
     "output_type": "stream",
     "text": [
      "time=2025-05-13T15:09:32.965Z level=WARN source=ggml.go:152 msg=\"key not found\" key=general.alignment default=32\n"
     ]
    },
    {
     "name": "stdout",
     "output_type": "stream",
     "text": [
      "[GIN] 2025/05/13 - 15:09:36 | 200 | 20.983282512s |       127.0.0.1 | POST     \"/api/chat\"\n"
     ]
    },
    {
     "name": "stderr",
     "output_type": "stream",
     "text": [
      "time=2025-05-13T15:09:36.931Z level=WARN source=ggml.go:152 msg=\"key not found\" key=general.alignment default=32\n"
     ]
    },
    {
     "name": "stdout",
     "output_type": "stream",
     "text": [
      "[GIN] 2025/05/13 - 15:09:40 | 200 | 39.991643403s |       127.0.0.1 | POST     \"/api/chat\"\n"
     ]
    },
    {
     "name": "stderr",
     "output_type": "stream",
     "text": [
      "time=2025-05-13T15:09:40.725Z level=WARN source=ggml.go:152 msg=\"key not found\" key=general.alignment default=32\n"
     ]
    },
    {
     "name": "stdout",
     "output_type": "stream",
     "text": [
      "[GIN] 2025/05/13 - 15:10:00 | 200 | 27.178990894s |       127.0.0.1 | POST     \"/api/chat\"\n"
     ]
    },
    {
     "name": "stderr",
     "output_type": "stream",
     "text": [
      "time=2025-05-13T15:10:00.163Z level=WARN source=ggml.go:152 msg=\"key not found\" key=general.alignment default=32\n"
     ]
    },
    {
     "name": "stdout",
     "output_type": "stream",
     "text": [
      "[GIN] 2025/05/13 - 15:10:01 | 200 | 34.597403226s |       127.0.0.1 | POST     \"/api/chat\"\n"
     ]
    },
    {
     "name": "stderr",
     "output_type": "stream",
     "text": [
      "time=2025-05-13T15:10:01.863Z level=WARN source=ggml.go:152 msg=\"key not found\" key=general.alignment default=32\n"
     ]
    },
    {
     "name": "stdout",
     "output_type": "stream",
     "text": [
      "[GIN] 2025/05/13 - 15:10:04 | 200 | 27.363846704s |       127.0.0.1 | POST     \"/api/chat\"\n"
     ]
    },
    {
     "name": "stderr",
     "output_type": "stream",
     "text": [
      "time=2025-05-13T15:10:04.300Z level=WARN source=ggml.go:152 msg=\"key not found\" key=general.alignment default=32\n"
     ]
    },
    {
     "name": "stdout",
     "output_type": "stream",
     "text": [
      "[GIN] 2025/05/13 - 15:10:16 | 200 | 16.855480445s |       127.0.0.1 | POST     \"/api/chat\"\n"
     ]
    },
    {
     "name": "stderr",
     "output_type": "stream",
     "text": [
      "time=2025-05-13T15:10:17.030Z level=WARN source=ggml.go:152 msg=\"key not found\" key=general.alignment default=32\n"
     ]
    },
    {
     "name": "stdout",
     "output_type": "stream",
     "text": [
      "[GIN] 2025/05/13 - 15:10:29 | 200 | 27.442108253s |       127.0.0.1 | POST     \"/api/chat\"\n"
     ]
    },
    {
     "name": "stderr",
     "output_type": "stream",
     "text": [
      "time=2025-05-13T15:10:29.309Z level=WARN source=ggml.go:152 msg=\"key not found\" key=general.alignment default=32\n"
     ]
    },
    {
     "name": "stdout",
     "output_type": "stream",
     "text": [
      "[GIN] 2025/05/13 - 15:10:32 | 200 | 28.211541993s |       127.0.0.1 | POST     \"/api/chat\"\n"
     ]
    },
    {
     "name": "stderr",
     "output_type": "stream",
     "text": [
      "time=2025-05-13T15:10:32.516Z level=WARN source=ggml.go:152 msg=\"key not found\" key=general.alignment default=32\n"
     ]
    },
    {
     "name": "stdout",
     "output_type": "stream",
     "text": [
      "[GIN] 2025/05/13 - 15:10:34 | 200 | 17.852696146s |       127.0.0.1 | POST     \"/api/chat\"\n"
     ]
    },
    {
     "name": "stderr",
     "output_type": "stream",
     "text": [
      "time=2025-05-13T15:10:34.874Z level=WARN source=ggml.go:152 msg=\"key not found\" key=general.alignment default=32\n"
     ]
    },
    {
     "name": "stdout",
     "output_type": "stream",
     "text": [
      "[GIN] 2025/05/13 - 15:10:39 | 200 | 58.448063035s |       127.0.0.1 | POST     \"/api/chat\"\n"
     ]
    },
    {
     "name": "stderr",
     "output_type": "stream",
     "text": [
      "time=2025-05-13T15:10:39.186Z level=WARN source=ggml.go:152 msg=\"key not found\" key=general.alignment default=32\n"
     ]
    },
    {
     "name": "stdout",
     "output_type": "stream",
     "text": [
      "[GIN] 2025/05/13 - 15:10:41 | 200 |   9.46938589s |       127.0.0.1 | POST     \"/api/chat\"\n"
     ]
    },
    {
     "name": "stderr",
     "output_type": "stream",
     "text": [
      "time=2025-05-13T15:10:41.992Z level=WARN source=ggml.go:152 msg=\"key not found\" key=general.alignment default=32\n"
     ]
    },
    {
     "name": "stdout",
     "output_type": "stream",
     "text": [
      "[GIN] 2025/05/13 - 15:10:49 | 200 |  15.04253282s |       127.0.0.1 | POST     \"/api/chat\"\n"
     ]
    },
    {
     "name": "stderr",
     "output_type": "stream",
     "text": [
      "time=2025-05-13T15:10:49.923Z level=WARN source=ggml.go:152 msg=\"key not found\" key=general.alignment default=32\n"
     ]
    },
    {
     "name": "stdout",
     "output_type": "stream",
     "text": [
      "[GIN] 2025/05/13 - 15:11:05 | 200 |  35.73430123s |       127.0.0.1 | POST     \"/api/chat\"\n"
     ]
    },
    {
     "name": "stderr",
     "output_type": "stream",
     "text": [
      "time=2025-05-13T15:11:05.066Z level=WARN source=ggml.go:152 msg=\"key not found\" key=general.alignment default=32\n"
     ]
    },
    {
     "name": "stdout",
     "output_type": "stream",
     "text": [
      "[GIN] 2025/05/13 - 15:11:08 | 200 | 26.163141481s |       127.0.0.1 | POST     \"/api/chat\"\n"
     ]
    },
    {
     "name": "stderr",
     "output_type": "stream",
     "text": [
      "time=2025-05-13T15:11:08.174Z level=WARN source=ggml.go:152 msg=\"key not found\" key=general.alignment default=32\n",
      "time=2025-05-13T15:11:08.176Z level=WARN source=ggml.go:152 msg=\"key not found\" key=general.alignment default=32\n",
      "time=2025-05-13T15:11:08.179Z level=WARN source=ggml.go:152 msg=\"key not found\" key=general.alignment default=32\n"
     ]
    },
    {
     "name": "stdout",
     "output_type": "stream",
     "text": [
      "[GIN] 2025/05/13 - 15:11:13 | 200 | 23.265144877s |       127.0.0.1 | POST     \"/api/chat\"\n"
     ]
    },
    {
     "name": "stderr",
     "output_type": "stream",
     "text": [
      "time=2025-05-13T15:11:13.196Z level=WARN source=ggml.go:152 msg=\"key not found\" key=general.alignment default=32\n"
     ]
    },
    {
     "name": "stdout",
     "output_type": "stream",
     "text": [
      "[GIN] 2025/05/13 - 15:11:17 | 200 | 37.948714339s |       127.0.0.1 | POST     \"/api/chat\"\n"
     ]
    },
    {
     "name": "stderr",
     "output_type": "stream",
     "text": [
      "time=2025-05-13T15:11:17.138Z level=WARN source=ggml.go:152 msg=\"key not found\" key=general.alignment default=32\n"
     ]
    },
    {
     "name": "stdout",
     "output_type": "stream",
     "text": [
      "[GIN] 2025/05/13 - 15:11:19 | 200 | 10.907307796s |       127.0.0.1 | POST     \"/api/chat\"\n",
      "[GIN] 2025/05/13 - 15:11:20 | 200 | 12.165329465s |       127.0.0.1 | POST     \"/api/chat\"\n",
      "[GIN] 2025/05/13 - 15:11:21 | 200 | 13.416448941s |       127.0.0.1 | POST     \"/api/chat\"\n"
     ]
    },
    {
     "name": "stderr",
     "output_type": "stream",
     "text": [
      "time=2025-05-13T15:11:21.588Z level=WARN source=ggml.go:152 msg=\"key not found\" key=general.alignment default=32\n"
     ]
    },
    {
     "name": "stdout",
     "output_type": "stream",
     "text": [
      "[GIN] 2025/05/13 - 15:11:27 | 200 | 14.101996164s |       127.0.0.1 | POST     \"/api/chat\"\n"
     ]
    },
    {
     "name": "stderr",
     "output_type": "stream",
     "text": [
      "time=2025-05-13T15:11:27.310Z level=WARN source=ggml.go:152 msg=\"key not found\" key=general.alignment default=32\n"
     ]
    },
    {
     "name": "stdout",
     "output_type": "stream",
     "text": [
      "[GIN] 2025/05/13 - 15:11:32 | 200 | 27.218643138s |       127.0.0.1 | POST     \"/api/chat\"\n"
     ]
    },
    {
     "name": "stderr",
     "output_type": "stream",
     "text": [
      "time=2025-05-13T15:11:32.278Z level=WARN source=ggml.go:152 msg=\"key not found\" key=general.alignment default=32\n"
     ]
    },
    {
     "name": "stdout",
     "output_type": "stream",
     "text": [
      "[GIN] 2025/05/13 - 15:11:37 | 200 | 16.341355749s |       127.0.0.1 | POST     \"/api/chat\"\n"
     ]
    },
    {
     "name": "stderr",
     "output_type": "stream",
     "text": [
      "time=2025-05-13T15:11:37.936Z level=WARN source=ggml.go:152 msg=\"key not found\" key=general.alignment default=32\n"
     ]
    },
    {
     "name": "stdout",
     "output_type": "stream",
     "text": [
      "[GIN] 2025/05/13 - 15:11:54 | 200 | 27.033672817s |       127.0.0.1 | POST     \"/api/chat\"\n"
     ]
    },
    {
     "name": "stderr",
     "output_type": "stream",
     "text": [
      "time=2025-05-13T15:11:54.352Z level=WARN source=ggml.go:152 msg=\"key not found\" key=general.alignment default=32\n"
     ]
    },
    {
     "name": "stdout",
     "output_type": "stream",
     "text": [
      "[GIN] 2025/05/13 - 15:12:01 | 200 |  44.63153961s |       127.0.0.1 | POST     \"/api/chat\"\n"
     ]
    },
    {
     "name": "stderr",
     "output_type": "stream",
     "text": [
      "time=2025-05-13T15:12:01.776Z level=WARN source=ggml.go:152 msg=\"key not found\" key=general.alignment default=32\n"
     ]
    },
    {
     "name": "stdout",
     "output_type": "stream",
     "text": [
      "[GIN] 2025/05/13 - 15:12:19 | 200 | 47.526480904s |       127.0.0.1 | POST     \"/api/chat\"\n"
     ]
    },
    {
     "name": "stderr",
     "output_type": "stream",
     "text": [
      "time=2025-05-13T15:12:19.810Z level=WARN source=ggml.go:152 msg=\"key not found\" key=general.alignment default=32\n"
     ]
    },
    {
     "name": "stdout",
     "output_type": "stream",
     "text": [
      "[GIN] 2025/05/13 - 15:12:21 | 200 | 43.223800836s |       127.0.0.1 | POST     \"/api/chat\"\n"
     ]
    },
    {
     "name": "stderr",
     "output_type": "stream",
     "text": [
      "time=2025-05-13T15:12:21.167Z level=WARN source=ggml.go:152 msg=\"key not found\" key=general.alignment default=32\n"
     ]
    },
    {
     "name": "stdout",
     "output_type": "stream",
     "text": [
      "[GIN] 2025/05/13 - 15:12:36 | 200 |  42.47172869s |       127.0.0.1 | POST     \"/api/chat\"\n"
     ]
    },
    {
     "name": "stderr",
     "output_type": "stream",
     "text": [
      "time=2025-05-13T15:12:36.831Z level=WARN source=ggml.go:152 msg=\"key not found\" key=general.alignment default=32\n"
     ]
    },
    {
     "name": "stdout",
     "output_type": "stream",
     "text": [
      "[GIN] 2025/05/13 - 15:12:47 | 200 | 45.400980557s |       127.0.0.1 | POST     \"/api/chat\"\n"
     ]
    },
    {
     "name": "stderr",
     "output_type": "stream",
     "text": [
      "time=2025-05-13T15:12:47.192Z level=WARN source=ggml.go:152 msg=\"key not found\" key=general.alignment default=32\n"
     ]
    },
    {
     "name": "stdout",
     "output_type": "stream",
     "text": [
      "[GIN] 2025/05/13 - 15:12:50 | 200 | 31.129778247s |       127.0.0.1 | POST     \"/api/chat\"\n"
     ]
    },
    {
     "name": "stderr",
     "output_type": "stream",
     "text": [
      "time=2025-05-13T15:12:50.948Z level=WARN source=ggml.go:152 msg=\"key not found\" key=general.alignment default=32\n"
     ]
    },
    {
     "name": "stdout",
     "output_type": "stream",
     "text": [
      "[GIN] 2025/05/13 - 15:12:52 | 200 | 31.447683899s |       127.0.0.1 | POST     \"/api/chat\"\n"
     ]
    },
    {
     "name": "stderr",
     "output_type": "stream",
     "text": [
      "time=2025-05-13T15:12:52.628Z level=WARN source=ggml.go:152 msg=\"key not found\" key=general.alignment default=32\n"
     ]
    },
    {
     "name": "stdout",
     "output_type": "stream",
     "text": [
      "[GIN] 2025/05/13 - 15:13:10 | 200 | 34.105157631s |       127.0.0.1 | POST     \"/api/chat\"\n"
     ]
    },
    {
     "name": "stderr",
     "output_type": "stream",
     "text": [
      "time=2025-05-13T15:13:10.938Z level=WARN source=ggml.go:152 msg=\"key not found\" key=general.alignment default=32\n"
     ]
    },
    {
     "name": "stdout",
     "output_type": "stream",
     "text": [
      "[GIN] 2025/05/13 - 15:13:18 | 200 | 31.050636137s |       127.0.0.1 | POST     \"/api/chat\"\n"
     ]
    },
    {
     "name": "stderr",
     "output_type": "stream",
     "text": [
      "time=2025-05-13T15:13:18.254Z level=WARN source=ggml.go:152 msg=\"key not found\" key=general.alignment default=32\n"
     ]
    },
    {
     "name": "stdout",
     "output_type": "stream",
     "text": [
      "[GIN] 2025/05/13 - 15:13:31 | 200 | 38.606698461s |       127.0.0.1 | POST     \"/api/chat\"\n"
     ]
    },
    {
     "name": "stderr",
     "output_type": "stream",
     "text": [
      "time=2025-05-13T15:13:31.233Z level=WARN source=ggml.go:152 msg=\"key not found\" key=general.alignment default=32\n"
     ]
    },
    {
     "name": "stdout",
     "output_type": "stream",
     "text": [
      "[GIN] 2025/05/13 - 15:13:35 | 200 | 44.150762074s |       127.0.0.1 | POST     \"/api/chat\"\n"
     ]
    },
    {
     "name": "stderr",
     "output_type": "stream",
     "text": [
      "time=2025-05-13T15:13:35.104Z level=WARN source=ggml.go:152 msg=\"key not found\" key=general.alignment default=32\n"
     ]
    },
    {
     "name": "stdout",
     "output_type": "stream",
     "text": [
      "[GIN] 2025/05/13 - 15:13:38 | 200 |  20.23384908s |       127.0.0.1 | POST     \"/api/chat\"\n"
     ]
    },
    {
     "name": "stderr",
     "output_type": "stream",
     "text": [
      "time=2025-05-13T15:13:38.495Z level=WARN source=ggml.go:152 msg=\"key not found\" key=general.alignment default=32\n"
     ]
    },
    {
     "name": "stdout",
     "output_type": "stream",
     "text": [
      "[GIN] 2025/05/13 - 15:13:43 | 200 | 12.046730397s |       127.0.0.1 | POST     \"/api/chat\"\n"
     ]
    },
    {
     "name": "stderr",
     "output_type": "stream",
     "text": [
      "time=2025-05-13T15:13:43.289Z level=WARN source=ggml.go:152 msg=\"key not found\" key=general.alignment default=32\n"
     ]
    },
    {
     "name": "stdout",
     "output_type": "stream",
     "text": [
      "[GIN] 2025/05/13 - 15:13:52 | 200 | 41.404449331s |       127.0.0.1 | POST     \"/api/chat\"\n"
     ]
    },
    {
     "name": "stderr",
     "output_type": "stream",
     "text": [
      "time=2025-05-13T15:13:52.346Z level=WARN source=ggml.go:152 msg=\"key not found\" key=general.alignment default=32\n"
     ]
    },
    {
     "name": "stdout",
     "output_type": "stream",
     "text": [
      "[GIN] 2025/05/13 - 15:13:55 | 200 | 16.874105256s |       127.0.0.1 | POST     \"/api/chat\"\n"
     ]
    },
    {
     "name": "stderr",
     "output_type": "stream",
     "text": [
      "time=2025-05-13T15:13:55.375Z level=WARN source=ggml.go:152 msg=\"key not found\" key=general.alignment default=32\n"
     ]
    },
    {
     "name": "stdout",
     "output_type": "stream",
     "text": [
      "[GIN] 2025/05/13 - 15:14:01 | 200 | 26.091880698s |       127.0.0.1 | POST     \"/api/chat\"\n"
     ]
    },
    {
     "name": "stderr",
     "output_type": "stream",
     "text": [
      "time=2025-05-13T15:14:01.201Z level=WARN source=ggml.go:152 msg=\"key not found\" key=general.alignment default=32\n"
     ]
    },
    {
     "name": "stdout",
     "output_type": "stream",
     "text": [
      "[GIN] 2025/05/13 - 15:14:10 | 200 | 27.637294415s |       127.0.0.1 | POST     \"/api/chat\"\n"
     ]
    },
    {
     "name": "stderr",
     "output_type": "stream",
     "text": [
      "time=2025-05-13T15:14:10.940Z level=WARN source=ggml.go:152 msg=\"key not found\" key=general.alignment default=32\n"
     ]
    },
    {
     "name": "stdout",
     "output_type": "stream",
     "text": [
      "[GIN] 2025/05/13 - 15:14:13 | 200 | 18.540400756s |       127.0.0.1 | POST     \"/api/chat\"\n"
     ]
    },
    {
     "name": "stderr",
     "output_type": "stream",
     "text": [
      "time=2025-05-13T15:14:13.923Z level=WARN source=ggml.go:152 msg=\"key not found\" key=general.alignment default=32\n"
     ]
    },
    {
     "name": "stdout",
     "output_type": "stream",
     "text": [
      "[GIN] 2025/05/13 - 15:14:24 | 200 | 31.839490041s |       127.0.0.1 | POST     \"/api/chat\"\n"
     ]
    },
    {
     "name": "stderr",
     "output_type": "stream",
     "text": [
      "time=2025-05-13T15:14:24.190Z level=WARN source=ggml.go:152 msg=\"key not found\" key=general.alignment default=32\n"
     ]
    },
    {
     "name": "stdout",
     "output_type": "stream",
     "text": [
      "[GIN] 2025/05/13 - 15:14:29 | 200 | 28.219245032s |       127.0.0.1 | POST     \"/api/chat\"\n"
     ]
    },
    {
     "name": "stderr",
     "output_type": "stream",
     "text": [
      "time=2025-05-13T15:14:29.432Z level=WARN source=ggml.go:152 msg=\"key not found\" key=general.alignment default=32\n"
     ]
    },
    {
     "name": "stdout",
     "output_type": "stream",
     "text": [
      "[GIN] 2025/05/13 - 15:14:32 | 200 | 18.490753141s |       127.0.0.1 | POST     \"/api/chat\"\n"
     ]
    },
    {
     "name": "stderr",
     "output_type": "stream",
     "text": [
      "time=2025-05-13T15:14:32.420Z level=WARN source=ggml.go:152 msg=\"key not found\" key=general.alignment default=32\n"
     ]
    },
    {
     "name": "stdout",
     "output_type": "stream",
     "text": [
      "[GIN] 2025/05/13 - 15:14:38 | 200 | 27.972430159s |       127.0.0.1 | POST     \"/api/chat\"\n"
     ]
    },
    {
     "name": "stderr",
     "output_type": "stream",
     "text": [
      "time=2025-05-13T15:14:38.915Z level=WARN source=ggml.go:152 msg=\"key not found\" key=general.alignment default=32\n"
     ]
    },
    {
     "name": "stdout",
     "output_type": "stream",
     "text": [
      "[GIN] 2025/05/13 - 15:14:42 | 200 | 12.889582862s |       127.0.0.1 | POST     \"/api/chat\"\n"
     ]
    },
    {
     "name": "stderr",
     "output_type": "stream",
     "text": [
      "time=2025-05-13T15:14:42.334Z level=WARN source=ggml.go:152 msg=\"key not found\" key=general.alignment default=32\n"
     ]
    },
    {
     "name": "stdout",
     "output_type": "stream",
     "text": [
      "[GIN] 2025/05/13 - 15:14:45 | 200 | 12.910427677s |       127.0.0.1 | POST     \"/api/chat\"\n"
     ]
    },
    {
     "name": "stderr",
     "output_type": "stream",
     "text": [
      "time=2025-05-13T15:14:45.359Z level=WARN source=ggml.go:152 msg=\"key not found\" key=general.alignment default=32\n",
      "time=2025-05-13T15:14:45.363Z level=WARN source=ggml.go:152 msg=\"key not found\" key=general.alignment default=32\n",
      "time=2025-05-13T15:14:45.365Z level=WARN source=ggml.go:152 msg=\"key not found\" key=general.alignment default=32\n"
     ]
    },
    {
     "name": "stdout",
     "output_type": "stream",
     "text": [
      "[GIN] 2025/05/13 - 15:14:51 | 200 | 27.061875285s |       127.0.0.1 | POST     \"/api/chat\"\n"
     ]
    },
    {
     "name": "stderr",
     "output_type": "stream",
     "text": [
      "time=2025-05-13T15:14:51.267Z level=WARN source=ggml.go:152 msg=\"key not found\" key=general.alignment default=32\n"
     ]
    },
    {
     "name": "stdout",
     "output_type": "stream",
     "text": [
      "[GIN] 2025/05/13 - 15:14:55 | 200 | 13.289993707s |       127.0.0.1 | POST     \"/api/chat\"\n"
     ]
    },
    {
     "name": "stderr",
     "output_type": "stream",
     "text": [
      "time=2025-05-13T15:14:55.623Z level=WARN source=ggml.go:152 msg=\"key not found\" key=general.alignment default=32\n"
     ]
    },
    {
     "name": "stdout",
     "output_type": "stream",
     "text": [
      "[GIN] 2025/05/13 - 15:14:57 | 200 | 12.131249443s |       127.0.0.1 | POST     \"/api/chat\"\n",
      "[GIN] 2025/05/13 - 15:14:58 | 200 | 19.714497817s |       127.0.0.1 | POST     \"/api/chat\"\n"
     ]
    },
    {
     "name": "stderr",
     "output_type": "stream",
     "text": [
      "time=2025-05-13T15:14:58.634Z level=WARN source=ggml.go:152 msg=\"key not found\" key=general.alignment default=32\n"
     ]
    },
    {
     "name": "stdout",
     "output_type": "stream",
     "text": [
      "[GIN] 2025/05/13 - 15:14:59 | 200 | 13.993731517s |       127.0.0.1 | POST     \"/api/chat\"\n",
      "[GIN] 2025/05/13 - 15:15:01 | 200 | 16.189889849s |       127.0.0.1 | POST     \"/api/chat\"\n"
     ]
    },
    {
     "name": "stderr",
     "output_type": "stream",
     "text": [
      "time=2025-05-13T15:15:01.547Z level=WARN source=ggml.go:152 msg=\"key not found\" key=general.alignment default=32\n"
     ]
    },
    {
     "name": "stdout",
     "output_type": "stream",
     "text": [
      "[GIN] 2025/05/13 - 15:15:04 | 200 |  9.366421011s |       127.0.0.1 | POST     \"/api/chat\"\n"
     ]
    },
    {
     "name": "stderr",
     "output_type": "stream",
     "text": [
      "time=2025-05-13T15:15:05.010Z level=WARN source=ggml.go:152 msg=\"key not found\" key=general.alignment default=32\n"
     ]
    },
    {
     "name": "stdout",
     "output_type": "stream",
     "text": [
      "[GIN] 2025/05/13 - 15:15:07 | 200 |  9.165076074s |       127.0.0.1 | POST     \"/api/chat\"\n"
     ]
    },
    {
     "name": "stderr",
     "output_type": "stream",
     "text": [
      "time=2025-05-13T15:15:07.812Z level=WARN source=ggml.go:152 msg=\"key not found\" key=general.alignment default=32\n"
     ]
    },
    {
     "name": "stdout",
     "output_type": "stream",
     "text": [
      "[GIN] 2025/05/13 - 15:15:10 | 200 |  9.301813195s |       127.0.0.1 | POST     \"/api/chat\"\n"
     ]
    },
    {
     "name": "stderr",
     "output_type": "stream",
     "text": [
      "time=2025-05-13T15:15:10.866Z level=WARN source=ggml.go:152 msg=\"key not found\" key=general.alignment default=32\n"
     ]
    },
    {
     "name": "stdout",
     "output_type": "stream",
     "text": [
      "[GIN] 2025/05/13 - 15:15:20 | 200 | 29.252815035s |       127.0.0.1 | POST     \"/api/chat\"\n"
     ]
    },
    {
     "name": "stderr",
     "output_type": "stream",
     "text": [
      "time=2025-05-13T15:15:20.521Z level=WARN source=ggml.go:152 msg=\"key not found\" key=general.alignment default=32\n"
     ]
    },
    {
     "name": "stdout",
     "output_type": "stream",
     "text": [
      "[GIN] 2025/05/13 - 15:15:24 | 200 | 19.836104971s |       127.0.0.1 | POST     \"/api/chat\"\n",
      "[GIN] 2025/05/13 - 15:15:34 | 200 | 23.199988774s |       127.0.0.1 | POST     \"/api/chat\"\n"
     ]
    },
    {
     "name": "stderr",
     "output_type": "stream",
     "text": [
      "time=2025-05-13T15:15:34.061Z level=WARN source=ggml.go:152 msg=\"key not found\" key=general.alignment default=32\n"
     ]
    },
    {
     "name": "stdout",
     "output_type": "stream",
     "text": [
      "[GIN] 2025/05/13 - 15:15:52 | 200 | 32.481637612s |       127.0.0.1 | POST     \"/api/chat\"\n"
     ]
    },
    {
     "name": "stderr",
     "output_type": "stream",
     "text": [
      "time=2025-05-13T15:15:53.010Z level=WARN source=ggml.go:152 msg=\"key not found\" key=general.alignment default=32\n"
     ]
    },
    {
     "name": "stdout",
     "output_type": "stream",
     "text": [
      "[GIN] 2025/05/13 - 15:16:03 | 200 | 28.971148662s |       127.0.0.1 | POST     \"/api/chat\"\n"
     ]
    },
    {
     "name": "stderr",
     "output_type": "stream",
     "text": [
      "time=2025-05-13T15:16:03.055Z level=WARN source=ggml.go:152 msg=\"key not found\" key=general.alignment default=32\n"
     ]
    },
    {
     "name": "stdout",
     "output_type": "stream",
     "text": [
      "[GIN] 2025/05/13 - 15:16:14 | 200 |          1m6s |       127.0.0.1 | POST     \"/api/chat\"\n"
     ]
    },
    {
     "name": "stderr",
     "output_type": "stream",
     "text": [
      "time=2025-05-13T15:16:14.201Z level=WARN source=ggml.go:152 msg=\"key not found\" key=general.alignment default=32\n"
     ]
    },
    {
     "name": "stdout",
     "output_type": "stream",
     "text": [
      "[GIN] 2025/05/13 - 15:16:20 | 200 | 27.472753257s |       127.0.0.1 | POST     \"/api/chat\"\n"
     ]
    },
    {
     "name": "stderr",
     "output_type": "stream",
     "text": [
      "time=2025-05-13T15:16:20.496Z level=WARN source=ggml.go:152 msg=\"key not found\" key=general.alignment default=32\n"
     ]
    },
    {
     "name": "stdout",
     "output_type": "stream",
     "text": [
      "[GIN] 2025/05/13 - 15:16:30 | 200 | 16.273700848s |       127.0.0.1 | POST     \"/api/chat\"\n"
     ]
    },
    {
     "name": "stderr",
     "output_type": "stream",
     "text": [
      "time=2025-05-13T15:16:30.466Z level=WARN source=ggml.go:152 msg=\"key not found\" key=general.alignment default=32\n"
     ]
    },
    {
     "name": "stdout",
     "output_type": "stream",
     "text": [
      "[GIN] 2025/05/13 - 15:16:50 | 200 | 29.634980604s |       127.0.0.1 | POST     \"/api/chat\"\n"
     ]
    },
    {
     "name": "stderr",
     "output_type": "stream",
     "text": [
      "time=2025-05-13T15:16:50.129Z level=WARN source=ggml.go:152 msg=\"key not found\" key=general.alignment default=32\n"
     ]
    },
    {
     "name": "stdout",
     "output_type": "stream",
     "text": [
      "[GIN] 2025/05/13 - 15:16:53 | 200 | 50.714429063s |       127.0.0.1 | POST     \"/api/chat\"\n",
      "[GIN] 2025/05/13 - 15:17:09 | 200 | 19.761557989s |       127.0.0.1 | POST     \"/api/chat\"\n",
      "[GIN] 2025/05/13 - 15:17:36 | 200 |          1m6s |       127.0.0.1 | POST     \"/api/chat\"\n"
     ]
    },
    {
     "name": "stderr",
     "output_type": "stream",
     "text": [
      "time=2025-05-13T15:17:36.775Z level=WARN source=ggml.go:152 msg=\"key not found\" key=general.alignment default=32\n"
     ]
    },
    {
     "name": "stdout",
     "output_type": "stream",
     "text": [
      "[GIN] 2025/05/13 - 15:17:45 | 200 |  8.547654098s |       127.0.0.1 | POST     \"/api/chat\"\n"
     ]
    },
    {
     "name": "stderr",
     "output_type": "stream",
     "text": [
      "time=2025-05-13T15:17:45.321Z level=WARN source=ggml.go:152 msg=\"key not found\" key=general.alignment default=32\n"
     ]
    },
    {
     "name": "stdout",
     "output_type": "stream",
     "text": [
      "[GIN] 2025/05/13 - 15:18:32 | 200 | 47.126895412s |       127.0.0.1 | POST     \"/api/chat\"\n"
     ]
    },
    {
     "name": "stderr",
     "output_type": "stream",
     "text": [
      "time=2025-05-13T15:18:32.451Z level=WARN source=ggml.go:152 msg=\"key not found\" key=general.alignment default=32\n"
     ]
    },
    {
     "name": "stdout",
     "output_type": "stream",
     "text": [
      "[GIN] 2025/05/13 - 15:18:41 | 200 |  9.267528388s |       127.0.0.1 | POST     \"/api/chat\"\n"
     ]
    },
    {
     "name": "stderr",
     "output_type": "stream",
     "text": [
      "time=2025-05-13T15:18:41.727Z level=WARN source=ggml.go:152 msg=\"key not found\" key=general.alignment default=32\n"
     ]
    },
    {
     "name": "stdout",
     "output_type": "stream",
     "text": [
      "[GIN] 2025/05/13 - 15:19:27 | 200 |  46.02859744s |       127.0.0.1 | POST     \"/api/chat\"\n"
     ]
    },
    {
     "name": "stderr",
     "output_type": "stream",
     "text": [
      "time=2025-05-13T15:19:27.758Z level=WARN source=ggml.go:152 msg=\"key not found\" key=general.alignment default=32\n"
     ]
    },
    {
     "name": "stdout",
     "output_type": "stream",
     "text": [
      "[GIN] 2025/05/13 - 15:19:37 | 200 |  9.343756851s |       127.0.0.1 | POST     \"/api/chat\"\n"
     ]
    },
    {
     "name": "stderr",
     "output_type": "stream",
     "text": [
      "time=2025-05-13T15:19:37.109Z level=WARN source=ggml.go:152 msg=\"key not found\" key=general.alignment default=32\n"
     ]
    },
    {
     "name": "stdout",
     "output_type": "stream",
     "text": [
      "[GIN] 2025/05/13 - 15:20:24 | 200 | 47.004749127s |       127.0.0.1 | POST     \"/api/chat\"\n"
     ]
    },
    {
     "name": "stderr",
     "output_type": "stream",
     "text": [
      "time=2025-05-13T15:20:24.117Z level=WARN source=ggml.go:152 msg=\"key not found\" key=general.alignment default=32\n"
     ]
    },
    {
     "name": "stdout",
     "output_type": "stream",
     "text": [
      "[GIN] 2025/05/13 - 15:20:32 | 200 |  8.823515808s |       127.0.0.1 | POST     \"/api/chat\"\n"
     ]
    },
    {
     "name": "stderr",
     "output_type": "stream",
     "text": [
      "time=2025-05-13T15:20:32.947Z level=WARN source=ggml.go:152 msg=\"key not found\" key=general.alignment default=32\n"
     ]
    },
    {
     "name": "stdout",
     "output_type": "stream",
     "text": [
      "[GIN] 2025/05/13 - 15:20:42 | 200 |  9.193628353s |       127.0.0.1 | POST     \"/api/chat\"\n"
     ]
    }
   ],
   "source": [
    "from ragas.evaluation import evaluate, EvaluationResult\n",
    "\n",
    "results: EvaluationResult = evaluate(\n",
    "    dataset=evaluation_dataset,\n",
    "    metrics=[\n",
    "        context_precision,           # Metric 1\n",
    "        context_recall,              # Metric 2\n",
    "        context_entity_recall,       # Metric 3\n",
    "        noise_sensitivity,           # Metric 4\n",
    "        response_relevancy,          # Metric 5\n",
    "        faithfulness,                # Metric 6\n",
    "        factual_correctness,         # Metric 7\n",
    "        semantic_similarity          # Metric 8\n",
    "    ],\n",
    "    llm=ragas_llm,\n",
    "    embeddings=ragas_embeddings,\n",
    "    experiment_name=f\"{filepath}-evaluation\",\n",
    "    run_config=run_config,\n",
    "    show_progress=True\n",
    ")"
   ]
  },
  {
   "cell_type": "code",
   "execution_count": 15,
   "metadata": {
    "execution": {
     "iopub.execute_input": "2025-05-13T15:21:15.544804Z",
     "iopub.status.busy": "2025-05-13T15:21:15.544124Z",
     "iopub.status.idle": "2025-05-13T15:21:15.580404Z",
     "shell.execute_reply": "2025-05-13T15:21:15.579817Z",
     "shell.execute_reply.started": "2025-05-13T15:21:15.544779Z"
    },
    "trusted": true
   },
   "outputs": [
    {
     "data": {
      "text/plain": [
       "{'context_precision': 0.2908, 'context_recall': 0.8472, 'context_entity_recall': 0.2305, 'noise_sensitivity(mode=relevant)': 0.2946, 'answer_relevancy': 0.8493, 'faithfulness': 0.8770, 'factual_correctness(mode=f1)': 0.5404, 'semantic_similarity': 1.0000}"
      ]
     },
     "execution_count": 15,
     "metadata": {},
     "output_type": "execute_result"
    }
   ],
   "source": [
    "import pandas as pd\n",
    "\n",
    "# Save results locally (optional)\n",
    "result_df: pd.DataFrame = results.to_pandas()\n",
    "result_df.to_csv(f'./{filepath}-eval-results.csv', index=False)\n",
    "\n",
    "# Display metric scores\n",
    "results"
   ]
  },
  {
   "cell_type": "code",
   "execution_count": 16,
   "metadata": {
    "execution": {
     "iopub.execute_input": "2025-05-13T15:21:41.285095Z",
     "iopub.status.busy": "2025-05-13T15:21:41.284315Z",
     "iopub.status.idle": "2025-05-13T15:21:43.235773Z",
     "shell.execute_reply": "2025-05-13T15:21:43.235155Z",
     "shell.execute_reply.started": "2025-05-13T15:21:41.285069Z"
    },
    "trusted": true
   },
   "outputs": [
    {
     "name": "stdout",
     "output_type": "stream",
     "text": [
      "Evaluation results uploaded! View at https://app.ragas.io/dashboard/alignment/evaluation/6c779059-92f2-4f98-866a-7c87f2d787d0\n"
     ]
    },
    {
     "data": {
      "text/plain": [
       "'https://app.ragas.io/dashboard/alignment/evaluation/6c779059-92f2-4f98-866a-7c87f2d787d0'"
      ]
     },
     "execution_count": 16,
     "metadata": {},
     "output_type": "execute_result"
    }
   ],
   "source": [
    "results.upload()"
   ]
  },
  {
   "cell_type": "code",
   "execution_count": 17,
   "metadata": {
    "execution": {
     "iopub.execute_input": "2025-05-13T15:21:49.149890Z",
     "iopub.status.busy": "2025-05-13T15:21:49.149581Z",
     "iopub.status.idle": "2025-05-13T15:21:49.285308Z",
     "shell.execute_reply": "2025-05-13T15:21:49.284659Z",
     "shell.execute_reply.started": "2025-05-13T15:21:49.149870Z"
    },
    "trusted": true
   },
   "outputs": [
    {
     "name": "stdout",
     "output_type": "stream",
     "text": [
      "dataset-goldens.jsonl  fill_dataset.py\tModelfile\n",
      "datasets\t       fill_dataset.sh\tprompts\n",
      "evaluate.ipynb\t       generate.ipynb\ttest_id_1-dataset-eval-results.csv\n"
     ]
    }
   ],
   "source": [
    "! ls"
   ]
  }
 ],
 "metadata": {
  "kaggle": {
   "accelerator": "nvidiaTeslaT4",
   "dataSources": [],
   "dockerImageVersionId": 31011,
   "isGpuEnabled": true,
   "isInternetEnabled": true,
   "language": "python",
   "sourceType": "notebook"
  },
  "kernelspec": {
   "display_name": "Python 3",
   "language": "python",
   "name": "python3"
  },
  "language_info": {
   "codemirror_mode": {
    "name": "ipython",
    "version": 3
   },
   "file_extension": ".py",
   "mimetype": "text/x-python",
   "name": "python",
   "nbconvert_exporter": "python",
   "pygments_lexer": "ipython3",
   "version": "3.11.11"
  }
 },
 "nbformat": 4,
 "nbformat_minor": 4
}
