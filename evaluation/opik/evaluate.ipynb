{
 "cells": [
  {
   "cell_type": "markdown",
   "id": "e77b42c8",
   "metadata": {},
   "source": [
    "### Configuration\n",
    "\n",
    "* Opik can either be hosted locally in a container or one can use the cloud platform.\n",
    "* When using the cloud platform: an API key and a workspace need to be specified"
   ]
  },
  {
   "cell_type": "code",
   "execution_count": 3,
   "id": "dcb76d6c",
   "metadata": {},
   "outputs": [
    {
     "name": "stderr",
     "output_type": "stream",
     "text": [
      "OPIK: Configuration saved to file: /home/p3tr0vv/.opik.config\n"
     ]
    }
   ],
   "source": [
    "import os\n",
    "import opik\n",
    "from dotenv import load_dotenv\n",
    "\n",
    "load_dotenv(\"../.env\")\n",
    "\n",
    "OPIK_API_KEY: str = os.getenv(\"OPIK_API_KEY\")\n",
    "OPIK_WORKSPACE: str = os.getenv(\"OPIK_WORKSPACE\")\n",
    "\n",
    "try:\n",
    "    opik.configure(\n",
    "        api_key=OPIK_API_KEY,\n",
    "        workspace=OPIK_WORKSPACE,\n",
    "        force=True # This will override a configuration file if it already exists\n",
    "    )\n",
    "except opik.exceptions.ConfigurationError as ce:\n",
    "    print(f\"Error occurred: {ce}\")"
   ]
  },
  {
   "cell_type": "code",
   "execution_count": null,
   "id": "bb0028f2",
   "metadata": {},
   "outputs": [],
   "source": [
    "import os\n",
    "from dotenv import load_dotenv\n",
    "from opik.evaluation.models import LiteLLMChatModel\n",
    "\n",
    "load_dotenv(\"../../env/rag.env\")\n",
    "\n",
    "# https://docs.litellm.ai/docs/completion/input\n",
    "eval_model = LiteLLMChatModel(\n",
    "    model_name=\"ollama/llama3.1:latest\",\n",
    "    temperature=float(os.getenv(\"TEMPERATURE\")),\n",
    "    top_p=float(os.getenv(\"TOP_P\")),\n",
    "    response_format={\n",
    "        \"type\": \"json_object\"\n",
    "    },\n",
    "    api_base=\"http://localhost:11434\",\n",
    "    num_retries=3,\n",
    ")"
   ]
  },
  {
   "cell_type": "code",
   "execution_count": null,
   "id": "99e92d29",
   "metadata": {},
   "outputs": [
    {
     "name": "stderr",
     "output_type": "stream",
     "text": [
      "OPIK: Started logging traces to the \"Evaluation Approaches for RAG\" project at https://www.comet.com/opik/api/v1/session/redirect/projects/?trace_id=01968bc6-328d-758a-bf2c-f0882af3128f&path=aHR0cHM6Ly93d3cuY29tZXQuY29tL29waWsvYXBpLw==.\n"
     ]
    }
   ],
   "source": [
    "from opik.evaluation.metrics import Hallucination\n",
    "from opik.evaluation.metrics.score_result import ScoreResult\n",
    "\n",
    "metric = Hallucination(\n",
    "    model=eval_model,\n",
    "    project_name=os.getenv(\"OPIK_PROJECT_NAME\")\n",
    ")\n",
    "\n",
    "result: ScoreResult = metric.score(\n",
    "    input=\"What was the first programming language?\",\n",
    "    output=\"Python was the first programming language.\",\n",
    "    context=[\"This first ever programming language was Ruby.\"],\n",
    ")"
   ]
  },
  {
   "cell_type": "code",
   "execution_count": 14,
   "id": "f69cb33e",
   "metadata": {},
   "outputs": [
    {
     "data": {
      "text/plain": [
       "\"['The OUTPUT directly contradicts the information provided in the CONTEXT.', 'Python is not mentioned as the first programming language in the CONTEXT, and Ruby is stated to be so.']\""
      ]
     },
     "execution_count": 14,
     "metadata": {},
     "output_type": "execute_result"
    }
   ],
   "source": [
    "result.reason"
   ]
  }
 ],
 "metadata": {
  "kernelspec": {
   "display_name": "eval",
   "language": "python",
   "name": "python3"
  },
  "language_info": {
   "codemirror_mode": {
    "name": "ipython",
    "version": 3
   },
   "file_extension": ".py",
   "mimetype": "text/x-python",
   "name": "python",
   "nbconvert_exporter": "python",
   "pygments_lexer": "ipython3",
   "version": "3.12.9"
  }
 },
 "nbformat": 4,
 "nbformat_minor": 5
}
