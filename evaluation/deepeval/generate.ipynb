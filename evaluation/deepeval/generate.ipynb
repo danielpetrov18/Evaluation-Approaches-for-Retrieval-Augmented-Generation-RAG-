{
 "cells": [
  {
   "cell_type": "markdown",
   "metadata": {},
   "source": [
    "## Generating a synthetic dataset using DeepEval"
   ]
  },
  {
   "cell_type": "markdown",
   "metadata": {},
   "source": [
    "### Synthesizer\n",
    "\n",
    "This object can be used to generate **Golden** instances, which consist out of **input**, **expected output** and **context**. It uses a LLM to come up with random input and thereafter tries to enhance those, by making them more complex and realistic.\n",
    "\n",
    "For a comprehensive guide on understanding how this object works please refer here: [Synthesizer](https://www.confident-ai.com/blog/the-definitive-guide-to-synthetic-data-generation-using-llms)\n",
    "\n",
    "### Summary\n",
    "\n",
    "I will try to summarize the most important information:\n",
    "\n",
    "* It uses a **LLM to come-up with a comprehensive dataset** much faster than a human can\n",
    "* The process starts with the LLM generating **synthetic queries** based on context from a knowledge base - usually documents\n",
    "* Those initial queries are then **evolved** to reflect real-life complexity and then together with the context can be used to generate a **target/expected output**\n",
    "\n",
    "![Dataset generation workflow](https://cdn.prod.website-files.com/64bd90bdba579d6cce245aec/670574639fc6b9d5c483d766_664050ef1eb43f5fb8f57ff8_diagram.png \"Synthetic generation\")\n",
    "\n",
    "* There exist two main methods:\n",
    "    - Self-improvement: Iteratively uses the LLMs output to generate more complex queries\n",
    "    - Distillation: A stronger model is being utilized \n",
    "\n",
    "* Constructing contexts:\n",
    "    - During this phase documents from the knowledge base are split using a token splitter\n",
    "    - A random chunk is selected\n",
    "    - Finally, additional chunks are retrieved based on **semantic similarity**, **knowledge graphs** or others\n",
    "    - Ensuring that **chunk size**, **chunk overlap** or other similar parameters here and in the **retrieval component** of the **RAG** application are identical will yield better results\n",
    "\n",
    "![Constructing contexts](https://cdn.prod.website-files.com/64bd90bdba579d6cce245aec/672cb28e9f8f60aabd382788_672cb201dadd3fd2de4451d2_context_generation.png \"Context construction\")\n",
    "\n",
    "* Constructing synthetic queries:\n",
    "    - Using the contexts the **Synthesizer** can now generate synthetic input\n",
    "    - Doing so we ensure that the input corresponds with the context enhancing the **relevancy** and **accuracy**\n",
    "\n",
    "![Constructing synthetic queries](https://cdn.prod.website-files.com/64bd90bdba579d6cce245aec/672cb28e9f8f60aabd382775_672cb23c502672c70e0372cd_asymmetry.png \"Synthetic queries creation\")\n",
    "\n",
    "* Data Filtering:\n",
    "    1. Context filtering: Removes low-quality chunks that may be unintelligible\n",
    "\n",
    "    ![Context filtering](https://cdn.prod.website-files.com/64bd90bdba579d6cce245aec/672cb28e9f8f60aabd38278b_672cb26b461b45b0b5a6cd30_context_filtering.png \"Filtering context\")\n",
    "\n",
    "    2. Input filtering: Ensures generated inputs meet quality standards\n",
    "\n",
    "    ![Input filtering](https://cdn.prod.website-files.com/64bd90bdba579d6cce245aec/672cb28e9f8f60aabd382772_672cb27b799642a337436c3f_input_filtering.png \"Filtering queries\")\n",
    "    \n",
    "* Customizing dataset generating:\n",
    "    - Depending on the scenario inputs and outputs can be tailored to specific use cases\n",
    "        - For example a medical chatbot would have a completely different behaviour than a scientific one. It would need to comfort patients.\n",
    "    \n",
    "* Data Evolution:\n",
    "    - **In-Depth Evolving**: Expands simple instructions into more detailed versions\n",
    "    - **In-Breadth Evolving**: Produces diverse instructions to enrich the dataset\n",
    "    - **Elimination Evolving**: Removes less effective instructions\n",
    "\n",
    "    ![Data evolution](https://cdn.prod.website-files.com/64bd90bdba579d6cce245aec/670574639fc6b9d5c483d763_6641a0d7ef709f365d888577_Screenshot%25202024-05-13%2520at%25201.10.30%2520PM.png)"
   ]
  },
  {
   "cell_type": "markdown",
   "metadata": {},
   "source": [
    "### Install dependencies:\n",
    "\n",
    "* If you already have a **virtual environment** you **DON'T** need to execute the next function.\n",
    "* Make sure you select the correct environment in your notebook environment."
   ]
  },
  {
   "cell_type": "code",
   "execution_count": 1,
   "metadata": {},
   "outputs": [],
   "source": [
    "def setup_venv(venv_exists: bool = False, name: str = \"venv\"):\n",
    "    if not venv_exists:\n",
    "        !python3 -m venv {name}\n",
    "    \n",
    "    # Install requirements into the venv directly\n",
    "    !{name}/bin/pip install -U deepeval ipykernel\n",
    "     \n",
    "    print(f\"Virtual environment '{name}' has been created and packages installed.\")\n",
    "    print(\"Important: You need to manually select this kernel in your notebook:\")\n",
    "    print(f\"1. Restart the kernel\")\n",
    "    print(f\"2. Select the '{name}' kernel from the kernel menu\")"
   ]
  },
  {
   "cell_type": "code",
   "execution_count": 2,
   "metadata": {},
   "outputs": [
    {
     "name": "stdout",
     "output_type": "stream",
     "text": [
      "Requirement already satisfied: deepeval in ./venv/lib/python3.12/site-packages (2.7.3)\n",
      "Requirement already satisfied: ipykernel in ./venv/lib/python3.12/site-packages (6.29.5)\n",
      "Requirement already satisfied: aiohttp in ./venv/lib/python3.12/site-packages (from deepeval) (3.11.16)\n",
      "Requirement already satisfied: anthropic<0.50.0,>=0.49.0 in ./venv/lib/python3.12/site-packages (from deepeval) (0.49.0)\n",
      "Requirement already satisfied: black in ./venv/lib/python3.12/site-packages (from deepeval) (25.1.0)\n",
      "Requirement already satisfied: coverage in ./venv/lib/python3.12/site-packages (from deepeval) (7.8.0)\n",
      "Requirement already satisfied: google-genai<2.0.0,>=1.9.0 in ./venv/lib/python3.12/site-packages (from deepeval) (1.10.0)\n",
      "Requirement already satisfied: grpcio<2.0.0,>=1.67.1 in ./venv/lib/python3.12/site-packages (from deepeval) (1.71.0)\n",
      "Requirement already satisfied: instructor in ./venv/lib/python3.12/site-packages (from deepeval) (1.7.9)\n",
      "Requirement already satisfied: langchain_community in ./venv/lib/python3.12/site-packages (from deepeval) (0.3.21)\n",
      "Requirement already satisfied: langchain_openai in ./venv/lib/python3.12/site-packages (from deepeval) (0.3.13)\n",
      "Requirement already satisfied: llama-index in ./venv/lib/python3.12/site-packages (from deepeval) (0.12.30)\n",
      "Requirement already satisfied: ollama in ./venv/lib/python3.12/site-packages (from deepeval) (0.4.7)\n",
      "Requirement already satisfied: openai in ./venv/lib/python3.12/site-packages (from deepeval) (1.74.0)\n",
      "Requirement already satisfied: opentelemetry-api<2.0.0,>=1.24.0 in ./venv/lib/python3.12/site-packages (from deepeval) (1.32.1)\n",
      "Requirement already satisfied: opentelemetry-exporter-otlp-proto-grpc<2.0.0,>=1.24.0 in ./venv/lib/python3.12/site-packages (from deepeval) (1.32.1)\n",
      "Requirement already satisfied: opentelemetry-sdk<2.0.0,>=1.24.0 in ./venv/lib/python3.12/site-packages (from deepeval) (1.32.1)\n",
      "Requirement already satisfied: portalocker in ./venv/lib/python3.12/site-packages (from deepeval) (3.1.1)\n",
      "Requirement already satisfied: posthog<4.0.0,>=3.23.0 in ./venv/lib/python3.12/site-packages (from deepeval) (3.24.2)\n",
      "Requirement already satisfied: pytest in ./venv/lib/python3.12/site-packages (from deepeval) (8.3.5)\n",
      "Requirement already satisfied: pytest-asyncio in ./venv/lib/python3.12/site-packages (from deepeval) (0.26.0)\n",
      "Requirement already satisfied: pytest-repeat in ./venv/lib/python3.12/site-packages (from deepeval) (0.9.4)\n",
      "Requirement already satisfied: pytest-rerunfailures<13.0,>=12.0 in ./venv/lib/python3.12/site-packages (from deepeval) (12.0)\n",
      "Requirement already satisfied: pytest-xdist in ./venv/lib/python3.12/site-packages (from deepeval) (3.6.1)\n",
      "Requirement already satisfied: requests<3.0.0,>=2.31.0 in ./venv/lib/python3.12/site-packages (from deepeval) (2.32.3)\n",
      "Requirement already satisfied: rich<14.0.0,>=13.6.0 in ./venv/lib/python3.12/site-packages (from deepeval) (13.9.4)\n",
      "Requirement already satisfied: sentry-sdk in ./venv/lib/python3.12/site-packages (from deepeval) (2.26.1)\n",
      "Requirement already satisfied: setuptools in ./venv/lib/python3.12/site-packages (from deepeval) (78.1.0)\n",
      "Requirement already satisfied: tabulate<0.10.0,>=0.9.0 in ./venv/lib/python3.12/site-packages (from deepeval) (0.9.0)\n",
      "Requirement already satisfied: tenacity<=9.0.0 in ./venv/lib/python3.12/site-packages (from deepeval) (9.0.0)\n",
      "Requirement already satisfied: tqdm<5.0.0,>=4.66.1 in ./venv/lib/python3.12/site-packages (from deepeval) (4.67.1)\n",
      "Requirement already satisfied: twine==5.1.1 in ./venv/lib/python3.12/site-packages (from deepeval) (5.1.1)\n",
      "Requirement already satisfied: typer in ./venv/lib/python3.12/site-packages (from deepeval) (0.15.2)\n",
      "Requirement already satisfied: wheel in ./venv/lib/python3.12/site-packages (from deepeval) (0.45.1)\n",
      "Requirement already satisfied: pkginfo>=1.8.1 in ./venv/lib/python3.12/site-packages (from twine==5.1.1->deepeval) (1.10.0)\n",
      "Requirement already satisfied: readme-renderer>=35.0 in ./venv/lib/python3.12/site-packages (from twine==5.1.1->deepeval) (44.0)\n",
      "Requirement already satisfied: requests-toolbelt!=0.9.0,>=0.8.0 in ./venv/lib/python3.12/site-packages (from twine==5.1.1->deepeval) (1.0.0)\n",
      "Requirement already satisfied: urllib3>=1.26.0 in ./venv/lib/python3.12/site-packages (from twine==5.1.1->deepeval) (2.4.0)\n",
      "Requirement already satisfied: importlib-metadata>=3.6 in ./venv/lib/python3.12/site-packages (from twine==5.1.1->deepeval) (8.6.1)\n",
      "Requirement already satisfied: keyring>=15.1 in ./venv/lib/python3.12/site-packages (from twine==5.1.1->deepeval) (25.6.0)\n",
      "Requirement already satisfied: rfc3986>=1.4.0 in ./venv/lib/python3.12/site-packages (from twine==5.1.1->deepeval) (2.0.0)\n",
      "Requirement already satisfied: comm>=0.1.1 in ./venv/lib/python3.12/site-packages (from ipykernel) (0.2.2)\n",
      "Requirement already satisfied: debugpy>=1.6.5 in ./venv/lib/python3.12/site-packages (from ipykernel) (1.8.14)\n",
      "Requirement already satisfied: ipython>=7.23.1 in ./venv/lib/python3.12/site-packages (from ipykernel) (9.1.0)\n",
      "Requirement already satisfied: jupyter-client>=6.1.12 in ./venv/lib/python3.12/site-packages (from ipykernel) (8.6.3)\n",
      "Requirement already satisfied: jupyter-core!=5.0.*,>=4.12 in ./venv/lib/python3.12/site-packages (from ipykernel) (5.7.2)\n",
      "Requirement already satisfied: matplotlib-inline>=0.1 in ./venv/lib/python3.12/site-packages (from ipykernel) (0.1.7)\n",
      "Requirement already satisfied: nest-asyncio in ./venv/lib/python3.12/site-packages (from ipykernel) (1.6.0)\n",
      "Requirement already satisfied: packaging in ./venv/lib/python3.12/site-packages (from ipykernel) (24.2)\n",
      "Requirement already satisfied: psutil in ./venv/lib/python3.12/site-packages (from ipykernel) (7.0.0)\n",
      "Requirement already satisfied: pyzmq>=24 in ./venv/lib/python3.12/site-packages (from ipykernel) (26.4.0)\n",
      "Requirement already satisfied: tornado>=6.1 in ./venv/lib/python3.12/site-packages (from ipykernel) (6.4.2)\n",
      "Requirement already satisfied: traitlets>=5.4.0 in ./venv/lib/python3.12/site-packages (from ipykernel) (5.14.3)\n",
      "Requirement already satisfied: anyio<5,>=3.5.0 in ./venv/lib/python3.12/site-packages (from anthropic<0.50.0,>=0.49.0->deepeval) (4.9.0)\n",
      "Requirement already satisfied: distro<2,>=1.7.0 in ./venv/lib/python3.12/site-packages (from anthropic<0.50.0,>=0.49.0->deepeval) (1.9.0)\n",
      "Requirement already satisfied: httpx<1,>=0.23.0 in ./venv/lib/python3.12/site-packages (from anthropic<0.50.0,>=0.49.0->deepeval) (0.28.1)\n",
      "Requirement already satisfied: jiter<1,>=0.4.0 in ./venv/lib/python3.12/site-packages (from anthropic<0.50.0,>=0.49.0->deepeval) (0.8.2)\n",
      "Requirement already satisfied: pydantic<3,>=1.9.0 in ./venv/lib/python3.12/site-packages (from anthropic<0.50.0,>=0.49.0->deepeval) (2.11.3)\n",
      "Requirement already satisfied: sniffio in ./venv/lib/python3.12/site-packages (from anthropic<0.50.0,>=0.49.0->deepeval) (1.3.1)\n",
      "Requirement already satisfied: typing-extensions<5,>=4.10 in ./venv/lib/python3.12/site-packages (from anthropic<0.50.0,>=0.49.0->deepeval) (4.13.2)\n",
      "Requirement already satisfied: google-auth<3.0.0,>=2.14.1 in ./venv/lib/python3.12/site-packages (from google-genai<2.0.0,>=1.9.0->deepeval) (2.39.0)\n",
      "Requirement already satisfied: websockets<15.1.0,>=13.0.0 in ./venv/lib/python3.12/site-packages (from google-genai<2.0.0,>=1.9.0->deepeval) (15.0.1)\n",
      "Requirement already satisfied: decorator in ./venv/lib/python3.12/site-packages (from ipython>=7.23.1->ipykernel) (5.2.1)\n",
      "Requirement already satisfied: ipython-pygments-lexers in ./venv/lib/python3.12/site-packages (from ipython>=7.23.1->ipykernel) (1.1.1)\n",
      "Requirement already satisfied: jedi>=0.16 in ./venv/lib/python3.12/site-packages (from ipython>=7.23.1->ipykernel) (0.19.2)\n",
      "Requirement already satisfied: pexpect>4.3 in ./venv/lib/python3.12/site-packages (from ipython>=7.23.1->ipykernel) (4.9.0)\n",
      "Requirement already satisfied: prompt_toolkit<3.1.0,>=3.0.41 in ./venv/lib/python3.12/site-packages (from ipython>=7.23.1->ipykernel) (3.0.51)\n",
      "Requirement already satisfied: pygments>=2.4.0 in ./venv/lib/python3.12/site-packages (from ipython>=7.23.1->ipykernel) (2.19.1)\n",
      "Requirement already satisfied: stack_data in ./venv/lib/python3.12/site-packages (from ipython>=7.23.1->ipykernel) (0.6.3)\n",
      "Requirement already satisfied: python-dateutil>=2.8.2 in ./venv/lib/python3.12/site-packages (from jupyter-client>=6.1.12->ipykernel) (2.9.0.post0)\n",
      "Requirement already satisfied: platformdirs>=2.5 in ./venv/lib/python3.12/site-packages (from jupyter-core!=5.0.*,>=4.12->ipykernel) (4.3.7)\n",
      "Requirement already satisfied: deprecated>=1.2.6 in ./venv/lib/python3.12/site-packages (from opentelemetry-api<2.0.0,>=1.24.0->deepeval) (1.2.18)\n",
      "Requirement already satisfied: googleapis-common-protos~=1.52 in ./venv/lib/python3.12/site-packages (from opentelemetry-exporter-otlp-proto-grpc<2.0.0,>=1.24.0->deepeval) (1.70.0)\n",
      "Requirement already satisfied: opentelemetry-exporter-otlp-proto-common==1.32.1 in ./venv/lib/python3.12/site-packages (from opentelemetry-exporter-otlp-proto-grpc<2.0.0,>=1.24.0->deepeval) (1.32.1)\n",
      "Requirement already satisfied: opentelemetry-proto==1.32.1 in ./venv/lib/python3.12/site-packages (from opentelemetry-exporter-otlp-proto-grpc<2.0.0,>=1.24.0->deepeval) (1.32.1)\n",
      "Requirement already satisfied: protobuf<6.0,>=5.0 in ./venv/lib/python3.12/site-packages (from opentelemetry-proto==1.32.1->opentelemetry-exporter-otlp-proto-grpc<2.0.0,>=1.24.0->deepeval) (5.29.4)\n",
      "Requirement already satisfied: opentelemetry-semantic-conventions==0.53b1 in ./venv/lib/python3.12/site-packages (from opentelemetry-sdk<2.0.0,>=1.24.0->deepeval) (0.53b1)\n",
      "Requirement already satisfied: six>=1.5 in ./venv/lib/python3.12/site-packages (from posthog<4.0.0,>=3.23.0->deepeval) (1.17.0)\n",
      "Requirement already satisfied: monotonic>=1.5 in ./venv/lib/python3.12/site-packages (from posthog<4.0.0,>=3.23.0->deepeval) (1.6)\n",
      "Requirement already satisfied: backoff>=1.10.0 in ./venv/lib/python3.12/site-packages (from posthog<4.0.0,>=3.23.0->deepeval) (2.2.1)\n",
      "Requirement already satisfied: iniconfig in ./venv/lib/python3.12/site-packages (from pytest->deepeval) (2.1.0)\n",
      "Requirement already satisfied: pluggy<2,>=1.5 in ./venv/lib/python3.12/site-packages (from pytest->deepeval) (1.5.0)\n",
      "Requirement already satisfied: charset-normalizer<4,>=2 in ./venv/lib/python3.12/site-packages (from requests<3.0.0,>=2.31.0->deepeval) (3.4.1)\n",
      "Requirement already satisfied: idna<4,>=2.5 in ./venv/lib/python3.12/site-packages (from requests<3.0.0,>=2.31.0->deepeval) (3.10)\n",
      "Requirement already satisfied: certifi>=2017.4.17 in ./venv/lib/python3.12/site-packages (from requests<3.0.0,>=2.31.0->deepeval) (2025.1.31)\n",
      "Requirement already satisfied: markdown-it-py>=2.2.0 in ./venv/lib/python3.12/site-packages (from rich<14.0.0,>=13.6.0->deepeval) (3.0.0)\n",
      "Requirement already satisfied: aiohappyeyeballs>=2.3.0 in ./venv/lib/python3.12/site-packages (from aiohttp->deepeval) (2.6.1)\n",
      "Requirement already satisfied: aiosignal>=1.1.2 in ./venv/lib/python3.12/site-packages (from aiohttp->deepeval) (1.3.2)\n",
      "Requirement already satisfied: attrs>=17.3.0 in ./venv/lib/python3.12/site-packages (from aiohttp->deepeval) (25.3.0)\n",
      "Requirement already satisfied: frozenlist>=1.1.1 in ./venv/lib/python3.12/site-packages (from aiohttp->deepeval) (1.5.0)\n",
      "Requirement already satisfied: multidict<7.0,>=4.5 in ./venv/lib/python3.12/site-packages (from aiohttp->deepeval) (6.4.3)\n",
      "Requirement already satisfied: propcache>=0.2.0 in ./venv/lib/python3.12/site-packages (from aiohttp->deepeval) (0.3.1)\n",
      "Requirement already satisfied: yarl<2.0,>=1.17.0 in ./venv/lib/python3.12/site-packages (from aiohttp->deepeval) (1.19.0)\n",
      "Requirement already satisfied: click>=8.0.0 in ./venv/lib/python3.12/site-packages (from black->deepeval) (8.1.8)\n",
      "Requirement already satisfied: mypy-extensions>=0.4.3 in ./venv/lib/python3.12/site-packages (from black->deepeval) (1.0.0)\n",
      "Requirement already satisfied: pathspec>=0.9.0 in ./venv/lib/python3.12/site-packages (from black->deepeval) (0.12.1)\n",
      "Requirement already satisfied: docstring-parser<1.0,>=0.16 in ./venv/lib/python3.12/site-packages (from instructor->deepeval) (0.16)\n",
      "Requirement already satisfied: jinja2<4.0.0,>=3.1.4 in ./venv/lib/python3.12/site-packages (from instructor->deepeval) (3.1.6)\n",
      "Requirement already satisfied: pydantic-core<3.0.0,>=2.18.0 in ./venv/lib/python3.12/site-packages (from instructor->deepeval) (2.33.1)\n",
      "Requirement already satisfied: shellingham>=1.3.0 in ./venv/lib/python3.12/site-packages (from typer->deepeval) (1.5.4)\n",
      "Requirement already satisfied: langchain-core<1.0.0,>=0.3.51 in ./venv/lib/python3.12/site-packages (from langchain_community->deepeval) (0.3.52)\n",
      "Requirement already satisfied: langchain<1.0.0,>=0.3.23 in ./venv/lib/python3.12/site-packages (from langchain_community->deepeval) (0.3.23)\n",
      "Requirement already satisfied: SQLAlchemy<3,>=1.4 in ./venv/lib/python3.12/site-packages (from langchain_community->deepeval) (2.0.40)\n",
      "Requirement already satisfied: PyYAML>=5.3 in ./venv/lib/python3.12/site-packages (from langchain_community->deepeval) (6.0.2)\n",
      "Requirement already satisfied: dataclasses-json<0.7,>=0.5.7 in ./venv/lib/python3.12/site-packages (from langchain_community->deepeval) (0.6.7)\n",
      "Requirement already satisfied: pydantic-settings<3.0.0,>=2.4.0 in ./venv/lib/python3.12/site-packages (from langchain_community->deepeval) (2.8.1)\n",
      "Requirement already satisfied: langsmith<0.4,>=0.1.125 in ./venv/lib/python3.12/site-packages (from langchain_community->deepeval) (0.3.31)\n",
      "Requirement already satisfied: httpx-sse<1.0.0,>=0.4.0 in ./venv/lib/python3.12/site-packages (from langchain_community->deepeval) (0.4.0)\n",
      "Requirement already satisfied: numpy<3,>=1.26.2 in ./venv/lib/python3.12/site-packages (from langchain_community->deepeval) (2.2.4)\n",
      "Requirement already satisfied: tiktoken<1,>=0.7 in ./venv/lib/python3.12/site-packages (from langchain_openai->deepeval) (0.9.0)\n",
      "Requirement already satisfied: llama-index-agent-openai<0.5.0,>=0.4.0 in ./venv/lib/python3.12/site-packages (from llama-index->deepeval) (0.4.6)\n",
      "Requirement already satisfied: llama-index-cli<0.5.0,>=0.4.1 in ./venv/lib/python3.12/site-packages (from llama-index->deepeval) (0.4.1)\n",
      "Requirement already satisfied: llama-index-core<0.13.0,>=0.12.30 in ./venv/lib/python3.12/site-packages (from llama-index->deepeval) (0.12.30)\n",
      "Requirement already satisfied: llama-index-embeddings-openai<0.4.0,>=0.3.0 in ./venv/lib/python3.12/site-packages (from llama-index->deepeval) (0.3.1)\n",
      "Requirement already satisfied: llama-index-indices-managed-llama-cloud>=0.4.0 in ./venv/lib/python3.12/site-packages (from llama-index->deepeval) (0.6.11)\n",
      "Requirement already satisfied: llama-index-llms-openai<0.4.0,>=0.3.0 in ./venv/lib/python3.12/site-packages (from llama-index->deepeval) (0.3.35)\n",
      "Requirement already satisfied: llama-index-multi-modal-llms-openai<0.5.0,>=0.4.0 in ./venv/lib/python3.12/site-packages (from llama-index->deepeval) (0.4.3)\n",
      "Requirement already satisfied: llama-index-program-openai<0.4.0,>=0.3.0 in ./venv/lib/python3.12/site-packages (from llama-index->deepeval) (0.3.1)\n",
      "Requirement already satisfied: llama-index-question-gen-openai<0.4.0,>=0.3.0 in ./venv/lib/python3.12/site-packages (from llama-index->deepeval) (0.3.0)\n",
      "Requirement already satisfied: llama-index-readers-file<0.5.0,>=0.4.0 in ./venv/lib/python3.12/site-packages (from llama-index->deepeval) (0.4.7)\n",
      "Requirement already satisfied: llama-index-readers-llama-parse>=0.4.0 in ./venv/lib/python3.12/site-packages (from llama-index->deepeval) (0.4.0)\n",
      "Requirement already satisfied: nltk>3.8.1 in ./venv/lib/python3.12/site-packages (from llama-index->deepeval) (3.9.1)\n",
      "Requirement already satisfied: execnet>=2.1 in ./venv/lib/python3.12/site-packages (from pytest-xdist->deepeval) (2.1.1)\n",
      "Requirement already satisfied: marshmallow<4.0.0,>=3.18.0 in ./venv/lib/python3.12/site-packages (from dataclasses-json<0.7,>=0.5.7->langchain_community->deepeval) (3.26.1)\n",
      "Requirement already satisfied: typing-inspect<1,>=0.4.0 in ./venv/lib/python3.12/site-packages (from dataclasses-json<0.7,>=0.5.7->langchain_community->deepeval) (0.9.0)\n",
      "Requirement already satisfied: wrapt<2,>=1.10 in ./venv/lib/python3.12/site-packages (from deprecated>=1.2.6->opentelemetry-api<2.0.0,>=1.24.0->deepeval) (1.17.2)\n",
      "Requirement already satisfied: cachetools<6.0,>=2.0.0 in ./venv/lib/python3.12/site-packages (from google-auth<3.0.0,>=2.14.1->google-genai<2.0.0,>=1.9.0->deepeval) (5.5.2)\n",
      "Requirement already satisfied: pyasn1-modules>=0.2.1 in ./venv/lib/python3.12/site-packages (from google-auth<3.0.0,>=2.14.1->google-genai<2.0.0,>=1.9.0->deepeval) (0.4.2)\n",
      "Requirement already satisfied: rsa<5,>=3.1.4 in ./venv/lib/python3.12/site-packages (from google-auth<3.0.0,>=2.14.1->google-genai<2.0.0,>=1.9.0->deepeval) (4.9)\n",
      "Requirement already satisfied: httpcore==1.* in ./venv/lib/python3.12/site-packages (from httpx<1,>=0.23.0->anthropic<0.50.0,>=0.49.0->deepeval) (1.0.8)\n",
      "Requirement already satisfied: h11<0.15,>=0.13 in ./venv/lib/python3.12/site-packages (from httpcore==1.*->httpx<1,>=0.23.0->anthropic<0.50.0,>=0.49.0->deepeval) (0.14.0)\n",
      "Requirement already satisfied: zipp>=3.20 in ./venv/lib/python3.12/site-packages (from importlib-metadata>=3.6->twine==5.1.1->deepeval) (3.21.0)\n",
      "Requirement already satisfied: parso<0.9.0,>=0.8.4 in ./venv/lib/python3.12/site-packages (from jedi>=0.16->ipython>=7.23.1->ipykernel) (0.8.4)\n",
      "Requirement already satisfied: MarkupSafe>=2.0 in ./venv/lib/python3.12/site-packages (from jinja2<4.0.0,>=3.1.4->instructor->deepeval) (3.0.2)\n",
      "Requirement already satisfied: SecretStorage>=3.2 in ./venv/lib/python3.12/site-packages (from keyring>=15.1->twine==5.1.1->deepeval) (3.3.3)\n",
      "Requirement already satisfied: jeepney>=0.4.2 in ./venv/lib/python3.12/site-packages (from keyring>=15.1->twine==5.1.1->deepeval) (0.9.0)\n",
      "Requirement already satisfied: jaraco.classes in ./venv/lib/python3.12/site-packages (from keyring>=15.1->twine==5.1.1->deepeval) (3.4.0)\n",
      "Requirement already satisfied: jaraco.functools in ./venv/lib/python3.12/site-packages (from keyring>=15.1->twine==5.1.1->deepeval) (4.1.0)\n",
      "Requirement already satisfied: jaraco.context in ./venv/lib/python3.12/site-packages (from keyring>=15.1->twine==5.1.1->deepeval) (6.0.1)\n",
      "Requirement already satisfied: langchain-text-splitters<1.0.0,>=0.3.8 in ./venv/lib/python3.12/site-packages (from langchain<1.0.0,>=0.3.23->langchain_community->deepeval) (0.3.8)\n",
      "Requirement already satisfied: jsonpatch<2.0,>=1.33 in ./venv/lib/python3.12/site-packages (from langchain-core<1.0.0,>=0.3.51->langchain_community->deepeval) (1.33)\n",
      "Requirement already satisfied: orjson<4.0.0,>=3.9.14 in ./venv/lib/python3.12/site-packages (from langsmith<0.4,>=0.1.125->langchain_community->deepeval) (3.10.16)\n",
      "Requirement already satisfied: zstandard<0.24.0,>=0.23.0 in ./venv/lib/python3.12/site-packages (from langsmith<0.4,>=0.1.125->langchain_community->deepeval) (0.23.0)\n",
      "Requirement already satisfied: banks<3.0.0,>=2.0.0 in ./venv/lib/python3.12/site-packages (from llama-index-core<0.13.0,>=0.12.30->llama-index->deepeval) (2.1.1)\n",
      "Requirement already satisfied: dirtyjson<2.0.0,>=1.0.8 in ./venv/lib/python3.12/site-packages (from llama-index-core<0.13.0,>=0.12.30->llama-index->deepeval) (1.0.8)\n",
      "Requirement already satisfied: filetype<2.0.0,>=1.2.0 in ./venv/lib/python3.12/site-packages (from llama-index-core<0.13.0,>=0.12.30->llama-index->deepeval) (1.2.0)\n",
      "Requirement already satisfied: fsspec>=2023.5.0 in ./venv/lib/python3.12/site-packages (from llama-index-core<0.13.0,>=0.12.30->llama-index->deepeval) (2025.3.2)\n",
      "Requirement already satisfied: networkx>=3.0 in ./venv/lib/python3.12/site-packages (from llama-index-core<0.13.0,>=0.12.30->llama-index->deepeval) (3.4.2)\n",
      "Requirement already satisfied: pillow>=9.0.0 in ./venv/lib/python3.12/site-packages (from llama-index-core<0.13.0,>=0.12.30->llama-index->deepeval) (11.2.1)\n",
      "Requirement already satisfied: llama-cloud<0.2.0,>=0.1.13 in ./venv/lib/python3.12/site-packages (from llama-index-indices-managed-llama-cloud>=0.4.0->llama-index->deepeval) (0.1.18)\n",
      "Requirement already satisfied: beautifulsoup4<5.0.0,>=4.12.3 in ./venv/lib/python3.12/site-packages (from llama-index-readers-file<0.5.0,>=0.4.0->llama-index->deepeval) (4.13.4)\n",
      "Requirement already satisfied: pandas in ./venv/lib/python3.12/site-packages (from llama-index-readers-file<0.5.0,>=0.4.0->llama-index->deepeval) (2.2.3)\n",
      "Requirement already satisfied: pypdf<6.0.0,>=5.1.0 in ./venv/lib/python3.12/site-packages (from llama-index-readers-file<0.5.0,>=0.4.0->llama-index->deepeval) (5.4.0)\n",
      "Requirement already satisfied: striprtf<0.0.27,>=0.0.26 in ./venv/lib/python3.12/site-packages (from llama-index-readers-file<0.5.0,>=0.4.0->llama-index->deepeval) (0.0.26)\n",
      "Requirement already satisfied: llama-parse>=0.5.0 in ./venv/lib/python3.12/site-packages (from llama-index-readers-llama-parse>=0.4.0->llama-index->deepeval) (0.6.12)\n",
      "Requirement already satisfied: mdurl~=0.1 in ./venv/lib/python3.12/site-packages (from markdown-it-py>=2.2.0->rich<14.0.0,>=13.6.0->deepeval) (0.1.2)\n",
      "Requirement already satisfied: joblib in ./venv/lib/python3.12/site-packages (from nltk>3.8.1->llama-index->deepeval) (1.4.2)\n",
      "Requirement already satisfied: regex>=2021.8.3 in ./venv/lib/python3.12/site-packages (from nltk>3.8.1->llama-index->deepeval) (2024.11.6)\n",
      "Requirement already satisfied: ptyprocess>=0.5 in ./venv/lib/python3.12/site-packages (from pexpect>4.3->ipython>=7.23.1->ipykernel) (0.7.0)\n",
      "Requirement already satisfied: wcwidth in ./venv/lib/python3.12/site-packages (from prompt_toolkit<3.1.0,>=3.0.41->ipython>=7.23.1->ipykernel) (0.2.13)\n",
      "Requirement already satisfied: annotated-types>=0.6.0 in ./venv/lib/python3.12/site-packages (from pydantic<3,>=1.9.0->anthropic<0.50.0,>=0.49.0->deepeval) (0.7.0)\n",
      "Requirement already satisfied: typing-inspection>=0.4.0 in ./venv/lib/python3.12/site-packages (from pydantic<3,>=1.9.0->anthropic<0.50.0,>=0.49.0->deepeval) (0.4.0)\n",
      "Requirement already satisfied: python-dotenv>=0.21.0 in ./venv/lib/python3.12/site-packages (from pydantic-settings<3.0.0,>=2.4.0->langchain_community->deepeval) (1.1.0)\n",
      "Requirement already satisfied: nh3>=0.2.14 in ./venv/lib/python3.12/site-packages (from readme-renderer>=35.0->twine==5.1.1->deepeval) (0.2.21)\n",
      "Requirement already satisfied: docutils>=0.21.2 in ./venv/lib/python3.12/site-packages (from readme-renderer>=35.0->twine==5.1.1->deepeval) (0.21.2)\n",
      "Requirement already satisfied: greenlet>=1 in ./venv/lib/python3.12/site-packages (from SQLAlchemy<3,>=1.4->langchain_community->deepeval) (3.2.0)\n",
      "Requirement already satisfied: executing>=1.2.0 in ./venv/lib/python3.12/site-packages (from stack_data->ipython>=7.23.1->ipykernel) (2.2.0)\n",
      "Requirement already satisfied: asttokens>=2.1.0 in ./venv/lib/python3.12/site-packages (from stack_data->ipython>=7.23.1->ipykernel) (3.0.0)\n",
      "Requirement already satisfied: pure-eval in ./venv/lib/python3.12/site-packages (from stack_data->ipython>=7.23.1->ipykernel) (0.2.3)\n",
      "Requirement already satisfied: griffe in ./venv/lib/python3.12/site-packages (from banks<3.0.0,>=2.0.0->llama-index-core<0.13.0,>=0.12.30->llama-index->deepeval) (1.7.2)\n",
      "Requirement already satisfied: soupsieve>1.2 in ./venv/lib/python3.12/site-packages (from beautifulsoup4<5.0.0,>=4.12.3->llama-index-readers-file<0.5.0,>=0.4.0->llama-index->deepeval) (2.6)\n",
      "Requirement already satisfied: jsonpointer>=1.9 in ./venv/lib/python3.12/site-packages (from jsonpatch<2.0,>=1.33->langchain-core<1.0.0,>=0.3.51->langchain_community->deepeval) (3.0.0)\n",
      "Requirement already satisfied: llama-cloud-services>=0.6.12 in ./venv/lib/python3.12/site-packages (from llama-parse>=0.5.0->llama-index-readers-llama-parse>=0.4.0->llama-index->deepeval) (0.6.12)\n",
      "Requirement already satisfied: pyasn1<0.7.0,>=0.6.1 in ./venv/lib/python3.12/site-packages (from pyasn1-modules>=0.2.1->google-auth<3.0.0,>=2.14.1->google-genai<2.0.0,>=1.9.0->deepeval) (0.6.1)\n",
      "Requirement already satisfied: cryptography>=2.0 in ./venv/lib/python3.12/site-packages (from SecretStorage>=3.2->keyring>=15.1->twine==5.1.1->deepeval) (44.0.2)\n",
      "Requirement already satisfied: more-itertools in ./venv/lib/python3.12/site-packages (from jaraco.classes->keyring>=15.1->twine==5.1.1->deepeval) (10.6.0)\n",
      "Requirement already satisfied: pytz>=2020.1 in ./venv/lib/python3.12/site-packages (from pandas->llama-index-readers-file<0.5.0,>=0.4.0->llama-index->deepeval) (2025.2)\n",
      "Requirement already satisfied: tzdata>=2022.7 in ./venv/lib/python3.12/site-packages (from pandas->llama-index-readers-file<0.5.0,>=0.4.0->llama-index->deepeval) (2025.2)\n",
      "Requirement already satisfied: cffi>=1.12 in ./venv/lib/python3.12/site-packages (from cryptography>=2.0->SecretStorage>=3.2->keyring>=15.1->twine==5.1.1->deepeval) (1.17.1)\n",
      "Requirement already satisfied: colorama>=0.4 in ./venv/lib/python3.12/site-packages (from griffe->banks<3.0.0,>=2.0.0->llama-index-core<0.13.0,>=0.12.30->llama-index->deepeval) (0.4.6)\n",
      "Requirement already satisfied: pycparser in ./venv/lib/python3.12/site-packages (from cffi>=1.12->cryptography>=2.0->SecretStorage>=3.2->keyring>=15.1->twine==5.1.1->deepeval) (2.22)\n",
      "\n",
      "\u001b[1m[\u001b[0m\u001b[34;49mnotice\u001b[0m\u001b[1;39;49m]\u001b[0m\u001b[39;49m A new release of pip is available: \u001b[0m\u001b[31;49m24.3.1\u001b[0m\u001b[39;49m -> \u001b[0m\u001b[32;49m25.0.1\u001b[0m\n",
      "\u001b[1m[\u001b[0m\u001b[34;49mnotice\u001b[0m\u001b[1;39;49m]\u001b[0m\u001b[39;49m To update, run: \u001b[0m\u001b[32;49mpip install --upgrade pip\u001b[0m\n",
      "Virtual environment 'venv' has been created and packages installed.\n",
      "Important: You need to manually select this kernel in your notebook:\n",
      "1. Restart the kernel\n",
      "2. Select the 'venv' kernel from the kernel menu\n"
     ]
    }
   ],
   "source": [
    "setup_venv(venv_exists=False, name=\"venv\")"
   ]
  },
  {
   "cell_type": "code",
   "execution_count": 3,
   "metadata": {},
   "outputs": [
    {
     "name": "stdout",
     "output_type": "stream",
     "text": [
      "Name: deepeval\n",
      "Version: 2.7.3\n",
      "Summary: The LLM Evaluation Framework\n",
      "Home-page: https://github.com/confident-ai/deepeval\n",
      "Author: Jeffrey Ip\n",
      "Author-email: jeffreyip@confident-ai.com\n",
      "License: Apache-2.0\n",
      "Location: /home/p3tr0vv/Desktop/Evaluation-Approaches-for-Retrieval-Augmented-Generation-RAG-/evaluation/deepeval/venv/lib/python3.12/site-packages\n",
      "Requires: aiohttp, anthropic, black, coverage, google-genai, grpcio, instructor, langchain_community, langchain_openai, llama-index, ollama, openai, opentelemetry-api, opentelemetry-exporter-otlp-proto-grpc, opentelemetry-sdk, portalocker, posthog, pytest, pytest-asyncio, pytest-repeat, pytest-rerunfailures, pytest-xdist, requests, rich, sentry-sdk, setuptools, tabulate, tenacity, tqdm, twine, typer, wheel\n",
      "Required-by: \n"
     ]
    }
   ],
   "source": [
    "# After installing dependencies and selecting the kernel you should be good to go.\n",
    "# Make sure the package is installed before continuing further.\n",
    "!pip3 show deepeval"
   ]
  },
  {
   "cell_type": "markdown",
   "metadata": {},
   "source": [
    "### LLM provider\n",
    "\n",
    "**DeepEval** uses **OpenAI** by default as a LLM, however **Ollama** is also available. To use it execute the code cell below. This will generate a `.deepeval` file where key-value pairs will be stored about that particular LLM-provider like model name, base url and so on. "
   ]
  },
  {
   "cell_type": "code",
   "execution_count": 1,
   "metadata": {},
   "outputs": [
    {
     "name": "stdout",
     "output_type": "stream",
     "text": [
      "🙌 Congratulations! You're now using a local Ollama model for all evals that \n",
      "require an LLM.\n",
      "🙌 Congratulations! You're now using Ollama embeddings for all evals that \n",
      "require text embeddings.\n"
     ]
    }
   ],
   "source": [
    "!deepeval set-ollama llama3.1 --base-url=\"http://localhost:11434/\"\n",
    "!deepeval set-ollama-embeddings mxbai-embed-large --base-url=\"http://localhost:11434\""
   ]
  },
  {
   "cell_type": "markdown",
   "metadata": {},
   "source": [
    "### Extracting chunks from knowledge base to be used as context in data generation"
   ]
  },
  {
   "cell_type": "code",
   "execution_count": 2,
   "metadata": {},
   "outputs": [
    {
     "name": "stdout",
     "output_type": "stream",
     "text": [
      "Data directory already exists. Skipping download.\n",
      "Virtual environment already exists. Skipping creation.\n",
      "Dependencies already installed. Skipping installation.\n",
      "Environment is set and ready to be used\n",
      "Error when creating document: {'message': 'Document 88fa13ca-5921-590f-8693-408b1ed047bf already exists. Submit a DELETE request to `/documents/{document_id}` to delete this document and allow for re-ingestion.', 'error_type': 'R2RException'}\n",
      "Error when creating document: {'message': 'Document bf55e614-3330-5283-a759-ea1bfa15a655 already exists. Submit a DELETE request to `/documents/{document_id}` to delete this document and allow for re-ingestion.', 'error_type': 'R2RException'}\n",
      "Error when creating document: {'message': 'Document d7c24a75-99ba-5b84-8339-5a9188be0580 already exists. Submit a DELETE request to `/documents/{document_id}` to delete this document and allow for re-ingestion.', 'error_type': 'R2RException'}\n",
      "Error when creating document: {'message': 'Document 2a9978ac-84fd-5644-8633-dcc90e19c123 already exists. Submit a DELETE request to `/documents/{document_id}` to delete this document and allow for re-ingestion.', 'error_type': 'R2RException'}\n",
      "Error when creating document: {'message': 'Document a5ef7ed6-02c2-5a86-9299-fff661c1e7f7 already exists. Submit a DELETE request to `/documents/{document_id}` to delete this document and allow for re-ingestion.', 'error_type': 'R2RException'}\n",
      "Error when creating document: {'message': 'Document 6530a034-daa1-5198-b340-563b5e45ca2b already exists. Submit a DELETE request to `/documents/{document_id}` to delete this document and allow for re-ingestion.', 'error_type': 'R2RException'}\n",
      "Error when creating document: {'message': 'Document db0faff8-f57f-5459-91f4-92f611106fa1 already exists. Submit a DELETE request to `/documents/{document_id}` to delete this document and allow for re-ingestion.', 'error_type': 'R2RException'}\n",
      "Error when creating document: {'message': 'Document 15bea571-fbd0-5ed6-a1c2-5bb70b6b7f36 already exists. Submit a DELETE request to `/documents/{document_id}` to delete this document and allow for re-ingestion.', 'error_type': 'R2RException'}\n",
      "INGESTION STEP COMPLETED...\n",
      "EXTRACTION STEP COMPLETED...\n",
      "SAVED TO JSON FILE...\n",
      "Data extracted and saved to chunks.json\n",
      "chunks.json  evaluate.ipynb\textract_context_chunks.sh  prompts   venv\n",
      "data\t     extract_chunks.py\tgenerate.ipynb\t\t   r2r_venv\n"
     ]
    }
   ],
   "source": [
    "!chmod u+x ./extract_context_chunks.sh\n",
    "!./extract_context_chunks.sh\n",
    "!ls # There should be a chunks.json file"
   ]
  },
  {
   "cell_type": "markdown",
   "metadata": {},
   "source": [
    "**Filtration config** serves as a way to configure the quality of the generated synthetic input queries. Having higher threshold would ensure that the input queries are of higher quality.\n",
    "\n",
    "If the **quality_score** is still lower than the **synthetic_input_quality_threshold** after **max_quality_retries**, the **golden with the highest quality_score** will be used."
   ]
  },
  {
   "cell_type": "code",
   "execution_count": 3,
   "metadata": {},
   "outputs": [],
   "source": [
    "from deepeval.synthesizer.config import FiltrationConfig\n",
    "\n",
    "filtration_config = FiltrationConfig(\n",
    "    synthetic_input_quality_threshold=0.7,\n",
    "    max_quality_retries=5\n",
    ")"
   ]
  },
  {
   "cell_type": "markdown",
   "metadata": {},
   "source": [
    "**Evolutions** are used to specify the type of approach to use when trying to complicate the synthetic queries. Since this is a **RAG** application I will only use the evolution types which use **context**. By setting `num_evolutions` to three, we make the **Synthesizer** go over iteratively over the process of complicating the queries 3 times."
   ]
  },
  {
   "cell_type": "code",
   "execution_count": 4,
   "metadata": {},
   "outputs": [],
   "source": [
    "from deepeval.synthesizer.config import (\n",
    "    Evolution,\n",
    "    EvolutionConfig,\n",
    ")\n",
    "\n",
    "# https://www.deepeval.com/docs/synthesizer-introduction\n",
    "evolution_config = EvolutionConfig(\n",
    "    num_evolutions=3,\n",
    "    evolutions={\n",
    "        Evolution.MULTICONTEXT: 0.25,\n",
    "        Evolution.CONCRETIZING: 0.25,\n",
    "        Evolution.CONSTRAINED: 0.25,\n",
    "        Evolution.COMPARATIVE: 0.25,\n",
    "    }\n",
    ")"
   ]
  },
  {
   "cell_type": "code",
   "execution_count": 5,
   "metadata": {},
   "outputs": [],
   "source": [
    "from deepeval.synthesizer import Synthesizer\n",
    "\n",
    "synthesizer = Synthesizer(\n",
    "    filtration_config=filtration_config,\n",
    "    evolution_config=evolution_config\n",
    ")"
   ]
  },
  {
   "cell_type": "code",
   "execution_count": 6,
   "metadata": {},
   "outputs": [],
   "source": [
    "import os\n",
    "import json\n",
    "\n",
    "with open(file=\"chunks.json\", mode=\"r\", encoding=\"utf-8\") as f:\n",
    "    context_chunks = json.load(f)\n",
    "\n",
    "source_files = []\n",
    "for file in os.listdir(\"data\"):\n",
    "    if file.endswith(\".md\") and file != \"README.md\":  \n",
    "        source_files.append(f\"data/{file}\")"
   ]
  },
  {
   "cell_type": "code",
   "execution_count": 7,
   "metadata": {},
   "outputs": [
    {
     "name": "stderr",
     "output_type": "stream",
     "text": [
      "✨ Generating up to 56 goldens using DeepEval (using llama3.1 (Ollama), method=default): 100%|██████████| 56/56 [1:29:59<00:00, 96.42s/it]  \n"
     ]
    }
   ],
   "source": [
    "from deepeval.dataset.golden import Golden\n",
    "\n",
    "goldens: list[Golden] = synthesizer.generate_goldens_from_contexts(\n",
    "    contexts=context_chunks,\n",
    "    include_expected_output=True,\n",
    "    max_goldens_per_context=7,\n",
    "    source_files=source_files\n",
    ")"
   ]
  },
  {
   "cell_type": "markdown",
   "metadata": {},
   "source": [
    "### Confident AI\n",
    "\n",
    "1. In short **Confident AI** is a cloud-based platform part of the **DeepEval** framework, which stores **datasets**, **evaluations** and **monitoring data**. \n",
    "\n",
    "2. If you want to use **Confident AI** platform create an account from here: [Confident AI](https://www.confident-ai.com/)\n",
    "\n",
    "3. After signing-up an **API key** will be generated, which can be used to interact with the platform from inside the notebook.\n",
    "\n",
    "---\n",
    "\n",
    "Example of .env file:\n",
    "```bash\n",
    "DEEPEVAL_RESULTS_FOLDER=<folder> # Results of evaluations can be saved locally\n",
    "DEEPEVAL_API_KEY=<your api key>  # Relevant if you want to use Confident AI\n",
    "DEEPEVAL_TELEMETRY_OPT_OUT=\"YES\" # Remove telemetry\n",
    "```"
   ]
  },
  {
   "cell_type": "code",
   "execution_count": 13,
   "metadata": {},
   "outputs": [
    {
     "data": {
      "text/html": [
       "<pre style=\"white-space:pre;overflow-x:auto;line-height:normal;font-family:Menlo,'DejaVu Sans Mono',consolas,'Courier New',monospace\">🎉🥳 Congratulations! You've successfully logged in! 🙌 \n",
       "</pre>\n"
      ],
      "text/plain": [
       "🎉🥳 Congratulations! You've successfully logged in! 🙌 \n"
      ]
     },
     "metadata": {},
     "output_type": "display_data"
    }
   ],
   "source": [
    "import os\n",
    "from dotenv import load_dotenv\n",
    "from deepeval import login_with_confident_api_key\n",
    "\n",
    "# Loads the environment variables from a `.env` file.\n",
    "# If you want to use Confident AI be sure to create one in this directory.\n",
    "load_dotenv()\n",
    "\n",
    "deepeval_api_key: str = os.getenv(\"DEEPEVAL_API_KEY\")\n",
    "\n",
    "# You should get a message letting you know you are logged-in.\n",
    "login_with_confident_api_key(deepeval_api_key)"
   ]
  },
  {
   "cell_type": "code",
   "execution_count": 14,
   "metadata": {},
   "outputs": [
    {
     "data": {
      "text/html": [
       "<pre style=\"white-space:pre;overflow-x:auto;line-height:normal;font-family:Menlo,'DejaVu Sans Mono',consolas,'Courier New',monospace\">✅ Dataset successfully pushed to Confident AI! View at \n",
       "<a href=\"https://app.confident-ai.com/project/cm8yaugri01pu126xyl2ybbmz/datasets/cm9k8fxwr38bcozrwh2ejr2o9\" target=\"_blank\"><span style=\"color: #0000ff; text-decoration-color: #0000ff; text-decoration: underline\">https://app.confident-ai.com/project/cm8yaugri01pu126xyl2ybbmz/datasets/cm9k8fxwr38bcozrwh2ejr2o9</span></a>\n",
       "</pre>\n"
      ],
      "text/plain": [
       "✅ Dataset successfully pushed to Confident AI! View at \n",
       "\u001b]8;id=999592;https://app.confident-ai.com/project/cm8yaugri01pu126xyl2ybbmz/datasets/cm9k8fxwr38bcozrwh2ejr2o9\u001b\\\u001b[4;94mhttps://app.confident-ai.com/project/cm8yaugri01pu126xyl2ybbmz/datasets/cm9k8fxwr38bcozrwh2ejr2o9\u001b[0m\u001b]8;;\u001b\\\n"
      ]
     },
     "metadata": {},
     "output_type": "display_data"
    },
    {
     "name": "stderr",
     "output_type": "stream",
     "text": [
      "Gtk-Message: 20:55:56.337: Failed to load module \"canberra-gtk-module\"\n",
      "Gtk-Message: 20:55:56.338: Failed to load module \"canberra-gtk-module\"\n"
     ]
    },
    {
     "name": "stdout",
     "output_type": "stream",
     "text": [
      "Opening in existing browser session.\n"
     ]
    }
   ],
   "source": [
    "from deepeval.dataset import EvaluationDataset\n",
    "\n",
    "dataset = EvaluationDataset(goldens=goldens)\n",
    "dataset.push(alias=\"DeepEval Dataset\")"
   ]
  },
  {
   "cell_type": "code",
   "execution_count": 16,
   "metadata": {},
   "outputs": [
    {
     "data": {
      "text/plain": [
       "{'input': 'How can I modify an existing booking online, considering fare rules and restrictions, and what are the steps to contact Ragas Airlines customer service?',\n",
       " 'actual_output': None,\n",
       " 'expected_output': 'To modify an existing booking online, follow these steps:\\n\\n1. Visit the Ragas Airlines Website at **www.ragasairlines.com** and click on the \"Manage My Booking\" section.\\n2. Enter your **Booking Reference Number** and **Last Name**, then click \"Retrieve Booking\".\\n3. Review your ticket\\'s **fare conditions** to see if modifications are allowed, as some tickets may be non-changeable or require a fee.\\n4. If modifications are permitted, select the modification option (e.g., change date, time, destination, or seat selection).\\n5. Pay any additional fees, including fare differences or modification fees, and confirm the new booking.\\n\\nIf you encounter issues modifying your booking, check if there are fare rules restrictions or explore alternative options such as purchasing a new ticket. If you still need assistance, follow these steps to contact Ragas Airlines customer service:\\n\\n1. Ensure you have your **booking reference number** ready.\\n2. Call **customer support** and provide your booking details.\\n3. Explain your situation and any exceptional circumstances (e.g., medical emergencies).\\n4. Customer service representatives may offer a waiver for changes, the ability to use travel credit instead of changing your flight, or guide you through the modification process.\\n\\nFor more information on modifying bookings or resolving potential issues, refer to the \"Viewing and Modifying Bookings\" section in the provided text or contact Ragas Airlines customer support.',\n",
       " 'context': ['# *\\n\\nManaging Reservations**\\n\\nManaging your reservation is essential for making changes, upgrading seats, or canceling a booking when necessary. Below is an **extreme verbose and detailed breakdown** of how to view, modify, and cancel a booking.\\n\\n---\\n\\n## *\\n\\nViewing and Modifying Bookings**\\n\\n### **1: Accessing Your Booking Online** To view or modify your reservation online, follow these steps:\\n\\n1. **Visit the Ragas Airlines Website** - Open your web browser and go to **www.ragasairlines.com**. - Click on the **\"Manage My Booking\"** section (found in the top navigation menu).\\n\\n2. **Enter Your Booking Details** - You will be prompted to enter: - **Booking Reference Number** (This can be found in your confirmation email). - **Last Name** (As it appears on the ticket). - Click **“Retrieve Booking”**.',\n",
       "  '3. **View Your Flight Details** - Once logged in, you will see your **flight itinerary**, including: - Departure & arrival details. - Seat assignments. - Baggage allowance. - Special requests (if any).\\n\\n---\\n\\n### **2: Modifying Your Booking** If you need to change your flight, follow these steps:\\n\\n1. **Check Fare Rules & Availability** - Review your ticket’s **fare conditions** to see if modifications are allowed. - Some tickets may be **non-changeable or require a fee**.\\n\\n2. **Select Modification Option** - Click **\"Modify Flight\"** to change: - **Date or time of travel**. - **Destination** (if permitted by fare rules). - **Seat selection** (if upgrading to premium seating).\\n\\n3. **Pay Any Additional Fees** - If the new flight has a higher fare, you must **pay the fare difference**. - Some changes may include a **modification fee**.\\n\\n4. **Confirm the New Booking** - Once changes are made, click **“Confirm”**. - A new confirmation email will be sent with the updated itinerary.\\n\\n---\\n\\n### *',\n",
       "  '3: Canceling Your Booking*\\n\\nTo cancel a booking:\\n\\n1. **Go to \"Manage My Booking\"** - Enter your **booking reference number** and **last name**.\\n\\n2. **Click “Cancel Flight”** - If cancellation is allowed, you will see the **refund eligibility details**.\\n\\n3. **Review Refund or Credit Options** - If your ticket is **refundable**, you will receive a refund to your original payment method. - If **non-refundable**, you may receive: - A **travel credit** for future use (minus cancellation fees). - No refund at all (for some promotional fares).\\n\\n4. *\\n\\nSubmit Cancellation Request*\\n\\nClick *\\n\\n\"Confirm Cancellation\"*\\n\\nand note the *\\n\\nrefund tracking number*\\n\\n.\\n\\n5. **Receive Refund (If Applicable)** - Refunds typically take: - **7 business days** for credit/debit card payments. - **20 business days** for bank transfers or other methods.\\n\\n---',\n",
       "  '## **Potential Issues and Resolutions for Managing Reservations**\\n\\n### **1. Unable to Access Booking** If you cannot retrieve your booking online:\\n\\n**Step 1: Double-Check Your Details** - Ensure your **booking reference number** and **last name** match exactly as per the ticket.\\n\\n**Step 2: Clear Browser Cache & Cookies** - If the page is not loading, clear your **browser cache** or try using a different browser.\\n\\n**Step 3: Contact Customer Service** - If you still can’t access your reservation, call **customer support** and provide: - Your **booking reference number**. - The **email or phone number** used during booking.',\n",
       "  '---\\n\\n### **2. Modification Restrictions** Some tickets have restrictions on changes. If you cannot modify your flight:\\n\\n**Step 1: Check Fare Rules** - Log in to \"Manage My Booking\" and check the **ticket conditions**.\\n\\n**Step 2: Explore Alternative Options** - If your ticket is **non-changeable**, you may need to **purchase a new ticket**.\\n\\n**Step 3: Contact Customer Service** - Explain your situation to a representative. They might offer: - A **waiver for changes** (in case of medical emergencies or exceptional circumstances). - The ability to **use travel credit** instead of changing your flight.\\n\\n---'],\n",
       " 'retrieval_context': None,\n",
       " 'additional_metadata': {'evolutions': ['Concretizing',\n",
       "   'Concretizing',\n",
       "   'Multi-context'],\n",
       "  'synthetic_input_quality': 0.8},\n",
       " 'comments': None,\n",
       " 'tools_called': None,\n",
       " 'expected_tools': None,\n",
       " 'source_file': 'data/bookings.md'}"
      ]
     },
     "execution_count": 16,
     "metadata": {},
     "output_type": "execute_result"
    }
   ],
   "source": [
    "goldens[-2].model_dump()"
   ]
  }
 ],
 "metadata": {
  "kernelspec": {
   "display_name": "venv",
   "language": "python",
   "name": "python3"
  },
  "language_info": {
   "codemirror_mode": {
    "name": "ipython",
    "version": 3
   },
   "file_extension": ".py",
   "mimetype": "text/x-python",
   "name": "python",
   "nbconvert_exporter": "python",
   "pygments_lexer": "ipython3",
   "version": "3.12.9"
  }
 },
 "nbformat": 4,
 "nbformat_minor": 2
}
