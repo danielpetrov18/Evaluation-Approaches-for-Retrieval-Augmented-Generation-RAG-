{
 "cells": [
  {
   "cell_type": "code",
   "execution_count": null,
   "metadata": {},
   "outputs": [],
   "source": [
    "import nest_asyncio\n",
    "from r2r import R2RClient, R2RException\n",
    "\n",
    "nest_asyncio.apply()\n",
    "\n",
    "client = R2RClient(\n",
    "    base_url='http://localhost:7272',\n",
    "    timeout=600\n",
    ")"
   ]
  },
  {
   "cell_type": "code",
   "execution_count": 2,
   "metadata": {},
   "outputs": [],
   "source": [
    "with open(file=\"./questions.txt\", mode=\"r\", encoding=\"utf-8\") as f:\n",
    "    questions = f.readlines()\n",
    "    questions = [q.strip() for q in questions]"
   ]
  },
  {
   "cell_type": "code",
   "execution_count": 3,
   "metadata": {},
   "outputs": [],
   "source": [
    "search_settings = {\n",
    "    \"use_semantic_search\": True,\n",
    "    \"limit\": 3,\n",
    "    \"offset\": 0,\n",
    "    \"include_metadatas\": True,\n",
    "    \"include_scores\": True,\n",
    "    \"search_strategy\": \"vanilla\",\n",
    "}\n",
    "\n",
    "rag_generation_config = {\n",
    "    \"temperature\": 0.1,\n",
    "    \"top_p\": 1,\n",
    "    \"max_tokens_to_sample\": 2048\n",
    "}"
   ]
  },
  {
   "cell_type": "code",
   "execution_count": null,
   "metadata": {},
   "outputs": [
    {
     "name": "stdout",
     "output_type": "stream",
     "text": [
      "Question 1 out of 30\n",
      "Question 2 out of 30\n",
      "Question 3 out of 30\n",
      "Question 4 out of 30\n",
      "Question 5 out of 30\n",
      "Question 6 out of 30\n"
     ]
    }
   ],
   "source": [
    "import re\n",
    "import ollama\n",
    "import pandas as pd\n",
    "\n",
    "# User question, context retrieved, actual answer, and LLM answer\n",
    "df = pd.DataFrame(columns=[\"question\", \"retrieved_context\", \"generated_response\", \"reference_answer\"])\n",
    "\n",
    "for i, q in enumerate(questions):\n",
    "    try:\n",
    "        # Submit a user query\n",
    "        resp = client.retrieval.rag(\n",
    "            query = q,\n",
    "            search_mode = \"custom\",\n",
    "            search_settings = search_settings,\n",
    "            rag_generation_config = rag_generation_config,\n",
    "            include_title_if_available=True\n",
    "        ).results\n",
    "        \n",
    "        # After getting the response summarize the context\n",
    "        full_ctx = \"\\n\".join([re.sub(r\"\\n+\", \"\\n\", chunk.text) for chunk in resp.search_results.chunk_search_results])\n",
    "        \n",
    "        # Generate the summary by using the LLM\n",
    "        summary_ctx = ollama.generate(\n",
    "            model=\"llama3.1\",\n",
    "            prompt = f\"Please summarize the following text very concisely:\\n\\n{full_ctx}\",\n",
    "            options = {\n",
    "                \"temperature\": 0.1\n",
    "            }\n",
    "        )['response']\n",
    "        \n",
    "        llm_asnwer = resp.completion\n",
    "\n",
    "        # Save on each iteration\n",
    "        df.loc[len(df)] = [q, summary_ctx, llm_asnwer, None]\n",
    "        \n",
    "        print(f\"Question {i+1} out of {len(questions)}\")\n",
    "    except R2RException as r2re:\n",
    "        print(f\"Skipping {i+1} because of {str(r2re)}\")\n",
    "    except ollama.ResponseError | ollama.RequestError as oe:\n",
    "        print(f\"Skipping {i+1} because of {str(oe)}\")\n",
    "    except Exception as e:\n",
    "        print(f\"Skipping {i+1} because of {str(e)}\")\n",
    "    \n",
    "# Finally, save data to disk\n",
    "df.to_csv(\"dataset.csv\", index=False)\n"
   ]
  }
 ],
 "metadata": {
  "kernelspec": {
   "display_name": "venv",
   "language": "python",
   "name": "python3"
  },
  "language_info": {
   "codemirror_mode": {
    "name": "ipython",
    "version": 3
   },
   "file_extension": ".py",
   "mimetype": "text/x-python",
   "name": "python",
   "nbconvert_exporter": "python",
   "pygments_lexer": "ipython3",
   "version": "3.12.9"
  }
 },
 "nbformat": 4,
 "nbformat_minor": 2
}
