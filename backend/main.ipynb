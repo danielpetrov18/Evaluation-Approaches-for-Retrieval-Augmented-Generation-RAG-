{
 "cells": [
  {
   "cell_type": "code",
   "execution_count": 1,
   "metadata": {},
   "outputs": [
    {
     "name": "stderr",
     "output_type": "stream",
     "text": [
      "2024-10-22 14:25:10,259 - WARNING - langchain_community.utils.user_agent - USER_AGENT environment variable not set, consider setting it to identify your requests.\n"
     ]
    },
    {
     "name": "stdout",
     "output_type": "stream",
     "text": [
      "app=AppConfig(project_name=None) extra_fields={} provider='r2r' default_system_name='default_system' default_task_name='custom_rag' file_path=None\n"
     ]
    },
    {
     "data": {
      "text/plain": [
       "{'response': 'ok'}"
      ]
     },
     "execution_count": 1,
     "metadata": {},
     "output_type": "execute_result"
    }
   ],
   "source": [
    "from r2r import R2RClient\n",
    "from scraper import Scraper\n",
    "from splitter import Splitter\n",
    "from r2r_backend import R2RBackend\n",
    "from helper.io_helper import iterate_over_files, load_prompt\n",
    "\n",
    "urls = [\"https://en.wikipedia.org/wiki/Bitcoin\", \"https://en.wikipedia.org/wiki/Dogecoin\"]\n",
    "\n",
    "scraper = Scraper()\n",
    "splitter = Splitter()\n",
    "backend = R2RBackend()\n",
    "backend.health() # Should return OK"
   ]
  },
  {
   "cell_type": "code",
   "execution_count": 2,
   "metadata": {},
   "outputs": [
    {
     "name": "stderr",
     "output_type": "stream",
     "text": [
      "2024-10-22 14:11:27,216 - ERROR - r2r_backend - Error during ingestion: Must increment version number before attempting to overwrite document 14b6b10c-c2dd-58f7-ac76-c5ee292df57d. Use the `update_files` endpoint if you are looking to update the existing version.\n"
     ]
    }
   ],
   "source": [
    "# Ingestion\n",
    "try:\n",
    "    files = list(iterate_over_files(\"files\"))\n",
    "    ingestion_resp = backend.ingest_files(files)\n",
    "    ingestion_resp\n",
    "except Exception as e:\n",
    "    pass"
   ]
  },
  {
   "cell_type": "code",
   "execution_count": 3,
   "metadata": {},
   "outputs": [
    {
     "name": "stderr",
     "output_type": "stream",
     "text": [
      "2024-10-22 14:11:31,872 - ERROR - r2r_backend - Error during chunk ingestion: Document a7aede8d-2dbd-5b1c-8bd1-f28575564b7a was already ingested and is not in a failed state.\n",
      "2024-10-22 14:11:32,143 - ERROR - r2r_backend - Error during chunk ingestion: Document 621d270e-b632-5402-adb8-dfdffd9bf6d5 was already ingested and is not in a failed state.\n"
     ]
    }
   ],
   "source": [
    "documents = scraper.fetch_documents(urls)\n",
    "for document in documents:\n",
    "    split_document = splitter.split_documents([document])\n",
    "    chunks = [{\"text\": chunk.page_content} for chunk in split_document]\n",
    "    metadata = document.metadata\n",
    "    try:\n",
    "        resp = backend.ingest_chunks(chunks, metadata)\n",
    "        print(resp)\n",
    "    except Exception as e:\n",
    "        pass"
   ]
  },
  {
   "cell_type": "code",
   "execution_count": 4,
   "metadata": {},
   "outputs": [],
   "source": [
    "docs_metadata = backend.documents_overview()"
   ]
  },
  {
   "cell_type": "code",
   "execution_count": 5,
   "metadata": {},
   "outputs": [],
   "source": [
    "doc_id = backend.documents_overview()[0]['id']\n",
    "chunks = backend.document_chunks(doc_id)\n",
    "#[print(chunk['text']) for chunk in chunks]"
   ]
  },
  {
   "cell_type": "code",
   "execution_count": 2,
   "metadata": {},
   "outputs": [
    {
     "name": "stdout",
     "output_type": "stream",
     "text": [
      "Microservices are a software development approach that involves breaking down an application into small, independent services that communicate with each other. Each microservice is responsible for a specific business capability or function, and they work together to provide the overall functionality of the application.\n",
      "\n",
      "Here are some key characteristics of microservices:\n",
      "\n",
      "1. **Decoupling**: Microservices are designed to be decoupled from each other, meaning that changes to one service do not affect others.\n",
      "2. **Autonomy**: Each microservice is responsible for its own development, testing, and deployment.\n",
      "3. **Organized around business capabilities**: Microservices are organized around concrete business capabilities, such as orders, shipping, or payment processing.\n",
      "4. **Smart endpoints and dumb pipes**: Microservices communicate with each other using simple protocols (dumb pipes) and focus on providing specific functionality (smart endpoints).\n",
      "5. **Design for failure**: Microservices are designed to tolerate the failure of individual services, making it easier to recover from failures.\n",
      "\n",
      "Microservices work by:\n",
      "\n",
      "1. **Request/Response or Event-Based communication**: Services communicate with each other using request/response or event-based mechanisms.\n",
      "2. **Asynchronous calls**: Services can make asynchronous calls to each other, allowing for more decoupled and scalable systems.\n",
      "3. **Queueing**: Services can use queues to handle traffic spikes and ensure that messages are processed in a timely manner.\n",
      "\n",
      "Some common characteristics of microservices include:\n",
      "\n",
      "1. **Infrastructure Automation**: Microservices often involve continuous integration, automated testing, and continuous delivery.\n",
      "2. **Management of services in production**: Microservices require management tools to monitor and manage individual services in production.\n",
      "3. **Intercommunicating**: Microservices communicate with each other using standardized protocols.\n",
      "\n",
      "Overall, microservices provide a flexible and scalable approach to software development that allows for faster innovation and easier maintenance.\n"
     ]
    }
   ],
   "source": [
    "query = \"What are microservices and how do they work?\"\n",
    "rag_rsp = backend.rag(query)\n",
    "print(rag_rsp['completion']['choices'][0]['message']['content'])"
   ]
  },
  {
   "cell_type": "markdown",
   "metadata": {},
   "source": []
  }
 ],
 "metadata": {
  "kernelspec": {
   "display_name": "venv",
   "language": "python",
   "name": "python3"
  },
  "language_info": {
   "codemirror_mode": {
    "name": "ipython",
    "version": 3
   },
   "file_extension": ".py",
   "mimetype": "text/x-python",
   "name": "python",
   "nbconvert_exporter": "python",
   "pygments_lexer": "ipython3",
   "version": "3.12.4"
  }
 },
 "nbformat": 4,
 "nbformat_minor": 2
}
