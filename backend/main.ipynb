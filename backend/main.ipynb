{
 "cells": [
  {
   "cell_type": "code",
   "execution_count": 1,
   "metadata": {},
   "outputs": [
    {
     "name": "stdout",
     "output_type": "stream",
     "text": [
      "Health check response: ok\n"
     ]
    }
   ],
   "source": [
    "# Initialize and check health\n",
    "from client import R2RBackend\n",
    "\n",
    "client = R2RBackend()\n",
    "response = client.health()\n",
    "print(f'Health check response: {response}')"
   ]
  },
  {
   "cell_type": "code",
   "execution_count": null,
   "metadata": {},
   "outputs": [],
   "source": [
    "# File ingestion\n",
    "from pathlib import Path\n",
    "from utility.file_utils import iterate_over_files\n",
    "\n",
    "folder_path = Path('data')\n",
    "files = list(iterate_over_files(folder_path))\n",
    "client.ingest_files(files) # Does not return anything. Logs can be traced to see which files were not ingested."
   ]
  },
  {
   "cell_type": "code",
   "execution_count": null,
   "metadata": {},
   "outputs": [],
   "source": [
    "# Chunks ingestion\n",
    "urls = [\n",
    "    \"https://docs.streamlit.io/deploy/tutorials/docker#create-a-dockerfile\", \n",
    "    \"https://medium.com/@ypredofficial/rag-based-conversational-chatbot-using-streamlit-364c4c02c2f1\", \n",
    "    \"https://blog.gopenai.com/building-a-multi-pdf-rag-chatbot-langchain-streamlit-with-code-d21d0a1cf9e5\",\n",
    "    \"https://medium.com/@pritubera/building-a-streamlit-chatbot-for-technical-questions-with-llamaindex-and-openai-26808c841dab\",\n",
    "    \"https://r2r-docs.sciphi.ai/cookbooks/ingestion\",\n",
    "    \"https://docs.streamlit.io/get-started/fundamentals/advanced-concepts\",\n",
    "    \"https://de.wikipedia.org/wiki/Deutschland\"\n",
    "]\n",
    "\n",
    "from utility.scraper import Scraper\n",
    "from utility.splitter import Splitter\n",
    "\n",
    "scraper = Scraper()\n",
    "splitter = Splitter()\n",
    "\n",
    "documents = scraper.fetch_documents(urls)\n",
    "split_documents = splitter.split_documents(documents)\n",
    "\n",
    "if split_documents is None:\n",
    "    print(\"No chunks found for any URL!\")\n",
    "    exit()\n",
    "\n",
    "# Go over all the urls.\n",
    "for url in urls:\n",
    "    chunks = [split_doc for split_doc in split_documents if split_doc.metadata['source'] == url]\n",
    "    # If chunks are found for the corresponding url ingest them.\n",
    "    if chunks:\n",
    "        metadata = chunks[0].metadata\n",
    "        chunks_text = [{\"text\": chunk.page_content} for chunk in chunks]\n",
    "        try:\n",
    "            resp = client.ingest_chunks(chunks_text, metadata)\n",
    "            print(resp)\n",
    "        except Exception as e:\n",
    "            pass\n",
    "    else:\n",
    "        print(f\"No chunks found for [{url}]!\")\n",
    "        continue "
   ]
  }
 ],
 "metadata": {
  "kernelspec": {
   "display_name": "base",
   "language": "python",
   "name": "python3"
  },
  "language_info": {
   "codemirror_mode": {
    "name": "ipython",
    "version": 3
   },
   "file_extension": ".py",
   "mimetype": "text/x-python",
   "name": "python",
   "nbconvert_exporter": "python",
   "pygments_lexer": "ipython3",
   "version": "3.12.4"
  }
 },
 "nbformat": 4,
 "nbformat_minor": 2
}
