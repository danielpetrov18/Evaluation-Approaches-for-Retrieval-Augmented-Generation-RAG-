{
 "cells": [
  {
   "cell_type": "code",
   "execution_count": 1,
   "id": "10459775-95e0-464e-a971-8c40cd85d50a",
   "metadata": {},
   "outputs": [],
   "source": [
    "from r2r import R2RAsyncClient\n",
    "\n",
    "client = R2RAsyncClient('http://localhost:7272')"
   ]
  },
  {
   "cell_type": "code",
   "execution_count": 2,
   "id": "09a521f8",
   "metadata": {},
   "outputs": [
    {
     "name": "stdout",
     "output_type": "stream",
     "text": [
      "env: FILES_DIRECTORY='data'\n"
     ]
    }
   ],
   "source": [
    "%env FILES_DIRECTORY='data'"
   ]
  },
  {
   "cell_type": "code",
   "execution_count": 3,
   "id": "072df822",
   "metadata": {},
   "outputs": [
    {
     "name": "stdout",
     "output_type": "stream",
     "text": [
      "'data'\n"
     ]
    }
   ],
   "source": [
    "!echo $FILES_DIRECTORY"
   ]
  },
  {
   "cell_type": "code",
   "execution_count": 4,
   "id": "9e9d38e6",
   "metadata": {},
   "outputs": [],
   "source": [
    "from storage import StorageHandler\n",
    "\n",
    "storage_obj = StorageHandler(client)"
   ]
  },
  {
   "cell_type": "code",
   "execution_count": 20,
   "id": "d4816a0a",
   "metadata": {},
   "outputs": [],
   "source": [
    "document = await storage_obj.delete_document_by_id(str(documents.results[-1].id))"
   ]
  },
  {
   "cell_type": "code",
   "execution_count": 5,
   "id": "e7088b71",
   "metadata": {},
   "outputs": [],
   "source": [
    "documents = await storage_obj.list_documents()"
   ]
  },
  {
   "cell_type": "code",
   "execution_count": 6,
   "id": "6fc95997",
   "metadata": {},
   "outputs": [
    {
     "data": {
      "text/plain": [
       "[DocumentResponse(id=UUID('2790122b-3438-5520-b269-588b84e06234'), collection_ids=[UUID('122fdf6a-e116-546b-a8f6-e4cb2e2c0a09')], owner_id=UUID('2acb499e-8428-543b-bd85-0d9098718220'), document_type=<DocumentType.PDF: 'pdf'>, metadata={'foo': 'bar', 'test2': 'test', 'version': 'v0'}, title='download.pdf', version='v0', size_in_bytes=13392292, ingestion_status=<IngestionStatus.SUCCESS: 'success'>, extraction_status=<GraphExtractionStatus.PENDING: 'pending'>, created_at=datetime.datetime(2025, 3, 5, 18, 32, 4, 408069, tzinfo=TzInfo(UTC)), updated_at=datetime.datetime(2025, 3, 5, 18, 32, 4, 410439, tzinfo=TzInfo(UTC)), ingestion_attempt_number=None, summary='The document contains information about a book titled \"Distributed Systems\" by Andrew S. Tanenbaum and Maarten Van Steen, which is in its second edition. The authors are both professors at the Vrije Universiteit in Amsterdam, where they teach computer science courses. They have extensive research experience in distributed systems, operating systems, and networking.\\n\\nThe book covers various aspects of distributed systems, including principles, paradigms, and architectures. It discusses different types of distributed systems, such as computing systems, information systems, and pervasive systems. The authors also explore the goals of distributed systems, which include making resources accessible, distribution transparency, openness, scalability, and avoiding pitfalls.\\n\\nThe book is divided into several chapters, including an introduction to distributed systems, architectural styles, system architectures, and a discussion on architectures versus middleware. The authors provide examples and case studies to illustrate key concepts and principles.\\n\\nThroughout the book, the authors emphasize the importance of understanding the fundamental principles and paradigms of distributed systems. They also highlight the challenges and pitfalls associated with designing and implementing distributed systems.\\n\\nThe document includes metadata about the book, such as its ISBN number, publication date, and copyright information. The authors dedicate the book to their families and express gratitude for the support they received during the writing process.', summary_embedding=None, total_tokens=368506),\n",
       " DocumentResponse(id=UUID('e360d67a-5560-5191-8b20-59d22c4a2105'), collection_ids=[UUID('122fdf6a-e116-546b-a8f6-e4cb2e2c0a09')], owner_id=UUID('2acb499e-8428-543b-bd85-0d9098718220'), document_type=<DocumentType.PDF: 'pdf'>, metadata={'foo': 'bar', 'test2': 'test', 'version': 'v0'}, title='en-Manual-Gwent-ONLINE.pdf', version='v0', size_in_bytes=3168700, ingestion_status=<IngestionStatus.SUCCESS: 'success'>, extraction_status=<GraphExtractionStatus.PENDING: 'pending'>, created_at=datetime.datetime(2025, 3, 5, 18, 29, 11, 587279, tzinfo=TzInfo(UTC)), updated_at=datetime.datetime(2025, 3, 5, 18, 29, 11, 592030, tzinfo=TzInfo(UTC)), ingestion_attempt_number=None, summary='The document contains a comprehensive guide to playing Gwent, a 2-player card game where two armies clash on the battlefield. The game involves picking a faction, each with its unique style and passive ability, and preparing a deck consisting of a Leader Card, Unit Cards, Special Cards, and gem counters. Players take turns placing cards on the battlefield, with the player having the highest total strength winning the round. The first player to win two rounds wins the game.\\n\\nKey points include:\\n\\n* Each faction has its unique style and passive ability.\\n* A deck consists of a Leader Card, Unit Cards, Special Cards, and gem counters.\\n* Players take turns placing cards on the battlefield.\\n* The player with the highest total strength wins each round.\\n* The first player to win two rounds wins the game.\\n* Gem counters are used to track the number of rounds lost.\\n\\nThe guide also includes tips for playing Gwent, such as choosing when to play a card wisely and remembering that passing is sometimes the best strategy. Additionally, it provides information on how to keep score using the Score Card and four score tokens marked with faction symbols. The document concludes with an appendix containing ability descriptions for various factions and Unit Cards.', summary_embedding=None, total_tokens=1901),\n",
       " DocumentResponse(id=UUID('128b32ad-6e8d-5fc8-85ee-4c27627ab6a0'), collection_ids=[UUID('122fdf6a-e116-546b-a8f6-e4cb2e2c0a09')], owner_id=UUID('2acb499e-8428-543b-bd85-0d9098718220'), document_type=<DocumentType.PDF: 'pdf'>, metadata={'foo': 'bar', 'version': 'v0'}, title='linuxbasicsforhackers.pdf', version='v0', size_in_bytes=10205032, ingestion_status=<IngestionStatus.ENRICHING: 'enriching'>, extraction_status=<GraphExtractionStatus.PENDING: 'pending'>, created_at=datetime.datetime(2025, 3, 5, 18, 11, 30, 56999, tzinfo=TzInfo(UTC)), updated_at=datetime.datetime(2025, 3, 5, 18, 11, 30, 63543, tzinfo=TzInfo(UTC)), ingestion_attempt_number=None, summary='The document contains information about \"Linux Basics for Hackers\", a book written by OccupyTheWeb, an infosec consultant and trainer with over 20 years of experience in the industry. The book is designed to help beginners learn the basics of using Linux, specifically Kali Linux, an advanced penetration testing distribution of Linux. It covers topics such as installing Kali on a virtual machine, basic Linux concepts, manipulating text, controlling file and directory permissions, managing user environment variables, security and anonymity, scripting skills with bash and Python, and building hacking tools.\\n\\nThe book includes practical tutorials and exercises to reinforce learning, covering topics such as:\\n\\n* Changing network information and manipulating the rsyslog logging utility\\n* Writing a tool to scan for network connections and connect to wireless networks\\n* Using Tor, proxy servers, VPNs, and encrypted email to keep internet activity stealthy\\n* Scanning open ports for potential targets using bash scripts\\n* Abusing services like MySQL, Apache web server, and OpenSSH\\n\\nThe book is intended for those getting started with hacking, cybersecurity, and pentesting, and provides a comprehensive introduction to the Linux operating system and its applications in hacking.', summary_embedding=None, total_tokens=109472)]"
      ]
     },
     "execution_count": 6,
     "metadata": {},
     "output_type": "execute_result"
    }
   ],
   "source": [
    "documents.results"
   ]
  },
  {
   "cell_type": "code",
   "execution_count": 18,
   "id": "c9ec664a",
   "metadata": {},
   "outputs": [],
   "source": [
    "# Case 1.\n",
    "all_documents = await storage_obj.list_documents()"
   ]
  },
  {
   "cell_type": "code",
   "execution_count": 11,
   "id": "bf105bdc",
   "metadata": {},
   "outputs": [],
   "source": [
    "chunks = await storage_obj.list_document_chunks(str(documents.results[-1].id), limit=1000) "
   ]
  },
  {
   "cell_type": "code",
   "execution_count": 17,
   "id": "8e82acb8",
   "metadata": {},
   "outputs": [],
   "source": [
    "files_content = await storage_obj.download_document_content(str(documents.results[-1].id))"
   ]
  },
  {
   "cell_type": "code",
   "execution_count": 20,
   "id": "bae0f19d",
   "metadata": {},
   "outputs": [],
   "source": [
    "from io import BytesIO\n",
    "\n",
    "def save_pdf_from_bytes(pdf_bytes: BytesIO, output_path: str):\n",
    "    with open(output_path, \"wb\") as f:\n",
    "        f.write(pdf_bytes.getvalue())"
   ]
  },
  {
   "cell_type": "code",
   "execution_count": 21,
   "id": "fad5c945",
   "metadata": {},
   "outputs": [],
   "source": [
    "save_pdf_from_bytes(files_content, \"test.pdf\")"
   ]
  },
  {
   "cell_type": "code",
   "execution_count": 17,
   "id": "79be5322",
   "metadata": {},
   "outputs": [
    {
     "name": "stderr",
     "output_type": "stream",
     "text": [
      "Request failed: \n"
     ]
    },
    {
     "ename": "R2RException",
     "evalue": "Request failed: ",
     "output_type": "error",
     "traceback": [
      "\u001b[31m---------------------------------------------------------------------------\u001b[39m",
      "\u001b[31mReadTimeout\u001b[39m                               Traceback (most recent call last)",
      "\u001b[36mFile \u001b[39m\u001b[32m~/Desktop/Evaluation-Approaches-for-Retrieval-Augmented-Generation-RAG-/venv/lib/python3.12/site-packages/httpx/_transports/default.py:72\u001b[39m, in \u001b[36mmap_httpcore_exceptions\u001b[39m\u001b[34m()\u001b[39m\n\u001b[32m     71\u001b[39m \u001b[38;5;28;01mtry\u001b[39;00m:\n\u001b[32m---> \u001b[39m\u001b[32m72\u001b[39m     \u001b[38;5;28;01myield\u001b[39;00m\n\u001b[32m     73\u001b[39m \u001b[38;5;28;01mexcept\u001b[39;00m \u001b[38;5;167;01mException\u001b[39;00m \u001b[38;5;28;01mas\u001b[39;00m exc:\n",
      "\u001b[36mFile \u001b[39m\u001b[32m~/Desktop/Evaluation-Approaches-for-Retrieval-Augmented-Generation-RAG-/venv/lib/python3.12/site-packages/httpx/_transports/default.py:377\u001b[39m, in \u001b[36mAsyncHTTPTransport.handle_async_request\u001b[39m\u001b[34m(self, request)\u001b[39m\n\u001b[32m    376\u001b[39m \u001b[38;5;28;01mwith\u001b[39;00m map_httpcore_exceptions():\n\u001b[32m--> \u001b[39m\u001b[32m377\u001b[39m     resp = \u001b[38;5;28;01mawait\u001b[39;00m \u001b[38;5;28mself\u001b[39m._pool.handle_async_request(req)\n\u001b[32m    379\u001b[39m \u001b[38;5;28;01massert\u001b[39;00m \u001b[38;5;28misinstance\u001b[39m(resp.stream, typing.AsyncIterable)\n",
      "\u001b[36mFile \u001b[39m\u001b[32m~/Desktop/Evaluation-Approaches-for-Retrieval-Augmented-Generation-RAG-/venv/lib/python3.12/site-packages/httpcore/_async/connection_pool.py:256\u001b[39m, in \u001b[36mAsyncConnectionPool.handle_async_request\u001b[39m\u001b[34m(self, request)\u001b[39m\n\u001b[32m    255\u001b[39m     \u001b[38;5;28;01mawait\u001b[39;00m \u001b[38;5;28mself\u001b[39m._close_connections(closing)\n\u001b[32m--> \u001b[39m\u001b[32m256\u001b[39m     \u001b[38;5;28;01mraise\u001b[39;00m exc \u001b[38;5;28;01mfrom\u001b[39;00m\u001b[38;5;250m \u001b[39m\u001b[38;5;28;01mNone\u001b[39;00m\n\u001b[32m    258\u001b[39m \u001b[38;5;66;03m# Return the response. Note that in this case we still have to manage\u001b[39;00m\n\u001b[32m    259\u001b[39m \u001b[38;5;66;03m# the point at which the response is closed.\u001b[39;00m\n",
      "\u001b[36mFile \u001b[39m\u001b[32m~/Desktop/Evaluation-Approaches-for-Retrieval-Augmented-Generation-RAG-/venv/lib/python3.12/site-packages/httpcore/_async/connection_pool.py:236\u001b[39m, in \u001b[36mAsyncConnectionPool.handle_async_request\u001b[39m\u001b[34m(self, request)\u001b[39m\n\u001b[32m    234\u001b[39m \u001b[38;5;28;01mtry\u001b[39;00m:\n\u001b[32m    235\u001b[39m     \u001b[38;5;66;03m# Send the request on the assigned connection.\u001b[39;00m\n\u001b[32m--> \u001b[39m\u001b[32m236\u001b[39m     response = \u001b[38;5;28;01mawait\u001b[39;00m connection.handle_async_request(\n\u001b[32m    237\u001b[39m         pool_request.request\n\u001b[32m    238\u001b[39m     )\n\u001b[32m    239\u001b[39m \u001b[38;5;28;01mexcept\u001b[39;00m ConnectionNotAvailable:\n\u001b[32m    240\u001b[39m     \u001b[38;5;66;03m# In some cases a connection may initially be available to\u001b[39;00m\n\u001b[32m    241\u001b[39m     \u001b[38;5;66;03m# handle a request, but then become unavailable.\u001b[39;00m\n\u001b[32m    242\u001b[39m     \u001b[38;5;66;03m#\u001b[39;00m\n\u001b[32m    243\u001b[39m     \u001b[38;5;66;03m# In this case we clear the connection and try again.\u001b[39;00m\n",
      "\u001b[36mFile \u001b[39m\u001b[32m~/Desktop/Evaluation-Approaches-for-Retrieval-Augmented-Generation-RAG-/venv/lib/python3.12/site-packages/httpcore/_async/connection.py:103\u001b[39m, in \u001b[36mAsyncHTTPConnection.handle_async_request\u001b[39m\u001b[34m(self, request)\u001b[39m\n\u001b[32m    101\u001b[39m     \u001b[38;5;28;01mraise\u001b[39;00m exc\n\u001b[32m--> \u001b[39m\u001b[32m103\u001b[39m \u001b[38;5;28;01mreturn\u001b[39;00m \u001b[38;5;28;01mawait\u001b[39;00m \u001b[38;5;28mself\u001b[39m._connection.handle_async_request(request)\n",
      "\u001b[36mFile \u001b[39m\u001b[32m~/Desktop/Evaluation-Approaches-for-Retrieval-Augmented-Generation-RAG-/venv/lib/python3.12/site-packages/httpcore/_async/http11.py:136\u001b[39m, in \u001b[36mAsyncHTTP11Connection.handle_async_request\u001b[39m\u001b[34m(self, request)\u001b[39m\n\u001b[32m    135\u001b[39m         \u001b[38;5;28;01mawait\u001b[39;00m \u001b[38;5;28mself\u001b[39m._response_closed()\n\u001b[32m--> \u001b[39m\u001b[32m136\u001b[39m \u001b[38;5;28;01mraise\u001b[39;00m exc\n",
      "\u001b[36mFile \u001b[39m\u001b[32m~/Desktop/Evaluation-Approaches-for-Retrieval-Augmented-Generation-RAG-/venv/lib/python3.12/site-packages/httpcore/_async/http11.py:106\u001b[39m, in \u001b[36mAsyncHTTP11Connection.handle_async_request\u001b[39m\u001b[34m(self, request)\u001b[39m\n\u001b[32m     97\u001b[39m \u001b[38;5;28;01masync\u001b[39;00m \u001b[38;5;28;01mwith\u001b[39;00m Trace(\n\u001b[32m     98\u001b[39m     \u001b[33m\"\u001b[39m\u001b[33mreceive_response_headers\u001b[39m\u001b[33m\"\u001b[39m, logger, request, kwargs\n\u001b[32m     99\u001b[39m ) \u001b[38;5;28;01mas\u001b[39;00m trace:\n\u001b[32m    100\u001b[39m     (\n\u001b[32m    101\u001b[39m         http_version,\n\u001b[32m    102\u001b[39m         status,\n\u001b[32m    103\u001b[39m         reason_phrase,\n\u001b[32m    104\u001b[39m         headers,\n\u001b[32m    105\u001b[39m         trailing_data,\n\u001b[32m--> \u001b[39m\u001b[32m106\u001b[39m     ) = \u001b[38;5;28;01mawait\u001b[39;00m \u001b[38;5;28mself\u001b[39m._receive_response_headers(**kwargs)\n\u001b[32m    107\u001b[39m     trace.return_value = (\n\u001b[32m    108\u001b[39m         http_version,\n\u001b[32m    109\u001b[39m         status,\n\u001b[32m    110\u001b[39m         reason_phrase,\n\u001b[32m    111\u001b[39m         headers,\n\u001b[32m    112\u001b[39m     )\n",
      "\u001b[36mFile \u001b[39m\u001b[32m~/Desktop/Evaluation-Approaches-for-Retrieval-Augmented-Generation-RAG-/venv/lib/python3.12/site-packages/httpcore/_async/http11.py:177\u001b[39m, in \u001b[36mAsyncHTTP11Connection._receive_response_headers\u001b[39m\u001b[34m(self, request)\u001b[39m\n\u001b[32m    176\u001b[39m \u001b[38;5;28;01mwhile\u001b[39;00m \u001b[38;5;28;01mTrue\u001b[39;00m:\n\u001b[32m--> \u001b[39m\u001b[32m177\u001b[39m     event = \u001b[38;5;28;01mawait\u001b[39;00m \u001b[38;5;28mself\u001b[39m._receive_event(timeout=timeout)\n\u001b[32m    178\u001b[39m     \u001b[38;5;28;01mif\u001b[39;00m \u001b[38;5;28misinstance\u001b[39m(event, h11.Response):\n",
      "\u001b[36mFile \u001b[39m\u001b[32m~/Desktop/Evaluation-Approaches-for-Retrieval-Augmented-Generation-RAG-/venv/lib/python3.12/site-packages/httpcore/_async/http11.py:217\u001b[39m, in \u001b[36mAsyncHTTP11Connection._receive_event\u001b[39m\u001b[34m(self, timeout)\u001b[39m\n\u001b[32m    216\u001b[39m \u001b[38;5;28;01mif\u001b[39;00m event \u001b[38;5;129;01mis\u001b[39;00m h11.NEED_DATA:\n\u001b[32m--> \u001b[39m\u001b[32m217\u001b[39m     data = \u001b[38;5;28;01mawait\u001b[39;00m \u001b[38;5;28mself\u001b[39m._network_stream.read(\n\u001b[32m    218\u001b[39m         \u001b[38;5;28mself\u001b[39m.READ_NUM_BYTES, timeout=timeout\n\u001b[32m    219\u001b[39m     )\n\u001b[32m    221\u001b[39m     \u001b[38;5;66;03m# If we feed this case through h11 we'll raise an exception like:\u001b[39;00m\n\u001b[32m    222\u001b[39m     \u001b[38;5;66;03m#\u001b[39;00m\n\u001b[32m    223\u001b[39m     \u001b[38;5;66;03m#     httpcore.RemoteProtocolError: can't handle event type\u001b[39;00m\n\u001b[32m   (...)\u001b[39m\u001b[32m    227\u001b[39m     \u001b[38;5;66;03m# perspective. Instead we handle this case distinctly and treat\u001b[39;00m\n\u001b[32m    228\u001b[39m     \u001b[38;5;66;03m# it as a ConnectError.\u001b[39;00m\n",
      "\u001b[36mFile \u001b[39m\u001b[32m~/Desktop/Evaluation-Approaches-for-Retrieval-Augmented-Generation-RAG-/venv/lib/python3.12/site-packages/httpcore/_backends/anyio.py:32\u001b[39m, in \u001b[36mAnyIOStream.read\u001b[39m\u001b[34m(self, max_bytes, timeout)\u001b[39m\n\u001b[32m     26\u001b[39m exc_map = {\n\u001b[32m     27\u001b[39m     \u001b[38;5;167;01mTimeoutError\u001b[39;00m: ReadTimeout,\n\u001b[32m     28\u001b[39m     anyio.BrokenResourceError: ReadError,\n\u001b[32m     29\u001b[39m     anyio.ClosedResourceError: ReadError,\n\u001b[32m     30\u001b[39m     anyio.EndOfStream: ReadError,\n\u001b[32m     31\u001b[39m }\n\u001b[32m---> \u001b[39m\u001b[32m32\u001b[39m \u001b[38;5;28;01mwith\u001b[39;00m map_exceptions(exc_map):\n\u001b[32m     33\u001b[39m     \u001b[38;5;28;01mwith\u001b[39;00m anyio.fail_after(timeout):\n",
      "\u001b[36mFile \u001b[39m\u001b[32m~/miniconda3/lib/python3.12/contextlib.py:158\u001b[39m, in \u001b[36m_GeneratorContextManager.__exit__\u001b[39m\u001b[34m(self, typ, value, traceback)\u001b[39m\n\u001b[32m    157\u001b[39m \u001b[38;5;28;01mtry\u001b[39;00m:\n\u001b[32m--> \u001b[39m\u001b[32m158\u001b[39m     \u001b[38;5;28;43mself\u001b[39;49m\u001b[43m.\u001b[49m\u001b[43mgen\u001b[49m\u001b[43m.\u001b[49m\u001b[43mthrow\u001b[49m\u001b[43m(\u001b[49m\u001b[43mvalue\u001b[49m\u001b[43m)\u001b[49m\n\u001b[32m    159\u001b[39m \u001b[38;5;28;01mexcept\u001b[39;00m \u001b[38;5;167;01mStopIteration\u001b[39;00m \u001b[38;5;28;01mas\u001b[39;00m exc:\n\u001b[32m    160\u001b[39m     \u001b[38;5;66;03m# Suppress StopIteration *unless* it's the same exception that\u001b[39;00m\n\u001b[32m    161\u001b[39m     \u001b[38;5;66;03m# was passed to throw().  This prevents a StopIteration\u001b[39;00m\n\u001b[32m    162\u001b[39m     \u001b[38;5;66;03m# raised inside the \"with\" statement from being suppressed.\u001b[39;00m\n",
      "\u001b[36mFile \u001b[39m\u001b[32m~/Desktop/Evaluation-Approaches-for-Retrieval-Augmented-Generation-RAG-/venv/lib/python3.12/site-packages/httpcore/_exceptions.py:14\u001b[39m, in \u001b[36mmap_exceptions\u001b[39m\u001b[34m(map)\u001b[39m\n\u001b[32m     13\u001b[39m     \u001b[38;5;28;01mif\u001b[39;00m \u001b[38;5;28misinstance\u001b[39m(exc, from_exc):\n\u001b[32m---> \u001b[39m\u001b[32m14\u001b[39m         \u001b[38;5;28;01mraise\u001b[39;00m to_exc(exc) \u001b[38;5;28;01mfrom\u001b[39;00m\u001b[38;5;250m \u001b[39m\u001b[34;01mexc\u001b[39;00m\n\u001b[32m     15\u001b[39m \u001b[38;5;28;01mraise\u001b[39;00m\n",
      "\u001b[31mReadTimeout\u001b[39m: ",
      "\nThe above exception was the direct cause of the following exception:\n",
      "\u001b[31mReadTimeout\u001b[39m                               Traceback (most recent call last)",
      "\u001b[36mFile \u001b[39m\u001b[32m~/Desktop/Evaluation-Approaches-for-Retrieval-Augmented-Generation-RAG-/venv/lib/python3.12/site-packages/sdk/async_client.py:65\u001b[39m, in \u001b[36mR2RAsyncClient._make_request\u001b[39m\u001b[34m(self, method, endpoint, version, **kwargs)\u001b[39m\n\u001b[32m     64\u001b[39m \u001b[38;5;28;01mtry\u001b[39;00m:\n\u001b[32m---> \u001b[39m\u001b[32m65\u001b[39m     response = \u001b[38;5;28;01mawait\u001b[39;00m \u001b[38;5;28mself\u001b[39m.client.request(method, url, **request_args)\n\u001b[32m     66\u001b[39m     \u001b[38;5;28;01mawait\u001b[39;00m \u001b[38;5;28mself\u001b[39m._handle_response(response)\n",
      "\u001b[36mFile \u001b[39m\u001b[32m~/Desktop/Evaluation-Approaches-for-Retrieval-Augmented-Generation-RAG-/venv/lib/python3.12/site-packages/httpx/_client.py:1585\u001b[39m, in \u001b[36mAsyncClient.request\u001b[39m\u001b[34m(self, method, url, content, data, files, json, params, headers, cookies, auth, follow_redirects, timeout, extensions)\u001b[39m\n\u001b[32m   1572\u001b[39m request = \u001b[38;5;28mself\u001b[39m.build_request(\n\u001b[32m   1573\u001b[39m     method=method,\n\u001b[32m   1574\u001b[39m     url=url,\n\u001b[32m   (...)\u001b[39m\u001b[32m   1583\u001b[39m     extensions=extensions,\n\u001b[32m   1584\u001b[39m )\n\u001b[32m-> \u001b[39m\u001b[32m1585\u001b[39m \u001b[38;5;28;01mreturn\u001b[39;00m \u001b[38;5;28;01mawait\u001b[39;00m \u001b[38;5;28mself\u001b[39m.send(request, auth=auth, follow_redirects=follow_redirects)\n",
      "\u001b[36mFile \u001b[39m\u001b[32m~/Desktop/Evaluation-Approaches-for-Retrieval-Augmented-Generation-RAG-/venv/lib/python3.12/site-packages/httpx/_client.py:1674\u001b[39m, in \u001b[36mAsyncClient.send\u001b[39m\u001b[34m(self, request, stream, auth, follow_redirects)\u001b[39m\n\u001b[32m   1672\u001b[39m auth = \u001b[38;5;28mself\u001b[39m._build_request_auth(request, auth)\n\u001b[32m-> \u001b[39m\u001b[32m1674\u001b[39m response = \u001b[38;5;28;01mawait\u001b[39;00m \u001b[38;5;28mself\u001b[39m._send_handling_auth(\n\u001b[32m   1675\u001b[39m     request,\n\u001b[32m   1676\u001b[39m     auth=auth,\n\u001b[32m   1677\u001b[39m     follow_redirects=follow_redirects,\n\u001b[32m   1678\u001b[39m     history=[],\n\u001b[32m   1679\u001b[39m )\n\u001b[32m   1680\u001b[39m \u001b[38;5;28;01mtry\u001b[39;00m:\n",
      "\u001b[36mFile \u001b[39m\u001b[32m~/Desktop/Evaluation-Approaches-for-Retrieval-Augmented-Generation-RAG-/venv/lib/python3.12/site-packages/httpx/_client.py:1702\u001b[39m, in \u001b[36mAsyncClient._send_handling_auth\u001b[39m\u001b[34m(self, request, auth, follow_redirects, history)\u001b[39m\n\u001b[32m   1701\u001b[39m \u001b[38;5;28;01mwhile\u001b[39;00m \u001b[38;5;28;01mTrue\u001b[39;00m:\n\u001b[32m-> \u001b[39m\u001b[32m1702\u001b[39m     response = \u001b[38;5;28;01mawait\u001b[39;00m \u001b[38;5;28mself\u001b[39m._send_handling_redirects(\n\u001b[32m   1703\u001b[39m         request,\n\u001b[32m   1704\u001b[39m         follow_redirects=follow_redirects,\n\u001b[32m   1705\u001b[39m         history=history,\n\u001b[32m   1706\u001b[39m     )\n\u001b[32m   1707\u001b[39m     \u001b[38;5;28;01mtry\u001b[39;00m:\n",
      "\u001b[36mFile \u001b[39m\u001b[32m~/Desktop/Evaluation-Approaches-for-Retrieval-Augmented-Generation-RAG-/venv/lib/python3.12/site-packages/httpx/_client.py:1739\u001b[39m, in \u001b[36mAsyncClient._send_handling_redirects\u001b[39m\u001b[34m(self, request, follow_redirects, history)\u001b[39m\n\u001b[32m   1737\u001b[39m     \u001b[38;5;28;01mawait\u001b[39;00m hook(request)\n\u001b[32m-> \u001b[39m\u001b[32m1739\u001b[39m response = \u001b[38;5;28;01mawait\u001b[39;00m \u001b[38;5;28mself\u001b[39m._send_single_request(request)\n\u001b[32m   1740\u001b[39m \u001b[38;5;28;01mtry\u001b[39;00m:\n",
      "\u001b[36mFile \u001b[39m\u001b[32m~/Desktop/Evaluation-Approaches-for-Retrieval-Augmented-Generation-RAG-/venv/lib/python3.12/site-packages/httpx/_client.py:1776\u001b[39m, in \u001b[36mAsyncClient._send_single_request\u001b[39m\u001b[34m(self, request)\u001b[39m\n\u001b[32m   1775\u001b[39m \u001b[38;5;28;01mwith\u001b[39;00m request_context(request=request):\n\u001b[32m-> \u001b[39m\u001b[32m1776\u001b[39m     response = \u001b[38;5;28;01mawait\u001b[39;00m transport.handle_async_request(request)\n\u001b[32m   1778\u001b[39m \u001b[38;5;28;01massert\u001b[39;00m \u001b[38;5;28misinstance\u001b[39m(response.stream, AsyncByteStream)\n",
      "\u001b[36mFile \u001b[39m\u001b[32m~/Desktop/Evaluation-Approaches-for-Retrieval-Augmented-Generation-RAG-/venv/lib/python3.12/site-packages/httpx/_transports/default.py:376\u001b[39m, in \u001b[36mAsyncHTTPTransport.handle_async_request\u001b[39m\u001b[34m(self, request)\u001b[39m\n\u001b[32m    364\u001b[39m req = httpcore.Request(\n\u001b[32m    365\u001b[39m     method=request.method,\n\u001b[32m    366\u001b[39m     url=httpcore.URL(\n\u001b[32m   (...)\u001b[39m\u001b[32m    374\u001b[39m     extensions=request.extensions,\n\u001b[32m    375\u001b[39m )\n\u001b[32m--> \u001b[39m\u001b[32m376\u001b[39m \u001b[38;5;28;01mwith\u001b[39;00m map_httpcore_exceptions():\n\u001b[32m    377\u001b[39m     resp = \u001b[38;5;28;01mawait\u001b[39;00m \u001b[38;5;28mself\u001b[39m._pool.handle_async_request(req)\n",
      "\u001b[36mFile \u001b[39m\u001b[32m~/miniconda3/lib/python3.12/contextlib.py:158\u001b[39m, in \u001b[36m_GeneratorContextManager.__exit__\u001b[39m\u001b[34m(self, typ, value, traceback)\u001b[39m\n\u001b[32m    157\u001b[39m \u001b[38;5;28;01mtry\u001b[39;00m:\n\u001b[32m--> \u001b[39m\u001b[32m158\u001b[39m     \u001b[38;5;28;43mself\u001b[39;49m\u001b[43m.\u001b[49m\u001b[43mgen\u001b[49m\u001b[43m.\u001b[49m\u001b[43mthrow\u001b[49m\u001b[43m(\u001b[49m\u001b[43mvalue\u001b[49m\u001b[43m)\u001b[49m\n\u001b[32m    159\u001b[39m \u001b[38;5;28;01mexcept\u001b[39;00m \u001b[38;5;167;01mStopIteration\u001b[39;00m \u001b[38;5;28;01mas\u001b[39;00m exc:\n\u001b[32m    160\u001b[39m     \u001b[38;5;66;03m# Suppress StopIteration *unless* it's the same exception that\u001b[39;00m\n\u001b[32m    161\u001b[39m     \u001b[38;5;66;03m# was passed to throw().  This prevents a StopIteration\u001b[39;00m\n\u001b[32m    162\u001b[39m     \u001b[38;5;66;03m# raised inside the \"with\" statement from being suppressed.\u001b[39;00m\n",
      "\u001b[36mFile \u001b[39m\u001b[32m~/Desktop/Evaluation-Approaches-for-Retrieval-Augmented-Generation-RAG-/venv/lib/python3.12/site-packages/httpx/_transports/default.py:89\u001b[39m, in \u001b[36mmap_httpcore_exceptions\u001b[39m\u001b[34m()\u001b[39m\n\u001b[32m     88\u001b[39m message = \u001b[38;5;28mstr\u001b[39m(exc)\n\u001b[32m---> \u001b[39m\u001b[32m89\u001b[39m \u001b[38;5;28;01mraise\u001b[39;00m mapped_exc(message) \u001b[38;5;28;01mfrom\u001b[39;00m\u001b[38;5;250m \u001b[39m\u001b[34;01mexc\u001b[39;00m\n",
      "\u001b[31mReadTimeout\u001b[39m: ",
      "\nThe above exception was the direct cause of the following exception:\n",
      "\u001b[31mR2RException\u001b[39m                              Traceback (most recent call last)",
      "\u001b[36mFile \u001b[39m\u001b[32m~/Desktop/Evaluation-Approaches-for-Retrieval-Augmented-Generation-RAG-/backend/storage.py:73\u001b[39m, in \u001b[36mStorageHandler.ingest_file\u001b[39m\u001b[34m(self, filepath, metadata)\u001b[39m\n\u001b[32m     71\u001b[39m     ingestion_mode = \u001b[33m'\u001b[39m\u001b[33mcustom\u001b[39m\u001b[33m'\u001b[39m\n\u001b[32m---> \u001b[39m\u001b[32m73\u001b[39m ingestion_result = \u001b[38;5;28;01mawait\u001b[39;00m \u001b[38;5;28mself\u001b[39m._client.documents.create(\n\u001b[32m     74\u001b[39m     file_path=filepath,\n\u001b[32m     75\u001b[39m     ingestion_mode=ingestion_mode,\n\u001b[32m     76\u001b[39m     metadata=metadata,\n\u001b[32m     77\u001b[39m     run_with_orchestration=\u001b[38;5;28;01mFalse\u001b[39;00m\n\u001b[32m     78\u001b[39m )\n\u001b[32m     79\u001b[39m \u001b[38;5;28;01mreturn\u001b[39;00m ingestion_result\n",
      "\u001b[36mFile \u001b[39m\u001b[32m~/Desktop/Evaluation-Approaches-for-Retrieval-Augmented-Generation-RAG-/venv/lib/python3.12/site-packages/sdk/asnyc_methods/documents.py:108\u001b[39m, in \u001b[36mDocumentsSDK.create\u001b[39m\u001b[34m(self, file_path, raw_text, chunks, id, ingestion_mode, collection_ids, metadata, ingestion_config, run_with_orchestration)\u001b[39m\n\u001b[32m    107\u001b[39m \u001b[38;5;28;01mtry\u001b[39;00m:\n\u001b[32m--> \u001b[39m\u001b[32m108\u001b[39m     response_dict = \u001b[38;5;28;01mawait\u001b[39;00m \u001b[38;5;28mself\u001b[39m.client._make_request(\n\u001b[32m    109\u001b[39m         \u001b[33m\"\u001b[39m\u001b[33mPOST\u001b[39m\u001b[33m\"\u001b[39m,\n\u001b[32m    110\u001b[39m         \u001b[33m\"\u001b[39m\u001b[33mdocuments\u001b[39m\u001b[33m\"\u001b[39m,\n\u001b[32m    111\u001b[39m         data=data,\n\u001b[32m    112\u001b[39m         files=files,\n\u001b[32m    113\u001b[39m         version=\u001b[33m\"\u001b[39m\u001b[33mv3\u001b[39m\u001b[33m\"\u001b[39m,\n\u001b[32m    114\u001b[39m     )\n\u001b[32m    115\u001b[39m \u001b[38;5;28;01mfinally\u001b[39;00m:\n\u001b[32m    116\u001b[39m     \u001b[38;5;66;03m# Ensure we close the file after the request is complete\u001b[39;00m\n",
      "\u001b[36mFile \u001b[39m\u001b[32m~/Desktop/Evaluation-Approaches-for-Retrieval-Augmented-Generation-RAG-/venv/lib/python3.12/site-packages/sdk/async_client.py:73\u001b[39m, in \u001b[36mR2RAsyncClient._make_request\u001b[39m\u001b[34m(self, method, endpoint, version, **kwargs)\u001b[39m\n\u001b[32m     72\u001b[39m \u001b[38;5;28;01mexcept\u001b[39;00m httpx.RequestError \u001b[38;5;28;01mas\u001b[39;00m e:\n\u001b[32m---> \u001b[39m\u001b[32m73\u001b[39m     \u001b[38;5;28;01mraise\u001b[39;00m R2RException(\n\u001b[32m     74\u001b[39m         status_code=\u001b[32m500\u001b[39m,\n\u001b[32m     75\u001b[39m         message=\u001b[33mf\u001b[39m\u001b[33m\"\u001b[39m\u001b[33mRequest failed: \u001b[39m\u001b[38;5;132;01m{\u001b[39;00m\u001b[38;5;28mstr\u001b[39m(e)\u001b[38;5;132;01m}\u001b[39;00m\u001b[33m\"\u001b[39m,\n\u001b[32m     76\u001b[39m     ) \u001b[38;5;28;01mfrom\u001b[39;00m\u001b[38;5;250m \u001b[39m\u001b[34;01me\u001b[39;00m\n",
      "\u001b[31mR2RException\u001b[39m: Request failed: ",
      "\nThe above exception was the direct cause of the following exception:\n",
      "\u001b[31mR2RException\u001b[39m                              Traceback (most recent call last)",
      "\u001b[36mCell\u001b[39m\u001b[36m \u001b[39m\u001b[32mIn[17]\u001b[39m\u001b[32m, line 2\u001b[39m\n\u001b[32m      1\u001b[39m \u001b[38;5;66;03m# Ingest a file\u001b[39;00m\n\u001b[32m----> \u001b[39m\u001b[32m2\u001b[39m ingestion_resp = \u001b[38;5;28;01mawait\u001b[39;00m storage_obj.ingest_file(\n\u001b[32m      3\u001b[39m     filepath=\u001b[33m\"\u001b[39m\u001b[33mdata/download.pdf\u001b[39m\u001b[33m\"\u001b[39m,\n\u001b[32m      4\u001b[39m     metadata={\n\u001b[32m      5\u001b[39m         \u001b[33m\"\u001b[39m\u001b[33mfoo\u001b[39m\u001b[33m\"\u001b[39m: \u001b[33m\"\u001b[39m\u001b[33mbar\u001b[39m\u001b[33m\"\u001b[39m,\n\u001b[32m      6\u001b[39m         \u001b[33m\"\u001b[39m\u001b[33mtest2\u001b[39m\u001b[33m\"\u001b[39m: \u001b[33m\"\u001b[39m\u001b[33mtest\u001b[39m\u001b[33m\"\u001b[39m\n\u001b[32m      7\u001b[39m     }\n\u001b[32m      8\u001b[39m )\n",
      "\u001b[36mFile \u001b[39m\u001b[32m~/Desktop/Evaluation-Approaches-for-Retrieval-Augmented-Generation-RAG-/backend/storage.py:82\u001b[39m, in \u001b[36mStorageHandler.ingest_file\u001b[39m\u001b[34m(self, filepath, metadata)\u001b[39m\n\u001b[32m     80\u001b[39m \u001b[38;5;28;01mexcept\u001b[39;00m R2RException \u001b[38;5;28;01mas\u001b[39;00m r2re:\n\u001b[32m     81\u001b[39m     \u001b[38;5;28mself\u001b[39m._logger.error(\u001b[38;5;28mstr\u001b[39m(r2re))\n\u001b[32m---> \u001b[39m\u001b[32m82\u001b[39m     \u001b[38;5;28;01mraise\u001b[39;00m R2RException(\u001b[38;5;28mstr\u001b[39m(r2re), \u001b[32m500\u001b[39m) \u001b[38;5;28;01mfrom\u001b[39;00m\u001b[38;5;250m \u001b[39m\u001b[34;01mr2re\u001b[39;00m\n\u001b[32m     83\u001b[39m \u001b[38;5;28;01mexcept\u001b[39;00m \u001b[38;5;167;01mException\u001b[39;00m \u001b[38;5;28;01mas\u001b[39;00m e:\n\u001b[32m     84\u001b[39m     \u001b[38;5;28mself\u001b[39m._logger.error(\u001b[33m'\u001b[39m\u001b[33m[-] Unexpected error while ingesting document: \u001b[39m\u001b[38;5;132;01m%s\u001b[39;00m\u001b[33m [-]\u001b[39m\u001b[33m'\u001b[39m, e)\n",
      "\u001b[31mR2RException\u001b[39m: Request failed: "
     ]
    }
   ],
   "source": [
    "# Ingest a file\n",
    "ingestion_resp = await storage_obj.ingest_file(\n",
    "    filepath=\"data/download.pdf\",\n",
    "    metadata={\n",
    "        \"foo\": \"bar\",\n",
    "        \"test2\": \"test\"\n",
    "    }\n",
    ")"
   ]
  },
  {
   "cell_type": "code",
   "execution_count": 29,
   "id": "2fd7a326",
   "metadata": {},
   "outputs": [],
   "source": [
    "response = await storage_obj.search_document_summaries(\"\"\"Hi, I'm interested in learning more about using my skills of Linux and Python so I can become a white hat hacker and serve society.\n",
    "Can you please recommend me some theory on subjects like DNS or ARP poisoning, buffer overflows, using python for scripting and stuff like that?\"\"\")"
   ]
  },
  {
   "cell_type": "code",
   "execution_count": 30,
   "id": "c6373b8c",
   "metadata": {},
   "outputs": [
    {
     "name": "stdout",
     "output_type": "stream",
     "text": [
      "0.7691990962508627 linuxbasicsforhackers.pdf\n",
      "0.5346533892178446 download.pdf\n",
      "0.31663979491238714 en-Manual-Gwent-ONLINE.pdf\n"
     ]
    }
   ],
   "source": [
    "for match in response.results:\n",
    "    print(match.metadata['search_score'], match.title)"
   ]
  },
  {
   "cell_type": "code",
   "execution_count": 16,
   "id": "de18723a",
   "metadata": {},
   "outputs": [
    {
     "data": {
      "text/plain": [
       "IngestionResponse(message='Document created and ingested successfully.', task_id=None, document_id=UUID('e360d67a-5560-5191-8b20-59d22c4a2105'))"
      ]
     },
     "execution_count": 16,
     "metadata": {},
     "output_type": "execute_result"
    }
   ],
   "source": [
    "ingestion_resp.results"
   ]
  },
  {
   "cell_type": "code",
   "execution_count": 6,
   "id": "d4ca9d68",
   "metadata": {},
   "outputs": [
    {
     "data": {
      "text/plain": [
       "[DocumentResponse(id=UUID('bde3662c-c23d-5d4e-b317-2b9986e9b0e9'), collection_ids=[UUID('122fdf6a-e116-546b-a8f6-e4cb2e2c0a09')], owner_id=UUID('2acb499e-8428-543b-bd85-0d9098718220'), document_type=<DocumentType.PDF: 'pdf'>, metadata={'version': 'v0'}, title='docker_cheatsheet.pdf', version='v0', size_in_bytes=713548, ingestion_status=<IngestionStatus.SUCCESS: 'success'>, extraction_status=<GraphExtractionStatus.PENDING: 'pending'>, created_at=datetime.datetime(2025, 3, 5, 11, 48, 42, 531426, tzinfo=TzInfo(UTC)), updated_at=datetime.datetime(2025, 3, 5, 11, 52, 51, 574563, tzinfo=TzInfo(UTC)), ingestion_attempt_number=None, summary='The document contains a message indicating that the provided text appears to be a hexadecimal dump, but the purpose or context behind it is unclear. The agent requests additional information or clarification on what help is needed, specifically asking if the goal is to decode the data, identify its format, or extract specific information from the dump.', summary_embedding=None, total_tokens=98)]"
      ]
     },
     "execution_count": 6,
     "metadata": {},
     "output_type": "execute_result"
    }
   ],
   "source": [
    "all_documents.results"
   ]
  },
  {
   "cell_type": "code",
   "execution_count": 5,
   "id": "3a2e2e59",
   "metadata": {},
   "outputs": [
    {
     "name": "stderr",
     "output_type": "stream",
     "text": [
      "Request failed: \n"
     ]
    },
    {
     "ename": "R2RException",
     "evalue": "Request failed: ",
     "output_type": "error",
     "traceback": [
      "\u001b[31m---------------------------------------------------------------------------\u001b[39m",
      "\u001b[31mReadTimeout\u001b[39m                               Traceback (most recent call last)",
      "\u001b[36mFile \u001b[39m\u001b[32m~/Desktop/Evaluation-Approaches-for-Retrieval-Augmented-Generation-RAG-/venv/lib/python3.12/site-packages/httpx/_transports/default.py:72\u001b[39m, in \u001b[36mmap_httpcore_exceptions\u001b[39m\u001b[34m()\u001b[39m\n\u001b[32m     71\u001b[39m \u001b[38;5;28;01mtry\u001b[39;00m:\n\u001b[32m---> \u001b[39m\u001b[32m72\u001b[39m     \u001b[38;5;28;01myield\u001b[39;00m\n\u001b[32m     73\u001b[39m \u001b[38;5;28;01mexcept\u001b[39;00m \u001b[38;5;167;01mException\u001b[39;00m \u001b[38;5;28;01mas\u001b[39;00m exc:\n",
      "\u001b[36mFile \u001b[39m\u001b[32m~/Desktop/Evaluation-Approaches-for-Retrieval-Augmented-Generation-RAG-/venv/lib/python3.12/site-packages/httpx/_transports/default.py:377\u001b[39m, in \u001b[36mAsyncHTTPTransport.handle_async_request\u001b[39m\u001b[34m(self, request)\u001b[39m\n\u001b[32m    376\u001b[39m \u001b[38;5;28;01mwith\u001b[39;00m map_httpcore_exceptions():\n\u001b[32m--> \u001b[39m\u001b[32m377\u001b[39m     resp = \u001b[38;5;28;01mawait\u001b[39;00m \u001b[38;5;28mself\u001b[39m._pool.handle_async_request(req)\n\u001b[32m    379\u001b[39m \u001b[38;5;28;01massert\u001b[39;00m \u001b[38;5;28misinstance\u001b[39m(resp.stream, typing.AsyncIterable)\n",
      "\u001b[36mFile \u001b[39m\u001b[32m~/Desktop/Evaluation-Approaches-for-Retrieval-Augmented-Generation-RAG-/venv/lib/python3.12/site-packages/httpcore/_async/connection_pool.py:256\u001b[39m, in \u001b[36mAsyncConnectionPool.handle_async_request\u001b[39m\u001b[34m(self, request)\u001b[39m\n\u001b[32m    255\u001b[39m     \u001b[38;5;28;01mawait\u001b[39;00m \u001b[38;5;28mself\u001b[39m._close_connections(closing)\n\u001b[32m--> \u001b[39m\u001b[32m256\u001b[39m     \u001b[38;5;28;01mraise\u001b[39;00m exc \u001b[38;5;28;01mfrom\u001b[39;00m\u001b[38;5;250m \u001b[39m\u001b[38;5;28;01mNone\u001b[39;00m\n\u001b[32m    258\u001b[39m \u001b[38;5;66;03m# Return the response. Note that in this case we still have to manage\u001b[39;00m\n\u001b[32m    259\u001b[39m \u001b[38;5;66;03m# the point at which the response is closed.\u001b[39;00m\n",
      "\u001b[36mFile \u001b[39m\u001b[32m~/Desktop/Evaluation-Approaches-for-Retrieval-Augmented-Generation-RAG-/venv/lib/python3.12/site-packages/httpcore/_async/connection_pool.py:236\u001b[39m, in \u001b[36mAsyncConnectionPool.handle_async_request\u001b[39m\u001b[34m(self, request)\u001b[39m\n\u001b[32m    234\u001b[39m \u001b[38;5;28;01mtry\u001b[39;00m:\n\u001b[32m    235\u001b[39m     \u001b[38;5;66;03m# Send the request on the assigned connection.\u001b[39;00m\n\u001b[32m--> \u001b[39m\u001b[32m236\u001b[39m     response = \u001b[38;5;28;01mawait\u001b[39;00m connection.handle_async_request(\n\u001b[32m    237\u001b[39m         pool_request.request\n\u001b[32m    238\u001b[39m     )\n\u001b[32m    239\u001b[39m \u001b[38;5;28;01mexcept\u001b[39;00m ConnectionNotAvailable:\n\u001b[32m    240\u001b[39m     \u001b[38;5;66;03m# In some cases a connection may initially be available to\u001b[39;00m\n\u001b[32m    241\u001b[39m     \u001b[38;5;66;03m# handle a request, but then become unavailable.\u001b[39;00m\n\u001b[32m    242\u001b[39m     \u001b[38;5;66;03m#\u001b[39;00m\n\u001b[32m    243\u001b[39m     \u001b[38;5;66;03m# In this case we clear the connection and try again.\u001b[39;00m\n",
      "\u001b[36mFile \u001b[39m\u001b[32m~/Desktop/Evaluation-Approaches-for-Retrieval-Augmented-Generation-RAG-/venv/lib/python3.12/site-packages/httpcore/_async/connection.py:103\u001b[39m, in \u001b[36mAsyncHTTPConnection.handle_async_request\u001b[39m\u001b[34m(self, request)\u001b[39m\n\u001b[32m    101\u001b[39m     \u001b[38;5;28;01mraise\u001b[39;00m exc\n\u001b[32m--> \u001b[39m\u001b[32m103\u001b[39m \u001b[38;5;28;01mreturn\u001b[39;00m \u001b[38;5;28;01mawait\u001b[39;00m \u001b[38;5;28mself\u001b[39m._connection.handle_async_request(request)\n",
      "\u001b[36mFile \u001b[39m\u001b[32m~/Desktop/Evaluation-Approaches-for-Retrieval-Augmented-Generation-RAG-/venv/lib/python3.12/site-packages/httpcore/_async/http11.py:136\u001b[39m, in \u001b[36mAsyncHTTP11Connection.handle_async_request\u001b[39m\u001b[34m(self, request)\u001b[39m\n\u001b[32m    135\u001b[39m         \u001b[38;5;28;01mawait\u001b[39;00m \u001b[38;5;28mself\u001b[39m._response_closed()\n\u001b[32m--> \u001b[39m\u001b[32m136\u001b[39m \u001b[38;5;28;01mraise\u001b[39;00m exc\n",
      "\u001b[36mFile \u001b[39m\u001b[32m~/Desktop/Evaluation-Approaches-for-Retrieval-Augmented-Generation-RAG-/venv/lib/python3.12/site-packages/httpcore/_async/http11.py:106\u001b[39m, in \u001b[36mAsyncHTTP11Connection.handle_async_request\u001b[39m\u001b[34m(self, request)\u001b[39m\n\u001b[32m     97\u001b[39m \u001b[38;5;28;01masync\u001b[39;00m \u001b[38;5;28;01mwith\u001b[39;00m Trace(\n\u001b[32m     98\u001b[39m     \u001b[33m\"\u001b[39m\u001b[33mreceive_response_headers\u001b[39m\u001b[33m\"\u001b[39m, logger, request, kwargs\n\u001b[32m     99\u001b[39m ) \u001b[38;5;28;01mas\u001b[39;00m trace:\n\u001b[32m    100\u001b[39m     (\n\u001b[32m    101\u001b[39m         http_version,\n\u001b[32m    102\u001b[39m         status,\n\u001b[32m    103\u001b[39m         reason_phrase,\n\u001b[32m    104\u001b[39m         headers,\n\u001b[32m    105\u001b[39m         trailing_data,\n\u001b[32m--> \u001b[39m\u001b[32m106\u001b[39m     ) = \u001b[38;5;28;01mawait\u001b[39;00m \u001b[38;5;28mself\u001b[39m._receive_response_headers(**kwargs)\n\u001b[32m    107\u001b[39m     trace.return_value = (\n\u001b[32m    108\u001b[39m         http_version,\n\u001b[32m    109\u001b[39m         status,\n\u001b[32m    110\u001b[39m         reason_phrase,\n\u001b[32m    111\u001b[39m         headers,\n\u001b[32m    112\u001b[39m     )\n",
      "\u001b[36mFile \u001b[39m\u001b[32m~/Desktop/Evaluation-Approaches-for-Retrieval-Augmented-Generation-RAG-/venv/lib/python3.12/site-packages/httpcore/_async/http11.py:177\u001b[39m, in \u001b[36mAsyncHTTP11Connection._receive_response_headers\u001b[39m\u001b[34m(self, request)\u001b[39m\n\u001b[32m    176\u001b[39m \u001b[38;5;28;01mwhile\u001b[39;00m \u001b[38;5;28;01mTrue\u001b[39;00m:\n\u001b[32m--> \u001b[39m\u001b[32m177\u001b[39m     event = \u001b[38;5;28;01mawait\u001b[39;00m \u001b[38;5;28mself\u001b[39m._receive_event(timeout=timeout)\n\u001b[32m    178\u001b[39m     \u001b[38;5;28;01mif\u001b[39;00m \u001b[38;5;28misinstance\u001b[39m(event, h11.Response):\n",
      "\u001b[36mFile \u001b[39m\u001b[32m~/Desktop/Evaluation-Approaches-for-Retrieval-Augmented-Generation-RAG-/venv/lib/python3.12/site-packages/httpcore/_async/http11.py:217\u001b[39m, in \u001b[36mAsyncHTTP11Connection._receive_event\u001b[39m\u001b[34m(self, timeout)\u001b[39m\n\u001b[32m    216\u001b[39m \u001b[38;5;28;01mif\u001b[39;00m event \u001b[38;5;129;01mis\u001b[39;00m h11.NEED_DATA:\n\u001b[32m--> \u001b[39m\u001b[32m217\u001b[39m     data = \u001b[38;5;28;01mawait\u001b[39;00m \u001b[38;5;28mself\u001b[39m._network_stream.read(\n\u001b[32m    218\u001b[39m         \u001b[38;5;28mself\u001b[39m.READ_NUM_BYTES, timeout=timeout\n\u001b[32m    219\u001b[39m     )\n\u001b[32m    221\u001b[39m     \u001b[38;5;66;03m# If we feed this case through h11 we'll raise an exception like:\u001b[39;00m\n\u001b[32m    222\u001b[39m     \u001b[38;5;66;03m#\u001b[39;00m\n\u001b[32m    223\u001b[39m     \u001b[38;5;66;03m#     httpcore.RemoteProtocolError: can't handle event type\u001b[39;00m\n\u001b[32m   (...)\u001b[39m\u001b[32m    227\u001b[39m     \u001b[38;5;66;03m# perspective. Instead we handle this case distinctly and treat\u001b[39;00m\n\u001b[32m    228\u001b[39m     \u001b[38;5;66;03m# it as a ConnectError.\u001b[39;00m\n",
      "\u001b[36mFile \u001b[39m\u001b[32m~/Desktop/Evaluation-Approaches-for-Retrieval-Augmented-Generation-RAG-/venv/lib/python3.12/site-packages/httpcore/_backends/anyio.py:32\u001b[39m, in \u001b[36mAnyIOStream.read\u001b[39m\u001b[34m(self, max_bytes, timeout)\u001b[39m\n\u001b[32m     26\u001b[39m exc_map = {\n\u001b[32m     27\u001b[39m     \u001b[38;5;167;01mTimeoutError\u001b[39;00m: ReadTimeout,\n\u001b[32m     28\u001b[39m     anyio.BrokenResourceError: ReadError,\n\u001b[32m     29\u001b[39m     anyio.ClosedResourceError: ReadError,\n\u001b[32m     30\u001b[39m     anyio.EndOfStream: ReadError,\n\u001b[32m     31\u001b[39m }\n\u001b[32m---> \u001b[39m\u001b[32m32\u001b[39m \u001b[38;5;28;01mwith\u001b[39;00m map_exceptions(exc_map):\n\u001b[32m     33\u001b[39m     \u001b[38;5;28;01mwith\u001b[39;00m anyio.fail_after(timeout):\n",
      "\u001b[36mFile \u001b[39m\u001b[32m~/miniconda3/lib/python3.12/contextlib.py:158\u001b[39m, in \u001b[36m_GeneratorContextManager.__exit__\u001b[39m\u001b[34m(self, typ, value, traceback)\u001b[39m\n\u001b[32m    157\u001b[39m \u001b[38;5;28;01mtry\u001b[39;00m:\n\u001b[32m--> \u001b[39m\u001b[32m158\u001b[39m     \u001b[38;5;28;43mself\u001b[39;49m\u001b[43m.\u001b[49m\u001b[43mgen\u001b[49m\u001b[43m.\u001b[49m\u001b[43mthrow\u001b[49m\u001b[43m(\u001b[49m\u001b[43mvalue\u001b[49m\u001b[43m)\u001b[49m\n\u001b[32m    159\u001b[39m \u001b[38;5;28;01mexcept\u001b[39;00m \u001b[38;5;167;01mStopIteration\u001b[39;00m \u001b[38;5;28;01mas\u001b[39;00m exc:\n\u001b[32m    160\u001b[39m     \u001b[38;5;66;03m# Suppress StopIteration *unless* it's the same exception that\u001b[39;00m\n\u001b[32m    161\u001b[39m     \u001b[38;5;66;03m# was passed to throw().  This prevents a StopIteration\u001b[39;00m\n\u001b[32m    162\u001b[39m     \u001b[38;5;66;03m# raised inside the \"with\" statement from being suppressed.\u001b[39;00m\n",
      "\u001b[36mFile \u001b[39m\u001b[32m~/Desktop/Evaluation-Approaches-for-Retrieval-Augmented-Generation-RAG-/venv/lib/python3.12/site-packages/httpcore/_exceptions.py:14\u001b[39m, in \u001b[36mmap_exceptions\u001b[39m\u001b[34m(map)\u001b[39m\n\u001b[32m     13\u001b[39m     \u001b[38;5;28;01mif\u001b[39;00m \u001b[38;5;28misinstance\u001b[39m(exc, from_exc):\n\u001b[32m---> \u001b[39m\u001b[32m14\u001b[39m         \u001b[38;5;28;01mraise\u001b[39;00m to_exc(exc) \u001b[38;5;28;01mfrom\u001b[39;00m\u001b[38;5;250m \u001b[39m\u001b[34;01mexc\u001b[39;00m\n\u001b[32m     15\u001b[39m \u001b[38;5;28;01mraise\u001b[39;00m\n",
      "\u001b[31mReadTimeout\u001b[39m: ",
      "\nThe above exception was the direct cause of the following exception:\n",
      "\u001b[31mReadTimeout\u001b[39m                               Traceback (most recent call last)",
      "\u001b[36mFile \u001b[39m\u001b[32m~/Desktop/Evaluation-Approaches-for-Retrieval-Augmented-Generation-RAG-/venv/lib/python3.12/site-packages/sdk/async_client.py:65\u001b[39m, in \u001b[36mR2RAsyncClient._make_request\u001b[39m\u001b[34m(self, method, endpoint, version, **kwargs)\u001b[39m\n\u001b[32m     64\u001b[39m \u001b[38;5;28;01mtry\u001b[39;00m:\n\u001b[32m---> \u001b[39m\u001b[32m65\u001b[39m     response = \u001b[38;5;28;01mawait\u001b[39;00m \u001b[38;5;28mself\u001b[39m.client.request(method, url, **request_args)\n\u001b[32m     66\u001b[39m     \u001b[38;5;28;01mawait\u001b[39;00m \u001b[38;5;28mself\u001b[39m._handle_response(response)\n",
      "\u001b[36mFile \u001b[39m\u001b[32m~/Desktop/Evaluation-Approaches-for-Retrieval-Augmented-Generation-RAG-/venv/lib/python3.12/site-packages/httpx/_client.py:1585\u001b[39m, in \u001b[36mAsyncClient.request\u001b[39m\u001b[34m(self, method, url, content, data, files, json, params, headers, cookies, auth, follow_redirects, timeout, extensions)\u001b[39m\n\u001b[32m   1572\u001b[39m request = \u001b[38;5;28mself\u001b[39m.build_request(\n\u001b[32m   1573\u001b[39m     method=method,\n\u001b[32m   1574\u001b[39m     url=url,\n\u001b[32m   (...)\u001b[39m\u001b[32m   1583\u001b[39m     extensions=extensions,\n\u001b[32m   1584\u001b[39m )\n\u001b[32m-> \u001b[39m\u001b[32m1585\u001b[39m \u001b[38;5;28;01mreturn\u001b[39;00m \u001b[38;5;28;01mawait\u001b[39;00m \u001b[38;5;28mself\u001b[39m.send(request, auth=auth, follow_redirects=follow_redirects)\n",
      "\u001b[36mFile \u001b[39m\u001b[32m~/Desktop/Evaluation-Approaches-for-Retrieval-Augmented-Generation-RAG-/venv/lib/python3.12/site-packages/httpx/_client.py:1674\u001b[39m, in \u001b[36mAsyncClient.send\u001b[39m\u001b[34m(self, request, stream, auth, follow_redirects)\u001b[39m\n\u001b[32m   1672\u001b[39m auth = \u001b[38;5;28mself\u001b[39m._build_request_auth(request, auth)\n\u001b[32m-> \u001b[39m\u001b[32m1674\u001b[39m response = \u001b[38;5;28;01mawait\u001b[39;00m \u001b[38;5;28mself\u001b[39m._send_handling_auth(\n\u001b[32m   1675\u001b[39m     request,\n\u001b[32m   1676\u001b[39m     auth=auth,\n\u001b[32m   1677\u001b[39m     follow_redirects=follow_redirects,\n\u001b[32m   1678\u001b[39m     history=[],\n\u001b[32m   1679\u001b[39m )\n\u001b[32m   1680\u001b[39m \u001b[38;5;28;01mtry\u001b[39;00m:\n",
      "\u001b[36mFile \u001b[39m\u001b[32m~/Desktop/Evaluation-Approaches-for-Retrieval-Augmented-Generation-RAG-/venv/lib/python3.12/site-packages/httpx/_client.py:1702\u001b[39m, in \u001b[36mAsyncClient._send_handling_auth\u001b[39m\u001b[34m(self, request, auth, follow_redirects, history)\u001b[39m\n\u001b[32m   1701\u001b[39m \u001b[38;5;28;01mwhile\u001b[39;00m \u001b[38;5;28;01mTrue\u001b[39;00m:\n\u001b[32m-> \u001b[39m\u001b[32m1702\u001b[39m     response = \u001b[38;5;28;01mawait\u001b[39;00m \u001b[38;5;28mself\u001b[39m._send_handling_redirects(\n\u001b[32m   1703\u001b[39m         request,\n\u001b[32m   1704\u001b[39m         follow_redirects=follow_redirects,\n\u001b[32m   1705\u001b[39m         history=history,\n\u001b[32m   1706\u001b[39m     )\n\u001b[32m   1707\u001b[39m     \u001b[38;5;28;01mtry\u001b[39;00m:\n",
      "\u001b[36mFile \u001b[39m\u001b[32m~/Desktop/Evaluation-Approaches-for-Retrieval-Augmented-Generation-RAG-/venv/lib/python3.12/site-packages/httpx/_client.py:1739\u001b[39m, in \u001b[36mAsyncClient._send_handling_redirects\u001b[39m\u001b[34m(self, request, follow_redirects, history)\u001b[39m\n\u001b[32m   1737\u001b[39m     \u001b[38;5;28;01mawait\u001b[39;00m hook(request)\n\u001b[32m-> \u001b[39m\u001b[32m1739\u001b[39m response = \u001b[38;5;28;01mawait\u001b[39;00m \u001b[38;5;28mself\u001b[39m._send_single_request(request)\n\u001b[32m   1740\u001b[39m \u001b[38;5;28;01mtry\u001b[39;00m:\n",
      "\u001b[36mFile \u001b[39m\u001b[32m~/Desktop/Evaluation-Approaches-for-Retrieval-Augmented-Generation-RAG-/venv/lib/python3.12/site-packages/httpx/_client.py:1776\u001b[39m, in \u001b[36mAsyncClient._send_single_request\u001b[39m\u001b[34m(self, request)\u001b[39m\n\u001b[32m   1775\u001b[39m \u001b[38;5;28;01mwith\u001b[39;00m request_context(request=request):\n\u001b[32m-> \u001b[39m\u001b[32m1776\u001b[39m     response = \u001b[38;5;28;01mawait\u001b[39;00m transport.handle_async_request(request)\n\u001b[32m   1778\u001b[39m \u001b[38;5;28;01massert\u001b[39;00m \u001b[38;5;28misinstance\u001b[39m(response.stream, AsyncByteStream)\n",
      "\u001b[36mFile \u001b[39m\u001b[32m~/Desktop/Evaluation-Approaches-for-Retrieval-Augmented-Generation-RAG-/venv/lib/python3.12/site-packages/httpx/_transports/default.py:376\u001b[39m, in \u001b[36mAsyncHTTPTransport.handle_async_request\u001b[39m\u001b[34m(self, request)\u001b[39m\n\u001b[32m    364\u001b[39m req = httpcore.Request(\n\u001b[32m    365\u001b[39m     method=request.method,\n\u001b[32m    366\u001b[39m     url=httpcore.URL(\n\u001b[32m   (...)\u001b[39m\u001b[32m    374\u001b[39m     extensions=request.extensions,\n\u001b[32m    375\u001b[39m )\n\u001b[32m--> \u001b[39m\u001b[32m376\u001b[39m \u001b[38;5;28;01mwith\u001b[39;00m map_httpcore_exceptions():\n\u001b[32m    377\u001b[39m     resp = \u001b[38;5;28;01mawait\u001b[39;00m \u001b[38;5;28mself\u001b[39m._pool.handle_async_request(req)\n",
      "\u001b[36mFile \u001b[39m\u001b[32m~/miniconda3/lib/python3.12/contextlib.py:158\u001b[39m, in \u001b[36m_GeneratorContextManager.__exit__\u001b[39m\u001b[34m(self, typ, value, traceback)\u001b[39m\n\u001b[32m    157\u001b[39m \u001b[38;5;28;01mtry\u001b[39;00m:\n\u001b[32m--> \u001b[39m\u001b[32m158\u001b[39m     \u001b[38;5;28;43mself\u001b[39;49m\u001b[43m.\u001b[49m\u001b[43mgen\u001b[49m\u001b[43m.\u001b[49m\u001b[43mthrow\u001b[49m\u001b[43m(\u001b[49m\u001b[43mvalue\u001b[49m\u001b[43m)\u001b[49m\n\u001b[32m    159\u001b[39m \u001b[38;5;28;01mexcept\u001b[39;00m \u001b[38;5;167;01mStopIteration\u001b[39;00m \u001b[38;5;28;01mas\u001b[39;00m exc:\n\u001b[32m    160\u001b[39m     \u001b[38;5;66;03m# Suppress StopIteration *unless* it's the same exception that\u001b[39;00m\n\u001b[32m    161\u001b[39m     \u001b[38;5;66;03m# was passed to throw().  This prevents a StopIteration\u001b[39;00m\n\u001b[32m    162\u001b[39m     \u001b[38;5;66;03m# raised inside the \"with\" statement from being suppressed.\u001b[39;00m\n",
      "\u001b[36mFile \u001b[39m\u001b[32m~/Desktop/Evaluation-Approaches-for-Retrieval-Augmented-Generation-RAG-/venv/lib/python3.12/site-packages/httpx/_transports/default.py:89\u001b[39m, in \u001b[36mmap_httpcore_exceptions\u001b[39m\u001b[34m()\u001b[39m\n\u001b[32m     88\u001b[39m message = \u001b[38;5;28mstr\u001b[39m(exc)\n\u001b[32m---> \u001b[39m\u001b[32m89\u001b[39m \u001b[38;5;28;01mraise\u001b[39;00m mapped_exc(message) \u001b[38;5;28;01mfrom\u001b[39;00m\u001b[38;5;250m \u001b[39m\u001b[34;01mexc\u001b[39;00m\n",
      "\u001b[31mReadTimeout\u001b[39m: ",
      "\nThe above exception was the direct cause of the following exception:\n",
      "\u001b[31mR2RException\u001b[39m                              Traceback (most recent call last)",
      "\u001b[36mFile \u001b[39m\u001b[32m~/Desktop/Evaluation-Approaches-for-Retrieval-Augmented-Generation-RAG-/backend/storage.py:67\u001b[39m, in \u001b[36mStorageHandler.ingest_file\u001b[39m\u001b[34m(self, filepath, metadata)\u001b[39m\n\u001b[32m     66\u001b[39m \u001b[38;5;28;01mtry\u001b[39;00m:\n\u001b[32m---> \u001b[39m\u001b[32m67\u001b[39m     ingestion_result = \u001b[38;5;28;01mawait\u001b[39;00m \u001b[38;5;28mself\u001b[39m._client.documents.create(\n\u001b[32m     68\u001b[39m         file_path=filepath,\n\u001b[32m     69\u001b[39m         ingestion_mode=\u001b[33m'\u001b[39m\u001b[33mcustom\u001b[39m\u001b[33m'\u001b[39m,\n\u001b[32m     70\u001b[39m         metadata=metadata,\n\u001b[32m     71\u001b[39m         run_with_orchestration=\u001b[38;5;28;01mFalse\u001b[39;00m\n\u001b[32m     72\u001b[39m     )\n\u001b[32m     74\u001b[39m     \u001b[38;5;66;03m# ingestion_config={\u001b[39;00m\n\u001b[32m     75\u001b[39m     \u001b[38;5;66;03m#     \"provider\": \"unstructured_local\",\u001b[39;00m\n\u001b[32m     76\u001b[39m     \u001b[38;5;66;03m#     \"strategy\": \"auto\",\u001b[39;00m\n\u001b[32m   (...)\u001b[39m\u001b[32m     81\u001b[39m     \u001b[38;5;66;03m#     \"overlap\": 100,\u001b[39;00m\n\u001b[32m     82\u001b[39m     \u001b[38;5;66;03m# }\u001b[39;00m\n",
      "\u001b[36mFile \u001b[39m\u001b[32m~/Desktop/Evaluation-Approaches-for-Retrieval-Augmented-Generation-RAG-/venv/lib/python3.12/site-packages/sdk/asnyc_methods/documents.py:108\u001b[39m, in \u001b[36mDocumentsSDK.create\u001b[39m\u001b[34m(self, file_path, raw_text, chunks, id, ingestion_mode, collection_ids, metadata, ingestion_config, run_with_orchestration)\u001b[39m\n\u001b[32m    107\u001b[39m \u001b[38;5;28;01mtry\u001b[39;00m:\n\u001b[32m--> \u001b[39m\u001b[32m108\u001b[39m     response_dict = \u001b[38;5;28;01mawait\u001b[39;00m \u001b[38;5;28mself\u001b[39m.client._make_request(\n\u001b[32m    109\u001b[39m         \u001b[33m\"\u001b[39m\u001b[33mPOST\u001b[39m\u001b[33m\"\u001b[39m,\n\u001b[32m    110\u001b[39m         \u001b[33m\"\u001b[39m\u001b[33mdocuments\u001b[39m\u001b[33m\"\u001b[39m,\n\u001b[32m    111\u001b[39m         data=data,\n\u001b[32m    112\u001b[39m         files=files,\n\u001b[32m    113\u001b[39m         version=\u001b[33m\"\u001b[39m\u001b[33mv3\u001b[39m\u001b[33m\"\u001b[39m,\n\u001b[32m    114\u001b[39m     )\n\u001b[32m    115\u001b[39m \u001b[38;5;28;01mfinally\u001b[39;00m:\n\u001b[32m    116\u001b[39m     \u001b[38;5;66;03m# Ensure we close the file after the request is complete\u001b[39;00m\n",
      "\u001b[36mFile \u001b[39m\u001b[32m~/Desktop/Evaluation-Approaches-for-Retrieval-Augmented-Generation-RAG-/venv/lib/python3.12/site-packages/sdk/async_client.py:73\u001b[39m, in \u001b[36mR2RAsyncClient._make_request\u001b[39m\u001b[34m(self, method, endpoint, version, **kwargs)\u001b[39m\n\u001b[32m     72\u001b[39m \u001b[38;5;28;01mexcept\u001b[39;00m httpx.RequestError \u001b[38;5;28;01mas\u001b[39;00m e:\n\u001b[32m---> \u001b[39m\u001b[32m73\u001b[39m     \u001b[38;5;28;01mraise\u001b[39;00m R2RException(\n\u001b[32m     74\u001b[39m         status_code=\u001b[32m500\u001b[39m,\n\u001b[32m     75\u001b[39m         message=\u001b[33mf\u001b[39m\u001b[33m\"\u001b[39m\u001b[33mRequest failed: \u001b[39m\u001b[38;5;132;01m{\u001b[39;00m\u001b[38;5;28mstr\u001b[39m(e)\u001b[38;5;132;01m}\u001b[39;00m\u001b[33m\"\u001b[39m,\n\u001b[32m     76\u001b[39m     ) \u001b[38;5;28;01mfrom\u001b[39;00m\u001b[38;5;250m \u001b[39m\u001b[34;01me\u001b[39;00m\n",
      "\u001b[31mR2RException\u001b[39m: Request failed: ",
      "\nThe above exception was the direct cause of the following exception:\n",
      "\u001b[31mR2RException\u001b[39m                              Traceback (most recent call last)",
      "\u001b[36mCell\u001b[39m\u001b[36m \u001b[39m\u001b[32mIn[5]\u001b[39m\u001b[32m, line 1\u001b[39m\n\u001b[32m----> \u001b[39m\u001b[32m1\u001b[39m response = \u001b[38;5;28;01mawait\u001b[39;00m storage_obj.ingest_file(filepath=\u001b[33m\"\u001b[39m\u001b[33mdata/en-Manual-Gwent-ONLINE.pdf\u001b[39m\u001b[33m\"\u001b[39m)\n\u001b[32m      2\u001b[39m response\n",
      "\u001b[36mFile \u001b[39m\u001b[32m~/Desktop/Evaluation-Approaches-for-Retrieval-Augmented-Generation-RAG-/backend/storage.py:86\u001b[39m, in \u001b[36mStorageHandler.ingest_file\u001b[39m\u001b[34m(self, filepath, metadata)\u001b[39m\n\u001b[32m     84\u001b[39m \u001b[38;5;28;01mexcept\u001b[39;00m R2RException \u001b[38;5;28;01mas\u001b[39;00m r2re:\n\u001b[32m     85\u001b[39m     \u001b[38;5;28mself\u001b[39m._logger.error(\u001b[38;5;28mstr\u001b[39m(r2re))\n\u001b[32m---> \u001b[39m\u001b[32m86\u001b[39m     \u001b[38;5;28;01mraise\u001b[39;00m R2RException(\u001b[38;5;28mstr\u001b[39m(r2re), \u001b[32m500\u001b[39m) \u001b[38;5;28;01mfrom\u001b[39;00m\u001b[38;5;250m \u001b[39m\u001b[34;01mr2re\u001b[39;00m\n\u001b[32m     87\u001b[39m \u001b[38;5;28;01mexcept\u001b[39;00m \u001b[38;5;167;01mException\u001b[39;00m \u001b[38;5;28;01mas\u001b[39;00m e:\n\u001b[32m     88\u001b[39m     \u001b[38;5;28mself\u001b[39m._logger.error(\u001b[33m'\u001b[39m\u001b[33m[-] Unexpected error while ingesting document: \u001b[39m\u001b[38;5;132;01m%s\u001b[39;00m\u001b[33m [-]\u001b[39m\u001b[33m'\u001b[39m, e)\n",
      "\u001b[31mR2RException\u001b[39m: Request failed: "
     ]
    }
   ],
   "source": [
    "response = await storage_obj.ingest_file(filepath=\"data/en-Manual-Gwent-ONLINE.pdf\")\n",
    "response"
   ]
  },
  {
   "cell_type": "code",
   "execution_count": 6,
   "id": "2e1d684d",
   "metadata": {},
   "outputs": [
    {
     "data": {
      "text/plain": [
       "[DocumentResponse(id=UUID('e360d67a-5560-5191-8b20-59d22c4a2105'), collection_ids=[UUID('122fdf6a-e116-546b-a8f6-e4cb2e2c0a09')], owner_id=UUID('2acb499e-8428-543b-bd85-0d9098718220'), document_type=<DocumentType.PDF: 'pdf'>, metadata={'version': 'v0'}, title='en-Manual-Gwent-ONLINE.pdf', version='v0', size_in_bytes=3168700, ingestion_status=<IngestionStatus.SUCCESS: 'success'>, extraction_status=<GraphExtractionStatus.PENDING: 'pending'>, created_at=datetime.datetime(2025, 3, 5, 12, 1, 15, 961742, tzinfo=TzInfo(UTC)), updated_at=datetime.datetime(2025, 3, 5, 12, 1, 15, 965276, tzinfo=TzInfo(UTC)), ingestion_attempt_number=None, summary=\"The document contains a comprehensive guide to playing Gwent, a 2-player card game developed by CD Projekt Red. The game involves two players taking turns placing cards on the battlefield, with each player's total strength being calculated at the end of each round. The player with the highest total strength wins the round, and the first player to win two rounds wins the game.\\n\\nThe document explains the basic components of a Gwent deck, including Leader Cards, Unit Cards, Special Cards, and Gem Counters. It also outlines the setup process for playing Gwent, which includes shuffling decks, drawing cards, and determining who starts first.\\n\\nKey strategies and rules are highlighted throughout the guide, including the importance of choosing the right Leader Card and faction, using Special Cards to modify unit strength, and managing Gem Counters to track rounds lost. The document also provides examples of how to keep score and resolve conflicts between card abilities.\\n\\nThe appendix includes detailed descriptions of various Unit Card and Special Card abilities, as well as faction-specific abilities that can influence gameplay. Overall, the guide aims to provide a thorough understanding of Gwent's rules and strategies for both new and experienced players.\", summary_embedding=None, total_tokens=1901),\n",
       " DocumentResponse(id=UUID('bde3662c-c23d-5d4e-b317-2b9986e9b0e9'), collection_ids=[UUID('122fdf6a-e116-546b-a8f6-e4cb2e2c0a09')], owner_id=UUID('2acb499e-8428-543b-bd85-0d9098718220'), document_type=<DocumentType.PDF: 'pdf'>, metadata={'version': 'v0'}, title='docker_cheatsheet.pdf', version='v0', size_in_bytes=713548, ingestion_status=<IngestionStatus.SUCCESS: 'success'>, extraction_status=<GraphExtractionStatus.PENDING: 'pending'>, created_at=datetime.datetime(2025, 3, 5, 11, 48, 42, 531426, tzinfo=TzInfo(UTC)), updated_at=datetime.datetime(2025, 3, 5, 11, 52, 51, 574563, tzinfo=TzInfo(UTC)), ingestion_attempt_number=None, summary='The document contains a message indicating that the provided text appears to be a hexadecimal dump, but the purpose or context behind it is unclear. The agent requests additional information or clarification on what help is needed, specifically asking if the goal is to decode the data, identify its format, or extract specific information from the dump.', summary_embedding=None, total_tokens=98)]"
      ]
     },
     "execution_count": 6,
     "metadata": {},
     "output_type": "execute_result"
    }
   ],
   "source": [
    "obj = await storage_obj.list_documents()\n",
    "obj.results"
   ]
  },
  {
   "cell_type": "code",
   "execution_count": 7,
   "id": "ef1c85c3",
   "metadata": {},
   "outputs": [
    {
     "name": "stdout",
     "output_type": "stream",
     "text": [
      "{'id': UUID('e360d67a-5560-5191-8b20-59d22c4a2105'), 'collection_ids': [UUID('122fdf6a-e116-546b-a8f6-e4cb2e2c0a09')], 'owner_id': UUID('2acb499e-8428-543b-bd85-0d9098718220'), 'document_type': <DocumentType.PDF: 'pdf'>, 'metadata': {'version': 'v0', 'search_score': 0.8591788755380944, 'search_type': 'semantic'}, 'title': 'en-Manual-Gwent-ONLINE.pdf', 'version': 'v0', 'size_in_bytes': 3168700, 'ingestion_status': <IngestionStatus.SUCCESS: 'success'>, 'extraction_status': <GraphExtractionStatus.PENDING: 'pending'>, 'created_at': datetime.datetime(2025, 3, 5, 12, 1, 15, 961742, tzinfo=TzInfo(UTC)), 'updated_at': datetime.datetime(2025, 3, 5, 12, 1, 15, 965276, tzinfo=TzInfo(UTC)), 'ingestion_attempt_number': None, 'summary': \"The document contains a comprehensive guide to playing Gwent, a 2-player card game developed by CD Projekt Red. The game involves two players taking turns placing cards on the battlefield, with each player's total strength being calculated at the end of each round. The player with the highest total strength wins the round, and the first player to win two rounds wins the game.\\n\\nThe document explains the basic components of a Gwent deck, including Leader Cards, Unit Cards, Special Cards, and Gem Counters. It also outlines the setup process for playing Gwent, which includes shuffling decks, drawing cards, and determining who starts first.\\n\\nKey strategies and rules are highlighted throughout the guide, including the importance of choosing the right Leader Card and faction, using Special Cards to modify unit strength, and managing Gem Counters to track rounds lost. The document also provides examples of how to keep score and resolve conflicts between card abilities.\\n\\nThe appendix includes detailed descriptions of various Unit Card and Special Card abilities, as well as faction-specific abilities that can influence gameplay. Overall, the guide aims to provide a thorough understanding of Gwent's rules and strategies for both new and experienced players.\", 'summary_embedding': [-0.008177645, 0.014988293, 0.029992042, 0.0049314136, -0.010579105, -0.04567131, -0.029410826, 0.01807756, -0.045819156, 0.066194914, 0.0028038537, 0.01628612, 0.01431418, 0.00027953088, 0.022065897, -0.03624393, -0.06782601, -0.051498707, -0.04422314, -0.024338199, 0.013655593, 0.034692753, -0.0628437, -0.040535357, 0.0101064965, 0.044951856, 0.011310124, 0.009308816, 0.08473336, 0.0027760498, 0.0039642085, -0.02415386, -0.0025997735, 0.0053061415, -0.0266464, -0.036259342, 0.00024010133, -0.0106871845, -0.039434776, -0.023389116, 0.0496006, -0.0058984756, 0.037918594, -0.030496227, -0.054381058, -0.00882229, 0.002913315, -0.054815587, 0.00088160916, -0.06806663, -0.027627429, -0.026248798, -0.02555915, 0.009968981, -0.0070558735, 0.037581883, -0.0060588387, 0.013218418, -0.005430083, 0.04742254, 0.055353273, -0.04144417, 0.017682476, 0.0046886615, 0.02264152, 0.045151, 0.0060423096, -0.041563753, -0.007855213, -0.04616147, -0.021456515, -0.0027445608, -0.04984432, -0.024316348, -0.05910048, 0.038432077, 0.022635156, -0.0432047, -0.031195497, 0.0030415475, 0.008966252, 0.039249234, -0.038440373, -0.016222404, -0.032907583, -0.025728155, 0.050579537, 0.0005000784, 0.012510831, -0.030525714, 0.0060417177, 0.076558545, 0.014237921, -0.0043250863, 0.0054662284, 0.05558831, -0.021364292, 0.0043631666, -0.019224357, -0.01552817, 0.031079603, 0.03759607, -0.031756133, 0.031889003, -0.027222462, -0.008312658, 0.023440264, -0.028281165, -0.04081289, -0.032139707, 0.00768127, -0.031739604, 0.007855664, -0.025294274, -0.021192309, 0.035835665, 0.02154553, 0.0010324039, -0.015693676, 0.040119745, 0.027257057, 0.011236296, 0.005713741, 0.03668569, -0.0052636475, -0.01566382, 0.0088149505, 0.030773684, -0.055345837, -0.019863334, 0.05719238, -0.018980702, 0.009313817, 0.04983252, -0.0072306423, 0.017173404, 0.008179354, 0.0023348604, 0.017373044, -0.057979975, 0.061290085, 3.595269e-05, -0.02090166, 0.068921365, 0.038250025, -0.009081995, -0.0011028441, 0.02397292, -0.07128168, 0.033526864, -0.031682167, -0.010209393, 0.016281202, 0.05937273, -0.016962923, -0.017955007, -0.030508926, 0.012403051, 0.0013201198, -0.037532195, 0.0022371768, 0.04076607, 0.009804835, 0.008127767, -0.004309204, -0.009663999, -0.018465009, -0.07156716, -0.0111934375, -0.005696065, 0.0118336715, -0.048397973, 0.014106861, -0.012792281, 0.029756874, 0.045972455, 0.07925257, 0.003017122, 0.03918904, 0.03764582, -0.005675829, 0.017806534, -0.017060934, 0.033407655, -0.03518118, 0.054349665, -0.0132368, -0.021047568, -0.029289002, 0.03843435, 0.0009072921, -0.0014908322, 0.008704894, 0.0376536, 0.048986305, 0.038694676, -0.0361065, 0.031507596, -0.006149822, -0.039085504, -0.038453832, -0.02250128, -0.00028912342, -0.0007197154, 0.011364414, -0.0003290971, 0.007396694, 0.003817062, -0.080568016, -0.054776374, 0.04029608, 0.013178781, -0.02625052, -0.008854422, 0.01159278, 0.027850002, -0.038684852, -0.0065814937, -0.015298365, 0.004980015, -0.0076294537, 0.040051676, -0.023594545, 0.049982682, -0.04688566, -0.051302392, 0.011734003, 0.013455118, 0.005831417, 0.060030654, 0.0006290297, 0.05760143, 0.004871279, 0.041809686, 0.015191564, -0.034933694, -0.037840508, -0.038821384, 0.020206915, -0.038356077, 0.006816198, 0.0015507772, 0.024395041, 0.018775534, 0.056189712, 0.016647654, -0.013098104, -0.006815888, -0.0075487355, 0.021569999, -0.008003966, -0.0085102655, 0.020586869, -0.02072707, -0.035510875, 0.009849777, 0.03258567, 0.07264024, 0.010611843, -0.0031660832, -0.006061364, 0.0009974847, -0.017283197, 0.0028253784, -0.006134521, 0.022264788, 0.016432254, 0.009370221, 0.012178064, -0.04713043, -0.008145382, -0.039148793, -0.023535008, 0.012845502, -0.017703056, -0.0026244724, 0.030916616, 0.0018656264, -0.019695342, -0.026324058, -0.0089994725, 0.021485921, -0.013792289, 0.04777411, 0.023784094, 0.016288804, -0.084826164, -0.04111813, 0.0022753065, 0.06376246, -0.00807491, 0.054630492, -0.006932337, -0.0060487213, 0.050795674, -0.05258245, 0.019315965, -0.00248429, -0.004961715, -0.0059103044, -0.03231997, -0.0031018518, 0.052262127, 0.014016937, -0.02271334, 0.008944471, 0.017342946, -0.04596022, 0.051937476, 0.039565813, -0.03154475, 0.0074736364, -0.011714924, -0.004196275, -0.028457617, 0.039436076, 0.02626039, -0.012471924, -0.020361386, -0.0100686615, -0.018972762, -0.08665094, 0.031294458, -0.021022087, -0.03432329, 0.0088110175, -0.00088728516, -0.066338144, 0.0053944206, 0.024790911, -0.03712722, 0.011459813, -0.0045560985, 0.0066317474, -0.035966925, -0.014443031, 0.06705768, -0.054569073, 0.027482191, -0.021672416, -0.0034110844, -0.09944179, 0.03658455, 0.02471484, 0.022136068, 0.010143676, 0.03577082, 0.0042086816, -0.017528823, -0.036429543, -0.059709936, -0.016286833, 0.016354091, -0.0052267234, 0.045077477, 0.035602447, -0.033266317, -0.0011566455, 0.010727621, -0.008098307, 0.017425712, -0.010875972, -0.0146360155, -0.01166032, -0.002524993, -0.04186455, 0.024279743, 0.037716143, 0.04044284, 0.0026769757, 0.0046346616, 0.022896877, 0.030101726, 0.04758554, -0.0007056667, 0.0021208653, 0.03682772, -0.032601066, 0.0423507, -0.016480446, -0.023051685, -0.013170554, 0.064674, 0.019177403, 0.0460419, 0.017305193, 0.010105678, -0.007468232, -0.024316378, -0.020770764, -0.006198394, -0.026205227, 0.017638423, -0.03348164, -0.012365804, 0.00720654, 0.024672784, 0.036507256, 0.067304395, 0.008369946, 0.050865926, 0.018786006, 0.034559473, 0.030378668, -0.06189105, 0.0007630837, -0.06683682, 0.025928479, 0.004587882, -0.013145033, -0.028783519, 0.01188931, -0.04205524, 0.0138853025, 0.05271428, 0.038207263, -0.024824513, 0.02550068, -0.040060394, 0.008226225, -0.018866839, -0.037865914, -0.0058999276, 0.045549292, 0.04114924, -0.055699192, -0.028931318, -0.027407782, 0.0008371291, 0.04218019, -0.02411466, 0.001344092, -0.03257938, -0.013127179, -0.04520999, -0.020088274, 0.046729673, 0.02759524, -0.030652467, -0.017923817, -0.01777569, -0.015359837, 0.0030490123, 0.026637174, -0.017479684, -0.023910975, 0.0051953183, 0.015843876, -0.00278224, -0.028489543, 0.018268991, -0.017644621, -0.00354364, 0.017655456, 0.018052788, 0.0011355376, 0.0010664565, 0.027506491, -0.036037024, -0.018697256, -0.018379526, 0.0039445558, -0.01254912, 0.008242859, 0.002436654, 0.042414986, -0.057416372, -0.0032014307, 0.04532055, -0.008400417, -0.008446852, 0.005517944, 0.031868972, 0.04210321, -0.016637778, -0.02349381, 0.061373927, -0.0013815596, -0.0011498475, -0.008643864, -0.024633959, 0.062308278, 0.0048842584, 0.015158577, -0.04857249, -0.02967512, 0.02201407, 0.0026686257, -0.012314841, 0.04899238, -0.046752553, -0.015757978, -0.015304197, -0.0032845116, -0.02425581, -0.018262593, -0.04737475, 0.028309202, -0.03393815, -0.0061589684, -0.05059231, 0.0061140633, -0.047766935, -0.05693205, -0.023131587, 0.018291404, -0.019708592, -0.050386477, -0.009709317, 0.023029223, -0.038992584, 0.025043327, -0.009866346, 0.0032779542, -0.007149533, -0.030629668, -0.0056355204, 0.00015377624, -0.07652652, 0.0499819, -0.005482419, -0.07862563, -0.05758614, 0.04218113, -0.02432313, 0.001960928, -0.033084232, -0.022770433, -0.04631365, -0.007601709, -0.027032875, 0.019992387, -0.013907138, -0.07789674, -0.013488471, 0.013667196, -0.008108265, -0.012334754, -0.07657367, -0.0048527257, -0.01938986, 0.01347938, 0.024044525, 0.027268078, -0.07078177, 0.026033051, 0.02997174, 0.013106745, 0.015502309, 0.044629786, 0.014971394, -0.00046007446, 0.013538984, 0.06779678, -0.0370492, -0.006736704, 0.008709934, 0.024549522, -0.016152404, -0.023010418, -0.017115373, 0.0056277835, -0.065260865, 0.0014755927, -0.009236595, -0.03430606, -0.024259899, 0.03754573, 0.0319565, -0.028413357, 0.059496634, 0.0055556996, 0.0062547512, 0.04794917, 0.027847348, -0.045256034, 0.030879842, -0.061460234, -0.066325195, 0.02193927, 0.0042644106, -0.020897796, -0.02587109, -0.0031689934, 0.101763785, 0.010308407, 0.034596838, 0.07132893, 0.0055064494, -0.007235701, -0.061257683, -0.0031816359, 0.0037882715, 0.013964099, 0.011094349, 0.0017657791, 0.0014397986, 0.0024033075, -0.049127743, -0.0001642086, -0.019889953, 0.0125768185, 0.0071486775, -0.019011125, 0.02774497, -0.055005535, -0.03165234, -0.0302504, -0.0072388817, 0.010447211, 0.00016901271, 0.060255736, 0.041536923, 0.006133944, 0.013259004, 0.018256934, 0.02410932, -0.05868249, 0.02153901, 0.024040882, 0.012249513, 0.056533642, -0.024036728, -0.05916475, -0.023346523, -0.054503128, 0.008285059, 0.011806887, -0.021355841, 0.044919852, 0.029651329, 0.0031451138, 0.031107964, 0.019594418, -0.010076747, 0.023018714, -0.01851962, 0.047950428, -0.044598434, 0.012117769, 0.02829544, 0.0489258, 0.0046369056, -0.032752447, 0.0017034054, -0.025489273, -0.00119606, 0.045395423, -0.022315824, -0.023484329, 0.004384612, 0.049011417, 0.026192797, -0.044535067, -0.011309985, 0.032297365, -0.027349027, 0.009364602, -0.032920282, -0.030510265, 0.014595863, 0.013016451, -0.011768013, 0.030661274, -0.014767765, 0.039801497, 0.024458772, -0.0550028, -0.016183648, -0.04630911, -0.019920915, 0.023398437, 0.013478061, -0.017806908, -0.000754166, 0.018666932, 0.0107282745, -0.020748995, 0.0065871356, -0.018252857, 0.034655146, -0.06064654, 0.052891426, -0.053715516, -0.02654139, 0.0044451663, 0.002011631, -0.012550395, 0.0047470303, -0.0096358275, -0.01663691, -0.023884198, 0.007343948, -0.004633056, -0.05225567, -0.016057342, -0.06217547, -0.043504246, -0.030035492, -0.03536572, 0.001358772, 0.024449341, -0.009336672, 0.026210783, 0.024149518, -0.052293267, -0.026522724, -0.0027260985, 0.027700515, -0.000517793, -0.05386659, -0.039319463, -0.02938965, -0.013671203, 0.029858453, -0.02210356, 0.0006003581, -0.024526438, 0.019188732, 0.0022507443, 0.03982254, -0.005177422, 0.045173354, 0.021659028, 0.008313518, 0.012826302, -0.032347735, -0.014663965, 0.06062195, 0.0053586853, -0.04302079, 0.008120231, -0.02553676, 0.018213073, 0.018482843, -0.019852014, -0.015905175, 0.013283037, -0.026596699, 0.043527, 0.025115019, 0.011333485, 0.047426745, -0.008253604, 0.0050830357, -0.029492287, -0.04760352, -0.06426086, -0.016085768, 0.02512333, -0.050230052, 0.03295903, -0.01508519, -0.026125532, 0.022702146, 0.017436873, -0.0054957224, 0.0019983817, 0.072158486, 0.013250607, 0.03913095, -0.019727249, -0.0103254905, -0.010355169, 0.048878603, -0.00033348837, -0.04047742, 0.008604778, 0.039132215, -0.00013931452, 0.004533597, -0.048899468, 0.024175989, -0.015019872, 0.0077421493, -0.012602666, 0.0028430035, -0.023192862, 0.021372776, -0.021236105, 0.0069888975, -0.03190864, 0.053142082, 0.04163849, 0.023694025, -0.035294943, 0.045493193, 0.015837748, -0.025863955, 0.05940589, -0.007697145, -0.0015870163, -0.04638353, 0.017402029, 0.0013107054, -0.006332865, 0.010986107, 0.023917256, -0.0049597034, -0.01521175, 0.015711656, -0.004851953, 0.025236733, 0.029510548, -0.035495203, 0.01688442, 0.025711631, -0.0029488788, 0.00011152213, -0.0024930155, -0.009712329, 0.0038310671, -0.011767304, 0.01553392, -0.0074908677, 0.023822844, 0.016118348, -0.03438905, -0.017245648, 0.012046887, -0.036513776, -0.0012261065, -0.0036546723, 0.014946652, -0.00067897514, 0.0045764446, 0.022328498, 0.016952239, 0.041342337, -0.0032435462, 0.005411985, -0.024106745, 0.041825116, -0.033474468, 0.015813548, -0.0161223, -0.019547354, -0.037875712, 0.0142125385, -0.016146136, -0.022514064, -0.0049231984, -0.021049803, 0.016069194, -0.02503912, 0.019839747, -0.024222502, 0.018291632, 0.040395744, 0.0006951592, -0.019851489, 0.0010766978, -0.009710303, 0.018896528, 0.020566009, 0.043012977, 0.006852963, 0.01563625, 0.050223943, 0.01127053, 0.00077752233, -0.021967694, -0.037525944, -0.019576086, 0.013318604, -0.0347211, 0.0027227434, -0.00503443, -0.0003315447, -0.009171282, 0.017959481, -0.050910275, -0.059755508, -0.0008333531, 0.019927446, -0.0128382025, -0.00674808, 0.037760634, -0.018282019, 0.004594696, -0.028810496, 0.02459568, -0.046056833, -0.02079509, -0.047756944, 0.035142623, -0.003129322, -0.0039058647, -0.024065921, -0.05516032, 0.004428412, -0.031372663, -0.0012106552, 0.005860936, 0.016134223, -0.009080447, 0.02132556, -0.0025958207, 0.018397449, 0.010210891, 0.012510933, 0.03794614, -0.01098957, 0.052047275, 0.09751176, 0.0012483016, -0.012238951, -0.015258525, 0.027877497, -0.012933994, 0.062050812, -0.040438335, 0.0047087856, 0.010634345, -0.01288842, 0.0048110513, 0.032282844, -0.011388549, 0.033564743, -0.05171867, 0.061464388, 0.003903759, 0.00010353562, -0.05100485, -0.029526645, 0.032430634, 0.010740794, 0.037816703, -0.059899237, 0.22169943, 0.011911302, 0.008403851, 0.033301275, 0.0051236963, 0.058716584, 0.04542857, -0.051986597, 0.051661048, -0.013346891, 0.015389276, 0.019750763, 0.014881032, 0.025805088, 0.008127843, 0.036580972, -0.028450685, 0.046629056, -0.009417256, -0.046311192, -0.006438109, -0.01246994, 0.0046375245, -0.023858769, -0.004099666, -0.012555324, 0.009770123, -0.009219225, -0.0009160898, -0.053924732, -0.0072358395, -0.010819164, 0.012160425, -0.0024172822, -0.013683943, 0.06645719, -0.01146661, -0.0045732786, -0.0134377, 0.0255346, -0.0033061537, -0.0099653555, -0.010541115, -0.003161843, -0.0022133496, 0.02599952, -0.016708901, 0.03485094, 0.04112201, -0.009004839, -0.018630845, 0.005692731, 0.03930393, -0.0022771382, -0.026014047, -0.002966794, 0.019786624, -0.06413841, -0.0046219192, 0.04861867, 0.046182785, 0.01620067, -0.0062140985, -0.0145461485, -0.04973122, 0.038351633, 0.07026255, 0.00014145211, 0.016630324, -0.013193759, 0.00030451984, -0.03288727, -0.018514128, -0.024984175, 0.057508007, 0.00047820323, -0.0072733113, 0.0030621076, 0.09001926, -0.022354528, -0.0033074282, -0.0361119, -0.023238298, 0.0034124278, 0.010424255, 0.037798405, -0.006032623, -0.005973091, 0.00061081775, 0.0049483273, -0.019938437, 0.02693135, 0.017479079, 0.013342079, -0.0029462005], 'total_tokens': 1901} \n",
      "\n",
      "\n",
      "{'id': UUID('bde3662c-c23d-5d4e-b317-2b9986e9b0e9'), 'collection_ids': [UUID('122fdf6a-e116-546b-a8f6-e4cb2e2c0a09')], 'owner_id': UUID('2acb499e-8428-543b-bd85-0d9098718220'), 'document_type': <DocumentType.PDF: 'pdf'>, 'metadata': {'version': 'v0', 'search_score': 0.33261948849458145, 'search_type': 'semantic'}, 'title': 'docker_cheatsheet.pdf', 'version': 'v0', 'size_in_bytes': 713548, 'ingestion_status': <IngestionStatus.SUCCESS: 'success'>, 'extraction_status': <GraphExtractionStatus.PENDING: 'pending'>, 'created_at': datetime.datetime(2025, 3, 5, 11, 48, 42, 531426, tzinfo=TzInfo(UTC)), 'updated_at': datetime.datetime(2025, 3, 5, 11, 52, 51, 574563, tzinfo=TzInfo(UTC)), 'ingestion_attempt_number': None, 'summary': 'The document contains a message indicating that the provided text appears to be a hexadecimal dump, but the purpose or context behind it is unclear. The agent requests additional information or clarification on what help is needed, specifically asking if the goal is to decode the data, identify its format, or extract specific information from the dump.', 'summary_embedding': [0.018352298, -0.059750002, 0.029155439, 0.036695607, -0.008424571, -0.006122474, 0.011695669, -0.019481491, -0.0016003639, 0.06356747, 0.0061193556, 0.005764173, 0.0067429394, 0.0018166654, -0.03842012, 0.0035896986, 0.032446336, 0.009377542, -3.7233414e-05, -0.028206414, 0.0007805349, -0.0069449674, -0.05757908, -0.012072347, -0.03132557, 0.010680707, 0.0063591274, 0.014986044, 0.057968847, 0.061209578, -0.021168042, 0.05236089, -0.024678074, -0.055740424, 0.011082023, -0.004525181, 0.061121486, -0.056538623, 0.004343973, -0.026453111, -0.01797298, 2.2702103e-05, 0.029873483, -0.07100025, -0.064234175, 0.012159455, -0.022270987, 0.003943093, 0.0113805225, -0.050604213, 0.024096323, 0.009997212, 0.021717446, -0.004343813, 0.029442057, -0.041043233, 0.026743166, 0.00066320837, -0.038010046, 0.0029674398, 0.021385137, -0.004257374, 0.038577348, -0.032948438, -0.02341518, 0.01227812, -0.05076968, -0.0085440725, -0.014003267, -0.015985945, -0.019925844, 0.051050164, -0.020684516, -0.017584367, -0.05302539, -0.014151718, -0.001970481, 0.010180778, -0.04815124, 0.065361656, -0.015629286, 0.040633734, 0.037056908, -0.017230302, 0.032929566, -0.01613817, 0.040272713, 0.009794491, 0.057591118, -0.009593947, 0.007542267, 0.026723797, -0.016284702, 0.03626086, 0.00015640452, 0.035545036, 0.003261164, 0.044164497, -0.016688319, 0.022218166, 0.021671781, 0.067318544, -0.02083545, 0.066365525, -0.029241407, 0.017274367, 0.03411895, -0.004767125, -0.05033644, 0.01136013, 0.021631679, -0.042396702, 0.00054579246, -0.075755, -0.033592485, 0.027870918, 0.022862513, -0.0044434303, -0.01623236, -0.026162019, 0.0059083644, -0.016322188, -0.00086710986, -0.016212873, -0.00934098, 0.01096385, 0.010586096, 0.02513911, -0.04518038, 0.019807015, 0.0135392975, 0.0070080026, -0.008956198, 0.007290158, 0.01735811, -0.020977564, 0.047915284, 0.021577032, 0.029277109, 0.04669561, -0.004135457, -0.03108058, -0.01370474, 0.07470317, -0.023439348, 0.020787604, 0.014881415, 0.010363043, -0.054523136, 0.03621771, 0.00039620433, -0.022610504, 0.004911882, 0.014018369, -0.02518974, -0.008986879, -0.0041002138, -0.015041372, -0.0117524145, 0.009093101, -0.04542916, 0.054661848, 0.021129241, 0.032659624, -0.040750243, 0.016689993, -0.016989676, -0.0045554154, 0.0006484075, -0.005046015, 0.019783648, 0.03912388, -0.043455094, 0.013238577, 0.023701597, 0.00082709803, 0.019867314, 0.008662021, 0.011852773, 0.04885741, -0.0028246695, 0.00929202, 0.020037618, 0.005804743, -0.005365998, 0.011146425, 0.024662573, -0.023626445, -0.03189892, -0.014457059, 0.0449152, 0.051872358, -0.016126247, 0.020575278, 0.018063659, 0.0056309644, -0.054946978, 0.03601181, 0.016386082, -0.07830802, -0.047211718, -0.0044526514, 0.03433638, 0.017221376, -0.04066995, -0.018918179, 0.035788596, 0.04421957, -0.029528026, -0.0057985336, 0.06270762, 0.0073462897, -0.04310694, 0.050091844, 0.029355858, -0.021769715, -0.023908412, 0.030766549, -0.025486689, 0.032818645, -0.0546648, 0.060290974, 0.015118246, 0.017391711, 0.018538855, 0.018398784, -0.0027176477, 0.040585186, 0.011041322, 0.006035817, 0.013235488, 0.04209911, 0.00792838, 0.027141666, 8.3284125e-05, 0.038554717, 0.08533544, 0.023037584, -0.01508473, 0.03941591, -0.0051274304, 0.011428919, 0.036331408, -0.007916069, 0.03452929, 0.0056765922, -0.033151757, -0.0057523437, -0.01466499, -0.005389864, -0.032898664, 0.014111342, 0.019941628, 0.004194955, -0.045702547, -0.049569927, 0.024382059, 0.05422214, -0.068829216, -0.036946904, 0.0122896535, 0.008843467, 0.04692105, -0.008917444, 0.0032861251, -0.013251108, 0.016284775, -0.027670484, -0.020139432, -0.035831895, -0.016878972, -0.03724797, -0.07241148, 0.0003868783, -0.029597769, 0.029102257, -0.014410479, -0.074558355, 0.00035290097, -0.04566579, 0.0027934168, 0.004960978, -0.040784515, -0.022734866, -0.023382757, 0.0113996845, -0.04305532, 0.009226642, 0.02963771, 0.06221892, -0.03876882, -0.020857545, -0.036799103, -0.06145848, 0.028677108, -0.013328693, 0.014967006, -0.008830374, 0.01550317, -0.044824235, -0.04653258, -0.06272602, 0.013425979, -0.06784904, -0.012382117, -0.023052737, 0.02455995, -0.029641176, -0.013621673, 0.0128154615, 0.011997672, 0.011769155, -0.008489, 0.011071304, -0.049606066, 0.041607294, 0.014345746, -0.00043937596, 0.00639477, -0.0028881475, 0.006674643, 0.008480326, -0.024579797, -0.042410348, 0.0025220893, -0.0045531522, -0.0072564986, -0.06998973, 0.027069867, -0.032430142, -0.02039703, -0.017192839, -0.01024451, 0.048475925, 0.007035916, 0.044782925, -0.024066549, -0.021948075, 0.013609091, -0.010334784, 0.02964697, -0.012716469, -0.016718963, 0.029065648, -0.033531237, 0.023346448, -0.01831023, -0.018747428, -0.011729937, -0.03985871, 0.0184049, -0.0034132455, 0.017473472, 0.025697058, 0.030629195, 0.06262408, -0.026105506, 0.0030253832, 0.005205007, -0.007410411, 0.05781623, 0.033852875, 0.0069082472, -0.03663965, 0.02174839, -0.027780758, -0.02373933, 0.017337551, 0.021239309, -0.029477118, -0.010569352, -0.025329968, -0.017161679, 0.038146496, -0.03115868, -0.07006913, 0.07049209, -0.029976973, 0.076095104, -0.06872413, 0.0015069996, -0.009468426, 0.02170918, 0.000291135, -0.017993588, 0.0026264735, -0.0023132209, -0.029296441, 0.008817078, -0.035785425, -0.008034449, 0.0074740923, 0.03497397, 0.019264588, -0.06798558, -0.05196367, 0.036657296, 0.03268449, 0.025386065, 0.021833697, 0.034950424, 0.0019356507, 0.04600749, 0.006630617, -0.011359726, 0.021395165, -0.014537101, 0.017362168, -0.028906148, 0.03791302, -0.029598976, 0.01752841, 0.025718473, 0.04091326, 0.024426505, 0.005881659, -0.021062827, 0.041663535, 0.042696107, -0.017254088, -0.027509533, -0.003917719, -0.015055635, 0.0071898852, 0.06847683, -0.006662668, -0.017246531, -0.019066373, 0.013826561, 0.009740915, -0.026300214, -0.008579498, -0.022240605, -0.054735843, -0.04749024, 0.03494137, 0.044672735, -0.012306917, 0.034890316, -0.024629375, 0.032713275, 0.017039502, -0.0004684421, 0.011638217, -0.0068228794, -0.021104822, 0.05338058, 0.009193583, -0.00043528245, -0.03278272, 0.0070429314, -0.053296797, 0.012001059, -0.046445154, 0.009749118, 0.036348663, 0.036151055, -0.029320128, 0.020812303, -0.009120013, 0.013220079, -0.0074504805, -0.014336333, -0.060423624, -0.004419669, 0.050549965, 0.0068512047, -0.033006314, 0.029362924, 0.026175264, 0.008880663, 0.009601284, 0.0009221198, -0.018268615, 0.0038361545, -0.026484152, -0.0017268017, -0.004817163, -0.025689552, -0.044063024, -0.021159803, 0.053158365, -0.020966243, -0.025814248, -0.0027976253, -0.04169668, 0.009844155, 0.024026634, -0.028409606, -0.00023044753, 0.0092519745, 0.026321344, 0.001534252, -0.052266877, -0.019748947, 0.016136454, -0.0035471448, -0.0077447854, 0.042719007, 0.037158024, 0.049055785, -0.02697285, -0.0159661, 0.019495595, 0.017064651, -0.0068231085, -0.046053097, 0.016571173, 0.031626534, 0.0333245, -0.027411416, 0.043617364, -0.008367149, 0.00991323, 0.031024892, 0.02214936, 0.033074994, -0.0360855, -0.0045672716, 0.043330584, 0.053857595, -0.10046975, -0.039117347, 0.0034249912, -0.010317637, 0.0037140355, 0.042855892, -0.039501607, -0.033333637, -0.027910324, 0.011587899, -0.04736725, -0.020887591, -0.028544929, 0.0083224485, 0.0018535039, 0.034551423, 0.036065094, -0.027215015, -0.022182573, -0.0120970225, -0.015863057, -0.008846776, 0.015331781, -0.009353521, -0.0033504125, 0.018644212, 0.07091444, -0.02855579, -0.0045827953, -0.03509023, -0.021840157, 0.064096645, 0.047030214, -0.013333892, -0.009698611, 0.050720643, -0.0120482305, -0.037006177, 0.0033376524, -0.04780778, 0.0071807215, -0.018362692, -0.03682037, 0.013562364, -0.03186073, -0.021043284, 0.019813022, 0.01983968, -0.036825754, -0.003477583, -0.04290209, 0.03860458, 0.04034546, 0.04837249, -0.031342987, -0.0004514287, -0.01124227, -0.019004442, 0.00412723, -0.0011734577, -0.024394486, 0.017377408, -0.0218306, 0.042683978, -0.015371306, 0.02359339, 0.070994064, -0.0050538774, -0.00880073, -0.04336032, 0.01498272, -0.021646906, -0.029384255, -0.0034463757, -0.025105935, -0.055674843, -0.041824494, -0.0205692, -0.011942312, -0.030503692, -0.0088968435, 0.062394165, -0.025502948, 0.06776852, 0.0064194184, -0.03041536, -0.031820685, 0.011148798, -0.004644788, -0.00015212406, 0.013482128, 0.008768126, 0.010078434, -0.00028266417, -0.048205722, -0.0033896866, -0.040032372, 0.043230224, -0.00024918056, -0.031379007, 0.023972765, 0.02514016, -0.012774597, -0.033930004, -0.023848511, -0.013683743, -0.0017919877, -0.008208747, 0.01554831, 0.010663814, 0.0069990796, -0.013253683, 0.007048317, 0.039680302, 0.015992926, -0.010829599, 0.01476052, 0.027895726, 0.008563896, 0.082542025, -0.0049021184, 0.025324712, -0.061859358, -0.009519502, -0.014885582, 0.03187833, 0.048526783, 0.020934686, 0.020633912, 0.030119454, 0.0030767529, 0.07676994, -0.027758176, 0.012457069, 0.04248208, -0.04081921, -0.038912013, -0.006732383, 0.027316933, -0.02843802, -0.0031156417, -0.046661153, 0.0018556813, 0.035640873, 0.017048316, 0.03570265, -0.025673497, -0.021920428, -0.03782302, 0.0056268536, -0.009886379, -0.036724664, -0.010076318, -0.014230395, -0.01919141, -0.018244965, -0.055136006, 0.057632364, -0.07143307, 0.027578782, -0.03378693, -0.0028517593, -0.021968678, -0.019705642, -0.033081748, -0.02957629, -0.013660406, 0.0048557282, -0.0055013867, -0.031613365, -0.049417973, 0.034273483, 0.0037044294, -0.0021565373, -0.014524464, -0.022966798, 0.019305468, 0.02032409, -0.03216778, 0.031915817, 0.02738163, 0.003600535, -0.023257853, 0.0055731134, -0.006529915, -0.006782146, 0.018575078, 0.03421884, -0.0022090091, -0.016236298, 0.0012181071, -0.0023621533, -0.0499578, -0.008752567, 0.0030208756, 0.020968422, 0.03953603, -0.03753789, -0.011113398, 0.055410385, -0.024316253, 0.038207967, -0.03941176, -0.006397457, 0.038920354, 0.037062902, 0.024663012, -0.012581979, -0.032922227, 0.043010127, -0.022170804, 0.0070817084, -0.008798202, 0.023171319, -0.034095164, -0.03690425, -0.030037493, 0.0019971358, -0.0029656799, -0.008933955, 0.0213728, -0.03197303, -0.007830595, 0.0006484554, -0.026224045, 0.023906324, -0.04870651, -0.07365359, 0.033241212, 0.0216548, -0.016986052, -0.030265471, -0.010725971, -0.008113262, 0.010227278, 0.0005248633, 0.013701666, 0.01161435, -0.02258607, 0.015008605, -0.03562969, -0.0034481743, -0.05283245, 0.0283707, -0.023185322, -0.038664162, 0.017141007, 0.032838862, 0.008075611, 0.01389613, -0.030530522, 0.01572641, -0.0036880807, -0.024190756, 0.0078559695, -0.0012876426, -0.006945185, 0.026785217, -0.016474199, 0.007265257, 0.014976914, -0.0025766206, 0.056381878, -0.04376019, -0.024664385, -0.017435981, 0.031000871, 0.026213562, -0.009225983, 0.03706486, -0.0014597789, 0.0060086884, -0.043364834, -0.020276988, 0.023246959, 0.05833304, 0.020069094, -0.046770964, 0.020387158, 0.020028617, -0.012031136, -0.0172537, -0.0055364543, -0.030473264, 0.03023051, 0.013418046, 0.007259096, -0.030651646, -0.0030742113, -0.030111715, 0.038820963, -0.019136243, -0.041004103, -0.024285043, -0.040132906, 0.032130726, -0.006553056, -0.019789135, -0.034009773, -0.007560867, 0.022164293, 0.021183116, -0.013091213, -0.03153585, 0.028034473, 0.028108886, 0.023623796, 0.022120146, 0.011924167, 0.0038903602, -0.042377107, 0.01918435, 0.0010346879, 0.022349019, 0.017748402, -0.018136816, -0.036004223, -0.001533179, -0.01293544, 0.02276798, 0.011877732, -0.014874687, -0.008055419, -0.018861977, -0.017022613, -0.06910633, 0.010007944, 0.02718946, -0.030011939, -0.0046010483, 0.014980344, -0.0039325943, -0.004492391, -0.0038475348, 0.07183808, 0.01788975, 0.06799216, -0.0039478596, -0.045089792, -0.021664996, 0.02134098, -0.009802755, -0.028467998, -0.023022192, -0.02127178, -0.032349773, 0.008691044, -0.008301578, -0.027454743, 0.033948887, 0.03481109, -0.027591502, 0.031522576, 0.04209462, -0.019032422, 0.0051776264, -0.003586854, 0.046327602, -0.011556143, -0.023769403, 0.0291849, -0.025568003, -0.022934167, -0.07400221, 0.015095849, -0.039635077, -0.040586498, 0.010997203, -0.034549918, -0.025123669, 0.00032027136, -0.025411628, -0.021934863, 0.025862498, 0.011875971, 0.027136842, 0.046052214, -0.036905564, 0.0017161884, 0.04507737, 0.028023455, -0.0109023135, 0.06736372, 0.025870608, 0.0036518008, -0.002110098, -0.005506668, 0.01686048, 0.02191479, -0.017553244, -0.047611315, 0.019479234, -0.048370276, -0.01069035, 0.018415365, 0.10614283, -0.010718822, -0.032667637, -0.040917497, -0.0014923166, -0.036032703, -0.008856107, -0.028796922, 0.08182575, -0.058283146, 0.037407883, 0.031907797, -0.0618575, 0.24441229, 0.053567685, 0.031772576, 0.0052207173, 0.035750806, 0.065641254, 0.02526727, -0.067959204, -0.0281236, -0.028822437, 0.048161212, -0.013967095, 0.009119472, 0.043150377, -0.002426141, 0.053735286, -0.039454374, -0.0052701966, -0.024396025, -0.026144763, -0.010317154, 0.008138952, -0.005241011, 0.077923216, 0.007889217, 0.01696626, 0.06740907, 0.036285292, 0.011281118, -0.03787426, -0.026150057, -0.021253673, -0.0018464568, 0.0049792323, -0.017610531, 0.0074917763, -0.022072287, -0.04977398, -0.036269024, 0.005313118, -0.0181379, -0.016222587, -0.028668564, -0.05822824, -0.027644867, 0.039240025, 0.009609213, 0.030559545, 0.033093516, -0.034314543, 0.01846089, 0.014281493, 0.03379338, -0.082432196, -0.010023739, 0.012372748, 0.025668895, 0.013056965, 0.027462479, 0.006160271, 0.009655299, 0.030008858, -0.026306478, 0.0077595557, -0.025625134, 0.008491922, 0.01952703, 0.043966856, -0.0060589127, -0.0032063175, -0.017751874, -0.018272815, -0.04014178, 0.00074763474, 0.010047004, 0.032377172, 0.0020381385, -0.0001941752, 0.0041080103, -0.039494127, -0.010703616, -0.03013453, -0.034770396, 0.015012574, -0.010467587, 0.058344137, -0.017251642, -0.021348475, -0.016787643, 0.03842664, 0.009783882, -0.004815971, 0.009268282, 0.02093385, -0.017348789], 'total_tokens': 98} \n",
      "\n",
      "\n"
     ]
    }
   ],
   "source": [
    "res = await storage_obj.search_document_summaries(\"How does one play gwent? What are the rules?\")\n",
    "\n",
    "for match in res.results:\n",
    "    print(match.model_dump(), \"\\n\\n\")"
   ]
  },
  {
   "cell_type": "code",
   "execution_count": 13,
   "id": "be4c0c7f",
   "metadata": {},
   "outputs": [
    {
     "data": {
      "text/plain": [
       "10"
      ]
     },
     "execution_count": 13,
     "metadata": {},
     "output_type": "execute_result"
    }
   ],
   "source": [
    "chunks = await storage_obj.fetch_document_chunks(obj.results[0].id)\n",
    "len(chunks.results) # Old one: d081b739-afd0-5a42-ae5c-8a5c3f5ee5db"
   ]
  },
  {
   "cell_type": "code",
   "execution_count": 10,
   "id": "3b75ebe0",
   "metadata": {},
   "outputs": [
    {
     "data": {
      "text/plain": [
       "GenericBooleanResponse(success=True)"
      ]
     },
     "execution_count": 10,
     "metadata": {},
     "output_type": "execute_result"
    }
   ],
   "source": [
    "response = await storage_obj.delete_chunk_by_id(str(chunks.results[0].id))\n",
    "response.results"
   ]
  },
  {
   "cell_type": "code",
   "execution_count": 33,
   "id": "4666fd75",
   "metadata": {},
   "outputs": [
    {
     "data": {
      "text/plain": [
       "IngestionResponse(message='Document created and ingested successfully.', task_id=None, document_id=UUID('967a6682-8542-5b2f-b812-cd67f82572ad'))"
      ]
     },
     "execution_count": 33,
     "metadata": {},
     "output_type": "execute_result"
    }
   ],
   "source": [
    "chunks = [\"hello, world\", \"Foo: bar\"]\n",
    "response = await storage_obj.ingest_chunks(chunks)\n",
    "response.results"
   ]
  },
  {
   "cell_type": "code",
   "execution_count": 13,
   "id": "1d0c9cc9",
   "metadata": {},
   "outputs": [],
   "source": [
    "new_text = \"\"\"\n",
    "**Gwent Game Guide**\n",
    "\n",
    "**Game Overview**\n",
    "----------------\n",
    "\n",
    "Gwent is a 2-player card game where two armies clash on the battlefield.\n",
    "\n",
    "**Gameplay Basics**\n",
    "-----------------\n",
    "\n",
    "* Each player takes turns placing one card at a time on the battlefield.\n",
    "* At the end of each round, players total the strength of all Unit Cards on their respective sides.\n",
    "* The player with the highest total strength wins the round.\n",
    "* The first player to win 2 rounds wins the game.\n",
    "\n",
    "**Faction Selection**\n",
    "-------------------\n",
    "\n",
    "* Choose a faction to command, each with its unique style and passive ability.\n",
    "* Faction abilities are described on the Help Card.\n",
    "\n",
    "**Deck Composition**\n",
    "------------------\n",
    "\n",
    "* A deck consists of:\n",
    "\t+ 420 Leader Card\n",
    "\t+ 22 Unit Cards (minimum)\n",
    "\t+ 10 Special Cards (maximum)\n",
    "\t+ 2 Gem Counters\n",
    "\n",
    "**Card Types**\n",
    "-------------\n",
    "\n",
    "### Leader Card\n",
    "\n",
    "* Chosen prior to battle, placed face up near the battlefield.\n",
    "* Grants a special ability, either passive or active.\n",
    "\n",
    "### Unit Card\n",
    "\n",
    "* Strength value: added to player's total at end of round.\n",
    "* Range and Ability: indicated on card.\n",
    "* Faction, Name, and Description: unique to each unit.\n",
    "\n",
    "### Special Card\n",
    "\n",
    "* Used to modify Unit strength or other effects.\n",
    "* Abilities described on Help Cards.\n",
    "\n",
    "**Setup**\n",
    "---------\n",
    "\n",
    "* Shuffle decks and draw cards.\n",
    "* Determine who starts first.\n",
    "\"\"\""
   ]
  },
  {
   "cell_type": "code",
   "execution_count": 16,
   "id": "e72345e4",
   "metadata": {},
   "outputs": [],
   "source": [
    "response = await storage_obj.update_chunk_by_id(\n",
    "    chunk_id = str(chunk.results.id),\n",
    "    new_text=new_text,\n",
    "    metadata={\n",
    "        \"unstructured_filetype\": \"application/csv\"\n",
    "    }\n",
    ")"
   ]
  },
  {
   "cell_type": "code",
   "execution_count": 21,
   "id": "32ad56fd",
   "metadata": {},
   "outputs": [
    {
     "name": "stdout",
     "output_type": "stream",
     "text": [
      "\n",
      "**Gwent Game Guide**\n",
      "\n",
      "**Game Overview**\n",
      "----------------\n",
      "\n",
      "Gwent is a 2-player card game where two armies clash on the battlefield.\n",
      "\n",
      "**Gameplay Basics**\n",
      "-----------------\n",
      "\n",
      "* Each player takes turns placing one card at a time on the battlefield.\n",
      "* At the end of each round, players total the strength of all Unit Cards on their respective sides.\n",
      "* The player with the highest total strength wins the round.\n",
      "* The first player to win 2 rounds wins the game.\n",
      "\n",
      "**Faction Selection**\n",
      "-------------------\n",
      "\n",
      "* Choose a faction to command, each with its unique style and passive ability.\n",
      "* Faction abilities are described on the Help Card.\n",
      "\n",
      "**Deck Composition**\n",
      "------------------\n",
      "\n",
      "* A deck consists of:\n",
      "\t+ 420 Leader Card\n",
      "\t+ 22 Unit Cards (minimum)\n",
      "\t+ 10 Special Cards (maximum)\n",
      "\t+ 2 Gem Counters\n",
      "\n",
      "**Card Types**\n",
      "-------------\n",
      "\n",
      "### Leader Card\n",
      "\n",
      "* Chosen prior to battle, placed face up near the battlefield.\n",
      "* Grants a special ability, either passive or active.\n",
      "\n",
      "### Unit Card\n",
      "\n",
      "* Strength value: added to player's total at end of round.\n",
      "* Range and Ability: indicated on card.\n",
      "* Faction, Name, and Description: unique to each unit.\n",
      "\n",
      "### Special Card\n",
      "\n",
      "* Used to modify Unit strength or other effects.\n",
      "* Abilities described on Help Cards.\n",
      "\n",
      "**Setup**\n",
      "---------\n",
      "\n",
      "* Shuffle decks and draw cards.\n",
      "* Determine who starts first.\n",
      "\n"
     ]
    }
   ],
   "source": [
    "print(response.results.text)"
   ]
  },
  {
   "cell_type": "code",
   "execution_count": 5,
   "id": "415f41dc",
   "metadata": {},
   "outputs": [],
   "source": [
    "response = await storage_obj.retrieve_similar_chunks(\n",
    "    \"What are the main advantages and disadvantages of Distributed Systems?\",\n",
    ")"
   ]
  },
  {
   "cell_type": "code",
   "execution_count": 9,
   "id": "f850b899",
   "metadata": {},
   "outputs": [
    {
     "name": "stdout",
     "output_type": "stream",
     "text": [
      "{'id': UUID('9b6e8c35-f1c9-5fa6-83ec-e2c3d7f324c0'), 'document_id': UUID('2790122b-3438-5520-b269-588b84e06234'), 'owner_id': UUID('2acb499e-8428-543b-bd85-0d9098718220'), 'collection_ids': [UUID('122fdf6a-e116-546b-a8f6-e4cb2e2c0a09')], 'score': 0.8572562081676038, 'text': '1.4 SUMMARY\\n\\nDistributed systems consist of autonomous computers that work together to give the appearance of a single coherent system. One important advantage is that they make it easier to integrate different applications running on different com- puters into a single system. Another advantage is that when properly designed,\\n\\nCHAP. 1\\n\\nSEC. 1.4', 'metadata': {'foo': 'bar', 'test2': 'test', 'version': 'v0', 'chunk_order': 137, 'document_type': 'pdf', 'unstructured_filetype': 'application/pdf', 'unstructured_languages': ['eng'], 'unstructured_page_number': 49, 'partitioned_by_unstructured': True, 'associated_query': 'What are the main advantages and disadvantages of Distributed Systems?'}} \n",
      "\n",
      "\n",
      "{'id': UUID('cda11fb2-535a-551c-a1dc-f4b86b405618'), 'document_id': UUID('2790122b-3438-5520-b269-588b84e06234'), 'owner_id': UUID('2acb499e-8428-543b-bd85-0d9098718220'), 'collection_ids': [UUID('122fdf6a-e116-546b-a8f6-e4cb2e2c0a09')], 'score': 0.8009450318400717, 'text': 'Instead of going further with definitions, it is perhaps more useful to concen- trate on important characteristics of distributed systems. One important charac- teristic is that differences between the various computers and the ways in which they communicate are mostly hidden from users. The same holds for the internal organization of the distributed system. Another important characteristic is that users and applications can interact with a distributed system in a consistent and uniform way, regardless of where and when interaction takes place.', 'metadata': {'foo': 'bar', 'test2': 'test', 'version': 'v0', 'chunk_order': 29, 'document_type': 'pdf', 'unstructured_filetype': 'application/pdf', 'unstructured_languages': ['eng'], 'unstructured_page_number': 21, 'partitioned_by_unstructured': True, 'associated_query': 'What are the main advantages and disadvantages of Distributed Systems?'}} \n",
      "\n",
      "\n",
      "{'id': UUID('f9e34226-0beb-5ebe-b2b8-dc2a03a39094'), 'document_id': UUID('2790122b-3438-5520-b269-588b84e06234'), 'owner_id': UUID('2acb499e-8428-543b-bd85-0d9098718220'), 'collection_ids': [UUID('122fdf6a-e116-546b-a8f6-e4cb2e2c0a09')], 'score': 0.7715082628434203, 'text': 'SUMMARY\\n\\ndistributed systems scale well with respect to the size of the underlying network. These advantages often come at the cost of more complex software, degradation there is consid- of performance, and also often weaker security. Nevertheless, erable interest worldwide in building and installing distributed systems.\\n\\nDistributed systems often aim at hiding many of the intricacies related to the distribution of processes, data, and control. However, this distribution transpar- ency not only comes at a performance price, but in practical situations it can never be fully achieved. The fact that trade-offs need to be made between achieving var- ious forms of distribution transparency is inherent to the design of distributed sys- tems, and can easily complicate their understanding. -', 'metadata': {'foo': 'bar', 'test2': 'test', 'version': 'v0', 'chunk_order': 138, 'document_type': 'pdf', 'unstructured_filetype': 'application/pdf', 'unstructured_languages': ['eng'], 'unstructured_page_number': 50, 'partitioned_by_unstructured': True, 'associated_query': 'What are the main advantages and disadvantages of Distributed Systems?'}} \n",
      "\n",
      "\n",
      "{'id': UUID('6cc0ddc3-a84f-5847-9c33-fcb7dbfa09e5'), 'document_id': UUID('2790122b-3438-5520-b269-588b84e06234'), 'owner_id': UUID('2acb499e-8428-543b-bd85-0d9098718220'), 'collection_ids': [UUID('122fdf6a-e116-546b-a8f6-e4cb2e2c0a09')], 'score': 0.7663754124568155, 'text': 'However, distributed systems differ from traditional software because com- ponents are dispersed across a network. Not taking this dispersion into account during design time is what makes so many systems needlessly complex and re- then at Sun sults in mistakes that need to be patched later on. Peter Deutsch, Microsystems, formulated these mistakes as the following false assumptions that everyone makes when developing a distributed application for the first time:\\n\\n1. The network is reliable.\\n\\n2. The network is secure.', 'metadata': {'foo': 'bar', 'test2': 'test', 'version': 'v0', 'chunk_order': 86, 'document_type': 'pdf', 'unstructured_filetype': 'application/pdf', 'unstructured_languages': ['eng'], 'unstructured_page_number': 35, 'partitioned_by_unstructured': True, 'associated_query': 'What are the main advantages and disadvantages of Distributed Systems?'}} \n",
      "\n",
      "\n",
      "{'id': UUID('22f57872-bd05-5236-ad60-6ab37a527e8c'), 'document_id': UUID('2790122b-3438-5520-b269-588b84e06234'), 'owner_id': UUID('2acb499e-8428-543b-bd85-0d9098718220'), 'collection_ids': [UUID('122fdf6a-e116-546b-a8f6-e4cb2e2c0a09')], 'score': 0.7641890048981201, 'text': 'the save the day (at least\\n\\nreplication, and caching techniques with different\\n\\n(e.g., politics of organizations\\n\\nscalability. Eventually,\\n\\nit will have to be dealt with.\\n\\n15\\n\\n;\\'\\\\\\';\";-L:\\':\\'~\\n\\n16\\n\\nINTRODUCTION\\n\\nCHAP. 1\\n\\n1.2.5 Pitfalls\\n\\nIt should be clear by now that developing distributed systems can be a formid- able task. As we will see many times throughout this book, there are so many issues to consider at the same time that it seems that only complexity can be the result. Nevertheless, by following a number of design principles, distributed sys- tems can be developed that strongly adhere to the goals we set out in this chapter. Many principles follow the basic rules of decent software engineering and wiJI not be repeated here.', 'metadata': {'foo': 'bar', 'test2': 'test', 'version': 'v0', 'chunk_order': 85, 'document_type': 'pdf', 'unstructured_filetype': 'application/pdf', 'unstructured_languages': ['eng'], 'unstructured_page_number': 34, 'partitioned_by_unstructured': True, 'associated_query': 'What are the main advantages and disadvantages of Distributed Systems?'}} \n",
      "\n",
      "\n",
      "{'id': UUID('0cbf1c5e-0bf1-5b77-9b0a-96517eacb230'), 'document_id': UUID('2790122b-3438-5520-b269-588b84e06234'), 'owner_id': UUID('2acb499e-8428-543b-bd85-0d9098718220'), 'collection_ids': [UUID('122fdf6a-e116-546b-a8f6-e4cb2e2c0a09')], 'score': 0.7525241829526983, 'text': 'PROBLEMS\\n\\n1. An alternative definition for a distributed system is that of a collection of independent computers providing the view of being a single system, that is, it is completely hidden there even multiple computers. Give an example where this view from users that would come in very handy.\\n\\n2. What is the role of middleware in a distributed system?\\n\\n3. Many networked systems are organized in terms of a back office and a front office. How does organizations match with the coherent view we demand for a distributed ~~m?\\n\\n4. Explain what is meant by (distribution)\\n\\ntransparency, and give examples of different\\n\\ntypes of transparency.\\n\\n31\\n\\n32\\n\\nINTRODUCTION', 'metadata': {'foo': 'bar', 'test2': 'test', 'version': 'v0', 'chunk_order': 141, 'document_type': 'pdf', 'unstructured_filetype': 'application/pdf', 'unstructured_languages': ['eng'], 'unstructured_page_number': 50, 'partitioned_by_unstructured': True, 'associated_query': 'What are the main advantages and disadvantages of Distributed Systems?'}} \n",
      "\n",
      "\n",
      "{'id': UUID('300ccc96-ef7e-540e-ad0e-c198921cd0cb'), 'document_id': UUID('2790122b-3438-5520-b269-588b84e06234'), 'owner_id': UUID('2acb499e-8428-543b-bd85-0d9098718220'), 'collection_ids': [UUID('122fdf6a-e116-546b-a8f6-e4cb2e2c0a09')], 'score': 0.7511376293547802, 'text': '1.2 GOALS\\n\\nJust because it is possible to build distributed systems does not necessarily mean that it is a good idea. After all, with current technology it is also possible to put four floppy disk drives on a personal computer. It is just that doing so would be pointless. In this section we discuss four important goals that should be met to make building a distributed system worth the effort. A distributed system should make resources easily accessible; it should reasonably hide the fact that resources are distributed across a network; it should be open; and it should be scalable.', 'metadata': {'foo': 'bar', 'test2': 'test', 'version': 'v0', 'chunk_order': 33, 'document_type': 'pdf', 'unstructured_filetype': 'application/pdf', 'unstructured_languages': ['eng'], 'unstructured_page_number': 22, 'partitioned_by_unstructured': True, 'associated_query': 'What are the main advantages and disadvantages of Distributed Systems?'}} \n",
      "\n",
      "\n",
      "{'id': UUID('bb827977-16d4-5527-80ee-89556bb2bff5'), 'document_id': UUID('2790122b-3438-5520-b269-588b84e06234'), 'owner_id': UUID('2acb499e-8428-543b-bd85-0d9098718220'), 'collection_ids': [UUID('122fdf6a-e116-546b-a8f6-e4cb2e2c0a09')], 'score': 0.7508469225995409, 'text': 'In principle, distributed systems should also be relatively easy to expand or scale. This characteristic is a direct consequence of having independent com- puters, but at the same time, hiding how these computers actually take part in the system as a whole. A distributed system will normally be continuously available, although perhaps some parts may be temporarily out of order. Users and applica- tions should not notice that parts are being replaced or fixed, or that new parts are added to serve more users or applications..\\n\\n]\\n\\nSEC. 1.1', 'metadata': {'foo': 'bar', 'test2': 'test', 'version': 'v0', 'chunk_order': 30, 'document_type': 'pdf', 'unstructured_filetype': 'application/pdf', 'unstructured_languages': ['eng'], 'unstructured_page_number': 21, 'partitioned_by_unstructured': True, 'associated_query': 'What are the main advantages and disadvantages of Distributed Systems?'}} \n",
      "\n",
      "\n",
      "{'id': UUID('d8cebbda-c71b-5cd9-8dab-f0189a070a5d'), 'document_id': UUID('2790122b-3438-5520-b269-588b84e06234'), 'owner_id': UUID('2acb499e-8428-543b-bd85-0d9098718220'), 'collection_ids': [UUID('122fdf6a-e116-546b-a8f6-e4cb2e2c0a09')], 'score': 0.7416470145057268, 'text': 'CHAP. 1\\n\\n5. Why is it sometimes so hard to hide the occurrence and recovery from failures distributed system?\\n\\n6. Why is it not always a good idea to aim at implementing the highest degree of trans- parency possible?\\n\\n7. What is an open distributed system and what benefits does openness provide?\\n\\n8. Describe precisely what is meant by a scalable system.\\n\\n9. Scalability can be achieved by applying different niques?\\n\\n9. Scalability can be achieved by applying different niques?\\n\\n10. Explain what is meant by a virtual organization and give a hint on how such organiza- tions could be implemented.', 'metadata': {'foo': 'bar', 'test2': 'test', 'version': 'v0', 'chunk_order': 142, 'document_type': 'pdf', 'unstructured_filetype': 'application/pdf', 'unstructured_languages': ['eng'], 'unstructured_page_number': 51, 'partitioned_by_unstructured': True, 'associated_query': 'What are the main advantages and disadvantages of Distributed Systems?'}} \n",
      "\n",
      "\n",
      "{'id': UUID('91a98768-3f1a-5f8a-93b9-e042fac09358'), 'document_id': UUID('2790122b-3438-5520-b269-588b84e06234'), 'owner_id': UUID('2acb499e-8428-543b-bd85-0d9098718220'), 'collection_ids': [UUID('122fdf6a-e116-546b-a8f6-e4cb2e2c0a09')], 'score': 0.735653814233264, 'text': 'Fig. 1-1 shows four networked computers and three applications, of which ap- plication B is distributed across computers 2 and 3. Each application is offered the same interface. The distributed system provides the means for components of a single distributed application to communicate with each other, but also to let dif- ferent applications communicate. At the same time, it hides, as best and reason- able as possible, the differences in hardware and operating systems from each ap- plication.', 'metadata': {'foo': 'bar', 'test2': 'test', 'version': 'v0', 'chunk_order': 32, 'document_type': 'pdf', 'unstructured_filetype': 'application/pdf', 'unstructured_languages': ['eng'], 'unstructured_page_number': 22, 'partitioned_by_unstructured': True, 'associated_query': 'What are the main advantages and disadvantages of Distributed Systems?'}} \n",
      "\n",
      "\n"
     ]
    }
   ],
   "source": [
    "for match in response.results:\n",
    "    print(match.model_dump(), \"\\n\\n\")"
   ]
  },
  {
   "cell_type": "code",
   "execution_count": 5,
   "id": "dd3aff43",
   "metadata": {},
   "outputs": [],
   "source": [
    "from settings import SystemHandler\n",
    "\n",
    "sys = SystemHandler(client)"
   ]
  },
  {
   "cell_type": "code",
   "execution_count": 6,
   "id": "a3aab5a9",
   "metadata": {},
   "outputs": [
    {
     "data": {
      "text/plain": [
       "'ok'"
      ]
     },
     "execution_count": 6,
     "metadata": {},
     "output_type": "execute_result"
    }
   ],
   "source": [
    "health = await sys.health()\n",
    "health.results.message"
   ]
  },
  {
   "cell_type": "code",
   "execution_count": 7,
   "id": "362c9bc0",
   "metadata": {},
   "outputs": [
    {
     "data": {
      "text/plain": [
       "ServerStats(start_time=datetime.datetime(2025, 3, 6, 9, 28, 11, 463115, tzinfo=TzInfo(UTC)), uptime_seconds=3351.30111, cpu_usage=9.9, memory_usage=53.3)"
      ]
     },
     "execution_count": 7,
     "metadata": {},
     "output_type": "execute_result"
    }
   ],
   "source": [
    "status = await sys.status()\n",
    "status.results"
   ]
  },
  {
   "cell_type": "code",
   "execution_count": 14,
   "id": "7fa4f3cc",
   "metadata": {},
   "outputs": [],
   "source": [
    "# Create a new user\n",
    "new_user = await client.users.create(\n",
    "    email=\"jane.doe@example.com\",\n",
    "    password=\"secure_password123\"\n",
    ")"
   ]
  },
  {
   "cell_type": "code",
   "execution_count": 18,
   "id": "141a79c6",
   "metadata": {},
   "outputs": [],
   "source": [
    "# Login/Verify \n",
    "tokens = await client.users.login(\n",
    "    email=\"jane.doe@example.com\",\n",
    "    password=\"secure_password123\"\n",
    ")"
   ]
  },
  {
   "cell_type": "code",
   "execution_count": 8,
   "id": "09b0e885",
   "metadata": {},
   "outputs": [],
   "source": [
    "users = await client.users.list()"
   ]
  },
  {
   "cell_type": "code",
   "execution_count": 11,
   "id": "0c71ec19",
   "metadata": {},
   "outputs": [
    {
     "data": {
      "text/plain": [
       "{'id': UUID('16179d7c-8d8c-5e55-b535-5e6d9c9ba944'),\n",
       " 'email': 'jane.doe@example.com',\n",
       " 'is_active': True,\n",
       " 'is_superuser': False,\n",
       " 'created_at': datetime.datetime(2025, 3, 6, 10, 9, 39, 487484, tzinfo=TzInfo(UTC)),\n",
       " 'updated_at': datetime.datetime(2025, 3, 6, 10, 9, 39, 487484, tzinfo=TzInfo(UTC)),\n",
       " 'is_verified': True,\n",
       " 'collection_ids': [UUID('7cd00db9-b521-5f80-a02e-0b647d15118e')],\n",
       " 'graph_ids': [],\n",
       " 'document_ids': [UUID('967a6682-8542-5b2f-b812-cd67f82572ad')],\n",
       " 'limits_overrides': None,\n",
       " 'metadata': None,\n",
       " 'verification_code_expiry': None,\n",
       " 'name': None,\n",
       " 'bio': None,\n",
       " 'profile_picture': None,\n",
       " 'total_size_in_bytes': 20,\n",
       " 'num_files': 1,\n",
       " 'account_type': 'password',\n",
       " 'hashed_password': None,\n",
       " 'google_id': None,\n",
       " 'github_id': None}"
      ]
     },
     "execution_count": 11,
     "metadata": {},
     "output_type": "execute_result"
    }
   ],
   "source": [
    "users.results[1].model_dump()"
   ]
  },
  {
   "cell_type": "code",
   "execution_count": 29,
   "id": "a3d77ae9",
   "metadata": {},
   "outputs": [],
   "source": [
    "import requests\n",
    "\n",
    "headers = {\n",
    "    \"Authorization\": f\"Bearer {bearer_token}\"\n",
    "}\n",
    "\n",
    "logs = requests.get(\n",
    "    url=\"http://localhost:7272/v3/logs/viewer\",\n",
    "    headers=headers\n",
    ")"
   ]
  },
  {
   "cell_type": "code",
   "execution_count": 36,
   "id": "35c87c7a",
   "metadata": {},
   "outputs": [
    {
     "ename": "R2RException",
     "evalue": "Not Found",
     "output_type": "error",
     "traceback": [
      "\u001b[31m---------------------------------------------------------------------------\u001b[39m",
      "\u001b[31mR2RException\u001b[39m                              Traceback (most recent call last)",
      "\u001b[36mCell\u001b[39m\u001b[36m \u001b[39m\u001b[32mIn[36]\u001b[39m\u001b[32m, line 1\u001b[39m\n\u001b[32m----> \u001b[39m\u001b[32m1\u001b[39m \u001b[38;5;28;01mawait\u001b[39;00m client.system.logs()\n",
      "\u001b[36mFile \u001b[39m\u001b[32m~/Desktop/Evaluation-Approaches-for-Retrieval-Augmented-Generation-RAG-/venv/lib/python3.12/site-packages/sdk/asnyc_methods/system.py:48\u001b[39m, in \u001b[36mSystemSDK.logs\u001b[39m\u001b[34m(self, run_type_filter, offset, limit)\u001b[39m\n\u001b[32m     29\u001b[39m \u001b[38;5;250m\u001b[39m\u001b[33;03m\"\"\"Get logs from the server.\u001b[39;00m\n\u001b[32m     30\u001b[39m \n\u001b[32m     31\u001b[39m \u001b[33;03mArgs:\u001b[39;00m\n\u001b[32m   (...)\u001b[39m\u001b[32m     37\u001b[39m \u001b[33;03m    dict: The logs from the server.\u001b[39;00m\n\u001b[32m     38\u001b[39m \u001b[33;03m\"\"\"\u001b[39;00m\n\u001b[32m     39\u001b[39m params = {\n\u001b[32m     40\u001b[39m     key: value\n\u001b[32m     41\u001b[39m     \u001b[38;5;28;01mfor\u001b[39;00m key, value \u001b[38;5;129;01min\u001b[39;00m {\n\u001b[32m   (...)\u001b[39m\u001b[32m     46\u001b[39m     \u001b[38;5;28;01mif\u001b[39;00m value \u001b[38;5;129;01mis\u001b[39;00m \u001b[38;5;129;01mnot\u001b[39;00m \u001b[38;5;28;01mNone\u001b[39;00m\n\u001b[32m     47\u001b[39m }\n\u001b[32m---> \u001b[39m\u001b[32m48\u001b[39m response_dict = \u001b[38;5;28;01mawait\u001b[39;00m \u001b[38;5;28mself\u001b[39m.client._make_request(\n\u001b[32m     49\u001b[39m     \u001b[33m\"\u001b[39m\u001b[33mGET\u001b[39m\u001b[33m\"\u001b[39m, \u001b[33m\"\u001b[39m\u001b[33msystem/logs\u001b[39m\u001b[33m\"\u001b[39m, params=params, version=\u001b[33m\"\u001b[39m\u001b[33mv3\u001b[39m\u001b[33m\"\u001b[39m\n\u001b[32m     50\u001b[39m )\n\u001b[32m     52\u001b[39m \u001b[38;5;28;01mreturn\u001b[39;00m WrappedLogsResponse(**response_dict)\n",
      "\u001b[36mFile \u001b[39m\u001b[32m~/Desktop/Evaluation-Approaches-for-Retrieval-Augmented-Generation-RAG-/venv/lib/python3.12/site-packages/sdk/async_client.py:66\u001b[39m, in \u001b[36mR2RAsyncClient._make_request\u001b[39m\u001b[34m(self, method, endpoint, version, **kwargs)\u001b[39m\n\u001b[32m     64\u001b[39m \u001b[38;5;28;01mtry\u001b[39;00m:\n\u001b[32m     65\u001b[39m     response = \u001b[38;5;28;01mawait\u001b[39;00m \u001b[38;5;28mself\u001b[39m.client.request(method, url, **request_args)\n\u001b[32m---> \u001b[39m\u001b[32m66\u001b[39m     \u001b[38;5;28;01mawait\u001b[39;00m \u001b[38;5;28mself\u001b[39m._handle_response(response)\n\u001b[32m     67\u001b[39m     \u001b[38;5;28;01mif\u001b[39;00m \u001b[33m\"\u001b[39m\u001b[33mapplication/json\u001b[39m\u001b[33m\"\u001b[39m \u001b[38;5;129;01min\u001b[39;00m response.headers.get(\u001b[33m\"\u001b[39m\u001b[33mContent-Type\u001b[39m\u001b[33m\"\u001b[39m, \u001b[33m\"\u001b[39m\u001b[33m\"\u001b[39m):\n\u001b[32m     68\u001b[39m         \u001b[38;5;28;01mreturn\u001b[39;00m response.json() \u001b[38;5;28;01mif\u001b[39;00m response.content \u001b[38;5;28;01melse\u001b[39;00m \u001b[38;5;28;01mNone\u001b[39;00m\n",
      "\u001b[36mFile \u001b[39m\u001b[32m~/Desktop/Evaluation-Approaches-for-Retrieval-Augmented-Generation-RAG-/venv/lib/python3.12/site-packages/sdk/async_client.py:113\u001b[39m, in \u001b[36mR2RAsyncClient._handle_response\u001b[39m\u001b[34m(self, response)\u001b[39m\n\u001b[32m    110\u001b[39m \u001b[38;5;28;01mexcept\u001b[39;00m \u001b[38;5;167;01mException\u001b[39;00m \u001b[38;5;28;01mas\u001b[39;00m e:\n\u001b[32m    111\u001b[39m     message = \u001b[38;5;28mstr\u001b[39m(e)\n\u001b[32m--> \u001b[39m\u001b[32m113\u001b[39m \u001b[38;5;28;01mraise\u001b[39;00m R2RException(\n\u001b[32m    114\u001b[39m     status_code=response.status_code, message=message\n\u001b[32m    115\u001b[39m )\n",
      "\u001b[31mR2RException\u001b[39m: Not Found"
     ]
    }
   ],
   "source": [
    "await client.system.logs()"
   ]
  },
  {
   "cell_type": "code",
   "execution_count": 8,
   "id": "34f8eb5f",
   "metadata": {},
   "outputs": [],
   "source": [
    "settings = await sys.settings()"
   ]
  },
  {
   "cell_type": "code",
   "execution_count": 30,
   "id": "99798fad",
   "metadata": {},
   "outputs": [
    {
     "name": "stdout",
     "output_type": "stream",
     "text": [
      "## Task:\n",
      "Your task is to generate a descriptive summary of the document that follows. Your objective is to return a summary that is roughly 10% of the input document size while retaining as many key points as possible. Your response should begin with `The document contains `.\n",
      "### Document:\n",
      "{document}\n",
      "\n",
      "### Query:\n",
      "Reminder: Your task is to generate a descriptive summary of the document that was given. Your objective is to return a summary that is roughly 10% of the input document size while retaining as many key points as possible. Your response should begin with `The document contains `.\n",
      "## Response:\n",
      "\n",
      "## Task:\n",
      "Enrich and refine the given chunk of text while maintaining its independence and precision.\n",
      "## Context: Document Summary: {document_summary} Preceding Chunks: {preceding_chunks} Succeeding Chunks: {succeeding_chunks}\n",
      "## Input Chunk: {chunk}\n",
      "## Semantic Organization Guidelines: 1. Group related information:\n",
      "   - Combine logically connected data points\n",
      "   - Maintain context within each grouping\n",
      "   - Preserve relationships between entities\n",
      "\n",
      "2. Structure hierarchy:\n",
      "   - Organize from general to specific\n",
      "   - Use clear categorical divisions\n",
      "   - Maintain parent-child relationships\n",
      "\n",
      "3. Information density:\n",
      "   - Balance completeness with clarity\n",
      "   - Ensure each chunk can stand alone\n",
      "   - Preserve essential context\n",
      "\n",
      "4. Pattern recognition:\n",
      "   - Standardize similar information\n",
      "   - Use consistent formatting for similar data types\n",
      "   - It is appropriate to restructure tables or lists in ways that are more advantageous for sematic matching\n",
      "   - Maintain searchable patterns\n",
      "\n",
      "## Output Requirements: 1. Each chunk should be independently meaningful 2. Related information should stay together 3. Format should support efficient matching 4. Original data relationships must be preserved 5. Context should be clear without external references\n",
      "Maximum length: {chunk_size} characters\n",
      "Output the restructured chunk only.\n",
      "## Restructured Chunk:\n",
      "\n"
     ]
    }
   ],
   "source": [
    "for prompt in settings.results.prompts['results']: # chunk_enrichment_prompt, document_summary+tasl+prompt\n",
    "    if prompt['name'] in ('chunk_enrichment', 'summary'):\n",
    "        print(prompt['template'])"
   ]
  }
 ],
 "metadata": {
  "kernelspec": {
   "display_name": "venv",
   "language": "python",
   "name": "python3"
  },
  "language_info": {
   "codemirror_mode": {
    "name": "ipython",
    "version": 3
   },
   "file_extension": ".py",
   "mimetype": "text/x-python",
   "name": "python",
   "nbconvert_exporter": "python",
   "pygments_lexer": "ipython3",
   "version": "3.12.9"
  }
 },
 "nbformat": 4,
 "nbformat_minor": 5
}
