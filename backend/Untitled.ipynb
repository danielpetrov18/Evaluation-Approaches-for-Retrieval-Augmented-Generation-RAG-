{
 "cells": [
  {
   "cell_type": "code",
   "execution_count": 1,
   "id": "10459775-95e0-464e-a971-8c40cd85d50a",
   "metadata": {},
   "outputs": [],
   "source": [
    "from r2r import R2RAsyncClient\n",
    "\n",
    "client = R2RAsyncClient('http://localhost:7272')"
   ]
  },
  {
   "cell_type": "code",
   "execution_count": 4,
   "id": "8784e9d8",
   "metadata": {},
   "outputs": [],
   "source": [
    "from conversation import ConversationHandler\n",
    "\n",
    "conversation_handler = ConversationHandler(client)"
   ]
  },
  {
   "cell_type": "code",
   "execution_count": 14,
   "id": "336ca319",
   "metadata": {},
   "outputs": [
    {
     "data": {
      "text/plain": [
       "[ConversationResponse(id=UUID('d3004c04-5bca-4575-aff5-ab1952517f18'), created_at=datetime.datetime(2025, 3, 6, 21, 36, 25, 980116, tzinfo=TzInfo(UTC)), user_id=UUID('2acb499e-8428-543b-bd85-0d9098718220'), name='testing my app'),\n",
       " ConversationResponse(id=UUID('8ac94363-69d2-4aba-bbf4-05a2d80783b9'), created_at=datetime.datetime(2025, 3, 6, 21, 31, 9, 80099, tzinfo=TzInfo(UTC)), user_id=UUID('2acb499e-8428-543b-bd85-0d9098718220'), name='Foo;bar')]"
      ]
     },
     "execution_count": 14,
     "metadata": {},
     "output_type": "execute_result"
    }
   ],
   "source": [
    "conversations = await conversation_handler.list_conversations()\n",
    "conversations.results"
   ]
  },
  {
   "cell_type": "code",
   "execution_count": 15,
   "id": "23363774",
   "metadata": {},
   "outputs": [
    {
     "data": {
      "text/plain": [
       "[]"
      ]
     },
     "execution_count": 15,
     "metadata": {},
     "output_type": "execute_result"
    }
   ],
   "source": [
    "deletion_result = await conversation_handler.get_conversation(conversations.results[-1].id)\n",
    "deletion_result.results"
   ]
  },
  {
   "cell_type": "code",
   "execution_count": 3,
   "id": "a16b1176",
   "metadata": {},
   "outputs": [],
   "source": [
    "credentials = await client.users.login(\n",
    "    email=\"admin@example.com\",\n",
    "    password=\"change_me_immediately\"\n",
    ")\n",
    "bearer_token = credentials.results.access_token.token"
   ]
  },
  {
   "cell_type": "code",
   "execution_count": 5,
   "id": "0fb10a49",
   "metadata": {},
   "outputs": [],
   "source": [
    "await conversation_handler.create_conversation('testing my app', bearer_token)"
   ]
  },
  {
   "cell_type": "code",
   "execution_count": 16,
   "id": "d60eeed3",
   "metadata": {},
   "outputs": [
    {
     "name": "stdout",
     "output_type": "stream",
     "text": [
      "ok\n"
     ]
    }
   ],
   "source": [
    "if response.status_code == 200:\n",
    "    print('ok')"
   ]
  },
  {
   "cell_type": "code",
   "execution_count": 10,
   "id": "1a43573f",
   "metadata": {},
   "outputs": [],
   "source": [
    "email = settings.results.config['auth']['default_admin_email']\n",
    "password = settings.results.config['auth']['default_admin_password']"
   ]
  },
  {
   "cell_type": "code",
   "execution_count": 13,
   "id": "c6b4126f",
   "metadata": {},
   "outputs": [],
   "source": [
    "tokens = await client.users.login(email, password)"
   ]
  },
  {
   "cell_type": "code",
   "execution_count": 18,
   "id": "c0a14f1b",
   "metadata": {},
   "outputs": [],
   "source": [
    "bearer_token = tokens.results.access_token.token"
   ]
  },
  {
   "cell_type": "code",
   "execution_count": null,
   "id": "b6171a02",
   "metadata": {},
   "outputs": [],
   "source": [
    "import requests\n",
    "\n",
    "headers = {\n",
    "    'Authorization': f'Bearer {bearer_token}',\n",
    "    'Content-Type': 'application/json',\n",
    "    'Accept': 'text/csv'\n",
    "}\n",
    "\n",
    "payload = {\n",
    "    'columns': [\n",
    "        'id',\n",
    "        'type', # This doesn't work with document_type\n",
    "        'metadata',\n",
    "        'title',\n",
    "        'ingestion_status',\n",
    "        'created_at',\n",
    "        'summary'\n",
    "    ],\n",
    "    'include_header': 'true'\n",
    "}\n",
    "\n",
    "url = 'http://127.0.0.1:7272/v3/documents/export'\n",
    "\n",
    "response = requests.post(url, headers=headers, json=payload)\n",
    "\n",
    "if response.status_code == 200:\n",
    "    print(response.text)\n"
   ]
  },
  {
   "cell_type": "code",
   "execution_count": 26,
   "id": "1496040c",
   "metadata": {},
   "outputs": [
    {
     "name": "stdout",
     "output_type": "stream",
     "text": [
      "\"id\",\"type\",\"metadata\",\"title\",\"ingestion_status\",\"created_at\",\"summary\"\n",
      "\"967a6682-8542-5b2f-b812-cd67f82572ad\",\"txt\",\"{\"\"version\"\": \"\"v0\"\"}\",\"Ingested Chunks - 967a6682-8542-5b2f-b812-cd67f82572ad\",\"success\",\"2025-03-06 10:22:56\",\"\"\n",
      "\"9404a252-e391-535b-a63d-c0cd2870da6a\",\"txt\",\"{\"\"version\"\": \"\"v0\"\"}\",\"Ingested Chunks - 9404a252-e391-535b-a63d-c0cd2870da6a\",\"success\",\"2025-03-06 10:04:56\",\"\"\n",
      "\"2790122b-3438-5520-b269-588b84e06234\",\"pdf\",\"{\"\"foo\"\": \"\"bar\"\", \"\"test2\"\": \"\"test\"\", \"\"version\"\": \"\"v0\"\"}\",\"download.pdf\",\"success\",\"2025-03-05 18:32:04\",\"The document contains information about a book titled \"\"Distributed Systems\"\" by Andrew S. Tanenbaum and Maarten Van Steen, which is in its second edition. The authors are both professors at the Vrije Universiteit in Amsterdam, where they teach computer science courses. They have extensive research experience in distributed systems, operating systems, and networking.\n",
      "\n",
      "The book covers various aspects of distributed systems, including principles, paradigms, and architectures. It discusses different types of distributed systems, such as computing systems, information systems, and pervasive systems. The authors also explore the goals of distributed systems, which include making resources accessible, distribution transparency, openness, scalability, and avoiding pitfalls.\n",
      "\n",
      "The book is divided into several chapters, including an introduction to distributed systems, architectural styles, system architectures, and a discussion on architectures versus middleware. The authors provide examples and case studies to illustrate key concepts and principles.\n",
      "\n",
      "Throughout the book, the authors emphasize the importance of understanding the fundamental principles and paradigms of distributed systems. They also highlight the challenges and pitfalls associated with designing and implementing distributed systems.\n",
      "\n",
      "The document includes metadata about the book, such as its ISBN number, publication date, and copyright information. The authors dedicate the book to their families and express gratitude for the support they received during the writing process.\"\n",
      "\"e360d67a-5560-5191-8b20-59d22c4a2105\",\"pdf\",\"{\"\"foo\"\": \"\"bar\"\", \"\"test2\"\": \"\"test\"\", \"\"version\"\": \"\"v0\"\"}\",\"en-Manual-Gwent-ONLINE.pdf\",\"success\",\"2025-03-05 18:29:11\",\"The document contains a comprehensive guide to playing Gwent, a 2-player card game where two armies clash on the battlefield. The game involves picking a faction, each with its unique style and passive ability, and preparing a deck consisting of a Leader Card, Unit Cards, Special Cards, and gem counters. Players take turns placing cards on the battlefield, with the player having the highest total strength winning the round. The first player to win two rounds wins the game.\n",
      "\n",
      "Key points include:\n",
      "\n",
      "* Each faction has its unique style and passive ability.\n",
      "* A deck consists of a Leader Card, Unit Cards, Special Cards, and gem counters.\n",
      "* Players take turns placing cards on the battlefield.\n",
      "* The player with the highest total strength wins each round.\n",
      "* The first player to win two rounds wins the game.\n",
      "* Gem counters are used to track the number of rounds lost.\n",
      "\n",
      "The guide also includes tips for playing Gwent, such as choosing when to play a card wisely and remembering that passing is sometimes the best strategy. Additionally, it provides information on how to keep score using the Score Card and four score tokens marked with faction symbols. The document concludes with an appendix containing ability descriptions for various factions and Unit Cards.\"\n",
      "\"128b32ad-6e8d-5fc8-85ee-4c27627ab6a0\",\"pdf\",\"{\"\"foo\"\": \"\"bar\"\", \"\"version\"\": \"\"v0\"\"}\",\"linuxbasicsforhackers.pdf\",\"enriching\",\"2025-03-05 18:11:30\",\"The document contains information about \"\"Linux Basics for Hackers\"\", a book written by OccupyTheWeb, an infosec consultant and trainer with over 20 years of experience in the industry. The book is designed to help beginners learn the basics of using Linux, specifically Kali Linux, an advanced penetration testing distribution of Linux. It covers topics such as installing Kali on a virtual machine, basic Linux concepts, manipulating text, controlling file and directory permissions, managing user environment variables, security and anonymity, scripting skills with bash and Python, and building hacking tools.\n",
      "\n",
      "The book includes practical tutorials and exercises to reinforce learning, covering topics such as:\n",
      "\n",
      "* Changing network information and manipulating the rsyslog logging utility\n",
      "* Writing a tool to scan for network connections and connect to wireless networks\n",
      "* Using Tor, proxy servers, VPNs, and encrypted email to keep internet activity stealthy\n",
      "* Scanning open ports for potential targets using bash scripts\n",
      "* Abusing services like MySQL, Apache web server, and OpenSSH\n",
      "\n",
      "The book is intended for those getting started with hacking, cybersecurity, and pentesting, and provides a comprehensive introduction to the Linux operating system and its applications in hacking.\"\n",
      "\n"
     ]
    }
   ],
   "source": [
    "if response.status_code == 200:\n",
    "    print(response.text)"
   ]
  },
  {
   "cell_type": "code",
   "execution_count": 28,
   "id": "a581ed7c",
   "metadata": {},
   "outputs": [],
   "source": [
    "from prompt import PromptHandler\n",
    "\n",
    "prompts = PromptHandler(client)"
   ]
  },
  {
   "cell_type": "code",
   "execution_count": 46,
   "id": "a5c08ad4",
   "metadata": {},
   "outputs": [
    {
     "name": "stdout",
     "output_type": "stream",
     "text": [
      "You are an AI research assistant with access to document retrieval tools. You should use both your internal knowledge store and web search tools to answer the user questions. Today is {date}.\n",
      "\n",
      "<AvailableTools>\n",
      "<ToolDefinition>\n",
      "    <Name>content</Name>\n",
      "    <Description>Fetch full documents using filters. Parameters must be a valid JSON object.</Description>\n",
      "    <Parameters>\n",
      "      <Parameter type=\"string\" required=\"true\">\n",
      "        <Name>filters</Name>\n",
      "        <!--\n",
      "          Double braces surrounding the entire block (for your templating),\n",
      "          single braces for JSON structure inside\n",
      "        -->\n",
      "        <Example>{{\"filters\": {{\"document_id\": {{\"$eq\": \"7e0022ec.-...\"}}}}}}</Example>\n",
      "        <Operators>$eq, $overlap</Operators>\n",
      "      </Parameter>\n",
      "    </Parameters>\n",
      "</ToolDefinition>\n",
      "\n",
      "<ToolDefinition>\n",
      "    <Name>local_search</Name>\n",
      "    <Description>Semantic search across local documents. Parameters must be a valid JSON object.</Description>\n",
      "    <Parameters>\n",
      "      <Parameter type=\"string\" required=\"true\">\n",
      "        <Name>query</Name>\n",
      "        <Example>{{\"query\": \"machine learning advances\"}}</Example>\n",
      "      </Parameter>\n",
      "    </Parameters>\n",
      "</ToolDefinition>\n",
      "\n",
      "<ToolDefinition>\n",
      "    <Name>web_search</Name>\n",
      "    <Description>External web search. Parameters must be a valid JSON object.</Description>\n",
      "    <Parameters>\n",
      "      <Parameter type=\"string\" required=\"true\">\n",
      "        <Name>query</Name>\n",
      "        <Example>{{\"query\": \"recent AI developments 2024\"}}</Example>\n",
      "      </Parameter>\n",
      "    </Parameters>\n",
      "</ToolDefinition>\n",
      "\n",
      "<ToolDefinition>\n",
      "    <Name>result</Name>\n",
      "    <Description>Complete the conversation and return a result, called after getting relevant context.</Description>\n",
      "    <Parameters>\n",
      "      <Parameter type=\"string\" required=\"true\">\n",
      "        <Name>response</Name>\n",
      "        <Example>{{\"answer\": \"The recent developments in AI include...\"}}</Example>\n",
      "      </Parameter>\n",
      "    </Parameters>\n",
      "</ToolDefinition>\n",
      "\n",
      "</AvailableTools>\n",
      "\n",
      "### Documents\n",
      "{document_context}\n",
      "\n",
      "### Collections\n",
      "{collection_context}\n",
      "\n",
      "2. DECIDE response strategy:\n",
      "- If specific document IDs are relevant: Use `content` with $eq filters\n",
      "- For broad concepts: Use `local_search` with keyword queries\n",
      "- Use web_search to gather live information\n",
      "\n",
      "3. FORMAT response STRICTLY as:\n",
      "<Action>\n",
      "  <ToolCalls>\n",
      "      <ToolCall>\n",
      "          <Name>local_search</Name>\n",
      "          <!-- Parameters MUST be a single valid JSON object -->\n",
      "          <Parameters>{{\"query\": \"example search\"}}</Parameters>\n",
      "      </ToolCall>\n",
      "      <!-- Example with nested filters -->\n",
      "      <ToolCall>\n",
      "          <Name>content</Name>\n",
      "          <Parameters>{{\"filters\": {{\"$and\": [{{\"document_id\": {{\"$eq\": \"abc123\"}}, {{\"collection_ids\": {{\"$overlap\": [\"id1\"]}}}}]}}}}}}</Parameters>\n",
      "      </ToolCall>\n",
      "  </ToolCalls>\n",
      "</Action>\n",
      "\n",
      "### Constraints\n",
      "- MAX_CONTEXT: {max_tool_context_length} tokens\n",
      "- REQUIRED: Line-item references like [1][3] when using content\n",
      "- REQUIRED: All Parameters must be valid JSON objects\n",
      "- PROHIBITED: Assuming document contents without retrieval\n",
      "- PROHIBITED: Using XML format for Parameters values\n",
      "\n",
      "### Examples\n",
      "1. Good initial search oepration:\n",
      "<Action>\n",
      "  <ToolCalls>\n",
      "    <ToolCall>\n",
      "        <Name>web_search</Name>\n",
      "        <Parameters>{{\"query\": \"recent advances in machine learning\"}}</Parameters>\n",
      "    </ToolCall>\n",
      "    <ToolCall>\n",
      "        <Name>local_search</Name>\n",
      "        <Parameters>{{\"query\": \"machine learning applications\"}}</Parameters>\n",
      "    </ToolCall>\n",
      "    <ToolCall>\n",
      "        <Name>local_search</Name>\n",
      "        <Parameters>{{\"query\": \"recent advances in machine learning\"}}</Parameters>\n",
      "    </ToolCall>\n",
      "  </ToolCalls>\n",
      "</Action>\n",
      "\n",
      "\n",
      "2. Good content call with complex filters:\n",
      "<Action>\n",
      "  <ToolCalls>\n",
      "    <ToolCall>\n",
      "        <Name>web_search</Name>\n",
      "        <Parameters>{{\"query\": \"recent advances in machine learning\"}}</Parameters>\n",
      "    </ToolCall>\n",
      "    <ToolCall>\n",
      "        <Name>content</Name>\n",
      "        <Parameters>{{\"filters\": {{\"$or\": [{{\"document_id\": {{\"$eq\": \"a5b880db-...\"}}}}, {{\"document_id\": {{\"$overlap\": [\"54b523f6-...\",\"26fc0bf5-...\"]}}}}]}}}}}}</Parameters>\n",
      "    </ToolCall>\n",
      "  </ToolCalls>\n",
      "</Action>\n",
      "\n",
      "3. After getting relevant context, use `result` to return an answer and complete the conversation:\n",
      "<Action>\n",
      "  <ToolCalls>\n",
      "      <ToolCall>\n",
      "          <Name>result</Name>\n",
      "          <Parameters>{{\"answer\": \"The recent developments in AI include...\"}}</Parameters>\n",
      "      </ToolCall>\n",
      "  </ToolCalls>\n",
      "</Action>\n",
      "\n",
      "### Important!\n",
      "Continue to take actions until you have sufficient relevant context, then return your answer with the result tool.\n",
      "You have a maximum of 100_000 context tokens or 10 iterations to find the information required.\n",
      "\n",
      "RETURN A COMPLETE AND COMPREHENSIVE ANSWER WHEN POSSIBLE.\n",
      "\n"
     ]
    }
   ],
   "source": [
    "all_prompts = await prompts.list_prompts()\n",
    "print(all_prompts.results[-1].template)"
   ]
  },
  {
   "cell_type": "code",
   "execution_count": 31,
   "id": "e4be2faf",
   "metadata": {},
   "outputs": [
    {
     "data": {
      "text/plain": [
       "GenericMessageResponse(message=\"Prompt 'chunk_summary' added successfully.\")"
      ]
     },
     "execution_count": 31,
     "metadata": {},
     "output_type": "execute_result"
    }
   ],
   "source": [
    "creation_result = await prompts.create_prompt(\"prompts/my_prompt.yaml\")\n",
    "creation_result.results"
   ]
  },
  {
   "cell_type": "code",
   "execution_count": 45,
   "id": "8f79231f",
   "metadata": {},
   "outputs": [
    {
     "name": "stderr",
     "output_type": "stream",
     "text": [
      "{'message': \"Prompt template 'chunk_summary' not found\", 'error_type': 'R2RException'}\n"
     ]
    },
    {
     "ename": "R2RException",
     "evalue": "{'message': \"Prompt template 'chunk_summary' not found\", 'error_type': 'R2RException'}",
     "output_type": "error",
     "traceback": [
      "\u001b[31m---------------------------------------------------------------------------\u001b[39m",
      "\u001b[31mR2RException\u001b[39m                              Traceback (most recent call last)",
      "\u001b[36mFile \u001b[39m\u001b[32m~/Desktop/Evaluation-Approaches-for-Retrieval-Augmented-Generation-RAG-/backend/prompt.py:142\u001b[39m, in \u001b[36mPromptHandler.get_prompt_by_name\u001b[39m\u001b[34m(self, name)\u001b[39m\n\u001b[32m    141\u001b[39m \u001b[38;5;28;01mtry\u001b[39;00m:\n\u001b[32m--> \u001b[39m\u001b[32m142\u001b[39m     prompt_resp = \u001b[38;5;28;01mawait\u001b[39;00m \u001b[38;5;28mself\u001b[39m._client.prompts.retrieve(name)\n\u001b[32m    143\u001b[39m     \u001b[38;5;28;01mreturn\u001b[39;00m prompt_resp\n",
      "\u001b[36mFile \u001b[39m\u001b[32m~/Desktop/Evaluation-Approaches-for-Retrieval-Augmented-Generation-RAG-/venv/lib/python3.12/site-packages/sdk/asnyc_methods/prompts.py:76\u001b[39m, in \u001b[36mPromptsSDK.retrieve\u001b[39m\u001b[34m(self, name, inputs, prompt_override)\u001b[39m\n\u001b[32m     75\u001b[39m     params[\u001b[33m\"\u001b[39m\u001b[33mprompt_override\u001b[39m\u001b[33m\"\u001b[39m] = prompt_override\n\u001b[32m---> \u001b[39m\u001b[32m76\u001b[39m response_dict = \u001b[38;5;28;01mawait\u001b[39;00m \u001b[38;5;28mself\u001b[39m.client._make_request(\n\u001b[32m     77\u001b[39m     \u001b[33m\"\u001b[39m\u001b[33mPOST\u001b[39m\u001b[33m\"\u001b[39m,\n\u001b[32m     78\u001b[39m     \u001b[33mf\u001b[39m\u001b[33m\"\u001b[39m\u001b[33mprompts/\u001b[39m\u001b[38;5;132;01m{\u001b[39;00mname\u001b[38;5;132;01m}\u001b[39;00m\u001b[33m\"\u001b[39m,\n\u001b[32m     79\u001b[39m     params=params,\n\u001b[32m     80\u001b[39m     version=\u001b[33m\"\u001b[39m\u001b[33mv3\u001b[39m\u001b[33m\"\u001b[39m,\n\u001b[32m     81\u001b[39m )\n\u001b[32m     83\u001b[39m \u001b[38;5;28;01mreturn\u001b[39;00m WrappedPromptResponse(**response_dict)\n",
      "\u001b[36mFile \u001b[39m\u001b[32m~/Desktop/Evaluation-Approaches-for-Retrieval-Augmented-Generation-RAG-/venv/lib/python3.12/site-packages/sdk/async_client.py:66\u001b[39m, in \u001b[36mR2RAsyncClient._make_request\u001b[39m\u001b[34m(self, method, endpoint, version, **kwargs)\u001b[39m\n\u001b[32m     65\u001b[39m response = \u001b[38;5;28;01mawait\u001b[39;00m \u001b[38;5;28mself\u001b[39m.client.request(method, url, **request_args)\n\u001b[32m---> \u001b[39m\u001b[32m66\u001b[39m \u001b[38;5;28;01mawait\u001b[39;00m \u001b[38;5;28mself\u001b[39m._handle_response(response)\n\u001b[32m     67\u001b[39m \u001b[38;5;28;01mif\u001b[39;00m \u001b[33m\"\u001b[39m\u001b[33mapplication/json\u001b[39m\u001b[33m\"\u001b[39m \u001b[38;5;129;01min\u001b[39;00m response.headers.get(\u001b[33m\"\u001b[39m\u001b[33mContent-Type\u001b[39m\u001b[33m\"\u001b[39m, \u001b[33m\"\u001b[39m\u001b[33m\"\u001b[39m):\n",
      "\u001b[36mFile \u001b[39m\u001b[32m~/Desktop/Evaluation-Approaches-for-Retrieval-Augmented-Generation-RAG-/venv/lib/python3.12/site-packages/sdk/async_client.py:113\u001b[39m, in \u001b[36mR2RAsyncClient._handle_response\u001b[39m\u001b[34m(self, response)\u001b[39m\n\u001b[32m    111\u001b[39m     message = \u001b[38;5;28mstr\u001b[39m(e)\n\u001b[32m--> \u001b[39m\u001b[32m113\u001b[39m \u001b[38;5;28;01mraise\u001b[39;00m R2RException(\n\u001b[32m    114\u001b[39m     status_code=response.status_code, message=message\n\u001b[32m    115\u001b[39m )\n",
      "\u001b[31mR2RException\u001b[39m: {'message': \"Prompt template 'chunk_summary' not found\", 'error_type': 'R2RException'}",
      "\nThe above exception was the direct cause of the following exception:\n",
      "\u001b[31mR2RException\u001b[39m                              Traceback (most recent call last)",
      "\u001b[36mCell\u001b[39m\u001b[36m \u001b[39m\u001b[32mIn[45]\u001b[39m\u001b[32m, line 1\u001b[39m\n\u001b[32m----> \u001b[39m\u001b[32m1\u001b[39m my_prompt = \u001b[38;5;28;01mawait\u001b[39;00m prompts.get_prompt_by_name(all_prompts.results[-\u001b[32m1\u001b[39m].name)\n\u001b[32m      2\u001b[39m my_prompt.results.model_dump()\n",
      "\u001b[36mFile \u001b[39m\u001b[32m~/Desktop/Evaluation-Approaches-for-Retrieval-Augmented-Generation-RAG-/backend/prompt.py:146\u001b[39m, in \u001b[36mPromptHandler.get_prompt_by_name\u001b[39m\u001b[34m(self, name)\u001b[39m\n\u001b[32m    144\u001b[39m \u001b[38;5;28;01mexcept\u001b[39;00m R2RException \u001b[38;5;28;01mas\u001b[39;00m r2re:\n\u001b[32m    145\u001b[39m     \u001b[38;5;28mself\u001b[39m._logger.error(\u001b[38;5;28mstr\u001b[39m(r2re))\n\u001b[32m--> \u001b[39m\u001b[32m146\u001b[39m     \u001b[38;5;28;01mraise\u001b[39;00m R2RException(\u001b[38;5;28mstr\u001b[39m(r2re), \u001b[32m404\u001b[39m) \u001b[38;5;28;01mfrom\u001b[39;00m\u001b[38;5;250m \u001b[39m\u001b[34;01mr2re\u001b[39;00m\n\u001b[32m    147\u001b[39m \u001b[38;5;28;01mexcept\u001b[39;00m \u001b[38;5;167;01mException\u001b[39;00m \u001b[38;5;28;01mas\u001b[39;00m e:\n\u001b[32m    148\u001b[39m     \u001b[38;5;28mself\u001b[39m._logger.error(\u001b[33m'\u001b[39m\u001b[33m[-] Unexpected error while getting prompt: \u001b[39m\u001b[38;5;132;01m%s\u001b[39;00m\u001b[33m [-]\u001b[39m\u001b[33m'\u001b[39m, e)\n",
      "\u001b[31mR2RException\u001b[39m: {'message': \"Prompt template 'chunk_summary' not found\", 'error_type': 'R2RException'}"
     ]
    }
   ],
   "source": [
    "my_prompt = await prompts.get_prompt_by_name(all_prompts.results[-1].name)\n",
    "my_prompt.results.model_dump()"
   ]
  },
  {
   "cell_type": "code",
   "execution_count": 43,
   "id": "dc41518b",
   "metadata": {},
   "outputs": [
    {
     "name": "stderr",
     "output_type": "stream",
     "text": [
      "{'message': \"Prompt template 'chunk_summary   a' not found\", 'error_type': 'R2RException'}\n"
     ]
    },
    {
     "ename": "R2RException",
     "evalue": "{'message': \"Prompt template 'chunk_summary   a' not found\", 'error_type': 'R2RException'}",
     "output_type": "error",
     "traceback": [
      "\u001b[31m---------------------------------------------------------------------------\u001b[39m",
      "\u001b[31mR2RException\u001b[39m                              Traceback (most recent call last)",
      "\u001b[36mFile \u001b[39m\u001b[32m~/Desktop/Evaluation-Approaches-for-Retrieval-Augmented-Generation-RAG-/backend/prompt.py:168\u001b[39m, in \u001b[36mPromptHandler.update_prompt\u001b[39m\u001b[34m(self, name, template, input_types)\u001b[39m\n\u001b[32m    167\u001b[39m \u001b[38;5;28;01mtry\u001b[39;00m:\n\u001b[32m--> \u001b[39m\u001b[32m168\u001b[39m     update_resp = \u001b[38;5;28;01mawait\u001b[39;00m \u001b[38;5;28mself\u001b[39m._client.prompts.update(\n\u001b[32m    169\u001b[39m         name,\n\u001b[32m    170\u001b[39m         template,\n\u001b[32m    171\u001b[39m         input_types\n\u001b[32m    172\u001b[39m     )\n\u001b[32m    173\u001b[39m     \u001b[38;5;28;01mreturn\u001b[39;00m update_resp\n",
      "\u001b[36mFile \u001b[39m\u001b[32m~/Desktop/Evaluation-Approaches-for-Retrieval-Augmented-Generation-RAG-/venv/lib/python3.12/site-packages/sdk/asnyc_methods/prompts.py:105\u001b[39m, in \u001b[36mPromptsSDK.update\u001b[39m\u001b[34m(self, name, template, input_types)\u001b[39m\n\u001b[32m    104\u001b[39m     data[\u001b[33m\"\u001b[39m\u001b[33minput_types\u001b[39m\u001b[33m\"\u001b[39m] = json.dumps(input_types)\n\u001b[32m--> \u001b[39m\u001b[32m105\u001b[39m response_dict = \u001b[38;5;28;01mawait\u001b[39;00m \u001b[38;5;28mself\u001b[39m.client._make_request(\n\u001b[32m    106\u001b[39m     \u001b[33m\"\u001b[39m\u001b[33mPUT\u001b[39m\u001b[33m\"\u001b[39m,\n\u001b[32m    107\u001b[39m     \u001b[33mf\u001b[39m\u001b[33m\"\u001b[39m\u001b[33mprompts/\u001b[39m\u001b[38;5;132;01m{\u001b[39;00mname\u001b[38;5;132;01m}\u001b[39;00m\u001b[33m\"\u001b[39m,\n\u001b[32m    108\u001b[39m     json=data,\n\u001b[32m    109\u001b[39m     version=\u001b[33m\"\u001b[39m\u001b[33mv3\u001b[39m\u001b[33m\"\u001b[39m,\n\u001b[32m    110\u001b[39m )\n\u001b[32m    112\u001b[39m \u001b[38;5;28;01mreturn\u001b[39;00m WrappedGenericMessageResponse(**response_dict)\n",
      "\u001b[36mFile \u001b[39m\u001b[32m~/Desktop/Evaluation-Approaches-for-Retrieval-Augmented-Generation-RAG-/venv/lib/python3.12/site-packages/sdk/async_client.py:66\u001b[39m, in \u001b[36mR2RAsyncClient._make_request\u001b[39m\u001b[34m(self, method, endpoint, version, **kwargs)\u001b[39m\n\u001b[32m     65\u001b[39m response = \u001b[38;5;28;01mawait\u001b[39;00m \u001b[38;5;28mself\u001b[39m.client.request(method, url, **request_args)\n\u001b[32m---> \u001b[39m\u001b[32m66\u001b[39m \u001b[38;5;28;01mawait\u001b[39;00m \u001b[38;5;28mself\u001b[39m._handle_response(response)\n\u001b[32m     67\u001b[39m \u001b[38;5;28;01mif\u001b[39;00m \u001b[33m\"\u001b[39m\u001b[33mapplication/json\u001b[39m\u001b[33m\"\u001b[39m \u001b[38;5;129;01min\u001b[39;00m response.headers.get(\u001b[33m\"\u001b[39m\u001b[33mContent-Type\u001b[39m\u001b[33m\"\u001b[39m, \u001b[33m\"\u001b[39m\u001b[33m\"\u001b[39m):\n",
      "\u001b[36mFile \u001b[39m\u001b[32m~/Desktop/Evaluation-Approaches-for-Retrieval-Augmented-Generation-RAG-/venv/lib/python3.12/site-packages/sdk/async_client.py:113\u001b[39m, in \u001b[36mR2RAsyncClient._handle_response\u001b[39m\u001b[34m(self, response)\u001b[39m\n\u001b[32m    111\u001b[39m     message = \u001b[38;5;28mstr\u001b[39m(e)\n\u001b[32m--> \u001b[39m\u001b[32m113\u001b[39m \u001b[38;5;28;01mraise\u001b[39;00m R2RException(\n\u001b[32m    114\u001b[39m     status_code=response.status_code, message=message\n\u001b[32m    115\u001b[39m )\n",
      "\u001b[31mR2RException\u001b[39m: {'message': \"Prompt template 'chunk_summary   a' not found\", 'error_type': 'R2RException'}",
      "\nThe above exception was the direct cause of the following exception:\n",
      "\u001b[31mR2RException\u001b[39m                              Traceback (most recent call last)",
      "\u001b[36mCell\u001b[39m\u001b[36m \u001b[39m\u001b[32mIn[43]\u001b[39m\u001b[32m, line 1\u001b[39m\n\u001b[32m----> \u001b[39m\u001b[32m1\u001b[39m update_resp = \u001b[38;5;28;01mawait\u001b[39;00m prompts.update_prompt(\n\u001b[32m      2\u001b[39m     name=my_prompt.results.name + \u001b[33m\"\u001b[39m\u001b[33m   a\u001b[39m\u001b[33m\"\u001b[39m,\n\u001b[32m      3\u001b[39m     template=\u001b[33m\"\u001b[39m\u001b[33mHello, World!\u001b[39m\u001b[33m\"\u001b[39m\n\u001b[32m      4\u001b[39m )\n\u001b[32m      5\u001b[39m update_resp.results\n",
      "\u001b[36mFile \u001b[39m\u001b[32m~/Desktop/Evaluation-Approaches-for-Retrieval-Augmented-Generation-RAG-/backend/prompt.py:176\u001b[39m, in \u001b[36mPromptHandler.update_prompt\u001b[39m\u001b[34m(self, name, template, input_types)\u001b[39m\n\u001b[32m    174\u001b[39m \u001b[38;5;28;01mexcept\u001b[39;00m R2RException \u001b[38;5;28;01mas\u001b[39;00m r2re:\n\u001b[32m    175\u001b[39m     \u001b[38;5;28mself\u001b[39m._logger.error(\u001b[38;5;28mstr\u001b[39m(r2re))\n\u001b[32m--> \u001b[39m\u001b[32m176\u001b[39m     \u001b[38;5;28;01mraise\u001b[39;00m R2RException(\u001b[38;5;28mstr\u001b[39m(r2re), \u001b[32m500\u001b[39m) \u001b[38;5;28;01mfrom\u001b[39;00m\u001b[38;5;250m \u001b[39m\u001b[34;01mr2re\u001b[39;00m\n\u001b[32m    177\u001b[39m \u001b[38;5;28;01mexcept\u001b[39;00m \u001b[38;5;167;01mException\u001b[39;00m \u001b[38;5;28;01mas\u001b[39;00m e:\n\u001b[32m    178\u001b[39m     \u001b[38;5;28mself\u001b[39m._logger.error(\u001b[33m'\u001b[39m\u001b[33m[-] Unexpected error while updating prompt: \u001b[39m\u001b[38;5;132;01m%s\u001b[39;00m\u001b[33m [-]\u001b[39m\u001b[33m'\u001b[39m, e)\n",
      "\u001b[31mR2RException\u001b[39m: {'message': \"Prompt template 'chunk_summary   a' not found\", 'error_type': 'R2RException'}"
     ]
    }
   ],
   "source": [
    "update_resp = await prompts.update_prompt(\n",
    "    name=my_prompt.results.name + \"   a\",\n",
    "    template=\"Hello, World!\"\n",
    ")\n",
    "update_resp.results"
   ]
  },
  {
   "cell_type": "code",
   "execution_count": 47,
   "id": "5ee7c77c",
   "metadata": {},
   "outputs": [
    {
     "name": "stderr",
     "output_type": "stream",
     "text": [
      "{'message': \"Prompt template 'chunk_summary' not found\", 'error_type': 'R2RException'}\n"
     ]
    },
    {
     "ename": "R2RException",
     "evalue": "{'message': \"Prompt template 'chunk_summary' not found\", 'error_type': 'R2RException'}",
     "output_type": "error",
     "traceback": [
      "\u001b[31m---------------------------------------------------------------------------\u001b[39m",
      "\u001b[31mR2RException\u001b[39m                              Traceback (most recent call last)",
      "\u001b[36mFile \u001b[39m\u001b[32m~/Desktop/Evaluation-Approaches-for-Retrieval-Augmented-Generation-RAG-/backend/prompt.py:196\u001b[39m, in \u001b[36mPromptHandler.delete_prompt_by_name\u001b[39m\u001b[34m(self, name)\u001b[39m\n\u001b[32m    195\u001b[39m \u001b[38;5;28;01mtry\u001b[39;00m:\n\u001b[32m--> \u001b[39m\u001b[32m196\u001b[39m     deletion_resp = \u001b[38;5;28;01mawait\u001b[39;00m \u001b[38;5;28mself\u001b[39m._client.prompts.delete(name)\n\u001b[32m    197\u001b[39m     \u001b[38;5;28;01mreturn\u001b[39;00m deletion_resp\n",
      "\u001b[36mFile \u001b[39m\u001b[32m~/Desktop/Evaluation-Approaches-for-Retrieval-Augmented-Generation-RAG-/venv/lib/python3.12/site-packages/sdk/asnyc_methods/prompts.py:122\u001b[39m, in \u001b[36mPromptsSDK.delete\u001b[39m\u001b[34m(self, name)\u001b[39m\n\u001b[32m    115\u001b[39m \u001b[38;5;250m\u001b[39m\u001b[33;03m\"\"\"Delete a prompt by name.\u001b[39;00m\n\u001b[32m    116\u001b[39m \n\u001b[32m    117\u001b[39m \u001b[33;03mArgs:\u001b[39;00m\n\u001b[32m   (...)\u001b[39m\u001b[32m    120\u001b[39m \u001b[33;03m    bool: True if deletion was successful\u001b[39;00m\n\u001b[32m    121\u001b[39m \u001b[33;03m\"\"\"\u001b[39;00m\n\u001b[32m--> \u001b[39m\u001b[32m122\u001b[39m response_dict = \u001b[38;5;28;01mawait\u001b[39;00m \u001b[38;5;28mself\u001b[39m.client._make_request(\n\u001b[32m    123\u001b[39m     \u001b[33m\"\u001b[39m\u001b[33mDELETE\u001b[39m\u001b[33m\"\u001b[39m,\n\u001b[32m    124\u001b[39m     \u001b[33mf\u001b[39m\u001b[33m\"\u001b[39m\u001b[33mprompts/\u001b[39m\u001b[38;5;132;01m{\u001b[39;00mname\u001b[38;5;132;01m}\u001b[39;00m\u001b[33m\"\u001b[39m,\n\u001b[32m    125\u001b[39m     version=\u001b[33m\"\u001b[39m\u001b[33mv3\u001b[39m\u001b[33m\"\u001b[39m,\n\u001b[32m    126\u001b[39m )\n\u001b[32m    128\u001b[39m \u001b[38;5;28;01mreturn\u001b[39;00m WrappedBooleanResponse(**response_dict)\n",
      "\u001b[36mFile \u001b[39m\u001b[32m~/Desktop/Evaluation-Approaches-for-Retrieval-Augmented-Generation-RAG-/venv/lib/python3.12/site-packages/sdk/async_client.py:66\u001b[39m, in \u001b[36mR2RAsyncClient._make_request\u001b[39m\u001b[34m(self, method, endpoint, version, **kwargs)\u001b[39m\n\u001b[32m     65\u001b[39m response = \u001b[38;5;28;01mawait\u001b[39;00m \u001b[38;5;28mself\u001b[39m.client.request(method, url, **request_args)\n\u001b[32m---> \u001b[39m\u001b[32m66\u001b[39m \u001b[38;5;28;01mawait\u001b[39;00m \u001b[38;5;28mself\u001b[39m._handle_response(response)\n\u001b[32m     67\u001b[39m \u001b[38;5;28;01mif\u001b[39;00m \u001b[33m\"\u001b[39m\u001b[33mapplication/json\u001b[39m\u001b[33m\"\u001b[39m \u001b[38;5;129;01min\u001b[39;00m response.headers.get(\u001b[33m\"\u001b[39m\u001b[33mContent-Type\u001b[39m\u001b[33m\"\u001b[39m, \u001b[33m\"\u001b[39m\u001b[33m\"\u001b[39m):\n",
      "\u001b[36mFile \u001b[39m\u001b[32m~/Desktop/Evaluation-Approaches-for-Retrieval-Augmented-Generation-RAG-/venv/lib/python3.12/site-packages/sdk/async_client.py:113\u001b[39m, in \u001b[36mR2RAsyncClient._handle_response\u001b[39m\u001b[34m(self, response)\u001b[39m\n\u001b[32m    111\u001b[39m     message = \u001b[38;5;28mstr\u001b[39m(e)\n\u001b[32m--> \u001b[39m\u001b[32m113\u001b[39m \u001b[38;5;28;01mraise\u001b[39;00m R2RException(\n\u001b[32m    114\u001b[39m     status_code=response.status_code, message=message\n\u001b[32m    115\u001b[39m )\n",
      "\u001b[31mR2RException\u001b[39m: {'message': \"Prompt template 'chunk_summary' not found\", 'error_type': 'R2RException'}",
      "\nThe above exception was the direct cause of the following exception:\n",
      "\u001b[31mR2RException\u001b[39m                              Traceback (most recent call last)",
      "\u001b[36mCell\u001b[39m\u001b[36m \u001b[39m\u001b[32mIn[47]\u001b[39m\u001b[32m, line 1\u001b[39m\n\u001b[32m----> \u001b[39m\u001b[32m1\u001b[39m delete_resp = \u001b[38;5;28;01mawait\u001b[39;00m prompts.delete_prompt_by_name(name=my_prompt.results.name)\n",
      "\u001b[36mFile \u001b[39m\u001b[32m~/Desktop/Evaluation-Approaches-for-Retrieval-Augmented-Generation-RAG-/backend/prompt.py:200\u001b[39m, in \u001b[36mPromptHandler.delete_prompt_by_name\u001b[39m\u001b[34m(self, name)\u001b[39m\n\u001b[32m    198\u001b[39m \u001b[38;5;28;01mexcept\u001b[39;00m R2RException \u001b[38;5;28;01mas\u001b[39;00m r2re:\n\u001b[32m    199\u001b[39m     \u001b[38;5;28mself\u001b[39m._logger.error(\u001b[38;5;28mstr\u001b[39m(r2re))\n\u001b[32m--> \u001b[39m\u001b[32m200\u001b[39m     \u001b[38;5;28;01mraise\u001b[39;00m R2RException(\u001b[38;5;28mstr\u001b[39m(r2re), \u001b[32m404\u001b[39m) \u001b[38;5;28;01mfrom\u001b[39;00m\u001b[38;5;250m \u001b[39m\u001b[34;01mr2re\u001b[39;00m\n\u001b[32m    201\u001b[39m \u001b[38;5;28;01mexcept\u001b[39;00m \u001b[38;5;167;01mException\u001b[39;00m \u001b[38;5;28;01mas\u001b[39;00m e:\n\u001b[32m    202\u001b[39m     \u001b[38;5;28mself\u001b[39m._logger.error(\u001b[33m'\u001b[39m\u001b[33m[-] Unexpected error while deleting prompt: \u001b[39m\u001b[38;5;132;01m%s\u001b[39;00m\u001b[33m [-]\u001b[39m\u001b[33m'\u001b[39m, e)\n",
      "\u001b[31mR2RException\u001b[39m: {'message': \"Prompt template 'chunk_summary' not found\", 'error_type': 'R2RException'}"
     ]
    }
   ],
   "source": [
    "delete_resp = await prompts.delete_prompt_by_name(name=my_prompt.results.name)"
   ]
  }
 ],
 "metadata": {
  "kernelspec": {
   "display_name": "venv",
   "language": "python",
   "name": "python3"
  },
  "language_info": {
   "codemirror_mode": {
    "name": "ipython",
    "version": 3
   },
   "file_extension": ".py",
   "mimetype": "text/x-python",
   "name": "python",
   "nbconvert_exporter": "python",
   "pygments_lexer": "ipython3",
   "version": "3.12.9"
  }
 },
 "nbformat": 4,
 "nbformat_minor": 5
}
