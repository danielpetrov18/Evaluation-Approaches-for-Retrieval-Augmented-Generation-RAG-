{
 "cells": [
  {
   "cell_type": "code",
   "execution_count": 27,
   "id": "10459775-95e0-464e-a971-8c40cd85d50a",
   "metadata": {},
   "outputs": [],
   "source": [
    "from r2r import R2RAsyncClient\n",
    "\n",
    "client = R2RAsyncClient('http://localhost:7272')"
   ]
  },
  {
   "cell_type": "code",
   "execution_count": 28,
   "id": "a581ed7c",
   "metadata": {},
   "outputs": [],
   "source": [
    "from prompt import PromptHandler\n",
    "\n",
    "prompts = PromptHandler(client)"
   ]
  },
  {
   "cell_type": "code",
   "execution_count": 46,
   "id": "a5c08ad4",
   "metadata": {},
   "outputs": [
    {
     "name": "stdout",
     "output_type": "stream",
     "text": [
      "You are an AI research assistant with access to document retrieval tools. You should use both your internal knowledge store and web search tools to answer the user questions. Today is {date}.\n",
      "\n",
      "<AvailableTools>\n",
      "<ToolDefinition>\n",
      "    <Name>content</Name>\n",
      "    <Description>Fetch full documents using filters. Parameters must be a valid JSON object.</Description>\n",
      "    <Parameters>\n",
      "      <Parameter type=\"string\" required=\"true\">\n",
      "        <Name>filters</Name>\n",
      "        <!--\n",
      "          Double braces surrounding the entire block (for your templating),\n",
      "          single braces for JSON structure inside\n",
      "        -->\n",
      "        <Example>{{\"filters\": {{\"document_id\": {{\"$eq\": \"7e0022ec.-...\"}}}}}}</Example>\n",
      "        <Operators>$eq, $overlap</Operators>\n",
      "      </Parameter>\n",
      "    </Parameters>\n",
      "</ToolDefinition>\n",
      "\n",
      "<ToolDefinition>\n",
      "    <Name>local_search</Name>\n",
      "    <Description>Semantic search across local documents. Parameters must be a valid JSON object.</Description>\n",
      "    <Parameters>\n",
      "      <Parameter type=\"string\" required=\"true\">\n",
      "        <Name>query</Name>\n",
      "        <Example>{{\"query\": \"machine learning advances\"}}</Example>\n",
      "      </Parameter>\n",
      "    </Parameters>\n",
      "</ToolDefinition>\n",
      "\n",
      "<ToolDefinition>\n",
      "    <Name>web_search</Name>\n",
      "    <Description>External web search. Parameters must be a valid JSON object.</Description>\n",
      "    <Parameters>\n",
      "      <Parameter type=\"string\" required=\"true\">\n",
      "        <Name>query</Name>\n",
      "        <Example>{{\"query\": \"recent AI developments 2024\"}}</Example>\n",
      "      </Parameter>\n",
      "    </Parameters>\n",
      "</ToolDefinition>\n",
      "\n",
      "<ToolDefinition>\n",
      "    <Name>result</Name>\n",
      "    <Description>Complete the conversation and return a result, called after getting relevant context.</Description>\n",
      "    <Parameters>\n",
      "      <Parameter type=\"string\" required=\"true\">\n",
      "        <Name>response</Name>\n",
      "        <Example>{{\"answer\": \"The recent developments in AI include...\"}}</Example>\n",
      "      </Parameter>\n",
      "    </Parameters>\n",
      "</ToolDefinition>\n",
      "\n",
      "</AvailableTools>\n",
      "\n",
      "### Documents\n",
      "{document_context}\n",
      "\n",
      "### Collections\n",
      "{collection_context}\n",
      "\n",
      "2. DECIDE response strategy:\n",
      "- If specific document IDs are relevant: Use `content` with $eq filters\n",
      "- For broad concepts: Use `local_search` with keyword queries\n",
      "- Use web_search to gather live information\n",
      "\n",
      "3. FORMAT response STRICTLY as:\n",
      "<Action>\n",
      "  <ToolCalls>\n",
      "      <ToolCall>\n",
      "          <Name>local_search</Name>\n",
      "          <!-- Parameters MUST be a single valid JSON object -->\n",
      "          <Parameters>{{\"query\": \"example search\"}}</Parameters>\n",
      "      </ToolCall>\n",
      "      <!-- Example with nested filters -->\n",
      "      <ToolCall>\n",
      "          <Name>content</Name>\n",
      "          <Parameters>{{\"filters\": {{\"$and\": [{{\"document_id\": {{\"$eq\": \"abc123\"}}, {{\"collection_ids\": {{\"$overlap\": [\"id1\"]}}}}]}}}}}}</Parameters>\n",
      "      </ToolCall>\n",
      "  </ToolCalls>\n",
      "</Action>\n",
      "\n",
      "### Constraints\n",
      "- MAX_CONTEXT: {max_tool_context_length} tokens\n",
      "- REQUIRED: Line-item references like [1][3] when using content\n",
      "- REQUIRED: All Parameters must be valid JSON objects\n",
      "- PROHIBITED: Assuming document contents without retrieval\n",
      "- PROHIBITED: Using XML format for Parameters values\n",
      "\n",
      "### Examples\n",
      "1. Good initial search oepration:\n",
      "<Action>\n",
      "  <ToolCalls>\n",
      "    <ToolCall>\n",
      "        <Name>web_search</Name>\n",
      "        <Parameters>{{\"query\": \"recent advances in machine learning\"}}</Parameters>\n",
      "    </ToolCall>\n",
      "    <ToolCall>\n",
      "        <Name>local_search</Name>\n",
      "        <Parameters>{{\"query\": \"machine learning applications\"}}</Parameters>\n",
      "    </ToolCall>\n",
      "    <ToolCall>\n",
      "        <Name>local_search</Name>\n",
      "        <Parameters>{{\"query\": \"recent advances in machine learning\"}}</Parameters>\n",
      "    </ToolCall>\n",
      "  </ToolCalls>\n",
      "</Action>\n",
      "\n",
      "\n",
      "2. Good content call with complex filters:\n",
      "<Action>\n",
      "  <ToolCalls>\n",
      "    <ToolCall>\n",
      "        <Name>web_search</Name>\n",
      "        <Parameters>{{\"query\": \"recent advances in machine learning\"}}</Parameters>\n",
      "    </ToolCall>\n",
      "    <ToolCall>\n",
      "        <Name>content</Name>\n",
      "        <Parameters>{{\"filters\": {{\"$or\": [{{\"document_id\": {{\"$eq\": \"a5b880db-...\"}}}}, {{\"document_id\": {{\"$overlap\": [\"54b523f6-...\",\"26fc0bf5-...\"]}}}}]}}}}}}</Parameters>\n",
      "    </ToolCall>\n",
      "  </ToolCalls>\n",
      "</Action>\n",
      "\n",
      "3. After getting relevant context, use `result` to return an answer and complete the conversation:\n",
      "<Action>\n",
      "  <ToolCalls>\n",
      "      <ToolCall>\n",
      "          <Name>result</Name>\n",
      "          <Parameters>{{\"answer\": \"The recent developments in AI include...\"}}</Parameters>\n",
      "      </ToolCall>\n",
      "  </ToolCalls>\n",
      "</Action>\n",
      "\n",
      "### Important!\n",
      "Continue to take actions until you have sufficient relevant context, then return your answer with the result tool.\n",
      "You have a maximum of 100_000 context tokens or 10 iterations to find the information required.\n",
      "\n",
      "RETURN A COMPLETE AND COMPREHENSIVE ANSWER WHEN POSSIBLE.\n",
      "\n"
     ]
    }
   ],
   "source": [
    "all_prompts = await prompts.list_prompts()\n",
    "print(all_prompts.results[-1].template)"
   ]
  },
  {
   "cell_type": "code",
   "execution_count": 31,
   "id": "e4be2faf",
   "metadata": {},
   "outputs": [
    {
     "data": {
      "text/plain": [
       "GenericMessageResponse(message=\"Prompt 'chunk_summary' added successfully.\")"
      ]
     },
     "execution_count": 31,
     "metadata": {},
     "output_type": "execute_result"
    }
   ],
   "source": [
    "creation_result = await prompts.create_prompt(\"prompts/my_prompt.yaml\")\n",
    "creation_result.results"
   ]
  },
  {
   "cell_type": "code",
   "execution_count": 45,
   "id": "8f79231f",
   "metadata": {},
   "outputs": [
    {
     "name": "stderr",
     "output_type": "stream",
     "text": [
      "{'message': \"Prompt template 'chunk_summary' not found\", 'error_type': 'R2RException'}\n"
     ]
    },
    {
     "ename": "R2RException",
     "evalue": "{'message': \"Prompt template 'chunk_summary' not found\", 'error_type': 'R2RException'}",
     "output_type": "error",
     "traceback": [
      "\u001b[31m---------------------------------------------------------------------------\u001b[39m",
      "\u001b[31mR2RException\u001b[39m                              Traceback (most recent call last)",
      "\u001b[36mFile \u001b[39m\u001b[32m~/Desktop/Evaluation-Approaches-for-Retrieval-Augmented-Generation-RAG-/backend/prompt.py:142\u001b[39m, in \u001b[36mPromptHandler.get_prompt_by_name\u001b[39m\u001b[34m(self, name)\u001b[39m\n\u001b[32m    141\u001b[39m \u001b[38;5;28;01mtry\u001b[39;00m:\n\u001b[32m--> \u001b[39m\u001b[32m142\u001b[39m     prompt_resp = \u001b[38;5;28;01mawait\u001b[39;00m \u001b[38;5;28mself\u001b[39m._client.prompts.retrieve(name)\n\u001b[32m    143\u001b[39m     \u001b[38;5;28;01mreturn\u001b[39;00m prompt_resp\n",
      "\u001b[36mFile \u001b[39m\u001b[32m~/Desktop/Evaluation-Approaches-for-Retrieval-Augmented-Generation-RAG-/venv/lib/python3.12/site-packages/sdk/asnyc_methods/prompts.py:76\u001b[39m, in \u001b[36mPromptsSDK.retrieve\u001b[39m\u001b[34m(self, name, inputs, prompt_override)\u001b[39m\n\u001b[32m     75\u001b[39m     params[\u001b[33m\"\u001b[39m\u001b[33mprompt_override\u001b[39m\u001b[33m\"\u001b[39m] = prompt_override\n\u001b[32m---> \u001b[39m\u001b[32m76\u001b[39m response_dict = \u001b[38;5;28;01mawait\u001b[39;00m \u001b[38;5;28mself\u001b[39m.client._make_request(\n\u001b[32m     77\u001b[39m     \u001b[33m\"\u001b[39m\u001b[33mPOST\u001b[39m\u001b[33m\"\u001b[39m,\n\u001b[32m     78\u001b[39m     \u001b[33mf\u001b[39m\u001b[33m\"\u001b[39m\u001b[33mprompts/\u001b[39m\u001b[38;5;132;01m{\u001b[39;00mname\u001b[38;5;132;01m}\u001b[39;00m\u001b[33m\"\u001b[39m,\n\u001b[32m     79\u001b[39m     params=params,\n\u001b[32m     80\u001b[39m     version=\u001b[33m\"\u001b[39m\u001b[33mv3\u001b[39m\u001b[33m\"\u001b[39m,\n\u001b[32m     81\u001b[39m )\n\u001b[32m     83\u001b[39m \u001b[38;5;28;01mreturn\u001b[39;00m WrappedPromptResponse(**response_dict)\n",
      "\u001b[36mFile \u001b[39m\u001b[32m~/Desktop/Evaluation-Approaches-for-Retrieval-Augmented-Generation-RAG-/venv/lib/python3.12/site-packages/sdk/async_client.py:66\u001b[39m, in \u001b[36mR2RAsyncClient._make_request\u001b[39m\u001b[34m(self, method, endpoint, version, **kwargs)\u001b[39m\n\u001b[32m     65\u001b[39m response = \u001b[38;5;28;01mawait\u001b[39;00m \u001b[38;5;28mself\u001b[39m.client.request(method, url, **request_args)\n\u001b[32m---> \u001b[39m\u001b[32m66\u001b[39m \u001b[38;5;28;01mawait\u001b[39;00m \u001b[38;5;28mself\u001b[39m._handle_response(response)\n\u001b[32m     67\u001b[39m \u001b[38;5;28;01mif\u001b[39;00m \u001b[33m\"\u001b[39m\u001b[33mapplication/json\u001b[39m\u001b[33m\"\u001b[39m \u001b[38;5;129;01min\u001b[39;00m response.headers.get(\u001b[33m\"\u001b[39m\u001b[33mContent-Type\u001b[39m\u001b[33m\"\u001b[39m, \u001b[33m\"\u001b[39m\u001b[33m\"\u001b[39m):\n",
      "\u001b[36mFile \u001b[39m\u001b[32m~/Desktop/Evaluation-Approaches-for-Retrieval-Augmented-Generation-RAG-/venv/lib/python3.12/site-packages/sdk/async_client.py:113\u001b[39m, in \u001b[36mR2RAsyncClient._handle_response\u001b[39m\u001b[34m(self, response)\u001b[39m\n\u001b[32m    111\u001b[39m     message = \u001b[38;5;28mstr\u001b[39m(e)\n\u001b[32m--> \u001b[39m\u001b[32m113\u001b[39m \u001b[38;5;28;01mraise\u001b[39;00m R2RException(\n\u001b[32m    114\u001b[39m     status_code=response.status_code, message=message\n\u001b[32m    115\u001b[39m )\n",
      "\u001b[31mR2RException\u001b[39m: {'message': \"Prompt template 'chunk_summary' not found\", 'error_type': 'R2RException'}",
      "\nThe above exception was the direct cause of the following exception:\n",
      "\u001b[31mR2RException\u001b[39m                              Traceback (most recent call last)",
      "\u001b[36mCell\u001b[39m\u001b[36m \u001b[39m\u001b[32mIn[45]\u001b[39m\u001b[32m, line 1\u001b[39m\n\u001b[32m----> \u001b[39m\u001b[32m1\u001b[39m my_prompt = \u001b[38;5;28;01mawait\u001b[39;00m prompts.get_prompt_by_name(all_prompts.results[-\u001b[32m1\u001b[39m].name)\n\u001b[32m      2\u001b[39m my_prompt.results.model_dump()\n",
      "\u001b[36mFile \u001b[39m\u001b[32m~/Desktop/Evaluation-Approaches-for-Retrieval-Augmented-Generation-RAG-/backend/prompt.py:146\u001b[39m, in \u001b[36mPromptHandler.get_prompt_by_name\u001b[39m\u001b[34m(self, name)\u001b[39m\n\u001b[32m    144\u001b[39m \u001b[38;5;28;01mexcept\u001b[39;00m R2RException \u001b[38;5;28;01mas\u001b[39;00m r2re:\n\u001b[32m    145\u001b[39m     \u001b[38;5;28mself\u001b[39m._logger.error(\u001b[38;5;28mstr\u001b[39m(r2re))\n\u001b[32m--> \u001b[39m\u001b[32m146\u001b[39m     \u001b[38;5;28;01mraise\u001b[39;00m R2RException(\u001b[38;5;28mstr\u001b[39m(r2re), \u001b[32m404\u001b[39m) \u001b[38;5;28;01mfrom\u001b[39;00m\u001b[38;5;250m \u001b[39m\u001b[34;01mr2re\u001b[39;00m\n\u001b[32m    147\u001b[39m \u001b[38;5;28;01mexcept\u001b[39;00m \u001b[38;5;167;01mException\u001b[39;00m \u001b[38;5;28;01mas\u001b[39;00m e:\n\u001b[32m    148\u001b[39m     \u001b[38;5;28mself\u001b[39m._logger.error(\u001b[33m'\u001b[39m\u001b[33m[-] Unexpected error while getting prompt: \u001b[39m\u001b[38;5;132;01m%s\u001b[39;00m\u001b[33m [-]\u001b[39m\u001b[33m'\u001b[39m, e)\n",
      "\u001b[31mR2RException\u001b[39m: {'message': \"Prompt template 'chunk_summary' not found\", 'error_type': 'R2RException'}"
     ]
    }
   ],
   "source": [
    "my_prompt = await prompts.get_prompt_by_name(all_prompts.results[-1].name)\n",
    "my_prompt.results.model_dump()"
   ]
  },
  {
   "cell_type": "code",
   "execution_count": 43,
   "id": "dc41518b",
   "metadata": {},
   "outputs": [
    {
     "name": "stderr",
     "output_type": "stream",
     "text": [
      "{'message': \"Prompt template 'chunk_summary   a' not found\", 'error_type': 'R2RException'}\n"
     ]
    },
    {
     "ename": "R2RException",
     "evalue": "{'message': \"Prompt template 'chunk_summary   a' not found\", 'error_type': 'R2RException'}",
     "output_type": "error",
     "traceback": [
      "\u001b[31m---------------------------------------------------------------------------\u001b[39m",
      "\u001b[31mR2RException\u001b[39m                              Traceback (most recent call last)",
      "\u001b[36mFile \u001b[39m\u001b[32m~/Desktop/Evaluation-Approaches-for-Retrieval-Augmented-Generation-RAG-/backend/prompt.py:168\u001b[39m, in \u001b[36mPromptHandler.update_prompt\u001b[39m\u001b[34m(self, name, template, input_types)\u001b[39m\n\u001b[32m    167\u001b[39m \u001b[38;5;28;01mtry\u001b[39;00m:\n\u001b[32m--> \u001b[39m\u001b[32m168\u001b[39m     update_resp = \u001b[38;5;28;01mawait\u001b[39;00m \u001b[38;5;28mself\u001b[39m._client.prompts.update(\n\u001b[32m    169\u001b[39m         name,\n\u001b[32m    170\u001b[39m         template,\n\u001b[32m    171\u001b[39m         input_types\n\u001b[32m    172\u001b[39m     )\n\u001b[32m    173\u001b[39m     \u001b[38;5;28;01mreturn\u001b[39;00m update_resp\n",
      "\u001b[36mFile \u001b[39m\u001b[32m~/Desktop/Evaluation-Approaches-for-Retrieval-Augmented-Generation-RAG-/venv/lib/python3.12/site-packages/sdk/asnyc_methods/prompts.py:105\u001b[39m, in \u001b[36mPromptsSDK.update\u001b[39m\u001b[34m(self, name, template, input_types)\u001b[39m\n\u001b[32m    104\u001b[39m     data[\u001b[33m\"\u001b[39m\u001b[33minput_types\u001b[39m\u001b[33m\"\u001b[39m] = json.dumps(input_types)\n\u001b[32m--> \u001b[39m\u001b[32m105\u001b[39m response_dict = \u001b[38;5;28;01mawait\u001b[39;00m \u001b[38;5;28mself\u001b[39m.client._make_request(\n\u001b[32m    106\u001b[39m     \u001b[33m\"\u001b[39m\u001b[33mPUT\u001b[39m\u001b[33m\"\u001b[39m,\n\u001b[32m    107\u001b[39m     \u001b[33mf\u001b[39m\u001b[33m\"\u001b[39m\u001b[33mprompts/\u001b[39m\u001b[38;5;132;01m{\u001b[39;00mname\u001b[38;5;132;01m}\u001b[39;00m\u001b[33m\"\u001b[39m,\n\u001b[32m    108\u001b[39m     json=data,\n\u001b[32m    109\u001b[39m     version=\u001b[33m\"\u001b[39m\u001b[33mv3\u001b[39m\u001b[33m\"\u001b[39m,\n\u001b[32m    110\u001b[39m )\n\u001b[32m    112\u001b[39m \u001b[38;5;28;01mreturn\u001b[39;00m WrappedGenericMessageResponse(**response_dict)\n",
      "\u001b[36mFile \u001b[39m\u001b[32m~/Desktop/Evaluation-Approaches-for-Retrieval-Augmented-Generation-RAG-/venv/lib/python3.12/site-packages/sdk/async_client.py:66\u001b[39m, in \u001b[36mR2RAsyncClient._make_request\u001b[39m\u001b[34m(self, method, endpoint, version, **kwargs)\u001b[39m\n\u001b[32m     65\u001b[39m response = \u001b[38;5;28;01mawait\u001b[39;00m \u001b[38;5;28mself\u001b[39m.client.request(method, url, **request_args)\n\u001b[32m---> \u001b[39m\u001b[32m66\u001b[39m \u001b[38;5;28;01mawait\u001b[39;00m \u001b[38;5;28mself\u001b[39m._handle_response(response)\n\u001b[32m     67\u001b[39m \u001b[38;5;28;01mif\u001b[39;00m \u001b[33m\"\u001b[39m\u001b[33mapplication/json\u001b[39m\u001b[33m\"\u001b[39m \u001b[38;5;129;01min\u001b[39;00m response.headers.get(\u001b[33m\"\u001b[39m\u001b[33mContent-Type\u001b[39m\u001b[33m\"\u001b[39m, \u001b[33m\"\u001b[39m\u001b[33m\"\u001b[39m):\n",
      "\u001b[36mFile \u001b[39m\u001b[32m~/Desktop/Evaluation-Approaches-for-Retrieval-Augmented-Generation-RAG-/venv/lib/python3.12/site-packages/sdk/async_client.py:113\u001b[39m, in \u001b[36mR2RAsyncClient._handle_response\u001b[39m\u001b[34m(self, response)\u001b[39m\n\u001b[32m    111\u001b[39m     message = \u001b[38;5;28mstr\u001b[39m(e)\n\u001b[32m--> \u001b[39m\u001b[32m113\u001b[39m \u001b[38;5;28;01mraise\u001b[39;00m R2RException(\n\u001b[32m    114\u001b[39m     status_code=response.status_code, message=message\n\u001b[32m    115\u001b[39m )\n",
      "\u001b[31mR2RException\u001b[39m: {'message': \"Prompt template 'chunk_summary   a' not found\", 'error_type': 'R2RException'}",
      "\nThe above exception was the direct cause of the following exception:\n",
      "\u001b[31mR2RException\u001b[39m                              Traceback (most recent call last)",
      "\u001b[36mCell\u001b[39m\u001b[36m \u001b[39m\u001b[32mIn[43]\u001b[39m\u001b[32m, line 1\u001b[39m\n\u001b[32m----> \u001b[39m\u001b[32m1\u001b[39m update_resp = \u001b[38;5;28;01mawait\u001b[39;00m prompts.update_prompt(\n\u001b[32m      2\u001b[39m     name=my_prompt.results.name + \u001b[33m\"\u001b[39m\u001b[33m   a\u001b[39m\u001b[33m\"\u001b[39m,\n\u001b[32m      3\u001b[39m     template=\u001b[33m\"\u001b[39m\u001b[33mHello, World!\u001b[39m\u001b[33m\"\u001b[39m\n\u001b[32m      4\u001b[39m )\n\u001b[32m      5\u001b[39m update_resp.results\n",
      "\u001b[36mFile \u001b[39m\u001b[32m~/Desktop/Evaluation-Approaches-for-Retrieval-Augmented-Generation-RAG-/backend/prompt.py:176\u001b[39m, in \u001b[36mPromptHandler.update_prompt\u001b[39m\u001b[34m(self, name, template, input_types)\u001b[39m\n\u001b[32m    174\u001b[39m \u001b[38;5;28;01mexcept\u001b[39;00m R2RException \u001b[38;5;28;01mas\u001b[39;00m r2re:\n\u001b[32m    175\u001b[39m     \u001b[38;5;28mself\u001b[39m._logger.error(\u001b[38;5;28mstr\u001b[39m(r2re))\n\u001b[32m--> \u001b[39m\u001b[32m176\u001b[39m     \u001b[38;5;28;01mraise\u001b[39;00m R2RException(\u001b[38;5;28mstr\u001b[39m(r2re), \u001b[32m500\u001b[39m) \u001b[38;5;28;01mfrom\u001b[39;00m\u001b[38;5;250m \u001b[39m\u001b[34;01mr2re\u001b[39;00m\n\u001b[32m    177\u001b[39m \u001b[38;5;28;01mexcept\u001b[39;00m \u001b[38;5;167;01mException\u001b[39;00m \u001b[38;5;28;01mas\u001b[39;00m e:\n\u001b[32m    178\u001b[39m     \u001b[38;5;28mself\u001b[39m._logger.error(\u001b[33m'\u001b[39m\u001b[33m[-] Unexpected error while updating prompt: \u001b[39m\u001b[38;5;132;01m%s\u001b[39;00m\u001b[33m [-]\u001b[39m\u001b[33m'\u001b[39m, e)\n",
      "\u001b[31mR2RException\u001b[39m: {'message': \"Prompt template 'chunk_summary   a' not found\", 'error_type': 'R2RException'}"
     ]
    }
   ],
   "source": [
    "update_resp = await prompts.update_prompt(\n",
    "    name=my_prompt.results.name + \"   a\",\n",
    "    template=\"Hello, World!\"\n",
    ")\n",
    "update_resp.results"
   ]
  },
  {
   "cell_type": "code",
   "execution_count": 47,
   "id": "5ee7c77c",
   "metadata": {},
   "outputs": [
    {
     "name": "stderr",
     "output_type": "stream",
     "text": [
      "{'message': \"Prompt template 'chunk_summary' not found\", 'error_type': 'R2RException'}\n"
     ]
    },
    {
     "ename": "R2RException",
     "evalue": "{'message': \"Prompt template 'chunk_summary' not found\", 'error_type': 'R2RException'}",
     "output_type": "error",
     "traceback": [
      "\u001b[31m---------------------------------------------------------------------------\u001b[39m",
      "\u001b[31mR2RException\u001b[39m                              Traceback (most recent call last)",
      "\u001b[36mFile \u001b[39m\u001b[32m~/Desktop/Evaluation-Approaches-for-Retrieval-Augmented-Generation-RAG-/backend/prompt.py:196\u001b[39m, in \u001b[36mPromptHandler.delete_prompt_by_name\u001b[39m\u001b[34m(self, name)\u001b[39m\n\u001b[32m    195\u001b[39m \u001b[38;5;28;01mtry\u001b[39;00m:\n\u001b[32m--> \u001b[39m\u001b[32m196\u001b[39m     deletion_resp = \u001b[38;5;28;01mawait\u001b[39;00m \u001b[38;5;28mself\u001b[39m._client.prompts.delete(name)\n\u001b[32m    197\u001b[39m     \u001b[38;5;28;01mreturn\u001b[39;00m deletion_resp\n",
      "\u001b[36mFile \u001b[39m\u001b[32m~/Desktop/Evaluation-Approaches-for-Retrieval-Augmented-Generation-RAG-/venv/lib/python3.12/site-packages/sdk/asnyc_methods/prompts.py:122\u001b[39m, in \u001b[36mPromptsSDK.delete\u001b[39m\u001b[34m(self, name)\u001b[39m\n\u001b[32m    115\u001b[39m \u001b[38;5;250m\u001b[39m\u001b[33;03m\"\"\"Delete a prompt by name.\u001b[39;00m\n\u001b[32m    116\u001b[39m \n\u001b[32m    117\u001b[39m \u001b[33;03mArgs:\u001b[39;00m\n\u001b[32m   (...)\u001b[39m\u001b[32m    120\u001b[39m \u001b[33;03m    bool: True if deletion was successful\u001b[39;00m\n\u001b[32m    121\u001b[39m \u001b[33;03m\"\"\"\u001b[39;00m\n\u001b[32m--> \u001b[39m\u001b[32m122\u001b[39m response_dict = \u001b[38;5;28;01mawait\u001b[39;00m \u001b[38;5;28mself\u001b[39m.client._make_request(\n\u001b[32m    123\u001b[39m     \u001b[33m\"\u001b[39m\u001b[33mDELETE\u001b[39m\u001b[33m\"\u001b[39m,\n\u001b[32m    124\u001b[39m     \u001b[33mf\u001b[39m\u001b[33m\"\u001b[39m\u001b[33mprompts/\u001b[39m\u001b[38;5;132;01m{\u001b[39;00mname\u001b[38;5;132;01m}\u001b[39;00m\u001b[33m\"\u001b[39m,\n\u001b[32m    125\u001b[39m     version=\u001b[33m\"\u001b[39m\u001b[33mv3\u001b[39m\u001b[33m\"\u001b[39m,\n\u001b[32m    126\u001b[39m )\n\u001b[32m    128\u001b[39m \u001b[38;5;28;01mreturn\u001b[39;00m WrappedBooleanResponse(**response_dict)\n",
      "\u001b[36mFile \u001b[39m\u001b[32m~/Desktop/Evaluation-Approaches-for-Retrieval-Augmented-Generation-RAG-/venv/lib/python3.12/site-packages/sdk/async_client.py:66\u001b[39m, in \u001b[36mR2RAsyncClient._make_request\u001b[39m\u001b[34m(self, method, endpoint, version, **kwargs)\u001b[39m\n\u001b[32m     65\u001b[39m response = \u001b[38;5;28;01mawait\u001b[39;00m \u001b[38;5;28mself\u001b[39m.client.request(method, url, **request_args)\n\u001b[32m---> \u001b[39m\u001b[32m66\u001b[39m \u001b[38;5;28;01mawait\u001b[39;00m \u001b[38;5;28mself\u001b[39m._handle_response(response)\n\u001b[32m     67\u001b[39m \u001b[38;5;28;01mif\u001b[39;00m \u001b[33m\"\u001b[39m\u001b[33mapplication/json\u001b[39m\u001b[33m\"\u001b[39m \u001b[38;5;129;01min\u001b[39;00m response.headers.get(\u001b[33m\"\u001b[39m\u001b[33mContent-Type\u001b[39m\u001b[33m\"\u001b[39m, \u001b[33m\"\u001b[39m\u001b[33m\"\u001b[39m):\n",
      "\u001b[36mFile \u001b[39m\u001b[32m~/Desktop/Evaluation-Approaches-for-Retrieval-Augmented-Generation-RAG-/venv/lib/python3.12/site-packages/sdk/async_client.py:113\u001b[39m, in \u001b[36mR2RAsyncClient._handle_response\u001b[39m\u001b[34m(self, response)\u001b[39m\n\u001b[32m    111\u001b[39m     message = \u001b[38;5;28mstr\u001b[39m(e)\n\u001b[32m--> \u001b[39m\u001b[32m113\u001b[39m \u001b[38;5;28;01mraise\u001b[39;00m R2RException(\n\u001b[32m    114\u001b[39m     status_code=response.status_code, message=message\n\u001b[32m    115\u001b[39m )\n",
      "\u001b[31mR2RException\u001b[39m: {'message': \"Prompt template 'chunk_summary' not found\", 'error_type': 'R2RException'}",
      "\nThe above exception was the direct cause of the following exception:\n",
      "\u001b[31mR2RException\u001b[39m                              Traceback (most recent call last)",
      "\u001b[36mCell\u001b[39m\u001b[36m \u001b[39m\u001b[32mIn[47]\u001b[39m\u001b[32m, line 1\u001b[39m\n\u001b[32m----> \u001b[39m\u001b[32m1\u001b[39m delete_resp = \u001b[38;5;28;01mawait\u001b[39;00m prompts.delete_prompt_by_name(name=my_prompt.results.name)\n",
      "\u001b[36mFile \u001b[39m\u001b[32m~/Desktop/Evaluation-Approaches-for-Retrieval-Augmented-Generation-RAG-/backend/prompt.py:200\u001b[39m, in \u001b[36mPromptHandler.delete_prompt_by_name\u001b[39m\u001b[34m(self, name)\u001b[39m\n\u001b[32m    198\u001b[39m \u001b[38;5;28;01mexcept\u001b[39;00m R2RException \u001b[38;5;28;01mas\u001b[39;00m r2re:\n\u001b[32m    199\u001b[39m     \u001b[38;5;28mself\u001b[39m._logger.error(\u001b[38;5;28mstr\u001b[39m(r2re))\n\u001b[32m--> \u001b[39m\u001b[32m200\u001b[39m     \u001b[38;5;28;01mraise\u001b[39;00m R2RException(\u001b[38;5;28mstr\u001b[39m(r2re), \u001b[32m404\u001b[39m) \u001b[38;5;28;01mfrom\u001b[39;00m\u001b[38;5;250m \u001b[39m\u001b[34;01mr2re\u001b[39;00m\n\u001b[32m    201\u001b[39m \u001b[38;5;28;01mexcept\u001b[39;00m \u001b[38;5;167;01mException\u001b[39;00m \u001b[38;5;28;01mas\u001b[39;00m e:\n\u001b[32m    202\u001b[39m     \u001b[38;5;28mself\u001b[39m._logger.error(\u001b[33m'\u001b[39m\u001b[33m[-] Unexpected error while deleting prompt: \u001b[39m\u001b[38;5;132;01m%s\u001b[39;00m\u001b[33m [-]\u001b[39m\u001b[33m'\u001b[39m, e)\n",
      "\u001b[31mR2RException\u001b[39m: {'message': \"Prompt template 'chunk_summary' not found\", 'error_type': 'R2RException'}"
     ]
    }
   ],
   "source": [
    "delete_resp = await prompts.delete_prompt_by_name(name=my_prompt.results.name)"
   ]
  }
 ],
 "metadata": {
  "kernelspec": {
   "display_name": "venv",
   "language": "python",
   "name": "python3"
  },
  "language_info": {
   "codemirror_mode": {
    "name": "ipython",
    "version": 3
   },
   "file_extension": ".py",
   "mimetype": "text/x-python",
   "name": "python",
   "nbconvert_exporter": "python",
   "pygments_lexer": "ipython3",
   "version": "3.12.9"
  }
 },
 "nbformat": 4,
 "nbformat_minor": 5
}
