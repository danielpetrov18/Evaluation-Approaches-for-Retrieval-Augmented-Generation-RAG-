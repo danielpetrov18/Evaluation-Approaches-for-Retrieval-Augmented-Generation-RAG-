{
 "cells": [
  {
   "cell_type": "code",
   "execution_count": 1,
   "id": "21947df4",
   "metadata": {},
   "outputs": [
    {
     "name": "stderr",
     "output_type": "stream",
     "text": [
      "USER_AGENT environment variable not set, consider setting it to identify your requests.\n"
     ]
    }
   ],
   "source": [
    "from utility.ascrapper import AsyncScraper\n",
    "\n",
    "urls = [\n",
    "    \"https://www.scrapingbee.com/blog/how-to-make-pythons-beautiful-soup-faster-performance/\",\n",
    "    \"https://www.scrapingbee.com/blog/async-scraping-in-python/\",\n",
    "    \"https://docs.python.org/3/library/asyncio.html#module-asyncio\",\n",
    "    \"https://realpython.com/python-xml-parser/#lxml-use-elementtree-on-steroids\",\n",
    "    \"https://github.com/psf/requests-html\"\n",
    "]\n",
    "\n",
    "ascrapper = AsyncScraper(urls)"
   ]
  },
  {
   "cell_type": "code",
   "execution_count": 2,
   "id": "37fe3bc1",
   "metadata": {},
   "outputs": [
    {
     "name": "stderr",
     "output_type": "stream",
     "text": [
      "Fetching pages: 100%|##########| 5/5 [00:06<00:00,  1.20s/it]\n"
     ]
    }
   ],
   "source": [
    "documents = await ascrapper.fetch_documents()"
   ]
  },
  {
   "cell_type": "code",
   "execution_count": 3,
   "id": "cd568a1c",
   "metadata": {},
   "outputs": [
    {
     "name": "stdout",
     "output_type": "stream",
     "text": [
      "env: CHUNK_SIZE=1024\n",
      "env: CHUNK_OVERLAP=128\n"
     ]
    }
   ],
   "source": [
    "from utility.splitter import Splitter\n",
    "\n",
    "%env CHUNK_SIZE=1024\n",
    "%env CHUNK_OVERLAP=128\n",
    "\n",
    "splitter = Splitter()"
   ]
  },
  {
   "cell_type": "code",
   "execution_count": 4,
   "id": "50244545",
   "metadata": {},
   "outputs": [],
   "source": [
    "chunked_documents = splitter.split_documents(documents)"
   ]
  },
  {
   "cell_type": "code",
   "execution_count": 9,
   "id": "66159ede",
   "metadata": {},
   "outputs": [],
   "source": [
    "for url, document in zip(urls, documents):\n",
    "    safe_title = document.metadata.get('title', 'unknown').replace('/', '-').replace(':', ' -')\n",
    "    filename = f\"data/{safe_title}.md\"\n",
    "    with open(filename, mode=\"w\") as f:\n",
    "        f.write(document.page_content)"
   ]
  }
 ],
 "metadata": {
  "kernelspec": {
   "display_name": "venv",
   "language": "python",
   "name": "python3"
  },
  "language_info": {
   "codemirror_mode": {
    "name": "ipython",
    "version": 3
   },
   "file_extension": ".py",
   "mimetype": "text/x-python",
   "name": "python",
   "nbconvert_exporter": "python",
   "pygments_lexer": "ipython3",
   "version": "3.12.9"
  }
 },
 "nbformat": 4,
 "nbformat_minor": 5
}
