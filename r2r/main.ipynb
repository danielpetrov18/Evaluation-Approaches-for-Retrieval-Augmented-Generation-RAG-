{
 "cells": [
  {
   "cell_type": "code",
   "execution_count": 1,
   "metadata": {},
   "outputs": [
    {
     "name": "stderr",
     "output_type": "stream",
     "text": [
      "2024-10-20 15:55:20,231 - WARNING - langchain_community.utils.user_agent - USER_AGENT environment variable not set, consider setting it to identify your requests.\n"
     ]
    }
   ],
   "source": [
    "import os\n",
    "from r2r import R2RClient\n",
    "from scraper import Scraper\n",
    "from splitter import Splitter\n",
    "from io_helper import IOHelper\n",
    "from server import ServerHelper\n",
    "from prompt import PromptHelper\n",
    "\n",
    "client = R2RClient(os.getenv(\"R2R_HOSTNAME\", \"http://localhost:7272\"))\n",
    "scraper = Scraper()\n",
    "splitter = Splitter()\n",
    "io_helper = IOHelper()\n",
    "server = ServerHelper(client)\n",
    "prompt = PromptHelper(client)"
   ]
  },
  {
   "cell_type": "code",
   "execution_count": 3,
   "metadata": {},
   "outputs": [
    {
     "data": {
      "text/plain": [
       "{'response': 'ok'}"
      ]
     },
     "execution_count": 3,
     "metadata": {},
     "output_type": "execute_result"
    }
   ],
   "source": [
    "server.health()"
   ]
  },
  {
   "cell_type": "code",
   "execution_count": 20,
   "metadata": {},
   "outputs": [],
   "source": [
    "import yaml\n",
    "from pathlib import Path\n",
    "\n",
    "def load_prompt(directory_path):\n",
    "    if not directory_path:\n",
    "        raise ValueError(\"No directory path provided\")\n",
    "    \n",
    "    if not directory_path.is_dir():\n",
    "        error_msg = f\"The specified path is not a directory: {directory_path}\"\n",
    "        raise ValueError(error_msg)\n",
    "\n",
    "    for yaml_file in directory_path.glob(\"*.yaml\"):\n",
    "        try:\n",
    "            with open(yaml_file, \"r\") as file:\n",
    "                data = yaml.safe_load(file)\n",
    "                if not data:\n",
    "                    print(f\"Warning: YAML file {yaml_file} is empty\")\n",
    "                    continue\n",
    "                if not isinstance(data, dict):\n",
    "                    raise ValueError(f\"Invalid format in YAML file {yaml_file}\")\n",
    "                \n",
    "                for name, prompt_data in data.items():\n",
    "                    print(f'{name}, {prompt_data[\"template\"]}, {prompt_data.get(\"input_types\", {})}')\n",
    "                    \n",
    "        except yaml.YAMLError as e:\n",
    "            error_msg = f\"Error loading prompts from YAML file {yaml_file}: {e}\"\n",
    "            raise ValueError(error_msg)\n",
    "        except KeyError as e:\n",
    "            error_msg = f\"Missing key in YAML file {yaml_file}: {e}\"\n",
    "            raise ValueError(error_msg)\n",
    "        except Exception as e:\n",
    "            error_msg = f\"Unexpected error loading YAML file {yaml_file}: {e}\"\n",
    "            raise ValueError(error_msg)"
   ]
  },
  {
   "cell_type": "code",
   "execution_count": 21,
   "metadata": {},
   "outputs": [
    {
     "name": "stdout",
     "output_type": "stream",
     "text": [
      "custom_rag_template, ## Task: You are an AI assistant specialized in providing accurate and context-based responses. Your task is to answer user queries using only the information from the provided context. Your responses should be factual, comprehensive, and directly reference the given context.\n",
      "## Context: {context}\n",
      "## Query: {query}\n",
      "## Instructions: 1. Analyze the query and the provided context carefully. 2. Formulate a response based solely on the information in the context. 3. Use specific references (e.g., [1], [2]) to cite relevant parts of the context in your response. 4. Ensure your answer is as comprehensive as possible within the constraints of the given context. 5. If the query cannot be fully answered from the context:\n",
      "  a. Provide partial information if available, clearly stating what aspects you can address.\n",
      "  b. Indicate which parts of the query cannot be answered based on the given context.\n",
      "6. If the query is entirely outside the scope of the provided context, state: \"The provided context does not contain relevant information to answer this query.\" 7. Avoid making assumptions or inferring information beyond what is explicitly stated in the context. 8. Pay attention to any metadata, titles, or structural information in the context to ensure relevance and consistency. 9. If the context contains conflicting information, highlight the discrepancy and provide both viewpoints. 10. Prioritize recent information if dates are provided in the context. 11. If asked for an opinion or subjective interpretation, clarify that you can only provide information based on the given context. 12. If the context includes numerical data, present it accurately and, where appropriate, provide context or comparisons to aid understanding.\n",
      "## Response Format: 1. Brief summary of the query (1-2 sentences) 2. Comprehensive answer with specific references to the context 3. (If applicable) Clear statement of any aspects of the query that could not be addressed 4. (Optional) Suggestions for further queries that could provide more complete information, based on the available context\n",
      "## Response:\n",
      ", {'query': 'str', 'context': 'str'}\n"
     ]
    }
   ],
   "source": [
    "load_prompt(Path(\"my_templates\"))"
   ]
  },
  {
   "cell_type": "code",
   "execution_count": 9,
   "metadata": {},
   "outputs": [],
   "source": [
    "from r2r import R2RPromptProvider"
   ]
  },
  {
   "cell_type": "code",
   "execution_count": 5,
   "metadata": {},
   "outputs": [
    {
     "name": "stdout",
     "output_type": "stream",
     "text": [
      "Ingested: files\\2311.09476v2.pdf ...\n"
     ]
    }
   ],
   "source": [
    "files = list(io_helper.iterate_over_files(\"files\"))\n",
    "ingestion_resp = server.ingest_files(files)"
   ]
  },
  {
   "cell_type": "code",
   "execution_count": 6,
   "metadata": {},
   "outputs": [],
   "source": [
    "from r2r import R2RClient\n",
    "\n",
    "client = R2RClient()\n",
    "\n",
    "template = client.get_all_prompts()['results']['prompts']['default_rag']['template']\n",
    "#print(client.get_all_prompts()['results']['prompts']['rag_context']['template'])"
   ]
  },
  {
   "cell_type": "code",
   "execution_count": 9,
   "metadata": {},
   "outputs": [],
   "source": [
    "chunks = server.document_chunks(doc_id)"
   ]
  },
  {
   "cell_type": "code",
   "execution_count": 7,
   "metadata": {},
   "outputs": [],
   "source": [
    "rag_rsp = server.rag(\n",
    "    query=\"What is ARES?\",\n",
    "    task_prompt_override=template\n",
    ")"
   ]
  },
  {
   "cell_type": "code",
   "execution_count": 4,
   "metadata": {},
   "outputs": [
    {
     "name": "stdout",
     "output_type": "stream",
     "text": [
      "(0, 1)\n"
     ]
    }
   ],
   "source": [
    "print(rag_rsp['completion']['choices'][0]['message']['content'])"
   ]
  },
  {
   "cell_type": "code",
   "execution_count": 3,
   "metadata": {},
   "outputs": [
    {
     "name": "stdout",
     "output_type": "stream",
     "text": [
      "[1, 2, 3, 4, 5, 6, 7, 8, 9, 10]\n"
     ]
    }
   ],
   "source": [
    "from prompt import PromptHelper"
   ]
  },
  {
   "cell_type": "markdown",
   "metadata": {},
   "source": []
  }
 ],
 "metadata": {
  "kernelspec": {
   "display_name": "venv",
   "language": "python",
   "name": "python3"
  },
  "language_info": {
   "codemirror_mode": {
    "name": "ipython",
    "version": 3
   },
   "file_extension": ".py",
   "mimetype": "text/x-python",
   "name": "python",
   "nbconvert_exporter": "python",
   "pygments_lexer": "ipython3",
   "version": "3.12.4"
  }
 },
 "nbformat": 4,
 "nbformat_minor": 2
}
