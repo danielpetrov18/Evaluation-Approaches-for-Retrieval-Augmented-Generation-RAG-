{
 "cells": [
  {
   "cell_type": "code",
   "execution_count": 2,
   "metadata": {},
   "outputs": [
    {
     "name": "stderr",
     "output_type": "stream",
     "text": [
      "2024-10-21 20:04:54,612 - WARNING - langchain_community.utils.user_agent - USER_AGENT environment variable not set, consider setting it to identify your requests.\n"
     ]
    }
   ],
   "source": [
    "import os\n",
    "from r2r import R2RClient\n",
    "from scraper import Scraper\n",
    "from splitter import Splitter\n",
    "from io_helper import IOHelper\n",
    "from server import ServerHelper\n",
    "from prompt import PromptHelper\n",
    "\n",
    "client = R2RClient(os.getenv(\"R2R_HOSTNAME\", \"http://localhost:7272\"))\n",
    "scraper = Scraper()\n",
    "splitter = Splitter()\n",
    "io_helper = IOHelper()\n",
    "server = ServerHelper(client)\n",
    "prompt = PromptHelper(client)"
   ]
  },
  {
   "cell_type": "code",
   "execution_count": 3,
   "metadata": {},
   "outputs": [],
   "source": [
    "from r2r import R2RConfig\n",
    "\n",
    "config = R2RConfig.from_toml(\"config.toml\")"
   ]
  },
  {
   "cell_type": "code",
   "execution_count": 19,
   "metadata": {},
   "outputs": [],
   "source": [
    "from r2r import R2RClient\n",
    "\n",
    "client = R2RClient('http://localhost:7272')"
   ]
  },
  {
   "cell_type": "code",
   "execution_count": 33,
   "metadata": {},
   "outputs": [
    {
     "ename": "R2RException",
     "evalue": "{\"detail\":{\"message\":\"User with this email already exists\",\"error_type\":\"R2RException\"}}",
     "output_type": "error",
     "traceback": [
      "\u001b[1;31m---------------------------------------------------------------------------\u001b[0m",
      "\u001b[1;31mR2RException\u001b[0m                              Traceback (most recent call last)",
      "Cell \u001b[1;32mIn[33], line 6\u001b[0m\n\u001b[0;32m      3\u001b[0m \u001b[38;5;28;01mfrom\u001b[39;00m \u001b[38;5;21;01mr2r\u001b[39;00m \u001b[38;5;28;01mimport\u001b[39;00m R2RClient\n\u001b[0;32m      4\u001b[0m client \u001b[38;5;241m=\u001b[39m R2RClient(\u001b[38;5;124m'\u001b[39m\u001b[38;5;124mhttp://localhost:7272\u001b[39m\u001b[38;5;124m'\u001b[39m)\n\u001b[1;32m----> 6\u001b[0m user \u001b[38;5;241m=\u001b[39m \u001b[43mclient\u001b[49m\u001b[38;5;241;43m.\u001b[39;49m\u001b[43mregister\u001b[49m\u001b[43m(\u001b[49m\u001b[38;5;124;43m\"\u001b[39;49m\u001b[38;5;124;43mrandom@random.com\u001b[39;49m\u001b[38;5;124;43m\"\u001b[39;49m\u001b[43m,\u001b[49m\u001b[43m \u001b[49m\u001b[38;5;124;43m\"\u001b[39;49m\u001b[38;5;124;43msdadsa\u001b[39;49m\u001b[38;5;124;43m\"\u001b[39;49m\u001b[43m)\u001b[49m\n\u001b[0;32m      7\u001b[0m user\u001b[38;5;241m.\u001b[39mget(\u001b[38;5;124m'\u001b[39m\u001b[38;5;124mresults\u001b[39m\u001b[38;5;124m'\u001b[39m)\n",
      "File \u001b[1;32mc:\\Users\\danie\\Desktop\\Evaluation-Approaches-for-Retrieval-Augmented-Generation-RAG-\\venv\\Lib\\site-packages\\sdk\\client.py:223\u001b[0m, in \u001b[0;36mR2RClient.__getattr__.<locals>.sync_wrapper\u001b[1;34m(*args, **kwargs)\u001b[0m\n\u001b[0;32m    222\u001b[0m \u001b[38;5;28;01mdef\u001b[39;00m \u001b[38;5;21msync_wrapper\u001b[39m(\u001b[38;5;241m*\u001b[39margs, \u001b[38;5;241m*\u001b[39m\u001b[38;5;241m*\u001b[39mkwargs):\n\u001b[1;32m--> 223\u001b[0m     result \u001b[38;5;241m=\u001b[39m \u001b[43masyncio\u001b[49m\u001b[38;5;241;43m.\u001b[39;49m\u001b[43mget_event_loop\u001b[49m\u001b[43m(\u001b[49m\u001b[43m)\u001b[49m\u001b[38;5;241;43m.\u001b[39;49m\u001b[43mrun_until_complete\u001b[49m\u001b[43m(\u001b[49m\n\u001b[0;32m    224\u001b[0m \u001b[43m        \u001b[49m\u001b[43masync_attr\u001b[49m\u001b[43m(\u001b[49m\u001b[38;5;241;43m*\u001b[39;49m\u001b[43margs\u001b[49m\u001b[43m,\u001b[49m\u001b[43m \u001b[49m\u001b[38;5;241;43m*\u001b[39;49m\u001b[38;5;241;43m*\u001b[39;49m\u001b[43mkwargs\u001b[49m\u001b[43m)\u001b[49m\n\u001b[0;32m    225\u001b[0m \u001b[43m    \u001b[49m\u001b[43m)\u001b[49m\n\u001b[0;32m    226\u001b[0m     \u001b[38;5;28;01mif\u001b[39;00m \u001b[38;5;28misinstance\u001b[39m(result, AsyncGenerator):\n\u001b[0;32m    227\u001b[0m         \u001b[38;5;28;01mreturn\u001b[39;00m \u001b[38;5;28mself\u001b[39m\u001b[38;5;241m.\u001b[39m_sync_generator(result)\n",
      "File \u001b[1;32mc:\\Users\\danie\\Desktop\\Evaluation-Approaches-for-Retrieval-Augmented-Generation-RAG-\\venv\\Lib\\site-packages\\nest_asyncio.py:98\u001b[0m, in \u001b[0;36m_patch_loop.<locals>.run_until_complete\u001b[1;34m(self, future)\u001b[0m\n\u001b[0;32m     95\u001b[0m \u001b[38;5;28;01mif\u001b[39;00m \u001b[38;5;129;01mnot\u001b[39;00m f\u001b[38;5;241m.\u001b[39mdone():\n\u001b[0;32m     96\u001b[0m     \u001b[38;5;28;01mraise\u001b[39;00m \u001b[38;5;167;01mRuntimeError\u001b[39;00m(\n\u001b[0;32m     97\u001b[0m         \u001b[38;5;124m'\u001b[39m\u001b[38;5;124mEvent loop stopped before Future completed.\u001b[39m\u001b[38;5;124m'\u001b[39m)\n\u001b[1;32m---> 98\u001b[0m \u001b[38;5;28;01mreturn\u001b[39;00m \u001b[43mf\u001b[49m\u001b[38;5;241;43m.\u001b[39;49m\u001b[43mresult\u001b[49m\u001b[43m(\u001b[49m\u001b[43m)\u001b[49m\n",
      "File \u001b[1;32m~\\anaconda3\\Lib\\asyncio\\futures.py:203\u001b[0m, in \u001b[0;36mFuture.result\u001b[1;34m(self)\u001b[0m\n\u001b[0;32m    201\u001b[0m \u001b[38;5;28mself\u001b[39m\u001b[38;5;241m.\u001b[39m__log_traceback \u001b[38;5;241m=\u001b[39m \u001b[38;5;28;01mFalse\u001b[39;00m\n\u001b[0;32m    202\u001b[0m \u001b[38;5;28;01mif\u001b[39;00m \u001b[38;5;28mself\u001b[39m\u001b[38;5;241m.\u001b[39m_exception \u001b[38;5;129;01mis\u001b[39;00m \u001b[38;5;129;01mnot\u001b[39;00m \u001b[38;5;28;01mNone\u001b[39;00m:\n\u001b[1;32m--> 203\u001b[0m     \u001b[38;5;28;01mraise\u001b[39;00m \u001b[38;5;28mself\u001b[39m\u001b[38;5;241m.\u001b[39m_exception\u001b[38;5;241m.\u001b[39mwith_traceback(\u001b[38;5;28mself\u001b[39m\u001b[38;5;241m.\u001b[39m_exception_tb)\n\u001b[0;32m    204\u001b[0m \u001b[38;5;28;01mreturn\u001b[39;00m \u001b[38;5;28mself\u001b[39m\u001b[38;5;241m.\u001b[39m_result\n",
      "File \u001b[1;32m~\\anaconda3\\Lib\\asyncio\\tasks.py:314\u001b[0m, in \u001b[0;36mTask.__step_run_and_handle_result\u001b[1;34m(***failed resolving arguments***)\u001b[0m\n\u001b[0;32m    310\u001b[0m \u001b[38;5;28;01mtry\u001b[39;00m:\n\u001b[0;32m    311\u001b[0m     \u001b[38;5;28;01mif\u001b[39;00m exc \u001b[38;5;129;01mis\u001b[39;00m \u001b[38;5;28;01mNone\u001b[39;00m:\n\u001b[0;32m    312\u001b[0m         \u001b[38;5;66;03m# We use the `send` method directly, because coroutines\u001b[39;00m\n\u001b[0;32m    313\u001b[0m         \u001b[38;5;66;03m# don't have `__iter__` and `__next__` methods.\u001b[39;00m\n\u001b[1;32m--> 314\u001b[0m         result \u001b[38;5;241m=\u001b[39m \u001b[43mcoro\u001b[49m\u001b[38;5;241;43m.\u001b[39;49m\u001b[43msend\u001b[49m\u001b[43m(\u001b[49m\u001b[38;5;28;43;01mNone\u001b[39;49;00m\u001b[43m)\u001b[49m\n\u001b[0;32m    315\u001b[0m     \u001b[38;5;28;01melse\u001b[39;00m:\n\u001b[0;32m    316\u001b[0m         result \u001b[38;5;241m=\u001b[39m coro\u001b[38;5;241m.\u001b[39mthrow(exc)\n",
      "File \u001b[1;32mc:\\Users\\danie\\Desktop\\Evaluation-Approaches-for-Retrieval-Augmented-Generation-RAG-\\venv\\Lib\\site-packages\\sdk\\auth.py:21\u001b[0m, in \u001b[0;36mAuthMethods.register\u001b[1;34m(client, email, password)\u001b[0m\n\u001b[0;32m     10\u001b[0m \u001b[38;5;250m\u001b[39m\u001b[38;5;124;03m\"\"\"\u001b[39;00m\n\u001b[0;32m     11\u001b[0m \u001b[38;5;124;03mRegisters a new user with the given email and password.\u001b[39;00m\n\u001b[0;32m     12\u001b[0m \n\u001b[1;32m   (...)\u001b[0m\n\u001b[0;32m     18\u001b[0m \u001b[38;5;124;03m    UserResponse: The response from the server.\u001b[39;00m\n\u001b[0;32m     19\u001b[0m \u001b[38;5;124;03m\"\"\"\u001b[39;00m\n\u001b[0;32m     20\u001b[0m data \u001b[38;5;241m=\u001b[39m {\u001b[38;5;124m\"\u001b[39m\u001b[38;5;124memail\u001b[39m\u001b[38;5;124m\"\u001b[39m: email, \u001b[38;5;124m\"\u001b[39m\u001b[38;5;124mpassword\u001b[39m\u001b[38;5;124m\"\u001b[39m: password}\n\u001b[1;32m---> 21\u001b[0m \u001b[38;5;28;01mreturn\u001b[39;00m \u001b[38;5;28;01mawait\u001b[39;00m client\u001b[38;5;241m.\u001b[39m_make_request(\u001b[38;5;124m\"\u001b[39m\u001b[38;5;124mPOST\u001b[39m\u001b[38;5;124m\"\u001b[39m, \u001b[38;5;124m\"\u001b[39m\u001b[38;5;124mregister\u001b[39m\u001b[38;5;124m\"\u001b[39m, json\u001b[38;5;241m=\u001b[39mdata)\n",
      "File \u001b[1;32mc:\\Users\\danie\\Desktop\\Evaluation-Approaches-for-Retrieval-Augmented-Generation-RAG-\\venv\\Lib\\site-packages\\sdk\\client.py:143\u001b[0m, in \u001b[0;36mR2RAsyncClient._make_request\u001b[1;34m(self, method, endpoint, **kwargs)\u001b[0m\n\u001b[0;32m    139\u001b[0m \u001b[38;5;28;01mtry\u001b[39;00m:\n\u001b[0;32m    140\u001b[0m     response \u001b[38;5;241m=\u001b[39m \u001b[38;5;28;01mawait\u001b[39;00m \u001b[38;5;28mself\u001b[39m\u001b[38;5;241m.\u001b[39mclient\u001b[38;5;241m.\u001b[39mrequest(\n\u001b[0;32m    141\u001b[0m         method, url, headers\u001b[38;5;241m=\u001b[39mheaders, \u001b[38;5;241m*\u001b[39m\u001b[38;5;241m*\u001b[39mkwargs\n\u001b[0;32m    142\u001b[0m     )\n\u001b[1;32m--> 143\u001b[0m     \u001b[38;5;28;01mawait\u001b[39;00m handle_request_error_async(response)\n\u001b[0;32m    144\u001b[0m     \u001b[38;5;28;01mreturn\u001b[39;00m response\u001b[38;5;241m.\u001b[39mjson() \u001b[38;5;28;01mif\u001b[39;00m response\u001b[38;5;241m.\u001b[39mcontent \u001b[38;5;28;01melse\u001b[39;00m \u001b[38;5;28;01mNone\u001b[39;00m\n\u001b[0;32m    145\u001b[0m \u001b[38;5;28;01mexcept\u001b[39;00m httpx\u001b[38;5;241m.\u001b[39mRequestError \u001b[38;5;28;01mas\u001b[39;00m e:\n",
      "File \u001b[1;32mc:\\Users\\danie\\Desktop\\Evaluation-Approaches-for-Retrieval-Augmented-Generation-RAG-\\venv\\Lib\\site-packages\\sdk\\client.py:69\u001b[0m, in \u001b[0;36mhandle_request_error_async\u001b[1;34m(response)\u001b[0m\n\u001b[0;32m     66\u001b[0m \u001b[38;5;28;01mexcept\u001b[39;00m \u001b[38;5;167;01mException\u001b[39;00m:\n\u001b[0;32m     67\u001b[0m     message \u001b[38;5;241m=\u001b[39m response\u001b[38;5;241m.\u001b[39mtext\n\u001b[1;32m---> 69\u001b[0m \u001b[38;5;28;01mraise\u001b[39;00m R2RException(\n\u001b[0;32m     70\u001b[0m     status_code\u001b[38;5;241m=\u001b[39mresponse\u001b[38;5;241m.\u001b[39mstatus_code,\n\u001b[0;32m     71\u001b[0m     message\u001b[38;5;241m=\u001b[39mmessage,\n\u001b[0;32m     72\u001b[0m )\n",
      "\u001b[1;31mR2RException\u001b[0m: {\"detail\":{\"message\":\"User with this email already exists\",\"error_type\":\"R2RException\"}}"
     ]
    }
   ],
   "source": [
    "client.user()['results']\n",
    "\n",
    "from r2r import R2RClient\n",
    "client = R2RClient('http://localhost:7272')\n",
    "\n",
    "client.\n",
    "user = client.register(\"random@random.com\", \"sdadsa\")\n",
    "user.get('results')"
   ]
  },
  {
   "cell_type": "code",
   "execution_count": 10,
   "metadata": {},
   "outputs": [
    {
     "data": {
      "text/plain": [
       "{'results': [{'collection_id': '122fdf6a-e116-546b-a8f6-e4cb2e2c0a09',\n",
       "   'name': 'Default',\n",
       "   'description': 'Your default collection.',\n",
       "   'created_at': '2024-10-21T14:00:56.412981Z',\n",
       "   'updated_at': '2024-10-21T14:00:56.412981Z'}],\n",
       " 'total_entries': 1}"
      ]
     },
     "execution_count": 10,
     "metadata": {},
     "output_type": "execute_result"
    }
   ],
   "source": [
    "client."
   ]
  },
  {
   "cell_type": "code",
   "execution_count": 20,
   "metadata": {},
   "outputs": [],
   "source": [
    "import yaml\n",
    "from pathlib import Path\n",
    "\n",
    "def load_prompt(directory_path):\n",
    "    if not directory_path:\n",
    "        raise ValueError(\"No directory path provided\")\n",
    "    \n",
    "    if not directory_path.is_dir():\n",
    "        error_msg = f\"The specified path is not a directory: {directory_path}\"\n",
    "        raise ValueError(error_msg)\n",
    "\n",
    "    for yaml_file in directory_path.glob(\"*.yaml\"):\n",
    "        try:\n",
    "            with open(yaml_file, \"r\") as file:\n",
    "                data = yaml.safe_load(file)\n",
    "                if not data:\n",
    "                    print(f\"Warning: YAML file {yaml_file} is empty\")\n",
    "                    continue\n",
    "                if not isinstance(data, dict):\n",
    "                    raise ValueError(f\"Invalid format in YAML file {yaml_file}\")\n",
    "                \n",
    "                for name, prompt_data in data.items():\n",
    "                    print(f'{name}, {prompt_data[\"template\"]}, {prompt_data.get(\"input_types\", {})}')\n",
    "                    \n",
    "        except yaml.YAMLError as e:\n",
    "            error_msg = f\"Error loading prompts from YAML file {yaml_file}: {e}\"\n",
    "            raise ValueError(error_msg)\n",
    "        except KeyError as e:\n",
    "            error_msg = f\"Missing key in YAML file {yaml_file}: {e}\"\n",
    "            raise ValueError(error_msg)\n",
    "        except Exception as e:\n",
    "            error_msg = f\"Unexpected error loading YAML file {yaml_file}: {e}\"\n",
    "            raise ValueError(error_msg)"
   ]
  },
  {
   "cell_type": "code",
   "execution_count": 21,
   "metadata": {},
   "outputs": [
    {
     "name": "stdout",
     "output_type": "stream",
     "text": [
      "custom_rag_template, ## Task: You are an AI assistant specialized in providing accurate and context-based responses. Your task is to answer user queries using only the information from the provided context. Your responses should be factual, comprehensive, and directly reference the given context.\n",
      "## Context: {context}\n",
      "## Query: {query}\n",
      "## Instructions: 1. Analyze the query and the provided context carefully. 2. Formulate a response based solely on the information in the context. 3. Use specific references (e.g., [1], [2]) to cite relevant parts of the context in your response. 4. Ensure your answer is as comprehensive as possible within the constraints of the given context. 5. If the query cannot be fully answered from the context:\n",
      "  a. Provide partial information if available, clearly stating what aspects you can address.\n",
      "  b. Indicate which parts of the query cannot be answered based on the given context.\n",
      "6. If the query is entirely outside the scope of the provided context, state: \"The provided context does not contain relevant information to answer this query.\" 7. Avoid making assumptions or inferring information beyond what is explicitly stated in the context. 8. Pay attention to any metadata, titles, or structural information in the context to ensure relevance and consistency. 9. If the context contains conflicting information, highlight the discrepancy and provide both viewpoints. 10. Prioritize recent information if dates are provided in the context. 11. If asked for an opinion or subjective interpretation, clarify that you can only provide information based on the given context. 12. If the context includes numerical data, present it accurately and, where appropriate, provide context or comparisons to aid understanding.\n",
      "## Response Format: 1. Brief summary of the query (1-2 sentences) 2. Comprehensive answer with specific references to the context 3. (If applicable) Clear statement of any aspects of the query that could not be addressed 4. (Optional) Suggestions for further queries that could provide more complete information, based on the available context\n",
      "## Response:\n",
      ", {'query': 'str', 'context': 'str'}\n"
     ]
    }
   ],
   "source": [
    "load_prompt(Path(\"my_templates\"))"
   ]
  },
  {
   "cell_type": "code",
   "execution_count": 28,
   "metadata": {},
   "outputs": [
    {
     "name": "stdout",
     "output_type": "stream",
     "text": [
      "Ingested: files\\03 Kubernetes.pdf ...\n"
     ]
    }
   ],
   "source": [
    "files = list(io_helper.iterate_over_files(\"files\"))\n",
    "ingestion_resp = server.ingest_files(files)"
   ]
  },
  {
   "cell_type": "code",
   "execution_count": 29,
   "metadata": {},
   "outputs": [
    {
     "data": {
      "text/plain": [
       "[{'id': 'c1d89317-1011-5618-8754-4eafb384bd83',\n",
       "  'title': '03 Kubernetes.pdf',\n",
       "  'user_id': '2acb499e-8428-543b-bd85-0d9098718220',\n",
       "  'type': 'pdf',\n",
       "  'created_at': '2024-10-20T21:52:51.967235Z',\n",
       "  'updated_at': '2024-10-20T21:52:51.967239Z',\n",
       "  'ingestion_status': 'success',\n",
       "  'kg_extraction_status': 'pending',\n",
       "  'version': 'v0',\n",
       "  'collection_ids': ['122fdf6a-e116-546b-a8f6-e4cb2e2c0a09'],\n",
       "  'metadata': {'version': 'v0'}}]"
      ]
     },
     "execution_count": 29,
     "metadata": {},
     "output_type": "execute_result"
    }
   ],
   "source": []
  },
  {
   "cell_type": "code",
   "execution_count": 13,
   "metadata": {},
   "outputs": [],
   "source": [
    "chunks = server.document_chunks('c1d89317-1011-5618-8754-4eafb384bd83')"
   ]
  },
  {
   "cell_type": "code",
   "execution_count": 11,
   "metadata": {},
   "outputs": [
    {
     "name": "stdout",
     "output_type": "stream",
     "text": [
      "Based on the provided text, here's how you can create a deployment with 5 replicas that is vertically and horizontally scalable and also create a LoadBalancer:\n",
      "\n",
      "**Step 1: Create a Deployment**\n",
      "\n",
      "To create a deployment with 5 replicas, you can use the following command:\n",
      "```bash\n",
      "docker service create --replicas=5 my-service\n",
      "```\n",
      "This will create a new service named `my-service` with 5 replicas.\n",
      "\n",
      "**Step 2: Make the Service Vertically and Horizontally Scalable**\n",
      "\n",
      "To make the service vertically scalable (i.e., increase resources for each replica), you can use the following command:\n",
      "```bash\n",
      "docker service update --resource=cpu=1000m my-service\n",
      "```\n",
      "This will set the CPU resource for each replica to 1 core.\n",
      "\n",
      "To make the service horizontally scalable, you can use a load balancer. In Docker Swarm, you can create a LoadBalancer using the following command:\n",
      "```bash\n",
      "docker service create --name my-load-balancer --publish=8080:80 my-service\n",
      "```\n",
      "This will create a new service named `my-load-balancer` that exposes port 8080 on each node and routes traffic to the `my-service` service.\n",
      "\n",
      "**Step 3: Verify the Deployment**\n",
      "\n",
      "To verify that the deployment was successful, you can use the following command:\n",
      "```bash\n",
      "docker ps -a\n",
      "```\n",
      "This will show you a list of all running containers, including the replicas of your service.\n",
      "\n",
      "You can also check the load balancer by accessing it through the node's IP address and port number (e.g., `<node-ip>:8080`).\n",
      "\n",
      "Note: The above commands are based on Docker Swarm 1.12 or later versions. If you're using an earlier version, please refer to the official documentation for more information.\n"
     ]
    }
   ],
   "source": [
    "print(rag_rsp['completion']['choices'][0]['message']['content'])"
   ]
  },
  {
   "cell_type": "code",
   "execution_count": 23,
   "metadata": {},
   "outputs": [
    {
     "name": "stdout",
     "output_type": "stream",
     "text": [
      "Something went wrong! {\"detail\":{\"message\":\"Invalid token\",\"error_type\":\"R2RException\"}}\n"
     ]
    }
   ],
   "source": [
    "import os\n",
    "import requests\n",
    "\n",
    "URL = os.getenv('R2R_HOSTNAME', 'http://localhost:7272')\n",
    "\n",
    "# 1. First get a token\n",
    "LOGIN_SUFFIX = \"/v2/login\"\n",
    "\n",
    "body = {\n",
    "    \"username\": \"\",\n",
    "    \"password\": \"\"\n",
    "}\n",
    "\n",
    "# https://r2r-docs.sciphi.ai/api-reference/endpoint/login\n",
    "token_rsp = requests.post(f'{URL}{TOKEN_SUFFIX}', json=\"Refresh token\")\n",
    "\n",
    "if token_rsp.status_code == 200:\n",
    "    TOKEN = token_rsp['results']['access_token']['token']\n",
    "    \n",
    "    # INDEX_SUFFIX = \"/v2/create_vector_index\"\n",
    "    \n",
    "    # # https://r2r-docs.sciphi.ai/api-reference/endpoint/create_vector_index\n",
    "    # body = {\n",
    "    #     \"table_name\": \"CHUNKS\",\n",
    "    #     \"index_method\": \"hnsw\",\n",
    "    #     \"measure\": \"cosine_distance\",\n",
    "    #     \"replace\": False,\n",
    "    #     \"concurrently\": True\n",
    "    # }\n",
    "\n",
    "    # headers = {\n",
    "    #     \"Content-Type\": \"application/json\",\n",
    "    #     \"Authorization\": f\"Bearer {TOKEN}\"\n",
    "    # }\n",
    "\n",
    "    # resp = requests.post(f\"{URL}{INDEX_SUFFIX}\", json=body, headers=headers)\n",
    "    # print(f\"Response code: {resp.status_code} - {resp.text}\")\n",
    "else:\n",
    "    print(f'Something went wrong! {token_rsp.text}')"
   ]
  },
  {
   "cell_type": "markdown",
   "metadata": {},
   "source": []
  }
 ],
 "metadata": {
  "kernelspec": {
   "display_name": "venv",
   "language": "python",
   "name": "python3"
  },
  "language_info": {
   "codemirror_mode": {
    "name": "ipython",
    "version": 3
   },
   "file_extension": ".py",
   "mimetype": "text/x-python",
   "name": "python",
   "nbconvert_exporter": "python",
   "pygments_lexer": "ipython3",
   "version": "3.12.4"
  }
 },
 "nbformat": 4,
 "nbformat_minor": 2
}
