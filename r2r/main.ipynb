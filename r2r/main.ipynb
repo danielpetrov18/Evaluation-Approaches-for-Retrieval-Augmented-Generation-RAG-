{
 "cells": [
  {
   "cell_type": "code",
   "execution_count": 1,
   "metadata": {},
   "outputs": [
    {
     "name": "stderr",
     "output_type": "stream",
     "text": [
      "2024-10-21 23:47:38,951 - WARNING - langchain_community.utils.user_agent - USER_AGENT environment variable not set, consider setting it to identify your requests.\n"
     ]
    },
    {
     "ename": "NameError",
     "evalue": "name 'Path' is not defined",
     "output_type": "error",
     "traceback": [
      "\u001b[1;31m---------------------------------------------------------------------------\u001b[0m",
      "\u001b[1;31mKeyError\u001b[0m                                  Traceback (most recent call last)",
      "File \u001b[1;32mc:\\Users\\danie\\Desktop\\Evaluation-Approaches-for-Retrieval-Augmented-Generation-RAG-\\r2r\\r2r_backend.py:15\u001b[0m, in \u001b[0;36mR2RBackend.__init__\u001b[1;34m(self, client)\u001b[0m\n\u001b[0;32m     14\u001b[0m \u001b[38;5;28;01mtry\u001b[39;00m:\n\u001b[1;32m---> 15\u001b[0m     \u001b[38;5;28mself\u001b[39m\u001b[38;5;241m.\u001b[39m__prompt_data \u001b[38;5;241m=\u001b[39m \u001b[38;5;28;43mself\u001b[39;49m\u001b[38;5;241;43m.\u001b[39;49m\u001b[43m__client\u001b[49m\u001b[38;5;241;43m.\u001b[39;49m\u001b[43mget_all_prompts\u001b[49m\u001b[43m(\u001b[49m\u001b[43m)\u001b[49m\u001b[43m[\u001b[49m\u001b[38;5;124;43m'\u001b[39;49m\u001b[38;5;124;43mprompts\u001b[39;49m\u001b[38;5;124;43m'\u001b[39;49m\u001b[43m]\u001b[49m[\u001b[38;5;28mself\u001b[39m\u001b[38;5;241m.\u001b[39m__prompt_name]\n\u001b[0;32m     16\u001b[0m     \u001b[38;5;28mself\u001b[39m\u001b[38;5;241m.\u001b[39m__task_prompt_override \u001b[38;5;241m=\u001b[39m {\n\u001b[0;32m     17\u001b[0m         \u001b[38;5;28mself\u001b[39m\u001b[38;5;241m.\u001b[39m__prompt_name,\n\u001b[0;32m     18\u001b[0m         \u001b[38;5;28mself\u001b[39m\u001b[38;5;241m.\u001b[39m__prompt_data[\u001b[38;5;124m'\u001b[39m\u001b[38;5;124mtemplate\u001b[39m\u001b[38;5;124m'\u001b[39m],\n\u001b[0;32m     19\u001b[0m         \u001b[38;5;28mself\u001b[39m\u001b[38;5;241m.\u001b[39m__prompt_data[\u001b[38;5;124m'\u001b[39m\u001b[38;5;124minput_types\u001b[39m\u001b[38;5;124m'\u001b[39m]\n\u001b[0;32m     20\u001b[0m     }\n",
      "\u001b[1;31mKeyError\u001b[0m: 'prompts'",
      "\nDuring handling of the above exception, another exception occurred:\n",
      "\u001b[1;31mNameError\u001b[0m                                 Traceback (most recent call last)",
      "Cell \u001b[1;32mIn[1], line 10\u001b[0m\n\u001b[0;32m      8\u001b[0m scraper \u001b[38;5;241m=\u001b[39m Scraper()\n\u001b[0;32m      9\u001b[0m splitter \u001b[38;5;241m=\u001b[39m Splitter()\n\u001b[1;32m---> 10\u001b[0m r2r_backend \u001b[38;5;241m=\u001b[39m \u001b[43mR2RBackend\u001b[49m\u001b[43m(\u001b[49m\u001b[43mR2RClient\u001b[49m\u001b[43m(\u001b[49m\u001b[43mos\u001b[49m\u001b[38;5;241;43m.\u001b[39;49m\u001b[43mgetenv\u001b[49m\u001b[43m(\u001b[49m\u001b[38;5;124;43m\"\u001b[39;49m\u001b[38;5;124;43mR2R_HOSTNAME\u001b[39;49m\u001b[38;5;124;43m\"\u001b[39;49m\u001b[43m,\u001b[49m\u001b[43m \u001b[49m\u001b[38;5;124;43m\"\u001b[39;49m\u001b[38;5;124;43mhttp://localhost:7272\u001b[39;49m\u001b[38;5;124;43m\"\u001b[39;49m\u001b[43m)\u001b[49m\u001b[43m)\u001b[49m\u001b[43m)\u001b[49m\n",
      "File \u001b[1;32mc:\\Users\\danie\\Desktop\\Evaluation-Approaches-for-Retrieval-Augmented-Generation-RAG-\\r2r\\r2r_backend.py:22\u001b[0m, in \u001b[0;36mR2RBackend.__init__\u001b[1;34m(self, client)\u001b[0m\n\u001b[0;32m     16\u001b[0m     \u001b[38;5;28mself\u001b[39m\u001b[38;5;241m.\u001b[39m__task_prompt_override \u001b[38;5;241m=\u001b[39m {\n\u001b[0;32m     17\u001b[0m         \u001b[38;5;28mself\u001b[39m\u001b[38;5;241m.\u001b[39m__prompt_name,\n\u001b[0;32m     18\u001b[0m         \u001b[38;5;28mself\u001b[39m\u001b[38;5;241m.\u001b[39m__prompt_data[\u001b[38;5;124m'\u001b[39m\u001b[38;5;124mtemplate\u001b[39m\u001b[38;5;124m'\u001b[39m],\n\u001b[0;32m     19\u001b[0m         \u001b[38;5;28mself\u001b[39m\u001b[38;5;241m.\u001b[39m__prompt_data[\u001b[38;5;124m'\u001b[39m\u001b[38;5;124minput_types\u001b[39m\u001b[38;5;124m'\u001b[39m]\n\u001b[0;32m     20\u001b[0m     }\n\u001b[0;32m     21\u001b[0m \u001b[38;5;28;01mexcept\u001b[39;00m \u001b[38;5;167;01mException\u001b[39;00m \u001b[38;5;28;01mas\u001b[39;00m e:    \n\u001b[1;32m---> 22\u001b[0m     \u001b[38;5;28mself\u001b[39m\u001b[38;5;241m.\u001b[39m__prompt_data \u001b[38;5;241m=\u001b[39m load_prompt(\u001b[43mPath\u001b[49m(\u001b[38;5;124m'\u001b[39m\u001b[38;5;124mchat_templates\u001b[39m\u001b[38;5;124m'\u001b[39m), \u001b[38;5;28mself\u001b[39m\u001b[38;5;241m.\u001b[39m__prompt_name)\n\u001b[0;32m     23\u001b[0m     \u001b[38;5;28mself\u001b[39m\u001b[38;5;241m.\u001b[39m__task_prompt_override \u001b[38;5;241m=\u001b[39m {\n\u001b[0;32m     24\u001b[0m         \u001b[38;5;28mself\u001b[39m\u001b[38;5;241m.\u001b[39m__prompt_name,\n\u001b[0;32m     25\u001b[0m         \u001b[38;5;28mself\u001b[39m\u001b[38;5;241m.\u001b[39m__prompt_data[\u001b[38;5;124m'\u001b[39m\u001b[38;5;124mtemplate\u001b[39m\u001b[38;5;124m'\u001b[39m],\n\u001b[0;32m     26\u001b[0m         \u001b[38;5;28mself\u001b[39m\u001b[38;5;241m.\u001b[39m__prompt_data[\u001b[38;5;124m'\u001b[39m\u001b[38;5;124minput_types\u001b[39m\u001b[38;5;124m'\u001b[39m]\n\u001b[0;32m     27\u001b[0m     }\n\u001b[0;32m     28\u001b[0m     \u001b[38;5;28mself\u001b[39m\u001b[38;5;241m.\u001b[39madd_prompt(\u001b[38;5;28mself\u001b[39m\u001b[38;5;241m.\u001b[39m__prompt_name, \u001b[38;5;28mself\u001b[39m\u001b[38;5;241m.\u001b[39m__prompt_data[\u001b[38;5;124m'\u001b[39m\u001b[38;5;124mtemplate\u001b[39m\u001b[38;5;124m'\u001b[39m], \u001b[38;5;28mself\u001b[39m\u001b[38;5;241m.\u001b[39m__prompt_data[\u001b[38;5;124m'\u001b[39m\u001b[38;5;124minput_types\u001b[39m\u001b[38;5;124m'\u001b[39m])\n",
      "\u001b[1;31mNameError\u001b[0m: name 'Path' is not defined"
     ]
    }
   ],
   "source": [
    "import os\n",
    "from r2r import R2RClient\n",
    "from scraper import Scraper\n",
    "from splitter import Splitter\n",
    "from r2r_backend import R2RBackend\n",
    "from helper.io_helper import iterate_over_files, load_prompt\n",
    "\n",
    "scraper = Scraper()\n",
    "splitter = Splitter()\n",
    "r2r_backend = R2RBackend(R2RClient(os.getenv(\"R2R_HOSTNAME\", \"http://localhost:7272\")))"
   ]
  },
  {
   "cell_type": "code",
   "execution_count": 2,
   "metadata": {},
   "outputs": [
    {
     "ename": "NameError",
     "evalue": "name 'r2r_backend' is not defined",
     "output_type": "error",
     "traceback": [
      "\u001b[1;31m---------------------------------------------------------------------------\u001b[0m",
      "\u001b[1;31mNameError\u001b[0m                                 Traceback (most recent call last)",
      "Cell \u001b[1;32mIn[2], line 1\u001b[0m\n\u001b[1;32m----> 1\u001b[0m \u001b[43mr2r_backend\u001b[49m\u001b[38;5;241m.\u001b[39mget_all_prompts()\n",
      "\u001b[1;31mNameError\u001b[0m: name 'r2r_backend' is not defined"
     ]
    }
   ],
   "source": [
    "from r2r import "
   ]
  },
  {
   "cell_type": "code",
   "execution_count": 6,
   "metadata": {},
   "outputs": [
    {
     "data": {
      "text/plain": [
       "{'response': 'ok'}"
      ]
     },
     "execution_count": 6,
     "metadata": {},
     "output_type": "execute_result"
    }
   ],
   "source": [
    "r2r_backend.health()"
   ]
  },
  {
   "cell_type": "code",
   "execution_count": 7,
   "metadata": {},
   "outputs": [
    {
     "name": "stderr",
     "output_type": "stream",
     "text": [
      "2024-10-21 23:28:33,605 - ERROR - r2r_backend - Error during ingestion: Must increment version number before attempting to overwrite document b0e9ab39-a800-552d-a31c-d1c3f7c19968. Use the `update_files` endpoint if you are looking to update the existing version.\n"
     ]
    },
    {
     "ename": "Exception",
     "evalue": "Error during ingestion: Must increment version number before attempting to overwrite document b0e9ab39-a800-552d-a31c-d1c3f7c19968. Use the `update_files` endpoint if you are looking to update the existing version.",
     "output_type": "error",
     "traceback": [
      "\u001b[1;31m---------------------------------------------------------------------------\u001b[0m",
      "\u001b[1;31mR2RException\u001b[0m                              Traceback (most recent call last)",
      "File \u001b[1;32mc:\\Users\\danie\\Desktop\\Evaluation-Approaches-for-Retrieval-Augmented-Generation-RAG-\\r2r\\r2r_backend.py:35\u001b[0m, in \u001b[0;36mR2RBackend.ingest_files\u001b[1;34m(self, filepaths)\u001b[0m\n\u001b[0;32m     34\u001b[0m \u001b[38;5;28;01mtry\u001b[39;00m:\n\u001b[1;32m---> 35\u001b[0m     \u001b[38;5;28;43mself\u001b[39;49m\u001b[38;5;241;43m.\u001b[39;49m\u001b[43m__client\u001b[49m\u001b[38;5;241;43m.\u001b[39;49m\u001b[43mingest_files\u001b[49m\u001b[43m(\u001b[49m\u001b[43mfile_paths\u001b[49m\u001b[38;5;241;43m=\u001b[39;49m\u001b[43m[\u001b[49m\u001b[43mfilepath\u001b[49m\u001b[43m]\u001b[49m\u001b[43m)\u001b[49m\n\u001b[0;32m     36\u001b[0m     \u001b[38;5;28mself\u001b[39m\u001b[38;5;241m.\u001b[39m__logger\u001b[38;5;241m.\u001b[39mdebug(\u001b[38;5;124mf\u001b[39m\u001b[38;5;124m'\u001b[39m\u001b[38;5;124mIngested: \u001b[39m\u001b[38;5;132;01m{\u001b[39;00mfilepath\u001b[38;5;132;01m}\u001b[39;00m\u001b[38;5;124m ...\u001b[39m\u001b[38;5;124m'\u001b[39m)\n",
      "File \u001b[1;32mc:\\Users\\danie\\Desktop\\Evaluation-Approaches-for-Retrieval-Augmented-Generation-RAG-\\venv\\Lib\\site-packages\\sdk\\client.py:223\u001b[0m, in \u001b[0;36mR2RClient.__getattr__.<locals>.sync_wrapper\u001b[1;34m(*args, **kwargs)\u001b[0m\n\u001b[0;32m    222\u001b[0m \u001b[38;5;28;01mdef\u001b[39;00m \u001b[38;5;21msync_wrapper\u001b[39m(\u001b[38;5;241m*\u001b[39margs, \u001b[38;5;241m*\u001b[39m\u001b[38;5;241m*\u001b[39mkwargs):\n\u001b[1;32m--> 223\u001b[0m     result \u001b[38;5;241m=\u001b[39m \u001b[43masyncio\u001b[49m\u001b[38;5;241;43m.\u001b[39;49m\u001b[43mget_event_loop\u001b[49m\u001b[43m(\u001b[49m\u001b[43m)\u001b[49m\u001b[38;5;241;43m.\u001b[39;49m\u001b[43mrun_until_complete\u001b[49m\u001b[43m(\u001b[49m\n\u001b[0;32m    224\u001b[0m \u001b[43m        \u001b[49m\u001b[43masync_attr\u001b[49m\u001b[43m(\u001b[49m\u001b[38;5;241;43m*\u001b[39;49m\u001b[43margs\u001b[49m\u001b[43m,\u001b[49m\u001b[43m \u001b[49m\u001b[38;5;241;43m*\u001b[39;49m\u001b[38;5;241;43m*\u001b[39;49m\u001b[43mkwargs\u001b[49m\u001b[43m)\u001b[49m\n\u001b[0;32m    225\u001b[0m \u001b[43m    \u001b[49m\u001b[43m)\u001b[49m\n\u001b[0;32m    226\u001b[0m     \u001b[38;5;28;01mif\u001b[39;00m \u001b[38;5;28misinstance\u001b[39m(result, AsyncGenerator):\n",
      "File \u001b[1;32mc:\\Users\\danie\\Desktop\\Evaluation-Approaches-for-Retrieval-Augmented-Generation-RAG-\\venv\\Lib\\site-packages\\nest_asyncio.py:98\u001b[0m, in \u001b[0;36m_patch_loop.<locals>.run_until_complete\u001b[1;34m(self, future)\u001b[0m\n\u001b[0;32m     96\u001b[0m     \u001b[38;5;28;01mraise\u001b[39;00m \u001b[38;5;167;01mRuntimeError\u001b[39;00m(\n\u001b[0;32m     97\u001b[0m         \u001b[38;5;124m'\u001b[39m\u001b[38;5;124mEvent loop stopped before Future completed.\u001b[39m\u001b[38;5;124m'\u001b[39m)\n\u001b[1;32m---> 98\u001b[0m \u001b[38;5;28;01mreturn\u001b[39;00m \u001b[43mf\u001b[49m\u001b[38;5;241;43m.\u001b[39;49m\u001b[43mresult\u001b[49m\u001b[43m(\u001b[49m\u001b[43m)\u001b[49m\n",
      "File \u001b[1;32m~\\anaconda3\\Lib\\asyncio\\futures.py:203\u001b[0m, in \u001b[0;36mFuture.result\u001b[1;34m(self)\u001b[0m\n\u001b[0;32m    202\u001b[0m \u001b[38;5;28;01mif\u001b[39;00m \u001b[38;5;28mself\u001b[39m\u001b[38;5;241m.\u001b[39m_exception \u001b[38;5;129;01mis\u001b[39;00m \u001b[38;5;129;01mnot\u001b[39;00m \u001b[38;5;28;01mNone\u001b[39;00m:\n\u001b[1;32m--> 203\u001b[0m     \u001b[38;5;28;01mraise\u001b[39;00m \u001b[38;5;28mself\u001b[39m\u001b[38;5;241m.\u001b[39m_exception\u001b[38;5;241m.\u001b[39mwith_traceback(\u001b[38;5;28mself\u001b[39m\u001b[38;5;241m.\u001b[39m_exception_tb)\n\u001b[0;32m    204\u001b[0m \u001b[38;5;28;01mreturn\u001b[39;00m \u001b[38;5;28mself\u001b[39m\u001b[38;5;241m.\u001b[39m_result\n",
      "File \u001b[1;32m~\\anaconda3\\Lib\\asyncio\\tasks.py:314\u001b[0m, in \u001b[0;36mTask.__step_run_and_handle_result\u001b[1;34m(***failed resolving arguments***)\u001b[0m\n\u001b[0;32m    311\u001b[0m \u001b[38;5;28;01mif\u001b[39;00m exc \u001b[38;5;129;01mis\u001b[39;00m \u001b[38;5;28;01mNone\u001b[39;00m:\n\u001b[0;32m    312\u001b[0m     \u001b[38;5;66;03m# We use the `send` method directly, because coroutines\u001b[39;00m\n\u001b[0;32m    313\u001b[0m     \u001b[38;5;66;03m# don't have `__iter__` and `__next__` methods.\u001b[39;00m\n\u001b[1;32m--> 314\u001b[0m     result \u001b[38;5;241m=\u001b[39m \u001b[43mcoro\u001b[49m\u001b[38;5;241;43m.\u001b[39;49m\u001b[43msend\u001b[49m\u001b[43m(\u001b[49m\u001b[38;5;28;43;01mNone\u001b[39;49;00m\u001b[43m)\u001b[49m\n\u001b[0;32m    315\u001b[0m \u001b[38;5;28;01melse\u001b[39;00m:\n",
      "File \u001b[1;32mc:\\Users\\danie\\Desktop\\Evaluation-Approaches-for-Retrieval-Augmented-Generation-RAG-\\venv\\Lib\\site-packages\\sdk\\ingestion.py:72\u001b[0m, in \u001b[0;36mIngestionMethods.ingest_files\u001b[1;34m(client, file_paths, document_ids, metadatas, ingestion_config)\u001b[0m\n\u001b[0;32m     70\u001b[0m     data[\u001b[38;5;124m\"\u001b[39m\u001b[38;5;124mingestion_config\u001b[39m\u001b[38;5;124m\"\u001b[39m] \u001b[38;5;241m=\u001b[39m json\u001b[38;5;241m.\u001b[39mdumps(ingestion_config)\n\u001b[1;32m---> 72\u001b[0m \u001b[38;5;28;01mreturn\u001b[39;00m \u001b[38;5;28;01mawait\u001b[39;00m client\u001b[38;5;241m.\u001b[39m_make_request(\n\u001b[0;32m     73\u001b[0m     \u001b[38;5;124m\"\u001b[39m\u001b[38;5;124mPOST\u001b[39m\u001b[38;5;124m\"\u001b[39m, \u001b[38;5;124m\"\u001b[39m\u001b[38;5;124mingest_files\u001b[39m\u001b[38;5;124m\"\u001b[39m, data\u001b[38;5;241m=\u001b[39mdata, files\u001b[38;5;241m=\u001b[39mfiles_tuples\n\u001b[0;32m     74\u001b[0m )\n",
      "File \u001b[1;32mc:\\Users\\danie\\Desktop\\Evaluation-Approaches-for-Retrieval-Augmented-Generation-RAG-\\venv\\Lib\\site-packages\\sdk\\client.py:143\u001b[0m, in \u001b[0;36mR2RAsyncClient._make_request\u001b[1;34m(self, method, endpoint, **kwargs)\u001b[0m\n\u001b[0;32m    140\u001b[0m response \u001b[38;5;241m=\u001b[39m \u001b[38;5;28;01mawait\u001b[39;00m \u001b[38;5;28mself\u001b[39m\u001b[38;5;241m.\u001b[39mclient\u001b[38;5;241m.\u001b[39mrequest(\n\u001b[0;32m    141\u001b[0m     method, url, headers\u001b[38;5;241m=\u001b[39mheaders, \u001b[38;5;241m*\u001b[39m\u001b[38;5;241m*\u001b[39mkwargs\n\u001b[0;32m    142\u001b[0m )\n\u001b[1;32m--> 143\u001b[0m \u001b[38;5;28;01mawait\u001b[39;00m handle_request_error_async(response)\n\u001b[0;32m    144\u001b[0m \u001b[38;5;28;01mreturn\u001b[39;00m response\u001b[38;5;241m.\u001b[39mjson() \u001b[38;5;28;01mif\u001b[39;00m response\u001b[38;5;241m.\u001b[39mcontent \u001b[38;5;28;01melse\u001b[39;00m \u001b[38;5;28;01mNone\u001b[39;00m\n",
      "File \u001b[1;32mc:\\Users\\danie\\Desktop\\Evaluation-Approaches-for-Retrieval-Augmented-Generation-RAG-\\venv\\Lib\\site-packages\\sdk\\client.py:69\u001b[0m, in \u001b[0;36mhandle_request_error_async\u001b[1;34m(response)\u001b[0m\n\u001b[0;32m     67\u001b[0m     message \u001b[38;5;241m=\u001b[39m response\u001b[38;5;241m.\u001b[39mtext\n\u001b[1;32m---> 69\u001b[0m \u001b[38;5;28;01mraise\u001b[39;00m R2RException(\n\u001b[0;32m     70\u001b[0m     status_code\u001b[38;5;241m=\u001b[39mresponse\u001b[38;5;241m.\u001b[39mstatus_code,\n\u001b[0;32m     71\u001b[0m     message\u001b[38;5;241m=\u001b[39mmessage,\n\u001b[0;32m     72\u001b[0m )\n",
      "\u001b[1;31mR2RException\u001b[0m: {\"detail\":{\"message\":\"Error during ingestion: Must increment version number before attempting to overwrite document b0e9ab39-a800-552d-a31c-d1c3f7c19968. Use the `update_files` endpoint if you are looking to update the existing version.\",\"error_type\":\"R2RException\"}}",
      "\nDuring handling of the above exception, another exception occurred:\n",
      "\u001b[1;31mException\u001b[0m                                 Traceback (most recent call last)",
      "Cell \u001b[1;32mIn[7], line 2\u001b[0m\n\u001b[0;32m      1\u001b[0m files \u001b[38;5;241m=\u001b[39m \u001b[38;5;28mlist\u001b[39m(iterate_over_files(\u001b[38;5;124m\"\u001b[39m\u001b[38;5;124mfiles\u001b[39m\u001b[38;5;124m\"\u001b[39m))\n\u001b[1;32m----> 2\u001b[0m ingestion_resp \u001b[38;5;241m=\u001b[39m \u001b[43mr2r_backend\u001b[49m\u001b[38;5;241;43m.\u001b[39;49m\u001b[43mingest_files\u001b[49m\u001b[43m(\u001b[49m\u001b[43mfiles\u001b[49m\u001b[43m)\u001b[49m\n",
      "File \u001b[1;32mc:\\Users\\danie\\Desktop\\Evaluation-Approaches-for-Retrieval-Augmented-Generation-RAG-\\r2r\\r2r_backend.py:40\u001b[0m, in \u001b[0;36mR2RBackend.ingest_files\u001b[1;34m(self, filepaths)\u001b[0m\n\u001b[0;32m     38\u001b[0m     err_msg \u001b[38;5;241m=\u001b[39m parse_r2r_error(r2re)\n\u001b[0;32m     39\u001b[0m     \u001b[38;5;28mself\u001b[39m\u001b[38;5;241m.\u001b[39m__logger\u001b[38;5;241m.\u001b[39merror(err_msg)\n\u001b[1;32m---> 40\u001b[0m     \u001b[38;5;28;01mraise\u001b[39;00m \u001b[38;5;167;01mException\u001b[39;00m(err_msg)\n\u001b[0;32m     41\u001b[0m \u001b[38;5;28;01mexcept\u001b[39;00m \u001b[38;5;167;01mException\u001b[39;00m \u001b[38;5;28;01mas\u001b[39;00m e:\n\u001b[0;32m     42\u001b[0m     \u001b[38;5;28mself\u001b[39m\u001b[38;5;241m.\u001b[39m__logger\u001b[38;5;241m.\u001b[39merror(e)\n",
      "\u001b[1;31mException\u001b[0m: Error during ingestion: Must increment version number before attempting to overwrite document b0e9ab39-a800-552d-a31c-d1c3f7c19968. Use the `update_files` endpoint if you are looking to update the existing version."
     ]
    }
   ],
   "source": [
    "files = list(iterate_over_files(\"files\"))\n",
    "ingestion_resp = r2r_backend.ingest_files(files)"
   ]
  },
  {
   "cell_type": "code",
   "execution_count": 3,
   "metadata": {},
   "outputs": [],
   "source": [
    "urls = [\"https://en.wikipedia.org/wiki/Bitcoin\", \"https://en.wikipedia.org/wiki/Dogecoin\"]"
   ]
  },
  {
   "cell_type": "code",
   "execution_count": 7,
   "metadata": {},
   "outputs": [],
   "source": [
    "documents = scraper.fetch_documents(urls)\n",
    "for document in documents:\n",
    "    split_document = splitter.split_documents([document])\n",
    "    chunks = [{\"text\": chunk.page_content} for chunk in split_document]\n",
    "    metadata = document.metadata\n",
    "    r2r_backend.ingest_chunks(chunks, metadata)"
   ]
  },
  {
   "cell_type": "code",
   "execution_count": 12,
   "metadata": {},
   "outputs": [
    {
     "data": {
      "text/plain": [
       "'^ Sigalos, MacKenzie (October 27, 2022). \"Dogecoin surges 35% as Elon Musk\\'s Twitter deal approaches close\". CNBC. Archived from the original on October 28, 2023. Retrieved October 28, 2023.\\n^ Leffer, Lauren (April 7, 2023). \"Doge\\'s Twitter Reign Ends, Triggering Memecoin Slump\". Gizmodo. Archived from the original on April 8, 2023. Retrieved April 8, 2023.'"
      ]
     },
     "execution_count": 12,
     "metadata": {},
     "output_type": "execute_result"
    }
   ],
   "source": [
    "doc_id = r2r_backend.documents_overview()[0]['id']\n",
    "chunks = r2r_backend.document_chunks(doc_id)"
   ]
  },
  {
   "cell_type": "code",
   "execution_count": 2,
   "metadata": {},
   "outputs": [
    {
     "name": "stdout",
     "output_type": "stream",
     "text": [
      "Based on the provided context, here's a response to the query:\n",
      "\n",
      "Blockchain is a decentralized digital ledger that records transactions across a peer-to-peer network. It's implemented as an ordered list of blocks, each containing a SHA-256 hash of the previous block, chaining them in chronological order [2]. The blockchain is maintained by a peer-to-peer network, and individual blocks, public addresses, and transactions within blocks are public information that can be examined using a blockchain explorer [3].\n",
      "\n",
      "In the context of Bitcoin, the blockchain is used to record all bitcoin transactions. Nodes in the peer-to-peer bitcoin network verify transactions through cryptography and record them in the blockchain without central oversight [1]. The consensus between nodes is achieved using a computationally intensive process based on proof of work, called mining, that secures the bitcoin blockchain [1].\n",
      "\n",
      "The \"Princeton\" definition of blockchain describes it as a linked list built with hash pointers instead of pointers, where each block contains a digest of the previous block and serves as a chain of blocks that can be used to verify transactions [3]. This definition highlights the importance of maintaining an immutable record of transactions, which is essential for the security and integrity of the Bitcoin network.\n",
      "\n",
      "In summary, blockchain is a digital ledger technology that enables secure, transparent, and decentralized recording of transactions. In the context of Bitcoin, it serves as the backbone of the network, allowing nodes to verify and agree on a common set of transactions through the use of proof-of-work consensus mechanisms.\n"
     ]
    }
   ],
   "source": [
    "query = input(\"Enter your query: \")\n",
    "rag_rsp = r2r_backend.rag(query)\n",
    "print(rag_rsp['completion']['choices'][0]['message']['content'])"
   ]
  },
  {
   "cell_type": "code",
   "execution_count": 7,
   "metadata": {},
   "outputs": [
    {
     "data": {
      "text/plain": [
       "{'message': \"Prompt 'custom_rag_template' added successfully.\"}"
      ]
     },
     "execution_count": 7,
     "metadata": {},
     "output_type": "execute_result"
    }
   ],
   "source": [
    "from pathlib import Path\n",
    "prompt_name = 'custom_rag_template'\n",
    "prompt_data = load_prompt(Path('chat_templates'), prompt_name)\n",
    "template = prompt_data['template']\n",
    "input_types = prompt_data['input_types']\n",
    "\n",
    "r2r_backend.add_prompt(prompt_name, template, input_types)"
   ]
  },
  {
   "cell_type": "code",
   "execution_count": 14,
   "metadata": {},
   "outputs": [
    {
     "data": {
      "text/plain": [
       "{'name': 'custom_rag_template',\n",
       " 'template': '## Task: You are an AI assistant specialized in providing accurate and context-based responses. Your task is to answer user queries using only the information from the provided context. Your responses should be factual, comprehensive, and directly reference the given context.\\n## Context: {context}\\n## Query: {query}\\n## Instructions: 1. Analyze the query and the provided context carefully. 2. Formulate a response based solely on the information in the context. 3. Use specific references (e.g., [1], [2]) to cite relevant parts of the context in your response. 4. Ensure your answer is as comprehensive as possible within the constraints of the given context. 5. If the query cannot be fully answered from the context:\\n  a. Provide partial information if available, clearly stating what aspects you can address.\\n  b. Indicate which parts of the query cannot be answered based on the given context.\\n6. If the query is entirely outside the scope of the provided context, state: \"The provided context does not contain relevant information to answer this query.\" 7. Avoid making assumptions or inferring information beyond what is explicitly stated in the context. 8. Pay attention to any metadata, titles, or structural information in the context to ensure relevance and consistency. 9. If the context contains conflicting information, highlight the discrepancy and provide both viewpoints. 10. Prioritize recent information if dates are provided in the context. 11. If asked for an opinion or subjective interpretation, clarify that you can only provide information based on the given context. 12. If the context includes numerical data, present it accurately and, where appropriate, provide context or comparisons to aid understanding.\\n## Response Format: 1. Brief summary of the query (1-2 sentences) 2. Comprehensive answer with specific references to the context 3. (If applicable) Clear statement of any aspects of the query that could not be addressed 4. (Optional) Suggestions for further queries that could provide more complete information, based on the available context\\n## Response:\\n',\n",
       " 'created_at': '2024-10-21T21:32:05.752286',\n",
       " 'updated_at': '2024-10-21T21:32:05.752290',\n",
       " 'input_types': {'query': 'str', 'context': 'str'}}"
      ]
     },
     "execution_count": 14,
     "metadata": {},
     "output_type": "execute_result"
    }
   ],
   "source": [
    "r2r_backend.get_all_prompts()['prompts']['custom_rag_template']"
   ]
  },
  {
   "cell_type": "markdown",
   "metadata": {},
   "source": []
  }
 ],
 "metadata": {
  "kernelspec": {
   "display_name": "venv",
   "language": "python",
   "name": "python3"
  },
  "language_info": {
   "codemirror_mode": {
    "name": "ipython",
    "version": 3
   },
   "file_extension": ".py",
   "mimetype": "text/x-python",
   "name": "python",
   "nbconvert_exporter": "python",
   "pygments_lexer": "ipython3",
   "version": "3.12.4"
  }
 },
 "nbformat": 4,
 "nbformat_minor": 2
}
