{
 "cells": [
  {
   "cell_type": "code",
   "execution_count": 1,
   "metadata": {},
   "outputs": [
    {
     "data": {
      "text/plain": [
       "True"
      ]
     },
     "execution_count": 1,
     "metadata": {},
     "output_type": "execute_result"
    }
   ],
   "source": [
    "import os\n",
    "from dotenv import load_dotenv\n",
    "\n",
    "parent_dir = os.path.abspath(os.path.join(os.getcwd(), '..'))\n",
    "dotenv_path = os.path.join(parent_dir, '.env')\n",
    "load_dotenv(dotenv_path)"
   ]
  },
  {
   "cell_type": "code",
   "execution_count": 2,
   "metadata": {},
   "outputs": [],
   "source": [
    "from llama_index.core import SimpleDirectoryReader\n",
    "\n",
    "def load_docs(folder_path: str):\n",
    "    reader = SimpleDirectoryReader(folder_path, recursive=True)\n",
    "    docs = reader.load_data()\n",
    "    lc_docs = [doc.to_langchain_format() for doc in docs]\n",
    "    return lc_docs"
   ]
  },
  {
   "cell_type": "code",
   "execution_count": 3,
   "metadata": {},
   "outputs": [],
   "source": [
    "docs = load_docs(\"./data\")"
   ]
  },
  {
   "cell_type": "code",
   "execution_count": 4,
   "metadata": {},
   "outputs": [],
   "source": [
    "from langchain_ollama.llms import OllamaLLM\n",
    "from langchain_ollama import OllamaEmbeddings\n",
    "# from ragas.llms import LangchainLLMWrapper\n",
    "# from ragas.embeddings import LangchainEmbeddingsWrapper\n",
    "\n",
    "CHAT_MODEL = os.getenv(\"OLLAMA_CHAT_MODEL\")\n",
    "EMBEDDING_MODEL = os.getenv(\"OLLAMA_EMBEDDING_MODEL\")\n",
    "\n",
    "ollama_llm = OllamaLLM(model=CHAT_MODEL)\n",
    "ollama_embedding = OllamaEmbeddings(model=EMBEDDING_MODEL)\n",
    "\n",
    "# ollama_llm_wrapper = LangchainLLMWrapper(ollama_llm)\n",
    "# ollama_embedding_wrapper = LangchainEmbeddingsWrapper(ollama_embedding)"
   ]
  },
  {
   "cell_type": "code",
   "execution_count": 11,
   "metadata": {},
   "outputs": [],
   "source": [
    "from ragas.testset import TestsetGenerator\n",
    "\n",
    "generator = TestsetGenerator.from_langchain(\n",
    "    llm=ollama_llm, \n",
    "    embedding_model=ollama_embedding\n",
    ")"
   ]
  },
  {
   "cell_type": "code",
   "execution_count": 7,
   "metadata": {},
   "outputs": [],
   "source": [
    "from ragas.testset.synthesizers import default_query_distribution\n",
    "\n",
    "query_distribution = default_query_distribution(ollama_llm)"
   ]
  },
  {
   "cell_type": "code",
   "execution_count": null,
   "metadata": {},
   "outputs": [
    {
     "name": "stderr",
     "output_type": "stream",
     "text": [
      "Applying HeadlinesExtractor:  42%|████▏     | 31/73 [30:19<1:15:44, 108.21s/it]unable to apply transformation: 'StringIO' object has no attribute 'headlines'\n",
      "Applying HeadlinesExtractor:  44%|████▍     | 32/73 [30:58<59:44, 87.42s/it]   Prompt fix_output_format failed to parse output: The output parser failed to parse the output including retries.\n",
      "Prompt fix_output_format failed to parse output: The output parser failed to parse the output including retries.\n",
      "Prompt fix_output_format failed to parse output: The output parser failed to parse the output including retries.\n",
      "Prompt headlines_extractor_prompt failed to parse output: The output parser failed to parse the output including retries.\n",
      "unable to apply transformation: The output parser failed to parse the output including retries.\n",
      "Applying HeadlinesExtractor:  49%|████▉     | 36/73 [35:54<47:46, 77.49s/it]   Prompt fix_output_format failed to parse output: The output parser failed to parse the output including retries.\n",
      "Prompt fix_output_format failed to parse output: The output parser failed to parse the output including retries.\n",
      "Prompt fix_output_format failed to parse output: The output parser failed to parse the output including retries.\n",
      "Prompt headlines_extractor_prompt failed to parse output: The output parser failed to parse the output including retries.\n",
      "unable to apply transformation: The output parser failed to parse the output including retries.\n",
      "Applying HeadlinesExtractor:  52%|█████▏    | 38/73 [40:20<1:00:54, 104.40s/it]unable to apply transformation: 'StringIO' object has no attribute 'headlines'\n",
      "Applying HeadlinesExtractor:  62%|██████▏   | 45/73 [46:30<33:07, 70.96s/it]   Prompt fix_output_format failed to parse output: The output parser failed to parse the output including retries.\n",
      "Prompt fix_output_format failed to parse output: The output parser failed to parse the output including retries.\n",
      "Prompt fix_output_format failed to parse output: The output parser failed to parse the output including retries.\n",
      "Prompt headlines_extractor_prompt failed to parse output: The output parser failed to parse the output including retries.\n",
      "unable to apply transformation: The output parser failed to parse the output including retries.\n",
      "Applying HeadlinesExtractor:  63%|██████▎   | 46/73 [46:40<23:44, 52.75s/it]Prompt fix_output_format failed to parse output: The output parser failed to parse the output including retries.\n",
      "Prompt fix_output_format failed to parse output: The output parser failed to parse the output including retries.\n",
      "Prompt fix_output_format failed to parse output: The output parser failed to parse the output including retries.\n",
      "Prompt headlines_extractor_prompt failed to parse output: The output parser failed to parse the output including retries.\n",
      "unable to apply transformation: The output parser failed to parse the output including retries.\n",
      "Applying HeadlinesExtractor:  66%|██████▌   | 48/73 [47:20<14:39, 35.17s/it]Prompt fix_output_format failed to parse output: The output parser failed to parse the output including retries.\n",
      "Prompt fix_output_format failed to parse output: The output parser failed to parse the output including retries.\n",
      "Prompt fix_output_format failed to parse output: The output parser failed to parse the output including retries.\n",
      "Prompt headlines_extractor_prompt failed to parse output: The output parser failed to parse the output including retries.\n",
      "unable to apply transformation: The output parser failed to parse the output including retries.\n",
      "Applying HeadlinesExtractor:  67%|██████▋   | 49/73 [47:33<11:26, 28.61s/it]Prompt fix_output_format failed to parse output: The output parser failed to parse the output including retries.\n",
      "Prompt fix_output_format failed to parse output: The output parser failed to parse the output including retries.\n",
      "Prompt fix_output_format failed to parse output: The output parser failed to parse the output including retries.\n",
      "Prompt headlines_extractor_prompt failed to parse output: The output parser failed to parse the output including retries.\n",
      "unable to apply transformation: The output parser failed to parse the output including retries.\n",
      "Applying HeadlinesExtractor:  75%|███████▌  | 55/73 [52:28<11:19, 37.75s/it]"
     ]
    }
   ],
   "source": [
    "TEST_SET_SIZE = int(os.getenv(\"TEST_SET_SIZE\"))\n",
    "\n",
    "generator.generate_with_langchain_docs(\n",
    "    documents=docs,\n",
    "    testset_size=TEST_SET_SIZE,\n",
    "    query_distribution=query_distribution,\n",
    "    with_debugging_logs=True\n",
    ")"
   ]
  }
 ],
 "metadata": {
  "kernelspec": {
   "display_name": "windows_venv",
   "language": "python",
   "name": "python3"
  },
  "language_info": {
   "codemirror_mode": {
    "name": "ipython",
    "version": 3
   },
   "file_extension": ".py",
   "mimetype": "text/x-python",
   "name": "python",
   "nbconvert_exporter": "python",
   "pygments_lexer": "ipython3",
   "version": "3.12.0"
  }
 },
 "nbformat": 4,
 "nbformat_minor": 2
}
