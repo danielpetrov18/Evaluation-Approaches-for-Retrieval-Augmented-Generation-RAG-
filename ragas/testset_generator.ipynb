{
 "cells": [
  {
   "cell_type": "code",
   "execution_count": 27,
   "metadata": {},
   "outputs": [
    {
     "data": {
      "text/plain": [
       "True"
      ]
     },
     "execution_count": 27,
     "metadata": {},
     "output_type": "execute_result"
    }
   ],
   "source": [
    "import os\n",
    "from dotenv import load_dotenv\n",
    "\n",
    "parent_dir = os.path.abspath(os.path.join(os.getcwd(), '..'))\n",
    "dotenv_path = os.path.join(parent_dir, '.env')\n",
    "load_dotenv(dotenv_path)"
   ]
  },
  {
   "cell_type": "code",
   "execution_count": 32,
   "metadata": {},
   "outputs": [],
   "source": [
    "from llama_index.core import SimpleDirectoryReader\n",
    "\n",
    "def load_docs(folder_path: str):\n",
    "    reader = SimpleDirectoryReader(folder_path, recursive=True)\n",
    "    docs = reader.load_data(show_progress=True)\n",
    "    lc_docs = [doc.to_langchain_format() for doc in docs]\n",
    "    return lc_docs"
   ]
  },
  {
   "cell_type": "code",
   "execution_count": 29,
   "metadata": {},
   "outputs": [],
   "source": [
    "from langchain_ollama.llms import OllamaLLM\n",
    "from langchain_ollama import OllamaEmbeddings\n",
    "\n",
    "CHAT_MODEL = os.getenv(\"OLLAMA_CHAT_MODEL\")\n",
    "EMBEDDING_MODEL = os.getenv(\"OLLAMA_EMBEDDING_MODEL\")\n",
    "\n",
    "ollama_llm = OllamaLLM(model=CHAT_MODEL)\n",
    "ollama_embedding = OllamaEmbeddings(model=EMBEDDING_MODEL)\n"
   ]
  },
  {
   "cell_type": "code",
   "execution_count": null,
   "metadata": {},
   "outputs": [],
   "source": [
    "from ragas.testset import TestsetGenerator\n",
    "\n",
    "documents = load_docs(\"./data\")\n",
    "generator = TestsetGenerator.from_langchain(llm=ollama_llm, embedding_model=ollama_embedding)\n",
    "dataset = generator.generate_with_langchain_docs(documents, testset_size=100)"
   ]
  }
 ],
 "metadata": {
  "kernelspec": {
   "display_name": "venv",
   "language": "python",
   "name": "python3"
  },
  "language_info": {
   "codemirror_mode": {
    "name": "ipython",
    "version": 3
   },
   "file_extension": ".py",
   "mimetype": "text/x-python",
   "name": "python",
   "nbconvert_exporter": "python",
   "pygments_lexer": "ipython3",
   "version": "3.12.3"
  }
 },
 "nbformat": 4,
 "nbformat_minor": 2
}
